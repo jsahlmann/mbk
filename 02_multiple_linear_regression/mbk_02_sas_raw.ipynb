{
 "cells": [
  {
   "cell_type": "markdown",
   "id": "df8091c6-2036-476c-b540-77db13c8369e",
   "metadata": {},
   "source": [
    "# 02 - Simple linear regression"
   ]
  },
  {
   "cell_type": "markdown",
   "id": "8cf7dd5a-4d82-471f-8a41-39e05dbdde32",
   "metadata": {},
   "source": [
    "## Data"
   ]
  },
  {
   "cell_type": "markdown",
   "id": "f4874aaa-1498-44be-8371-053af86b4735",
   "metadata": {},
   "source": [
    "Source of data: UCLA\n",
    "\n",
    "Introduction to regression in R. UCLA: Statistical Consulting Group. \r\n",
    "fromhttps://stats.oarc.ucla.edu/r/seminars/introduction-to-regression-in-r/.\n",
    "\n",
    "elementary school academic performance index\n",
    "https://stats.idre.ucla.edu/wp-content/uploads/2019/02/elemapi2v2.csv\n",
    "\n",
    "Data set elemapi2.csv"
   ]
  },
  {
   "cell_type": "code",
   "execution_count": 1,
   "id": "09e0948e-f67e-4798-8b78-888edfcf8a78",
   "metadata": {},
   "outputs": [
    {
     "data": {
      "text/html": [
       "<table class=\"dataframe\">\n",
       "<caption>A tibble: 6 × 22</caption>\n",
       "<thead>\n",
       "\t<tr><th scope=col>snum</th><th scope=col>dnum</th><th scope=col>api00</th><th scope=col>api99</th><th scope=col>growth</th><th scope=col>meals</th><th scope=col>ell</th><th scope=col>yr_rnd</th><th scope=col>mobility</th><th scope=col>acs_k3</th><th scope=col>⋯</th><th scope=col>hsg</th><th scope=col>some_col</th><th scope=col>col_grad</th><th scope=col>grad_sch</th><th scope=col>avg_ed</th><th scope=col>full</th><th scope=col>emer</th><th scope=col>enroll</th><th scope=col>mealcat</th><th scope=col>collcat</th></tr>\n",
       "\t<tr><th scope=col>&lt;dbl&gt;</th><th scope=col>&lt;dbl&gt;</th><th scope=col>&lt;dbl&gt;</th><th scope=col>&lt;dbl&gt;</th><th scope=col>&lt;dbl&gt;</th><th scope=col>&lt;dbl&gt;</th><th scope=col>&lt;dbl&gt;</th><th scope=col>&lt;dbl&gt;</th><th scope=col>&lt;dbl&gt;</th><th scope=col>&lt;dbl&gt;</th><th scope=col>⋯</th><th scope=col>&lt;dbl&gt;</th><th scope=col>&lt;dbl&gt;</th><th scope=col>&lt;dbl&gt;</th><th scope=col>&lt;dbl&gt;</th><th scope=col>&lt;dbl&gt;</th><th scope=col>&lt;dbl&gt;</th><th scope=col>&lt;dbl&gt;</th><th scope=col>&lt;dbl&gt;</th><th scope=col>&lt;dbl&gt;</th><th scope=col>&lt;dbl&gt;</th></tr>\n",
       "</thead>\n",
       "<tbody>\n",
       "\t<tr><td> 906</td><td>41</td><td>693</td><td>600</td><td>93</td><td>67</td><td> 9</td><td>0</td><td>11</td><td>16</td><td>⋯</td><td> 0</td><td> 0</td><td> 0</td><td> 0</td><td>  NA</td><td> 76</td><td>24</td><td>247</td><td>2</td><td>1</td></tr>\n",
       "\t<tr><td> 889</td><td>41</td><td>570</td><td>501</td><td>69</td><td>92</td><td>21</td><td>0</td><td>33</td><td>15</td><td>⋯</td><td> 0</td><td> 0</td><td> 0</td><td> 0</td><td>  NA</td><td> 79</td><td>19</td><td>463</td><td>3</td><td>1</td></tr>\n",
       "\t<tr><td> 887</td><td>41</td><td>546</td><td>472</td><td>74</td><td>97</td><td>29</td><td>0</td><td>36</td><td>17</td><td>⋯</td><td> 0</td><td> 0</td><td> 0</td><td> 0</td><td>  NA</td><td> 68</td><td>29</td><td>395</td><td>3</td><td>1</td></tr>\n",
       "\t<tr><td> 876</td><td>41</td><td>571</td><td>487</td><td>84</td><td>90</td><td>27</td><td>0</td><td>27</td><td>20</td><td>⋯</td><td>45</td><td> 9</td><td> 9</td><td> 0</td><td>1.91</td><td> 87</td><td>11</td><td>418</td><td>3</td><td>1</td></tr>\n",
       "\t<tr><td> 888</td><td>41</td><td>478</td><td>425</td><td>53</td><td>89</td><td>30</td><td>0</td><td>44</td><td>18</td><td>⋯</td><td>50</td><td> 0</td><td> 0</td><td> 0</td><td>1.50</td><td> 87</td><td>13</td><td>520</td><td>3</td><td>1</td></tr>\n",
       "\t<tr><td>4284</td><td>98</td><td>858</td><td>844</td><td>14</td><td>10</td><td> 3</td><td>0</td><td>10</td><td>20</td><td>⋯</td><td> 8</td><td>24</td><td>36</td><td>31</td><td>3.89</td><td>100</td><td> 0</td><td>343</td><td>1</td><td>2</td></tr>\n",
       "</tbody>\n",
       "</table>\n"
      ],
      "text/latex": [
       "A tibble: 6 × 22\n",
       "\\begin{tabular}{lllllllllllllllllllll}\n",
       " snum & dnum & api00 & api99 & growth & meals & ell & yr\\_rnd & mobility & acs\\_k3 & ⋯ & hsg & some\\_col & col\\_grad & grad\\_sch & avg\\_ed & full & emer & enroll & mealcat & collcat\\\\\n",
       " <dbl> & <dbl> & <dbl> & <dbl> & <dbl> & <dbl> & <dbl> & <dbl> & <dbl> & <dbl> & ⋯ & <dbl> & <dbl> & <dbl> & <dbl> & <dbl> & <dbl> & <dbl> & <dbl> & <dbl> & <dbl>\\\\\n",
       "\\hline\n",
       "\t  906 & 41 & 693 & 600 & 93 & 67 &  9 & 0 & 11 & 16 & ⋯ &  0 &  0 &  0 &  0 &   NA &  76 & 24 & 247 & 2 & 1\\\\\n",
       "\t  889 & 41 & 570 & 501 & 69 & 92 & 21 & 0 & 33 & 15 & ⋯ &  0 &  0 &  0 &  0 &   NA &  79 & 19 & 463 & 3 & 1\\\\\n",
       "\t  887 & 41 & 546 & 472 & 74 & 97 & 29 & 0 & 36 & 17 & ⋯ &  0 &  0 &  0 &  0 &   NA &  68 & 29 & 395 & 3 & 1\\\\\n",
       "\t  876 & 41 & 571 & 487 & 84 & 90 & 27 & 0 & 27 & 20 & ⋯ & 45 &  9 &  9 &  0 & 1.91 &  87 & 11 & 418 & 3 & 1\\\\\n",
       "\t  888 & 41 & 478 & 425 & 53 & 89 & 30 & 0 & 44 & 18 & ⋯ & 50 &  0 &  0 &  0 & 1.50 &  87 & 13 & 520 & 3 & 1\\\\\n",
       "\t 4284 & 98 & 858 & 844 & 14 & 10 &  3 & 0 & 10 & 20 & ⋯ &  8 & 24 & 36 & 31 & 3.89 & 100 &  0 & 343 & 1 & 2\\\\\n",
       "\\end{tabular}\n"
      ],
      "text/markdown": [
       "\n",
       "A tibble: 6 × 22\n",
       "\n",
       "| snum &lt;dbl&gt; | dnum &lt;dbl&gt; | api00 &lt;dbl&gt; | api99 &lt;dbl&gt; | growth &lt;dbl&gt; | meals &lt;dbl&gt; | ell &lt;dbl&gt; | yr_rnd &lt;dbl&gt; | mobility &lt;dbl&gt; | acs_k3 &lt;dbl&gt; | ⋯ ⋯ | hsg &lt;dbl&gt; | some_col &lt;dbl&gt; | col_grad &lt;dbl&gt; | grad_sch &lt;dbl&gt; | avg_ed &lt;dbl&gt; | full &lt;dbl&gt; | emer &lt;dbl&gt; | enroll &lt;dbl&gt; | mealcat &lt;dbl&gt; | collcat &lt;dbl&gt; |\n",
       "|---|---|---|---|---|---|---|---|---|---|---|---|---|---|---|---|---|---|---|---|---|\n",
       "|  906 | 41 | 693 | 600 | 93 | 67 |  9 | 0 | 11 | 16 | ⋯ |  0 |  0 |  0 |  0 |   NA |  76 | 24 | 247 | 2 | 1 |\n",
       "|  889 | 41 | 570 | 501 | 69 | 92 | 21 | 0 | 33 | 15 | ⋯ |  0 |  0 |  0 |  0 |   NA |  79 | 19 | 463 | 3 | 1 |\n",
       "|  887 | 41 | 546 | 472 | 74 | 97 | 29 | 0 | 36 | 17 | ⋯ |  0 |  0 |  0 |  0 |   NA |  68 | 29 | 395 | 3 | 1 |\n",
       "|  876 | 41 | 571 | 487 | 84 | 90 | 27 | 0 | 27 | 20 | ⋯ | 45 |  9 |  9 |  0 | 1.91 |  87 | 11 | 418 | 3 | 1 |\n",
       "|  888 | 41 | 478 | 425 | 53 | 89 | 30 | 0 | 44 | 18 | ⋯ | 50 |  0 |  0 |  0 | 1.50 |  87 | 13 | 520 | 3 | 1 |\n",
       "| 4284 | 98 | 858 | 844 | 14 | 10 |  3 | 0 | 10 | 20 | ⋯ |  8 | 24 | 36 | 31 | 3.89 | 100 |  0 | 343 | 1 | 2 |\n",
       "\n"
      ],
      "text/plain": [
       "  snum dnum api00 api99 growth meals ell yr_rnd mobility acs_k3 ⋯ hsg some_col\n",
       "1  906 41   693   600   93     67     9  0      11       16     ⋯  0   0      \n",
       "2  889 41   570   501   69     92    21  0      33       15     ⋯  0   0      \n",
       "3  887 41   546   472   74     97    29  0      36       17     ⋯  0   0      \n",
       "4  876 41   571   487   84     90    27  0      27       20     ⋯ 45   9      \n",
       "5  888 41   478   425   53     89    30  0      44       18     ⋯ 50   0      \n",
       "6 4284 98   858   844   14     10     3  0      10       20     ⋯  8  24      \n",
       "  col_grad grad_sch avg_ed full emer enroll mealcat collcat\n",
       "1  0        0         NA    76  24   247    2       1      \n",
       "2  0        0         NA    79  19   463    3       1      \n",
       "3  0        0         NA    68  29   395    3       1      \n",
       "4  9        0       1.91    87  11   418    3       1      \n",
       "5  0        0       1.50    87  13   520    3       1      \n",
       "6 36       31       3.89   100   0   343    1       2      "
      ]
     },
     "metadata": {},
     "output_type": "display_data"
    }
   ],
   "source": [
    "library(readr)\n",
    "elemapi2 <- read_csv(\"data/elemapi2.csv\",\n",
    "                 show_col_types = FALSE)\n",
    "head(elemapi2)\n"
   ]
  },
  {
   "cell_type": "markdown",
   "id": "5e3e5853-4e74-43f7-b9fb-f9a42816fcad",
   "metadata": {},
   "source": [
    "## SAS program snippet"
   ]
  },
  {
   "cell_type": "markdown",
   "id": "72a25d47-c22e-4226-89b2-8e8625f61f8c",
   "metadata": {},
   "source": [
    "The following SAS code will be executed."
   ]
  },
  {
   "cell_type": "raw",
   "id": "b171d2d0-81ef-41e8-8987-5c68601be412",
   "metadata": {},
   "source": [
    "proc reg data = dat.elemapi2;\n",
    "  model api00 = ell meals yr_rnd mobility acs_k3 acs_46 full emer enroll / stb;\n",
    "run;\n"
   ]
  },
  {
   "cell_type": "markdown",
   "id": "8ba915c3-ca1a-48a4-98d9-96d277613b10",
   "metadata": {},
   "source": [
    "The option /stb provides standardized estimates."
   ]
  },
  {
   "cell_type": "markdown",
   "id": "5fcf9f00-3a07-4e34-805c-de0f95d4d76a",
   "metadata": {},
   "source": [
    "## Results"
   ]
  },
  {
   "cell_type": "markdown",
   "id": "3d365e27-c7c5-4936-90db-8392fae3a124",
   "metadata": {},
   "source": [
    "The output is divided into blocks to explain it and to reproduce it afterwards in the different languages."
   ]
  },
  {
   "cell_type": "markdown",
   "id": "40ce206b-826d-42c6-bc39-c588864d99b7",
   "metadata": {},
   "source": [
    "### Block 1\n",
    "![Block 1](img_screenshots/block_1.png)"
   ]
  },
  {
   "cell_type": "markdown",
   "id": "1b3d8b8a-b025-4482-8d09-639f9614bc79",
   "metadata": {},
   "source": [
    "Number of observations read is the number of observations in the dataset.\n",
    "\n",
    "Number of observation used is the number of complete cases regarding the variables used for the SAS program snippet.\n",
    "\n",
    "Number of observations with missing values in the model variables."
   ]
  },
  {
   "cell_type": "markdown",
   "id": "09f48c70-5dd6-4e6a-984e-6ed29408f555",
   "metadata": {},
   "source": [
    "### Block 2\n",
    "![Block 2](img_screenshots/block_2.png)"
   ]
  },
  {
   "cell_type": "markdown",
   "id": "49effba1-d7b9-44bd-9e51-8ae12c6bd8d0",
   "metadata": {},
   "source": [
    "An analysis of variance was performed for the data.\n",
    "\n",
    "#### Source\n",
    "The column source in this table presents the sources of variance. They are divided into\n",
    "\n",
    "-  Model,\n",
    "-  Residual, and\n",
    "-  Total.\n",
    "\n",
    "Model stands for the variance which is explained by the independent variables.\n",
    "\n",
    "Total stands for the total variance which can be divided into the variance explained from the model and the variance not explained from the model called residual or error.\n",
    "\n",
    "Sum of squares of model plus sum of squares of error is equal to the total sum of squares.\n",
    "\n",
    "#### DF\n",
    "\n",
    "The degrees of freedom are calculated as follows:\n",
    "\n",
    "The df for total is the number of used observations minus one.\n",
    "\n",
    "The df for the total is the number of variables in the model minus one. The intercept is counting as one variable if not explicitely omitted.\n",
    "\n",
    "The for for the error is the difference of $df_{total} - df_{model}$.\n",
    "\n",
    "#### Sum of squares\n",
    "\n",
    "Calculation of sum squares might be added here later.\n",
    "\n",
    "It can be found in several other tutorials.\n",
    "\n",
    "#### Mean square\n",
    "\n",
    "The mean square is the sum of squares divided by the degrees of freedom.\n",
    "\n",
    "#### F-Value\n",
    "\n",
    "The F-value is the mean square model divided by the mean square error. The degrees of freedom are $df_{model}$ and $df_{error}$.\n",
    "\n",
    "#### Pr > F\n",
    "\n",
    "The null hypothesis tested is that there is no linear relationship between the independent and the dependent variables.\n",
    "\n",
    "The alternative hypothesis states that there is a linear relationship.\n"
   ]
  },
  {
   "cell_type": "markdown",
   "id": "c600c9a5-619f-4495-80e6-85c89a18877d",
   "metadata": {},
   "source": [
    "### Block 3\n",
    "![Block 3](img_screenshots/block_3.png)"
   ]
  },
  {
   "cell_type": "markdown",
   "id": "8db617ba-815b-4d44-9383-8c36320a9d04",
   "metadata": {},
   "source": [
    "### Root MSE\n",
    "\n",
    "Root MSE is the standard deviation of the error term.\n",
    "\n",
    "It is the square root of the mean square error (or residual).\n",
    "\n",
    "### Dependent mean\n",
    "\n",
    "The dependent mean is the mean of the dependent variable of those observations which were used and not omitted.\n",
    "\n",
    "### Coeff Var\n",
    "\n",
    "The coefficient of variation is the root MSE divided by the dependent mean. It is a measure of variation in the data.\n",
    "\n",
    "### R-square\n",
    "\n",
    "R-square is the proportion of the explained variance based on the total variance. Sum of square model divided by sum of square total.\n",
    "\n",
    "### Adj R-Sq\n",
    "\n",
    "Adjusted R-square adjusts for the relation between the number of variables (k) in the model and the number of observations (N) in the dataset.\n",
    "\n",
    "$R_{adj} = 1 – ((1 – Rsq)((N – 1) / (N – k – 1))$\n",
    "\n"
   ]
  },
  {
   "cell_type": "markdown",
   "id": "e76ff54b-9339-4c00-bb4e-c5deea17de63",
   "metadata": {},
   "source": [
    "### Block 4\n",
    "![Block 4](img_screenshots/block_4.png)"
   ]
  },
  {
   "cell_type": "markdown",
   "id": "7ab28463-dbe3-4148-911b-47780ee08a57",
   "metadata": {},
   "source": [
    "#### Variable\n",
    "\n",
    "This column refers to the name of the variable in the model.\n",
    "\n",
    "#### DF\n",
    "\n",
    "The degrees of freedom are one for continous and binary variable. For categorial variables they are equal to the number of levels minus.\n",
    "\n",
    "#### Parameter estimate\n",
    "\n",
    "This columns containts the values which are the $b_i$ in the model.\n",
    "\n",
    "$\\hat{y} = b_0 + b_1 * x_1 + b_2 * x_2 + ... + b_n * x_n$\n",
    "\n",
    "$api00 = 758.94 - 0.86 * ell - 2.95 * meals ...$\n",
    "\n",
    "#### Standard error\n",
    "\n",
    "The standard errors are provided for each variable.\n",
    "\n",
    "They can be used for calculating the t-value: Parameter estimate divided by standard error.   \n",
    "\n",
    "#### t value\n",
    "\n",
    "The null hypothesis tested is that the coefficient is zero.\n",
    "\n",
    "The alternative hypothesis is that the coefficient is unequal to zero.\n",
    "\n",
    "#### Pr > |t|\n",
    "\n",
    "p is provided for a two-sided test. It can be divided by two for a one-sided test.\n",
    "\n",
    "#### Standardized estimate\n",
    "\n",
    "This estimates results after standardizing all continous variables before including them into the model.\n"
   ]
  },
  {
   "cell_type": "code",
   "execution_count": null,
   "id": "6ca2d729-3490-48a5-bfa0-760be2bdc0fb",
   "metadata": {},
   "outputs": [],
   "source": [
    "\n"
   ]
  }
 ],
 "metadata": {
  "kernelspec": {
   "display_name": "R 4.3.2",
   "language": "R",
   "name": "ir432"
  },
  "language_info": {
   "codemirror_mode": "r",
   "file_extension": ".r",
   "mimetype": "text/x-r-source",
   "name": "R",
   "pygments_lexer": "r",
   "version": "4.3.2"
  }
 },
 "nbformat": 4,
 "nbformat_minor": 5
}
