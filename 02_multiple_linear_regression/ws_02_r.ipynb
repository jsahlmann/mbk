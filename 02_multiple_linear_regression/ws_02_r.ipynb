{
 "cells": [
  {
   "cell_type": "markdown",
   "id": "7a2e8866",
   "metadata": {},
   "source": [
    "# Working sheet \n",
    "## 02 - Multiple linear regression with R\n",
    "V02.01.00 - 2024-02-17"
   ]
  },
  {
   "cell_type": "markdown",
   "id": "1a4bf8e0",
   "metadata": {},
   "source": [
    "## Load data\n",
    "\n",
    "Change the path and the file name in the following box."
   ]
  },
  {
   "cell_type": "code",
   "execution_count": 8,
   "id": "2f6de889",
   "metadata": {},
   "outputs": [],
   "source": [
    "library(readr)\n",
    "df <- read_csv(\"data/elemapi2.csv\",\n",
    "                 show_col_types = FALSE)\n"
   ]
  },
  {
   "cell_type": "markdown",
   "id": "601c16ce",
   "metadata": {},
   "source": [
    "Look at the structure and the head of the dataset."
   ]
  },
  {
   "cell_type": "code",
   "execution_count": 9,
   "id": "981c5c9c",
   "metadata": {},
   "outputs": [
    {
     "name": "stdout",
     "output_type": "stream",
     "text": [
      "spc_tbl_ [400 × 22] (S3: spec_tbl_df/tbl_df/tbl/data.frame)\n",
      " $ snum    : num [1:400] 906 889 887 876 888 ...\n",
      " $ dnum    : num [1:400] 41 41 41 41 41 98 98 108 108 108 ...\n",
      " $ api00   : num [1:400] 693 570 546 571 478 858 918 831 860 737 ...\n",
      " $ api99   : num [1:400] 600 501 472 487 425 844 864 791 838 703 ...\n",
      " $ growth  : num [1:400] 93 69 74 84 53 14 54 40 22 34 ...\n",
      " $ meals   : num [1:400] 67 92 97 90 89 10 5 2 5 29 ...\n",
      " $ ell     : num [1:400] 9 21 29 27 30 3 2 3 6 15 ...\n",
      " $ yr_rnd  : num [1:400] 0 0 0 0 0 0 0 0 0 0 ...\n",
      " $ mobility: num [1:400] 11 33 36 27 44 10 16 44 10 17 ...\n",
      " $ acs_k3  : num [1:400] 16 15 17 20 18 20 19 20 20 21 ...\n",
      " $ acs_46  : num [1:400] 22 32 25 30 31 33 28 31 30 29 ...\n",
      " $ not_hsg : num [1:400] 0 0 0 36 50 1 1 0 2 8 ...\n",
      " $ hsg     : num [1:400] 0 0 0 45 50 8 4 4 9 25 ...\n",
      " $ some_col: num [1:400] 0 0 0 9 0 24 18 16 15 34 ...\n",
      " $ col_grad: num [1:400] 0 0 0 9 0 36 34 50 42 27 ...\n",
      " $ grad_sch: num [1:400] 0 0 0 0 0 31 43 30 33 7 ...\n",
      " $ avg_ed  : num [1:400] NA NA NA 1.91 1.5 ...\n",
      " $ full    : num [1:400] 76 79 68 87 87 100 100 96 100 96 ...\n",
      " $ emer    : num [1:400] 24 19 29 11 13 0 0 2 0 7 ...\n",
      " $ enroll  : num [1:400] 247 463 395 418 520 ...\n",
      " $ mealcat : num [1:400] 2 3 3 3 3 1 1 1 1 1 ...\n",
      " $ collcat : num [1:400] 1 1 1 1 1 2 2 2 2 3 ...\n",
      " - attr(*, \"spec\")=\n",
      "  .. cols(\n",
      "  ..   snum = \u001b[32mcol_double()\u001b[39m,\n",
      "  ..   dnum = \u001b[32mcol_double()\u001b[39m,\n",
      "  ..   api00 = \u001b[32mcol_double()\u001b[39m,\n",
      "  ..   api99 = \u001b[32mcol_double()\u001b[39m,\n",
      "  ..   growth = \u001b[32mcol_double()\u001b[39m,\n",
      "  ..   meals = \u001b[32mcol_double()\u001b[39m,\n",
      "  ..   ell = \u001b[32mcol_double()\u001b[39m,\n",
      "  ..   yr_rnd = \u001b[32mcol_double()\u001b[39m,\n",
      "  ..   mobility = \u001b[32mcol_double()\u001b[39m,\n",
      "  ..   acs_k3 = \u001b[32mcol_double()\u001b[39m,\n",
      "  ..   acs_46 = \u001b[32mcol_double()\u001b[39m,\n",
      "  ..   not_hsg = \u001b[32mcol_double()\u001b[39m,\n",
      "  ..   hsg = \u001b[32mcol_double()\u001b[39m,\n",
      "  ..   some_col = \u001b[32mcol_double()\u001b[39m,\n",
      "  ..   col_grad = \u001b[32mcol_double()\u001b[39m,\n",
      "  ..   grad_sch = \u001b[32mcol_double()\u001b[39m,\n",
      "  ..   avg_ed = \u001b[32mcol_double()\u001b[39m,\n",
      "  ..   full = \u001b[32mcol_double()\u001b[39m,\n",
      "  ..   emer = \u001b[32mcol_double()\u001b[39m,\n",
      "  ..   enroll = \u001b[32mcol_double()\u001b[39m,\n",
      "  ..   mealcat = \u001b[32mcol_double()\u001b[39m,\n",
      "  ..   collcat = \u001b[32mcol_double()\u001b[39m\n",
      "  .. )\n",
      " - attr(*, \"problems\")=<externalptr> \n"
     ]
    }
   ],
   "source": [
    "str(df)"
   ]
  },
  {
   "cell_type": "code",
   "execution_count": 10,
   "id": "350a7ee3",
   "metadata": {},
   "outputs": [
    {
     "data": {
      "text/html": [
       "<table class=\"dataframe\">\n",
       "<caption>A tibble: 6 × 22</caption>\n",
       "<thead>\n",
       "\t<tr><th scope=col>snum</th><th scope=col>dnum</th><th scope=col>api00</th><th scope=col>api99</th><th scope=col>growth</th><th scope=col>meals</th><th scope=col>ell</th><th scope=col>yr_rnd</th><th scope=col>mobility</th><th scope=col>acs_k3</th><th scope=col>⋯</th><th scope=col>hsg</th><th scope=col>some_col</th><th scope=col>col_grad</th><th scope=col>grad_sch</th><th scope=col>avg_ed</th><th scope=col>full</th><th scope=col>emer</th><th scope=col>enroll</th><th scope=col>mealcat</th><th scope=col>collcat</th></tr>\n",
       "\t<tr><th scope=col>&lt;dbl&gt;</th><th scope=col>&lt;dbl&gt;</th><th scope=col>&lt;dbl&gt;</th><th scope=col>&lt;dbl&gt;</th><th scope=col>&lt;dbl&gt;</th><th scope=col>&lt;dbl&gt;</th><th scope=col>&lt;dbl&gt;</th><th scope=col>&lt;dbl&gt;</th><th scope=col>&lt;dbl&gt;</th><th scope=col>&lt;dbl&gt;</th><th scope=col>⋯</th><th scope=col>&lt;dbl&gt;</th><th scope=col>&lt;dbl&gt;</th><th scope=col>&lt;dbl&gt;</th><th scope=col>&lt;dbl&gt;</th><th scope=col>&lt;dbl&gt;</th><th scope=col>&lt;dbl&gt;</th><th scope=col>&lt;dbl&gt;</th><th scope=col>&lt;dbl&gt;</th><th scope=col>&lt;dbl&gt;</th><th scope=col>&lt;dbl&gt;</th></tr>\n",
       "</thead>\n",
       "<tbody>\n",
       "\t<tr><td> 906</td><td>41</td><td>693</td><td>600</td><td>93</td><td>67</td><td> 9</td><td>0</td><td>11</td><td>16</td><td>⋯</td><td> 0</td><td> 0</td><td> 0</td><td> 0</td><td>  NA</td><td> 76</td><td>24</td><td>247</td><td>2</td><td>1</td></tr>\n",
       "\t<tr><td> 889</td><td>41</td><td>570</td><td>501</td><td>69</td><td>92</td><td>21</td><td>0</td><td>33</td><td>15</td><td>⋯</td><td> 0</td><td> 0</td><td> 0</td><td> 0</td><td>  NA</td><td> 79</td><td>19</td><td>463</td><td>3</td><td>1</td></tr>\n",
       "\t<tr><td> 887</td><td>41</td><td>546</td><td>472</td><td>74</td><td>97</td><td>29</td><td>0</td><td>36</td><td>17</td><td>⋯</td><td> 0</td><td> 0</td><td> 0</td><td> 0</td><td>  NA</td><td> 68</td><td>29</td><td>395</td><td>3</td><td>1</td></tr>\n",
       "\t<tr><td> 876</td><td>41</td><td>571</td><td>487</td><td>84</td><td>90</td><td>27</td><td>0</td><td>27</td><td>20</td><td>⋯</td><td>45</td><td> 9</td><td> 9</td><td> 0</td><td>1.91</td><td> 87</td><td>11</td><td>418</td><td>3</td><td>1</td></tr>\n",
       "\t<tr><td> 888</td><td>41</td><td>478</td><td>425</td><td>53</td><td>89</td><td>30</td><td>0</td><td>44</td><td>18</td><td>⋯</td><td>50</td><td> 0</td><td> 0</td><td> 0</td><td>1.50</td><td> 87</td><td>13</td><td>520</td><td>3</td><td>1</td></tr>\n",
       "\t<tr><td>4284</td><td>98</td><td>858</td><td>844</td><td>14</td><td>10</td><td> 3</td><td>0</td><td>10</td><td>20</td><td>⋯</td><td> 8</td><td>24</td><td>36</td><td>31</td><td>3.89</td><td>100</td><td> 0</td><td>343</td><td>1</td><td>2</td></tr>\n",
       "</tbody>\n",
       "</table>\n"
      ],
      "text/latex": [
       "A tibble: 6 × 22\n",
       "\\begin{tabular}{lllllllllllllllllllll}\n",
       " snum & dnum & api00 & api99 & growth & meals & ell & yr\\_rnd & mobility & acs\\_k3 & ⋯ & hsg & some\\_col & col\\_grad & grad\\_sch & avg\\_ed & full & emer & enroll & mealcat & collcat\\\\\n",
       " <dbl> & <dbl> & <dbl> & <dbl> & <dbl> & <dbl> & <dbl> & <dbl> & <dbl> & <dbl> & ⋯ & <dbl> & <dbl> & <dbl> & <dbl> & <dbl> & <dbl> & <dbl> & <dbl> & <dbl> & <dbl>\\\\\n",
       "\\hline\n",
       "\t  906 & 41 & 693 & 600 & 93 & 67 &  9 & 0 & 11 & 16 & ⋯ &  0 &  0 &  0 &  0 &   NA &  76 & 24 & 247 & 2 & 1\\\\\n",
       "\t  889 & 41 & 570 & 501 & 69 & 92 & 21 & 0 & 33 & 15 & ⋯ &  0 &  0 &  0 &  0 &   NA &  79 & 19 & 463 & 3 & 1\\\\\n",
       "\t  887 & 41 & 546 & 472 & 74 & 97 & 29 & 0 & 36 & 17 & ⋯ &  0 &  0 &  0 &  0 &   NA &  68 & 29 & 395 & 3 & 1\\\\\n",
       "\t  876 & 41 & 571 & 487 & 84 & 90 & 27 & 0 & 27 & 20 & ⋯ & 45 &  9 &  9 &  0 & 1.91 &  87 & 11 & 418 & 3 & 1\\\\\n",
       "\t  888 & 41 & 478 & 425 & 53 & 89 & 30 & 0 & 44 & 18 & ⋯ & 50 &  0 &  0 &  0 & 1.50 &  87 & 13 & 520 & 3 & 1\\\\\n",
       "\t 4284 & 98 & 858 & 844 & 14 & 10 &  3 & 0 & 10 & 20 & ⋯ &  8 & 24 & 36 & 31 & 3.89 & 100 &  0 & 343 & 1 & 2\\\\\n",
       "\\end{tabular}\n"
      ],
      "text/markdown": [
       "\n",
       "A tibble: 6 × 22\n",
       "\n",
       "| snum &lt;dbl&gt; | dnum &lt;dbl&gt; | api00 &lt;dbl&gt; | api99 &lt;dbl&gt; | growth &lt;dbl&gt; | meals &lt;dbl&gt; | ell &lt;dbl&gt; | yr_rnd &lt;dbl&gt; | mobility &lt;dbl&gt; | acs_k3 &lt;dbl&gt; | ⋯ ⋯ | hsg &lt;dbl&gt; | some_col &lt;dbl&gt; | col_grad &lt;dbl&gt; | grad_sch &lt;dbl&gt; | avg_ed &lt;dbl&gt; | full &lt;dbl&gt; | emer &lt;dbl&gt; | enroll &lt;dbl&gt; | mealcat &lt;dbl&gt; | collcat &lt;dbl&gt; |\n",
       "|---|---|---|---|---|---|---|---|---|---|---|---|---|---|---|---|---|---|---|---|---|\n",
       "|  906 | 41 | 693 | 600 | 93 | 67 |  9 | 0 | 11 | 16 | ⋯ |  0 |  0 |  0 |  0 |   NA |  76 | 24 | 247 | 2 | 1 |\n",
       "|  889 | 41 | 570 | 501 | 69 | 92 | 21 | 0 | 33 | 15 | ⋯ |  0 |  0 |  0 |  0 |   NA |  79 | 19 | 463 | 3 | 1 |\n",
       "|  887 | 41 | 546 | 472 | 74 | 97 | 29 | 0 | 36 | 17 | ⋯ |  0 |  0 |  0 |  0 |   NA |  68 | 29 | 395 | 3 | 1 |\n",
       "|  876 | 41 | 571 | 487 | 84 | 90 | 27 | 0 | 27 | 20 | ⋯ | 45 |  9 |  9 |  0 | 1.91 |  87 | 11 | 418 | 3 | 1 |\n",
       "|  888 | 41 | 478 | 425 | 53 | 89 | 30 | 0 | 44 | 18 | ⋯ | 50 |  0 |  0 |  0 | 1.50 |  87 | 13 | 520 | 3 | 1 |\n",
       "| 4284 | 98 | 858 | 844 | 14 | 10 |  3 | 0 | 10 | 20 | ⋯ |  8 | 24 | 36 | 31 | 3.89 | 100 |  0 | 343 | 1 | 2 |\n",
       "\n"
      ],
      "text/plain": [
       "  snum dnum api00 api99 growth meals ell yr_rnd mobility acs_k3 ⋯ hsg some_col\n",
       "1  906 41   693   600   93     67     9  0      11       16     ⋯  0   0      \n",
       "2  889 41   570   501   69     92    21  0      33       15     ⋯  0   0      \n",
       "3  887 41   546   472   74     97    29  0      36       17     ⋯  0   0      \n",
       "4  876 41   571   487   84     90    27  0      27       20     ⋯ 45   9      \n",
       "5  888 41   478   425   53     89    30  0      44       18     ⋯ 50   0      \n",
       "6 4284 98   858   844   14     10     3  0      10       20     ⋯  8  24      \n",
       "  col_grad grad_sch avg_ed full emer enroll mealcat collcat\n",
       "1  0        0         NA    76  24   247    2       1      \n",
       "2  0        0         NA    79  19   463    3       1      \n",
       "3  0        0         NA    68  29   395    3       1      \n",
       "4  9        0       1.91    87  11   418    3       1      \n",
       "5  0        0       1.50    87  13   520    3       1      \n",
       "6 36       31       3.89   100   0   343    1       2      "
      ]
     },
     "metadata": {},
     "output_type": "display_data"
    }
   ],
   "source": [
    "head(df)"
   ]
  },
  {
   "cell_type": "markdown",
   "id": "6d08b0ce-8261-4625-b597-67094b12fd83",
   "metadata": {},
   "source": [
    "Look at frequencies and descriptive statistics.\n",
    "\n",
    "The summary() function is the first approach.\n",
    "\n",
    "describe() from the Hmisc package is an alternative."
   ]
  },
  {
   "cell_type": "code",
   "execution_count": 11,
   "id": "6fc6c2c7",
   "metadata": {},
   "outputs": [
    {
     "data": {
      "text/plain": [
       "      snum           dnum           api00           api99      \n",
       " Min.   :  58   Min.   : 41.0   Min.   :369.0   Min.   :333.0  \n",
       " 1st Qu.:1720   1st Qu.:395.0   1st Qu.:523.8   1st Qu.:484.8  \n",
       " Median :3008   Median :401.0   Median :643.0   Median :602.0  \n",
       " Mean   :2867   Mean   :457.7   Mean   :647.6   Mean   :610.2  \n",
       " 3rd Qu.:4198   3rd Qu.:630.0   3rd Qu.:762.2   3rd Qu.:731.2  \n",
       " Max.   :6072   Max.   :796.0   Max.   :940.0   Max.   :917.0  \n",
       "                                                               \n",
       "     growth           meals             ell            yr_rnd    \n",
       " Min.   :-69.00   Min.   :  0.00   Min.   : 0.00   Min.   :0.00  \n",
       " 1st Qu.: 19.00   1st Qu.: 31.00   1st Qu.: 9.75   1st Qu.:0.00  \n",
       " Median : 36.00   Median : 67.50   Median :25.00   Median :0.00  \n",
       " Mean   : 37.41   Mean   : 60.31   Mean   :31.45   Mean   :0.23  \n",
       " 3rd Qu.: 53.25   3rd Qu.: 90.00   3rd Qu.:50.25   3rd Qu.:0.00  \n",
       " Max.   :134.00   Max.   :100.00   Max.   :91.00   Max.   :1.00  \n",
       "                                                                 \n",
       "    mobility         acs_k3          acs_46         not_hsg      \n",
       " Min.   : 2.00   Min.   :14.00   Min.   :20.00   Min.   :  0.00  \n",
       " 1st Qu.:13.00   1st Qu.:18.00   1st Qu.:27.00   1st Qu.:  4.00  \n",
       " Median :17.00   Median :19.00   Median :29.00   Median : 14.00  \n",
       " Mean   :18.25   Mean   :19.16   Mean   :29.69   Mean   : 21.25  \n",
       " 3rd Qu.:22.00   3rd Qu.:20.00   3rd Qu.:31.00   3rd Qu.: 34.00  \n",
       " Max.   :47.00   Max.   :25.00   Max.   :50.00   Max.   :100.00  \n",
       " NA's   :1       NA's   :2       NA's   :3                       \n",
       "      hsg            some_col        col_grad        grad_sch     \n",
       " Min.   :  0.00   Min.   : 0.00   Min.   :  0.0   Min.   : 0.000  \n",
       " 1st Qu.: 17.00   1st Qu.:12.00   1st Qu.:  7.0   1st Qu.: 1.000  \n",
       " Median : 26.00   Median :19.00   Median : 16.0   Median : 4.000  \n",
       " Mean   : 26.02   Mean   :19.71   Mean   : 19.7   Mean   : 8.637  \n",
       " 3rd Qu.: 34.00   3rd Qu.:28.00   3rd Qu.: 30.0   3rd Qu.:10.000  \n",
       " Max.   :100.00   Max.   :67.00   Max.   :100.0   Max.   :67.000  \n",
       "                                                                  \n",
       "     avg_ed           full             emer           enroll      \n",
       " Min.   :1.000   Min.   : 37.00   Min.   : 0.00   Min.   : 130.0  \n",
       " 1st Qu.:2.070   1st Qu.: 76.00   1st Qu.: 3.00   1st Qu.: 320.0  \n",
       " Median :2.600   Median : 88.00   Median :10.00   Median : 435.0  \n",
       " Mean   :2.668   Mean   : 84.55   Mean   :12.66   Mean   : 483.5  \n",
       " 3rd Qu.:3.220   3rd Qu.: 97.00   3rd Qu.:19.00   3rd Qu.: 608.0  \n",
       " Max.   :4.620   Max.   :100.00   Max.   :59.00   Max.   :1570.0  \n",
       " NA's   :19                                                       \n",
       "    mealcat         collcat    \n",
       " Min.   :1.000   Min.   :1.00  \n",
       " 1st Qu.:1.000   1st Qu.:1.00  \n",
       " Median :2.000   Median :2.00  \n",
       " Mean   :2.015   Mean   :2.02  \n",
       " 3rd Qu.:3.000   3rd Qu.:3.00  \n",
       " Max.   :3.000   Max.   :3.00  \n",
       "                               "
      ]
     },
     "metadata": {},
     "output_type": "display_data"
    }
   ],
   "source": [
    "summary(df)"
   ]
  },
  {
   "cell_type": "code",
   "execution_count": 12,
   "id": "84cfcf5a",
   "metadata": {},
   "outputs": [
    {
     "data": {
      "text/plain": [
       "df \n",
       "\n",
       " 22  Variables      400  Observations\n",
       "--------------------------------------------------------------------------------\n",
       "snum \n",
       "       n  missing distinct     Info     Mean      Gmd      .05      .10 \n",
       "     400        0      400        1     2867     1766    405.8    627.2 \n",
       "     .25      .50      .75      .90      .95 \n",
       "  1719.5   3007.5   4197.5   4744.3   5217.2 \n",
       "\n",
       "lowest :   58   65   70   93   94, highest: 6060 6062 6065 6068 6072\n",
       "--------------------------------------------------------------------------------\n",
       "dnum \n",
       "       n  missing distinct     Info     Mean      Gmd      .05      .10 \n",
       "     400        0       37    0.981    457.7    206.7      131      140 \n",
       "     .25      .50      .75      .90      .95 \n",
       "     395      401      630      636      716 \n",
       "\n",
       "lowest :  41  98 108 131 135, highest: 653 689 716 779 796\n",
       "--------------------------------------------------------------------------------\n",
       "api00 \n",
       "       n  missing distinct     Info     Mean      Gmd      .05      .10 \n",
       "     400        0      271        1    647.6    164.2    436.9    465.9 \n",
       "     .25      .50      .75      .90      .95 \n",
       "   523.8    643.0    762.2    850.0    876.0 \n",
       "\n",
       "lowest : 369 386 387 394 397, highest: 903 912 917 918 940\n",
       "--------------------------------------------------------------------------------\n",
       "api99 \n",
       "       n  missing distinct     Info     Mean      Gmd      .05      .10 \n",
       "     400        0      284        1    610.2    169.4    409.0    427.0 \n",
       "     .25      .50      .75      .90      .95 \n",
       "   484.8    602.0    731.2    826.1    848.1 \n",
       "\n",
       "lowest : 333 338 343 354 358, highest: 888 889 900 902 917\n",
       "--------------------------------------------------------------------------------\n",
       "growth \n",
       "       n  missing distinct     Info     Mean      Gmd      .05      .10 \n",
       "     400        0      106        1    37.41    28.16     0.00     7.00 \n",
       "     .25      .50      .75      .90      .95 \n",
       "   19.00    36.00    53.25    70.00    82.00 \n",
       "\n",
       "lowest : -69 -47 -18 -14 -13, highest:  93 102 103 115 134\n",
       "--------------------------------------------------------------------------------\n",
       "meals \n",
       "       n  missing distinct     Info     Mean      Gmd      .05      .10 \n",
       "     400        0       97    0.999    60.31     36.3      6.0     11.0 \n",
       "     .25      .50      .75      .90      .95 \n",
       "    31.0     67.5     90.0     99.0    100.0 \n",
       "\n",
       "lowest :   0   1   2   3   4, highest:  96  97  98  99 100\n",
       "--------------------------------------------------------------------------------\n",
       "ell \n",
       "       n  missing distinct     Info     Mean      Gmd      .05      .10 \n",
       "     400        0       84        1    31.45    28.03     2.00     3.00 \n",
       "     .25      .50      .75      .90      .95 \n",
       "    9.75    25.00    50.25    70.00    75.00 \n",
       "\n",
       "lowest :  0  1  2  3  4, highest: 84 86 88 90 91\n",
       "--------------------------------------------------------------------------------\n",
       "yr_rnd \n",
       "       n  missing distinct     Info      Sum     Mean      Gmd \n",
       "     400        0        2    0.531       92     0.23   0.3551 \n",
       "\n",
       "--------------------------------------------------------------------------------\n",
       "mobility \n",
       "       n  missing distinct     Info     Mean      Gmd      .05      .10 \n",
       "     399        1       40    0.998    18.25    8.166        8       10 \n",
       "     .25      .50      .75      .90      .95 \n",
       "      13       17       22       27       33 \n",
       "\n",
       "lowest :  2  3  4  5  6, highest: 39 41 42 44 47\n",
       "--------------------------------------------------------------------------------\n",
       "acs_k3 \n",
       "       n  missing distinct     Info     Mean      Gmd      .05      .10 \n",
       "     398        2       11    0.932    19.16    1.449       17       18 \n",
       "     .25      .50      .75      .90      .95 \n",
       "      18       19       20       21       21 \n",
       "                                                                            \n",
       "Value      14.00 14.99 15.98 16.97 17.96 18.95 19.94 20.93 21.92 22.91 25.00\n",
       "Frequency      2     1    14    20    64   144    99    43     7     3     1\n",
       "Proportion 0.005 0.003 0.035 0.050 0.161 0.362 0.249 0.108 0.018 0.008 0.003\n",
       "\n",
       "For the frequency table, variable is rounded to the nearest 0.11\n",
       "--------------------------------------------------------------------------------\n",
       "acs_46 \n",
       "       n  missing distinct     Info     Mean      Gmd      .05      .10 \n",
       "     397        3       28    0.988    29.69    3.856     24.8     26.0 \n",
       "     .25      .50      .75      .90      .95 \n",
       "    27.0     29.0     31.0     33.0     35.0 \n",
       "\n",
       "lowest : 20 21 22 23 24, highest: 44 45 46 49 50\n",
       "--------------------------------------------------------------------------------\n",
       "not_hsg \n",
       "       n  missing distinct     Info     Mean      Gmd      .05      .10 \n",
       "     400        0       70    0.997    21.25    22.51     0.00     0.00 \n",
       "     .25      .50      .75      .90      .95 \n",
       "    4.00    14.00    34.00    50.00    60.05 \n",
       "\n",
       "lowest :   0   1   2   3   4, highest:  79  83  89  98 100\n",
       "--------------------------------------------------------------------------------\n",
       "hsg \n",
       "       n  missing distinct     Info     Mean      Gmd      .05      .10 \n",
       "     400        0       65    0.999    26.02    17.46      0.0      3.0 \n",
       "     .25      .50      .75      .90      .95 \n",
       "    17.0     26.0     34.0     43.1     50.0 \n",
       "\n",
       "lowest :   0   1   2   3   4, highest:  74  75  85  90 100\n",
       "--------------------------------------------------------------------------------\n",
       "some_col \n",
       "       n  missing distinct     Info     Mean      Gmd      .05      .10 \n",
       "     400        0       49    0.998    19.71    12.79      0.0      2.9 \n",
       "     .25      .50      .75      .90      .95 \n",
       "    12.0     19.0     28.0     34.0     38.0 \n",
       "\n",
       "lowest :  0  1  2  3  4, highest: 44 46 50 52 67\n",
       "--------------------------------------------------------------------------------\n",
       "col_grad \n",
       "       n  missing distinct     Info     Mean      Gmd      .05      .10 \n",
       "     400        0       56    0.999     19.7    17.53     0.00     1.00 \n",
       "     .25      .50      .75      .90      .95 \n",
       "    7.00    16.00    30.00    38.10    45.05 \n",
       "\n",
       "lowest :   0   1   2   3   4, highest:  54  55  67  80 100\n",
       "--------------------------------------------------------------------------------\n",
       "grad_sch \n",
       "       n  missing distinct     Info     Mean      Gmd      .05      .10 \n",
       "     400        0       48    0.989    8.637     11.2        0        0 \n",
       "     .25      .50      .75      .90      .95 \n",
       "       1        4       10       28       37 \n",
       "\n",
       "lowest :  0  1  2  3  4, highest: 48 53 54 57 67\n",
       "--------------------------------------------------------------------------------\n",
       "avg_ed \n",
       "       n  missing distinct     Info     Mean      Gmd      .05      .10 \n",
       "     381       19      201        1    2.668   0.8708     1.59     1.75 \n",
       "     .25      .50      .75      .90      .95 \n",
       "    2.07     2.60     3.22     3.84     4.07 \n",
       "\n",
       "lowest : 1    1.06 1.11 1.25 1.28, highest: 4.32 4.33 4.41 4.42 4.62\n",
       "--------------------------------------------------------------------------------\n",
       "full \n",
       "       n  missing distinct     Info     Mean      Gmd      .05      .10 \n",
       "     400        0       57    0.991    84.55     16.3    53.95    61.90 \n",
       "     .25      .50      .75      .90      .95 \n",
       "   76.00    88.00    97.00   100.00   100.00 \n",
       "\n",
       "lowest :  37  41  42  44  45, highest:  95  96  97  98 100\n",
       "--------------------------------------------------------------------------------\n",
       "emer \n",
       "       n  missing distinct     Info     Mean      Gmd      .05      .10 \n",
       "     400        0       47    0.993    12.66    12.76     0.00     0.00 \n",
       "     .25      .50      .75      .90      .95 \n",
       "    3.00    10.00    19.00    29.10    35.05 \n",
       "\n",
       "lowest :  0  2  3  4  5, highest: 44 47 48 53 59\n",
       "--------------------------------------------------------------------------------\n",
       "enroll \n",
       "       n  missing distinct     Info     Mean      Gmd      .05      .10 \n",
       "     400        0      308        1    483.5    241.9    204.9    238.8 \n",
       "     .25      .50      .75      .90      .95 \n",
       "   320.0    435.0    608.0    751.1    892.5 \n",
       "\n",
       "lowest :  130  133  135  146  151, highest: 1149 1264 1513 1529 1570\n",
       "--------------------------------------------------------------------------------\n",
       "mealcat \n",
       "       n  missing distinct     Info     Mean      Gmd \n",
       "     400        0        3    0.889    2.015   0.8931 \n",
       "                            \n",
       "Value          1     2     3\n",
       "Frequency    131   132   137\n",
       "Proportion 0.328 0.330 0.342\n",
       "\n",
       "For the frequency table, variable is rounded to the nearest 0.02\n",
       "--------------------------------------------------------------------------------\n",
       "collcat \n",
       "       n  missing distinct     Info     Mean      Gmd \n",
       "     400        0        3    0.889     2.02   0.8896 \n",
       "                            \n",
       "Value          1     2     3\n",
       "Frequency    129   134   137\n",
       "Proportion 0.322 0.335 0.342\n",
       "\n",
       "For the frequency table, variable is rounded to the nearest 0.02\n",
       "--------------------------------------------------------------------------------"
      ]
     },
     "metadata": {},
     "output_type": "display_data"
    }
   ],
   "source": [
    "library(Hmisc)\n",
    "describe(df)"
   ]
  },
  {
   "cell_type": "markdown",
   "id": "91375007",
   "metadata": {},
   "source": [
    "Plot the variables of interest with a scatter plot.\n",
    "\n",
    "Either as single plots as in the following plot."
   ]
  },
  {
   "cell_type": "code",
   "execution_count": 13,
   "id": "fbb725c5",
   "metadata": {},
   "outputs": [
    {
     "data": {
      "image/png": "[encoded data removed]",
      "text/plain": [
       "plot without title"
      ]
     },
     "metadata": {
      "image/png": {
       "height": 420,
       "width": 420
      }
     },
     "output_type": "display_data"
    }
   ],
   "source": [
    "library(ggplot2)\n",
    "#api00 ~ ell + meals + yr_rnd + mobility + acs_k3 + acs_46 + full + emer + enroll\n",
    "ggplot(df, aes(x = ell, y = api00)) +\n",
    "  geom_point()\n"
   ]
  },
  {
   "cell_type": "markdown",
   "id": "1491a3c5-180e-414d-9103-61f05c3b004e",
   "metadata": {},
   "source": [
    "Or as scatter matrix as in the following collection of plots."
   ]
  },
  {
   "cell_type": "code",
   "execution_count": 14,
   "id": "c93afa5b-7d21-4a13-9a5f-1f7c0119b127",
   "metadata": {},
   "outputs": [
    {
     "name": "stderr",
     "output_type": "stream",
     "text": [
      "Registered S3 method overwritten by 'GGally':\n",
      "  method from   \n",
      "  +.gg   ggplot2\n",
      "\n",
      "── \u001b[1mAttaching core tidyverse packages\u001b[22m ──────────────────────────────────────────────────────────────── tidyverse 2.0.0 ──\n",
      "\u001b[32m✔\u001b[39m \u001b[34mdplyr    \u001b[39m 1.1.2     \u001b[32m✔\u001b[39m \u001b[34mstringr  \u001b[39m 1.5.0\n",
      "\u001b[32m✔\u001b[39m \u001b[34mforcats  \u001b[39m 1.0.0     \u001b[32m✔\u001b[39m \u001b[34mtibble   \u001b[39m 3.2.1\n",
      "\u001b[32m✔\u001b[39m \u001b[34mlubridate\u001b[39m 1.9.2     \u001b[32m✔\u001b[39m \u001b[34mtidyr    \u001b[39m 1.3.0\n",
      "\u001b[32m✔\u001b[39m \u001b[34mpurrr    \u001b[39m 1.0.1     \n",
      "── \u001b[1mConflicts\u001b[22m ────────────────────────────────────────────────────────────────────────────────── tidyverse_conflicts() ──\n",
      "\u001b[31m✖\u001b[39m \u001b[34mdplyr\u001b[39m::\u001b[32mfilter()\u001b[39m    masks \u001b[34mstats\u001b[39m::filter()\n",
      "\u001b[31m✖\u001b[39m \u001b[34mdplyr\u001b[39m::\u001b[32mlag()\u001b[39m       masks \u001b[34mstats\u001b[39m::lag()\n",
      "\u001b[31m✖\u001b[39m \u001b[34mdplyr\u001b[39m::\u001b[32msrc()\u001b[39m       masks \u001b[34mHmisc\u001b[39m::src()\n",
      "\u001b[31m✖\u001b[39m \u001b[34mdplyr\u001b[39m::\u001b[32msummarize()\u001b[39m masks \u001b[34mHmisc\u001b[39m::summarize()\n",
      "\u001b[36mℹ\u001b[39m Use the conflicted package (\u001b[3m\u001b[34m<http://conflicted.r-lib.org/>\u001b[39m\u001b[23m) to force all conflicts to become errors\n",
      "Warning message in ggally_statistic(data = data, mapping = mapping, na.rm = na.rm, :\n",
      "\"Removing 1 row that contained a missing value\"\n",
      "Warning message in ggally_statistic(data = data, mapping = mapping, na.rm = na.rm, :\n",
      "\"Removed 2 rows containing missing values\"\n",
      "Warning message in ggally_statistic(data = data, mapping = mapping, na.rm = na.rm, :\n",
      "\"Removed 3 rows containing missing values\"\n",
      "Warning message in ggally_statistic(data = data, mapping = mapping, na.rm = na.rm, :\n",
      "\"Removing 1 row that contained a missing value\"\n",
      "Warning message in ggally_statistic(data = data, mapping = mapping, na.rm = na.rm, :\n",
      "\"Removed 2 rows containing missing values\"\n",
      "Warning message in ggally_statistic(data = data, mapping = mapping, na.rm = na.rm, :\n",
      "\"Removed 3 rows containing missing values\"\n",
      "Warning message in ggally_statistic(data = data, mapping = mapping, na.rm = na.rm, :\n",
      "\"Removing 1 row that contained a missing value\"\n",
      "Warning message in ggally_statistic(data = data, mapping = mapping, na.rm = na.rm, :\n",
      "\"Removed 2 rows containing missing values\"\n",
      "Warning message in ggally_statistic(data = data, mapping = mapping, na.rm = na.rm, :\n",
      "\"Removed 3 rows containing missing values\"\n",
      "Warning message in ggally_statistic(data = data, mapping = mapping, na.rm = na.rm, :\n",
      "\"Removing 1 row that contained a missing value\"\n",
      "Warning message in ggally_statistic(data = data, mapping = mapping, na.rm = na.rm, :\n",
      "\"Removed 2 rows containing missing values\"\n",
      "Warning message in ggally_statistic(data = data, mapping = mapping, na.rm = na.rm, :\n",
      "\"Removed 3 rows containing missing values\"\n",
      "Warning message:\n",
      "\"\u001b[1m\u001b[22mRemoved 1 rows containing missing values (`geom_point()`).\"\n",
      "Warning message:\n",
      "\"\u001b[1m\u001b[22mRemoved 1 rows containing missing values (`geom_point()`).\"\n",
      "Warning message:\n",
      "\"\u001b[1m\u001b[22mRemoved 1 rows containing missing values (`geom_point()`).\"\n",
      "Warning message:\n",
      "\"\u001b[1m\u001b[22mRemoved 1 rows containing missing values (`geom_point()`).\"\n",
      "Warning message:\n",
      "\"\u001b[1m\u001b[22mRemoved 1 rows containing non-finite values (`stat_density()`).\"\n",
      "Warning message in ggally_statistic(data = data, mapping = mapping, na.rm = na.rm, :\n",
      "\"Removed 2 rows containing missing values\"\n",
      "Warning message in ggally_statistic(data = data, mapping = mapping, na.rm = na.rm, :\n",
      "\"Removed 4 rows containing missing values\"\n",
      "Warning message in ggally_statistic(data = data, mapping = mapping, na.rm = na.rm, :\n",
      "\"Removing 1 row that contained a missing value\"\n",
      "Warning message in ggally_statistic(data = data, mapping = mapping, na.rm = na.rm, :\n",
      "\"Removing 1 row that contained a missing value\"\n",
      "Warning message in ggally_statistic(data = data, mapping = mapping, na.rm = na.rm, :\n",
      "\"Removing 1 row that contained a missing value\"\n",
      "Warning message:\n",
      "\"\u001b[1m\u001b[22mRemoved 2 rows containing missing values (`geom_point()`).\"\n",
      "Warning message:\n",
      "\"\u001b[1m\u001b[22mRemoved 2 rows containing missing values (`geom_point()`).\"\n",
      "Warning message:\n",
      "\"\u001b[1m\u001b[22mRemoved 2 rows containing missing values (`geom_point()`).\"\n",
      "Warning message:\n",
      "\"\u001b[1m\u001b[22mRemoved 2 rows containing missing values (`geom_point()`).\"\n",
      "Warning message:\n",
      "\"\u001b[1m\u001b[22mRemoved 2 rows containing missing values (`geom_point()`).\"\n",
      "Warning message:\n",
      "\"\u001b[1m\u001b[22mRemoved 2 rows containing non-finite values (`stat_density()`).\"\n",
      "Warning message in ggally_statistic(data = data, mapping = mapping, na.rm = na.rm, :\n",
      "\"Removed 5 rows containing missing values\"\n",
      "Warning message in ggally_statistic(data = data, mapping = mapping, na.rm = na.rm, :\n",
      "\"Removed 2 rows containing missing values\"\n",
      "Warning message in ggally_statistic(data = data, mapping = mapping, na.rm = na.rm, :\n",
      "\"Removed 2 rows containing missing values\"\n",
      "Warning message in ggally_statistic(data = data, mapping = mapping, na.rm = na.rm, :\n",
      "\"Removed 2 rows containing missing values\"\n",
      "Warning message:\n",
      "\"\u001b[1m\u001b[22mRemoved 3 rows containing missing values (`geom_point()`).\"\n",
      "Warning message:\n",
      "\"\u001b[1m\u001b[22mRemoved 3 rows containing missing values (`geom_point()`).\"\n",
      "Warning message:\n",
      "\"\u001b[1m\u001b[22mRemoved 3 rows containing missing values (`geom_point()`).\"\n",
      "Warning message:\n",
      "\"\u001b[1m\u001b[22mRemoved 3 rows containing missing values (`geom_point()`).\"\n",
      "Warning message:\n",
      "\"\u001b[1m\u001b[22mRemoved 4 rows containing missing values (`geom_point()`).\"\n",
      "Warning message:\n",
      "\"\u001b[1m\u001b[22mRemoved 5 rows containing missing values (`geom_point()`).\"\n",
      "Warning message:\n",
      "\"\u001b[1m\u001b[22mRemoved 3 rows containing non-finite values (`stat_density()`).\"\n",
      "Warning message in ggally_statistic(data = data, mapping = mapping, na.rm = na.rm, :\n",
      "\"Removed 3 rows containing missing values\"\n",
      "Warning message in ggally_statistic(data = data, mapping = mapping, na.rm = na.rm, :\n",
      "\"Removed 3 rows containing missing values\"\n",
      "Warning message in ggally_statistic(data = data, mapping = mapping, na.rm = na.rm, :\n",
      "\"Removed 3 rows containing missing values\"\n",
      "Warning message:\n",
      "\"\u001b[1m\u001b[22mRemoved 1 rows containing missing values (`geom_point()`).\"\n",
      "Warning message:\n",
      "\"\u001b[1m\u001b[22mRemoved 2 rows containing missing values (`geom_point()`).\"\n",
      "Warning message:\n",
      "\"\u001b[1m\u001b[22mRemoved 3 rows containing missing values (`geom_point()`).\"\n",
      "Warning message:\n",
      "\"\u001b[1m\u001b[22mRemoved 1 rows containing missing values (`geom_point()`).\"\n",
      "Warning message:\n",
      "\"\u001b[1m\u001b[22mRemoved 2 rows containing missing values (`geom_point()`).\"\n",
      "Warning message:\n",
      "\"\u001b[1m\u001b[22mRemoved 3 rows containing missing values (`geom_point()`).\"\n",
      "Warning message:\n",
      "\"\u001b[1m\u001b[22mRemoved 1 rows containing missing values (`geom_point()`).\"\n",
      "Warning message:\n",
      "\"\u001b[1m\u001b[22mRemoved 2 rows containing missing values (`geom_point()`).\"\n",
      "Warning message:\n",
      "\"\u001b[1m\u001b[22mRemoved 3 rows containing missing values (`geom_point()`).\"\n"
     ]
    },
    {
     "data": {
      "image/png": "[encoded data removed]",
      "text/plain": [
       "plot without title"
      ]
     },
     "metadata": {
      "image/png": {
       "height": 420,
       "width": 420
      }
     },
     "output_type": "display_data"
    }
   ],
   "source": [
    "library(GGally)\n",
    "library(tidyverse)\n",
    "#api00 ~ ell + meals + yr_rnd + mobility + acs_k3 + acs_46 + full + emer + enroll\n",
    "ggpairs(df %>% select(api00, ell, meals, yr_rnd, mobility, acs_k3, acs_46, full, emer, enroll))"
   ]
  },
  {
   "cell_type": "markdown",
   "id": "71803bc8",
   "metadata": {},
   "source": [
    "Look at the distribution with a QQ-plot."
   ]
  },
  {
   "cell_type": "code",
   "execution_count": 15,
   "id": "08c1c999",
   "metadata": {},
   "outputs": [
    {
     "data": {
      "image/png": "[encoded data removed]",
      "text/plain": [
       "plot without title"
      ]
     },
     "metadata": {
      "image/png": {
       "height": 420,
       "width": 420
      }
     },
     "output_type": "display_data"
    }
   ],
   "source": [
    "ggplot(df, aes(sample = api00)) + \n",
    "  geom_qq() +\n",
    "  geom_qq_line()"
   ]
  },
  {
   "cell_type": "code",
   "execution_count": 16,
   "id": "3114f4dc",
   "metadata": {},
   "outputs": [
    {
     "data": {
      "image/png": "[encoded data removed]",
      "text/plain": [
       "plot without title"
      ]
     },
     "metadata": {
      "image/png": {
       "height": 420,
       "width": 420
      }
     },
     "output_type": "display_data"
    }
   ],
   "source": [
    "ggplot(df, aes(sample = ell)) + \n",
    "  geom_qq() +\n",
    "  geom_qq_line()"
   ]
  },
  {
   "cell_type": "markdown",
   "id": "d68cbb2a-c330-4ac9-9acf-06cf2f93956b",
   "metadata": {},
   "source": [
    "## Assumptions of linear regression\n",
    "\n",
    "- Linearity: There must be a linear relationship between the dependent and independent variables.\n",
    "- Homoscedasticity: The residuals must have a constant variance.\n",
    "- Normality: Normally distributed error.\n",
    "- No auto correlation: The error component should have no auto correlation.\n",
    "- No multicollinearity: No high correlation between the independent variables (for multiple linear regression).\n",
    "- Independence of the observations: Result of the data generating mechanism.\n"
   ]
  },
  {
   "cell_type": "markdown",
   "id": "faa1f4cd-8f49-4f8d-bf74-8bbd353ceb95",
   "metadata": {},
   "source": [
    "The linearity can be assessed by inspection of the scatter plot above.\n",
    "\n",
    "For the next assumption the model has to be fitted to calculate the residuals. The residuals are the differences between the observed and the fitted values."
   ]
  },
  {
   "cell_type": "code",
   "execution_count": 17,
   "id": "588c47a1-28bf-4cc6-a97f-a401fe54ca39",
   "metadata": {},
   "outputs": [
    {
     "data": {
      "text/html": [
       "<table class=\"dataframe\">\n",
       "<caption>A tibble: 6 × 17</caption>\n",
       "<thead>\n",
       "\t<tr><th scope=col>.rownames</th><th scope=col>api00</th><th scope=col>ell</th><th scope=col>meals</th><th scope=col>yr_rnd</th><th scope=col>mobility</th><th scope=col>acs_k3</th><th scope=col>acs_46</th><th scope=col>full</th><th scope=col>emer</th><th scope=col>enroll</th><th scope=col>.fitted</th><th scope=col>.resid</th><th scope=col>.hat</th><th scope=col>.sigma</th><th scope=col>.cooksd</th><th scope=col>.std.resid</th></tr>\n",
       "\t<tr><th scope=col>&lt;chr&gt;</th><th scope=col>&lt;dbl&gt;</th><th scope=col>&lt;dbl&gt;</th><th scope=col>&lt;dbl&gt;</th><th scope=col>&lt;dbl&gt;</th><th scope=col>&lt;dbl&gt;</th><th scope=col>&lt;dbl&gt;</th><th scope=col>&lt;dbl&gt;</th><th scope=col>&lt;dbl&gt;</th><th scope=col>&lt;dbl&gt;</th><th scope=col>&lt;dbl&gt;</th><th scope=col>&lt;dbl&gt;</th><th scope=col>&lt;dbl&gt;</th><th scope=col>&lt;dbl&gt;</th><th scope=col>&lt;dbl&gt;</th><th scope=col>&lt;dbl&gt;</th><th scope=col>&lt;dbl&gt;</th></tr>\n",
       "</thead>\n",
       "<tbody>\n",
       "\t<tr><td>1</td><td>693</td><td> 9</td><td>67</td><td>0</td><td>11</td><td>16</td><td>22</td><td> 76</td><td>24</td><td>247</td><td>631.5440</td><td> 61.456005</td><td>0.03591799</td><td>56.75216</td><td>4.529017e-03</td><td> 1.1025618</td></tr>\n",
       "\t<tr><td>2</td><td>570</td><td>21</td><td>92</td><td>0</td><td>33</td><td>15</td><td>32</td><td> 79</td><td>19</td><td>463</td><td>540.6287</td><td> 29.371330</td><td>0.04479091</td><td>56.82128</td><td>1.314109e-03</td><td> 0.5293830</td></tr>\n",
       "\t<tr><td>3</td><td>546</td><td>29</td><td>97</td><td>0</td><td>36</td><td>17</td><td>25</td><td> 68</td><td>29</td><td>395</td><td>490.5673</td><td> 55.432727</td><td>0.03365173</td><td>56.76909</td><td>3.436084e-03</td><td> 0.9933333</td></tr>\n",
       "\t<tr><td>4</td><td>571</td><td>27</td><td>90</td><td>0</td><td>27</td><td>20</td><td>30</td><td> 87</td><td>11</td><td>418</td><td>562.7794</td><td>  8.220567</td><td>0.01466818</td><td>56.84040</td><td>3.168151e-05</td><td> 0.1458835</td></tr>\n",
       "\t<tr><td>5</td><td>478</td><td>30</td><td>89</td><td>0</td><td>44</td><td>18</td><td>31</td><td> 87</td><td>13</td><td>520</td><td>537.7655</td><td>-59.765544</td><td>0.03649873</td><td>56.75699</td><td>4.357789e-03</td><td>-1.0725569</td></tr>\n",
       "\t<tr><td>6</td><td>858</td><td> 3</td><td>10</td><td>0</td><td>10</td><td>20</td><td>33</td><td>100</td><td> 0</td><td>343</td><td>864.1102</td><td> -6.110193</td><td>0.01234021</td><td>56.84111</td><td>1.465577e-05</td><td>-0.1083046</td></tr>\n",
       "</tbody>\n",
       "</table>\n"
      ],
      "text/latex": [
       "A tibble: 6 × 17\n",
       "\\begin{tabular}{lllllllllllllllll}\n",
       " .rownames & api00 & ell & meals & yr\\_rnd & mobility & acs\\_k3 & acs\\_46 & full & emer & enroll & .fitted & .resid & .hat & .sigma & .cooksd & .std.resid\\\\\n",
       " <chr> & <dbl> & <dbl> & <dbl> & <dbl> & <dbl> & <dbl> & <dbl> & <dbl> & <dbl> & <dbl> & <dbl> & <dbl> & <dbl> & <dbl> & <dbl> & <dbl>\\\\\n",
       "\\hline\n",
       "\t 1 & 693 &  9 & 67 & 0 & 11 & 16 & 22 &  76 & 24 & 247 & 631.5440 &  61.456005 & 0.03591799 & 56.75216 & 4.529017e-03 &  1.1025618\\\\\n",
       "\t 2 & 570 & 21 & 92 & 0 & 33 & 15 & 32 &  79 & 19 & 463 & 540.6287 &  29.371330 & 0.04479091 & 56.82128 & 1.314109e-03 &  0.5293830\\\\\n",
       "\t 3 & 546 & 29 & 97 & 0 & 36 & 17 & 25 &  68 & 29 & 395 & 490.5673 &  55.432727 & 0.03365173 & 56.76909 & 3.436084e-03 &  0.9933333\\\\\n",
       "\t 4 & 571 & 27 & 90 & 0 & 27 & 20 & 30 &  87 & 11 & 418 & 562.7794 &   8.220567 & 0.01466818 & 56.84040 & 3.168151e-05 &  0.1458835\\\\\n",
       "\t 5 & 478 & 30 & 89 & 0 & 44 & 18 & 31 &  87 & 13 & 520 & 537.7655 & -59.765544 & 0.03649873 & 56.75699 & 4.357789e-03 & -1.0725569\\\\\n",
       "\t 6 & 858 &  3 & 10 & 0 & 10 & 20 & 33 & 100 &  0 & 343 & 864.1102 &  -6.110193 & 0.01234021 & 56.84111 & 1.465577e-05 & -0.1083046\\\\\n",
       "\\end{tabular}\n"
      ],
      "text/markdown": [
       "\n",
       "A tibble: 6 × 17\n",
       "\n",
       "| .rownames &lt;chr&gt; | api00 &lt;dbl&gt; | ell &lt;dbl&gt; | meals &lt;dbl&gt; | yr_rnd &lt;dbl&gt; | mobility &lt;dbl&gt; | acs_k3 &lt;dbl&gt; | acs_46 &lt;dbl&gt; | full &lt;dbl&gt; | emer &lt;dbl&gt; | enroll &lt;dbl&gt; | .fitted &lt;dbl&gt; | .resid &lt;dbl&gt; | .hat &lt;dbl&gt; | .sigma &lt;dbl&gt; | .cooksd &lt;dbl&gt; | .std.resid &lt;dbl&gt; |\n",
       "|---|---|---|---|---|---|---|---|---|---|---|---|---|---|---|---|---|\n",
       "| 1 | 693 |  9 | 67 | 0 | 11 | 16 | 22 |  76 | 24 | 247 | 631.5440 |  61.456005 | 0.03591799 | 56.75216 | 4.529017e-03 |  1.1025618 |\n",
       "| 2 | 570 | 21 | 92 | 0 | 33 | 15 | 32 |  79 | 19 | 463 | 540.6287 |  29.371330 | 0.04479091 | 56.82128 | 1.314109e-03 |  0.5293830 |\n",
       "| 3 | 546 | 29 | 97 | 0 | 36 | 17 | 25 |  68 | 29 | 395 | 490.5673 |  55.432727 | 0.03365173 | 56.76909 | 3.436084e-03 |  0.9933333 |\n",
       "| 4 | 571 | 27 | 90 | 0 | 27 | 20 | 30 |  87 | 11 | 418 | 562.7794 |   8.220567 | 0.01466818 | 56.84040 | 3.168151e-05 |  0.1458835 |\n",
       "| 5 | 478 | 30 | 89 | 0 | 44 | 18 | 31 |  87 | 13 | 520 | 537.7655 | -59.765544 | 0.03649873 | 56.75699 | 4.357789e-03 | -1.0725569 |\n",
       "| 6 | 858 |  3 | 10 | 0 | 10 | 20 | 33 | 100 |  0 | 343 | 864.1102 |  -6.110193 | 0.01234021 | 56.84111 | 1.465577e-05 | -0.1083046 |\n",
       "\n"
      ],
      "text/plain": [
       "  .rownames api00 ell meals yr_rnd mobility acs_k3 acs_46 full emer enroll\n",
       "1 1         693    9  67    0      11       16     22      76  24   247   \n",
       "2 2         570   21  92    0      33       15     32      79  19   463   \n",
       "3 3         546   29  97    0      36       17     25      68  29   395   \n",
       "4 4         571   27  90    0      27       20     30      87  11   418   \n",
       "5 5         478   30  89    0      44       18     31      87  13   520   \n",
       "6 6         858    3  10    0      10       20     33     100   0   343   \n",
       "  .fitted  .resid     .hat       .sigma   .cooksd      .std.resid\n",
       "1 631.5440  61.456005 0.03591799 56.75216 4.529017e-03  1.1025618\n",
       "2 540.6287  29.371330 0.04479091 56.82128 1.314109e-03  0.5293830\n",
       "3 490.5673  55.432727 0.03365173 56.76909 3.436084e-03  0.9933333\n",
       "4 562.7794   8.220567 0.01466818 56.84040 3.168151e-05  0.1458835\n",
       "5 537.7655 -59.765544 0.03649873 56.75699 4.357789e-03 -1.0725569\n",
       "6 864.1102  -6.110193 0.01234021 56.84111 1.465577e-05 -0.1083046"
      ]
     },
     "metadata": {},
     "output_type": "display_data"
    }
   ],
   "source": [
    "library(broom)\n",
    "my_lm <- lm(api00 ~ ell + meals + yr_rnd + mobility + acs_k3 + acs_46 + full + emer + enroll, data = df)\n",
    "df <- augment(my_lm)\n",
    "head(df)\n"
   ]
  },
  {
   "cell_type": "markdown",
   "id": "fa5d86de-7696-4813-ae1a-7fa6b823e293",
   "metadata": {},
   "source": [
    "Plot the residuals on the y-axis against the dependent variable on the x-axis to look for homoscedasticity."
   ]
  },
  {
   "cell_type": "code",
   "execution_count": 18,
   "id": "b9f97ea4-e748-4288-85f3-cbe992e94918",
   "metadata": {},
   "outputs": [
    {
     "data": {
      "image/png": "[encoded data removed]",
      "text/plain": [
       "plot without title"
      ]
     },
     "metadata": {
      "image/png": {
       "height": 420,
       "width": 420
      }
     },
     "output_type": "display_data"
    }
   ],
   "source": [
    "# Homoscedasticity\n",
    "ggplot(df, aes(x = api00, y = .resid)) +\n",
    "  geom_point()"
   ]
  },
  {
   "cell_type": "markdown",
   "id": "5413ae74-0002-4a92-8ddb-cbd639de9e7f",
   "metadata": {},
   "source": [
    "Look for the normal distribution of the residuals with a QQ-plot."
   ]
  },
  {
   "cell_type": "code",
   "execution_count": 19,
   "id": "2aadcb11-91c3-4c32-be5d-f12d046e6f29",
   "metadata": {},
   "outputs": [
    {
     "data": {
      "image/png": "[encoded data removed]",
      "text/plain": [
       "plot without title"
      ]
     },
     "metadata": {
      "image/png": {
       "height": 420,
       "width": 420
      }
     },
     "output_type": "display_data"
    }
   ],
   "source": [
    "# Normal distribution of the error\n",
    "ggplot(df, aes(sample = .resid)) +\n",
    "  geom_qq() + \n",
    "  geom_qq_line()"
   ]
  },
  {
   "cell_type": "markdown",
   "id": "8dde463b-d970-4e65-96d2-b4922a935c0f",
   "metadata": {},
   "source": [
    "Durbin-Watson-Test for auto correlation"
   ]
  },
  {
   "cell_type": "code",
   "execution_count": 20,
   "id": "9bea98fc-abea-4852-aa42-2e3580b2f7d8",
   "metadata": {},
   "outputs": [
    {
     "name": "stderr",
     "output_type": "stream",
     "text": [
      "Lade nötiges Paket: carData\n",
      "\n",
      "\n",
      "Attache Paket: 'car'\n",
      "\n",
      "\n",
      "Das folgende Objekt ist maskiert 'package:dplyr':\n",
      "\n",
      "    recode\n",
      "\n",
      "\n",
      "Das folgende Objekt ist maskiert 'package:purrr':\n",
      "\n",
      "    some\n",
      "\n",
      "\n"
     ]
    },
    {
     "data": {
      "text/plain": [
       " lag Autocorrelation D-W Statistic p-value\n",
       "   1       0.2865527      1.423474   0.000\n",
       "   2       0.1043084      1.786928   0.028\n",
       " Alternative hypothesis: rho[lag] != 0"
      ]
     },
     "metadata": {},
     "output_type": "display_data"
    }
   ],
   "source": [
    "# Autocorrelation\n",
    "library(car)\n",
    "durbinWatsonTest(my_lm, max.lag = 2)"
   ]
  },
  {
   "cell_type": "markdown",
   "id": "4fd6269b-08a6-4fa1-9fc0-34865ff3b712",
   "metadata": {},
   "source": [
    "Look for multicollinearity with the variance inflation factor (VIF)\n",
    "\n",
    "-  VIF = 1: No correlation between a given predictor variable and any other predictor variables in the model.\n",
    "-  \n",
    "1 < VIF <= 5: Moderate correlation between a given predictor variable and other predictor variables in the model\n",
    "-  \r\n",
    "VIF > 5: Severe correlation between a given predictor variable and other predictor variables in the mode l."
   ]
  },
  {
   "cell_type": "code",
   "execution_count": 21,
   "id": "a5844eaa-2ff8-4bfd-99ee-94b77d8e1279",
   "metadata": {},
   "outputs": [
    {
     "data": {
      "text/html": [
       "<style>\n",
       ".dl-inline {width: auto; margin:0; padding: 0}\n",
       ".dl-inline>dt, .dl-inline>dd {float: none; width: auto; display: inline-block}\n",
       ".dl-inline>dt::after {content: \":\\0020\"; padding-right: .5ex}\n",
       ".dl-inline>dt:not(:first-of-type) {padding-left: .5ex}\n",
       "</style><dl class=dl-inline><dt>ell</dt><dd>3.3233818316262</dd><dt>meals</dt><dd>3.60928509357501</dd><dt>yr_rnd</dt><dd>1.87715627228551</dd><dt>mobility</dt><dd>1.31097670977251</dd><dt>acs_k3</dt><dd>1.17097730304485</dd><dt>acs_46</dt><dd>1.15482998318717</dd><dt>full</dt><dd>6.13906726034322</dd><dt>emer</dt><dd>6.11858460808681</dd><dt>enroll</dt><dd>1.76820164091783</dd></dl>\n"
      ],
      "text/latex": [
       "\\begin{description*}\n",
       "\\item[ell] 3.3233818316262\n",
       "\\item[meals] 3.60928509357501\n",
       "\\item[yr\\textbackslash{}\\_rnd] 1.87715627228551\n",
       "\\item[mobility] 1.31097670977251\n",
       "\\item[acs\\textbackslash{}\\_k3] 1.17097730304485\n",
       "\\item[acs\\textbackslash{}\\_46] 1.15482998318717\n",
       "\\item[full] 6.13906726034322\n",
       "\\item[emer] 6.11858460808681\n",
       "\\item[enroll] 1.76820164091783\n",
       "\\end{description*}\n"
      ],
      "text/markdown": [
       "ell\n",
       ":   3.3233818316262meals\n",
       ":   3.60928509357501yr_rnd\n",
       ":   1.87715627228551mobility\n",
       ":   1.31097670977251acs_k3\n",
       ":   1.17097730304485acs_46\n",
       ":   1.15482998318717full\n",
       ":   6.13906726034322emer\n",
       ":   6.11858460808681enroll\n",
       ":   1.76820164091783\n",
       "\n"
      ],
      "text/plain": [
       "     ell    meals   yr_rnd mobility   acs_k3   acs_46     full     emer \n",
       "3.323382 3.609285 1.877156 1.310977 1.170977 1.154830 6.139067 6.118585 \n",
       "  enroll \n",
       "1.768202 "
      ]
     },
     "metadata": {},
     "output_type": "display_data"
    }
   ],
   "source": [
    "vif(my_lm)"
   ]
  },
  {
   "cell_type": "markdown",
   "id": "6905b543-53e0-404f-8782-9354e60c8ea4",
   "metadata": {},
   "source": [
    "## Summary of model"
   ]
  },
  {
   "cell_type": "code",
   "execution_count": 22,
   "id": "93a4ef42-ad15-46a7-a428-aca1b9b2d640",
   "metadata": {},
   "outputs": [
    {
     "data": {
      "text/plain": [
       "\n",
       "Call:\n",
       "lm(formula = api00 ~ ell + meals + yr_rnd + mobility + acs_k3 + \n",
       "    acs_46 + full + emer + enroll, data = df)\n",
       "\n",
       "Residuals:\n",
       "     Min       1Q   Median       3Q      Max \n",
       "-171.934  -39.294   -2.973   36.096  158.440 \n",
       "\n",
       "Coefficients:\n",
       "             Estimate Std. Error t value Pr(>|t|)    \n",
       "(Intercept) 758.94179   62.28601  12.185  < 2e-16 ***\n",
       "ell          -0.86007    0.21063  -4.083  5.4e-05 ***\n",
       "meals        -2.94822    0.17035 -17.307  < 2e-16 ***\n",
       "yr_rnd      -19.88875    9.25844  -2.148  0.03232 *  \n",
       "mobility     -1.30135    0.43621  -2.983  0.00303 ** \n",
       "acs_k3        1.31870    2.25268   0.585  0.55863    \n",
       "acs_46        2.03246    0.79832   2.546  0.01129 *  \n",
       "full          0.60972    0.47582   1.281  0.20083    \n",
       "emer         -0.70662    0.60541  -1.167  0.24386    \n",
       "enroll       -0.01216    0.01679  -0.724  0.46927    \n",
       "---\n",
       "Signif. codes:  0 '***' 0.001 '**' 0.01 '*' 0.05 '.' 0.1 ' ' 1\n",
       "\n",
       "Residual standard error: 56.77 on 385 degrees of freedom\n",
       "  (5 Beobachtungen als fehlend gelöscht)\n",
       "Multiple R-squared:  0.8446,\tAdjusted R-squared:  0.8409 \n",
       "F-statistic: 232.4 on 9 and 385 DF,  p-value: < 2.2e-16\n"
      ]
     },
     "metadata": {},
     "output_type": "display_data"
    }
   ],
   "source": [
    "summary(my_lm)"
   ]
  },
  {
   "cell_type": "code",
   "execution_count": 23,
   "id": "3cd88ea2-86eb-4cb2-af1a-0f9f053dfa0c",
   "metadata": {},
   "outputs": [
    {
     "data": {
      "text/html": [
       "<table class=\"dataframe\">\n",
       "<caption>A tibble: 1 × 12</caption>\n",
       "<thead>\n",
       "\t<tr><th scope=col>r.squared</th><th scope=col>adj.r.squared</th><th scope=col>sigma</th><th scope=col>statistic</th><th scope=col>p.value</th><th scope=col>df</th><th scope=col>logLik</th><th scope=col>AIC</th><th scope=col>BIC</th><th scope=col>deviance</th><th scope=col>df.residual</th><th scope=col>nobs</th></tr>\n",
       "\t<tr><th scope=col>&lt;dbl&gt;</th><th scope=col>&lt;dbl&gt;</th><th scope=col>&lt;dbl&gt;</th><th scope=col>&lt;dbl&gt;</th><th scope=col>&lt;dbl&gt;</th><th scope=col>&lt;dbl&gt;</th><th scope=col>&lt;dbl&gt;</th><th scope=col>&lt;dbl&gt;</th><th scope=col>&lt;dbl&gt;</th><th scope=col>&lt;dbl&gt;</th><th scope=col>&lt;int&gt;</th><th scope=col>&lt;int&gt;</th></tr>\n",
       "</thead>\n",
       "<tbody>\n",
       "\t<tr><td>0.8445503</td><td>0.8409164</td><td>56.7681</td><td>232.4095</td><td>1.183585e-149</td><td>9</td><td>-2150.811</td><td>4323.623</td><td>4367.39</td><td>1240708</td><td>385</td><td>395</td></tr>\n",
       "</tbody>\n",
       "</table>\n"
      ],
      "text/latex": [
       "A tibble: 1 × 12\n",
       "\\begin{tabular}{llllllllllll}\n",
       " r.squared & adj.r.squared & sigma & statistic & p.value & df & logLik & AIC & BIC & deviance & df.residual & nobs\\\\\n",
       " <dbl> & <dbl> & <dbl> & <dbl> & <dbl> & <dbl> & <dbl> & <dbl> & <dbl> & <dbl> & <int> & <int>\\\\\n",
       "\\hline\n",
       "\t 0.8445503 & 0.8409164 & 56.7681 & 232.4095 & 1.183585e-149 & 9 & -2150.811 & 4323.623 & 4367.39 & 1240708 & 385 & 395\\\\\n",
       "\\end{tabular}\n"
      ],
      "text/markdown": [
       "\n",
       "A tibble: 1 × 12\n",
       "\n",
       "| r.squared &lt;dbl&gt; | adj.r.squared &lt;dbl&gt; | sigma &lt;dbl&gt; | statistic &lt;dbl&gt; | p.value &lt;dbl&gt; | df &lt;dbl&gt; | logLik &lt;dbl&gt; | AIC &lt;dbl&gt; | BIC &lt;dbl&gt; | deviance &lt;dbl&gt; | df.residual &lt;int&gt; | nobs &lt;int&gt; |\n",
       "|---|---|---|---|---|---|---|---|---|---|---|---|\n",
       "| 0.8445503 | 0.8409164 | 56.7681 | 232.4095 | 1.183585e-149 | 9 | -2150.811 | 4323.623 | 4367.39 | 1240708 | 385 | 395 |\n",
       "\n"
      ],
      "text/plain": [
       "  r.squared adj.r.squared sigma   statistic p.value       df logLik    AIC     \n",
       "1 0.8445503 0.8409164     56.7681 232.4095  1.183585e-149 9  -2150.811 4323.623\n",
       "  BIC     deviance df.residual nobs\n",
       "1 4367.39 1240708  385         395 "
      ]
     },
     "metadata": {},
     "output_type": "display_data"
    }
   ],
   "source": [
    "glance(my_lm)"
   ]
  },
  {
   "cell_type": "code",
   "execution_count": 24,
   "id": "234e3bb6-c174-414a-89b5-b2a793b29c07",
   "metadata": {},
   "outputs": [
    {
     "data": {
      "text/html": [
       "<table class=\"dataframe\">\n",
       "<caption>A tibble: 10 × 5</caption>\n",
       "<thead>\n",
       "\t<tr><th scope=col>term</th><th scope=col>estimate</th><th scope=col>std.error</th><th scope=col>statistic</th><th scope=col>p.value</th></tr>\n",
       "\t<tr><th scope=col>&lt;chr&gt;</th><th scope=col>&lt;dbl&gt;</th><th scope=col>&lt;dbl&gt;</th><th scope=col>&lt;dbl&gt;</th><th scope=col>&lt;dbl&gt;</th></tr>\n",
       "</thead>\n",
       "<tbody>\n",
       "\t<tr><td>(Intercept)</td><td>758.94179320</td><td>62.28600730</td><td> 12.1847880</td><td>4.134890e-29</td></tr>\n",
       "\t<tr><td>ell        </td><td> -0.86007067</td><td> 0.21063175</td><td> -4.0832907</td><td>5.402931e-05</td></tr>\n",
       "\t<tr><td>meals      </td><td> -2.94821634</td><td> 0.17034524</td><td>-17.3073006</td><td>4.715844e-50</td></tr>\n",
       "\t<tr><td>yr_rnd     </td><td>-19.88874706</td><td> 9.25844226</td><td> -2.1481742</td><td>3.232329e-02</td></tr>\n",
       "\t<tr><td>mobility   </td><td> -1.30135168</td><td> 0.43620533</td><td> -2.9833466</td><td>3.032785e-03</td></tr>\n",
       "\t<tr><td>acs_k3     </td><td>  1.31870017</td><td> 2.25268291</td><td>  0.5853909</td><td>5.586278e-01</td></tr>\n",
       "\t<tr><td>acs_46     </td><td>  2.03245622</td><td> 0.79832127</td><td>  2.5459126</td><td>1.128813e-02</td></tr>\n",
       "\t<tr><td>full       </td><td>  0.60971500</td><td> 0.47582046</td><td>  1.2813972</td><td>2.008254e-01</td></tr>\n",
       "\t<tr><td>emer       </td><td> -0.70661916</td><td> 0.60540863</td><td> -1.1671772</td><td>2.438612e-01</td></tr>\n",
       "\t<tr><td>enroll     </td><td> -0.01216405</td><td> 0.01679211</td><td> -0.7243903</td><td>4.692661e-01</td></tr>\n",
       "</tbody>\n",
       "</table>\n"
      ],
      "text/latex": [
       "A tibble: 10 × 5\n",
       "\\begin{tabular}{lllll}\n",
       " term & estimate & std.error & statistic & p.value\\\\\n",
       " <chr> & <dbl> & <dbl> & <dbl> & <dbl>\\\\\n",
       "\\hline\n",
       "\t (Intercept) & 758.94179320 & 62.28600730 &  12.1847880 & 4.134890e-29\\\\\n",
       "\t ell         &  -0.86007067 &  0.21063175 &  -4.0832907 & 5.402931e-05\\\\\n",
       "\t meals       &  -2.94821634 &  0.17034524 & -17.3073006 & 4.715844e-50\\\\\n",
       "\t yr\\_rnd      & -19.88874706 &  9.25844226 &  -2.1481742 & 3.232329e-02\\\\\n",
       "\t mobility    &  -1.30135168 &  0.43620533 &  -2.9833466 & 3.032785e-03\\\\\n",
       "\t acs\\_k3      &   1.31870017 &  2.25268291 &   0.5853909 & 5.586278e-01\\\\\n",
       "\t acs\\_46      &   2.03245622 &  0.79832127 &   2.5459126 & 1.128813e-02\\\\\n",
       "\t full        &   0.60971500 &  0.47582046 &   1.2813972 & 2.008254e-01\\\\\n",
       "\t emer        &  -0.70661916 &  0.60540863 &  -1.1671772 & 2.438612e-01\\\\\n",
       "\t enroll      &  -0.01216405 &  0.01679211 &  -0.7243903 & 4.692661e-01\\\\\n",
       "\\end{tabular}\n"
      ],
      "text/markdown": [
       "\n",
       "A tibble: 10 × 5\n",
       "\n",
       "| term &lt;chr&gt; | estimate &lt;dbl&gt; | std.error &lt;dbl&gt; | statistic &lt;dbl&gt; | p.value &lt;dbl&gt; |\n",
       "|---|---|---|---|---|\n",
       "| (Intercept) | 758.94179320 | 62.28600730 |  12.1847880 | 4.134890e-29 |\n",
       "| ell         |  -0.86007067 |  0.21063175 |  -4.0832907 | 5.402931e-05 |\n",
       "| meals       |  -2.94821634 |  0.17034524 | -17.3073006 | 4.715844e-50 |\n",
       "| yr_rnd      | -19.88874706 |  9.25844226 |  -2.1481742 | 3.232329e-02 |\n",
       "| mobility    |  -1.30135168 |  0.43620533 |  -2.9833466 | 3.032785e-03 |\n",
       "| acs_k3      |   1.31870017 |  2.25268291 |   0.5853909 | 5.586278e-01 |\n",
       "| acs_46      |   2.03245622 |  0.79832127 |   2.5459126 | 1.128813e-02 |\n",
       "| full        |   0.60971500 |  0.47582046 |   1.2813972 | 2.008254e-01 |\n",
       "| emer        |  -0.70661916 |  0.60540863 |  -1.1671772 | 2.438612e-01 |\n",
       "| enroll      |  -0.01216405 |  0.01679211 |  -0.7243903 | 4.692661e-01 |\n",
       "\n"
      ],
      "text/plain": [
       "   term        estimate     std.error   statistic   p.value     \n",
       "1  (Intercept) 758.94179320 62.28600730  12.1847880 4.134890e-29\n",
       "2  ell          -0.86007067  0.21063175  -4.0832907 5.402931e-05\n",
       "3  meals        -2.94821634  0.17034524 -17.3073006 4.715844e-50\n",
       "4  yr_rnd      -19.88874706  9.25844226  -2.1481742 3.232329e-02\n",
       "5  mobility     -1.30135168  0.43620533  -2.9833466 3.032785e-03\n",
       "6  acs_k3        1.31870017  2.25268291   0.5853909 5.586278e-01\n",
       "7  acs_46        2.03245622  0.79832127   2.5459126 1.128813e-02\n",
       "8  full          0.60971500  0.47582046   1.2813972 2.008254e-01\n",
       "9  emer         -0.70661916  0.60540863  -1.1671772 2.438612e-01\n",
       "10 enroll       -0.01216405  0.01679211  -0.7243903 4.692661e-01"
      ]
     },
     "metadata": {},
     "output_type": "display_data"
    }
   ],
   "source": [
    "tidy(my_lm)"
   ]
  },
  {
   "cell_type": "code",
   "execution_count": null,
   "id": "d7093604-6b2b-47b6-b966-6e3755c87e51",
   "metadata": {},
   "outputs": [],
   "source": []
  }
 ],
 "metadata": {
  "kernelspec": {
   "display_name": "R 4.3.2",
   "language": "R",
   "name": "ir432"
  },
  "language_info": {
   "codemirror_mode": "r",
   "file_extension": ".r",
   "mimetype": "text/x-r-source",
   "name": "R",
   "pygments_lexer": "r",
   "version": "4.3.2"
  }
 },
 "nbformat": 4,
 "nbformat_minor": 5
}
