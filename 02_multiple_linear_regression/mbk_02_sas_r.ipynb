{
 "cells": [
  {
   "cell_type": "markdown",
   "id": "df8091c6-2036-476c-b540-77db13c8369e",
   "metadata": {},
   "source": [
    "# 02 - Multivariate linear regression"
   ]
  },
  {
   "cell_type": "markdown",
   "id": "8cf7dd5a-4d82-471f-8a41-39e05dbdde32",
   "metadata": {},
   "source": [
    "## Data"
   ]
  },
  {
   "cell_type": "markdown",
   "id": "f4874aaa-1498-44be-8371-053af86b4735",
   "metadata": {},
   "source": [
    "Source of data: UCLA\n",
    "\n",
    "Introduction to regression in R. UCLA: Statistical Consulting Group. \r\n",
    "fromhttps://stats.oarc.ucla.edu/r/seminars/introduction-to-regression-in-r/.\n",
    "\n",
    "elementary school academic performance index\n",
    "https://stats.idre.ucla.edu/wp-content/uploads/2019/02/elemapi2v2.csv\n",
    "\n",
    "Data set elemapi2.csv"
   ]
  },
  {
   "cell_type": "code",
   "execution_count": 1,
   "id": "09e0948e-f67e-4798-8b78-888edfcf8a78",
   "metadata": {},
   "outputs": [
    {
     "data": {
      "text/html": [
       "<table class=\"dataframe\">\n",
       "<caption>A tibble: 6 × 22</caption>\n",
       "<thead>\n",
       "\t<tr><th scope=col>snum</th><th scope=col>dnum</th><th scope=col>api00</th><th scope=col>api99</th><th scope=col>growth</th><th scope=col>meals</th><th scope=col>ell</th><th scope=col>yr_rnd</th><th scope=col>mobility</th><th scope=col>acs_k3</th><th scope=col>⋯</th><th scope=col>hsg</th><th scope=col>some_col</th><th scope=col>col_grad</th><th scope=col>grad_sch</th><th scope=col>avg_ed</th><th scope=col>full</th><th scope=col>emer</th><th scope=col>enroll</th><th scope=col>mealcat</th><th scope=col>collcat</th></tr>\n",
       "\t<tr><th scope=col>&lt;dbl&gt;</th><th scope=col>&lt;dbl&gt;</th><th scope=col>&lt;dbl&gt;</th><th scope=col>&lt;dbl&gt;</th><th scope=col>&lt;dbl&gt;</th><th scope=col>&lt;dbl&gt;</th><th scope=col>&lt;dbl&gt;</th><th scope=col>&lt;dbl&gt;</th><th scope=col>&lt;dbl&gt;</th><th scope=col>&lt;dbl&gt;</th><th scope=col>⋯</th><th scope=col>&lt;dbl&gt;</th><th scope=col>&lt;dbl&gt;</th><th scope=col>&lt;dbl&gt;</th><th scope=col>&lt;dbl&gt;</th><th scope=col>&lt;dbl&gt;</th><th scope=col>&lt;dbl&gt;</th><th scope=col>&lt;dbl&gt;</th><th scope=col>&lt;dbl&gt;</th><th scope=col>&lt;dbl&gt;</th><th scope=col>&lt;dbl&gt;</th></tr>\n",
       "</thead>\n",
       "<tbody>\n",
       "\t<tr><td> 906</td><td>41</td><td>693</td><td>600</td><td>93</td><td>67</td><td> 9</td><td>0</td><td>11</td><td>16</td><td>⋯</td><td> 0</td><td> 0</td><td> 0</td><td> 0</td><td>  NA</td><td> 76</td><td>24</td><td>247</td><td>2</td><td>1</td></tr>\n",
       "\t<tr><td> 889</td><td>41</td><td>570</td><td>501</td><td>69</td><td>92</td><td>21</td><td>0</td><td>33</td><td>15</td><td>⋯</td><td> 0</td><td> 0</td><td> 0</td><td> 0</td><td>  NA</td><td> 79</td><td>19</td><td>463</td><td>3</td><td>1</td></tr>\n",
       "\t<tr><td> 887</td><td>41</td><td>546</td><td>472</td><td>74</td><td>97</td><td>29</td><td>0</td><td>36</td><td>17</td><td>⋯</td><td> 0</td><td> 0</td><td> 0</td><td> 0</td><td>  NA</td><td> 68</td><td>29</td><td>395</td><td>3</td><td>1</td></tr>\n",
       "\t<tr><td> 876</td><td>41</td><td>571</td><td>487</td><td>84</td><td>90</td><td>27</td><td>0</td><td>27</td><td>20</td><td>⋯</td><td>45</td><td> 9</td><td> 9</td><td> 0</td><td>1.91</td><td> 87</td><td>11</td><td>418</td><td>3</td><td>1</td></tr>\n",
       "\t<tr><td> 888</td><td>41</td><td>478</td><td>425</td><td>53</td><td>89</td><td>30</td><td>0</td><td>44</td><td>18</td><td>⋯</td><td>50</td><td> 0</td><td> 0</td><td> 0</td><td>1.50</td><td> 87</td><td>13</td><td>520</td><td>3</td><td>1</td></tr>\n",
       "\t<tr><td>4284</td><td>98</td><td>858</td><td>844</td><td>14</td><td>10</td><td> 3</td><td>0</td><td>10</td><td>20</td><td>⋯</td><td> 8</td><td>24</td><td>36</td><td>31</td><td>3.89</td><td>100</td><td> 0</td><td>343</td><td>1</td><td>2</td></tr>\n",
       "</tbody>\n",
       "</table>\n"
      ],
      "text/latex": [
       "A tibble: 6 × 22\n",
       "\\begin{tabular}{lllllllllllllllllllll}\n",
       " snum & dnum & api00 & api99 & growth & meals & ell & yr\\_rnd & mobility & acs\\_k3 & ⋯ & hsg & some\\_col & col\\_grad & grad\\_sch & avg\\_ed & full & emer & enroll & mealcat & collcat\\\\\n",
       " <dbl> & <dbl> & <dbl> & <dbl> & <dbl> & <dbl> & <dbl> & <dbl> & <dbl> & <dbl> & ⋯ & <dbl> & <dbl> & <dbl> & <dbl> & <dbl> & <dbl> & <dbl> & <dbl> & <dbl> & <dbl>\\\\\n",
       "\\hline\n",
       "\t  906 & 41 & 693 & 600 & 93 & 67 &  9 & 0 & 11 & 16 & ⋯ &  0 &  0 &  0 &  0 &   NA &  76 & 24 & 247 & 2 & 1\\\\\n",
       "\t  889 & 41 & 570 & 501 & 69 & 92 & 21 & 0 & 33 & 15 & ⋯ &  0 &  0 &  0 &  0 &   NA &  79 & 19 & 463 & 3 & 1\\\\\n",
       "\t  887 & 41 & 546 & 472 & 74 & 97 & 29 & 0 & 36 & 17 & ⋯ &  0 &  0 &  0 &  0 &   NA &  68 & 29 & 395 & 3 & 1\\\\\n",
       "\t  876 & 41 & 571 & 487 & 84 & 90 & 27 & 0 & 27 & 20 & ⋯ & 45 &  9 &  9 &  0 & 1.91 &  87 & 11 & 418 & 3 & 1\\\\\n",
       "\t  888 & 41 & 478 & 425 & 53 & 89 & 30 & 0 & 44 & 18 & ⋯ & 50 &  0 &  0 &  0 & 1.50 &  87 & 13 & 520 & 3 & 1\\\\\n",
       "\t 4284 & 98 & 858 & 844 & 14 & 10 &  3 & 0 & 10 & 20 & ⋯ &  8 & 24 & 36 & 31 & 3.89 & 100 &  0 & 343 & 1 & 2\\\\\n",
       "\\end{tabular}\n"
      ],
      "text/markdown": [
       "\n",
       "A tibble: 6 × 22\n",
       "\n",
       "| snum &lt;dbl&gt; | dnum &lt;dbl&gt; | api00 &lt;dbl&gt; | api99 &lt;dbl&gt; | growth &lt;dbl&gt; | meals &lt;dbl&gt; | ell &lt;dbl&gt; | yr_rnd &lt;dbl&gt; | mobility &lt;dbl&gt; | acs_k3 &lt;dbl&gt; | ⋯ ⋯ | hsg &lt;dbl&gt; | some_col &lt;dbl&gt; | col_grad &lt;dbl&gt; | grad_sch &lt;dbl&gt; | avg_ed &lt;dbl&gt; | full &lt;dbl&gt; | emer &lt;dbl&gt; | enroll &lt;dbl&gt; | mealcat &lt;dbl&gt; | collcat &lt;dbl&gt; |\n",
       "|---|---|---|---|---|---|---|---|---|---|---|---|---|---|---|---|---|---|---|---|---|\n",
       "|  906 | 41 | 693 | 600 | 93 | 67 |  9 | 0 | 11 | 16 | ⋯ |  0 |  0 |  0 |  0 |   NA |  76 | 24 | 247 | 2 | 1 |\n",
       "|  889 | 41 | 570 | 501 | 69 | 92 | 21 | 0 | 33 | 15 | ⋯ |  0 |  0 |  0 |  0 |   NA |  79 | 19 | 463 | 3 | 1 |\n",
       "|  887 | 41 | 546 | 472 | 74 | 97 | 29 | 0 | 36 | 17 | ⋯ |  0 |  0 |  0 |  0 |   NA |  68 | 29 | 395 | 3 | 1 |\n",
       "|  876 | 41 | 571 | 487 | 84 | 90 | 27 | 0 | 27 | 20 | ⋯ | 45 |  9 |  9 |  0 | 1.91 |  87 | 11 | 418 | 3 | 1 |\n",
       "|  888 | 41 | 478 | 425 | 53 | 89 | 30 | 0 | 44 | 18 | ⋯ | 50 |  0 |  0 |  0 | 1.50 |  87 | 13 | 520 | 3 | 1 |\n",
       "| 4284 | 98 | 858 | 844 | 14 | 10 |  3 | 0 | 10 | 20 | ⋯ |  8 | 24 | 36 | 31 | 3.89 | 100 |  0 | 343 | 1 | 2 |\n",
       "\n"
      ],
      "text/plain": [
       "  snum dnum api00 api99 growth meals ell yr_rnd mobility acs_k3 ⋯ hsg some_col\n",
       "1  906 41   693   600   93     67     9  0      11       16     ⋯  0   0      \n",
       "2  889 41   570   501   69     92    21  0      33       15     ⋯  0   0      \n",
       "3  887 41   546   472   74     97    29  0      36       17     ⋯  0   0      \n",
       "4  876 41   571   487   84     90    27  0      27       20     ⋯ 45   9      \n",
       "5  888 41   478   425   53     89    30  0      44       18     ⋯ 50   0      \n",
       "6 4284 98   858   844   14     10     3  0      10       20     ⋯  8  24      \n",
       "  col_grad grad_sch avg_ed full emer enroll mealcat collcat\n",
       "1  0        0         NA    76  24   247    2       1      \n",
       "2  0        0         NA    79  19   463    3       1      \n",
       "3  0        0         NA    68  29   395    3       1      \n",
       "4  9        0       1.91    87  11   418    3       1      \n",
       "5  0        0       1.50    87  13   520    3       1      \n",
       "6 36       31       3.89   100   0   343    1       2      "
      ]
     },
     "metadata": {},
     "output_type": "display_data"
    }
   ],
   "source": [
    "library(readr)\n",
    "elemapi2 <- read_csv(\"data/elemapi2.csv\",\n",
    "                 show_col_types = FALSE)\n",
    "head(elemapi2)\n"
   ]
  },
  {
   "cell_type": "markdown",
   "id": "5e3e5853-4e74-43f7-b9fb-f9a42816fcad",
   "metadata": {},
   "source": [
    "## SAS program snippet"
   ]
  },
  {
   "cell_type": "markdown",
   "id": "72a25d47-c22e-4226-89b2-8e8625f61f8c",
   "metadata": {},
   "source": [
    "The following SAS code will be executed."
   ]
  },
  {
   "cell_type": "raw",
   "id": "b171d2d0-81ef-41e8-8987-5c68601be412",
   "metadata": {},
   "source": [
    "proc reg data = elemapi2;\n",
    "  model api00 = ell meals yr_rnd mobility acs_k3 acs_46 full emer enroll / stb;\n",
    "run;\n"
   ]
  },
  {
   "cell_type": "markdown",
   "id": "a4233c5f-47e6-4ea2-bb50-a0da391c61d6",
   "metadata": {},
   "source": [
    "The option /stb provides standardized estimates."
   ]
  },
  {
   "cell_type": "markdown",
   "id": "470fda86-405f-4cbe-a32b-c65c9402d0b3",
   "metadata": {},
   "source": [
    "## R chunk\n",
    "\n",
    "Packages will be loaded in the chunk where they are first needed."
   ]
  },
  {
   "cell_type": "markdown",
   "id": "979faf58-6801-4166-b1ef-0bf647e57732",
   "metadata": {},
   "source": [
    "A similar R program might look like this. It uses the lm() function.\n",
    "\n",
    "The tidy() function from the broom-packages formats the output into a tibble for easier processing."
   ]
  },
  {
   "cell_type": "code",
   "execution_count": 2,
   "id": "4dab93f5-2ef2-460b-9ca9-258924a43a73",
   "metadata": {},
   "outputs": [
    {
     "data": {
      "text/html": [
       "<table class=\"dataframe\">\n",
       "<caption>A tibble: 10 × 5</caption>\n",
       "<thead>\n",
       "\t<tr><th scope=col>term</th><th scope=col>estimate</th><th scope=col>std.error</th><th scope=col>statistic</th><th scope=col>p.value</th></tr>\n",
       "\t<tr><th scope=col>&lt;chr&gt;</th><th scope=col>&lt;dbl&gt;</th><th scope=col>&lt;dbl&gt;</th><th scope=col>&lt;dbl&gt;</th><th scope=col>&lt;dbl&gt;</th></tr>\n",
       "</thead>\n",
       "<tbody>\n",
       "\t<tr><td>(Intercept)</td><td>758.94179320</td><td>62.28600730</td><td> 12.1847880</td><td>4.134890e-29</td></tr>\n",
       "\t<tr><td>ell        </td><td> -0.86007067</td><td> 0.21063175</td><td> -4.0832907</td><td>5.402931e-05</td></tr>\n",
       "\t<tr><td>meals      </td><td> -2.94821634</td><td> 0.17034524</td><td>-17.3073006</td><td>4.715844e-50</td></tr>\n",
       "\t<tr><td>yr_rnd     </td><td>-19.88874706</td><td> 9.25844226</td><td> -2.1481742</td><td>3.232329e-02</td></tr>\n",
       "\t<tr><td>mobility   </td><td> -1.30135168</td><td> 0.43620533</td><td> -2.9833466</td><td>3.032785e-03</td></tr>\n",
       "\t<tr><td>acs_k3     </td><td>  1.31870017</td><td> 2.25268291</td><td>  0.5853909</td><td>5.586278e-01</td></tr>\n",
       "\t<tr><td>acs_46     </td><td>  2.03245622</td><td> 0.79832127</td><td>  2.5459126</td><td>1.128813e-02</td></tr>\n",
       "\t<tr><td>full       </td><td>  0.60971500</td><td> 0.47582046</td><td>  1.2813972</td><td>2.008254e-01</td></tr>\n",
       "\t<tr><td>emer       </td><td> -0.70661916</td><td> 0.60540863</td><td> -1.1671772</td><td>2.438612e-01</td></tr>\n",
       "\t<tr><td>enroll     </td><td> -0.01216405</td><td> 0.01679211</td><td> -0.7243903</td><td>4.692661e-01</td></tr>\n",
       "</tbody>\n",
       "</table>\n"
      ],
      "text/latex": [
       "A tibble: 10 × 5\n",
       "\\begin{tabular}{lllll}\n",
       " term & estimate & std.error & statistic & p.value\\\\\n",
       " <chr> & <dbl> & <dbl> & <dbl> & <dbl>\\\\\n",
       "\\hline\n",
       "\t (Intercept) & 758.94179320 & 62.28600730 &  12.1847880 & 4.134890e-29\\\\\n",
       "\t ell         &  -0.86007067 &  0.21063175 &  -4.0832907 & 5.402931e-05\\\\\n",
       "\t meals       &  -2.94821634 &  0.17034524 & -17.3073006 & 4.715844e-50\\\\\n",
       "\t yr\\_rnd      & -19.88874706 &  9.25844226 &  -2.1481742 & 3.232329e-02\\\\\n",
       "\t mobility    &  -1.30135168 &  0.43620533 &  -2.9833466 & 3.032785e-03\\\\\n",
       "\t acs\\_k3      &   1.31870017 &  2.25268291 &   0.5853909 & 5.586278e-01\\\\\n",
       "\t acs\\_46      &   2.03245622 &  0.79832127 &   2.5459126 & 1.128813e-02\\\\\n",
       "\t full        &   0.60971500 &  0.47582046 &   1.2813972 & 2.008254e-01\\\\\n",
       "\t emer        &  -0.70661916 &  0.60540863 &  -1.1671772 & 2.438612e-01\\\\\n",
       "\t enroll      &  -0.01216405 &  0.01679211 &  -0.7243903 & 4.692661e-01\\\\\n",
       "\\end{tabular}\n"
      ],
      "text/markdown": [
       "\n",
       "A tibble: 10 × 5\n",
       "\n",
       "| term &lt;chr&gt; | estimate &lt;dbl&gt; | std.error &lt;dbl&gt; | statistic &lt;dbl&gt; | p.value &lt;dbl&gt; |\n",
       "|---|---|---|---|---|\n",
       "| (Intercept) | 758.94179320 | 62.28600730 |  12.1847880 | 4.134890e-29 |\n",
       "| ell         |  -0.86007067 |  0.21063175 |  -4.0832907 | 5.402931e-05 |\n",
       "| meals       |  -2.94821634 |  0.17034524 | -17.3073006 | 4.715844e-50 |\n",
       "| yr_rnd      | -19.88874706 |  9.25844226 |  -2.1481742 | 3.232329e-02 |\n",
       "| mobility    |  -1.30135168 |  0.43620533 |  -2.9833466 | 3.032785e-03 |\n",
       "| acs_k3      |   1.31870017 |  2.25268291 |   0.5853909 | 5.586278e-01 |\n",
       "| acs_46      |   2.03245622 |  0.79832127 |   2.5459126 | 1.128813e-02 |\n",
       "| full        |   0.60971500 |  0.47582046 |   1.2813972 | 2.008254e-01 |\n",
       "| emer        |  -0.70661916 |  0.60540863 |  -1.1671772 | 2.438612e-01 |\n",
       "| enroll      |  -0.01216405 |  0.01679211 |  -0.7243903 | 4.692661e-01 |\n",
       "\n"
      ],
      "text/plain": [
       "   term        estimate     std.error   statistic   p.value     \n",
       "1  (Intercept) 758.94179320 62.28600730  12.1847880 4.134890e-29\n",
       "2  ell          -0.86007067  0.21063175  -4.0832907 5.402931e-05\n",
       "3  meals        -2.94821634  0.17034524 -17.3073006 4.715844e-50\n",
       "4  yr_rnd      -19.88874706  9.25844226  -2.1481742 3.232329e-02\n",
       "5  mobility     -1.30135168  0.43620533  -2.9833466 3.032785e-03\n",
       "6  acs_k3        1.31870017  2.25268291   0.5853909 5.586278e-01\n",
       "7  acs_46        2.03245622  0.79832127   2.5459126 1.128813e-02\n",
       "8  full          0.60971500  0.47582046   1.2813972 2.008254e-01\n",
       "9  emer         -0.70661916  0.60540863  -1.1671772 2.438612e-01\n",
       "10 enroll       -0.01216405  0.01679211  -0.7243903 4.692661e-01"
      ]
     },
     "metadata": {},
     "output_type": "display_data"
    }
   ],
   "source": [
    "library(broom)\n",
    "# Linear regression using lm()\n",
    "my_lm <- lm(api00 ~ ell + meals + yr_rnd + mobility + acs_k3 + acs_46 + full + emer + enroll, data = elemapi2)\n",
    "tidy(my_lm)\n"
   ]
  },
  {
   "cell_type": "markdown",
   "id": "5fcf9f00-3a07-4e34-805c-de0f95d4d76a",
   "metadata": {},
   "source": [
    "## Results"
   ]
  },
  {
   "cell_type": "markdown",
   "id": "3d365e27-c7c5-4936-90db-8392fae3a124",
   "metadata": {},
   "source": [
    "The output is divided into blocks to explain it and to reproduce it afterwards in the different languages."
   ]
  },
  {
   "cell_type": "markdown",
   "id": "40ce206b-826d-42c6-bc39-c588864d99b7",
   "metadata": {},
   "source": [
    "### Block 1\n",
    "![Block 1](img_screenshots/block_1.png)"
   ]
  },
  {
   "cell_type": "markdown",
   "id": "1b3d8b8a-b025-4482-8d09-639f9614bc79",
   "metadata": {},
   "source": [
    "Number of observations read is the number of observations in the dataset.\n",
    "\n",
    "Number of observation used is the number of complete cases regarding the variables used for the SAS program snippet.\n",
    "\n",
    "Number of observations with missing values in the model variables."
   ]
  },
  {
   "cell_type": "markdown",
   "id": "4162c096-61b5-411b-b26a-c7f1e2b3ae99",
   "metadata": {},
   "source": [
    "## R chunk for reproduction\n"
   ]
  },
  {
   "cell_type": "code",
   "execution_count": 3,
   "id": "0986023b-f0cb-47b3-90ef-dc1b92eb88f9",
   "metadata": {},
   "outputs": [
    {
     "name": "stderr",
     "output_type": "stream",
     "text": [
      "── \u001b[1mAttaching core tidyverse packages\u001b[22m ──────────────────────────────────────────────────────────────── tidyverse 2.0.0 ──\n",
      "\u001b[32m✔\u001b[39m \u001b[34mdplyr    \u001b[39m 1.1.2     \u001b[32m✔\u001b[39m \u001b[34mpurrr    \u001b[39m 1.0.1\n",
      "\u001b[32m✔\u001b[39m \u001b[34mforcats  \u001b[39m 1.0.0     \u001b[32m✔\u001b[39m \u001b[34mstringr  \u001b[39m 1.5.0\n",
      "\u001b[32m✔\u001b[39m \u001b[34mggplot2  \u001b[39m 3.4.4     \u001b[32m✔\u001b[39m \u001b[34mtibble   \u001b[39m 3.2.1\n",
      "\u001b[32m✔\u001b[39m \u001b[34mlubridate\u001b[39m 1.9.2     \u001b[32m✔\u001b[39m \u001b[34mtidyr    \u001b[39m 1.3.0\n",
      "── \u001b[1mConflicts\u001b[22m ────────────────────────────────────────────────────────────────────────────────── tidyverse_conflicts() ──\n",
      "\u001b[31m✖\u001b[39m \u001b[34mdplyr\u001b[39m::\u001b[32mfilter()\u001b[39m masks \u001b[34mstats\u001b[39m::filter()\n",
      "\u001b[31m✖\u001b[39m \u001b[34mdplyr\u001b[39m::\u001b[32mlag()\u001b[39m    masks \u001b[34mstats\u001b[39m::lag()\n",
      "\u001b[36mℹ\u001b[39m Use the conflicted package (\u001b[3m\u001b[34m<http://conflicted.r-lib.org/>\u001b[39m\u001b[23m) to force all conflicts to become errors\n"
     ]
    },
    {
     "data": {
      "text/html": [
       "400"
      ],
      "text/latex": [
       "400"
      ],
      "text/markdown": [
       "400"
      ],
      "text/plain": [
       "[1] 400"
      ]
     },
     "metadata": {},
     "output_type": "display_data"
    },
    {
     "data": {
      "text/html": [
       "395"
      ],
      "text/latex": [
       "395"
      ],
      "text/markdown": [
       "395"
      ],
      "text/plain": [
       "[1] 395"
      ]
     },
     "metadata": {},
     "output_type": "display_data"
    },
    {
     "data": {
      "text/html": [
       "395"
      ],
      "text/latex": [
       "395"
      ],
      "text/markdown": [
       "395"
      ],
      "text/plain": [
       "[1] 395"
      ]
     },
     "metadata": {},
     "output_type": "display_data"
    }
   ],
   "source": [
    "library(tidyverse)\n",
    "# Number of observations read\n",
    "nrow(elemapi2)\n",
    "# Number of observations used\n",
    "sum(elemapi2 %>% \n",
    "    select(api00, ell, meals, yr_rnd, mobility, acs_k3, acs_46, full, emer, enroll) %>%\n",
    "    complete.cases())\n",
    "\n",
    "# Alternative for number of observations used.\n",
    "nobs(my_lm)"
   ]
  },
  {
   "cell_type": "markdown",
   "id": "2a8afb50-5f20-42ff-bf5e-5e86ee3adcbe",
   "metadata": {},
   "source": [
    "The number of observations is the number of rows in the dataset.\n",
    "\n",
    "The number of observations used is either the number of complete cases regarding the variables in the model or the number returned from the nobs() function."
   ]
  },
  {
   "cell_type": "markdown",
   "id": "09f48c70-5dd6-4e6a-984e-6ed29408f555",
   "metadata": {},
   "source": [
    "### Block 2\n",
    "![Block 2](img_screenshots/block_2.png)"
   ]
  },
  {
   "cell_type": "markdown",
   "id": "49effba1-d7b9-44bd-9e51-8ae12c6bd8d0",
   "metadata": {},
   "source": [
    "An analysis of variance was performed for the data.\n",
    "\n",
    "#### Source\n",
    "The column source in this table presents the sources of variance. They are divided into\n",
    "\n",
    "-  Model,\n",
    "-  Residual, and\n",
    "-  Total.\n",
    "\n",
    "Model stands for the variance which is explained by the independent variables.\n",
    "\n",
    "Total stands for the total variance which can be divided into the variance explained from the model and the variance not explained from the model called residual or error.\n",
    "\n",
    "Sum of squares of model plus sum of squares of error is equal to the total sum of squares.\n",
    "\n",
    "#### DF\n",
    "\n",
    "The degrees of freedom are calculated as follows:\n",
    "\n",
    "The df for total is the number of used observations minus one.\n",
    "\n",
    "The df for the total is the number of variables in the model minus one. The intercept is counting as one variable if not explicitely omitted.\n",
    "\n",
    "The for for the error is the difference of $df_{total} - df_{model}$.\n",
    "\n",
    "#### Sum of squares\n",
    "\n",
    "Calculation of sum squares might be added here later.\n",
    "\n",
    "It can be found in several other tutorials.\n",
    "\n",
    "#### Mean square\n",
    "\n",
    "The mean square is the sum of squares divided by the degrees of freedom.\n",
    "\n",
    "#### F-Value\n",
    "\n",
    "The F-value is the mean square model divided by the mean square error. The degrees of freedom are $df_{model}$ and $df_{error}$.\n",
    "\n",
    "#### Pr > F\n",
    "\n",
    "The null hypothesis tested is that there is no linear relationship between the independent and the dependent variables.\n",
    "\n",
    "The alternative hypothesis states that there is a linear relationship.\n"
   ]
  },
  {
   "cell_type": "markdown",
   "id": "d9f30eb6-c80d-417f-981f-50b050e8a425",
   "metadata": {},
   "source": [
    "## R chunk for reproduction\n"
   ]
  },
  {
   "cell_type": "code",
   "execution_count": 4,
   "id": "68da3b7d-12b0-4d89-b026-0727361dabd5",
   "metadata": {},
   "outputs": [
    {
     "data": {
      "text/html": [
       "<table class=\"dataframe\">\n",
       "<caption>A tibble: 10 × 6</caption>\n",
       "<thead>\n",
       "\t<tr><th scope=col>term</th><th scope=col>df</th><th scope=col>sumsq</th><th scope=col>meansq</th><th scope=col>statistic</th><th scope=col>p.value</th></tr>\n",
       "\t<tr><th scope=col>&lt;chr&gt;</th><th scope=col>&lt;dbl&gt;</th><th scope=col>&lt;dbl&gt;</th><th scope=col>&lt;dbl&gt;</th><th scope=col>&lt;dbl&gt;</th><th scope=col>&lt;dbl&gt;</th></tr>\n",
       "</thead>\n",
       "<tbody>\n",
       "\t<tr><td>ell      </td><td>  1</td><td>4677256.605</td><td>4677256.605</td><td>1451.3842990</td><td>1.116668e-132</td></tr>\n",
       "\t<tr><td>meals    </td><td>  1</td><td>1890980.592</td><td>1890980.592</td><td> 586.7840428</td><td> 2.049987e-79</td></tr>\n",
       "\t<tr><td>yr_rnd   </td><td>  1</td><td>  50911.559</td><td>  50911.559</td><td>  15.7982006</td><td> 8.415214e-05</td></tr>\n",
       "\t<tr><td>mobility </td><td>  1</td><td>  16615.912</td><td>  16615.912</td><td>   5.1560297</td><td> 2.371755e-02</td></tr>\n",
       "\t<tr><td>acs_k3   </td><td>  1</td><td>   7182.540</td><td>   7182.540</td><td>   2.2287907</td><td> 1.362788e-01</td></tr>\n",
       "\t<tr><td>acs_46   </td><td>  1</td><td>  20061.047</td><td>  20061.047</td><td>   6.2250782</td><td> 1.301343e-02</td></tr>\n",
       "\t<tr><td>full     </td><td>  1</td><td>  71776.875</td><td>  71776.875</td><td>  22.2728489</td><td> 3.316001e-06</td></tr>\n",
       "\t<tr><td>emer     </td><td>  1</td><td>   4225.835</td><td>   4225.835</td><td>   1.3113050</td><td> 2.528699e-01</td></tr>\n",
       "\t<tr><td>enroll   </td><td>  1</td><td>   1691.041</td><td>   1691.041</td><td>   0.5247414</td><td> 4.692661e-01</td></tr>\n",
       "\t<tr><td>Residuals</td><td>385</td><td>1240707.781</td><td>   3222.618</td><td>          NA</td><td>           NA</td></tr>\n",
       "</tbody>\n",
       "</table>\n"
      ],
      "text/latex": [
       "A tibble: 10 × 6\n",
       "\\begin{tabular}{llllll}\n",
       " term & df & sumsq & meansq & statistic & p.value\\\\\n",
       " <chr> & <dbl> & <dbl> & <dbl> & <dbl> & <dbl>\\\\\n",
       "\\hline\n",
       "\t ell       &   1 & 4677256.605 & 4677256.605 & 1451.3842990 & 1.116668e-132\\\\\n",
       "\t meals     &   1 & 1890980.592 & 1890980.592 &  586.7840428 &  2.049987e-79\\\\\n",
       "\t yr\\_rnd    &   1 &   50911.559 &   50911.559 &   15.7982006 &  8.415214e-05\\\\\n",
       "\t mobility  &   1 &   16615.912 &   16615.912 &    5.1560297 &  2.371755e-02\\\\\n",
       "\t acs\\_k3    &   1 &    7182.540 &    7182.540 &    2.2287907 &  1.362788e-01\\\\\n",
       "\t acs\\_46    &   1 &   20061.047 &   20061.047 &    6.2250782 &  1.301343e-02\\\\\n",
       "\t full      &   1 &   71776.875 &   71776.875 &   22.2728489 &  3.316001e-06\\\\\n",
       "\t emer      &   1 &    4225.835 &    4225.835 &    1.3113050 &  2.528699e-01\\\\\n",
       "\t enroll    &   1 &    1691.041 &    1691.041 &    0.5247414 &  4.692661e-01\\\\\n",
       "\t Residuals & 385 & 1240707.781 &    3222.618 &           NA &            NA\\\\\n",
       "\\end{tabular}\n"
      ],
      "text/markdown": [
       "\n",
       "A tibble: 10 × 6\n",
       "\n",
       "| term &lt;chr&gt; | df &lt;dbl&gt; | sumsq &lt;dbl&gt; | meansq &lt;dbl&gt; | statistic &lt;dbl&gt; | p.value &lt;dbl&gt; |\n",
       "|---|---|---|---|---|---|\n",
       "| ell       |   1 | 4677256.605 | 4677256.605 | 1451.3842990 | 1.116668e-132 |\n",
       "| meals     |   1 | 1890980.592 | 1890980.592 |  586.7840428 |  2.049987e-79 |\n",
       "| yr_rnd    |   1 |   50911.559 |   50911.559 |   15.7982006 |  8.415214e-05 |\n",
       "| mobility  |   1 |   16615.912 |   16615.912 |    5.1560297 |  2.371755e-02 |\n",
       "| acs_k3    |   1 |    7182.540 |    7182.540 |    2.2287907 |  1.362788e-01 |\n",
       "| acs_46    |   1 |   20061.047 |   20061.047 |    6.2250782 |  1.301343e-02 |\n",
       "| full      |   1 |   71776.875 |   71776.875 |   22.2728489 |  3.316001e-06 |\n",
       "| emer      |   1 |    4225.835 |    4225.835 |    1.3113050 |  2.528699e-01 |\n",
       "| enroll    |   1 |    1691.041 |    1691.041 |    0.5247414 |  4.692661e-01 |\n",
       "| Residuals | 385 | 1240707.781 |    3222.618 |           NA |            NA |\n",
       "\n"
      ],
      "text/plain": [
       "   term      df  sumsq       meansq      statistic    p.value      \n",
       "1  ell         1 4677256.605 4677256.605 1451.3842990 1.116668e-132\n",
       "2  meals       1 1890980.592 1890980.592  586.7840428  2.049987e-79\n",
       "3  yr_rnd      1   50911.559   50911.559   15.7982006  8.415214e-05\n",
       "4  mobility    1   16615.912   16615.912    5.1560297  2.371755e-02\n",
       "5  acs_k3      1    7182.540    7182.540    2.2287907  1.362788e-01\n",
       "6  acs_46      1   20061.047   20061.047    6.2250782  1.301343e-02\n",
       "7  full        1   71776.875   71776.875   22.2728489  3.316001e-06\n",
       "8  emer        1    4225.835    4225.835    1.3113050  2.528699e-01\n",
       "9  enroll      1    1691.041    1691.041    0.5247414  4.692661e-01\n",
       "10 Residuals 385 1240707.781    3222.618           NA            NA"
      ]
     },
     "metadata": {},
     "output_type": "display_data"
    }
   ],
   "source": [
    "my_aov<- aov(api00 ~ ell + meals + yr_rnd + mobility + acs_k3 + acs_46 + full + emer + enroll, data = elemapi2)\n",
    "tidy(my_aov)"
   ]
  },
  {
   "cell_type": "markdown",
   "id": "9663f022-f328-4ac7-ba7b-69576c203db9",
   "metadata": {},
   "source": [
    "The model here is split into the individual parameters. It is not complete model in one row compared to SAS.\n",
    "\n",
    "Error here is called residuals.\n",
    "\n",
    "The row with the total is missing. It could be appended easily as the sum of the df column and as the sum of the sum of squares column.\n",
    "\n",
    "The columns and their contents are similar."
   ]
  },
  {
   "cell_type": "markdown",
   "id": "c600c9a5-619f-4495-80e6-85c89a18877d",
   "metadata": {},
   "source": [
    "### Block 3\n",
    "![Block 3](img_screenshots/block_3.png)"
   ]
  },
  {
   "cell_type": "markdown",
   "id": "8db617ba-815b-4d44-9383-8c36320a9d04",
   "metadata": {},
   "source": [
    "### Root MSE\n",
    "\n",
    "Root MSE is the standard deviation of the error term.\n",
    "\n",
    "It is the square root of the mean square error (or residual).\n",
    "\n",
    "### Dependent mean\n",
    "\n",
    "The dependent mean is the mean of the dependent variable of those observations which were used and not omitted.\n",
    "\n",
    "### Coeff Var\n",
    "\n",
    "The coefficient of variation is the root MSE divided by the dependent mean. It is a measure of variation in the data.\n",
    "\n",
    "### R-square\n",
    "\n",
    "R-square is the proportion of the explained variance based on the total variance. Sum of square model divided by sum of square total.\n",
    "\n",
    "### Adj R-Sq\n",
    "\n",
    "Adjusted R-square adjusts for the relation between the number of variables (k) in the model and the number of observations (N) in the dataset.\n",
    "\n",
    "$R_{adj} = 1 – ((1 – Rsq)((N – 1) / (N – k – 1))$\n",
    "\n"
   ]
  },
  {
   "cell_type": "markdown",
   "id": "dee34049-bf0e-44c8-a7d0-bd35d6f29168",
   "metadata": {},
   "source": [
    "## R chunk for reproduction"
   ]
  },
  {
   "cell_type": "code",
   "execution_count": 5,
   "id": "d430842e-e434-43b6-932a-7bc09941b34f",
   "metadata": {},
   "outputs": [
    {
     "data": {
      "text/html": [
       "<table class=\"dataframe\">\n",
       "<caption>A tibble: 1 × 12</caption>\n",
       "<thead>\n",
       "\t<tr><th scope=col>r.squared</th><th scope=col>adj.r.squared</th><th scope=col>sigma</th><th scope=col>statistic</th><th scope=col>p.value</th><th scope=col>df</th><th scope=col>logLik</th><th scope=col>AIC</th><th scope=col>BIC</th><th scope=col>deviance</th><th scope=col>df.residual</th><th scope=col>nobs</th></tr>\n",
       "\t<tr><th scope=col>&lt;dbl&gt;</th><th scope=col>&lt;dbl&gt;</th><th scope=col>&lt;dbl&gt;</th><th scope=col>&lt;dbl&gt;</th><th scope=col>&lt;dbl&gt;</th><th scope=col>&lt;dbl&gt;</th><th scope=col>&lt;dbl&gt;</th><th scope=col>&lt;dbl&gt;</th><th scope=col>&lt;dbl&gt;</th><th scope=col>&lt;dbl&gt;</th><th scope=col>&lt;int&gt;</th><th scope=col>&lt;int&gt;</th></tr>\n",
       "</thead>\n",
       "<tbody>\n",
       "\t<tr><td>0.8445503</td><td>0.8409164</td><td>56.7681</td><td>232.4095</td><td>1.183585e-149</td><td>9</td><td>-2150.811</td><td>4323.623</td><td>4367.39</td><td>1240708</td><td>385</td><td>395</td></tr>\n",
       "</tbody>\n",
       "</table>\n"
      ],
      "text/latex": [
       "A tibble: 1 × 12\n",
       "\\begin{tabular}{llllllllllll}\n",
       " r.squared & adj.r.squared & sigma & statistic & p.value & df & logLik & AIC & BIC & deviance & df.residual & nobs\\\\\n",
       " <dbl> & <dbl> & <dbl> & <dbl> & <dbl> & <dbl> & <dbl> & <dbl> & <dbl> & <dbl> & <int> & <int>\\\\\n",
       "\\hline\n",
       "\t 0.8445503 & 0.8409164 & 56.7681 & 232.4095 & 1.183585e-149 & 9 & -2150.811 & 4323.623 & 4367.39 & 1240708 & 385 & 395\\\\\n",
       "\\end{tabular}\n"
      ],
      "text/markdown": [
       "\n",
       "A tibble: 1 × 12\n",
       "\n",
       "| r.squared &lt;dbl&gt; | adj.r.squared &lt;dbl&gt; | sigma &lt;dbl&gt; | statistic &lt;dbl&gt; | p.value &lt;dbl&gt; | df &lt;dbl&gt; | logLik &lt;dbl&gt; | AIC &lt;dbl&gt; | BIC &lt;dbl&gt; | deviance &lt;dbl&gt; | df.residual &lt;int&gt; | nobs &lt;int&gt; |\n",
       "|---|---|---|---|---|---|---|---|---|---|---|---|\n",
       "| 0.8445503 | 0.8409164 | 56.7681 | 232.4095 | 1.183585e-149 | 9 | -2150.811 | 4323.623 | 4367.39 | 1240708 | 385 | 395 |\n",
       "\n"
      ],
      "text/plain": [
       "  r.squared adj.r.squared sigma   statistic p.value       df logLik    AIC     \n",
       "1 0.8445503 0.8409164     56.7681 232.4095  1.183585e-149 9  -2150.811 4323.623\n",
       "  BIC     deviance df.residual nobs\n",
       "1 4367.39 1240708  385         395 "
      ]
     },
     "metadata": {},
     "output_type": "display_data"
    }
   ],
   "source": [
    "glance(my_lm)"
   ]
  },
  {
   "cell_type": "markdown",
   "id": "aa058a2f-f61b-4ef5-aaa1-d685efe28d65",
   "metadata": {},
   "source": [
    "The glance() function provides\n",
    "\n",
    "Root MSE: sigma\n",
    "R-square: r.squared\n",
    "Adjusted R-Square: adj.r.squared\n",
    "Dependent mean and Coeff Var can be calculated."
   ]
  },
  {
   "cell_type": "code",
   "execution_count": 6,
   "id": "780ea586-354a-4953-82e1-e968000abd47",
   "metadata": {},
   "outputs": [
    {
     "data": {
      "text/html": [
       "648.650632911392"
      ],
      "text/latex": [
       "648.650632911392"
      ],
      "text/markdown": [
       "648.650632911392"
      ],
      "text/plain": [
       "[1] 648.6506"
      ]
     },
     "metadata": {},
     "output_type": "display_data"
    },
    {
     "data": {
      "text/html": [
       "8.75172256915632"
      ],
      "text/latex": [
       "8.75172256915632"
      ],
      "text/markdown": [
       "8.75172256915632"
      ],
      "text/plain": [
       "[1] 8.751723"
      ]
     },
     "metadata": {},
     "output_type": "display_data"
    }
   ],
   "source": [
    "df_complete <- elemapi2[complete.cases(elemapi2 %>% select(api00, ell, meals, yr_rnd, mobility, acs_k3, acs_46, full, emer, enroll)), ]\n",
    "\n",
    "DependentMean <- mean(df_complete$api00)\n",
    "DependentMean\n",
    "CoeffVar <- glance(my_lm)$sigma / DependentMean * 100\n",
    "CoeffVar"
   ]
  },
  {
   "cell_type": "markdown",
   "id": "e76ff54b-9339-4c00-bb4e-c5deea17de63",
   "metadata": {},
   "source": [
    "### Block 4\n",
    "![Block 4](img_screenshots/block_4.png)"
   ]
  },
  {
   "cell_type": "markdown",
   "id": "7ab28463-dbe3-4148-911b-47780ee08a57",
   "metadata": {},
   "source": [
    "#### Variable\n",
    "\n",
    "This column refers to the name of the variable in the model.\n",
    "\n",
    "#### DF\n",
    "\n",
    "The degrees of freedom are one for continous and binary variable. For categorial variables they are equal to the number of levels minus.\n",
    "\n",
    "#### Parameter estimate\n",
    "\n",
    "This columns containts the values which are the $b_i$ in the model.\n",
    "\n",
    "$\\hat{y} = b_0 + b_1 * x_1 + b_2 * x_2 + ... + b_n * x_n$\n",
    "\n",
    "$api00 = 758.94 - 0.86 * ell - 2.95 * meals ...$\n",
    "\n",
    "#### Standard error\n",
    "\n",
    "The standard errors are provided for each variable.\n",
    "\n",
    "They can be used for calculating the t-value: Parameter estimate divided by standard error.   \n",
    "\n",
    "#### t value\n",
    "\n",
    "The null hypothesis tested is that the coefficient is zero.\n",
    "\n",
    "The alternative hypothesis is that the coefficient is unequal to zero.\n",
    "\n",
    "#### Pr > |t|\n",
    "\n",
    "p is provided for a two-sided test. It can be divided by two for a one-sided test.\n",
    "\n",
    "#### Standardized estimate\n",
    "\n",
    "This estimates results after standardizing all continous variables before including them into the model.\n"
   ]
  },
  {
   "cell_type": "markdown",
   "id": "1b60a7b0-7020-457c-9327-2886307ee986",
   "metadata": {},
   "source": [
    "## R chunk for reproduction\n"
   ]
  },
  {
   "cell_type": "code",
   "execution_count": 7,
   "id": "f34833b5-66f0-4a66-a52d-361def63fc05",
   "metadata": {},
   "outputs": [
    {
     "data": {
      "text/html": [
       "<table class=\"dataframe\">\n",
       "<caption>A tibble: 10 × 5</caption>\n",
       "<thead>\n",
       "\t<tr><th scope=col>term</th><th scope=col>estimate</th><th scope=col>std.error</th><th scope=col>statistic</th><th scope=col>p.value</th></tr>\n",
       "\t<tr><th scope=col>&lt;chr&gt;</th><th scope=col>&lt;dbl&gt;</th><th scope=col>&lt;dbl&gt;</th><th scope=col>&lt;dbl&gt;</th><th scope=col>&lt;dbl&gt;</th></tr>\n",
       "</thead>\n",
       "<tbody>\n",
       "\t<tr><td>(Intercept)</td><td>758.94179320</td><td>62.28600730</td><td> 12.1847880</td><td>4.134890e-29</td></tr>\n",
       "\t<tr><td>ell        </td><td> -0.86007067</td><td> 0.21063175</td><td> -4.0832907</td><td>5.402931e-05</td></tr>\n",
       "\t<tr><td>meals      </td><td> -2.94821634</td><td> 0.17034524</td><td>-17.3073006</td><td>4.715844e-50</td></tr>\n",
       "\t<tr><td>yr_rnd     </td><td>-19.88874706</td><td> 9.25844226</td><td> -2.1481742</td><td>3.232329e-02</td></tr>\n",
       "\t<tr><td>mobility   </td><td> -1.30135168</td><td> 0.43620533</td><td> -2.9833466</td><td>3.032785e-03</td></tr>\n",
       "\t<tr><td>acs_k3     </td><td>  1.31870017</td><td> 2.25268291</td><td>  0.5853909</td><td>5.586278e-01</td></tr>\n",
       "\t<tr><td>acs_46     </td><td>  2.03245622</td><td> 0.79832127</td><td>  2.5459126</td><td>1.128813e-02</td></tr>\n",
       "\t<tr><td>full       </td><td>  0.60971500</td><td> 0.47582046</td><td>  1.2813972</td><td>2.008254e-01</td></tr>\n",
       "\t<tr><td>emer       </td><td> -0.70661916</td><td> 0.60540863</td><td> -1.1671772</td><td>2.438612e-01</td></tr>\n",
       "\t<tr><td>enroll     </td><td> -0.01216405</td><td> 0.01679211</td><td> -0.7243903</td><td>4.692661e-01</td></tr>\n",
       "</tbody>\n",
       "</table>\n"
      ],
      "text/latex": [
       "A tibble: 10 × 5\n",
       "\\begin{tabular}{lllll}\n",
       " term & estimate & std.error & statistic & p.value\\\\\n",
       " <chr> & <dbl> & <dbl> & <dbl> & <dbl>\\\\\n",
       "\\hline\n",
       "\t (Intercept) & 758.94179320 & 62.28600730 &  12.1847880 & 4.134890e-29\\\\\n",
       "\t ell         &  -0.86007067 &  0.21063175 &  -4.0832907 & 5.402931e-05\\\\\n",
       "\t meals       &  -2.94821634 &  0.17034524 & -17.3073006 & 4.715844e-50\\\\\n",
       "\t yr\\_rnd      & -19.88874706 &  9.25844226 &  -2.1481742 & 3.232329e-02\\\\\n",
       "\t mobility    &  -1.30135168 &  0.43620533 &  -2.9833466 & 3.032785e-03\\\\\n",
       "\t acs\\_k3      &   1.31870017 &  2.25268291 &   0.5853909 & 5.586278e-01\\\\\n",
       "\t acs\\_46      &   2.03245622 &  0.79832127 &   2.5459126 & 1.128813e-02\\\\\n",
       "\t full        &   0.60971500 &  0.47582046 &   1.2813972 & 2.008254e-01\\\\\n",
       "\t emer        &  -0.70661916 &  0.60540863 &  -1.1671772 & 2.438612e-01\\\\\n",
       "\t enroll      &  -0.01216405 &  0.01679211 &  -0.7243903 & 4.692661e-01\\\\\n",
       "\\end{tabular}\n"
      ],
      "text/markdown": [
       "\n",
       "A tibble: 10 × 5\n",
       "\n",
       "| term &lt;chr&gt; | estimate &lt;dbl&gt; | std.error &lt;dbl&gt; | statistic &lt;dbl&gt; | p.value &lt;dbl&gt; |\n",
       "|---|---|---|---|---|\n",
       "| (Intercept) | 758.94179320 | 62.28600730 |  12.1847880 | 4.134890e-29 |\n",
       "| ell         |  -0.86007067 |  0.21063175 |  -4.0832907 | 5.402931e-05 |\n",
       "| meals       |  -2.94821634 |  0.17034524 | -17.3073006 | 4.715844e-50 |\n",
       "| yr_rnd      | -19.88874706 |  9.25844226 |  -2.1481742 | 3.232329e-02 |\n",
       "| mobility    |  -1.30135168 |  0.43620533 |  -2.9833466 | 3.032785e-03 |\n",
       "| acs_k3      |   1.31870017 |  2.25268291 |   0.5853909 | 5.586278e-01 |\n",
       "| acs_46      |   2.03245622 |  0.79832127 |   2.5459126 | 1.128813e-02 |\n",
       "| full        |   0.60971500 |  0.47582046 |   1.2813972 | 2.008254e-01 |\n",
       "| emer        |  -0.70661916 |  0.60540863 |  -1.1671772 | 2.438612e-01 |\n",
       "| enroll      |  -0.01216405 |  0.01679211 |  -0.7243903 | 4.692661e-01 |\n",
       "\n"
      ],
      "text/plain": [
       "   term        estimate     std.error   statistic   p.value     \n",
       "1  (Intercept) 758.94179320 62.28600730  12.1847880 4.134890e-29\n",
       "2  ell          -0.86007067  0.21063175  -4.0832907 5.402931e-05\n",
       "3  meals        -2.94821634  0.17034524 -17.3073006 4.715844e-50\n",
       "4  yr_rnd      -19.88874706  9.25844226  -2.1481742 3.232329e-02\n",
       "5  mobility     -1.30135168  0.43620533  -2.9833466 3.032785e-03\n",
       "6  acs_k3        1.31870017  2.25268291   0.5853909 5.586278e-01\n",
       "7  acs_46        2.03245622  0.79832127   2.5459126 1.128813e-02\n",
       "8  full          0.60971500  0.47582046   1.2813972 2.008254e-01\n",
       "9  emer         -0.70661916  0.60540863  -1.1671772 2.438612e-01\n",
       "10 enroll       -0.01216405  0.01679211  -0.7243903 4.692661e-01"
      ]
     },
     "metadata": {},
     "output_type": "display_data"
    }
   ],
   "source": [
    "my_lm <- lm(api00 ~ ell + meals + yr_rnd + mobility + acs_k3 + acs_46 + full + emer + enroll, data = elemapi2)\n",
    "tidy(my_lm)"
   ]
  },
  {
   "cell_type": "markdown",
   "id": "a1eac7b4-842f-4370-b262-68afc592f96f",
   "metadata": {},
   "source": [
    "The column with the degrees of freedom is missing.\r\n",
    "\r\n",
    "The other columns are similar.\r\n",
    "\r\n",
    "The summary() function gives an overview of the results."
   ]
  },
  {
   "cell_type": "code",
   "execution_count": 8,
   "id": "e407914b-5428-4307-be7a-4c442182518d",
   "metadata": {},
   "outputs": [
    {
     "data": {
      "text/plain": [
       "\n",
       "Call:\n",
       "lm(formula = api00 ~ ell + meals + yr_rnd + mobility + acs_k3 + \n",
       "    acs_46 + full + emer + enroll, data = elemapi2)\n",
       "\n",
       "Residuals:\n",
       "     Min       1Q   Median       3Q      Max \n",
       "-171.934  -39.294   -2.973   36.096  158.440 \n",
       "\n",
       "Coefficients:\n",
       "             Estimate Std. Error t value Pr(>|t|)    \n",
       "(Intercept) 758.94179   62.28601  12.185  < 2e-16 ***\n",
       "ell          -0.86007    0.21063  -4.083  5.4e-05 ***\n",
       "meals        -2.94822    0.17035 -17.307  < 2e-16 ***\n",
       "yr_rnd      -19.88875    9.25844  -2.148  0.03232 *  \n",
       "mobility     -1.30135    0.43621  -2.983  0.00303 ** \n",
       "acs_k3        1.31870    2.25268   0.585  0.55863    \n",
       "acs_46        2.03246    0.79832   2.546  0.01129 *  \n",
       "full          0.60972    0.47582   1.281  0.20083    \n",
       "emer         -0.70662    0.60541  -1.167  0.24386    \n",
       "enroll       -0.01216    0.01679  -0.724  0.46927    \n",
       "---\n",
       "Signif. codes:  0 '***' 0.001 '**' 0.01 '*' 0.05 '.' 0.1 ' ' 1\n",
       "\n",
       "Residual standard error: 56.77 on 385 degrees of freedom\n",
       "  (5 Beobachtungen als fehlend gelöscht)\n",
       "Multiple R-squared:  0.8446,\tAdjusted R-squared:  0.8409 \n",
       "F-statistic: 232.4 on 9 and 385 DF,  p-value: < 2.2e-16\n"
      ]
     },
     "metadata": {},
     "output_type": "display_data"
    }
   ],
   "source": [
    "summary(my_lm)"
   ]
  },
  {
   "cell_type": "code",
   "execution_count": null,
   "id": "1a9e3101-9e00-46e1-90c0-3c1bb460ba60",
   "metadata": {},
   "outputs": [],
   "source": []
  }
 ],
 "metadata": {
  "kernelspec": {
   "display_name": "R 4.3.2",
   "language": "R",
   "name": "ir432"
  },
  "language_info": {
   "codemirror_mode": "r",
   "file_extension": ".r",
   "mimetype": "text/x-r-source",
   "name": "R",
   "pygments_lexer": "r",
   "version": "4.3.2"
  }
 },
 "nbformat": 4,
 "nbformat_minor": 5
}
