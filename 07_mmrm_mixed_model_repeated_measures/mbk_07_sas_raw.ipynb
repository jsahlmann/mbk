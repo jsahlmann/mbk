{
 "cells": [
  {
   "cell_type": "markdown",
   "id": "df8091c6-2036-476c-b540-77db13c8369e",
   "metadata": {},
   "source": [
    "# 07 - MMRM Mixed model repeated measures "
   ]
  },
  {
   "cell_type": "markdown",
   "id": "8cf7dd5a-4d82-471f-8a41-39e05dbdde32",
   "metadata": {},
   "source": [
    "## Data"
   ]
  },
  {
   "cell_type": "markdown",
   "id": "f4874aaa-1498-44be-8371-053af86b4735",
   "metadata": {},
   "source": [
    "Source of data: SAS Support\n",
    "\n",
    "https://support.sas.com/documentation/cdl/en/statug/63347/HTML/default/viewer.htm#statug_mixed_sect034.htm\n",
    "\n",
    "Dataset pr.csv"
   ]
  },
  {
   "cell_type": "code",
   "execution_count": 1,
   "id": "09e0948e-f67e-4798-8b78-888edfcf8a78",
   "metadata": {},
   "outputs": [
    {
     "data": {
      "text/html": [
       "<table class=\"dataframe\">\n",
       "<caption>A tibble: 6 × 4</caption>\n",
       "<thead>\n",
       "\t<tr><th scope=col>Person</th><th scope=col>Gender</th><th scope=col>y</th><th scope=col>Age</th></tr>\n",
       "\t<tr><th scope=col>&lt;dbl&gt;</th><th scope=col>&lt;chr&gt;</th><th scope=col>&lt;dbl&gt;</th><th scope=col>&lt;dbl&gt;</th></tr>\n",
       "</thead>\n",
       "<tbody>\n",
       "\t<tr><td>1</td><td>F</td><td>21.0</td><td> 8</td></tr>\n",
       "\t<tr><td>1</td><td>F</td><td>20.0</td><td>10</td></tr>\n",
       "\t<tr><td>1</td><td>F</td><td>21.5</td><td>12</td></tr>\n",
       "\t<tr><td>1</td><td>F</td><td>23.0</td><td>14</td></tr>\n",
       "\t<tr><td>2</td><td>F</td><td>21.0</td><td> 8</td></tr>\n",
       "\t<tr><td>2</td><td>F</td><td>21.5</td><td>10</td></tr>\n",
       "</tbody>\n",
       "</table>\n"
      ],
      "text/latex": [
       "A tibble: 6 × 4\n",
       "\\begin{tabular}{llll}\n",
       " Person & Gender & y & Age\\\\\n",
       " <dbl> & <chr> & <dbl> & <dbl>\\\\\n",
       "\\hline\n",
       "\t 1 & F & 21.0 &  8\\\\\n",
       "\t 1 & F & 20.0 & 10\\\\\n",
       "\t 1 & F & 21.5 & 12\\\\\n",
       "\t 1 & F & 23.0 & 14\\\\\n",
       "\t 2 & F & 21.0 &  8\\\\\n",
       "\t 2 & F & 21.5 & 10\\\\\n",
       "\\end{tabular}\n"
      ],
      "text/markdown": [
       "\n",
       "A tibble: 6 × 4\n",
       "\n",
       "| Person &lt;dbl&gt; | Gender &lt;chr&gt; | y &lt;dbl&gt; | Age &lt;dbl&gt; |\n",
       "|---|---|---|---|\n",
       "| 1 | F | 21.0 |  8 |\n",
       "| 1 | F | 20.0 | 10 |\n",
       "| 1 | F | 21.5 | 12 |\n",
       "| 1 | F | 23.0 | 14 |\n",
       "| 2 | F | 21.0 |  8 |\n",
       "| 2 | F | 21.5 | 10 |\n",
       "\n"
      ],
      "text/plain": [
       "  Person Gender y    Age\n",
       "1 1      F      21.0  8 \n",
       "2 1      F      20.0 10 \n",
       "3 1      F      21.5 12 \n",
       "4 1      F      23.0 14 \n",
       "5 2      F      21.0  8 \n",
       "6 2      F      21.5 10 "
      ]
     },
     "metadata": {},
     "output_type": "display_data"
    }
   ],
   "source": [
    "library(readr)\n",
    "pr <- read_csv(\"data/PR.csv\",\n",
    "                 show_col_types = FALSE)\n",
    "head(pr)\n"
   ]
  },
  {
   "cell_type": "markdown",
   "id": "5e3e5853-4e74-43f7-b9fb-f9a42816fcad",
   "metadata": {},
   "source": [
    "## SAS program snippet"
   ]
  },
  {
   "cell_type": "markdown",
   "id": "72a25d47-c22e-4226-89b2-8e8625f61f8c",
   "metadata": {},
   "source": [
    "The following SAS code will be executed."
   ]
  },
  {
   "cell_type": "raw",
   "id": "b171d2d0-81ef-41e8-8987-5c68601be412",
   "metadata": {},
   "source": [
    "proc mixed data=pr method=ml covtest;\n",
    "   class Person Gender;\n",
    "   model y = Gender Age Gender*Age / s;\n",
    "   repeated / type=un subject=Person r;\n",
    "run;\n"
   ]
  },
  {
   "cell_type": "markdown",
   "id": "5fcf9f00-3a07-4e34-805c-de0f95d4d76a",
   "metadata": {},
   "source": [
    "## Results"
   ]
  },
  {
   "cell_type": "markdown",
   "id": "3d365e27-c7c5-4936-90db-8392fae3a124",
   "metadata": {},
   "source": [
    "The output is divided into blocks to explain it and to reproduce it afterwards in the different languages."
   ]
  },
  {
   "cell_type": "markdown",
   "id": "40ce206b-826d-42c6-bc39-c588864d99b7",
   "metadata": {},
   "source": [
    "### Block 1\n",
    "![Block 1](img_screenshots/block_1.png)"
   ]
  },
  {
   "cell_type": "markdown",
   "id": "9c99b81f-4e52-4ee5-890a-72d2670c4e57",
   "metadata": {},
   "source": [
    "This block gives information about the model."
   ]
  },
  {
   "cell_type": "code",
   "execution_count": null,
   "id": "9698bffe-6f60-494e-bc0e-b0a7b9da47ed",
   "metadata": {},
   "outputs": [],
   "source": []
  },
  {
   "cell_type": "markdown",
   "id": "09f48c70-5dd6-4e6a-984e-6ed29408f555",
   "metadata": {},
   "source": [
    "### Block 2\n",
    "![Block 2](img_screenshots/block_2.png)"
   ]
  },
  {
   "cell_type": "markdown",
   "id": "3254e0b7-3c3b-4fd0-8a86-afa09c992d1c",
   "metadata": {},
   "source": [
    "This block gives the level for the categorical variables."
   ]
  },
  {
   "cell_type": "code",
   "execution_count": null,
   "id": "e2ed1f16-4537-41c1-9807-601ecc6563ff",
   "metadata": {},
   "outputs": [],
   "source": []
  },
  {
   "cell_type": "markdown",
   "id": "c600c9a5-619f-4495-80e6-85c89a18877d",
   "metadata": {},
   "source": [
    "### Block 3\n",
    "![Block 3](img_screenshots/block_3.png)"
   ]
  },
  {
   "cell_type": "markdown",
   "id": "162d66cf-ebea-4747-aca1-fbc3f3f2f3b3",
   "metadata": {},
   "source": [
    "This block gives information about the number of subjects and the maximal number of observations per subject."
   ]
  },
  {
   "cell_type": "code",
   "execution_count": null,
   "id": "d99e8dbc-833b-4b5b-b656-02798ec7277f",
   "metadata": {},
   "outputs": [],
   "source": []
  },
  {
   "cell_type": "markdown",
   "id": "e76ff54b-9339-4c00-bb4e-c5deea17de63",
   "metadata": {},
   "source": [
    "### Block 4\n",
    "![Block 4](img_screenshots/block_4.png)"
   ]
  },
  {
   "cell_type": "markdown",
   "id": "d0ff367f-34a4-4156-9197-a1a9ec4a2e34",
   "metadata": {},
   "source": [
    "The number of observations used might be less than the number of observations read. SAS performs a listwise deletion (complete case analysis) if missing values are present."
   ]
  },
  {
   "cell_type": "code",
   "execution_count": null,
   "id": "4e7127eb-a2b0-4b12-96c7-95e8d5954dfc",
   "metadata": {},
   "outputs": [],
   "source": []
  },
  {
   "cell_type": "markdown",
   "id": "8743a8b2-74c2-4ef6-b1ba-8446feafb902",
   "metadata": {},
   "source": [
    "### Block 5\n",
    "![Block 5](img_screenshots/block_5.png)"
   ]
  },
  {
   "cell_type": "markdown",
   "id": "bc7d4e9f-ac7e-4874-b760-eeb943523241",
   "metadata": {},
   "source": [
    "This block gives information about the iteration process."
   ]
  },
  {
   "cell_type": "code",
   "execution_count": null,
   "id": "12f38a03-c2bc-4911-9f92-d62f584f50ce",
   "metadata": {},
   "outputs": [],
   "source": []
  },
  {
   "cell_type": "markdown",
   "id": "2cea3490-b255-48f5-a479-2b340380c718",
   "metadata": {},
   "source": [
    "### Block 6\n",
    "![Block 6](img_screenshots/block_6.png)"
   ]
  },
  {
   "cell_type": "markdown",
   "id": "04cbc961-9677-4ead-a9eb-0dbc4c9378d2",
   "metadata": {},
   "source": [
    "This block informs about the status of the iterative estimation process at the end of the Newton-Raphson optimization."
   ]
  },
  {
   "cell_type": "code",
   "execution_count": null,
   "id": "5eab8837-680e-48a4-b98b-09cb4be1fa8c",
   "metadata": {},
   "outputs": [],
   "source": []
  },
  {
   "cell_type": "markdown",
   "id": "30db5cb8-1c58-498a-8602-07ad1e8ffd6c",
   "metadata": {},
   "source": [
    "### Block 7\n",
    "![Block 7](img_screenshots/block_7.png)"
   ]
  },
  {
   "cell_type": "markdown",
   "id": "7a32ad22-f272-4ca6-aad5-263cc30bae5e",
   "metadata": {},
   "source": [
    "Details for this block can be found in the SAS Proc MIXED manuals in Mixed Models Theory."
   ]
  },
  {
   "cell_type": "code",
   "execution_count": null,
   "id": "18fb8076-cc2f-44bf-aaee-c37001f8e8c5",
   "metadata": {},
   "outputs": [],
   "source": []
  },
  {
   "cell_type": "markdown",
   "id": "804b643f-8477-4a08-b97a-5a2da33bfbd0",
   "metadata": {},
   "source": [
    "### Block 8\n",
    "![Block 8](img_screenshots/block_8.png)"
   ]
  },
  {
   "cell_type": "markdown",
   "id": "79ef84ff-8ae4-4814-9178-f11a36b19cac",
   "metadata": {},
   "source": [
    "This block gives statistics about the estimated mixed models."
   ]
  },
  {
   "cell_type": "code",
   "execution_count": null,
   "id": "2fa9e551-47b4-4ffc-9363-13e91bd05884",
   "metadata": {},
   "outputs": [],
   "source": []
  },
  {
   "cell_type": "markdown",
   "id": "3840f423-705b-441e-a656-29a43fb2fadc",
   "metadata": {},
   "source": [
    "### Block 9\n",
    "![Block 9](img_screenshots/block_9.png)"
   ]
  },
  {
   "cell_type": "markdown",
   "id": "63a83e7d-61bb-452e-afab-73e953bd55c8",
   "metadata": {},
   "source": [
    "This block gives the likelihood ratio test for the null model."
   ]
  },
  {
   "cell_type": "code",
   "execution_count": null,
   "id": "2ad24529-dd35-4103-ad37-84cff1863df4",
   "metadata": {},
   "outputs": [],
   "source": []
  },
  {
   "cell_type": "markdown",
   "id": "20cce651-41df-44c9-81a1-5cb76fb809e9",
   "metadata": {},
   "source": [
    "### Block 10\n",
    "![Block 10](img_screenshots/block_10.png)"
   ]
  },
  {
   "cell_type": "markdown",
   "id": "d0b3cd8c-a10b-4af5-86de-842531672065",
   "metadata": {},
   "source": [
    "This block provides the estimates for the fixed effects of the model."
   ]
  },
  {
   "cell_type": "code",
   "execution_count": null,
   "id": "dd2ed4e2-ed86-4062-a2a1-3a56413120fb",
   "metadata": {},
   "outputs": [],
   "source": []
  },
  {
   "cell_type": "markdown",
   "id": "b5ed5474-6886-4558-8202-0bc9bcd49404",
   "metadata": {},
   "source": [
    "### Block 11\n",
    "![Block 11](img_screenshots/block_11.png)"
   ]
  },
  {
   "cell_type": "markdown",
   "id": "b51b766c-b98e-41db-a9e6-8f3deda6f8c3",
   "metadata": {},
   "source": [
    "This block contains hypothesis tests for the significance of each of the fixed effects."
   ]
  },
  {
   "cell_type": "code",
   "execution_count": null,
   "id": "f34833b5-66f0-4a66-a52d-361def63fc05",
   "metadata": {},
   "outputs": [],
   "source": []
  }
 ],
 "metadata": {
  "kernelspec": {
   "display_name": "R 4.3.2",
   "language": "R",
   "name": "ir432"
  },
  "language_info": {
   "codemirror_mode": "r",
   "file_extension": ".r",
   "mimetype": "text/x-r-source",
   "name": "R",
   "pygments_lexer": "r",
   "version": "4.3.2"
  }
 },
 "nbformat": 4,
 "nbformat_minor": 5
}
