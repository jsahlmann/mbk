{
 "cells": [
  {
   "cell_type": "markdown",
   "id": "df8091c6-2036-476c-b540-77db13c8369e",
   "metadata": {},
   "source": [
    "# 07 - MMRM Mixed model repeated measures "
   ]
  },
  {
   "cell_type": "markdown",
   "id": "8cf7dd5a-4d82-471f-8a41-39e05dbdde32",
   "metadata": {},
   "source": [
    "## Data"
   ]
  },
  {
   "cell_type": "markdown",
   "id": "f4874aaa-1498-44be-8371-053af86b4735",
   "metadata": {},
   "source": [
    "Source of data: SAS Support\n",
    "\n",
    "https://support.sas.com/documentation/cdl/en/statug/63347/HTML/default/viewer.htm#statug_mixed_sect034.htm\n",
    "\n",
    "Dataset pr.csv"
   ]
  },
  {
   "cell_type": "code",
   "execution_count": 4,
   "id": "09e0948e-f67e-4798-8b78-888edfcf8a78",
   "metadata": {},
   "outputs": [
    {
     "data": {
      "text/html": [
       "<table class=\"dataframe\">\n",
       "<caption>A tibble: 6 × 6</caption>\n",
       "<thead>\n",
       "\t<tr><th scope=col>Person</th><th scope=col>Gender</th><th scope=col>y</th><th scope=col>Age</th><th scope=col>Person_fct</th><th scope=col>Age_fct</th></tr>\n",
       "\t<tr><th scope=col>&lt;dbl&gt;</th><th scope=col>&lt;chr&gt;</th><th scope=col>&lt;dbl&gt;</th><th scope=col>&lt;dbl&gt;</th><th scope=col>&lt;fct&gt;</th><th scope=col>&lt;fct&gt;</th></tr>\n",
       "</thead>\n",
       "<tbody>\n",
       "\t<tr><td>1</td><td>F</td><td>21.0</td><td> 8</td><td>1</td><td>8 </td></tr>\n",
       "\t<tr><td>1</td><td>F</td><td>20.0</td><td>10</td><td>1</td><td>10</td></tr>\n",
       "\t<tr><td>1</td><td>F</td><td>21.5</td><td>12</td><td>1</td><td>12</td></tr>\n",
       "\t<tr><td>1</td><td>F</td><td>23.0</td><td>14</td><td>1</td><td>14</td></tr>\n",
       "\t<tr><td>2</td><td>F</td><td>21.0</td><td> 8</td><td>2</td><td>8 </td></tr>\n",
       "\t<tr><td>2</td><td>F</td><td>21.5</td><td>10</td><td>2</td><td>10</td></tr>\n",
       "</tbody>\n",
       "</table>\n"
      ],
      "text/latex": [
       "A tibble: 6 × 6\n",
       "\\begin{tabular}{llllll}\n",
       " Person & Gender & y & Age & Person\\_fct & Age\\_fct\\\\\n",
       " <dbl> & <chr> & <dbl> & <dbl> & <fct> & <fct>\\\\\n",
       "\\hline\n",
       "\t 1 & F & 21.0 &  8 & 1 & 8 \\\\\n",
       "\t 1 & F & 20.0 & 10 & 1 & 10\\\\\n",
       "\t 1 & F & 21.5 & 12 & 1 & 12\\\\\n",
       "\t 1 & F & 23.0 & 14 & 1 & 14\\\\\n",
       "\t 2 & F & 21.0 &  8 & 2 & 8 \\\\\n",
       "\t 2 & F & 21.5 & 10 & 2 & 10\\\\\n",
       "\\end{tabular}\n"
      ],
      "text/markdown": [
       "\n",
       "A tibble: 6 × 6\n",
       "\n",
       "| Person &lt;dbl&gt; | Gender &lt;chr&gt; | y &lt;dbl&gt; | Age &lt;dbl&gt; | Person_fct &lt;fct&gt; | Age_fct &lt;fct&gt; |\n",
       "|---|---|---|---|---|---|\n",
       "| 1 | F | 21.0 |  8 | 1 | 8  |\n",
       "| 1 | F | 20.0 | 10 | 1 | 10 |\n",
       "| 1 | F | 21.5 | 12 | 1 | 12 |\n",
       "| 1 | F | 23.0 | 14 | 1 | 14 |\n",
       "| 2 | F | 21.0 |  8 | 2 | 8  |\n",
       "| 2 | F | 21.5 | 10 | 2 | 10 |\n",
       "\n"
      ],
      "text/plain": [
       "  Person Gender y    Age Person_fct Age_fct\n",
       "1 1      F      21.0  8  1          8      \n",
       "2 1      F      20.0 10  1          10     \n",
       "3 1      F      21.5 12  1          12     \n",
       "4 1      F      23.0 14  1          14     \n",
       "5 2      F      21.0  8  2          8      \n",
       "6 2      F      21.5 10  2          10     "
      ]
     },
     "metadata": {},
     "output_type": "display_data"
    }
   ],
   "source": [
    "library(readr)\n",
    "df1 <- read_csv(\"data/PR.csv\",\n",
    "                 show_col_types = FALSE)\n",
    "df1$Person_fct <- as.factor(df1$Person)\n",
    "df1$Age_fct <- as.factor(df1$Age)\n",
    "head(df1)\n"
   ]
  },
  {
   "cell_type": "markdown",
   "id": "5e3e5853-4e74-43f7-b9fb-f9a42816fcad",
   "metadata": {},
   "source": [
    "## SAS program snippet"
   ]
  },
  {
   "cell_type": "markdown",
   "id": "72a25d47-c22e-4226-89b2-8e8625f61f8c",
   "metadata": {},
   "source": [
    "The following SAS code will be executed."
   ]
  },
  {
   "cell_type": "raw",
   "id": "b171d2d0-81ef-41e8-8987-5c68601be412",
   "metadata": {},
   "source": [
    "proc mixed data=pr method=ml covtest;\n",
    "   class Person Gender;\n",
    "   model y = Gender Age Gender*Age / s;\n",
    "   repeated / type=un subject=Person r;\n",
    "run;\n"
   ]
  },
  {
   "cell_type": "markdown",
   "id": "5fcf9f00-3a07-4e34-805c-de0f95d4d76a",
   "metadata": {},
   "source": [
    "## Results"
   ]
  },
  {
   "cell_type": "markdown",
   "id": "3d365e27-c7c5-4936-90db-8392fae3a124",
   "metadata": {},
   "source": [
    "The output is divided into blocks to explain it and to reproduce it afterwards in the different languages."
   ]
  },
  {
   "cell_type": "markdown",
   "id": "40ce206b-826d-42c6-bc39-c588864d99b7",
   "metadata": {},
   "source": [
    "### Block 1\n",
    "![Block 1](img_screenshots/block_1.png)"
   ]
  },
  {
   "cell_type": "markdown",
   "id": "9c99b81f-4e52-4ee5-890a-72d2670c4e57",
   "metadata": {},
   "source": [
    "This block gives information about the model."
   ]
  },
  {
   "cell_type": "markdown",
   "id": "2742acc7-d1a5-4153-b62e-611d04e638f9",
   "metadata": {},
   "source": [
    "### R chunk for reproduction"
   ]
  },
  {
   "cell_type": "code",
   "execution_count": 5,
   "id": "2d91aeb1-0946-48a0-b723-35b58d825d3e",
   "metadata": {},
   "outputs": [
    {
     "data": {
      "text/plain": [
       "mmrm fit\n",
       "\n",
       "Formula:     y ~ Gender + Age_fct + Gender * Age_fct + us(Age_fct | Person_fct)\n",
       "Data:        df1 (used 108 observations from 27 subjects with maximum 4 \n",
       "timepoints)\n",
       "Covariance:  unstructured (10 variance parameters)\n",
       "Method:      Satterthwaite\n",
       "Inference:   REML\n",
       "\n",
       "Model selection criteria:\n",
       "     AIC      BIC   logLik deviance \n",
       "     434      447     -207      414 \n",
       "\n",
       "Coefficients: \n",
       "                  Estimate Std. Error      df t value Pr(>|t|)    \n",
       "(Intercept)        21.1818     0.7017 24.9990  30.188  < 2e-16 ***\n",
       "GenderM             1.6932     0.9115 24.9990   1.858 0.075040 .  \n",
       "Age_fct10           1.0455     0.6155 25.0000   1.699 0.101793    \n",
       "Age_fct12           1.9091     0.6068 25.0000   3.146 0.004241 ** \n",
       "Age_fct14           2.9091     0.6729 25.0010   4.323 0.000215 ***\n",
       "GenderM:Age_fct10  -0.1080     0.7995 25.0000  -0.135 0.893671    \n",
       "GenderM:Age_fct12   0.9347     0.7883 25.0000   1.186 0.246906    \n",
       "GenderM:Age_fct14   1.6847     0.8741 25.0010   1.927 0.065377 .  \n",
       "---\n",
       "Signif. codes:  0 '***' 0.001 '**' 0.01 '*' 0.05 '.' 0.1 ' ' 1\n",
       "\n",
       "Covariance estimate:\n",
       "        8     10     12     14\n",
       "8  5.4155 2.7170 3.9106 2.7104\n",
       "10 2.7170 4.1850 2.9274 3.3173\n",
       "12 3.9106 2.9274 6.4564 4.1312\n",
       "14 2.7104 3.3173 4.1312 4.9858\n"
      ]
     },
     "metadata": {},
     "output_type": "display_data"
    }
   ],
   "source": [
    "library(mmrm)\n",
    "my_mmrm <- mmrm(\n",
    "  formula = y ~ Gender + Age_fct + Gender * Age_fct + us(Age_fct | Person_fct),\n",
    "  data = df1\n",
    ")\n",
    "summary(my_mmrm)"
   ]
  },
  {
   "cell_type": "code",
   "execution_count": 6,
   "id": "9b6eb814-83df-44e7-94b2-7f3c736c4792",
   "metadata": {},
   "outputs": [
    {
     "data": {
      "text/plain": [
       "mmrm fit\n",
       "\n",
       "Formula:     y ~ Gender + Age_fct + Gender * Age_fct + us(Age_fct | Person_fct)\n",
       "Data:        df1 (used 108 observations from 27 subjects with maximum 4 \n",
       "timepoints)\n",
       "Covariance:  unstructured (10 variance parameters)\n",
       "Method:      Satterthwaite\n",
       "Inference:   REML\n",
       "\n",
       "Model selection criteria:\n",
       "     AIC      BIC   logLik deviance \n",
       "     434      447     -207      414 \n",
       "\n",
       "Coefficients: \n",
       "                  Estimate Std. Error      df t value Pr(>|t|)    \n",
       "(Intercept)        21.1818     0.7017 24.9990  30.188  < 2e-16 ***\n",
       "GenderM             1.6932     0.9115 24.9990   1.858 0.075040 .  \n",
       "Age_fct10           1.0455     0.6155 25.0000   1.699 0.101793    \n",
       "Age_fct12           1.9091     0.6068 25.0000   3.146 0.004241 ** \n",
       "Age_fct14           2.9091     0.6729 25.0010   4.323 0.000215 ***\n",
       "GenderM:Age_fct10  -0.1080     0.7995 25.0000  -0.135 0.893671    \n",
       "GenderM:Age_fct12   0.9347     0.7883 25.0000   1.186 0.246906    \n",
       "GenderM:Age_fct14   1.6847     0.8741 25.0010   1.927 0.065377 .  \n",
       "---\n",
       "Signif. codes:  0 '***' 0.001 '**' 0.01 '*' 0.05 '.' 0.1 ' ' 1\n",
       "\n",
       "Covariance estimate:\n",
       "        8     10     12     14\n",
       "8  5.4155 2.7170 3.9106 2.7104\n",
       "10 2.7170 4.1850 2.9274 3.3173\n",
       "12 3.9106 2.9274 6.4564 4.1312\n",
       "14 2.7104 3.3173 4.1312 4.9858\n"
      ]
     },
     "metadata": {},
     "output_type": "display_data"
    }
   ],
   "source": [
    "library(mmrm)\n",
    "my_mmrm <- mmrm(\n",
    "  formula = y ~ Gender + Age_fct + Gender * Age_fct + us(Age_fct | Person_fct),\n",
    "  data = df1\n",
    ")\n",
    "summary(my_mmrm)"
   ]
  },
  {
   "cell_type": "markdown",
   "id": "f16eff15",
   "metadata": {},
   "source": [
    "# Todo: Complete the following cells"
   ]
  },
  {
   "cell_type": "markdown",
   "id": "09f48c70-5dd6-4e6a-984e-6ed29408f555",
   "metadata": {},
   "source": [
    "### Block 2\n",
    "![Block 2](img_screenshots/block_2.png)"
   ]
  },
  {
   "cell_type": "markdown",
   "id": "3254e0b7-3c3b-4fd0-8a86-afa09c992d1c",
   "metadata": {},
   "source": [
    "This block gives the level for the categorical variables."
   ]
  },
  {
   "cell_type": "markdown",
   "id": "602c7e30-0c93-4e72-9312-b41661d32404",
   "metadata": {},
   "source": [
    "### R chunk for reproduction"
   ]
  },
  {
   "cell_type": "code",
   "execution_count": null,
   "id": "68bfc6f8-f5ef-4fba-835e-85650a6bb53a",
   "metadata": {},
   "outputs": [],
   "source": []
  },
  {
   "cell_type": "markdown",
   "id": "c600c9a5-619f-4495-80e6-85c89a18877d",
   "metadata": {},
   "source": [
    "### Block 3\n",
    "![Block 3](img_screenshots/block_3.png)"
   ]
  },
  {
   "cell_type": "markdown",
   "id": "162d66cf-ebea-4747-aca1-fbc3f3f2f3b3",
   "metadata": {},
   "source": [
    "This block gives information about the number of subjects and the maximal number of observations per subject."
   ]
  },
  {
   "cell_type": "markdown",
   "id": "0551e4ff-e581-498f-81c5-c3a48f16b24d",
   "metadata": {},
   "source": [
    "### R chunk for reproduction"
   ]
  },
  {
   "cell_type": "code",
   "execution_count": null,
   "id": "6d855fb8-0097-4c32-b3e4-c05e9330c3ef",
   "metadata": {},
   "outputs": [],
   "source": []
  },
  {
   "cell_type": "markdown",
   "id": "e76ff54b-9339-4c00-bb4e-c5deea17de63",
   "metadata": {},
   "source": [
    "### Block 4\n",
    "![Block 4](img_screenshots/block_4.png)"
   ]
  },
  {
   "cell_type": "markdown",
   "id": "d0ff367f-34a4-4156-9197-a1a9ec4a2e34",
   "metadata": {},
   "source": [
    "The number of observations used might be less than the number of observations read. SAS performs a listwise deletion (complete case analysis) if missing values are present."
   ]
  },
  {
   "cell_type": "markdown",
   "id": "9d9fc122-7630-4c9d-8c19-467edd702fd1",
   "metadata": {},
   "source": [
    "### R chunk for reproduction"
   ]
  },
  {
   "cell_type": "code",
   "execution_count": null,
   "id": "dec52173-16bb-4a0e-8467-ed2ac55cf6c4",
   "metadata": {},
   "outputs": [],
   "source": []
  },
  {
   "cell_type": "markdown",
   "id": "8743a8b2-74c2-4ef6-b1ba-8446feafb902",
   "metadata": {},
   "source": [
    "### Block 5\n",
    "![Block 5](img_screenshots/block_5.png)"
   ]
  },
  {
   "cell_type": "markdown",
   "id": "bc7d4e9f-ac7e-4874-b760-eeb943523241",
   "metadata": {},
   "source": [
    "This block gives information about the iteration process."
   ]
  },
  {
   "cell_type": "markdown",
   "id": "826c1450-36e4-4b3e-8fb9-a1ca9daaa723",
   "metadata": {},
   "source": [
    "### R chunk for reproduction"
   ]
  },
  {
   "cell_type": "code",
   "execution_count": null,
   "id": "55de09d2-07f4-4635-ba23-4c33665f0fb5",
   "metadata": {},
   "outputs": [],
   "source": []
  },
  {
   "cell_type": "markdown",
   "id": "2cea3490-b255-48f5-a479-2b340380c718",
   "metadata": {},
   "source": [
    "### Block 6\n",
    "![Block 6](img_screenshots/block_6.png)"
   ]
  },
  {
   "cell_type": "markdown",
   "id": "04cbc961-9677-4ead-a9eb-0dbc4c9378d2",
   "metadata": {},
   "source": [
    "This block informs about the status of the iterative estimation process at the end of the Newton-Raphson optimization."
   ]
  },
  {
   "cell_type": "markdown",
   "id": "8eb49298-c49d-4b9c-9aab-8e0a8315f6cb",
   "metadata": {},
   "source": [
    "### R chunk for reproduction"
   ]
  },
  {
   "cell_type": "code",
   "execution_count": null,
   "id": "91bb1b16-5686-4577-b8bb-e696c3d675aa",
   "metadata": {},
   "outputs": [],
   "source": []
  },
  {
   "cell_type": "markdown",
   "id": "30db5cb8-1c58-498a-8602-07ad1e8ffd6c",
   "metadata": {},
   "source": [
    "### Block 7\n",
    "![Block 7](img_screenshots/block_7.png)"
   ]
  },
  {
   "cell_type": "markdown",
   "id": "7a32ad22-f272-4ca6-aad5-263cc30bae5e",
   "metadata": {},
   "source": [
    "Details for this block can be found in the SAS Proc MIXED manuals in Mixed Models Theory."
   ]
  },
  {
   "cell_type": "markdown",
   "id": "4b731a67-b1f8-4b66-9ce6-94953f42f887",
   "metadata": {},
   "source": [
    "### R chunk for reproduction"
   ]
  },
  {
   "cell_type": "code",
   "execution_count": null,
   "id": "abdc4c38-e36f-488c-a83d-3fc1dd26a46f",
   "metadata": {},
   "outputs": [],
   "source": []
  },
  {
   "cell_type": "markdown",
   "id": "804b643f-8477-4a08-b97a-5a2da33bfbd0",
   "metadata": {},
   "source": [
    "### Block 8\n",
    "![Block 8](img_screenshots/block_8.png)"
   ]
  },
  {
   "cell_type": "markdown",
   "id": "79ef84ff-8ae4-4814-9178-f11a36b19cac",
   "metadata": {},
   "source": [
    "This block gives statistics about the estimated mixed models."
   ]
  },
  {
   "cell_type": "markdown",
   "id": "376e39c1-2f86-4410-b932-af2310a3437f",
   "metadata": {},
   "source": [
    "### R chunk for reproduction"
   ]
  },
  {
   "cell_type": "code",
   "execution_count": null,
   "id": "6be88596-64df-4483-8bdf-18e5d63b7a54",
   "metadata": {},
   "outputs": [],
   "source": []
  },
  {
   "cell_type": "markdown",
   "id": "3840f423-705b-441e-a656-29a43fb2fadc",
   "metadata": {},
   "source": [
    "### Block 9\n",
    "![Block 9](img_screenshots/block_9.png)"
   ]
  },
  {
   "cell_type": "markdown",
   "id": "63a83e7d-61bb-452e-afab-73e953bd55c8",
   "metadata": {},
   "source": [
    "This block gives the likelihood ratio test for the null model."
   ]
  },
  {
   "cell_type": "markdown",
   "id": "f22d4902-e75d-462d-80b1-0a7427314a27",
   "metadata": {},
   "source": [
    "### R chunk for reproduction"
   ]
  },
  {
   "cell_type": "code",
   "execution_count": null,
   "id": "0b0a17f4-d946-4ba1-aa74-5f1a72ccea44",
   "metadata": {},
   "outputs": [],
   "source": []
  },
  {
   "cell_type": "markdown",
   "id": "20cce651-41df-44c9-81a1-5cb76fb809e9",
   "metadata": {},
   "source": [
    "### Block 10\n",
    "![Block 10](img_screenshots/block_10.png)"
   ]
  },
  {
   "cell_type": "markdown",
   "id": "d0b3cd8c-a10b-4af5-86de-842531672065",
   "metadata": {},
   "source": [
    "This block provides the estimates for the fixed effects of the model."
   ]
  },
  {
   "cell_type": "markdown",
   "id": "353a8196-3cfe-4bf4-829f-0749af6986c7",
   "metadata": {},
   "source": [
    "### R chunk for reproduction"
   ]
  },
  {
   "cell_type": "code",
   "execution_count": null,
   "id": "d9851a08-cb3a-4dee-9528-a0af6b01739a",
   "metadata": {},
   "outputs": [],
   "source": []
  },
  {
   "cell_type": "markdown",
   "id": "b5ed5474-6886-4558-8202-0bc9bcd49404",
   "metadata": {},
   "source": [
    "### Block 11\n",
    "![Block 11](img_screenshots/block_11.png)"
   ]
  },
  {
   "cell_type": "markdown",
   "id": "b51b766c-b98e-41db-a9e6-8f3deda6f8c3",
   "metadata": {},
   "source": [
    "This block contains hypothesis tests for the significance of each of the fixed effects."
   ]
  },
  {
   "cell_type": "markdown",
   "id": "c547dcf8-a561-47b3-a408-b6f0a827c58f",
   "metadata": {},
   "source": [
    "### R chunk for reproduction"
   ]
  },
  {
   "cell_type": "code",
   "execution_count": null,
   "id": "3c728596-ed89-436c-a208-a0cc1c9a231b",
   "metadata": {},
   "outputs": [],
   "source": []
  }
 ],
 "metadata": {
  "kernelspec": {
   "display_name": "R 4.3.2",
   "language": "R",
   "name": "ir432"
  },
  "language_info": {
   "codemirror_mode": "r",
   "file_extension": ".r",
   "mimetype": "text/x-r-source",
   "name": "R",
   "pygments_lexer": "r",
   "version": "4.3.2"
  }
 },
 "nbformat": 4,
 "nbformat_minor": 5
}
