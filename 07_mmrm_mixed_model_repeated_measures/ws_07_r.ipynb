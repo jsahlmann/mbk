{
 "cells": [
  {
   "cell_type": "markdown",
   "id": "df8091c6-2036-476c-b540-77db13c8369e",
   "metadata": {},
   "source": [
    "# Working sheet\n",
    "## 07 - MMRM - Mixed model repeated measures\n",
    "V07.01.00 - 2024-02-26"
   ]
  },
  {
   "cell_type": "markdown",
   "id": "8cf7dd5a-4d82-471f-8a41-39e05dbdde32",
   "metadata": {},
   "source": [
    "## Load data\n",
    "Change the path and the filename in the following box."
   ]
  },
  {
   "cell_type": "code",
   "execution_count": 78,
   "id": "09e0948e-f67e-4798-8b78-888edfcf8a78",
   "metadata": {},
   "outputs": [],
   "source": [
    "library(readr)\n",
    "df <- read_csv(\"data/df07.csv\",\n",
    "               show_col_types = FALSE,\n",
    "               na = \".\"\n",
    "              )\n"
   ]
  },
  {
   "cell_type": "markdown",
   "id": "5e3e5853-4e74-43f7-b9fb-f9a42816fcad",
   "metadata": {},
   "source": [
    "Look at the structure and the head of the dataset."
   ]
  },
  {
   "cell_type": "code",
   "execution_count": 79,
   "id": "a098933a",
   "metadata": {},
   "outputs": [
    {
     "name": "stdout",
     "output_type": "stream",
     "text": [
      "spc_tbl_ [400 × 7] (S3: spec_tbl_df/tbl_df/tbl/data.frame)\n",
      " $ USUBJID: chr [1:400] \"Subject_0001\" \"Subject_0002\" \"Subject_0003\" \"Subject_0004\" ...\n",
      " $ Group  : chr [1:400] \"Group_1\" \"Group_2\" \"Group_1\" \"Group_2\" ...\n",
      " $ Time   : chr [1:400] \"Time_1\" \"Time_1\" \"Time_1\" \"Time_1\" ...\n",
      " $ Y_comp : num [1:400] -0.0767 -0.412 -1.2297 0.0348 0.5125 ...\n",
      " $ XB     : num [1:400] 0 0 0 0 0 0 0 0 0 0 ...\n",
      " $ error  : num [1:400] -0.0767 -0.412 -1.2297 0.0348 0.5125 ...\n",
      " $ Y_mar  : num [1:400] -0.0767 -0.412 -1.2297 0.0348 0.5125 ...\n",
      " - attr(*, \"spec\")=\n",
      "  .. cols(\n",
      "  ..   USUBJID = \u001b[31mcol_character()\u001b[39m,\n",
      "  ..   Group = \u001b[31mcol_character()\u001b[39m,\n",
      "  ..   Time = \u001b[31mcol_character()\u001b[39m,\n",
      "  ..   Y_comp = \u001b[32mcol_double()\u001b[39m,\n",
      "  ..   XB = \u001b[32mcol_double()\u001b[39m,\n",
      "  ..   error = \u001b[32mcol_double()\u001b[39m,\n",
      "  ..   Y_mar = \u001b[32mcol_double()\u001b[39m\n",
      "  .. )\n",
      " - attr(*, \"problems\")=<externalptr> \n"
     ]
    }
   ],
   "source": [
    "str(df)"
   ]
  },
  {
   "cell_type": "code",
   "execution_count": 80,
   "id": "13c66cc7",
   "metadata": {},
   "outputs": [
    {
     "data": {
      "text/html": [
       "<table class=\"dataframe\">\n",
       "<caption>A tibble: 6 × 7</caption>\n",
       "<thead>\n",
       "\t<tr><th scope=col>USUBJID</th><th scope=col>Group</th><th scope=col>Time</th><th scope=col>Y_comp</th><th scope=col>XB</th><th scope=col>error</th><th scope=col>Y_mar</th></tr>\n",
       "\t<tr><th scope=col>&lt;chr&gt;</th><th scope=col>&lt;chr&gt;</th><th scope=col>&lt;chr&gt;</th><th scope=col>&lt;dbl&gt;</th><th scope=col>&lt;dbl&gt;</th><th scope=col>&lt;dbl&gt;</th><th scope=col>&lt;dbl&gt;</th></tr>\n",
       "</thead>\n",
       "<tbody>\n",
       "\t<tr><td>Subject_0001</td><td>Group_1</td><td>Time_1</td><td>-0.07673563</td><td>0</td><td>-0.07673563</td><td>-0.07673563</td></tr>\n",
       "\t<tr><td>Subject_0002</td><td>Group_2</td><td>Time_1</td><td>-0.41197323</td><td>0</td><td>-0.41197323</td><td>-0.41197323</td></tr>\n",
       "\t<tr><td>Subject_0003</td><td>Group_1</td><td>Time_1</td><td>-1.22969052</td><td>0</td><td>-1.22969052</td><td>-1.22969052</td></tr>\n",
       "\t<tr><td>Subject_0004</td><td>Group_2</td><td>Time_1</td><td> 0.03483386</td><td>0</td><td> 0.03483386</td><td> 0.03483386</td></tr>\n",
       "\t<tr><td>Subject_0005</td><td>Group_1</td><td>Time_1</td><td> 0.51250275</td><td>0</td><td> 0.51250275</td><td> 0.51250275</td></tr>\n",
       "\t<tr><td>Subject_0006</td><td>Group_2</td><td>Time_1</td><td> 0.23896566</td><td>0</td><td> 0.23896566</td><td> 0.23896566</td></tr>\n",
       "</tbody>\n",
       "</table>\n"
      ],
      "text/latex": [
       "A tibble: 6 × 7\n",
       "\\begin{tabular}{lllllll}\n",
       " USUBJID & Group & Time & Y\\_comp & XB & error & Y\\_mar\\\\\n",
       " <chr> & <chr> & <chr> & <dbl> & <dbl> & <dbl> & <dbl>\\\\\n",
       "\\hline\n",
       "\t Subject\\_0001 & Group\\_1 & Time\\_1 & -0.07673563 & 0 & -0.07673563 & -0.07673563\\\\\n",
       "\t Subject\\_0002 & Group\\_2 & Time\\_1 & -0.41197323 & 0 & -0.41197323 & -0.41197323\\\\\n",
       "\t Subject\\_0003 & Group\\_1 & Time\\_1 & -1.22969052 & 0 & -1.22969052 & -1.22969052\\\\\n",
       "\t Subject\\_0004 & Group\\_2 & Time\\_1 &  0.03483386 & 0 &  0.03483386 &  0.03483386\\\\\n",
       "\t Subject\\_0005 & Group\\_1 & Time\\_1 &  0.51250275 & 0 &  0.51250275 &  0.51250275\\\\\n",
       "\t Subject\\_0006 & Group\\_2 & Time\\_1 &  0.23896566 & 0 &  0.23896566 &  0.23896566\\\\\n",
       "\\end{tabular}\n"
      ],
      "text/markdown": [
       "\n",
       "A tibble: 6 × 7\n",
       "\n",
       "| USUBJID &lt;chr&gt; | Group &lt;chr&gt; | Time &lt;chr&gt; | Y_comp &lt;dbl&gt; | XB &lt;dbl&gt; | error &lt;dbl&gt; | Y_mar &lt;dbl&gt; |\n",
       "|---|---|---|---|---|---|---|\n",
       "| Subject_0001 | Group_1 | Time_1 | -0.07673563 | 0 | -0.07673563 | -0.07673563 |\n",
       "| Subject_0002 | Group_2 | Time_1 | -0.41197323 | 0 | -0.41197323 | -0.41197323 |\n",
       "| Subject_0003 | Group_1 | Time_1 | -1.22969052 | 0 | -1.22969052 | -1.22969052 |\n",
       "| Subject_0004 | Group_2 | Time_1 |  0.03483386 | 0 |  0.03483386 |  0.03483386 |\n",
       "| Subject_0005 | Group_1 | Time_1 |  0.51250275 | 0 |  0.51250275 |  0.51250275 |\n",
       "| Subject_0006 | Group_2 | Time_1 |  0.23896566 | 0 |  0.23896566 |  0.23896566 |\n",
       "\n"
      ],
      "text/plain": [
       "  USUBJID      Group   Time   Y_comp      XB error       Y_mar      \n",
       "1 Subject_0001 Group_1 Time_1 -0.07673563 0  -0.07673563 -0.07673563\n",
       "2 Subject_0002 Group_2 Time_1 -0.41197323 0  -0.41197323 -0.41197323\n",
       "3 Subject_0003 Group_1 Time_1 -1.22969052 0  -1.22969052 -1.22969052\n",
       "4 Subject_0004 Group_2 Time_1  0.03483386 0   0.03483386  0.03483386\n",
       "5 Subject_0005 Group_1 Time_1  0.51250275 0   0.51250275  0.51250275\n",
       "6 Subject_0006 Group_2 Time_1  0.23896566 0   0.23896566  0.23896566"
      ]
     },
     "metadata": {},
     "output_type": "display_data"
    }
   ],
   "source": [
    "head(df)"
   ]
  },
  {
   "cell_type": "raw",
   "id": "59877f7e",
   "metadata": {},
   "source": [
    "Look at frequencies and descriptive statistics.\n",
    "\n",
    "The summary() function is the first approach.\n",
    "\n",
    "describe() from the Hmisc package is an alternative."
   ]
  },
  {
   "cell_type": "code",
   "execution_count": 81,
   "id": "02c0d416",
   "metadata": {},
   "outputs": [
    {
     "data": {
      "text/plain": [
       "   USUBJID             Group               Time               Y_comp        \n",
       " Length:400         Length:400         Length:400         Min.   :-3.48061  \n",
       " Class :character   Class :character   Class :character   1st Qu.:-0.79310  \n",
       " Mode  :character   Mode  :character   Mode  :character   Median : 0.03148  \n",
       "                                                          Mean   : 0.04075  \n",
       "                                                          3rd Qu.: 0.76989  \n",
       "                                                          Max.   : 3.64434  \n",
       "                                                                            \n",
       "       XB        error              Y_mar        \n",
       " Min.   :0   Min.   :-3.48061   Min.   :-3.4806  \n",
       " 1st Qu.:0   1st Qu.:-0.79310   1st Qu.:-0.8918  \n",
       " Median :0   Median : 0.03148   Median :-0.1460  \n",
       " Mean   :0   Mean   : 0.04075   Mean   :-0.1855  \n",
       " 3rd Qu.:0   3rd Qu.: 0.76989   3rd Qu.: 0.4886  \n",
       " Max.   :0   Max.   : 3.64434   Max.   : 2.9347  \n",
       "                                NA's   :60       "
      ]
     },
     "metadata": {},
     "output_type": "display_data"
    }
   ],
   "source": [
    "summary(df)"
   ]
  },
  {
   "cell_type": "code",
   "execution_count": 82,
   "id": "22413e44",
   "metadata": {},
   "outputs": [
    {
     "data": {
      "text/plain": [
       "df \n",
       "\n",
       " 7  Variables      400  Observations\n",
       "--------------------------------------------------------------------------------\n",
       "USUBJID \n",
       "       n  missing distinct \n",
       "     400        0      100 \n",
       "\n",
       "lowest : Subject_0001 Subject_0002 Subject_0003 Subject_0004 Subject_0005\n",
       "highest: Subject_0096 Subject_0097 Subject_0098 Subject_0099 Subject_0100\n",
       "--------------------------------------------------------------------------------\n",
       "Group \n",
       "       n  missing distinct \n",
       "     400        0        2 \n",
       "                          \n",
       "Value      Group_1 Group_2\n",
       "Frequency      200     200\n",
       "Proportion     0.5     0.5\n",
       "--------------------------------------------------------------------------------\n",
       "Time \n",
       "       n  missing distinct \n",
       "     400        0        4 \n",
       "                                      \n",
       "Value      Time_1 Time_2 Time_3 Time_4\n",
       "Frequency     100    100    100    100\n",
       "Proportion   0.25   0.25   0.25   0.25\n",
       "--------------------------------------------------------------------------------\n",
       "Y_comp \n",
       "       n  missing distinct     Info     Mean      Gmd      .05      .10 \n",
       "     400        0      400        1  0.04075    1.329 -1.91524 -1.46490 \n",
       "     .25      .50      .75      .90      .95 \n",
       "-0.79310  0.03148  0.76989  1.64146  2.05359 \n",
       "\n",
       "lowest : -3.48062 -2.94694 -2.88416 -2.87052 -2.3299 \n",
       "highest: 2.70477  2.76557  2.93471  3.31567  3.64434 \n",
       "--------------------------------------------------------------------------------\n",
       "XB \n",
       "       n  missing distinct     Info     Mean      Gmd \n",
       "     400        0        1        0        0        0 \n",
       "              \n",
       "Value        0\n",
       "Frequency  400\n",
       "Proportion   1\n",
       "--------------------------------------------------------------------------------\n",
       "error \n",
       "       n  missing distinct     Info     Mean      Gmd      .05      .10 \n",
       "     400        0      400        1  0.04075    1.329 -1.91524 -1.46490 \n",
       "     .25      .50      .75      .90      .95 \n",
       "-0.79310  0.03148  0.76989  1.64146  2.05359 \n",
       "\n",
       "lowest : -3.48062 -2.94694 -2.88416 -2.87052 -2.3299 \n",
       "highest: 2.70477  2.76557  2.93471  3.31567  3.64434 \n",
       "--------------------------------------------------------------------------------\n",
       "Y_mar \n",
       "       n  missing distinct     Info     Mean      Gmd      .05      .10 \n",
       "     340       60      340        1  -0.1855    1.172  -1.9403  -1.4960 \n",
       "     .25      .50      .75      .90      .95 \n",
       " -0.8918  -0.1460   0.4887   1.1045   1.6409 \n",
       "\n",
       "lowest : -3.48062 -2.94694 -2.88416 -2.87052 -2.3299 \n",
       "highest: 2.05285  2.06771  2.07109  2.4065   2.93471 \n",
       "--------------------------------------------------------------------------------"
      ]
     },
     "metadata": {},
     "output_type": "display_data"
    }
   ],
   "source": [
    "library(Hmisc)\n",
    "describe(df)"
   ]
  },
  {
   "cell_type": "markdown",
   "id": "7016ea4c",
   "metadata": {},
   "source": [
    "Plot the variables of interest with a scatter plot matrix from package GGally.\n"
   ]
  },
  {
   "cell_type": "code",
   "execution_count": 83,
   "id": "23508b63",
   "metadata": {},
   "outputs": [
    {
     "name": "stderr",
     "output_type": "stream",
     "text": [
      "Warning message:\n",
      "\"\u001b[1m\u001b[22mRemoved 60 rows containing non-finite values (`stat_boxplot()`).\"\n",
      "Warning message:\n",
      "\"\u001b[1m\u001b[22mRemoved 60 rows containing non-finite values (`stat_boxplot()`).\"\n",
      "\u001b[1m\u001b[22m`stat_bin()` using `bins = 30`. Pick better value with `binwidth`.\n",
      "\u001b[1m\u001b[22m`stat_bin()` using `bins = 30`. Pick better value with `binwidth`.\n",
      "Warning message in cor(x, y):\n",
      "\"Standardabweichung ist Null\"\n",
      "Warning message in ggally_statistic(data = data, mapping = mapping, na.rm = na.rm, :\n",
      "\"Removed 60 rows containing missing values\"\n",
      "\u001b[1m\u001b[22m`stat_bin()` using `bins = 30`. Pick better value with `binwidth`.\n",
      "\u001b[1m\u001b[22m`stat_bin()` using `bins = 30`. Pick better value with `binwidth`.\n",
      "Warning message in cor(x, y):\n",
      "\"Standardabweichung ist Null\"\n",
      "Warning message in ggally_statistic(data = data, mapping = mapping, na.rm = na.rm, :\n",
      "\"Removed 60 rows containing missing values\"\n",
      "Warning message in cor(x, y):\n",
      "\"Standardabweichung ist Null\"\n",
      "\u001b[1m\u001b[22m`stat_bin()` using `bins = 30`. Pick better value with `binwidth`.\n",
      "\u001b[1m\u001b[22m`stat_bin()` using `bins = 30`. Pick better value with `binwidth`.\n",
      "Warning message in ggally_statistic(data = data, mapping = mapping, na.rm = na.rm, :\n",
      "\"Removed 60 rows containing missing values\"\n",
      "\u001b[1m\u001b[22m`stat_bin()` using `bins = 30`. Pick better value with `binwidth`.\n",
      "Warning message:\n",
      "\"\u001b[1m\u001b[22mRemoved 60 rows containing non-finite values (`stat_bin()`).\"\n",
      "\u001b[1m\u001b[22m`stat_bin()` using `bins = 30`. Pick better value with `binwidth`.\n",
      "Warning message:\n",
      "\"\u001b[1m\u001b[22mRemoved 60 rows containing non-finite values (`stat_bin()`).\"\n",
      "Warning message:\n",
      "\"\u001b[1m\u001b[22mRemoved 60 rows containing missing values (`geom_point()`).\"\n",
      "Warning message:\n",
      "\"\u001b[1m\u001b[22mRemoved 60 rows containing missing values (`geom_point()`).\"\n",
      "Warning message:\n",
      "\"\u001b[1m\u001b[22mRemoved 60 rows containing missing values (`geom_point()`).\"\n",
      "Warning message:\n",
      "\"\u001b[1m\u001b[22mRemoved 60 rows containing non-finite values (`stat_density()`).\"\n"
     ]
    },
    {
     "data": {
      "image/png": "[encoded data removed]",
      "text/plain": [
       "plot without title"
      ]
     },
     "metadata": {
      "image/png": {
       "height": 420,
       "width": 420
      }
     },
     "output_type": "display_data"
    }
   ],
   "source": [
    "library(GGally)\n",
    "library(tidyverse)\n",
    "df1 <- df %>% dplyr::select(Group, Time, Y_comp, XB, error, Y_mar)\n",
    "ggpairs(df1)\n"
   ]
  },
  {
   "cell_type": "markdown",
   "id": "1783212e",
   "metadata": {},
   "source": [
    "USUBJID omitted, because this variable has more than 15 levels."
   ]
  },
  {
   "cell_type": "markdown",
   "id": "1aa6ac41",
   "metadata": {},
   "source": [
    "## Assumptions mixed model repeated measure\n",
    "\n",
    "- \n"
   ]
  },
  {
   "cell_type": "markdown",
   "id": "5f3de46d",
   "metadata": {},
   "source": [
    "TODO: Check completeness of the assumptions and add example code for the checks."
   ]
  },
  {
   "cell_type": "markdown",
   "id": "5e0a329a",
   "metadata": {},
   "source": [
    "## Coding of categorical variables\n",
    "\n",
    "- Group\n",
    "- Time\n",
    "\n",
    "If using character variables, the first level of the alphabetic sort order will be regardes as reference level.\n",
    "\n",
    "For some functions the character variable has to be converted to a factor, e.g., for the contrasts() fucntion\n"
   ]
  },
  {
   "cell_type": "code",
   "execution_count": 84,
   "id": "3a415988",
   "metadata": {},
   "outputs": [
    {
     "data": {
      "text/plain": [
       "\n",
       "Group_1 Group_2 \n",
       "    200     200 "
      ]
     },
     "metadata": {},
     "output_type": "display_data"
    },
    {
     "data": {
      "text/plain": [
       "\n",
       "Time_1 Time_2 Time_3 Time_4 \n",
       "   100    100    100    100 "
      ]
     },
     "metadata": {},
     "output_type": "display_data"
    }
   ],
   "source": [
    "table(df$Group)\n",
    "table(df$Time)"
   ]
  },
  {
   "cell_type": "code",
   "execution_count": 85,
   "id": "e628532f",
   "metadata": {},
   "outputs": [
    {
     "data": {
      "text/html": [
       "<table class=\"dataframe\">\n",
       "<caption>A matrix: 2 × 1 of type dbl</caption>\n",
       "<thead>\n",
       "\t<tr><th></th><th scope=col>Group_2</th></tr>\n",
       "</thead>\n",
       "<tbody>\n",
       "\t<tr><th scope=row>Group_1</th><td>0</td></tr>\n",
       "\t<tr><th scope=row>Group_2</th><td>1</td></tr>\n",
       "</tbody>\n",
       "</table>\n"
      ],
      "text/latex": [
       "A matrix: 2 × 1 of type dbl\n",
       "\\begin{tabular}{r|l}\n",
       "  & Group\\_2\\\\\n",
       "\\hline\n",
       "\tGroup\\_1 & 0\\\\\n",
       "\tGroup\\_2 & 1\\\\\n",
       "\\end{tabular}\n"
      ],
      "text/markdown": [
       "\n",
       "A matrix: 2 × 1 of type dbl\n",
       "\n",
       "| <!--/--> | Group_2 |\n",
       "|---|---|\n",
       "| Group_1 | 0 |\n",
       "| Group_2 | 1 |\n",
       "\n"
      ],
      "text/plain": [
       "        Group_2\n",
       "Group_1 0      \n",
       "Group_2 1      "
      ]
     },
     "metadata": {},
     "output_type": "display_data"
    },
    {
     "data": {
      "text/html": [
       "<table class=\"dataframe\">\n",
       "<caption>A matrix: 4 × 3 of type dbl</caption>\n",
       "<thead>\n",
       "\t<tr><th></th><th scope=col>Time_2</th><th scope=col>Time_3</th><th scope=col>Time_4</th></tr>\n",
       "</thead>\n",
       "<tbody>\n",
       "\t<tr><th scope=row>Time_1</th><td>0</td><td>0</td><td>0</td></tr>\n",
       "\t<tr><th scope=row>Time_2</th><td>1</td><td>0</td><td>0</td></tr>\n",
       "\t<tr><th scope=row>Time_3</th><td>0</td><td>1</td><td>0</td></tr>\n",
       "\t<tr><th scope=row>Time_4</th><td>0</td><td>0</td><td>1</td></tr>\n",
       "</tbody>\n",
       "</table>\n"
      ],
      "text/latex": [
       "A matrix: 4 × 3 of type dbl\n",
       "\\begin{tabular}{r|lll}\n",
       "  & Time\\_2 & Time\\_3 & Time\\_4\\\\\n",
       "\\hline\n",
       "\tTime\\_1 & 0 & 0 & 0\\\\\n",
       "\tTime\\_2 & 1 & 0 & 0\\\\\n",
       "\tTime\\_3 & 0 & 1 & 0\\\\\n",
       "\tTime\\_4 & 0 & 0 & 1\\\\\n",
       "\\end{tabular}\n"
      ],
      "text/markdown": [
       "\n",
       "A matrix: 4 × 3 of type dbl\n",
       "\n",
       "| <!--/--> | Time_2 | Time_3 | Time_4 |\n",
       "|---|---|---|---|\n",
       "| Time_1 | 0 | 0 | 0 |\n",
       "| Time_2 | 1 | 0 | 0 |\n",
       "| Time_3 | 0 | 1 | 0 |\n",
       "| Time_4 | 0 | 0 | 1 |\n",
       "\n"
      ],
      "text/plain": [
       "       Time_2 Time_3 Time_4\n",
       "Time_1 0      0      0     \n",
       "Time_2 1      0      0     \n",
       "Time_3 0      1      0     \n",
       "Time_4 0      0      1     "
      ]
     },
     "metadata": {},
     "output_type": "display_data"
    }
   ],
   "source": [
    "contrasts(as.factor(df$Group))\n",
    "contrasts(as.factor(df$Time))"
   ]
  },
  {
   "cell_type": "markdown",
   "id": "07f1c935",
   "metadata": {},
   "source": [
    "Dummy coding is the default coding."
   ]
  },
  {
   "cell_type": "markdown",
   "id": "b985b434",
   "metadata": {},
   "source": [
    "## Fit the model\n"
   ]
  },
  {
   "cell_type": "code",
   "execution_count": 86,
   "id": "0ef7762f",
   "metadata": {},
   "outputs": [
    {
     "data": {
      "text/plain": [
       "Generalized least squares fit by REML\n",
       "  Model: Y_comp ~ Group + Time + Group * Time \n",
       "  Data: df07 \n",
       "     AIC      BIC    logLik\n",
       "  1036.4 1107.883 -500.2002\n",
       "\n",
       "Correlation Structure: General\n",
       " Formula: ~1 | USUBJID \n",
       " Parameter estimate(s):\n",
       " Correlation: \n",
       "  1     2     3    \n",
       "2 0.779            \n",
       "3 0.574 0.728      \n",
       "4 0.484 0.535 0.763\n",
       "Variance function:\n",
       " Structure: Different standard deviations per stratum\n",
       " Formula: ~1 | Time \n",
       " Parameter estimates:\n",
       "  Time_1   Time_2   Time_3   Time_4 \n",
       "1.000000 1.095606 1.217203 1.499564 \n",
       "\n",
       "Coefficients:\n",
       "                             Value  Std.Error    t-value p-value\n",
       "(Intercept)             -0.0693893 0.13692310 -0.5067758  0.6126\n",
       "GroupGroup_2             0.3336959 0.19363850  1.7232931  0.0856\n",
       "TimeTime_2              -0.0531747 0.09614668 -0.5530579  0.5805\n",
       "TimeTime_3               0.0054841 0.14258851  0.0384609  0.9693\n",
       "TimeTime_4              -0.0566736 0.18351241 -0.3088272  0.7576\n",
       "GroupGroup_2:TimeTime_2  0.0280852 0.13597194  0.2065512  0.8365\n",
       "GroupGroup_2:TimeTime_3 -0.1262152 0.20165061 -0.6259106  0.5317\n",
       "GroupGroup_2:TimeTime_4 -0.1468045 0.25952574 -0.5656646  0.5719\n",
       "\n",
       " Correlation: \n",
       "                        (Intr) GrpG_2 TmTm_2 TmTm_3 TmTm_4 GG_2:TT_2 GG_2:TT_3\n",
       "GroupGroup_2            -0.707                                                \n",
       "TimeTime_2              -0.208  0.147                                         \n",
       "TimeTime_3              -0.289  0.205  0.573                                  \n",
       "TimeTime_4              -0.204  0.144  0.317  0.694                           \n",
       "GroupGroup_2:TimeTime_2  0.147 -0.208 -0.707 -0.405 -0.224                    \n",
       "GroupGroup_2:TimeTime_3  0.205 -0.289 -0.405 -0.707 -0.491  0.573             \n",
       "GroupGroup_2:TimeTime_4  0.144 -0.204 -0.224 -0.491 -0.707  0.317     0.694   \n",
       "\n",
       "Standardized residuals:\n",
       "        Min          Q1         Med          Q3         Max \n",
       "-2.55759465 -0.68545835 -0.02754474  0.67478149  2.54110499 \n",
       "\n",
       "Residual standard error: 0.9681925 \n",
       "Degrees of freedom: 400 total; 392 residual"
      ]
     },
     "metadata": {},
     "output_type": "display_data"
    }
   ],
   "source": [
    "library(SPR)\n",
    "library(MASS)\n",
    "library(glmmTMB) # https://cran.r-project.org/web/packages/glmmTMB/vignettes/covstruct.html\n",
    "library(emmeans)\n",
    "library(nlme)\n",
    "library(lme4)\n",
    "library(broom)\n",
    "my_gls <- nlme::gls(Y_comp ~ Group + Time + Group*Time,\n",
    "                       data = df07,\n",
    "                       correlation = corSymm(form = ~ 1 | USUBJID),    #  unstructured correlation\n",
    "                       weights = varIdent(form = ~ 1 | Time),          #  estimate variance at subsequent timepoints\n",
    "                       na.action = na.exclude)\n",
    "summary(my_gls)"
   ]
  },
  {
   "cell_type": "markdown",
   "id": "5fcf9f00-3a07-4e34-805c-de0f95d4d76a",
   "metadata": {},
   "source": [
    "## Summary of the model"
   ]
  },
  {
   "cell_type": "code",
   "execution_count": 87,
   "id": "8dce31b4",
   "metadata": {},
   "outputs": [
    {
     "data": {
      "text/plain": [
       "Generalized least squares fit by REML\n",
       "  Model: Y_comp ~ Group + Time + Group * Time \n",
       "  Data: df07 \n",
       "     AIC      BIC    logLik\n",
       "  1036.4 1107.883 -500.2002\n",
       "\n",
       "Correlation Structure: General\n",
       " Formula: ~1 | USUBJID \n",
       " Parameter estimate(s):\n",
       " Correlation: \n",
       "  1     2     3    \n",
       "2 0.779            \n",
       "3 0.574 0.728      \n",
       "4 0.484 0.535 0.763\n",
       "Variance function:\n",
       " Structure: Different standard deviations per stratum\n",
       " Formula: ~1 | Time \n",
       " Parameter estimates:\n",
       "  Time_1   Time_2   Time_3   Time_4 \n",
       "1.000000 1.095606 1.217203 1.499564 \n",
       "\n",
       "Coefficients:\n",
       "                             Value  Std.Error    t-value p-value\n",
       "(Intercept)             -0.0693893 0.13692310 -0.5067758  0.6126\n",
       "GroupGroup_2             0.3336959 0.19363850  1.7232931  0.0856\n",
       "TimeTime_2              -0.0531747 0.09614668 -0.5530579  0.5805\n",
       "TimeTime_3               0.0054841 0.14258851  0.0384609  0.9693\n",
       "TimeTime_4              -0.0566736 0.18351241 -0.3088272  0.7576\n",
       "GroupGroup_2:TimeTime_2  0.0280852 0.13597194  0.2065512  0.8365\n",
       "GroupGroup_2:TimeTime_3 -0.1262152 0.20165061 -0.6259106  0.5317\n",
       "GroupGroup_2:TimeTime_4 -0.1468045 0.25952574 -0.5656646  0.5719\n",
       "\n",
       " Correlation: \n",
       "                        (Intr) GrpG_2 TmTm_2 TmTm_3 TmTm_4 GG_2:TT_2 GG_2:TT_3\n",
       "GroupGroup_2            -0.707                                                \n",
       "TimeTime_2              -0.208  0.147                                         \n",
       "TimeTime_3              -0.289  0.205  0.573                                  \n",
       "TimeTime_4              -0.204  0.144  0.317  0.694                           \n",
       "GroupGroup_2:TimeTime_2  0.147 -0.208 -0.707 -0.405 -0.224                    \n",
       "GroupGroup_2:TimeTime_3  0.205 -0.289 -0.405 -0.707 -0.491  0.573             \n",
       "GroupGroup_2:TimeTime_4  0.144 -0.204 -0.224 -0.491 -0.707  0.317     0.694   \n",
       "\n",
       "Standardized residuals:\n",
       "        Min          Q1         Med          Q3         Max \n",
       "-2.55759465 -0.68545835 -0.02754474  0.67478149  2.54110499 \n",
       "\n",
       "Residual standard error: 0.9681925 \n",
       "Degrees of freedom: 400 total; 392 residual"
      ]
     },
     "metadata": {},
     "output_type": "display_data"
    }
   ],
   "source": [
    "summary(my_gls)"
   ]
  },
  {
   "cell_type": "markdown",
   "id": "9ff8564f",
   "metadata": {},
   "source": [
    "## Estimates"
   ]
  },
  {
   "cell_type": "code",
   "execution_count": 88,
   "id": "58d76c14",
   "metadata": {},
   "outputs": [
    {
     "data": {
      "text/html": [
       "<table class=\"dataframe\">\n",
       "<caption>A data.frame: 8 × 1</caption>\n",
       "<thead>\n",
       "\t<tr><th></th><th scope=col>Estimates</th></tr>\n",
       "\t<tr><th></th><th scope=col>&lt;dbl&gt;</th></tr>\n",
       "</thead>\n",
       "<tbody>\n",
       "\t<tr><th scope=row>(Intercept)</th><td>-0.069389313</td></tr>\n",
       "\t<tr><th scope=row>GroupGroup_2</th><td> 0.333695897</td></tr>\n",
       "\t<tr><th scope=row>TimeTime_2</th><td>-0.053174683</td></tr>\n",
       "\t<tr><th scope=row>TimeTime_3</th><td> 0.005484079</td></tr>\n",
       "\t<tr><th scope=row>TimeTime_4</th><td>-0.056673629</td></tr>\n",
       "\t<tr><th scope=row>GroupGroup_2:TimeTime_2</th><td> 0.028085170</td></tr>\n",
       "\t<tr><th scope=row>GroupGroup_2:TimeTime_3</th><td>-0.126215247</td></tr>\n",
       "\t<tr><th scope=row>GroupGroup_2:TimeTime_4</th><td>-0.146804525</td></tr>\n",
       "</tbody>\n",
       "</table>\n"
      ],
      "text/latex": [
       "A data.frame: 8 × 1\n",
       "\\begin{tabular}{r|l}\n",
       "  & Estimates\\\\\n",
       "  & <dbl>\\\\\n",
       "\\hline\n",
       "\t(Intercept) & -0.069389313\\\\\n",
       "\tGroupGroup\\_2 &  0.333695897\\\\\n",
       "\tTimeTime\\_2 & -0.053174683\\\\\n",
       "\tTimeTime\\_3 &  0.005484079\\\\\n",
       "\tTimeTime\\_4 & -0.056673629\\\\\n",
       "\tGroupGroup\\_2:TimeTime\\_2 &  0.028085170\\\\\n",
       "\tGroupGroup\\_2:TimeTime\\_3 & -0.126215247\\\\\n",
       "\tGroupGroup\\_2:TimeTime\\_4 & -0.146804525\\\\\n",
       "\\end{tabular}\n"
      ],
      "text/markdown": [
       "\n",
       "A data.frame: 8 × 1\n",
       "\n",
       "| <!--/--> | Estimates &lt;dbl&gt; |\n",
       "|---|---|\n",
       "| (Intercept) | -0.069389313 |\n",
       "| GroupGroup_2 |  0.333695897 |\n",
       "| TimeTime_2 | -0.053174683 |\n",
       "| TimeTime_3 |  0.005484079 |\n",
       "| TimeTime_4 | -0.056673629 |\n",
       "| GroupGroup_2:TimeTime_2 |  0.028085170 |\n",
       "| GroupGroup_2:TimeTime_3 | -0.126215247 |\n",
       "| GroupGroup_2:TimeTime_4 | -0.146804525 |\n",
       "\n"
      ],
      "text/plain": [
       "                        Estimates   \n",
       "(Intercept)             -0.069389313\n",
       "GroupGroup_2             0.333695897\n",
       "TimeTime_2              -0.053174683\n",
       "TimeTime_3               0.005484079\n",
       "TimeTime_4              -0.056673629\n",
       "GroupGroup_2:TimeTime_2  0.028085170\n",
       "GroupGroup_2:TimeTime_3 -0.126215247\n",
       "GroupGroup_2:TimeTime_4 -0.146804525"
      ]
     },
     "metadata": {},
     "output_type": "display_data"
    }
   ],
   "source": [
    "# tidy() not supported\n",
    "df1 <- data.frame(\"Estimates\" = coef(my_gls))\n",
    "df1\n"
   ]
  },
  {
   "cell_type": "markdown",
   "id": "9120860d",
   "metadata": {},
   "source": [
    "## Confidence intervals"
   ]
  },
  {
   "cell_type": "code",
   "execution_count": 89,
   "id": "c6aedfd1",
   "metadata": {},
   "outputs": [
    {
     "data": {
      "text/plain": [
       "Approximate 95% confidence intervals\n",
       "\n",
       " Coefficients:\n",
       "                              lower         est.     upper\n",
       "(Intercept)             -0.33858480 -0.069389313 0.1998062\n",
       "GroupGroup_2            -0.04700401  0.333695897 0.7143958\n",
       "TimeTime_2              -0.24220234 -0.053174683 0.1358530\n",
       "TimeTime_3              -0.27484980  0.005484079 0.2858180\n",
       "TimeTime_4              -0.41746529 -0.056673629 0.3041180\n",
       "GroupGroup_2:TimeTime_2 -0.23924031  0.028085170 0.2954106\n",
       "GroupGroup_2:TimeTime_3 -0.52266722 -0.126215247 0.2702367\n",
       "GroupGroup_2:TimeTime_4 -0.65704098 -0.146804525 0.3634319\n",
       "\n",
       " Correlation structure:\n",
       "             lower      est.     upper\n",
       "cor(1,2) 0.6883582 0.7791464 0.8459000\n",
       "cor(1,3) 0.4263403 0.5739051 0.6917156\n",
       "cor(1,4) 0.3192077 0.4842732 0.6208203\n",
       "cor(2,3) 0.6214156 0.7283397 0.8086294\n",
       "cor(2,4) 0.3790272 0.5347039 0.6609483\n",
       "cor(3,4) 0.6672953 0.7631717 0.8341672\n",
       "\n",
       " Variance function:\n",
       "           lower     est.    upper\n",
       "Time_2 0.9673921 1.095606 1.240812\n",
       "Time_3 1.0336540 1.217203 1.433346\n",
       "Time_4 1.2592235 1.499564 1.785776\n",
       "\n",
       " Residual standard error:\n",
       "    lower      est.     upper \n",
       "0.8403933 0.9681925 1.1154262 "
      ]
     },
     "metadata": {},
     "output_type": "display_data"
    }
   ],
   "source": [
    "df2 <-intervals(my_gls)\n",
    "df2"
   ]
  },
  {
   "cell_type": "markdown",
   "id": "debca4ed",
   "metadata": {},
   "source": [
    "## Anova"
   ]
  },
  {
   "cell_type": "code",
   "execution_count": 90,
   "id": "c2faed04",
   "metadata": {},
   "outputs": [
    {
     "data": {
      "text/html": [
       "<table class=\"dataframe\">\n",
       "<caption>A anova.lme: 4 × 3</caption>\n",
       "<thead>\n",
       "\t<tr><th></th><th scope=col>numDF</th><th scope=col>F-value</th><th scope=col>p-value</th></tr>\n",
       "\t<tr><th></th><th scope=col>&lt;int&gt;</th><th scope=col>&lt;dbl&gt;</th><th scope=col>&lt;dbl&gt;</th></tr>\n",
       "</thead>\n",
       "<tbody>\n",
       "\t<tr><th scope=row>(Intercept)</th><td>1</td><td>0.7268036</td><td>0.39444181</td></tr>\n",
       "\t<tr><th scope=row>Group</th><td>1</td><td>2.7222672</td><td>0.09975837</td></tr>\n",
       "\t<tr><th scope=row>Time</th><td>3</td><td>0.4038847</td><td>0.75028908</td></tr>\n",
       "\t<tr><th scope=row>Group:Time</th><td>3</td><td>0.2918742</td><td>0.83127312</td></tr>\n",
       "</tbody>\n",
       "</table>\n"
      ],
      "text/latex": [
       "A anova.lme: 4 × 3\n",
       "\\begin{tabular}{r|lll}\n",
       "  & numDF & F-value & p-value\\\\\n",
       "  & <int> & <dbl> & <dbl>\\\\\n",
       "\\hline\n",
       "\t(Intercept) & 1 & 0.7268036 & 0.39444181\\\\\n",
       "\tGroup & 1 & 2.7222672 & 0.09975837\\\\\n",
       "\tTime & 3 & 0.4038847 & 0.75028908\\\\\n",
       "\tGroup:Time & 3 & 0.2918742 & 0.83127312\\\\\n",
       "\\end{tabular}\n"
      ],
      "text/markdown": [
       "\n",
       "A anova.lme: 4 × 3\n",
       "\n",
       "| <!--/--> | numDF &lt;int&gt; | F-value &lt;dbl&gt; | p-value &lt;dbl&gt; |\n",
       "|---|---|---|---|\n",
       "| (Intercept) | 1 | 0.7268036 | 0.39444181 |\n",
       "| Group | 1 | 2.7222672 | 0.09975837 |\n",
       "| Time | 3 | 0.4038847 | 0.75028908 |\n",
       "| Group:Time | 3 | 0.2918742 | 0.83127312 |\n",
       "\n"
      ],
      "text/plain": [
       "            numDF F-value   p-value   \n",
       "(Intercept) 1     0.7268036 0.39444181\n",
       "Group       1     2.7222672 0.09975837\n",
       "Time        3     0.4038847 0.75028908\n",
       "Group:Time  3     0.2918742 0.83127312"
      ]
     },
     "metadata": {},
     "output_type": "display_data"
    }
   ],
   "source": [
    "anova(my_gls)"
   ]
  },
  {
   "cell_type": "markdown",
   "id": "bcf22ad6",
   "metadata": {},
   "source": [
    "## Residuals\n"
   ]
  },
  {
   "cell_type": "code",
   "execution_count": 91,
   "id": "3f23a3fa",
   "metadata": {},
   "outputs": [
    {
     "data": {
      "text/html": [
       "<table class=\"dataframe\">\n",
       "<caption>A data.frame: 6 × 1</caption>\n",
       "<thead>\n",
       "\t<tr><th></th><th scope=col>Residuals</th></tr>\n",
       "\t<tr><th></th><th scope=col>&lt;dbl&gt;</th></tr>\n",
       "</thead>\n",
       "<tbody>\n",
       "\t<tr><th scope=row>1</th><td>-0.007346321</td></tr>\n",
       "\t<tr><th scope=row>2</th><td>-0.676279818</td></tr>\n",
       "\t<tr><th scope=row>3</th><td>-1.160301210</td></tr>\n",
       "\t<tr><th scope=row>4</th><td>-0.229472726</td></tr>\n",
       "\t<tr><th scope=row>5</th><td> 0.581892064</td></tr>\n",
       "\t<tr><th scope=row>6</th><td>-0.025340927</td></tr>\n",
       "</tbody>\n",
       "</table>\n"
      ],
      "text/latex": [
       "A data.frame: 6 × 1\n",
       "\\begin{tabular}{r|l}\n",
       "  & Residuals\\\\\n",
       "  & <dbl>\\\\\n",
       "\\hline\n",
       "\t1 & -0.007346321\\\\\n",
       "\t2 & -0.676279818\\\\\n",
       "\t3 & -1.160301210\\\\\n",
       "\t4 & -0.229472726\\\\\n",
       "\t5 &  0.581892064\\\\\n",
       "\t6 & -0.025340927\\\\\n",
       "\\end{tabular}\n"
      ],
      "text/markdown": [
       "\n",
       "A data.frame: 6 × 1\n",
       "\n",
       "| <!--/--> | Residuals &lt;dbl&gt; |\n",
       "|---|---|\n",
       "| 1 | -0.007346321 |\n",
       "| 2 | -0.676279818 |\n",
       "| 3 | -1.160301210 |\n",
       "| 4 | -0.229472726 |\n",
       "| 5 |  0.581892064 |\n",
       "| 6 | -0.025340927 |\n",
       "\n"
      ],
      "text/plain": [
       "  Residuals   \n",
       "1 -0.007346321\n",
       "2 -0.676279818\n",
       "3 -1.160301210\n",
       "4 -0.229472726\n",
       "5  0.581892064\n",
       "6 -0.025340927"
      ]
     },
     "metadata": {},
     "output_type": "display_data"
    }
   ],
   "source": [
    "# augment() not supported\n",
    "df3 <- data.frame(\"Residuals\" = residuals(my_gls))\n",
    "df3 %>% head()"
   ]
  },
  {
   "cell_type": "markdown",
   "id": "8513fbf1",
   "metadata": {},
   "source": [
    "Only the first rows are displayed."
   ]
  }
 ],
 "metadata": {
  "kernelspec": {
   "display_name": "R 4.3.2",
   "language": "R",
   "name": "ir432"
  },
  "language_info": {
   "codemirror_mode": "r",
   "file_extension": ".r",
   "mimetype": "text/x-r-source",
   "name": "R",
   "pygments_lexer": "r",
   "version": "4.3.2"
  }
 },
 "nbformat": 4,
 "nbformat_minor": 5
}
