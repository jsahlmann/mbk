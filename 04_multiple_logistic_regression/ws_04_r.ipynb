{
 "cells": [
  {
   "cell_type": "markdown",
   "id": "df8091c6-2036-476c-b540-77db13c8369e",
   "metadata": {},
   "source": [
    "# Working sheet\n",
    "## 04 - Multiple logistic regression with R\n",
    "V04.01.00 - 2024-02-24"
   ]
  },
  {
   "cell_type": "markdown",
   "id": "8cf7dd5a-4d82-471f-8a41-39e05dbdde32",
   "metadata": {},
   "source": [
    "## Load data\n",
    "Change the path and the file name in the following box."
   ]
  },
  {
   "cell_type": "code",
   "execution_count": 1,
   "id": "09e0948e-f67e-4798-8b78-888edfcf8a78",
   "metadata": {},
   "outputs": [],
   "source": [
    "library(readr)\n",
    "df <- read_csv(\"data/titanic.csv\",\n",
    "                 show_col_types = FALSE)\n",
    "df$Pclass <- as.factor(df$Pclass)\n",
    "df$Sex <- as.factor(df$Sex)\n"
   ]
  },
  {
   "cell_type": "markdown",
   "id": "e3cd9491-fe5a-4599-9f8f-ed4685754a47",
   "metadata": {},
   "source": [
    "Look at the structure and the head of the dataset."
   ]
  },
  {
   "cell_type": "code",
   "execution_count": 2,
   "id": "9ea90e20-8f69-42a0-83d2-507d6244d9a0",
   "metadata": {},
   "outputs": [
    {
     "name": "stdout",
     "output_type": "stream",
     "text": [
      "spc_tbl_ [891 × 12] (S3: spec_tbl_df/tbl_df/tbl/data.frame)\n",
      " $ PassengerId: num [1:891] 1 2 3 4 5 6 7 8 9 10 ...\n",
      " $ Survived   : num [1:891] 0 1 1 1 0 0 0 0 1 1 ...\n",
      " $ Pclass     : Factor w/ 3 levels \"1\",\"2\",\"3\": 3 1 3 1 3 3 1 3 3 2 ...\n",
      " $ Name       : chr [1:891] \"Braund, Mr. Owen Harris\" \"Cumings, Mrs. John Bradley (Florence Briggs Thayer)\" \"Heikkinen, Miss. Laina\" \"Futrelle, Mrs. Jacques Heath (Lily May Peel)\" ...\n",
      " $ Sex        : Factor w/ 2 levels \"female\",\"male\": 2 1 1 1 2 2 2 2 1 1 ...\n",
      " $ Age        : num [1:891] 22 38 26 35 35 NA 54 2 27 14 ...\n",
      " $ SibSp      : num [1:891] 1 1 0 1 0 0 0 3 0 1 ...\n",
      " $ Parch      : num [1:891] 0 0 0 0 0 0 0 1 2 0 ...\n",
      " $ Ticket     : chr [1:891] \"A/5 21171\" \"PC 17599\" \"STON/O2. 3101282\" \"113803\" ...\n",
      " $ Fare       : num [1:891] 7.25 71.28 7.92 53.1 8.05 ...\n",
      " $ Cabin      : chr [1:891] NA \"C85\" NA \"C123\" ...\n",
      " $ Embarked   : chr [1:891] \"S\" \"C\" \"S\" \"S\" ...\n",
      " - attr(*, \"spec\")=\n",
      "  .. cols(\n",
      "  ..   PassengerId = \u001b[32mcol_double()\u001b[39m,\n",
      "  ..   Survived = \u001b[32mcol_double()\u001b[39m,\n",
      "  ..   Pclass = \u001b[32mcol_double()\u001b[39m,\n",
      "  ..   Name = \u001b[31mcol_character()\u001b[39m,\n",
      "  ..   Sex = \u001b[31mcol_character()\u001b[39m,\n",
      "  ..   Age = \u001b[32mcol_double()\u001b[39m,\n",
      "  ..   SibSp = \u001b[32mcol_double()\u001b[39m,\n",
      "  ..   Parch = \u001b[32mcol_double()\u001b[39m,\n",
      "  ..   Ticket = \u001b[31mcol_character()\u001b[39m,\n",
      "  ..   Fare = \u001b[32mcol_double()\u001b[39m,\n",
      "  ..   Cabin = \u001b[31mcol_character()\u001b[39m,\n",
      "  ..   Embarked = \u001b[31mcol_character()\u001b[39m\n",
      "  .. )\n",
      " - attr(*, \"problems\")=<externalptr> \n"
     ]
    }
   ],
   "source": [
    "str(df)"
   ]
  },
  {
   "cell_type": "code",
   "execution_count": 3,
   "id": "7bb9f79a-eef9-420c-b024-86fe869e2893",
   "metadata": {},
   "outputs": [
    {
     "data": {
      "text/html": [
       "<table class=\"dataframe\">\n",
       "<caption>A tibble: 6 × 12</caption>\n",
       "<thead>\n",
       "\t<tr><th scope=col>PassengerId</th><th scope=col>Survived</th><th scope=col>Pclass</th><th scope=col>Name</th><th scope=col>Sex</th><th scope=col>Age</th><th scope=col>SibSp</th><th scope=col>Parch</th><th scope=col>Ticket</th><th scope=col>Fare</th><th scope=col>Cabin</th><th scope=col>Embarked</th></tr>\n",
       "\t<tr><th scope=col>&lt;dbl&gt;</th><th scope=col>&lt;dbl&gt;</th><th scope=col>&lt;fct&gt;</th><th scope=col>&lt;chr&gt;</th><th scope=col>&lt;fct&gt;</th><th scope=col>&lt;dbl&gt;</th><th scope=col>&lt;dbl&gt;</th><th scope=col>&lt;dbl&gt;</th><th scope=col>&lt;chr&gt;</th><th scope=col>&lt;dbl&gt;</th><th scope=col>&lt;chr&gt;</th><th scope=col>&lt;chr&gt;</th></tr>\n",
       "</thead>\n",
       "<tbody>\n",
       "\t<tr><td>1</td><td>0</td><td>3</td><td>Braund, Mr. Owen Harris                            </td><td>male  </td><td>22</td><td>1</td><td>0</td><td>A/5 21171       </td><td> 7.2500</td><td>NA  </td><td>S</td></tr>\n",
       "\t<tr><td>2</td><td>1</td><td>1</td><td>Cumings, Mrs. John Bradley (Florence Briggs Thayer)</td><td>female</td><td>38</td><td>1</td><td>0</td><td>PC 17599        </td><td>71.2833</td><td>C85 </td><td>C</td></tr>\n",
       "\t<tr><td>3</td><td>1</td><td>3</td><td>Heikkinen, Miss. Laina                             </td><td>female</td><td>26</td><td>0</td><td>0</td><td>STON/O2. 3101282</td><td> 7.9250</td><td>NA  </td><td>S</td></tr>\n",
       "\t<tr><td>4</td><td>1</td><td>1</td><td>Futrelle, Mrs. Jacques Heath (Lily May Peel)       </td><td>female</td><td>35</td><td>1</td><td>0</td><td>113803          </td><td>53.1000</td><td>C123</td><td>S</td></tr>\n",
       "\t<tr><td>5</td><td>0</td><td>3</td><td>Allen, Mr. William Henry                           </td><td>male  </td><td>35</td><td>0</td><td>0</td><td>373450          </td><td> 8.0500</td><td>NA  </td><td>S</td></tr>\n",
       "\t<tr><td>6</td><td>0</td><td>3</td><td>Moran, Mr. James                                   </td><td>male  </td><td>NA</td><td>0</td><td>0</td><td>330877          </td><td> 8.4583</td><td>NA  </td><td>Q</td></tr>\n",
       "</tbody>\n",
       "</table>\n"
      ],
      "text/latex": [
       "A tibble: 6 × 12\n",
       "\\begin{tabular}{llllllllllll}\n",
       " PassengerId & Survived & Pclass & Name & Sex & Age & SibSp & Parch & Ticket & Fare & Cabin & Embarked\\\\\n",
       " <dbl> & <dbl> & <fct> & <chr> & <fct> & <dbl> & <dbl> & <dbl> & <chr> & <dbl> & <chr> & <chr>\\\\\n",
       "\\hline\n",
       "\t 1 & 0 & 3 & Braund, Mr. Owen Harris                             & male   & 22 & 1 & 0 & A/5 21171        &  7.2500 & NA   & S\\\\\n",
       "\t 2 & 1 & 1 & Cumings, Mrs. John Bradley (Florence Briggs Thayer) & female & 38 & 1 & 0 & PC 17599         & 71.2833 & C85  & C\\\\\n",
       "\t 3 & 1 & 3 & Heikkinen, Miss. Laina                              & female & 26 & 0 & 0 & STON/O2. 3101282 &  7.9250 & NA   & S\\\\\n",
       "\t 4 & 1 & 1 & Futrelle, Mrs. Jacques Heath (Lily May Peel)        & female & 35 & 1 & 0 & 113803           & 53.1000 & C123 & S\\\\\n",
       "\t 5 & 0 & 3 & Allen, Mr. William Henry                            & male   & 35 & 0 & 0 & 373450           &  8.0500 & NA   & S\\\\\n",
       "\t 6 & 0 & 3 & Moran, Mr. James                                    & male   & NA & 0 & 0 & 330877           &  8.4583 & NA   & Q\\\\\n",
       "\\end{tabular}\n"
      ],
      "text/markdown": [
       "\n",
       "A tibble: 6 × 12\n",
       "\n",
       "| PassengerId &lt;dbl&gt; | Survived &lt;dbl&gt; | Pclass &lt;fct&gt; | Name &lt;chr&gt; | Sex &lt;fct&gt; | Age &lt;dbl&gt; | SibSp &lt;dbl&gt; | Parch &lt;dbl&gt; | Ticket &lt;chr&gt; | Fare &lt;dbl&gt; | Cabin &lt;chr&gt; | Embarked &lt;chr&gt; |\n",
       "|---|---|---|---|---|---|---|---|---|---|---|---|\n",
       "| 1 | 0 | 3 | Braund, Mr. Owen Harris                             | male   | 22 | 1 | 0 | A/5 21171        |  7.2500 | NA   | S |\n",
       "| 2 | 1 | 1 | Cumings, Mrs. John Bradley (Florence Briggs Thayer) | female | 38 | 1 | 0 | PC 17599         | 71.2833 | C85  | C |\n",
       "| 3 | 1 | 3 | Heikkinen, Miss. Laina                              | female | 26 | 0 | 0 | STON/O2. 3101282 |  7.9250 | NA   | S |\n",
       "| 4 | 1 | 1 | Futrelle, Mrs. Jacques Heath (Lily May Peel)        | female | 35 | 1 | 0 | 113803           | 53.1000 | C123 | S |\n",
       "| 5 | 0 | 3 | Allen, Mr. William Henry                            | male   | 35 | 0 | 0 | 373450           |  8.0500 | NA   | S |\n",
       "| 6 | 0 | 3 | Moran, Mr. James                                    | male   | NA | 0 | 0 | 330877           |  8.4583 | NA   | Q |\n",
       "\n"
      ],
      "text/plain": [
       "  PassengerId Survived Pclass\n",
       "1 1           0        3     \n",
       "2 2           1        1     \n",
       "3 3           1        3     \n",
       "4 4           1        1     \n",
       "5 5           0        3     \n",
       "6 6           0        3     \n",
       "  Name                                                Sex    Age SibSp Parch\n",
       "1 Braund, Mr. Owen Harris                             male   22  1     0    \n",
       "2 Cumings, Mrs. John Bradley (Florence Briggs Thayer) female 38  1     0    \n",
       "3 Heikkinen, Miss. Laina                              female 26  0     0    \n",
       "4 Futrelle, Mrs. Jacques Heath (Lily May Peel)        female 35  1     0    \n",
       "5 Allen, Mr. William Henry                            male   35  0     0    \n",
       "6 Moran, Mr. James                                    male   NA  0     0    \n",
       "  Ticket           Fare    Cabin Embarked\n",
       "1 A/5 21171         7.2500 NA    S       \n",
       "2 PC 17599         71.2833 C85   C       \n",
       "3 STON/O2. 3101282  7.9250 NA    S       \n",
       "4 113803           53.1000 C123  S       \n",
       "5 373450            8.0500 NA    S       \n",
       "6 330877            8.4583 NA    Q       "
      ]
     },
     "metadata": {},
     "output_type": "display_data"
    }
   ],
   "source": [
    "head(df)"
   ]
  },
  {
   "cell_type": "markdown",
   "id": "bddbbb5d",
   "metadata": {},
   "source": [
    "Look at frequencies and descriptive statistics.\r\n",
    "\r\n",
    "The summary() function is the first approach.\r\n",
    "\r\n",
    "describe() from the Hmisc package is an alternative."
   ]
  },
  {
   "cell_type": "code",
   "execution_count": 4,
   "id": "31fd0d97-8a98-489f-bd85-7ab8958a3c5e",
   "metadata": {},
   "outputs": [
    {
     "data": {
      "text/plain": [
       "  PassengerId       Survived      Pclass      Name               Sex     \n",
       " Min.   :  1.0   Min.   :0.0000   1:216   Length:891         female:314  \n",
       " 1st Qu.:223.5   1st Qu.:0.0000   2:184   Class :character   male  :577  \n",
       " Median :446.0   Median :0.0000   3:491   Mode  :character               \n",
       " Mean   :446.0   Mean   :0.3838                                          \n",
       " 3rd Qu.:668.5   3rd Qu.:1.0000                                          \n",
       " Max.   :891.0   Max.   :1.0000                                          \n",
       "                                                                         \n",
       "      Age            SibSp           Parch           Ticket         \n",
       " Min.   : 0.42   Min.   :0.000   Min.   :0.0000   Length:891        \n",
       " 1st Qu.:20.12   1st Qu.:0.000   1st Qu.:0.0000   Class :character  \n",
       " Median :28.00   Median :0.000   Median :0.0000   Mode  :character  \n",
       " Mean   :29.70   Mean   :0.523   Mean   :0.3816                     \n",
       " 3rd Qu.:38.00   3rd Qu.:1.000   3rd Qu.:0.0000                     \n",
       " Max.   :80.00   Max.   :8.000   Max.   :6.0000                     \n",
       " NA's   :177                                                        \n",
       "      Fare           Cabin             Embarked        \n",
       " Min.   :  0.00   Length:891         Length:891        \n",
       " 1st Qu.:  7.91   Class :character   Class :character  \n",
       " Median : 14.45   Mode  :character   Mode  :character  \n",
       " Mean   : 32.20                                        \n",
       " 3rd Qu.: 31.00                                        \n",
       " Max.   :512.33                                        \n",
       "                                                       "
      ]
     },
     "metadata": {},
     "output_type": "display_data"
    }
   ],
   "source": [
    "summary(df)"
   ]
  },
  {
   "cell_type": "code",
   "execution_count": 5,
   "id": "815e44bf-47c6-473a-9c6b-b21ef5c5d0e2",
   "metadata": {},
   "outputs": [
    {
     "name": "stderr",
     "output_type": "stream",
     "text": [
      "\n",
      "Attache Paket: 'Hmisc'\n",
      "\n",
      "\n",
      "Die folgenden Objekte sind maskiert von 'package:base':\n",
      "\n",
      "    format.pval, units\n",
      "\n",
      "\n"
     ]
    },
    {
     "data": {
      "text/plain": [
       "df \n",
       "\n",
       " 12  Variables      891  Observations\n",
       "--------------------------------------------------------------------------------\n",
       "PassengerId \n",
       "       n  missing distinct     Info     Mean      Gmd      .05      .10 \n",
       "     891        0      891        1      446    297.3     45.5     90.0 \n",
       "     .25      .50      .75      .90      .95 \n",
       "   223.5    446.0    668.5    802.0    846.5 \n",
       "\n",
       "lowest :   1   2   3   4   5, highest: 887 888 889 890 891\n",
       "--------------------------------------------------------------------------------\n",
       "Survived \n",
       "       n  missing distinct     Info      Sum     Mean      Gmd \n",
       "     891        0        2     0.71      342   0.3838   0.4735 \n",
       "\n",
       "--------------------------------------------------------------------------------\n",
       "Pclass \n",
       "       n  missing distinct \n",
       "     891        0        3 \n",
       "                            \n",
       "Value          1     2     3\n",
       "Frequency    216   184   491\n",
       "Proportion 0.242 0.207 0.551\n",
       "--------------------------------------------------------------------------------\n",
       "Name \n",
       "       n  missing distinct \n",
       "     891        0      891 \n",
       "\n",
       "lowest : Abbing, Mr. Anthony                    Abbott, Mr. Rossmore Edward            Abbott, Mrs. Stanton (Rosa Hunt)       Abelson, Mr. Samuel                    Abelson, Mrs. Samuel (Hannah Wizosky) \n",
       "highest: Yousseff, Mr. Gerious                  Yrois, Miss. Henriette (\"Mrs Harbeck\") Zabour, Miss. Hileni                   Zabour, Miss. Thamine                  Zimmerman, Mr. Leo                    \n",
       "--------------------------------------------------------------------------------\n",
       "Sex \n",
       "       n  missing distinct \n",
       "     891        0        2 \n",
       "                        \n",
       "Value      female   male\n",
       "Frequency     314    577\n",
       "Proportion  0.352  0.648\n",
       "--------------------------------------------------------------------------------\n",
       "Age \n",
       "       n  missing distinct     Info     Mean      Gmd      .05      .10 \n",
       "     714      177       88    0.999     29.7    16.21     4.00    14.00 \n",
       "     .25      .50      .75      .90      .95 \n",
       "   20.12    28.00    38.00    50.00    56.00 \n",
       "\n",
       "lowest : 0.42 0.67 0.75 0.83 0.92, highest: 70   70.5 71   74   80  \n",
       "--------------------------------------------------------------------------------\n",
       "SibSp \n",
       "       n  missing distinct     Info     Mean      Gmd \n",
       "     891        0        7    0.669    0.523    0.823 \n",
       "                                                    \n",
       "Value       0.00  0.96  2.00  2.96  4.00  4.96  8.00\n",
       "Frequency    608   209    28    16    18     5     7\n",
       "Proportion 0.682 0.235 0.031 0.018 0.020 0.006 0.008\n",
       "\n",
       "For the frequency table, variable is rounded to the nearest 0.08\n",
       "--------------------------------------------------------------------------------\n",
       "Parch \n",
       "       n  missing distinct     Info     Mean      Gmd \n",
       "     891        0        7    0.556   0.3816   0.6259 \n",
       "                                                    \n",
       "Value       0.00  0.96  1.98  3.00  3.96  4.98  6.00\n",
       "Frequency    678   118    80     5     4     5     1\n",
       "Proportion 0.761 0.132 0.090 0.006 0.004 0.006 0.001\n",
       "\n",
       "For the frequency table, variable is rounded to the nearest 0.06\n",
       "--------------------------------------------------------------------------------\n",
       "Ticket \n",
       "       n  missing distinct \n",
       "     891        0      681 \n",
       "\n",
       "lowest : 110152      110413      110465      110564      110813     \n",
       "highest: W./C. 6608  W./C. 6609  W.E.P. 5734 W/C 14208   WE/P 5735  \n",
       "--------------------------------------------------------------------------------\n",
       "Fare \n",
       "       n  missing distinct     Info     Mean      Gmd      .05      .10 \n",
       "     891        0      248        1     32.2    36.78    7.225    7.550 \n",
       "     .25      .50      .75      .90      .95 \n",
       "   7.910   14.454   31.000   77.958  112.079 \n",
       "\n",
       "lowest : 0       4.0125  5       6.2375  6.4375 \n",
       "highest: 227.525 247.521 262.375 263     512.329\n",
       "--------------------------------------------------------------------------------\n",
       "Cabin \n",
       "       n  missing distinct \n",
       "     204      687      147 \n",
       "\n",
       "lowest : A10 A14 A16 A19 A20, highest: F33 F38 F4  G6  T  \n",
       "--------------------------------------------------------------------------------\n",
       "Embarked \n",
       "       n  missing distinct \n",
       "     889        2        3 \n",
       "                            \n",
       "Value          C     Q     S\n",
       "Frequency    168    77   644\n",
       "Proportion 0.189 0.087 0.724\n",
       "--------------------------------------------------------------------------------"
      ]
     },
     "metadata": {},
     "output_type": "display_data"
    }
   ],
   "source": [
    "library(Hmisc)\n",
    "describe(df)"
   ]
  },
  {
   "cell_type": "markdown",
   "id": "b8060fb8-1d1d-4d68-a4ad-1e8411970e7e",
   "metadata": {},
   "source": [
    "Plot the variables of interest with a scatter plot.\n",
    "\n",
    "Either as single plots as in the following plot."
   ]
  },
  {
   "cell_type": "code",
   "execution_count": 6,
   "id": "68b25354-bb24-48c5-b55e-3ad789753b1a",
   "metadata": {},
   "outputs": [
    {
     "name": "stderr",
     "output_type": "stream",
     "text": [
      "Warning message:\n",
      "\"\u001b[1m\u001b[22mRemoved 177 rows containing missing values (`geom_point()`).\"\n"
     ]
    },
    {
     "data": {
      "image/png": "[encoded data removed]",
      "text/plain": [
       "plot without title"
      ]
     },
     "metadata": {
      "image/png": {
       "height": 420,
       "width": 420
      }
     },
     "output_type": "display_data"
    }
   ],
   "source": [
    "library(ggplot2)\n",
    "ggplot(df, aes(x = Age, y = Survived)) +\n",
    "  geom_point()"
   ]
  },
  {
   "cell_type": "code",
   "execution_count": 9,
   "id": "4c6aaf9e-f02e-4a7f-b087-2091476570a0",
   "metadata": {},
   "outputs": [
    {
     "name": "stderr",
     "output_type": "stream",
     "text": [
      "Warning message:\n",
      "\"\u001b[1m\u001b[22mRemoved 177 rows containing non-finite values (`stat_density()`).\"\n",
      "Warning message:\n",
      "\"\u001b[1m\u001b[22mRemoved 177 rows containing non-finite values (`stat_boxplot()`).\"\n",
      "Warning message in ggally_statistic(data = data, mapping = mapping, na.rm = na.rm, :\n",
      "\"Removed 177 rows containing missing values\"\n",
      "\u001b[1m\u001b[22m`stat_bin()` using `bins = 30`. Pick better value with `binwidth`.\n",
      "Warning message:\n",
      "\"\u001b[1m\u001b[22mRemoved 177 rows containing non-finite values (`stat_bin()`).\"\n",
      "Warning message:\n",
      "\"\u001b[1m\u001b[22mRemoved 177 rows containing missing values (`geom_point()`).\"\n",
      "\u001b[1m\u001b[22m`stat_bin()` using `bins = 30`. Pick better value with `binwidth`.\n"
     ]
    },
    {
     "data": {
      "image/png": "[encoded data removed]",
      "text/plain": [
       "plot without title"
      ]
     },
     "metadata": {
      "image/png": {
       "height": 420,
       "width": 420
      }
     },
     "output_type": "display_data"
    }
   ],
   "source": [
    "library(GGally)\n",
    "library(tidyverse)\n",
    "ggpairs(df %>% select(Age, Sex, Survived))"
   ]
  },
  {
   "cell_type": "code",
   "execution_count": 10,
   "id": "a930d340-8bba-4a4e-88de-e26681e5bb75",
   "metadata": {},
   "outputs": [
    {
     "name": "stderr",
     "output_type": "stream",
     "text": [
      "Warning message:\n",
      "\"\u001b[1m\u001b[22mRemoved 177 rows containing non-finite values (`stat_qq()`).\"\n",
      "Warning message:\n",
      "\"\u001b[1m\u001b[22mRemoved 177 rows containing non-finite values (`stat_qq_line()`).\"\n"
     ]
    },
    {
     "data": {
      "image/png": "[encoded data removed]",
      "text/plain": [
       "plot without title"
      ]
     },
     "metadata": {
      "image/png": {
       "height": 420,
       "width": 420
      }
     },
     "output_type": "display_data"
    }
   ],
   "source": [
    "ggplot(df, aes(sample = Age)) + \n",
    "  geom_qq() +\n",
    "  geom_qq_line()"
   ]
  },
  {
   "cell_type": "markdown",
   "id": "5e3e5853-4e74-43f7-b9fb-f9a42816fcad",
   "metadata": {},
   "source": [
    "## Assumptions for logistic regression\n",
    "\n",
    "- The dependent variable is nominally scaled with exactly two values (dichotomous).\n",
    "- The independent variable is either nominally scaled or at least interval scaled.\n",
    "- Independence of observations.\n",
    "- We need at least a certain number of cases per predictor. As with many other regressions, binomial logistic regression results improve as the sample size increases.\n",
    "- There should be no outliers in the data.\n",
    "- Linearity. There must be a linear relationship between the continuous independent variables and the logit transformation of the dependent variable.\n",
    "- No multicolinearity.\n"
   ]
  },
  {
   "cell_type": "markdown",
   "id": "72a25d47-c22e-4226-89b2-8e8625f61f8c",
   "metadata": {},
   "source": [
    "The dependent variable is nominally scaled with exactly two values (dichotomous)."
   ]
  },
  {
   "cell_type": "code",
   "execution_count": 11,
   "id": "7f15ddd1-71ff-4c58-85cc-e1891929e648",
   "metadata": {},
   "outputs": [
    {
     "data": {
      "text/plain": [
       "\n",
       "  0   1 \n",
       "549 342 "
      ]
     },
     "metadata": {},
     "output_type": "display_data"
    }
   ],
   "source": [
    "table(df$Survived)"
   ]
  },
  {
   "cell_type": "code",
   "execution_count": 13,
   "id": "1b0e1754",
   "metadata": {},
   "outputs": [
    {
     "data": {
      "text/plain": [
       "\n",
       "Call:\n",
       "glm(formula = Survived ~ Sex + Pclass + Age, family = binomial, \n",
       "    data = df)\n",
       "\n",
       "Coefficients:\n",
       "             Estimate Std. Error z value Pr(>|z|)    \n",
       "(Intercept)  3.777013   0.401123   9.416  < 2e-16 ***\n",
       "Sexmale     -2.522781   0.207391 -12.164  < 2e-16 ***\n",
       "Pclass2     -1.309799   0.278066  -4.710 2.47e-06 ***\n",
       "Pclass3     -2.580625   0.281442  -9.169  < 2e-16 ***\n",
       "Age         -0.036985   0.007656  -4.831 1.36e-06 ***\n",
       "---\n",
       "Signif. codes:  0 '***' 0.001 '**' 0.01 '*' 0.05 '.' 0.1 ' ' 1\n",
       "\n",
       "(Dispersion parameter for binomial family taken to be 1)\n",
       "\n",
       "    Null deviance: 964.52  on 713  degrees of freedom\n",
       "Residual deviance: 647.28  on 709  degrees of freedom\n",
       "  (177 Beobachtungen als fehlend gelöscht)\n",
       "AIC: 657.28\n",
       "\n",
       "Number of Fisher Scoring iterations: 5\n"
      ]
     },
     "metadata": {},
     "output_type": "display_data"
    }
   ],
   "source": [
    "library(broom) \n",
    "my_logistic <- glm(Survived ~ Sex + Pclass + Age, data = df, family = binomial)\n",
    "\n",
    "summary(my_logistic)\n"
   ]
  },
  {
   "cell_type": "code",
   "execution_count": 31,
   "id": "2e47b4fa",
   "metadata": {},
   "outputs": [
    {
     "data": {
      "text/html": [
       "<table class=\"dataframe\">\n",
       "<caption>A tibble: 1 × 8</caption>\n",
       "<thead>\n",
       "\t<tr><th scope=col>null.deviance</th><th scope=col>df.null</th><th scope=col>logLik</th><th scope=col>AIC</th><th scope=col>BIC</th><th scope=col>deviance</th><th scope=col>df.residual</th><th scope=col>nobs</th></tr>\n",
       "\t<tr><th scope=col>&lt;dbl&gt;</th><th scope=col>&lt;int&gt;</th><th scope=col>&lt;dbl&gt;</th><th scope=col>&lt;dbl&gt;</th><th scope=col>&lt;dbl&gt;</th><th scope=col>&lt;dbl&gt;</th><th scope=col>&lt;int&gt;</th><th scope=col>&lt;int&gt;</th></tr>\n",
       "</thead>\n",
       "<tbody>\n",
       "\t<tr><td>498.0978</td><td>391</td><td>-193.333</td><td>390.666</td><td>398.6085</td><td>386.666</td><td>390</td><td>392</td></tr>\n",
       "</tbody>\n",
       "</table>\n"
      ],
      "text/latex": [
       "A tibble: 1 × 8\n",
       "\\begin{tabular}{llllllll}\n",
       " null.deviance & df.null & logLik & AIC & BIC & deviance & df.residual & nobs\\\\\n",
       " <dbl> & <int> & <dbl> & <dbl> & <dbl> & <dbl> & <int> & <int>\\\\\n",
       "\\hline\n",
       "\t 498.0978 & 391 & -193.333 & 390.666 & 398.6085 & 386.666 & 390 & 392\\\\\n",
       "\\end{tabular}\n"
      ],
      "text/markdown": [
       "\n",
       "A tibble: 1 × 8\n",
       "\n",
       "| null.deviance &lt;dbl&gt; | df.null &lt;int&gt; | logLik &lt;dbl&gt; | AIC &lt;dbl&gt; | BIC &lt;dbl&gt; | deviance &lt;dbl&gt; | df.residual &lt;int&gt; | nobs &lt;int&gt; |\n",
       "|---|---|---|---|---|---|---|---|\n",
       "| 498.0978 | 391 | -193.333 | 390.666 | 398.6085 | 386.666 | 390 | 392 |\n",
       "\n"
      ],
      "text/plain": [
       "  null.deviance df.null logLik   AIC     BIC      deviance df.residual nobs\n",
       "1 498.0978      391     -193.333 390.666 398.6085 386.666  390         392 "
      ]
     },
     "metadata": {},
     "output_type": "display_data"
    }
   ],
   "source": [
    "glance(my_logistic)"
   ]
  },
  {
   "cell_type": "code",
   "execution_count": 14,
   "id": "3ab3afa6",
   "metadata": {},
   "outputs": [
    {
     "data": {
      "text/html": [
       "<table class=\"dataframe\">\n",
       "<caption>A tibble: 1 × 8</caption>\n",
       "<thead>\n",
       "\t<tr><th scope=col>null.deviance</th><th scope=col>df.null</th><th scope=col>logLik</th><th scope=col>AIC</th><th scope=col>BIC</th><th scope=col>deviance</th><th scope=col>df.residual</th><th scope=col>nobs</th></tr>\n",
       "\t<tr><th scope=col>&lt;dbl&gt;</th><th scope=col>&lt;int&gt;</th><th scope=col>&lt;dbl&gt;</th><th scope=col>&lt;dbl&gt;</th><th scope=col>&lt;dbl&gt;</th><th scope=col>&lt;dbl&gt;</th><th scope=col>&lt;int&gt;</th><th scope=col>&lt;int&gt;</th></tr>\n",
       "</thead>\n",
       "<tbody>\n",
       "\t<tr><td>1186.655</td><td>890</td><td>-593.3276</td><td>1188.655</td><td>1193.447</td><td>1186.655</td><td>890</td><td>891</td></tr>\n",
       "</tbody>\n",
       "</table>\n"
      ],
      "text/latex": [
       "A tibble: 1 × 8\n",
       "\\begin{tabular}{llllllll}\n",
       " null.deviance & df.null & logLik & AIC & BIC & deviance & df.residual & nobs\\\\\n",
       " <dbl> & <int> & <dbl> & <dbl> & <dbl> & <dbl> & <int> & <int>\\\\\n",
       "\\hline\n",
       "\t 1186.655 & 890 & -593.3276 & 1188.655 & 1193.447 & 1186.655 & 890 & 891\\\\\n",
       "\\end{tabular}\n"
      ],
      "text/markdown": [
       "\n",
       "A tibble: 1 × 8\n",
       "\n",
       "| null.deviance &lt;dbl&gt; | df.null &lt;int&gt; | logLik &lt;dbl&gt; | AIC &lt;dbl&gt; | BIC &lt;dbl&gt; | deviance &lt;dbl&gt; | df.residual &lt;int&gt; | nobs &lt;int&gt; |\n",
       "|---|---|---|---|---|---|---|---|\n",
       "| 1186.655 | 890 | -593.3276 | 1188.655 | 1193.447 | 1186.655 | 890 | 891 |\n",
       "\n"
      ],
      "text/plain": [
       "  null.deviance df.null logLik    AIC      BIC      deviance df.residual nobs\n",
       "1 1186.655      890     -593.3276 1188.655 1193.447 1186.655 890         891 "
      ]
     },
     "metadata": {},
     "output_type": "display_data"
    }
   ],
   "source": [
    "my_logistic_intercept <- glm(Survived ~ 1, data = df, family = binomial)\n",
    "glance(my_logistic_intercept)"
   ]
  },
  {
   "cell_type": "code",
   "execution_count": 16,
   "id": "9a31c9e9",
   "metadata": {},
   "outputs": [
    {
     "data": {
      "text/html": [
       "<strong>Age:</strong> 4.23106809150687"
      ],
      "text/latex": [
       "\\textbf{Age:} 4.23106809150687"
      ],
      "text/markdown": [
       "**Age:** 4.23106809150687"
      ],
      "text/plain": [
       "     Age \n",
       "4.231068 "
      ]
     },
     "metadata": {},
     "output_type": "display_data"
    },
    {
     "data": {
      "text/plain": [
       "'log Lik.' 226.4267 (df=1)"
      ]
     },
     "metadata": {},
     "output_type": "display_data"
    }
   ],
   "source": [
    "# z-test\n",
    "# Wald’s chi-squared statistic for the hypothesis that the coefficient of age\n",
    "# is zero, or equivalently that the odds-ratio is one\n",
    "m0 <- glm(Survived ~ 1, data = df, family = binomial)\n",
    "m1 <- glm(Survived ~ Age, data = df, family = binomial)\n",
    "\n",
    "b <- coef(m1)\n",
    "se <- sqrt(diag(vcov(m1)))\n",
    "(b[2]/se[2])^2\n",
    "\n",
    "# likeli ratio test\n",
    "#-2*(logLik(m0) - logLik(m1))\n",
    "-2*(logLik(m0) - logLik(m1))\n"
   ]
  },
  {
   "cell_type": "code",
   "execution_count": 17,
   "id": "d3e16e39",
   "metadata": {},
   "outputs": [
    {
     "data": {
      "text/html": [
       "<table class=\"dataframe\">\n",
       "<caption>A tibble: 5 × 5</caption>\n",
       "<thead>\n",
       "\t<tr><th scope=col>term</th><th scope=col>estimate</th><th scope=col>std.error</th><th scope=col>statistic</th><th scope=col>p.value</th></tr>\n",
       "\t<tr><th scope=col>&lt;chr&gt;</th><th scope=col>&lt;dbl&gt;</th><th scope=col>&lt;dbl&gt;</th><th scope=col>&lt;dbl&gt;</th><th scope=col>&lt;dbl&gt;</th></tr>\n",
       "</thead>\n",
       "<tbody>\n",
       "\t<tr><td>(Intercept)</td><td> 3.77701265</td><td>0.401123305</td><td>  9.416089</td><td>4.682044e-21</td></tr>\n",
       "\t<tr><td>Sexmale    </td><td>-2.52278092</td><td>0.207390924</td><td>-12.164375</td><td>4.811152e-34</td></tr>\n",
       "\t<tr><td>Pclass2    </td><td>-1.30979927</td><td>0.278065527</td><td> -4.710398</td><td>2.472337e-06</td></tr>\n",
       "\t<tr><td>Pclass3    </td><td>-2.58062532</td><td>0.281442020</td><td> -9.169296</td><td>4.761161e-20</td></tr>\n",
       "\t<tr><td>Age        </td><td>-0.03698527</td><td>0.007655948</td><td> -4.830919</td><td>1.359041e-06</td></tr>\n",
       "</tbody>\n",
       "</table>\n"
      ],
      "text/latex": [
       "A tibble: 5 × 5\n",
       "\\begin{tabular}{lllll}\n",
       " term & estimate & std.error & statistic & p.value\\\\\n",
       " <chr> & <dbl> & <dbl> & <dbl> & <dbl>\\\\\n",
       "\\hline\n",
       "\t (Intercept) &  3.77701265 & 0.401123305 &   9.416089 & 4.682044e-21\\\\\n",
       "\t Sexmale     & -2.52278092 & 0.207390924 & -12.164375 & 4.811152e-34\\\\\n",
       "\t Pclass2     & -1.30979927 & 0.278065527 &  -4.710398 & 2.472337e-06\\\\\n",
       "\t Pclass3     & -2.58062532 & 0.281442020 &  -9.169296 & 4.761161e-20\\\\\n",
       "\t Age         & -0.03698527 & 0.007655948 &  -4.830919 & 1.359041e-06\\\\\n",
       "\\end{tabular}\n"
      ],
      "text/markdown": [
       "\n",
       "A tibble: 5 × 5\n",
       "\n",
       "| term &lt;chr&gt; | estimate &lt;dbl&gt; | std.error &lt;dbl&gt; | statistic &lt;dbl&gt; | p.value &lt;dbl&gt; |\n",
       "|---|---|---|---|---|\n",
       "| (Intercept) |  3.77701265 | 0.401123305 |   9.416089 | 4.682044e-21 |\n",
       "| Sexmale     | -2.52278092 | 0.207390924 | -12.164375 | 4.811152e-34 |\n",
       "| Pclass2     | -1.30979927 | 0.278065527 |  -4.710398 | 2.472337e-06 |\n",
       "| Pclass3     | -2.58062532 | 0.281442020 |  -9.169296 | 4.761161e-20 |\n",
       "| Age         | -0.03698527 | 0.007655948 |  -4.830919 | 1.359041e-06 |\n",
       "\n"
      ],
      "text/plain": [
       "  term        estimate    std.error   statistic  p.value     \n",
       "1 (Intercept)  3.77701265 0.401123305   9.416089 4.682044e-21\n",
       "2 Sexmale     -2.52278092 0.207390924 -12.164375 4.811152e-34\n",
       "3 Pclass2     -1.30979927 0.278065527  -4.710398 2.472337e-06\n",
       "4 Pclass3     -2.58062532 0.281442020  -9.169296 4.761161e-20\n",
       "5 Age         -0.03698527 0.007655948  -4.830919 1.359041e-06"
      ]
     },
     "metadata": {},
     "output_type": "display_data"
    }
   ],
   "source": [
    "tidy(my_logistic)"
   ]
  },
  {
   "cell_type": "code",
   "execution_count": 18,
   "id": "514606b2",
   "metadata": {},
   "outputs": [
    {
     "data": {
      "text/plain": [
       "\n",
       "Call:\n",
       "glm(formula = Survived ~ Sex + Pclass + Age, family = binomial, \n",
       "    data = df)\n",
       "\n",
       "Coefficients:\n",
       "             Estimate Std. Error z value Pr(>|z|)    \n",
       "(Intercept)  3.777013   0.401123   9.416  < 2e-16 ***\n",
       "Sexmale     -2.522781   0.207391 -12.164  < 2e-16 ***\n",
       "Pclass2     -1.309799   0.278066  -4.710 2.47e-06 ***\n",
       "Pclass3     -2.580625   0.281442  -9.169  < 2e-16 ***\n",
       "Age         -0.036985   0.007656  -4.831 1.36e-06 ***\n",
       "---\n",
       "Signif. codes:  0 '***' 0.001 '**' 0.01 '*' 0.05 '.' 0.1 ' ' 1\n",
       "\n",
       "(Dispersion parameter for binomial family taken to be 1)\n",
       "\n",
       "    Null deviance: 964.52  on 713  degrees of freedom\n",
       "Residual deviance: 647.28  on 709  degrees of freedom\n",
       "  (177 Beobachtungen als fehlend gelöscht)\n",
       "AIC: 657.28\n",
       "\n",
       "Number of Fisher Scoring iterations: 5\n"
      ]
     },
     "metadata": {},
     "output_type": "display_data"
    }
   ],
   "source": [
    "summary(my_logistic)"
   ]
  },
  {
   "cell_type": "code",
   "execution_count": 19,
   "id": "f54cf83d",
   "metadata": {},
   "outputs": [
    {
     "data": {
      "text/html": [
       "<style>\n",
       ".dl-inline {width: auto; margin:0; padding: 0}\n",
       ".dl-inline>dt, .dl-inline>dd {float: none; width: auto; display: inline-block}\n",
       ".dl-inline>dt::after {content: \":\\0020\"; padding-right: .5ex}\n",
       ".dl-inline>dt:not(:first-of-type) {padding-left: .5ex}\n",
       "</style><dl class=dl-inline><dt>(Intercept)</dt><dd>43.685343313411</dd><dt>Sexmale</dt><dd>0.0802361658591633</dd><dt>Pclass2</dt><dd>0.269874223397568</dd><dt>Pclass3</dt><dd>0.0757266360242514</dd><dt>Age</dt><dd>0.963690334666985</dd></dl>\n"
      ],
      "text/latex": [
       "\\begin{description*}\n",
       "\\item[(Intercept)] 43.685343313411\n",
       "\\item[Sexmale] 0.0802361658591633\n",
       "\\item[Pclass2] 0.269874223397568\n",
       "\\item[Pclass3] 0.0757266360242514\n",
       "\\item[Age] 0.963690334666985\n",
       "\\end{description*}\n"
      ],
      "text/markdown": [
       "(Intercept)\n",
       ":   43.685343313411Sexmale\n",
       ":   0.0802361658591633Pclass2\n",
       ":   0.269874223397568Pclass3\n",
       ":   0.0757266360242514Age\n",
       ":   0.963690334666985\n",
       "\n"
      ],
      "text/plain": [
       "(Intercept)     Sexmale     Pclass2     Pclass3         Age \n",
       "43.68534331  0.08023617  0.26987422  0.07572664  0.96369033 "
      ]
     },
     "metadata": {},
     "output_type": "display_data"
    },
    {
     "data": {
      "text/html": [
       "<table class=\"dataframe\">\n",
       "<caption>A matrix: 5 × 2 of type dbl</caption>\n",
       "<thead>\n",
       "\t<tr><th></th><th scope=col>2.5 %</th><th scope=col>97.5 %</th></tr>\n",
       "</thead>\n",
       "<tbody>\n",
       "\t<tr><th scope=row>(Intercept)</th><td>20.37890724</td><td>98.3863313</td></tr>\n",
       "\t<tr><th scope=row>Sexmale</th><td> 0.05293643</td><td> 0.1194848</td></tr>\n",
       "\t<tr><th scope=row>Pclass2</th><td> 0.15515074</td><td> 0.4621731</td></tr>\n",
       "\t<tr><th scope=row>Pclass3</th><td> 0.04299250</td><td> 0.1297997</td></tr>\n",
       "\t<tr><th scope=row>Age</th><td> 0.94905346</td><td> 0.9780124</td></tr>\n",
       "</tbody>\n",
       "</table>\n"
      ],
      "text/latex": [
       "A matrix: 5 × 2 of type dbl\n",
       "\\begin{tabular}{r|ll}\n",
       "  & 2.5 \\% & 97.5 \\%\\\\\n",
       "\\hline\n",
       "\t(Intercept) & 20.37890724 & 98.3863313\\\\\n",
       "\tSexmale &  0.05293643 &  0.1194848\\\\\n",
       "\tPclass2 &  0.15515074 &  0.4621731\\\\\n",
       "\tPclass3 &  0.04299250 &  0.1297997\\\\\n",
       "\tAge &  0.94905346 &  0.9780124\\\\\n",
       "\\end{tabular}\n"
      ],
      "text/markdown": [
       "\n",
       "A matrix: 5 × 2 of type dbl\n",
       "\n",
       "| <!--/--> | 2.5 % | 97.5 % |\n",
       "|---|---|---|\n",
       "| (Intercept) | 20.37890724 | 98.3863313 |\n",
       "| Sexmale |  0.05293643 |  0.1194848 |\n",
       "| Pclass2 |  0.15515074 |  0.4621731 |\n",
       "| Pclass3 |  0.04299250 |  0.1297997 |\n",
       "| Age |  0.94905346 |  0.9780124 |\n",
       "\n"
      ],
      "text/plain": [
       "            2.5 %       97.5 %    \n",
       "(Intercept) 20.37890724 98.3863313\n",
       "Sexmale      0.05293643  0.1194848\n",
       "Pclass2      0.15515074  0.4621731\n",
       "Pclass3      0.04299250  0.1297997\n",
       "Age          0.94905346  0.9780124"
      ]
     },
     "metadata": {},
     "output_type": "display_data"
    }
   ],
   "source": [
    "exp(my_logistic$coeff)\n",
    "suppressMessages(exp(confint(my_logistic)))"
   ]
  },
  {
   "cell_type": "code",
   "execution_count": 20,
   "id": "7d92ba1d",
   "metadata": {},
   "outputs": [
    {
     "data": {
      "text/plain": [
       "Call:\n",
       "concordance.lm(object = my_logistic)\n",
       "\n",
       "n= 714 \n",
       "Concordance= 0.8523 se= 0.01549\n",
       "concordant discordant     tied.x     tied.y    tied.xy \n",
       "    104647      18004        309     130627        954 "
      ]
     },
     "metadata": {},
     "output_type": "display_data"
    }
   ],
   "source": [
    "library(survival)\n",
    "concordance(my_logistic)"
   ]
  },
  {
   "cell_type": "code",
   "execution_count": 24,
   "id": "693ccd48",
   "metadata": {},
   "outputs": [
    {
     "name": "stdout",
     "output_type": "stream",
     "text": [
      " int [1:714] 0 1 1 1 0 0 0 1 1 1 ...\n",
      " int [1:714] 0 1 1 1 0 0 0 1 1 1 ...\n"
     ]
    },
    {
     "data": {
      "text/plain": [
       "        Predicted\n",
       "Observed   0   1\n",
       "       0 356  68\n",
       "       1  83 207"
      ]
     },
     "metadata": {},
     "output_type": "display_data"
    }
   ],
   "source": [
    "library(yardstick)\n",
    "obs <- as.integer(df %>% select(Survived, Age, Sex, Pclass) %>% na.omit() %>% pull(Survived))\n",
    "pred <- as.integer(round(predict(my_logistic, type = \"response\")))\n",
    "str(obs)\n",
    "str(pred)\n",
    "df1 <- table(\"Observed\" = obs, \"Predicted\" = pred)\n",
    "df1"
   ]
  },
  {
   "cell_type": "code",
   "execution_count": 25,
   "id": "9f184714",
   "metadata": {},
   "outputs": [
    {
     "data": {
      "text/html": [
       "<table class=\"dataframe\">\n",
       "<caption>A tibble: 13 × 3</caption>\n",
       "<thead>\n",
       "\t<tr><th scope=col>.metric</th><th scope=col>.estimator</th><th scope=col>.estimate</th></tr>\n",
       "\t<tr><th scope=col>&lt;chr&gt;</th><th scope=col>&lt;chr&gt;</th><th scope=col>&lt;dbl&gt;</th></tr>\n",
       "</thead>\n",
       "<tbody>\n",
       "\t<tr><td>accuracy            </td><td>binary</td><td>0.7885154</td></tr>\n",
       "\t<tr><td>kap                 </td><td>binary</td><td>0.5579763</td></tr>\n",
       "\t<tr><td>sens                </td><td>binary</td><td>0.8109339</td></tr>\n",
       "\t<tr><td>spec                </td><td>binary</td><td>0.7527273</td></tr>\n",
       "\t<tr><td>ppv                 </td><td>binary</td><td>0.8396226</td></tr>\n",
       "\t<tr><td>npv                 </td><td>binary</td><td>0.7137931</td></tr>\n",
       "\t<tr><td>mcc                 </td><td>binary</td><td>0.5585150</td></tr>\n",
       "\t<tr><td>j_index             </td><td>binary</td><td>0.5636612</td></tr>\n",
       "\t<tr><td>bal_accuracy        </td><td>binary</td><td>0.7818306</td></tr>\n",
       "\t<tr><td>detection_prevalence</td><td>binary</td><td>0.5938375</td></tr>\n",
       "\t<tr><td>precision           </td><td>binary</td><td>0.8396226</td></tr>\n",
       "\t<tr><td>recall              </td><td>binary</td><td>0.8109339</td></tr>\n",
       "\t<tr><td>f_meas              </td><td>binary</td><td>0.8250290</td></tr>\n",
       "</tbody>\n",
       "</table>\n"
      ],
      "text/latex": [
       "A tibble: 13 × 3\n",
       "\\begin{tabular}{lll}\n",
       " .metric & .estimator & .estimate\\\\\n",
       " <chr> & <chr> & <dbl>\\\\\n",
       "\\hline\n",
       "\t accuracy             & binary & 0.7885154\\\\\n",
       "\t kap                  & binary & 0.5579763\\\\\n",
       "\t sens                 & binary & 0.8109339\\\\\n",
       "\t spec                 & binary & 0.7527273\\\\\n",
       "\t ppv                  & binary & 0.8396226\\\\\n",
       "\t npv                  & binary & 0.7137931\\\\\n",
       "\t mcc                  & binary & 0.5585150\\\\\n",
       "\t j\\_index              & binary & 0.5636612\\\\\n",
       "\t bal\\_accuracy         & binary & 0.7818306\\\\\n",
       "\t detection\\_prevalence & binary & 0.5938375\\\\\n",
       "\t precision            & binary & 0.8396226\\\\\n",
       "\t recall               & binary & 0.8109339\\\\\n",
       "\t f\\_meas               & binary & 0.8250290\\\\\n",
       "\\end{tabular}\n"
      ],
      "text/markdown": [
       "\n",
       "A tibble: 13 × 3\n",
       "\n",
       "| .metric &lt;chr&gt; | .estimator &lt;chr&gt; | .estimate &lt;dbl&gt; |\n",
       "|---|---|---|\n",
       "| accuracy             | binary | 0.7885154 |\n",
       "| kap                  | binary | 0.5579763 |\n",
       "| sens                 | binary | 0.8109339 |\n",
       "| spec                 | binary | 0.7527273 |\n",
       "| ppv                  | binary | 0.8396226 |\n",
       "| npv                  | binary | 0.7137931 |\n",
       "| mcc                  | binary | 0.5585150 |\n",
       "| j_index              | binary | 0.5636612 |\n",
       "| bal_accuracy         | binary | 0.7818306 |\n",
       "| detection_prevalence | binary | 0.5938375 |\n",
       "| precision            | binary | 0.8396226 |\n",
       "| recall               | binary | 0.8109339 |\n",
       "| f_meas               | binary | 0.8250290 |\n",
       "\n"
      ],
      "text/plain": [
       "   .metric              .estimator .estimate\n",
       "1  accuracy             binary     0.7885154\n",
       "2  kap                  binary     0.5579763\n",
       "3  sens                 binary     0.8109339\n",
       "4  spec                 binary     0.7527273\n",
       "5  ppv                  binary     0.8396226\n",
       "6  npv                  binary     0.7137931\n",
       "7  mcc                  binary     0.5585150\n",
       "8  j_index              binary     0.5636612\n",
       "9  bal_accuracy         binary     0.7818306\n",
       "10 detection_prevalence binary     0.5938375\n",
       "11 precision            binary     0.8396226\n",
       "12 recall               binary     0.8109339\n",
       "13 f_meas               binary     0.8250290"
      ]
     },
     "metadata": {},
     "output_type": "display_data"
    }
   ],
   "source": [
    "cf <- conf_mat(df1, truth = obs, estimate = pred)\n",
    "summary(cf)"
   ]
  },
  {
   "cell_type": "code",
   "execution_count": null,
   "id": "998758d8",
   "metadata": {},
   "outputs": [],
   "source": []
  }
 ],
 "metadata": {
  "kernelspec": {
   "display_name": "R 4.3.2",
   "language": "R",
   "name": "ir432"
  },
  "language_info": {
   "codemirror_mode": "r",
   "file_extension": ".r",
   "mimetype": "text/x-r-source",
   "name": "R",
   "pygments_lexer": "r",
   "version": "4.3.2"
  }
 },
 "nbformat": 4,
 "nbformat_minor": 5
}
