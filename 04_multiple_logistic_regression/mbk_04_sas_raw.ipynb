{
 "cells": [
  {
   "cell_type": "markdown",
   "id": "df8091c6-2036-476c-b540-77db13c8369e",
   "metadata": {},
   "source": [
    "# 04 - Multiple logistic regression"
   ]
  },
  {
   "cell_type": "markdown",
   "id": "8cf7dd5a-4d82-471f-8a41-39e05dbdde32",
   "metadata": {},
   "source": [
    "## Data"
   ]
  },
  {
   "cell_type": "markdown",
   "id": "f4874aaa-1498-44be-8371-053af86b4735",
   "metadata": {},
   "source": [
    "Source of data: Titanic\n",
    "\n",
    "www.kaggle.com\n",
    "\n",
    "https://www.kaggle.com/datasets/hesh97/titanicdataset-traincsv \n",
    "\n",
    "Dataset titanic.csv"
   ]
  },
  {
   "cell_type": "code",
   "execution_count": 2,
   "id": "09e0948e-f67e-4798-8b78-888edfcf8a78",
   "metadata": {},
   "outputs": [
    {
     "data": {
      "text/html": [
       "<table class=\"dataframe\">\n",
       "<caption>A tibble: 6 × 12</caption>\n",
       "<thead>\n",
       "\t<tr><th scope=col>PassengerId</th><th scope=col>Survived</th><th scope=col>Pclass</th><th scope=col>Name</th><th scope=col>Sex</th><th scope=col>Age</th><th scope=col>SibSp</th><th scope=col>Parch</th><th scope=col>Ticket</th><th scope=col>Fare</th><th scope=col>Cabin</th><th scope=col>Embarked</th></tr>\n",
       "\t<tr><th scope=col>&lt;dbl&gt;</th><th scope=col>&lt;dbl&gt;</th><th scope=col>&lt;dbl&gt;</th><th scope=col>&lt;chr&gt;</th><th scope=col>&lt;chr&gt;</th><th scope=col>&lt;dbl&gt;</th><th scope=col>&lt;dbl&gt;</th><th scope=col>&lt;dbl&gt;</th><th scope=col>&lt;chr&gt;</th><th scope=col>&lt;dbl&gt;</th><th scope=col>&lt;chr&gt;</th><th scope=col>&lt;chr&gt;</th></tr>\n",
       "</thead>\n",
       "<tbody>\n",
       "\t<tr><td>1</td><td>0</td><td>3</td><td>Braund, Mr. Owen Harris                            </td><td>male  </td><td>22</td><td>1</td><td>0</td><td>A/5 21171       </td><td> 7.2500</td><td>NA  </td><td>S</td></tr>\n",
       "\t<tr><td>2</td><td>1</td><td>1</td><td>Cumings, Mrs. John Bradley (Florence Briggs Thayer)</td><td>female</td><td>38</td><td>1</td><td>0</td><td>PC 17599        </td><td>71.2833</td><td>C85 </td><td>C</td></tr>\n",
       "\t<tr><td>3</td><td>1</td><td>3</td><td>Heikkinen, Miss. Laina                             </td><td>female</td><td>26</td><td>0</td><td>0</td><td>STON/O2. 3101282</td><td> 7.9250</td><td>NA  </td><td>S</td></tr>\n",
       "\t<tr><td>4</td><td>1</td><td>1</td><td>Futrelle, Mrs. Jacques Heath (Lily May Peel)       </td><td>female</td><td>35</td><td>1</td><td>0</td><td>113803          </td><td>53.1000</td><td>C123</td><td>S</td></tr>\n",
       "\t<tr><td>5</td><td>0</td><td>3</td><td>Allen, Mr. William Henry                           </td><td>male  </td><td>35</td><td>0</td><td>0</td><td>373450          </td><td> 8.0500</td><td>NA  </td><td>S</td></tr>\n",
       "\t<tr><td>6</td><td>0</td><td>3</td><td>Moran, Mr. James                                   </td><td>male  </td><td>NA</td><td>0</td><td>0</td><td>330877          </td><td> 8.4583</td><td>NA  </td><td>Q</td></tr>\n",
       "</tbody>\n",
       "</table>\n"
      ],
      "text/latex": [
       "A tibble: 6 × 12\n",
       "\\begin{tabular}{llllllllllll}\n",
       " PassengerId & Survived & Pclass & Name & Sex & Age & SibSp & Parch & Ticket & Fare & Cabin & Embarked\\\\\n",
       " <dbl> & <dbl> & <dbl> & <chr> & <chr> & <dbl> & <dbl> & <dbl> & <chr> & <dbl> & <chr> & <chr>\\\\\n",
       "\\hline\n",
       "\t 1 & 0 & 3 & Braund, Mr. Owen Harris                             & male   & 22 & 1 & 0 & A/5 21171        &  7.2500 & NA   & S\\\\\n",
       "\t 2 & 1 & 1 & Cumings, Mrs. John Bradley (Florence Briggs Thayer) & female & 38 & 1 & 0 & PC 17599         & 71.2833 & C85  & C\\\\\n",
       "\t 3 & 1 & 3 & Heikkinen, Miss. Laina                              & female & 26 & 0 & 0 & STON/O2. 3101282 &  7.9250 & NA   & S\\\\\n",
       "\t 4 & 1 & 1 & Futrelle, Mrs. Jacques Heath (Lily May Peel)        & female & 35 & 1 & 0 & 113803           & 53.1000 & C123 & S\\\\\n",
       "\t 5 & 0 & 3 & Allen, Mr. William Henry                            & male   & 35 & 0 & 0 & 373450           &  8.0500 & NA   & S\\\\\n",
       "\t 6 & 0 & 3 & Moran, Mr. James                                    & male   & NA & 0 & 0 & 330877           &  8.4583 & NA   & Q\\\\\n",
       "\\end{tabular}\n"
      ],
      "text/markdown": [
       "\n",
       "A tibble: 6 × 12\n",
       "\n",
       "| PassengerId &lt;dbl&gt; | Survived &lt;dbl&gt; | Pclass &lt;dbl&gt; | Name &lt;chr&gt; | Sex &lt;chr&gt; | Age &lt;dbl&gt; | SibSp &lt;dbl&gt; | Parch &lt;dbl&gt; | Ticket &lt;chr&gt; | Fare &lt;dbl&gt; | Cabin &lt;chr&gt; | Embarked &lt;chr&gt; |\n",
       "|---|---|---|---|---|---|---|---|---|---|---|---|\n",
       "| 1 | 0 | 3 | Braund, Mr. Owen Harris                             | male   | 22 | 1 | 0 | A/5 21171        |  7.2500 | NA   | S |\n",
       "| 2 | 1 | 1 | Cumings, Mrs. John Bradley (Florence Briggs Thayer) | female | 38 | 1 | 0 | PC 17599         | 71.2833 | C85  | C |\n",
       "| 3 | 1 | 3 | Heikkinen, Miss. Laina                              | female | 26 | 0 | 0 | STON/O2. 3101282 |  7.9250 | NA   | S |\n",
       "| 4 | 1 | 1 | Futrelle, Mrs. Jacques Heath (Lily May Peel)        | female | 35 | 1 | 0 | 113803           | 53.1000 | C123 | S |\n",
       "| 5 | 0 | 3 | Allen, Mr. William Henry                            | male   | 35 | 0 | 0 | 373450           |  8.0500 | NA   | S |\n",
       "| 6 | 0 | 3 | Moran, Mr. James                                    | male   | NA | 0 | 0 | 330877           |  8.4583 | NA   | Q |\n",
       "\n"
      ],
      "text/plain": [
       "  PassengerId Survived Pclass\n",
       "1 1           0        3     \n",
       "2 2           1        1     \n",
       "3 3           1        3     \n",
       "4 4           1        1     \n",
       "5 5           0        3     \n",
       "6 6           0        3     \n",
       "  Name                                                Sex    Age SibSp Parch\n",
       "1 Braund, Mr. Owen Harris                             male   22  1     0    \n",
       "2 Cumings, Mrs. John Bradley (Florence Briggs Thayer) female 38  1     0    \n",
       "3 Heikkinen, Miss. Laina                              female 26  0     0    \n",
       "4 Futrelle, Mrs. Jacques Heath (Lily May Peel)        female 35  1     0    \n",
       "5 Allen, Mr. William Henry                            male   35  0     0    \n",
       "6 Moran, Mr. James                                    male   NA  0     0    \n",
       "  Ticket           Fare    Cabin Embarked\n",
       "1 A/5 21171         7.2500 NA    S       \n",
       "2 PC 17599         71.2833 C85   C       \n",
       "3 STON/O2. 3101282  7.9250 NA    S       \n",
       "4 113803           53.1000 C123  S       \n",
       "5 373450            8.0500 NA    S       \n",
       "6 330877            8.4583 NA    Q       "
      ]
     },
     "metadata": {},
     "output_type": "display_data"
    }
   ],
   "source": [
    "library(readr)\n",
    "titanic <- read_csv(\"data/titanic.csv\",\n",
    "                 show_col_types = FALSE)\n",
    "head(titanic)\n"
   ]
  },
  {
   "cell_type": "markdown",
   "id": "5e3e5853-4e74-43f7-b9fb-f9a42816fcad",
   "metadata": {},
   "source": [
    "## SAS program snippet"
   ]
  },
  {
   "cell_type": "markdown",
   "id": "72a25d47-c22e-4226-89b2-8e8625f61f8c",
   "metadata": {},
   "source": [
    "The following SAS code will be executed."
   ]
  },
  {
   "cell_type": "raw",
   "id": "b171d2d0-81ef-41e8-8987-5c68601be412",
   "metadata": {},
   "source": [
    "proc logistic data = titanic descending;\n",
    "  class sex Pclass;\n",
    "  model survived = sex Pclass age;\n",
    "run;\n"
   ]
  },
  {
   "cell_type": "markdown",
   "id": "7a8513e1-772a-4a3f-9b5a-1f445626da2c",
   "metadata": {},
   "source": [
    "The option descending reverses the order of the levels in the dependent variable."
   ]
  },
  {
   "cell_type": "markdown",
   "id": "5fcf9f00-3a07-4e34-805c-de0f95d4d76a",
   "metadata": {},
   "source": [
    "## Results"
   ]
  },
  {
   "cell_type": "markdown",
   "id": "3d365e27-c7c5-4936-90db-8392fae3a124",
   "metadata": {},
   "source": [
    "The output is divided into blocks to explain it and to reproduce it afterwards in the different languages.\n",
    "\n",
    "The sequence and contents of the blocks differes between simple and multiple logistic regression.\n",
    "\n",
    "The occurrence of categorical variables also adds other blocks."
   ]
  },
  {
   "cell_type": "markdown",
   "id": "40ce206b-826d-42c6-bc39-c588864d99b7",
   "metadata": {},
   "source": [
    "### Block 1\n",
    "![Block 1](img_screenshots/block_1.png)"
   ]
  },
  {
   "cell_type": "markdown",
   "id": "62e1bb79-e151-4b9b-8f46-2a6b6c54efae",
   "metadata": {},
   "source": [
    "Row 1 refers to the dataset which was used in this procedure.\n",
    "\n",
    "Row 2 gives the response variable or dependent variable for the logistic regression.\n",
    "\n",
    "Row 3 gives the number of response levels equal to the available levels of the dependent variable in the dataset.\n",
    "\n",
    "Row 4 names the type of model. In this case it is a logistic regression or binary logit as stated here.\n",
    "\n",
    "Row 5 gives the name of the optimization technique which was used. Here is a source for differences between the statistical programs.\n",
    "In SAS, the default method is Fisher’s scoring method.\n",
    "In R, the glm documentation mentions iteratively reweighted least squares (IWLS) as the method.\n",
    "In Stata, it is the Newton-Raphson algorithm. \n",
    "These are the three main methods.\n",
    "\n",
    "You have to look into the small print in the description of the method."
   ]
  },
  {
   "cell_type": "markdown",
   "id": "09f48c70-5dd6-4e6a-984e-6ed29408f555",
   "metadata": {},
   "source": [
    "### Block 2\n",
    "![Block 2](img_screenshots/block_2.png)"
   ]
  },
  {
   "cell_type": "markdown",
   "id": "57efdf0b-a838-4279-a05d-13d0c71bf300",
   "metadata": {},
   "source": [
    "The number of observations used might be less than the number of observations read.\n",
    "SAS performs a listwise deletion (complete case analysis) if missing values are present."
   ]
  },
  {
   "cell_type": "markdown",
   "id": "c600c9a5-619f-4495-80e6-85c89a18877d",
   "metadata": {},
   "source": [
    "### Block 3\n",
    "![Block 3](img_screenshots/block_3.png)"
   ]
  },
  {
   "cell_type": "markdown",
   "id": "590e1d5a-8898-4764-b61c-daf70f356939",
   "metadata": {},
   "source": [
    "The levels and the frequencies for the dependent variable are provided here.\n",
    "\n",
    "It is also stated which probability is modeled here. The order was reversed here with the descending option in the proc logistic statement.\n",
    "\n",
    "By default SAS models the 0 while other statistical programs model the 1. \n",
    "Categorical levels would be sorted in alphabetical order and the first level would be modeled."
   ]
  },
  {
   "cell_type": "markdown",
   "id": "e76ff54b-9339-4c00-bb4e-c5deea17de63",
   "metadata": {},
   "source": [
    "### Block 4\n",
    "![Block 4](img_screenshots/block_4.png)"
   ]
  },
  {
   "cell_type": "markdown",
   "id": "fc916c5e-7eb6-464a-bb02-24510a4af57b",
   "metadata": {},
   "source": [
    "The important information that the model converged can be found here.\n",
    "\n",
    "Coding of categorical is listed here.\n",
    "\n",
    "This coding might differ from the coding in other statistic programming languages.\n"
   ]
  },
  {
   "cell_type": "markdown",
   "id": "8743a8b2-74c2-4ef6-b1ba-8446feafb902",
   "metadata": {},
   "source": [
    "### Block 5\n",
    "![Block 5](img_screenshots/block_5.png)"
   ]
  },
  {
   "cell_type": "markdown",
   "id": "60d0f28a-14c3-49ca-aee7-4f7643658ff0",
   "metadata": {},
   "source": [
    "The model fit status is described by \n",
    "-  AIC (Akaike Information Criterion): Smaller is better.\n",
    "-  SC (Schwarz Criterion): Smaller is better.\n",
    "-  -2 Log L (negative two times the log-likelihood)\n",
    "\n"
   ]
  },
  {
   "cell_type": "markdown",
   "id": "2cea3490-b255-48f5-a479-2b340380c718",
   "metadata": {},
   "source": [
    "### Block 6\n",
    "![Block 6](img_screenshots/block_6.png)"
   ]
  },
  {
   "cell_type": "markdown",
   "id": "ece52e54-d197-4d56-a3fe-41fdb8f681da",
   "metadata": {},
   "source": [
    "These global tests test the null hypothesis that all regression coefficents are zero.\n",
    "\n",
    "The tests are different chi-square tests.\n"
   ]
  },
  {
   "cell_type": "markdown",
   "id": "30db5cb8-1c58-498a-8602-07ad1e8ffd6c",
   "metadata": {},
   "source": [
    "### Block 7\n",
    "![Block 7](img_screenshots/block_7.png)"
   ]
  },
  {
   "cell_type": "markdown",
   "id": "0efb8324-3007-4aa5-ad5d-553e1a808972",
   "metadata": {},
   "source": [
    "Column 1 \"Effect\" lists the variables which are interpreted by the point estimate.\n",
    "\n",
    "Column 2 \"Point Estimate\" is interpreted as an odds ratio. \n",
    "One unit change in the independent variable changes the probability for the modelled event by the estimated value.\n",
    "\n",
    "Column 3 and 4 give the confidence interval for the odds ratio."
   ]
  },
  {
   "cell_type": "markdown",
   "id": "804b643f-8477-4a08-b97a-5a2da33bfbd0",
   "metadata": {},
   "source": [
    "### Block 8\n",
    "![Block 8](img_screenshots/block_8.png)"
   ]
  },
  {
   "cell_type": "markdown",
   "id": "a492719e-927f-4632-8999-e452cdb88470",
   "metadata": {},
   "source": [
    "Column 1 \"Parameter\" lists the intercept and the parameter in the model.\n",
    "\n",
    "Column 2 \"DF\" gives the degrees of freedom for every parameter.\n",
    "\n",
    "Column 3 \"Estimate\" lists the logit regression estimates for every parameter given that the other parameter are held constant. \n",
    "\n",
    "$log(p / (1 - p)) = -6.10 + 0.04 * glucose$ with p as the probability for diabetes.\n",
    "\n",
    "Column 4 \"Standard Error\" gives the standard errors of the individual regression coefficients.\n",
    "\n",
    "Column 5 \"Wald Chi-Square\" tests the null hypothesis that the regression coefficient is zero given that the other predictors are in the model.\n",
    "\n",
    "Column 6 \"Pr > ChiSq\" gives the p-value for the Wald Chi-Square statistic."
   ]
  },
  {
   "cell_type": "markdown",
   "id": "3840f423-705b-441e-a656-29a43fb2fadc",
   "metadata": {},
   "source": [
    "### Block 9\n",
    "![Block 9](img_screenshots/block_9.png)"
   ]
  },
  {
   "cell_type": "markdown",
   "id": "182ca841-b86e-4b32-8ea0-c07c5b9bc54c",
   "metadata": {},
   "source": [
    "Column 1 \"Effect\" lists the variables which are interpreted by the point estimate.\n",
    "\n",
    "Column 2 \"Point Estimate\" is interpreted as an odds ratio. \n",
    "One unit change in the independent variable changes the probability for the modelled event by the estimated value.\n",
    "\n",
    "Column 3 and 4 give the confidence interval for the odds ratio.\n"
   ]
  },
  {
   "cell_type": "markdown",
   "id": "dacf5c26-fe2b-424b-ad22-7d4fdb8b00b2",
   "metadata": {},
   "source": [
    "### Block 10\n",
    "![Block 10](img_screenshots/block_10.png)"
   ]
  },
  {
   "cell_type": "markdown",
   "id": "45e9317f-ffc7-439f-b888-1a502f5547c7",
   "metadata": {},
   "source": [
    "These parameter describe the association between the predicted probabilities and observed responses.\n"
   ]
  },
  {
   "cell_type": "code",
   "execution_count": null,
   "id": "6911ec1d-f852-4792-9346-d470887b4ab0",
   "metadata": {},
   "outputs": [],
   "source": []
  }
 ],
 "metadata": {
  "kernelspec": {
   "display_name": "R 4.3.2",
   "language": "R",
   "name": "ir432"
  },
  "language_info": {
   "codemirror_mode": "r",
   "file_extension": ".r",
   "mimetype": "text/x-r-source",
   "name": "R",
   "pygments_lexer": "r",
   "version": "4.3.2"
  }
 },
 "nbformat": 4,
 "nbformat_minor": 5
}
