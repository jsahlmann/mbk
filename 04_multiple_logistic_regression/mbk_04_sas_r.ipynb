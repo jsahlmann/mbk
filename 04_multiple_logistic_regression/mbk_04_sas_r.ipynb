{
 "cells": [
  {
   "cell_type": "markdown",
   "id": "df8091c6-2036-476c-b540-77db13c8369e",
   "metadata": {},
   "source": [
    "# 04 - Multiple logistic regression"
   ]
  },
  {
   "cell_type": "markdown",
   "id": "8cf7dd5a-4d82-471f-8a41-39e05dbdde32",
   "metadata": {},
   "source": [
    "## Data"
   ]
  },
  {
   "cell_type": "markdown",
   "id": "f4874aaa-1498-44be-8371-053af86b4735",
   "metadata": {},
   "source": [
    "Source of data: Titanic\n",
    "\n",
    "www.kaggle.com\n",
    "\n",
    "https://www.kaggle.com/datasets/hesh97/titanicdataset-traincsv \n",
    "\n",
    "Dataset titanic.csv"
   ]
  },
  {
   "cell_type": "code",
   "execution_count": 63,
   "id": "09e0948e-f67e-4798-8b78-888edfcf8a78",
   "metadata": {},
   "outputs": [
    {
     "data": {
      "text/html": [
       "<table class=\"dataframe\">\n",
       "<caption>A tibble: 6 × 12</caption>\n",
       "<thead>\n",
       "\t<tr><th scope=col>PassengerId</th><th scope=col>Survived</th><th scope=col>Pclass</th><th scope=col>Name</th><th scope=col>Sex</th><th scope=col>Age</th><th scope=col>SibSp</th><th scope=col>Parch</th><th scope=col>Ticket</th><th scope=col>Fare</th><th scope=col>Cabin</th><th scope=col>Embarked</th></tr>\n",
       "\t<tr><th scope=col>&lt;dbl&gt;</th><th scope=col>&lt;dbl&gt;</th><th scope=col>&lt;fct&gt;</th><th scope=col>&lt;chr&gt;</th><th scope=col>&lt;fct&gt;</th><th scope=col>&lt;dbl&gt;</th><th scope=col>&lt;dbl&gt;</th><th scope=col>&lt;dbl&gt;</th><th scope=col>&lt;chr&gt;</th><th scope=col>&lt;dbl&gt;</th><th scope=col>&lt;chr&gt;</th><th scope=col>&lt;chr&gt;</th></tr>\n",
       "</thead>\n",
       "<tbody>\n",
       "\t<tr><td>1</td><td>0</td><td>3</td><td>Braund, Mr. Owen Harris                            </td><td>male  </td><td>22</td><td>1</td><td>0</td><td>A/5 21171       </td><td> 7.2500</td><td>NA  </td><td>S</td></tr>\n",
       "\t<tr><td>2</td><td>1</td><td>1</td><td>Cumings, Mrs. John Bradley (Florence Briggs Thayer)</td><td>female</td><td>38</td><td>1</td><td>0</td><td>PC 17599        </td><td>71.2833</td><td>C85 </td><td>C</td></tr>\n",
       "\t<tr><td>3</td><td>1</td><td>3</td><td>Heikkinen, Miss. Laina                             </td><td>female</td><td>26</td><td>0</td><td>0</td><td>STON/O2. 3101282</td><td> 7.9250</td><td>NA  </td><td>S</td></tr>\n",
       "\t<tr><td>4</td><td>1</td><td>1</td><td>Futrelle, Mrs. Jacques Heath (Lily May Peel)       </td><td>female</td><td>35</td><td>1</td><td>0</td><td>113803          </td><td>53.1000</td><td>C123</td><td>S</td></tr>\n",
       "\t<tr><td>5</td><td>0</td><td>3</td><td>Allen, Mr. William Henry                           </td><td>male  </td><td>35</td><td>0</td><td>0</td><td>373450          </td><td> 8.0500</td><td>NA  </td><td>S</td></tr>\n",
       "\t<tr><td>6</td><td>0</td><td>3</td><td>Moran, Mr. James                                   </td><td>male  </td><td>NA</td><td>0</td><td>0</td><td>330877          </td><td> 8.4583</td><td>NA  </td><td>Q</td></tr>\n",
       "</tbody>\n",
       "</table>\n"
      ],
      "text/latex": [
       "A tibble: 6 × 12\n",
       "\\begin{tabular}{llllllllllll}\n",
       " PassengerId & Survived & Pclass & Name & Sex & Age & SibSp & Parch & Ticket & Fare & Cabin & Embarked\\\\\n",
       " <dbl> & <dbl> & <fct> & <chr> & <fct> & <dbl> & <dbl> & <dbl> & <chr> & <dbl> & <chr> & <chr>\\\\\n",
       "\\hline\n",
       "\t 1 & 0 & 3 & Braund, Mr. Owen Harris                             & male   & 22 & 1 & 0 & A/5 21171        &  7.2500 & NA   & S\\\\\n",
       "\t 2 & 1 & 1 & Cumings, Mrs. John Bradley (Florence Briggs Thayer) & female & 38 & 1 & 0 & PC 17599         & 71.2833 & C85  & C\\\\\n",
       "\t 3 & 1 & 3 & Heikkinen, Miss. Laina                              & female & 26 & 0 & 0 & STON/O2. 3101282 &  7.9250 & NA   & S\\\\\n",
       "\t 4 & 1 & 1 & Futrelle, Mrs. Jacques Heath (Lily May Peel)        & female & 35 & 1 & 0 & 113803           & 53.1000 & C123 & S\\\\\n",
       "\t 5 & 0 & 3 & Allen, Mr. William Henry                            & male   & 35 & 0 & 0 & 373450           &  8.0500 & NA   & S\\\\\n",
       "\t 6 & 0 & 3 & Moran, Mr. James                                    & male   & NA & 0 & 0 & 330877           &  8.4583 & NA   & Q\\\\\n",
       "\\end{tabular}\n"
      ],
      "text/markdown": [
       "\n",
       "A tibble: 6 × 12\n",
       "\n",
       "| PassengerId &lt;dbl&gt; | Survived &lt;dbl&gt; | Pclass &lt;fct&gt; | Name &lt;chr&gt; | Sex &lt;fct&gt; | Age &lt;dbl&gt; | SibSp &lt;dbl&gt; | Parch &lt;dbl&gt; | Ticket &lt;chr&gt; | Fare &lt;dbl&gt; | Cabin &lt;chr&gt; | Embarked &lt;chr&gt; |\n",
       "|---|---|---|---|---|---|---|---|---|---|---|---|\n",
       "| 1 | 0 | 3 | Braund, Mr. Owen Harris                             | male   | 22 | 1 | 0 | A/5 21171        |  7.2500 | NA   | S |\n",
       "| 2 | 1 | 1 | Cumings, Mrs. John Bradley (Florence Briggs Thayer) | female | 38 | 1 | 0 | PC 17599         | 71.2833 | C85  | C |\n",
       "| 3 | 1 | 3 | Heikkinen, Miss. Laina                              | female | 26 | 0 | 0 | STON/O2. 3101282 |  7.9250 | NA   | S |\n",
       "| 4 | 1 | 1 | Futrelle, Mrs. Jacques Heath (Lily May Peel)        | female | 35 | 1 | 0 | 113803           | 53.1000 | C123 | S |\n",
       "| 5 | 0 | 3 | Allen, Mr. William Henry                            | male   | 35 | 0 | 0 | 373450           |  8.0500 | NA   | S |\n",
       "| 6 | 0 | 3 | Moran, Mr. James                                    | male   | NA | 0 | 0 | 330877           |  8.4583 | NA   | Q |\n",
       "\n"
      ],
      "text/plain": [
       "  PassengerId Survived Pclass\n",
       "1 1           0        3     \n",
       "2 2           1        1     \n",
       "3 3           1        3     \n",
       "4 4           1        1     \n",
       "5 5           0        3     \n",
       "6 6           0        3     \n",
       "  Name                                                Sex    Age SibSp Parch\n",
       "1 Braund, Mr. Owen Harris                             male   22  1     0    \n",
       "2 Cumings, Mrs. John Bradley (Florence Briggs Thayer) female 38  1     0    \n",
       "3 Heikkinen, Miss. Laina                              female 26  0     0    \n",
       "4 Futrelle, Mrs. Jacques Heath (Lily May Peel)        female 35  1     0    \n",
       "5 Allen, Mr. William Henry                            male   35  0     0    \n",
       "6 Moran, Mr. James                                    male   NA  0     0    \n",
       "  Ticket           Fare    Cabin Embarked\n",
       "1 A/5 21171         7.2500 NA    S       \n",
       "2 PC 17599         71.2833 C85   C       \n",
       "3 STON/O2. 3101282  7.9250 NA    S       \n",
       "4 113803           53.1000 C123  S       \n",
       "5 373450            8.0500 NA    S       \n",
       "6 330877            8.4583 NA    Q       "
      ]
     },
     "metadata": {},
     "output_type": "display_data"
    }
   ],
   "source": [
    "library(readr)\n",
    "titanic <- read_csv(\"data/titanic.csv\",\n",
    "                 show_col_types = FALSE)\n",
    "titanic$Pclass <- as.factor(titanic$Pclass)\n",
    "titanic$Sex <- as.factor(titanic$Sex)\n",
    "\n",
    "head(titanic)\n"
   ]
  },
  {
   "cell_type": "markdown",
   "id": "5e3e5853-4e74-43f7-b9fb-f9a42816fcad",
   "metadata": {},
   "source": [
    "## SAS program snippet"
   ]
  },
  {
   "cell_type": "markdown",
   "id": "72a25d47-c22e-4226-89b2-8e8625f61f8c",
   "metadata": {},
   "source": [
    "The following SAS code will be executed."
   ]
  },
  {
   "cell_type": "raw",
   "id": "b171d2d0-81ef-41e8-8987-5c68601be412",
   "metadata": {},
   "source": [
    "proc logistic data = titanic descending;\n",
    "  class sex Pclass;\n",
    "  model survived = sex Pclass age;\n",
    "run;\n"
   ]
  },
  {
   "cell_type": "markdown",
   "id": "7a8513e1-772a-4a3f-9b5a-1f445626da2c",
   "metadata": {},
   "source": [
    "The option descending reverses the order of the levels in the dependent variable."
   ]
  },
  {
   "cell_type": "markdown",
   "id": "5fcf9f00-3a07-4e34-805c-de0f95d4d76a",
   "metadata": {},
   "source": [
    "## Results"
   ]
  },
  {
   "cell_type": "markdown",
   "id": "3d365e27-c7c5-4936-90db-8392fae3a124",
   "metadata": {},
   "source": [
    "The output is divided into blocks to explain it and to reproduce it afterwards in the different languages.\n",
    "\n",
    "The sequence and contents of the blocks differes between simple and multiple logistic regression.\n",
    "\n",
    "The occurrence of categorical variables also adds other blocks."
   ]
  },
  {
   "cell_type": "markdown",
   "id": "40ce206b-826d-42c6-bc39-c588864d99b7",
   "metadata": {},
   "source": [
    "### Block 1\n",
    "![Block 1](img_screenshots/block_1.png)"
   ]
  },
  {
   "cell_type": "markdown",
   "id": "62e1bb79-e151-4b9b-8f46-2a6b6c54efae",
   "metadata": {},
   "source": [
    "Row 1 refers to the dataset which was used in this procedure.\n",
    "\n",
    "Row 2 gives the response variable or dependent variable for the logistic regression.\n",
    "\n",
    "Row 3 gives the number of response levels equal to the available levels of the dependent variable in the dataset.\n",
    "\n",
    "Row 4 names the type of model. In this case it is a logistic regression or binary logit as stated here.\n",
    "\n",
    "Row 5 gives the name of the optimization technique which was used. Here is a source for differences between the statistical programs.\n",
    "In SAS, the default method is Fisher’s scoring method.\n",
    "In R, the glm documentation mentions iteratively reweighted least squares (IWLS) as the method.\n",
    "In Stata, it is the Newton-Raphson algorithm. \n",
    "These are the three main methods.\n",
    "\n",
    "You have to look into the small print in the description of the method."
   ]
  },
  {
   "cell_type": "markdown",
   "id": "045aa3ca-b979-4da5-b6b6-dbce426eaf6d",
   "metadata": {},
   "source": [
    "### R chunk for reproduction"
   ]
  },
  {
   "cell_type": "code",
   "execution_count": 64,
   "id": "7983239e-c56f-4d72-87c8-e90ca8b43b6e",
   "metadata": {},
   "outputs": [
    {
     "data": {
      "text/plain": [
       "\n",
       "Call:\n",
       "glm(formula = Survived ~ Sex + Pclass + Age, family = binomial, \n",
       "    data = titanic)\n",
       "\n",
       "Coefficients:\n",
       "             Estimate Std. Error z value Pr(>|z|)    \n",
       "(Intercept)  3.777013   0.401123   9.416  < 2e-16 ***\n",
       "Sexmale     -2.522781   0.207391 -12.164  < 2e-16 ***\n",
       "Pclass2     -1.309799   0.278066  -4.710 2.47e-06 ***\n",
       "Pclass3     -2.580625   0.281442  -9.169  < 2e-16 ***\n",
       "Age         -0.036985   0.007656  -4.831 1.36e-06 ***\n",
       "---\n",
       "Signif. codes:  0 '***' 0.001 '**' 0.01 '*' 0.05 '.' 0.1 ' ' 1\n",
       "\n",
       "(Dispersion parameter for binomial family taken to be 1)\n",
       "\n",
       "    Null deviance: 964.52  on 713  degrees of freedom\n",
       "Residual deviance: 647.28  on 709  degrees of freedom\n",
       "  (177 Beobachtungen als fehlend gelöscht)\n",
       "AIC: 657.28\n",
       "\n",
       "Number of Fisher Scoring iterations: 5\n"
      ]
     },
     "metadata": {},
     "output_type": "display_data"
    },
    {
     "data": {
      "text/plain": [
       "survived\n",
       "  0   1 \n",
       "549 342 "
      ]
     },
     "metadata": {},
     "output_type": "display_data"
    }
   ],
   "source": [
    "library(broom) \n",
    "my_logistic <- glm(Survived ~ Sex + Pclass + Age, data = titanic, family = binomial)\n",
    "\n",
    "summary(my_logistic)\n",
    "\n",
    "# Number of response levels\n",
    "table(\"survived\" = titanic$Survived)"
   ]
  },
  {
   "cell_type": "markdown",
   "id": "f8a986da-2f4d-428a-bf74-f3c3184b4134",
   "metadata": {},
   "source": [
    "Data set will be part of the result of the summary() function.\n",
    "\n",
    "The response variable is given in the formula.\n",
    "\n",
    "The number of levels can be obtained with the table() function. SAS handles character values, R needs numeric values for the response variable.\n",
    "\n",
    "The summary() function also provides the information that Fisher Scoring was used."
   ]
  },
  {
   "cell_type": "markdown",
   "id": "09f48c70-5dd6-4e6a-984e-6ed29408f555",
   "metadata": {},
   "source": [
    "### Block 2\n",
    "![Block 2](img_screenshots/block_2.png)"
   ]
  },
  {
   "cell_type": "markdown",
   "id": "47012cbf-f8f1-40b1-8ff8-fd5497e5921c",
   "metadata": {},
   "source": [
    "The number of observations used might be less than the number of observations read. SAS performs a listwise deletion (complete case analysis) if missing values are present."
   ]
  },
  {
   "cell_type": "markdown",
   "id": "b1284958-b684-43c9-b8e0-a6edff6f12bd",
   "metadata": {},
   "source": [
    "### R chunk for reproduction"
   ]
  },
  {
   "cell_type": "code",
   "execution_count": 65,
   "id": "7ad2e433-31ab-401b-b8ee-19df783c8ff7",
   "metadata": {},
   "outputs": [
    {
     "data": {
      "text/html": [
       "891"
      ],
      "text/latex": [
       "891"
      ],
      "text/markdown": [
       "891"
      ],
      "text/plain": [
       "[1] 891"
      ]
     },
     "metadata": {},
     "output_type": "display_data"
    },
    {
     "data": {
      "text/html": [
       "714"
      ],
      "text/latex": [
       "714"
      ],
      "text/markdown": [
       "714"
      ],
      "text/plain": [
       "[1] 714"
      ]
     },
     "metadata": {},
     "output_type": "display_data"
    },
    {
     "data": {
      "text/html": [
       "177"
      ],
      "text/latex": [
       "177"
      ],
      "text/markdown": [
       "177"
      ],
      "text/plain": [
       "[1] 177"
      ]
     },
     "metadata": {},
     "output_type": "display_data"
    }
   ],
   "source": [
    "nrow(titanic)\n",
    "nobs(my_logistic)\n",
    "nrow(titanic) - nobs(my_logistic)"
   ]
  },
  {
   "cell_type": "markdown",
   "id": "57efdf0b-a838-4279-a05d-13d0c71bf300",
   "metadata": {},
   "source": [
    "The number of observations is the result of the nrow() function.\n",
    "\n",
    "The number of observations used is the result of the nobs() function.\n"
   ]
  },
  {
   "cell_type": "markdown",
   "id": "c600c9a5-619f-4495-80e6-85c89a18877d",
   "metadata": {},
   "source": [
    "### Block 3\n",
    "![Block 3](img_screenshots/block_3.png)"
   ]
  },
  {
   "cell_type": "markdown",
   "id": "590e1d5a-8898-4764-b61c-daf70f356939",
   "metadata": {},
   "source": [
    "The levels and the frequencies for the dependent variable are provided here.\n",
    "\n",
    "It is also stated which probability is modeled here. The order was reversed here with the descending option in the proc logistic statement.\n",
    "\n",
    "By default SAS models the 0 while other statistical programs model the 1. \n",
    "Categorical levels would be sorted in alphabetical order and the first level would be modeled."
   ]
  },
  {
   "cell_type": "markdown",
   "id": "e2d8a79e-17d0-40b9-aeef-4c4b88c79340",
   "metadata": {},
   "source": [
    "### R chunk for reproduction"
   ]
  },
  {
   "cell_type": "code",
   "execution_count": 66,
   "id": "d0c5d98b-fd3c-42da-bc04-582e00520db3",
   "metadata": {},
   "outputs": [
    {
     "data": {
      "text/html": [
       "<table class=\"dataframe\">\n",
       "<caption>A grouped_df: 2 × 2</caption>\n",
       "<thead>\n",
       "\t<tr><th scope=col>Survived</th><th scope=col>Total Frequency</th></tr>\n",
       "\t<tr><th scope=col>&lt;dbl&gt;</th><th scope=col>&lt;int&gt;</th></tr>\n",
       "</thead>\n",
       "<tbody>\n",
       "\t<tr><td>0</td><td>549</td></tr>\n",
       "\t<tr><td>1</td><td>342</td></tr>\n",
       "</tbody>\n",
       "</table>\n"
      ],
      "text/latex": [
       "A grouped\\_df: 2 × 2\n",
       "\\begin{tabular}{ll}\n",
       " Survived & Total Frequency\\\\\n",
       " <dbl> & <int>\\\\\n",
       "\\hline\n",
       "\t 0 & 549\\\\\n",
       "\t 1 & 342\\\\\n",
       "\\end{tabular}\n"
      ],
      "text/markdown": [
       "\n",
       "A grouped_df: 2 × 2\n",
       "\n",
       "| Survived &lt;dbl&gt; | Total Frequency &lt;int&gt; |\n",
       "|---|---|\n",
       "| 0 | 549 |\n",
       "| 1 | 342 |\n",
       "\n"
      ],
      "text/plain": [
       "  Survived Total Frequency\n",
       "1 0        549            \n",
       "2 1        342            "
      ]
     },
     "metadata": {},
     "output_type": "display_data"
    }
   ],
   "source": [
    "suppressPackageStartupMessages(library(tidyverse))\n",
    "titanic %>%\n",
    "group_by(Survived) %>%\n",
    "count(name = \"Total Frequency\")"
   ]
  },
  {
   "cell_type": "markdown",
   "id": "e76ff54b-9339-4c00-bb4e-c5deea17de63",
   "metadata": {},
   "source": [
    "### Block 4\n",
    "![Block 4](img_screenshots/block_4.png)"
   ]
  },
  {
   "cell_type": "markdown",
   "id": "fc916c5e-7eb6-464a-bb02-24510a4af57b",
   "metadata": {},
   "source": [
    "The important information that the model converged can be found here.\n",
    "\n",
    "Coding of categorical is listed here.\n",
    "\n",
    "This coding might differ from the coding in other statistic programming languages.\n"
   ]
  },
  {
   "cell_type": "markdown",
   "id": "5b6fd886-9ebc-4d0d-ba11-d71819653cb8",
   "metadata": {},
   "source": [
    "## R chunk for reproduction"
   ]
  },
  {
   "cell_type": "code",
   "execution_count": 67,
   "id": "bb95883d-b956-46b3-a515-f73e642e2f8a",
   "metadata": {},
   "outputs": [
    {
     "data": {
      "text/html": [
       "<table class=\"dataframe\">\n",
       "<caption>A matrix: 2 × 1 of type dbl</caption>\n",
       "<thead>\n",
       "\t<tr><th></th><th scope=col>male</th></tr>\n",
       "</thead>\n",
       "<tbody>\n",
       "\t<tr><th scope=row>female</th><td>0</td></tr>\n",
       "\t<tr><th scope=row>male</th><td>1</td></tr>\n",
       "</tbody>\n",
       "</table>\n"
      ],
      "text/latex": [
       "A matrix: 2 × 1 of type dbl\n",
       "\\begin{tabular}{r|l}\n",
       "  & male\\\\\n",
       "\\hline\n",
       "\tfemale & 0\\\\\n",
       "\tmale & 1\\\\\n",
       "\\end{tabular}\n"
      ],
      "text/markdown": [
       "\n",
       "A matrix: 2 × 1 of type dbl\n",
       "\n",
       "| <!--/--> | male |\n",
       "|---|---|\n",
       "| female | 0 |\n",
       "| male | 1 |\n",
       "\n"
      ],
      "text/plain": [
       "       male\n",
       "female 0   \n",
       "male   1   "
      ]
     },
     "metadata": {},
     "output_type": "display_data"
    },
    {
     "data": {
      "text/html": [
       "<table class=\"dataframe\">\n",
       "<caption>A matrix: 3 × 2 of type dbl</caption>\n",
       "<thead>\n",
       "\t<tr><th></th><th scope=col>2</th><th scope=col>3</th></tr>\n",
       "</thead>\n",
       "<tbody>\n",
       "\t<tr><th scope=row>1</th><td>0</td><td>0</td></tr>\n",
       "\t<tr><th scope=row>2</th><td>1</td><td>0</td></tr>\n",
       "\t<tr><th scope=row>3</th><td>0</td><td>1</td></tr>\n",
       "</tbody>\n",
       "</table>\n"
      ],
      "text/latex": [
       "A matrix: 3 × 2 of type dbl\n",
       "\\begin{tabular}{r|ll}\n",
       "  & 2 & 3\\\\\n",
       "\\hline\n",
       "\t1 & 0 & 0\\\\\n",
       "\t2 & 1 & 0\\\\\n",
       "\t3 & 0 & 1\\\\\n",
       "\\end{tabular}\n"
      ],
      "text/markdown": [
       "\n",
       "A matrix: 3 × 2 of type dbl\n",
       "\n",
       "| <!--/--> | 2 | 3 |\n",
       "|---|---|---|\n",
       "| 1 | 0 | 0 |\n",
       "| 2 | 1 | 0 |\n",
       "| 3 | 0 | 1 |\n",
       "\n"
      ],
      "text/plain": [
       "  2 3\n",
       "1 0 0\n",
       "2 1 0\n",
       "3 0 1"
      ]
     },
     "metadata": {},
     "output_type": "display_data"
    }
   ],
   "source": [
    "contrasts(titanic$Sex)\n",
    "\n",
    "contrasts(titanic$Pclass)\n"
   ]
  },
  {
   "cell_type": "markdown",
   "id": "4d22c4c0-ca2a-4e25-94ad-a66104d0df6c",
   "metadata": {},
   "source": [
    "R and SAS have a different default coding.\n",
    "\n",
    "R uses dummy coding.\n",
    "\n",
    "SAS uses sum coding."
   ]
  },
  {
   "cell_type": "markdown",
   "id": "8743a8b2-74c2-4ef6-b1ba-8446feafb902",
   "metadata": {},
   "source": [
    "### Block 5\n",
    "![Block 5](img_screenshots/block_5.png)"
   ]
  },
  {
   "cell_type": "markdown",
   "id": "60d0f28a-14c3-49ca-aee7-4f7643658ff0",
   "metadata": {},
   "source": [
    "The model fit status is described by \n",
    "-  AIC (Akaike Information Criterion): Smaller is better.\n",
    "-  SC (Schwarz Criterion): Smaller is better.\n",
    "-  -2 Log L (negative two times the log-likelihood)\n",
    "\n"
   ]
  },
  {
   "cell_type": "markdown",
   "id": "d0a7ca84-330e-4195-a75e-8be11b014026",
   "metadata": {},
   "source": [
    "### R chunk for reproduction"
   ]
  },
  {
   "cell_type": "code",
   "execution_count": 68,
   "id": "ac79bf23-b79f-448c-a5ed-d404db6c7d04",
   "metadata": {},
   "outputs": [
    {
     "data": {
      "text/html": [
       "<table class=\"dataframe\">\n",
       "<caption>A tibble: 1 × 8</caption>\n",
       "<thead>\n",
       "\t<tr><th scope=col>null.deviance</th><th scope=col>df.null</th><th scope=col>logLik</th><th scope=col>AIC</th><th scope=col>BIC</th><th scope=col>deviance</th><th scope=col>df.residual</th><th scope=col>nobs</th></tr>\n",
       "\t<tr><th scope=col>&lt;dbl&gt;</th><th scope=col>&lt;int&gt;</th><th scope=col>&lt;dbl&gt;</th><th scope=col>&lt;dbl&gt;</th><th scope=col>&lt;dbl&gt;</th><th scope=col>&lt;dbl&gt;</th><th scope=col>&lt;int&gt;</th><th scope=col>&lt;int&gt;</th></tr>\n",
       "</thead>\n",
       "<tbody>\n",
       "\t<tr><td>964.516</td><td>713</td><td>-323.6416</td><td>657.2831</td><td>680.1375</td><td>647.2831</td><td>709</td><td>714</td></tr>\n",
       "</tbody>\n",
       "</table>\n"
      ],
      "text/latex": [
       "A tibble: 1 × 8\n",
       "\\begin{tabular}{llllllll}\n",
       " null.deviance & df.null & logLik & AIC & BIC & deviance & df.residual & nobs\\\\\n",
       " <dbl> & <int> & <dbl> & <dbl> & <dbl> & <dbl> & <int> & <int>\\\\\n",
       "\\hline\n",
       "\t 964.516 & 713 & -323.6416 & 657.2831 & 680.1375 & 647.2831 & 709 & 714\\\\\n",
       "\\end{tabular}\n"
      ],
      "text/markdown": [
       "\n",
       "A tibble: 1 × 8\n",
       "\n",
       "| null.deviance &lt;dbl&gt; | df.null &lt;int&gt; | logLik &lt;dbl&gt; | AIC &lt;dbl&gt; | BIC &lt;dbl&gt; | deviance &lt;dbl&gt; | df.residual &lt;int&gt; | nobs &lt;int&gt; |\n",
       "|---|---|---|---|---|---|---|---|\n",
       "| 964.516 | 713 | -323.6416 | 657.2831 | 680.1375 | 647.2831 | 709 | 714 |\n",
       "\n"
      ],
      "text/plain": [
       "  null.deviance df.null logLik    AIC      BIC      deviance df.residual nobs\n",
       "1 964.516       713     -323.6416 657.2831 680.1375 647.2831 709         714 "
      ]
     },
     "metadata": {},
     "output_type": "display_data"
    }
   ],
   "source": [
    "glance(my_logistic)"
   ]
  },
  {
   "cell_type": "markdown",
   "id": "34834021-6acd-47fb-b47f-80f2ac258db8",
   "metadata": {},
   "source": [
    "null.deviance and df.null refer to the intercept only model.\n",
    "\n",
    "BIC (Bayes information criterion) is also SC (Schwarz criterion).\n",
    "\n",
    "you can run an intercept model with the following code."
   ]
  },
  {
   "cell_type": "code",
   "execution_count": 69,
   "id": "24aa6eb2-c32d-4680-b7e7-e24ca37c0258",
   "metadata": {},
   "outputs": [
    {
     "data": {
      "text/html": [
       "<table class=\"dataframe\">\n",
       "<caption>A tibble: 1 × 8</caption>\n",
       "<thead>\n",
       "\t<tr><th scope=col>null.deviance</th><th scope=col>df.null</th><th scope=col>logLik</th><th scope=col>AIC</th><th scope=col>BIC</th><th scope=col>deviance</th><th scope=col>df.residual</th><th scope=col>nobs</th></tr>\n",
       "\t<tr><th scope=col>&lt;dbl&gt;</th><th scope=col>&lt;int&gt;</th><th scope=col>&lt;dbl&gt;</th><th scope=col>&lt;dbl&gt;</th><th scope=col>&lt;dbl&gt;</th><th scope=col>&lt;dbl&gt;</th><th scope=col>&lt;int&gt;</th><th scope=col>&lt;int&gt;</th></tr>\n",
       "</thead>\n",
       "<tbody>\n",
       "\t<tr><td>964.516</td><td>713</td><td>-482.258</td><td>966.516</td><td>971.0868</td><td>964.516</td><td>713</td><td>714</td></tr>\n",
       "</tbody>\n",
       "</table>\n"
      ],
      "text/latex": [
       "A tibble: 1 × 8\n",
       "\\begin{tabular}{llllllll}\n",
       " null.deviance & df.null & logLik & AIC & BIC & deviance & df.residual & nobs\\\\\n",
       " <dbl> & <int> & <dbl> & <dbl> & <dbl> & <dbl> & <int> & <int>\\\\\n",
       "\\hline\n",
       "\t 964.516 & 713 & -482.258 & 966.516 & 971.0868 & 964.516 & 713 & 714\\\\\n",
       "\\end{tabular}\n"
      ],
      "text/markdown": [
       "\n",
       "A tibble: 1 × 8\n",
       "\n",
       "| null.deviance &lt;dbl&gt; | df.null &lt;int&gt; | logLik &lt;dbl&gt; | AIC &lt;dbl&gt; | BIC &lt;dbl&gt; | deviance &lt;dbl&gt; | df.residual &lt;int&gt; | nobs &lt;int&gt; |\n",
       "|---|---|---|---|---|---|---|---|\n",
       "| 964.516 | 713 | -482.258 | 966.516 | 971.0868 | 964.516 | 713 | 714 |\n",
       "\n"
      ],
      "text/plain": [
       "  null.deviance df.null logLik   AIC     BIC      deviance df.residual nobs\n",
       "1 964.516       713     -482.258 966.516 971.0868 964.516  713         714 "
      ]
     },
     "metadata": {},
     "output_type": "display_data"
    }
   ],
   "source": [
    "my_logistic_intercept <- glm(Survived ~ 1, \n",
    "                             data = titanic %>% select(Survived, Age, Sex, Pclass) %>% na.omit(), \n",
    "                             family = binomial)\n",
    "glance(my_logistic_intercept)\n"
   ]
  },
  {
   "cell_type": "markdown",
   "id": "46277875-3f08-43e1-b510-5d265dc1341c",
   "metadata": {},
   "source": [
    "The values are similiar to the SAS output."
   ]
  },
  {
   "cell_type": "markdown",
   "id": "2cea3490-b255-48f5-a479-2b340380c718",
   "metadata": {},
   "source": [
    "### Block 6\n",
    "![Block 6](img_screenshots/block_6.png)"
   ]
  },
  {
   "cell_type": "markdown",
   "id": "ece52e54-d197-4d56-a3fe-41fdb8f681da",
   "metadata": {},
   "source": [
    "These global tests test the null hypothesis that all regression coefficents are zero.\n",
    "\n",
    "The tests are different chi-square tests.\n"
   ]
  },
  {
   "cell_type": "markdown",
   "id": "b732787b-d9f0-4054-9e92-88f640f6b486",
   "metadata": {},
   "source": [
    "### R chunk for reproduction\n",
    "\n",
    "TODO: Here is a lot to do for reproduction. There are some differences for the tests."
   ]
  },
  {
   "cell_type": "markdown",
   "id": "b7c8f26b-92ce-4fe5-a223-4c5f7c4fc7f5",
   "metadata": {},
   "source": [
    "#### Globaltest"
   ]
  },
  {
   "cell_type": "code",
   "execution_count": 70,
   "id": "6702491a-7ec3-4d42-846f-4a3cb4b96b1d",
   "metadata": {},
   "outputs": [
    {
     "data": {
      "text/plain": [
       "  p-value Statistic Expected Std.dev #Cov\n",
       "1  0.0217     0.588    0.112   0.158    6"
      ]
     },
     "metadata": {},
     "output_type": "display_data"
    }
   ],
   "source": [
    "#if (!require(\"BiocManager\", quietly = TRUE))\n",
    "#install.packages(\"BiocManager\")\n",
    "#BiocManager::install(version = \"3.18\")\n",
    "#library(BiocManager)\n",
    "#BiocManager::install(\"globaltest\")library(globaltest) # from Bioconductor\n",
    "gt(Survived ~ 1, Survived ~ Age + Sex + Pclass, data = titanic)\n",
    "   \n"
   ]
  },
  {
   "cell_type": "markdown",
   "id": "60190c56-d00a-48d5-96d9-6df0d02f0af2",
   "metadata": {},
   "source": [
    "#### Likely ratio test"
   ]
  },
  {
   "cell_type": "code",
   "execution_count": 71,
   "id": "32f78f01-c4d3-4a08-9a37-6744cd4d73be",
   "metadata": {},
   "outputs": [
    {
     "data": {
      "text/html": [
       "<table class=\"dataframe\">\n",
       "<caption>A anova: 2 × 5</caption>\n",
       "<thead>\n",
       "\t<tr><th></th><th scope=col>#Df</th><th scope=col>LogLik</th><th scope=col>Df</th><th scope=col>Chisq</th><th scope=col>Pr(&gt;Chisq)</th></tr>\n",
       "\t<tr><th></th><th scope=col>&lt;dbl&gt;</th><th scope=col>&lt;dbl&gt;</th><th scope=col>&lt;dbl&gt;</th><th scope=col>&lt;dbl&gt;</th><th scope=col>&lt;dbl&gt;</th></tr>\n",
       "</thead>\n",
       "<tbody>\n",
       "\t<tr><th scope=row>1</th><td>1</td><td>-482.2580</td><td>NA</td><td>      NA</td><td>          NA</td></tr>\n",
       "\t<tr><th scope=row>2</th><td>5</td><td>-323.6416</td><td> 4</td><td>317.2328</td><td>2.074158e-67</td></tr>\n",
       "</tbody>\n",
       "</table>\n"
      ],
      "text/latex": [
       "A anova: 2 × 5\n",
       "\\begin{tabular}{r|lllll}\n",
       "  & \\#Df & LogLik & Df & Chisq & Pr(>Chisq)\\\\\n",
       "  & <dbl> & <dbl> & <dbl> & <dbl> & <dbl>\\\\\n",
       "\\hline\n",
       "\t1 & 1 & -482.2580 & NA &       NA &           NA\\\\\n",
       "\t2 & 5 & -323.6416 &  4 & 317.2328 & 2.074158e-67\\\\\n",
       "\\end{tabular}\n"
      ],
      "text/markdown": [
       "\n",
       "A anova: 2 × 5\n",
       "\n",
       "| <!--/--> | #Df &lt;dbl&gt; | LogLik &lt;dbl&gt; | Df &lt;dbl&gt; | Chisq &lt;dbl&gt; | Pr(&gt;Chisq) &lt;dbl&gt; |\n",
       "|---|---|---|---|---|---|\n",
       "| 1 | 1 | -482.2580 | NA |       NA |           NA |\n",
       "| 2 | 5 | -323.6416 |  4 | 317.2328 | 2.074158e-67 |\n",
       "\n"
      ],
      "text/plain": [
       "  #Df LogLik    Df Chisq    Pr(>Chisq)  \n",
       "1 1   -482.2580 NA       NA           NA\n",
       "2 5   -323.6416  4 317.2328 2.074158e-67"
      ]
     },
     "metadata": {},
     "output_type": "display_data"
    }
   ],
   "source": [
    "library(lmtest)\n",
    "lrtest(my_logistic_intercept, my_logistic)"
   ]
  },
  {
   "cell_type": "code",
   "execution_count": 72,
   "id": "1ed35745-0b32-4b86-b2f9-9dba237f6bf2",
   "metadata": {},
   "outputs": [
    {
     "data": {
      "text/html": [
       "<style>\n",
       ".dl-inline {width: auto; margin:0; padding: 0}\n",
       ".dl-inline>dt, .dl-inline>dd {float: none; width: auto; display: inline-block}\n",
       ".dl-inline>dt::after {content: \":\\0020\"; padding-right: .5ex}\n",
       ".dl-inline>dt:not(:first-of-type) {padding-left: .5ex}\n",
       "</style><dl class=dl-inline><dt>(Intercept)</dt><dd>3.77701265255884</dd><dt>Age</dt><dd>-0.0369852655754339</dd><dt>Sexmale</dt><dd>-2.52278091988034</dd><dt>Pclass2</dt><dd>-1.30979926778885</dd><dt>Pclass3</dt><dd>-2.58062531749203</dd></dl>\n"
      ],
      "text/latex": [
       "\\begin{description*}\n",
       "\\item[(Intercept)] 3.77701265255884\n",
       "\\item[Age] -0.0369852655754339\n",
       "\\item[Sexmale] -2.52278091988034\n",
       "\\item[Pclass2] -1.30979926778885\n",
       "\\item[Pclass3] -2.58062531749203\n",
       "\\end{description*}\n"
      ],
      "text/markdown": [
       "(Intercept)\n",
       ":   3.77701265255884Age\n",
       ":   -0.0369852655754339Sexmale\n",
       ":   -2.52278091988034Pclass2\n",
       ":   -1.30979926778885Pclass3\n",
       ":   -2.58062531749203\n",
       "\n"
      ],
      "text/plain": [
       "(Intercept)         Age     Sexmale     Pclass2     Pclass3 \n",
       " 3.77701265 -0.03698527 -2.52278092 -1.30979927 -2.58062532 "
      ]
     },
     "metadata": {},
     "output_type": "display_data"
    },
    {
     "data": {
      "text/html": [
       "<style>\n",
       ".dl-inline {width: auto; margin:0; padding: 0}\n",
       ".dl-inline>dt, .dl-inline>dd {float: none; width: auto; display: inline-block}\n",
       ".dl-inline>dt::after {content: \":\\0020\"; padding-right: .5ex}\n",
       ".dl-inline>dt:not(:first-of-type) {padding-left: .5ex}\n",
       "</style><dl class=dl-inline><dt>(Intercept)</dt><dd>0.401123305028256</dd><dt>Age</dt><dd>0.00765594772920162</dd><dt>Sexmale</dt><dd>0.207390924398501</dd><dt>Pclass2</dt><dd>0.278065526836441</dd><dt>Pclass3</dt><dd>0.281442019670307</dd></dl>\n"
      ],
      "text/latex": [
       "\\begin{description*}\n",
       "\\item[(Intercept)] 0.401123305028256\n",
       "\\item[Age] 0.00765594772920162\n",
       "\\item[Sexmale] 0.207390924398501\n",
       "\\item[Pclass2] 0.278065526836441\n",
       "\\item[Pclass3] 0.281442019670307\n",
       "\\end{description*}\n"
      ],
      "text/markdown": [
       "(Intercept)\n",
       ":   0.401123305028256Age\n",
       ":   0.00765594772920162Sexmale\n",
       ":   0.207390924398501Pclass2\n",
       ":   0.278065526836441Pclass3\n",
       ":   0.281442019670307\n",
       "\n"
      ],
      "text/plain": [
       "(Intercept)         Age     Sexmale     Pclass2     Pclass3 \n",
       "0.401123305 0.007655948 0.207390924 0.278065527 0.281442020 "
      ]
     },
     "metadata": {},
     "output_type": "display_data"
    }
   ],
   "source": [
    "# z-test\n",
    "# Wald’s chi-squared statistic for the hypothesis that the coefficient of glucose\n",
    "# is zero, or equivalently that the odds-ratio is one\n",
    "m0 <- glm(Survived ~ 1, data = titanic, family = binomial)\n",
    "m1 <- glm(Survived ~ Age + Sex + Pclass, data = titanic, family = binomial)\n",
    "b <- coef(m1)\n",
    "b\n",
    "se <- sqrt(diag(vcov(m1)))\n",
    "se"
   ]
  },
  {
   "cell_type": "code",
   "execution_count": 73,
   "id": "bd8ca92a-d3d8-4866-84de-86c9dbec0dc4",
   "metadata": {},
   "outputs": [
    {
     "data": {
      "text/html": [
       "<style>\n",
       ".dl-inline {width: auto; margin:0; padding: 0}\n",
       ".dl-inline>dt, .dl-inline>dd {float: none; width: auto; display: inline-block}\n",
       ".dl-inline>dt::after {content: \":\\0020\"; padding-right: .5ex}\n",
       ".dl-inline>dt:not(:first-of-type) {padding-left: .5ex}\n",
       "</style><dl class=dl-inline><dt>(Intercept)</dt><dd>3.77701265255884</dd><dt>Age</dt><dd>-0.0369852655754339</dd><dt>Sexmale</dt><dd>-2.52278091988034</dd><dt>Pclass2</dt><dd>-1.30979926778885</dd><dt>Pclass3</dt><dd>-2.58062531749203</dd></dl>\n"
      ],
      "text/latex": [
       "\\begin{description*}\n",
       "\\item[(Intercept)] 3.77701265255884\n",
       "\\item[Age] -0.0369852655754339\n",
       "\\item[Sexmale] -2.52278091988034\n",
       "\\item[Pclass2] -1.30979926778885\n",
       "\\item[Pclass3] -2.58062531749203\n",
       "\\end{description*}\n"
      ],
      "text/markdown": [
       "(Intercept)\n",
       ":   3.77701265255884Age\n",
       ":   -0.0369852655754339Sexmale\n",
       ":   -2.52278091988034Pclass2\n",
       ":   -1.30979926778885Pclass3\n",
       ":   -2.58062531749203\n",
       "\n"
      ],
      "text/plain": [
       "(Intercept)         Age     Sexmale     Pclass2     Pclass3 \n",
       " 3.77701265 -0.03698527 -2.52278092 -1.30979927 -2.58062532 "
      ]
     },
     "metadata": {},
     "output_type": "display_data"
    },
    {
     "data": {
      "text/html": [
       "<style>\n",
       ".dl-inline {width: auto; margin:0; padding: 0}\n",
       ".dl-inline>dt, .dl-inline>dd {float: none; width: auto; display: inline-block}\n",
       ".dl-inline>dt::after {content: \":\\0020\"; padding-right: .5ex}\n",
       ".dl-inline>dt:not(:first-of-type) {padding-left: .5ex}\n",
       "</style><dl class=dl-inline><dt>(Intercept)</dt><dd>0.401123305028256</dd><dt>Age</dt><dd>0.00765594772920162</dd><dt>Sexmale</dt><dd>0.207390924398501</dd><dt>Pclass2</dt><dd>0.278065526836441</dd><dt>Pclass3</dt><dd>0.281442019670307</dd></dl>\n"
      ],
      "text/latex": [
       "\\begin{description*}\n",
       "\\item[(Intercept)] 0.401123305028256\n",
       "\\item[Age] 0.00765594772920162\n",
       "\\item[Sexmale] 0.207390924398501\n",
       "\\item[Pclass2] 0.278065526836441\n",
       "\\item[Pclass3] 0.281442019670307\n",
       "\\end{description*}\n"
      ],
      "text/markdown": [
       "(Intercept)\n",
       ":   0.401123305028256Age\n",
       ":   0.00765594772920162Sexmale\n",
       ":   0.207390924398501Pclass2\n",
       ":   0.278065526836441Pclass3\n",
       ":   0.281442019670307\n",
       "\n"
      ],
      "text/plain": [
       "(Intercept)         Age     Sexmale     Pclass2     Pclass3 \n",
       "0.401123305 0.007655948 0.207390924 0.278065527 0.281442020 "
      ]
     },
     "metadata": {},
     "output_type": "display_data"
    },
    {
     "data": {
      "text/html": [
       "<strong>Age:</strong> 23.3377811955831"
      ],
      "text/latex": [
       "\\textbf{Age:} 23.3377811955831"
      ],
      "text/markdown": [
       "**Age:** 23.3377811955831"
      ],
      "text/plain": [
       "     Age \n",
       "23.33778 "
      ]
     },
     "metadata": {},
     "output_type": "display_data"
    },
    {
     "data": {
      "text/plain": [
       "'log Lik.' 539.372 (df=1)"
      ]
     },
     "metadata": {},
     "output_type": "display_data"
    }
   ],
   "source": [
    "# z-test\n",
    "# Wald’s chi-squared statistic for the hypothesis that the coefficient of glucose\n",
    "# is zero, or equivalently that the odds-ratio is one\n",
    "m0 <- glm(Survived ~ 1, data = titanic, family = binomial)\n",
    "m1 <- glm(Survived ~ Age + Sex + Pclass, data = titanic, family = binomial)\n",
    "\n",
    "b <- coef(m1)\n",
    "b\n",
    "se <- sqrt(diag(vcov(m1)))\n",
    "se\n",
    "(b[2]/se[2])^2\n",
    "\n",
    "# likeli ratio test\n",
    "#-2*(logLik(m0) - logLik(m1))\n",
    "-2*(logLik(m0) - logLik(m1))"
   ]
  },
  {
   "cell_type": "markdown",
   "id": "30db5cb8-1c58-498a-8602-07ad1e8ffd6c",
   "metadata": {},
   "source": [
    "### Block 7\n",
    "![Block 7](img_screenshots/block_7.png)"
   ]
  },
  {
   "cell_type": "markdown",
   "id": "0efb8324-3007-4aa5-ad5d-553e1a808972",
   "metadata": {},
   "source": [
    "Column 1 \"Effect\" lists the variables which are interpreted by the point estimate.\n",
    "\n",
    "Column 2 \"Point Estimate\" is interpreted as an odds ratio. \n",
    "One unit change in the independent variable changes the probability for the modelled event by the estimated value.\n",
    "\n",
    "Column 3 and 4 give the confidence interval for the odds ratio."
   ]
  },
  {
   "cell_type": "markdown",
   "id": "926543cb-5601-44d3-9ac2-f07982843dfe",
   "metadata": {},
   "source": [
    "### R chunk for reproduction\n",
    "\n",
    "Here is a lot to do for reproduction."
   ]
  },
  {
   "cell_type": "code",
   "execution_count": 74,
   "id": "36fa918f-692f-4413-b789-c94b7c1bc264",
   "metadata": {},
   "outputs": [
    {
     "data": {
      "text/html": [
       "<strong>Age:</strong> 23.3377811955831"
      ],
      "text/latex": [
       "\\textbf{Age:} 23.3377811955831"
      ],
      "text/markdown": [
       "**Age:** 23.3377811955831"
      ],
      "text/plain": [
       "     Age \n",
       "23.33778 "
      ]
     },
     "metadata": {},
     "output_type": "display_data"
    },
    {
     "data": {
      "text/html": [
       "<strong>Sexmale:</strong> 147.972012559647"
      ],
      "text/latex": [
       "\\textbf{Sexmale:} 147.972012559647"
      ],
      "text/markdown": [
       "**Sexmale:** 147.972012559647"
      ],
      "text/plain": [
       "Sexmale \n",
       "147.972 "
      ]
     },
     "metadata": {},
     "output_type": "display_data"
    },
    {
     "data": {
      "text/html": [
       "<strong>Pclass2:</strong> 22.1878481769787"
      ],
      "text/latex": [
       "\\textbf{Pclass2:} 22.1878481769787"
      ],
      "text/markdown": [
       "**Pclass2:** 22.1878481769787"
      ],
      "text/plain": [
       " Pclass2 \n",
       "22.18785 "
      ]
     },
     "metadata": {},
     "output_type": "display_data"
    },
    {
     "data": {
      "text/html": [
       "<strong>Pclass3:</strong> 84.0759977560193"
      ],
      "text/latex": [
       "\\textbf{Pclass3:} 84.0759977560193"
      ],
      "text/markdown": [
       "**Pclass3:** 84.0759977560193"
      ],
      "text/plain": [
       "Pclass3 \n",
       " 84.076 "
      ]
     },
     "metadata": {},
     "output_type": "display_data"
    }
   ],
   "source": [
    "(b[2]/se[2])^2\n",
    "(b[3]/se[3])^2\n",
    "(b[4]/se[4])^2\n",
    "(b[5]/se[5])^2"
   ]
  },
  {
   "cell_type": "markdown",
   "id": "804b643f-8477-4a08-b97a-5a2da33bfbd0",
   "metadata": {},
   "source": [
    "### Block 8\n",
    "![Block 8](img_screenshots/block_8.png)"
   ]
  },
  {
   "cell_type": "markdown",
   "id": "a492719e-927f-4632-8999-e452cdb88470",
   "metadata": {},
   "source": [
    "Column 1 \"Parameter\" lists the intercept and the parameter in the model.\n",
    "\n",
    "Column 2 \"DF\" gives the degrees of freedom for every parameter.\n",
    "\n",
    "Column 3 \"Estimate\" lists the logit regression estimates for every parameter given that the other parameter are held constant. \n",
    "\n",
    "$log(p / (1 - p)) = -6.10 + 0.04 * glucose$ with p as the probability for diabetes.\n",
    "\n",
    "Column 4 \"Standard Error\" gives the standard errors of the individual regression coefficients.\n",
    "\n",
    "Column 5 \"Wald Chi-Square\" tests the null hypothesis that the regression coefficient is zero given that the other predictors are in the model.\n",
    "\n",
    "Column 6 \"Pr > ChiSq\" gives the p-value for the Wald Chi-Square statistic."
   ]
  },
  {
   "cell_type": "markdown",
   "id": "7dd51637-9a87-41c0-8192-b73272ec8bfb",
   "metadata": {},
   "source": [
    "### R chunk for reproduction"
   ]
  },
  {
   "cell_type": "code",
   "execution_count": 75,
   "id": "7bd76d0e-84ae-4a58-8005-1d1ffdc6fea5",
   "metadata": {},
   "outputs": [
    {
     "data": {
      "text/html": [
       "<table class=\"dataframe\">\n",
       "<caption>A tibble: 5 × 5</caption>\n",
       "<thead>\n",
       "\t<tr><th scope=col>term</th><th scope=col>estimate</th><th scope=col>std.error</th><th scope=col>statistic</th><th scope=col>p.value</th></tr>\n",
       "\t<tr><th scope=col>&lt;chr&gt;</th><th scope=col>&lt;dbl&gt;</th><th scope=col>&lt;dbl&gt;</th><th scope=col>&lt;dbl&gt;</th><th scope=col>&lt;dbl&gt;</th></tr>\n",
       "</thead>\n",
       "<tbody>\n",
       "\t<tr><td>(Intercept)</td><td> 3.77701265</td><td>0.401123305</td><td>  9.416089</td><td>4.682044e-21</td></tr>\n",
       "\t<tr><td>Sexmale    </td><td>-2.52278092</td><td>0.207390924</td><td>-12.164375</td><td>4.811152e-34</td></tr>\n",
       "\t<tr><td>Pclass2    </td><td>-1.30979927</td><td>0.278065527</td><td> -4.710398</td><td>2.472337e-06</td></tr>\n",
       "\t<tr><td>Pclass3    </td><td>-2.58062532</td><td>0.281442020</td><td> -9.169296</td><td>4.761161e-20</td></tr>\n",
       "\t<tr><td>Age        </td><td>-0.03698527</td><td>0.007655948</td><td> -4.830919</td><td>1.359041e-06</td></tr>\n",
       "</tbody>\n",
       "</table>\n"
      ],
      "text/latex": [
       "A tibble: 5 × 5\n",
       "\\begin{tabular}{lllll}\n",
       " term & estimate & std.error & statistic & p.value\\\\\n",
       " <chr> & <dbl> & <dbl> & <dbl> & <dbl>\\\\\n",
       "\\hline\n",
       "\t (Intercept) &  3.77701265 & 0.401123305 &   9.416089 & 4.682044e-21\\\\\n",
       "\t Sexmale     & -2.52278092 & 0.207390924 & -12.164375 & 4.811152e-34\\\\\n",
       "\t Pclass2     & -1.30979927 & 0.278065527 &  -4.710398 & 2.472337e-06\\\\\n",
       "\t Pclass3     & -2.58062532 & 0.281442020 &  -9.169296 & 4.761161e-20\\\\\n",
       "\t Age         & -0.03698527 & 0.007655948 &  -4.830919 & 1.359041e-06\\\\\n",
       "\\end{tabular}\n"
      ],
      "text/markdown": [
       "\n",
       "A tibble: 5 × 5\n",
       "\n",
       "| term &lt;chr&gt; | estimate &lt;dbl&gt; | std.error &lt;dbl&gt; | statistic &lt;dbl&gt; | p.value &lt;dbl&gt; |\n",
       "|---|---|---|---|---|\n",
       "| (Intercept) |  3.77701265 | 0.401123305 |   9.416089 | 4.682044e-21 |\n",
       "| Sexmale     | -2.52278092 | 0.207390924 | -12.164375 | 4.811152e-34 |\n",
       "| Pclass2     | -1.30979927 | 0.278065527 |  -4.710398 | 2.472337e-06 |\n",
       "| Pclass3     | -2.58062532 | 0.281442020 |  -9.169296 | 4.761161e-20 |\n",
       "| Age         | -0.03698527 | 0.007655948 |  -4.830919 | 1.359041e-06 |\n",
       "\n"
      ],
      "text/plain": [
       "  term        estimate    std.error   statistic  p.value     \n",
       "1 (Intercept)  3.77701265 0.401123305   9.416089 4.682044e-21\n",
       "2 Sexmale     -2.52278092 0.207390924 -12.164375 4.811152e-34\n",
       "3 Pclass2     -1.30979927 0.278065527  -4.710398 2.472337e-06\n",
       "4 Pclass3     -2.58062532 0.281442020  -9.169296 4.761161e-20\n",
       "5 Age         -0.03698527 0.007655948  -4.830919 1.359041e-06"
      ]
     },
     "metadata": {},
     "output_type": "display_data"
    }
   ],
   "source": [
    "tidy(my_logistic)"
   ]
  },
  {
   "cell_type": "markdown",
   "id": "7fda972c-9283-4548-8dcf-ff5d423b0af5",
   "metadata": {},
   "source": [
    "The estimates here are different from the SAS estimates because the reference levels are different by default."
   ]
  },
  {
   "cell_type": "markdown",
   "id": "0e5fccbd-0a1d-4fca-b31d-bc0e46a7bb7f",
   "metadata": {},
   "source": [
    "![Block 8a](img_screenshots/block_11.png)"
   ]
  },
  {
   "cell_type": "markdown",
   "id": "7a749fa0-4309-4e69-8101-7a57bcc48987",
   "metadata": {},
   "source": [
    "The block above is a result of the SAS code below with a changed coding of class variables."
   ]
  },
  {
   "cell_type": "raw",
   "id": "c1132945-d2d7-48a6-ac48-9be3e38a3611",
   "metadata": {},
   "source": [
    "proc logistic data = titanic descending;\n",
    "  class sex (param = ref ref = \"female\") Pclass (param = ref ref = \"1\");\n",
    "  model survived = sex Pclass age;\n",
    "run;\n"
   ]
  },
  {
   "cell_type": "markdown",
   "id": "3424dfb7-c85f-4e05-a490-d53bedd9dba9",
   "metadata": {},
   "source": [
    "The coding in R can be changed manually."
   ]
  },
  {
   "cell_type": "code",
   "execution_count": 76,
   "id": "d13cee7d-47b6-4bab-89b5-1ea8ee0f8fa2",
   "metadata": {},
   "outputs": [
    {
     "data": {
      "text/html": [
       "<table class=\"dataframe\">\n",
       "<caption>A tibble: 5 × 5</caption>\n",
       "<thead>\n",
       "\t<tr><th scope=col>term</th><th scope=col>estimate</th><th scope=col>std.error</th><th scope=col>statistic</th><th scope=col>p.value</th></tr>\n",
       "\t<tr><th scope=col>&lt;chr&gt;</th><th scope=col>&lt;dbl&gt;</th><th scope=col>&lt;dbl&gt;</th><th scope=col>&lt;dbl&gt;</th><th scope=col>&lt;dbl&gt;</th></tr>\n",
       "</thead>\n",
       "<tbody>\n",
       "\t<tr><td>(Intercept)</td><td> 1.21881400</td><td>0.257562502</td><td> 4.73210964</td><td>2.221983e-06</td></tr>\n",
       "\t<tr><td>Age        </td><td>-0.03698527</td><td>0.007655948</td><td>-4.83091929</td><td>1.359041e-06</td></tr>\n",
       "\t<tr><td>Sexfemale  </td><td> 1.26139046</td><td>0.103695462</td><td>12.16437473</td><td>4.811152e-34</td></tr>\n",
       "\t<tr><td>Pclass1    </td><td> 1.29680820</td><td>0.167829578</td><td> 7.72693475</td><td>1.101671e-14</td></tr>\n",
       "\t<tr><td>Pclass2    </td><td>-0.01299107</td><td>0.147025941</td><td>-0.08835905</td><td>9.295913e-01</td></tr>\n",
       "</tbody>\n",
       "</table>\n"
      ],
      "text/latex": [
       "A tibble: 5 × 5\n",
       "\\begin{tabular}{lllll}\n",
       " term & estimate & std.error & statistic & p.value\\\\\n",
       " <chr> & <dbl> & <dbl> & <dbl> & <dbl>\\\\\n",
       "\\hline\n",
       "\t (Intercept) &  1.21881400 & 0.257562502 &  4.73210964 & 2.221983e-06\\\\\n",
       "\t Age         & -0.03698527 & 0.007655948 & -4.83091929 & 1.359041e-06\\\\\n",
       "\t Sexfemale   &  1.26139046 & 0.103695462 & 12.16437473 & 4.811152e-34\\\\\n",
       "\t Pclass1     &  1.29680820 & 0.167829578 &  7.72693475 & 1.101671e-14\\\\\n",
       "\t Pclass2     & -0.01299107 & 0.147025941 & -0.08835905 & 9.295913e-01\\\\\n",
       "\\end{tabular}\n"
      ],
      "text/markdown": [
       "\n",
       "A tibble: 5 × 5\n",
       "\n",
       "| term &lt;chr&gt; | estimate &lt;dbl&gt; | std.error &lt;dbl&gt; | statistic &lt;dbl&gt; | p.value &lt;dbl&gt; |\n",
       "|---|---|---|---|---|\n",
       "| (Intercept) |  1.21881400 | 0.257562502 |  4.73210964 | 2.221983e-06 |\n",
       "| Age         | -0.03698527 | 0.007655948 | -4.83091929 | 1.359041e-06 |\n",
       "| Sexfemale   |  1.26139046 | 0.103695462 | 12.16437473 | 4.811152e-34 |\n",
       "| Pclass1     |  1.29680820 | 0.167829578 |  7.72693475 | 1.101671e-14 |\n",
       "| Pclass2     | -0.01299107 | 0.147025941 | -0.08835905 | 9.295913e-01 |\n",
       "\n"
      ],
      "text/plain": [
       "  term        estimate    std.error   statistic   p.value     \n",
       "1 (Intercept)  1.21881400 0.257562502  4.73210964 2.221983e-06\n",
       "2 Age         -0.03698527 0.007655948 -4.83091929 1.359041e-06\n",
       "3 Sexfemale    1.26139046 0.103695462 12.16437473 4.811152e-34\n",
       "4 Pclass1      1.29680820 0.167829578  7.72693475 1.101671e-14\n",
       "5 Pclass2     -0.01299107 0.147025941 -0.08835905 9.295913e-01"
      ]
     },
     "metadata": {},
     "output_type": "display_data"
    }
   ],
   "source": [
    "titanic_relev <- titanic\n",
    "titanic_relev$Sexfemale <- ifelse(titanic_relev$Sex == \"female\", 1, -1)\n",
    "titanic_relev$Pclass1 <- (titanic_relev$Pclass == \"1\") * 1 + (titanic_relev$Pclass == \"2\") * 0 + (titanic_relev$Pclass == \"3\") * (-1)\n",
    "titanic_relev$Pclass2 <- (titanic_relev$Pclass == \"1\") * 0 + (titanic_relev$Pclass == \"2\") * 1 + (titanic_relev$Pclass == \"3\") * (-1)\n",
    "\n",
    "my_logistic_relev <- glm(Survived ~ Age + Sexfemale + Pclass1 + Pclass2, data = titanic_relev, family = binomial)\n",
    "tidy(my_logistic_relev)"
   ]
  },
  {
   "cell_type": "markdown",
   "id": "0fbfa803-14a6-4351-87fa-8c6a9672e90e",
   "metadata": {},
   "source": [
    "Changing the coding results in similar results as in the SAS output."
   ]
  },
  {
   "cell_type": "markdown",
   "id": "3840f423-705b-441e-a656-29a43fb2fadc",
   "metadata": {},
   "source": [
    "### Block 9\n",
    "![Block 9](img_screenshots/block_9.png)"
   ]
  },
  {
   "cell_type": "markdown",
   "id": "182ca841-b86e-4b32-8ea0-c07c5b9bc54c",
   "metadata": {},
   "source": [
    "Column 1 \"Effect\" lists the variables which are interpreted by the point estimate.\n",
    "\n",
    "Column 2 \"Point Estimate\" is interpreted as an odds ratio. \n",
    "One unit change in the independent variable changes the probability for the modelled event by the estimated value.\n",
    "\n",
    "Column 3 and 4 give the confidence interval for the odds ratio.\n"
   ]
  },
  {
   "cell_type": "markdown",
   "id": "6775b16a-43ea-40ba-866d-0905da8f7187",
   "metadata": {},
   "source": [
    "## R code for reproduction\n",
    "\n",
    "TODO: Here is a lot to do for reproduction. There is a diffence to the SAS output for categorical variables."
   ]
  },
  {
   "cell_type": "code",
   "execution_count": 77,
   "id": "abfd0bf2-3d2d-4e7c-8e9c-bd6f19f6f9f8",
   "metadata": {},
   "outputs": [
    {
     "data": {
      "text/html": [
       "<style>\n",
       ".dl-inline {width: auto; margin:0; padding: 0}\n",
       ".dl-inline>dt, .dl-inline>dd {float: none; width: auto; display: inline-block}\n",
       ".dl-inline>dt::after {content: \":\\0020\"; padding-right: .5ex}\n",
       ".dl-inline>dt:not(:first-of-type) {padding-left: .5ex}\n",
       "</style><dl class=dl-inline><dt>(Intercept)</dt><dd>3.38317290185694</dd><dt>Age</dt><dd>0.963690334666985</dd><dt>Sexfemale</dt><dd>3.53032685428354</dd><dt>Pclass1</dt><dd>3.65760365934018</dd><dt>Pclass2</dt><dd>0.987092947060537</dd></dl>\n"
      ],
      "text/latex": [
       "\\begin{description*}\n",
       "\\item[(Intercept)] 3.38317290185694\n",
       "\\item[Age] 0.963690334666985\n",
       "\\item[Sexfemale] 3.53032685428354\n",
       "\\item[Pclass1] 3.65760365934018\n",
       "\\item[Pclass2] 0.987092947060537\n",
       "\\end{description*}\n"
      ],
      "text/markdown": [
       "(Intercept)\n",
       ":   3.38317290185694Age\n",
       ":   0.963690334666985Sexfemale\n",
       ":   3.53032685428354Pclass1\n",
       ":   3.65760365934018Pclass2\n",
       ":   0.987092947060537\n",
       "\n"
      ],
      "text/plain": [
       "(Intercept)         Age   Sexfemale     Pclass1     Pclass2 \n",
       "  3.3831729   0.9636903   3.5303269   3.6576037   0.9870929 "
      ]
     },
     "metadata": {},
     "output_type": "display_data"
    }
   ],
   "source": [
    "exp(coef(my_logistic_relev))"
   ]
  },
  {
   "cell_type": "code",
   "execution_count": 78,
   "id": "bda5f28a-2790-41d4-b468-68cd3e713f37",
   "metadata": {},
   "outputs": [
    {
     "data": {
      "text/html": [
       "<table class=\"dataframe\">\n",
       "<caption>A matrix: 5 × 2 of type dbl</caption>\n",
       "<thead>\n",
       "\t<tr><th></th><th scope=col>2.5 %</th><th scope=col>97.5 %</th></tr>\n",
       "</thead>\n",
       "<tbody>\n",
       "\t<tr><th scope=row>(Intercept)</th><td>2.0589570</td><td>5.6604961</td></tr>\n",
       "\t<tr><th scope=row>Age</th><td>0.9490535</td><td>0.9780124</td></tr>\n",
       "\t<tr><th scope=row>Sexfemale</th><td>2.8929687</td><td>4.3463297</td></tr>\n",
       "\t<tr><th scope=row>Pclass1</th><td>2.6493306</td><td>5.1202648</td></tr>\n",
       "\t<tr><th scope=row>Pclass2</th><td>0.7386874</td><td>1.3155812</td></tr>\n",
       "</tbody>\n",
       "</table>\n"
      ],
      "text/latex": [
       "A matrix: 5 × 2 of type dbl\n",
       "\\begin{tabular}{r|ll}\n",
       "  & 2.5 \\% & 97.5 \\%\\\\\n",
       "\\hline\n",
       "\t(Intercept) & 2.0589570 & 5.6604961\\\\\n",
       "\tAge & 0.9490535 & 0.9780124\\\\\n",
       "\tSexfemale & 2.8929687 & 4.3463297\\\\\n",
       "\tPclass1 & 2.6493306 & 5.1202648\\\\\n",
       "\tPclass2 & 0.7386874 & 1.3155812\\\\\n",
       "\\end{tabular}\n"
      ],
      "text/markdown": [
       "\n",
       "A matrix: 5 × 2 of type dbl\n",
       "\n",
       "| <!--/--> | 2.5 % | 97.5 % |\n",
       "|---|---|---|\n",
       "| (Intercept) | 2.0589570 | 5.6604961 |\n",
       "| Age | 0.9490535 | 0.9780124 |\n",
       "| Sexfemale | 2.8929687 | 4.3463297 |\n",
       "| Pclass1 | 2.6493306 | 5.1202648 |\n",
       "| Pclass2 | 0.7386874 | 1.3155812 |\n",
       "\n"
      ],
      "text/plain": [
       "            2.5 %     97.5 %   \n",
       "(Intercept) 2.0589570 5.6604961\n",
       "Age         0.9490535 0.9780124\n",
       "Sexfemale   2.8929687 4.3463297\n",
       "Pclass1     2.6493306 5.1202648\n",
       "Pclass2     0.7386874 1.3155812"
      ]
     },
     "metadata": {},
     "output_type": "display_data"
    }
   ],
   "source": [
    "suppressMessages(exp(confint(my_logistic_relev)))"
   ]
  },
  {
   "cell_type": "markdown",
   "id": "dacf5c26-fe2b-424b-ad22-7d4fdb8b00b2",
   "metadata": {},
   "source": [
    "### Block 10\n",
    "![Block 10](img_screenshots/block_10.png)"
   ]
  },
  {
   "cell_type": "markdown",
   "id": "45e9317f-ffc7-439f-b888-1a502f5547c7",
   "metadata": {},
   "source": [
    "These parameter describe the association between the predicted probabilities and observed responses.\n"
   ]
  },
  {
   "cell_type": "markdown",
   "id": "0195c7aa-42dc-452d-b409-ce7ee1b37e92",
   "metadata": {},
   "source": [
    "## R code for reproduction"
   ]
  },
  {
   "cell_type": "code",
   "execution_count": 79,
   "id": "e1e30329-cfff-4a66-aa7d-f01dc6ef2098",
   "metadata": {},
   "outputs": [
    {
     "data": {
      "text/plain": [
       "Call:\n",
       "concordance.lm(object = my_logistic)\n",
       "\n",
       "n= 714 \n",
       "Concordance= 0.8523 se= 0.01549\n",
       "concordant discordant     tied.x     tied.y    tied.xy \n",
       "    104647      18004        309     130627        954 "
      ]
     },
     "metadata": {},
     "output_type": "display_data"
    }
   ],
   "source": [
    "library(survival)\n",
    "concordance(my_logistic)"
   ]
  },
  {
   "cell_type": "code",
   "execution_count": 85,
   "id": "64ce16db-12b2-4026-90db-d19b7cbeba08",
   "metadata": {},
   "outputs": [
    {
     "name": "stdout",
     "output_type": "stream",
     "text": [
      " num [1:714] 0 1 1 1 0 0 0 1 1 1 ...\n",
      " int [1:714] 0 1 1 1 0 0 0 1 1 1 ...\n"
     ]
    }
   ],
   "source": [
    "library(yardstick)\n",
    "obs <- my_logistic$model$Survived\n",
    "pred <- as.integer(round(predict(my_logistic, type = \"response\")))\n",
    "str(obs)\n",
    "str(pred)\n",
    "df1 <- table(obs, pred)"
   ]
  },
  {
   "cell_type": "code",
   "execution_count": 86,
   "id": "4f37ad8c-1008-4c6a-8135-5751a09ccd41",
   "metadata": {},
   "outputs": [
    {
     "data": {
      "text/html": [
       "<table class=\"dataframe\">\n",
       "<caption>A tibble: 13 × 3</caption>\n",
       "<thead>\n",
       "\t<tr><th scope=col>.metric</th><th scope=col>.estimator</th><th scope=col>.estimate</th></tr>\n",
       "\t<tr><th scope=col>&lt;chr&gt;</th><th scope=col>&lt;chr&gt;</th><th scope=col>&lt;dbl&gt;</th></tr>\n",
       "</thead>\n",
       "<tbody>\n",
       "\t<tr><td>accuracy            </td><td>binary</td><td>0.7885154</td></tr>\n",
       "\t<tr><td>kap                 </td><td>binary</td><td>0.5579763</td></tr>\n",
       "\t<tr><td>sens                </td><td>binary</td><td>0.8109339</td></tr>\n",
       "\t<tr><td>spec                </td><td>binary</td><td>0.7527273</td></tr>\n",
       "\t<tr><td>ppv                 </td><td>binary</td><td>0.8396226</td></tr>\n",
       "\t<tr><td>npv                 </td><td>binary</td><td>0.7137931</td></tr>\n",
       "\t<tr><td>mcc                 </td><td>binary</td><td>0.5585150</td></tr>\n",
       "\t<tr><td>j_index             </td><td>binary</td><td>0.5636612</td></tr>\n",
       "\t<tr><td>bal_accuracy        </td><td>binary</td><td>0.7818306</td></tr>\n",
       "\t<tr><td>detection_prevalence</td><td>binary</td><td>0.5938375</td></tr>\n",
       "\t<tr><td>precision           </td><td>binary</td><td>0.8396226</td></tr>\n",
       "\t<tr><td>recall              </td><td>binary</td><td>0.8109339</td></tr>\n",
       "\t<tr><td>f_meas              </td><td>binary</td><td>0.8250290</td></tr>\n",
       "</tbody>\n",
       "</table>\n"
      ],
      "text/latex": [
       "A tibble: 13 × 3\n",
       "\\begin{tabular}{lll}\n",
       " .metric & .estimator & .estimate\\\\\n",
       " <chr> & <chr> & <dbl>\\\\\n",
       "\\hline\n",
       "\t accuracy             & binary & 0.7885154\\\\\n",
       "\t kap                  & binary & 0.5579763\\\\\n",
       "\t sens                 & binary & 0.8109339\\\\\n",
       "\t spec                 & binary & 0.7527273\\\\\n",
       "\t ppv                  & binary & 0.8396226\\\\\n",
       "\t npv                  & binary & 0.7137931\\\\\n",
       "\t mcc                  & binary & 0.5585150\\\\\n",
       "\t j\\_index              & binary & 0.5636612\\\\\n",
       "\t bal\\_accuracy         & binary & 0.7818306\\\\\n",
       "\t detection\\_prevalence & binary & 0.5938375\\\\\n",
       "\t precision            & binary & 0.8396226\\\\\n",
       "\t recall               & binary & 0.8109339\\\\\n",
       "\t f\\_meas               & binary & 0.8250290\\\\\n",
       "\\end{tabular}\n"
      ],
      "text/markdown": [
       "\n",
       "A tibble: 13 × 3\n",
       "\n",
       "| .metric &lt;chr&gt; | .estimator &lt;chr&gt; | .estimate &lt;dbl&gt; |\n",
       "|---|---|---|\n",
       "| accuracy             | binary | 0.7885154 |\n",
       "| kap                  | binary | 0.5579763 |\n",
       "| sens                 | binary | 0.8109339 |\n",
       "| spec                 | binary | 0.7527273 |\n",
       "| ppv                  | binary | 0.8396226 |\n",
       "| npv                  | binary | 0.7137931 |\n",
       "| mcc                  | binary | 0.5585150 |\n",
       "| j_index              | binary | 0.5636612 |\n",
       "| bal_accuracy         | binary | 0.7818306 |\n",
       "| detection_prevalence | binary | 0.5938375 |\n",
       "| precision            | binary | 0.8396226 |\n",
       "| recall               | binary | 0.8109339 |\n",
       "| f_meas               | binary | 0.8250290 |\n",
       "\n"
      ],
      "text/plain": [
       "   .metric              .estimator .estimate\n",
       "1  accuracy             binary     0.7885154\n",
       "2  kap                  binary     0.5579763\n",
       "3  sens                 binary     0.8109339\n",
       "4  spec                 binary     0.7527273\n",
       "5  ppv                  binary     0.8396226\n",
       "6  npv                  binary     0.7137931\n",
       "7  mcc                  binary     0.5585150\n",
       "8  j_index              binary     0.5636612\n",
       "9  bal_accuracy         binary     0.7818306\n",
       "10 detection_prevalence binary     0.5938375\n",
       "11 precision            binary     0.8396226\n",
       "12 recall               binary     0.8109339\n",
       "13 f_meas               binary     0.8250290"
      ]
     },
     "metadata": {},
     "output_type": "display_data"
    }
   ],
   "source": [
    "cf <- conf_mat(df1, truth = obs, estimate = pred)\n",
    "summary(cf)"
   ]
  },
  {
   "cell_type": "code",
   "execution_count": null,
   "id": "f71cee51-287b-4a6b-9378-f94095b50cc1",
   "metadata": {},
   "outputs": [],
   "source": []
  }
 ],
 "metadata": {
  "kernelspec": {
   "display_name": "R 4.3.2",
   "language": "R",
   "name": "ir432"
  },
  "language_info": {
   "codemirror_mode": "r",
   "file_extension": ".r",
   "mimetype": "text/x-r-source",
   "name": "R",
   "pygments_lexer": "r",
   "version": "4.3.2"
  }
 },
 "nbformat": 4,
 "nbformat_minor": 5
}
