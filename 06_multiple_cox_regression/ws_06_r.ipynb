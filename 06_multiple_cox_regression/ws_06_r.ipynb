{
 "cells": [
  {
   "cell_type": "markdown",
   "id": "df8091c6-2036-476c-b540-77db13c8369e",
   "metadata": {},
   "source": [
    "# Working sheet\n",
    "## 06 - Multiple Cox regression\n",
    "V05.01.00 - 2024-02-27"
   ]
  },
  {
   "cell_type": "markdown",
   "id": "8cf7dd5a-4d82-471f-8a41-39e05dbdde32",
   "metadata": {},
   "source": [
    "## Load data\n",
    "Change the path and the filename in the following box."
   ]
  },
  {
   "cell_type": "markdown",
   "id": "f4874aaa-1498-44be-8371-053af86b4735",
   "metadata": {},
   "source": [
    "Source of data:  Mayo Clinic trial in PBC conducted between 1974 and 1984\n",
    "\n",
    "Data set pbc.csv"
   ]
  },
  {
   "cell_type": "code",
   "execution_count": 18,
   "id": "09e0948e-f67e-4798-8b78-888edfcf8a78",
   "metadata": {},
   "outputs": [],
   "source": [
    "library(readr)\n",
    "df <- read_csv(\"../data/pbc.csv\",\n",
    "                 show_col_types = FALSE,\n",
    "              na = c(\"\", \".\"))"
   ]
  },
  {
   "cell_type": "markdown",
   "id": "6e77ab7c",
   "metadata": {},
   "source": [
    "Look at the structure and the head of the dataset."
   ]
  },
  {
   "cell_type": "code",
   "execution_count": 19,
   "id": "6b851931",
   "metadata": {},
   "outputs": [
    {
     "name": "stdout",
     "output_type": "stream",
     "text": [
      "spc_tbl_ [418 × 20] (S3: spec_tbl_df/tbl_df/tbl/data.frame)\n",
      " $ id      : num [1:418] 1 2 3 4 5 6 7 8 9 10 ...\n",
      " $ time    : num [1:418] 400 4500 1012 1925 1504 ...\n",
      " $ status  : num [1:418] 2 0 2 2 1 2 0 2 2 2 ...\n",
      " $ trt     : num [1:418] 1 1 1 1 2 2 2 2 1 2 ...\n",
      " $ age     : num [1:418] 58.8 56.4 70.1 54.7 38.1 ...\n",
      " $ sex     : chr [1:418] \"f\" \"f\" \"m\" \"f\" ...\n",
      " $ ascites : num [1:418] 1 0 0 0 0 0 0 0 0 1 ...\n",
      " $ hepato  : num [1:418] 1 1 0 1 1 1 1 0 0 0 ...\n",
      " $ spiders : num [1:418] 1 1 0 1 1 0 0 0 1 1 ...\n",
      " $ edema   : num [1:418] 1 0 0.5 0.5 0 0 0 0 0 1 ...\n",
      " $ bili    : num [1:418] 14.5 1.1 1.4 1.8 3.4 0.8 1 0.3 3.2 12.6 ...\n",
      " $ chol    : num [1:418] 261 302 176 244 279 248 322 280 562 200 ...\n",
      " $ albumin : num [1:418] 2.6 4.14 3.48 2.54 3.53 3.98 4.09 4 3.08 2.74 ...\n",
      " $ copper  : num [1:418] 156 54 210 64 143 50 52 52 79 140 ...\n",
      " $ alk.phos: num [1:418] 1718 7395 516 6122 671 ...\n",
      " $ ast     : num [1:418] 137.9 113.5 96.1 60.6 113.2 ...\n",
      " $ trig    : num [1:418] 172 88 55 92 72 63 213 189 88 143 ...\n",
      " $ platelet: num [1:418] 190 221 151 183 136 NA 204 373 251 302 ...\n",
      " $ protime : num [1:418] 12.2 10.6 12 10.3 10.9 11 9.7 11 11 11.5 ...\n",
      " $ stage   : num [1:418] 4 3 4 4 3 3 3 3 2 4 ...\n",
      " - attr(*, \"spec\")=\n",
      "  .. cols(\n",
      "  ..   id = \u001b[32mcol_double()\u001b[39m,\n",
      "  ..   time = \u001b[32mcol_double()\u001b[39m,\n",
      "  ..   status = \u001b[32mcol_double()\u001b[39m,\n",
      "  ..   trt = \u001b[32mcol_double()\u001b[39m,\n",
      "  ..   age = \u001b[32mcol_double()\u001b[39m,\n",
      "  ..   sex = \u001b[31mcol_character()\u001b[39m,\n",
      "  ..   ascites = \u001b[32mcol_double()\u001b[39m,\n",
      "  ..   hepato = \u001b[32mcol_double()\u001b[39m,\n",
      "  ..   spiders = \u001b[32mcol_double()\u001b[39m,\n",
      "  ..   edema = \u001b[32mcol_double()\u001b[39m,\n",
      "  ..   bili = \u001b[32mcol_double()\u001b[39m,\n",
      "  ..   chol = \u001b[32mcol_double()\u001b[39m,\n",
      "  ..   albumin = \u001b[32mcol_double()\u001b[39m,\n",
      "  ..   copper = \u001b[32mcol_double()\u001b[39m,\n",
      "  ..   alk.phos = \u001b[32mcol_double()\u001b[39m,\n",
      "  ..   ast = \u001b[32mcol_double()\u001b[39m,\n",
      "  ..   trig = \u001b[32mcol_double()\u001b[39m,\n",
      "  ..   platelet = \u001b[32mcol_double()\u001b[39m,\n",
      "  ..   protime = \u001b[32mcol_double()\u001b[39m,\n",
      "  ..   stage = \u001b[32mcol_double()\u001b[39m\n",
      "  .. )\n",
      " - attr(*, \"problems\")=<externalptr> \n"
     ]
    }
   ],
   "source": [
    "str(df)"
   ]
  },
  {
   "cell_type": "code",
   "execution_count": 20,
   "id": "d66ed745-aa78-4f5e-b690-5bdcb03e89a1",
   "metadata": {},
   "outputs": [
    {
     "data": {
      "text/html": [
       "<table class=\"dataframe\">\n",
       "<caption>A tibble: 6 × 20</caption>\n",
       "<thead>\n",
       "\t<tr><th scope=col>id</th><th scope=col>time</th><th scope=col>status</th><th scope=col>trt</th><th scope=col>age</th><th scope=col>sex</th><th scope=col>ascites</th><th scope=col>hepato</th><th scope=col>spiders</th><th scope=col>edema</th><th scope=col>bili</th><th scope=col>chol</th><th scope=col>albumin</th><th scope=col>copper</th><th scope=col>alk.phos</th><th scope=col>ast</th><th scope=col>trig</th><th scope=col>platelet</th><th scope=col>protime</th><th scope=col>stage</th></tr>\n",
       "\t<tr><th scope=col>&lt;dbl&gt;</th><th scope=col>&lt;dbl&gt;</th><th scope=col>&lt;dbl&gt;</th><th scope=col>&lt;dbl&gt;</th><th scope=col>&lt;dbl&gt;</th><th scope=col>&lt;chr&gt;</th><th scope=col>&lt;dbl&gt;</th><th scope=col>&lt;dbl&gt;</th><th scope=col>&lt;dbl&gt;</th><th scope=col>&lt;dbl&gt;</th><th scope=col>&lt;dbl&gt;</th><th scope=col>&lt;dbl&gt;</th><th scope=col>&lt;dbl&gt;</th><th scope=col>&lt;dbl&gt;</th><th scope=col>&lt;dbl&gt;</th><th scope=col>&lt;dbl&gt;</th><th scope=col>&lt;dbl&gt;</th><th scope=col>&lt;dbl&gt;</th><th scope=col>&lt;dbl&gt;</th><th scope=col>&lt;dbl&gt;</th></tr>\n",
       "</thead>\n",
       "<tbody>\n",
       "\t<tr><td>1</td><td> 400</td><td>2</td><td>1</td><td>58.76523</td><td>f</td><td>1</td><td>1</td><td>1</td><td>1.0</td><td>14.5</td><td>261</td><td>2.60</td><td>156</td><td>1718.0</td><td>137.95</td><td>172</td><td>190</td><td>12.2</td><td>4</td></tr>\n",
       "\t<tr><td>2</td><td>4500</td><td>0</td><td>1</td><td>56.44627</td><td>f</td><td>0</td><td>1</td><td>1</td><td>0.0</td><td> 1.1</td><td>302</td><td>4.14</td><td> 54</td><td>7394.8</td><td>113.52</td><td> 88</td><td>221</td><td>10.6</td><td>3</td></tr>\n",
       "\t<tr><td>3</td><td>1012</td><td>2</td><td>1</td><td>70.07255</td><td>m</td><td>0</td><td>0</td><td>0</td><td>0.5</td><td> 1.4</td><td>176</td><td>3.48</td><td>210</td><td> 516.0</td><td> 96.10</td><td> 55</td><td>151</td><td>12.0</td><td>4</td></tr>\n",
       "\t<tr><td>4</td><td>1925</td><td>2</td><td>1</td><td>54.74059</td><td>f</td><td>0</td><td>1</td><td>1</td><td>0.5</td><td> 1.8</td><td>244</td><td>2.54</td><td> 64</td><td>6121.8</td><td> 60.63</td><td> 92</td><td>183</td><td>10.3</td><td>4</td></tr>\n",
       "\t<tr><td>5</td><td>1504</td><td>1</td><td>2</td><td>38.10541</td><td>f</td><td>0</td><td>1</td><td>1</td><td>0.0</td><td> 3.4</td><td>279</td><td>3.53</td><td>143</td><td> 671.0</td><td>113.15</td><td> 72</td><td>136</td><td>10.9</td><td>3</td></tr>\n",
       "\t<tr><td>6</td><td>2503</td><td>2</td><td>2</td><td>66.25873</td><td>f</td><td>0</td><td>1</td><td>0</td><td>0.0</td><td> 0.8</td><td>248</td><td>3.98</td><td> 50</td><td> 944.0</td><td> 93.00</td><td> 63</td><td> NA</td><td>11.0</td><td>3</td></tr>\n",
       "</tbody>\n",
       "</table>\n"
      ],
      "text/latex": [
       "A tibble: 6 × 20\n",
       "\\begin{tabular}{llllllllllllllllllll}\n",
       " id & time & status & trt & age & sex & ascites & hepato & spiders & edema & bili & chol & albumin & copper & alk.phos & ast & trig & platelet & protime & stage\\\\\n",
       " <dbl> & <dbl> & <dbl> & <dbl> & <dbl> & <chr> & <dbl> & <dbl> & <dbl> & <dbl> & <dbl> & <dbl> & <dbl> & <dbl> & <dbl> & <dbl> & <dbl> & <dbl> & <dbl> & <dbl>\\\\\n",
       "\\hline\n",
       "\t 1 &  400 & 2 & 1 & 58.76523 & f & 1 & 1 & 1 & 1.0 & 14.5 & 261 & 2.60 & 156 & 1718.0 & 137.95 & 172 & 190 & 12.2 & 4\\\\\n",
       "\t 2 & 4500 & 0 & 1 & 56.44627 & f & 0 & 1 & 1 & 0.0 &  1.1 & 302 & 4.14 &  54 & 7394.8 & 113.52 &  88 & 221 & 10.6 & 3\\\\\n",
       "\t 3 & 1012 & 2 & 1 & 70.07255 & m & 0 & 0 & 0 & 0.5 &  1.4 & 176 & 3.48 & 210 &  516.0 &  96.10 &  55 & 151 & 12.0 & 4\\\\\n",
       "\t 4 & 1925 & 2 & 1 & 54.74059 & f & 0 & 1 & 1 & 0.5 &  1.8 & 244 & 2.54 &  64 & 6121.8 &  60.63 &  92 & 183 & 10.3 & 4\\\\\n",
       "\t 5 & 1504 & 1 & 2 & 38.10541 & f & 0 & 1 & 1 & 0.0 &  3.4 & 279 & 3.53 & 143 &  671.0 & 113.15 &  72 & 136 & 10.9 & 3\\\\\n",
       "\t 6 & 2503 & 2 & 2 & 66.25873 & f & 0 & 1 & 0 & 0.0 &  0.8 & 248 & 3.98 &  50 &  944.0 &  93.00 &  63 &  NA & 11.0 & 3\\\\\n",
       "\\end{tabular}\n"
      ],
      "text/markdown": [
       "\n",
       "A tibble: 6 × 20\n",
       "\n",
       "| id &lt;dbl&gt; | time &lt;dbl&gt; | status &lt;dbl&gt; | trt &lt;dbl&gt; | age &lt;dbl&gt; | sex &lt;chr&gt; | ascites &lt;dbl&gt; | hepato &lt;dbl&gt; | spiders &lt;dbl&gt; | edema &lt;dbl&gt; | bili &lt;dbl&gt; | chol &lt;dbl&gt; | albumin &lt;dbl&gt; | copper &lt;dbl&gt; | alk.phos &lt;dbl&gt; | ast &lt;dbl&gt; | trig &lt;dbl&gt; | platelet &lt;dbl&gt; | protime &lt;dbl&gt; | stage &lt;dbl&gt; |\n",
       "|---|---|---|---|---|---|---|---|---|---|---|---|---|---|---|---|---|---|---|---|\n",
       "| 1 |  400 | 2 | 1 | 58.76523 | f | 1 | 1 | 1 | 1.0 | 14.5 | 261 | 2.60 | 156 | 1718.0 | 137.95 | 172 | 190 | 12.2 | 4 |\n",
       "| 2 | 4500 | 0 | 1 | 56.44627 | f | 0 | 1 | 1 | 0.0 |  1.1 | 302 | 4.14 |  54 | 7394.8 | 113.52 |  88 | 221 | 10.6 | 3 |\n",
       "| 3 | 1012 | 2 | 1 | 70.07255 | m | 0 | 0 | 0 | 0.5 |  1.4 | 176 | 3.48 | 210 |  516.0 |  96.10 |  55 | 151 | 12.0 | 4 |\n",
       "| 4 | 1925 | 2 | 1 | 54.74059 | f | 0 | 1 | 1 | 0.5 |  1.8 | 244 | 2.54 |  64 | 6121.8 |  60.63 |  92 | 183 | 10.3 | 4 |\n",
       "| 5 | 1504 | 1 | 2 | 38.10541 | f | 0 | 1 | 1 | 0.0 |  3.4 | 279 | 3.53 | 143 |  671.0 | 113.15 |  72 | 136 | 10.9 | 3 |\n",
       "| 6 | 2503 | 2 | 2 | 66.25873 | f | 0 | 1 | 0 | 0.0 |  0.8 | 248 | 3.98 |  50 |  944.0 |  93.00 |  63 |  NA | 11.0 | 3 |\n",
       "\n"
      ],
      "text/plain": [
       "  id time status trt age      sex ascites hepato spiders edema bili chol\n",
       "1 1   400 2      1   58.76523 f   1       1      1       1.0   14.5 261 \n",
       "2 2  4500 0      1   56.44627 f   0       1      1       0.0    1.1 302 \n",
       "3 3  1012 2      1   70.07255 m   0       0      0       0.5    1.4 176 \n",
       "4 4  1925 2      1   54.74059 f   0       1      1       0.5    1.8 244 \n",
       "5 5  1504 1      2   38.10541 f   0       1      1       0.0    3.4 279 \n",
       "6 6  2503 2      2   66.25873 f   0       1      0       0.0    0.8 248 \n",
       "  albumin copper alk.phos ast    trig platelet protime stage\n",
       "1 2.60    156    1718.0   137.95 172  190      12.2    4    \n",
       "2 4.14     54    7394.8   113.52  88  221      10.6    3    \n",
       "3 3.48    210     516.0    96.10  55  151      12.0    4    \n",
       "4 2.54     64    6121.8    60.63  92  183      10.3    4    \n",
       "5 3.53    143     671.0   113.15  72  136      10.9    3    \n",
       "6 3.98     50     944.0    93.00  63   NA      11.0    3    "
      ]
     },
     "metadata": {},
     "output_type": "display_data"
    }
   ],
   "source": [
    "head(df)"
   ]
  },
  {
   "cell_type": "markdown",
   "id": "024fe0a2",
   "metadata": {},
   "source": [
    "Look at frequencies and descriptive statistics.\n",
    "\n",
    "The summary() function is the first approach.\n",
    "\n",
    "describe() from the Hmisc package is an alternative."
   ]
  },
  {
   "cell_type": "code",
   "execution_count": 21,
   "id": "c5c6d506",
   "metadata": {},
   "outputs": [
    {
     "data": {
      "text/plain": [
       "       id             time          status            trt       \n",
       " Min.   :  1.0   Min.   :  41   Min.   :0.0000   Min.   :1.000  \n",
       " 1st Qu.:105.2   1st Qu.:1093   1st Qu.:0.0000   1st Qu.:1.000  \n",
       " Median :209.5   Median :1730   Median :0.0000   Median :1.000  \n",
       " Mean   :209.5   Mean   :1918   Mean   :0.8301   Mean   :1.494  \n",
       " 3rd Qu.:313.8   3rd Qu.:2614   3rd Qu.:2.0000   3rd Qu.:2.000  \n",
       " Max.   :418.0   Max.   :4795   Max.   :2.0000   Max.   :2.000  \n",
       "                                                 NA's   :106    \n",
       "      age            sex               ascites            hepato      \n",
       " Min.   :26.28   Length:418         Min.   :0.00000   Min.   :0.0000  \n",
       " 1st Qu.:42.83   Class :character   1st Qu.:0.00000   1st Qu.:0.0000  \n",
       " Median :51.00   Mode  :character   Median :0.00000   Median :1.0000  \n",
       " Mean   :50.74                      Mean   :0.07692   Mean   :0.5128  \n",
       " 3rd Qu.:58.24                      3rd Qu.:0.00000   3rd Qu.:1.0000  \n",
       " Max.   :78.44                      Max.   :1.00000   Max.   :1.0000  \n",
       "                                    NA's   :106       NA's   :106     \n",
       "    spiders           edema             bili             chol       \n",
       " Min.   :0.0000   Min.   :0.0000   Min.   : 0.300   Min.   : 120.0  \n",
       " 1st Qu.:0.0000   1st Qu.:0.0000   1st Qu.: 0.800   1st Qu.: 249.5  \n",
       " Median :0.0000   Median :0.0000   Median : 1.400   Median : 309.5  \n",
       " Mean   :0.2885   Mean   :0.1005   Mean   : 3.221   Mean   : 369.5  \n",
       " 3rd Qu.:1.0000   3rd Qu.:0.0000   3rd Qu.: 3.400   3rd Qu.: 400.0  \n",
       " Max.   :1.0000   Max.   :1.0000   Max.   :28.000   Max.   :1775.0  \n",
       " NA's   :106                                        NA's   :134     \n",
       "    albumin          copper          alk.phos            ast        \n",
       " Min.   :1.960   Min.   :  4.00   Min.   :  289.0   Min.   : 26.35  \n",
       " 1st Qu.:3.243   1st Qu.: 41.25   1st Qu.:  871.5   1st Qu.: 80.60  \n",
       " Median :3.530   Median : 73.00   Median : 1259.0   Median :114.70  \n",
       " Mean   :3.497   Mean   : 97.65   Mean   : 1982.7   Mean   :122.56  \n",
       " 3rd Qu.:3.770   3rd Qu.:123.00   3rd Qu.: 1980.0   3rd Qu.:151.90  \n",
       " Max.   :4.640   Max.   :588.00   Max.   :13862.4   Max.   :457.25  \n",
       "                 NA's   :108      NA's   :106       NA's   :106     \n",
       "      trig           platelet        protime          stage      \n",
       " Min.   : 33.00   Min.   : 62.0   Min.   : 9.00   Min.   :1.000  \n",
       " 1st Qu.: 84.25   1st Qu.:188.5   1st Qu.:10.00   1st Qu.:2.000  \n",
       " Median :108.00   Median :251.0   Median :10.60   Median :3.000  \n",
       " Mean   :124.70   Mean   :257.0   Mean   :10.73   Mean   :3.024  \n",
       " 3rd Qu.:151.00   3rd Qu.:318.0   3rd Qu.:11.10   3rd Qu.:4.000  \n",
       " Max.   :598.00   Max.   :721.0   Max.   :18.00   Max.   :4.000  \n",
       " NA's   :136      NA's   :11      NA's   :2       NA's   :6      "
      ]
     },
     "metadata": {},
     "output_type": "display_data"
    }
   ],
   "source": [
    "summary(df)"
   ]
  },
  {
   "cell_type": "code",
   "execution_count": 22,
   "id": "64db519e",
   "metadata": {},
   "outputs": [
    {
     "data": {
      "text/plain": [
       "df \n",
       "\n",
       " 20  Variables      418  Observations\n",
       "--------------------------------------------------------------------------------\n",
       "id \n",
       "       n  missing distinct     Info     Mean      Gmd      .05      .10 \n",
       "     418        0      418        1    209.5    139.7    21.85    42.70 \n",
       "     .25      .50      .75      .90      .95 \n",
       "  105.25   209.50   313.75   376.30   397.15 \n",
       "\n",
       "lowest :   1   2   3   4   5, highest: 414 415 416 417 418\n",
       "--------------------------------------------------------------------------------\n",
       "time \n",
       "       n  missing distinct     Info     Mean      Gmd      .05      .10 \n",
       "     418        0      399        1     1918     1253    245.1    606.8 \n",
       "     .25      .50      .75      .90      .95 \n",
       "  1092.8   1730.0   2613.5   3524.2   4040.6 \n",
       "\n",
       "lowest :   41   43   51   71   77, highest: 4500 4509 4523 4556 4795\n",
       "--------------------------------------------------------------------------------\n",
       "status \n",
       "       n  missing distinct     Info     Mean      Gmd \n",
       "     418        0        3    0.772   0.8301   0.9699 \n",
       "                            \n",
       "Value          0     1     2\n",
       "Frequency    232    25   161\n",
       "Proportion 0.555 0.060 0.385\n",
       "\n",
       "For the frequency table, variable is rounded to the nearest 0.02\n",
       "--------------------------------------------------------------------------------\n",
       "trt \n",
       "       n  missing distinct     Info     Mean      Gmd \n",
       "     312      106        2     0.75    1.494   0.5015 \n",
       "                      \n",
       "Value          1     2\n",
       "Frequency    158   154\n",
       "Proportion 0.506 0.494\n",
       "--------------------------------------------------------------------------------\n",
       "age \n",
       "       n  missing distinct     Info     Mean      Gmd      .05      .10 \n",
       "     418        0      344        1    50.74    11.96    33.84    36.37 \n",
       "     .25      .50      .75      .90      .95 \n",
       "   42.83    51.00    58.24    64.30    67.92 \n",
       "\n",
       "lowest : 26.2779 28.8843 29.5551 30.2752 30.5736\n",
       "highest: 74.5243 75.0007 75.0116 76.7091 78.4394\n",
       "--------------------------------------------------------------------------------\n",
       "sex \n",
       "       n  missing distinct \n",
       "     418        0        2 \n",
       "                      \n",
       "Value          f     m\n",
       "Frequency    374    44\n",
       "Proportion 0.895 0.105\n",
       "--------------------------------------------------------------------------------\n",
       "ascites \n",
       "       n  missing distinct     Info      Sum     Mean      Gmd \n",
       "     312      106        2    0.213       24  0.07692   0.1425 \n",
       "\n",
       "--------------------------------------------------------------------------------\n",
       "hepato \n",
       "       n  missing distinct     Info      Sum     Mean      Gmd \n",
       "     312      106        2     0.75      160   0.5128   0.5013 \n",
       "\n",
       "--------------------------------------------------------------------------------\n",
       "spiders \n",
       "       n  missing distinct     Info      Sum     Mean      Gmd \n",
       "     312      106        2    0.616       90   0.2885   0.4118 \n",
       "\n",
       "--------------------------------------------------------------------------------\n",
       "edema \n",
       "       n  missing distinct     Info     Mean      Gmd \n",
       "     418        0        3    0.391   0.1005   0.1756 \n",
       "                            \n",
       "Value        0.0   0.5   1.0\n",
       "Frequency    354    44    20\n",
       "Proportion 0.847 0.105 0.048\n",
       "\n",
       "For the frequency table, variable is rounded to the nearest 0.01\n",
       "--------------------------------------------------------------------------------\n",
       "bili \n",
       "       n  missing distinct     Info     Mean      Gmd      .05      .10 \n",
       "     418        0       98    0.998    3.221    3.742     0.50     0.60 \n",
       "     .25      .50      .75      .90      .95 \n",
       "    0.80     1.40     3.40     8.03    14.00 \n",
       "\n",
       "lowest : 0.3  0.4  0.5  0.6  0.7 , highest: 21.6 22.5 24.5 25.5 28  \n",
       "--------------------------------------------------------------------------------\n",
       "chol \n",
       "       n  missing distinct     Info     Mean      Gmd      .05      .10 \n",
       "     284      134      201        1    369.5    194.5    188.4    213.6 \n",
       "     .25      .50      .75      .90      .95 \n",
       "   249.5    309.5    400.0    560.8    674.0 \n",
       "\n",
       "lowest :  120  127  132  149  151, highest: 1336 1480 1600 1712 1775\n",
       "--------------------------------------------------------------------------------\n",
       "albumin \n",
       "       n  missing distinct     Info     Mean      Gmd      .05      .10 \n",
       "     418        0      154        1    3.497    0.473    2.750    2.967 \n",
       "     .25      .50      .75      .90      .95 \n",
       "   3.243    3.530    3.770    4.010    4.141 \n",
       "\n",
       "lowest : 1.96 2.1  2.23 2.27 2.31, highest: 4.3  4.38 4.4  4.52 4.64\n",
       "--------------------------------------------------------------------------------\n",
       "copper \n",
       "       n  missing distinct     Info     Mean      Gmd      .05      .10 \n",
       "     310      108      158        1    97.65    83.16    17.45    24.00 \n",
       "     .25      .50      .75      .90      .95 \n",
       "   41.25    73.00   123.00   208.10   249.20 \n",
       "\n",
       "lowest :   4   9  10  11  12, highest: 412 444 464 558 588\n",
       "--------------------------------------------------------------------------------\n",
       "alk.phos \n",
       "       n  missing distinct     Info     Mean      Gmd      .05      .10 \n",
       "     312      106      295        1     1983     1760    599.6    663.0 \n",
       "     .25      .50      .75      .90      .95 \n",
       "   871.5   1259.0   1980.0   3826.4   6669.9 \n",
       "\n",
       "lowest : 289     310     369     377     414    \n",
       "highest: 11046.6 11320.2 11552   12258.8 13862.4\n",
       "--------------------------------------------------------------------------------\n",
       "ast \n",
       "       n  missing distinct     Info     Mean      Gmd      .05      .10 \n",
       "     312      106      179        1    122.6    60.45    54.25    60.45 \n",
       "     .25      .50      .75      .90      .95 \n",
       "   80.60   114.70   151.90   196.47   219.25 \n",
       "\n",
       "lowest : 26.35  28.38  41.85  43.4   45    , highest: 288    299.15 328.6  338    457.25\n",
       "--------------------------------------------------------------------------------\n",
       "trig \n",
       "       n  missing distinct     Info     Mean      Gmd      .05      .10 \n",
       "     282      136      146        1    124.7    64.07    56.00    63.10 \n",
       "     .25      .50      .75      .90      .95 \n",
       "   84.25   108.00   151.00   195.00   230.95 \n",
       "\n",
       "lowest :  33  44  46  49  50, highest: 319 322 382 432 598\n",
       "--------------------------------------------------------------------------------\n",
       "platelet \n",
       "       n  missing distinct     Info     Mean      Gmd      .05      .10 \n",
       "     407       11      243        1      257    109.7    114.9    138.2 \n",
       "     .25      .50      .75      .90      .95 \n",
       "   188.5    251.0    318.0    386.2    430.0 \n",
       "\n",
       "lowest :  62  70  71  76  79, highest: 517 518 539 563 721\n",
       "--------------------------------------------------------------------------------\n",
       "protime \n",
       "       n  missing distinct     Info     Mean      Gmd      .05      .10 \n",
       "     416        2       48    0.998    10.73    1.029     9.60     9.80 \n",
       "     .25      .50      .75      .90      .95 \n",
       "   10.00    10.60    11.10    12.00    12.45 \n",
       "\n",
       "lowest : 9    9.1  9.2  9.3  9.4 , highest: 13.8 14.1 15.2 17.1 18  \n",
       "--------------------------------------------------------------------------------\n",
       "stage \n",
       "       n  missing distinct     Info     Mean      Gmd \n",
       "     412        6        4    0.893    3.024   0.9519 \n",
       "                                  \n",
       "Value       1.00  1.99  2.98  4.00\n",
       "Frequency     21    92   155   144\n",
       "Proportion 0.051 0.223 0.376 0.350\n",
       "\n",
       "For the frequency table, variable is rounded to the nearest 0.03\n",
       "--------------------------------------------------------------------------------"
      ]
     },
     "metadata": {},
     "output_type": "display_data"
    }
   ],
   "source": [
    "library(Hmisc)\n",
    "describe(df)"
   ]
  },
  {
   "cell_type": "markdown",
   "id": "f3f47ded",
   "metadata": {},
   "source": [
    "Plot the variables of interest with a scatter plot matrix from package GGally."
   ]
  },
  {
   "cell_type": "code",
   "execution_count": 23,
   "id": "8820b506",
   "metadata": {},
   "outputs": [
    {
     "name": "stderr",
     "output_type": "stream",
     "text": [
      "\u001b[1m\u001b[22m`stat_bin()` using `bins = 30`. Pick better value with `binwidth`.\n",
      "\u001b[1m\u001b[22m`stat_bin()` using `bins = 30`. Pick better value with `binwidth`.\n",
      "\u001b[1m\u001b[22m`stat_bin()` using `bins = 30`. Pick better value with `binwidth`.\n"
     ]
    },
    {
     "data": {
      "image/png": "[encoded data removed]",
      "text/plain": [
       "plot without title"
      ]
     },
     "metadata": {
      "image/png": {
       "height": 420,
       "width": 420
      }
     },
     "output_type": "display_data"
    }
   ],
   "source": [
    "library(GGally)\n",
    "library(tidyverse)\n",
    "df1 <- df %>% dplyr::select(time, status, age, sex)\n",
    "ggpairs(df1)"
   ]
  },
  {
   "cell_type": "markdown",
   "id": "6d67a4f5",
   "metadata": {},
   "source": [
    "## Assumptions of Cox regression\n",
    "-"
   ]
  },
  {
   "cell_type": "markdown",
   "id": "8063a908",
   "metadata": {},
   "source": [
    "TODO: Check completeness of the assumptions and add example code for the checks."
   ]
  },
  {
   "cell_type": "markdown",
   "id": "42054b3a",
   "metadata": {},
   "source": [
    "## Coding of categorical variables\n",
    "\n",
    "- sex\n",
    "\n",
    "If using character variables, the first level of the alphabetic sort order will be regardes as reference level.\n",
    "\n",
    "For some functions the character variable has to be converted to a factor, e.g., for the contrasts() function."
   ]
  },
  {
   "cell_type": "code",
   "execution_count": 24,
   "id": "c735a399",
   "metadata": {},
   "outputs": [
    {
     "data": {
      "text/plain": [
       "\n",
       "  f   m \n",
       "374  44 "
      ]
     },
     "metadata": {},
     "output_type": "display_data"
    }
   ],
   "source": [
    "table(df$sex)"
   ]
  },
  {
   "cell_type": "code",
   "execution_count": 25,
   "id": "c3b7c73e",
   "metadata": {},
   "outputs": [
    {
     "data": {
      "text/html": [
       "<table class=\"dataframe\">\n",
       "<caption>A matrix: 2 × 1 of type dbl</caption>\n",
       "<thead>\n",
       "\t<tr><th></th><th scope=col>m</th></tr>\n",
       "</thead>\n",
       "<tbody>\n",
       "\t<tr><th scope=row>f</th><td>0</td></tr>\n",
       "\t<tr><th scope=row>m</th><td>1</td></tr>\n",
       "</tbody>\n",
       "</table>\n"
      ],
      "text/latex": [
       "A matrix: 2 × 1 of type dbl\n",
       "\\begin{tabular}{r|l}\n",
       "  & m\\\\\n",
       "\\hline\n",
       "\tf & 0\\\\\n",
       "\tm & 1\\\\\n",
       "\\end{tabular}\n"
      ],
      "text/markdown": [
       "\n",
       "A matrix: 2 × 1 of type dbl\n",
       "\n",
       "| <!--/--> | m |\n",
       "|---|---|\n",
       "| f | 0 |\n",
       "| m | 1 |\n",
       "\n"
      ],
      "text/plain": [
       "  m\n",
       "f 0\n",
       "m 1"
      ]
     },
     "metadata": {},
     "output_type": "display_data"
    }
   ],
   "source": [
    "contrasts(as.factor(df$sex))"
   ]
  },
  {
   "cell_type": "markdown",
   "id": "4ef481f3",
   "metadata": {},
   "source": [
    "## Fit the model"
   ]
  },
  {
   "cell_type": "code",
   "execution_count": 26,
   "id": "01de61c0",
   "metadata": {},
   "outputs": [
    {
     "data": {
      "text/plain": [
       "\n",
       "   0    1    2 <NA> \n",
       " 232   25  161    0 "
      ]
     },
     "metadata": {},
     "output_type": "display_data"
    }
   ],
   "source": [
    "table(df$status, useNA = \"always\")"
   ]
  },
  {
   "cell_type": "code",
   "execution_count": 27,
   "id": "65e83530",
   "metadata": {},
   "outputs": [],
   "source": [
    "library(survival)\n",
    "df1 <- df %>% select(time, age, status, sex) %>% na.omit()\n",
    "df1$status <- ifelse(df1$status == 0, 0, 1) # recode of status, all events equal 1, censored equal 0\n",
    "my_cox <- coxph(formula = Surv(time, status) ~ age + sex, data = df1)"
   ]
  },
  {
   "cell_type": "markdown",
   "id": "2a80630e",
   "metadata": {},
   "source": [
    "## Summary of the model"
   ]
  },
  {
   "cell_type": "code",
   "execution_count": 28,
   "id": "9ade809f",
   "metadata": {},
   "outputs": [
    {
     "data": {
      "text/plain": [
       "Call:\n",
       "coxph(formula = Surv(time, status) ~ age + sex, data = df1)\n",
       "\n",
       "  n= 418, number of events= 186 \n",
       "\n",
       "         coef exp(coef) se(coef)     z Pr(>|z|)   \n",
       "age  0.022097  1.022343 0.007271 3.039  0.00237 **\n",
       "sexm 0.299952  1.349794 0.209753 1.430  0.15271   \n",
       "---\n",
       "Signif. codes:  0 '***' 0.001 '**' 0.01 '*' 0.05 '.' 0.1 ' ' 1\n",
       "\n",
       "     exp(coef) exp(-coef) lower .95 upper .95\n",
       "age      1.022     0.9781    1.0079     1.037\n",
       "sexm     1.350     0.7409    0.8948     2.036\n",
       "\n",
       "Concordance= 0.569  (se = 0.022 )\n",
       "Likelihood ratio test= 11.98  on 2 df,   p=0.003\n",
       "Wald test            = 12.24  on 2 df,   p=0.002\n",
       "Score (logrank) test = 12.29  on 2 df,   p=0.002\n"
      ]
     },
     "metadata": {},
     "output_type": "display_data"
    }
   ],
   "source": [
    "summary(my_cox)"
   ]
  },
  {
   "cell_type": "markdown",
   "id": "078c9a71",
   "metadata": {},
   "source": [
    "## Estimates"
   ]
  },
  {
   "cell_type": "code",
   "execution_count": 29,
   "id": "f48a4640",
   "metadata": {},
   "outputs": [
    {
     "data": {
      "text/html": [
       "<table class=\"dataframe\">\n",
       "<caption>A tibble: 2 × 5</caption>\n",
       "<thead>\n",
       "\t<tr><th scope=col>term</th><th scope=col>estimate</th><th scope=col>std.error</th><th scope=col>statistic</th><th scope=col>p.value</th></tr>\n",
       "\t<tr><th scope=col>&lt;chr&gt;</th><th scope=col>&lt;dbl&gt;</th><th scope=col>&lt;dbl&gt;</th><th scope=col>&lt;dbl&gt;</th><th scope=col>&lt;dbl&gt;</th></tr>\n",
       "</thead>\n",
       "<tbody>\n",
       "\t<tr><td>age </td><td>0.02209746</td><td>0.007271229</td><td>3.039027</td><td>0.002373437</td></tr>\n",
       "\t<tr><td>sexm</td><td>0.29995205</td><td>0.209753305</td><td>1.430023</td><td>0.152710421</td></tr>\n",
       "</tbody>\n",
       "</table>\n"
      ],
      "text/latex": [
       "A tibble: 2 × 5\n",
       "\\begin{tabular}{lllll}\n",
       " term & estimate & std.error & statistic & p.value\\\\\n",
       " <chr> & <dbl> & <dbl> & <dbl> & <dbl>\\\\\n",
       "\\hline\n",
       "\t age  & 0.02209746 & 0.007271229 & 3.039027 & 0.002373437\\\\\n",
       "\t sexm & 0.29995205 & 0.209753305 & 1.430023 & 0.152710421\\\\\n",
       "\\end{tabular}\n"
      ],
      "text/markdown": [
       "\n",
       "A tibble: 2 × 5\n",
       "\n",
       "| term &lt;chr&gt; | estimate &lt;dbl&gt; | std.error &lt;dbl&gt; | statistic &lt;dbl&gt; | p.value &lt;dbl&gt; |\n",
       "|---|---|---|---|---|\n",
       "| age  | 0.02209746 | 0.007271229 | 3.039027 | 0.002373437 |\n",
       "| sexm | 0.29995205 | 0.209753305 | 1.430023 | 0.152710421 |\n",
       "\n"
      ],
      "text/plain": [
       "  term estimate   std.error   statistic p.value    \n",
       "1 age  0.02209746 0.007271229 3.039027  0.002373437\n",
       "2 sexm 0.29995205 0.209753305 1.430023  0.152710421"
      ]
     },
     "metadata": {},
     "output_type": "display_data"
    }
   ],
   "source": [
    "library(broom)\n",
    "tidy(my_cox)"
   ]
  },
  {
   "cell_type": "markdown",
   "id": "19c73aa3",
   "metadata": {},
   "source": [
    "## Model fitness"
   ]
  },
  {
   "cell_type": "code",
   "execution_count": 30,
   "id": "0b9ae5be",
   "metadata": {},
   "outputs": [
    {
     "data": {
      "text/html": [
       "<table class=\"dataframe\">\n",
       "<caption>A tibble: 1 × 18</caption>\n",
       "<thead>\n",
       "\t<tr><th scope=col>n</th><th scope=col>nevent</th><th scope=col>statistic.log</th><th scope=col>p.value.log</th><th scope=col>statistic.sc</th><th scope=col>p.value.sc</th><th scope=col>statistic.wald</th><th scope=col>p.value.wald</th><th scope=col>statistic.robust</th><th scope=col>p.value.robust</th><th scope=col>r.squared</th><th scope=col>r.squared.max</th><th scope=col>concordance</th><th scope=col>std.error.concordance</th><th scope=col>logLik</th><th scope=col>AIC</th><th scope=col>BIC</th><th scope=col>nobs</th></tr>\n",
       "\t<tr><th scope=col>&lt;int&gt;</th><th scope=col>&lt;dbl&gt;</th><th scope=col>&lt;dbl&gt;</th><th scope=col>&lt;dbl&gt;</th><th scope=col>&lt;dbl&gt;</th><th scope=col>&lt;dbl&gt;</th><th scope=col>&lt;dbl&gt;</th><th scope=col>&lt;dbl&gt;</th><th scope=col>&lt;dbl&gt;</th><th scope=col>&lt;dbl&gt;</th><th scope=col>&lt;dbl&gt;</th><th scope=col>&lt;dbl&gt;</th><th scope=col>&lt;dbl&gt;</th><th scope=col>&lt;dbl&gt;</th><th scope=col>&lt;dbl&gt;</th><th scope=col>&lt;dbl&gt;</th><th scope=col>&lt;dbl&gt;</th><th scope=col>&lt;int&gt;</th></tr>\n",
       "</thead>\n",
       "<tbody>\n",
       "\t<tr><td>418</td><td>186</td><td>11.97965</td><td>0.002504107</td><td>12.29379</td><td>0.002140117</td><td>12.24</td><td>0.002202114</td><td>NA</td><td>NA</td><td>0.02825265</td><td>0.9919921</td><td>0.569148</td><td>0.02173493</td><td>-1002.922</td><td>2009.844</td><td>2016.295</td><td>418</td></tr>\n",
       "</tbody>\n",
       "</table>\n"
      ],
      "text/latex": [
       "A tibble: 1 × 18\n",
       "\\begin{tabular}{llllllllllllllllll}\n",
       " n & nevent & statistic.log & p.value.log & statistic.sc & p.value.sc & statistic.wald & p.value.wald & statistic.robust & p.value.robust & r.squared & r.squared.max & concordance & std.error.concordance & logLik & AIC & BIC & nobs\\\\\n",
       " <int> & <dbl> & <dbl> & <dbl> & <dbl> & <dbl> & <dbl> & <dbl> & <dbl> & <dbl> & <dbl> & <dbl> & <dbl> & <dbl> & <dbl> & <dbl> & <dbl> & <int>\\\\\n",
       "\\hline\n",
       "\t 418 & 186 & 11.97965 & 0.002504107 & 12.29379 & 0.002140117 & 12.24 & 0.002202114 & NA & NA & 0.02825265 & 0.9919921 & 0.569148 & 0.02173493 & -1002.922 & 2009.844 & 2016.295 & 418\\\\\n",
       "\\end{tabular}\n"
      ],
      "text/markdown": [
       "\n",
       "A tibble: 1 × 18\n",
       "\n",
       "| n &lt;int&gt; | nevent &lt;dbl&gt; | statistic.log &lt;dbl&gt; | p.value.log &lt;dbl&gt; | statistic.sc &lt;dbl&gt; | p.value.sc &lt;dbl&gt; | statistic.wald &lt;dbl&gt; | p.value.wald &lt;dbl&gt; | statistic.robust &lt;dbl&gt; | p.value.robust &lt;dbl&gt; | r.squared &lt;dbl&gt; | r.squared.max &lt;dbl&gt; | concordance &lt;dbl&gt; | std.error.concordance &lt;dbl&gt; | logLik &lt;dbl&gt; | AIC &lt;dbl&gt; | BIC &lt;dbl&gt; | nobs &lt;int&gt; |\n",
       "|---|---|---|---|---|---|---|---|---|---|---|---|---|---|---|---|---|---|\n",
       "| 418 | 186 | 11.97965 | 0.002504107 | 12.29379 | 0.002140117 | 12.24 | 0.002202114 | NA | NA | 0.02825265 | 0.9919921 | 0.569148 | 0.02173493 | -1002.922 | 2009.844 | 2016.295 | 418 |\n",
       "\n"
      ],
      "text/plain": [
       "  n   nevent statistic.log p.value.log statistic.sc p.value.sc  statistic.wald\n",
       "1 418 186    11.97965      0.002504107 12.29379     0.002140117 12.24         \n",
       "  p.value.wald statistic.robust p.value.robust r.squared  r.squared.max\n",
       "1 0.002202114  NA               NA             0.02825265 0.9919921    \n",
       "  concordance std.error.concordance logLik    AIC      BIC      nobs\n",
       "1 0.569148    0.02173493            -1002.922 2009.844 2016.295 418 "
      ]
     },
     "metadata": {},
     "output_type": "display_data"
    }
   ],
   "source": [
    "glance(my_cox)"
   ]
  },
  {
   "cell_type": "markdown",
   "id": "e419e6e5",
   "metadata": {},
   "source": [
    "## Residuals"
   ]
  },
  {
   "cell_type": "code",
   "execution_count": 31,
   "id": "48eaeba5",
   "metadata": {},
   "outputs": [
    {
     "data": {
      "text/html": [
       "<table class=\"dataframe\">\n",
       "<caption>A tibble: 6 × 6</caption>\n",
       "<thead>\n",
       "\t<tr><th scope=col>Surv(time, status)</th><th scope=col>age</th><th scope=col>sex</th><th scope=col>.fitted</th><th scope=col>.se.fit</th><th scope=col>.resid</th></tr>\n",
       "\t<tr><th scope=col>&lt;Surv&gt;</th><th scope=col>&lt;dbl&gt;</th><th scope=col>&lt;fct&gt;</th><th scope=col>&lt;dbl&gt;</th><th scope=col>&lt;dbl&gt;</th><th scope=col>&lt;dbl&gt;</th></tr>\n",
       "</thead>\n",
       "<tbody>\n",
       "\t<tr><td> 400, 1</td><td>58.76523</td><td>f</td><td> 0.17730289</td><td>0.05834199</td><td> 0.9108506</td></tr>\n",
       "\t<tr><td>4500, 0</td><td>56.44627</td><td>f</td><td> 0.12605977</td><td>0.04148031</td><td>-1.2694895</td></tr>\n",
       "\t<tr><td>1012, 1</td><td>70.07255</td><td>m</td><td> 0.72711805</td><td>0.24092672</td><td> 0.5601946</td></tr>\n",
       "\t<tr><td>1925, 1</td><td>54.74059</td><td>f</td><td> 0.08836856</td><td>0.02907791</td><td> 0.5578660</td></tr>\n",
       "\t<tr><td>1504, 1</td><td>38.10541</td><td>f</td><td>-0.27922667</td><td>0.09188029</td><td> 0.7485750</td></tr>\n",
       "\t<tr><td>2503, 1</td><td>66.25873</td><td>f</td><td> 0.34289014</td><td>0.11282893</td><td> 0.2182504</td></tr>\n",
       "</tbody>\n",
       "</table>\n"
      ],
      "text/latex": [
       "A tibble: 6 × 6\n",
       "\\begin{tabular}{llllll}\n",
       " Surv(time, status) & age & sex & .fitted & .se.fit & .resid\\\\\n",
       " <Surv> & <dbl> & <fct> & <dbl> & <dbl> & <dbl>\\\\\n",
       "\\hline\n",
       "\t  400, 1 & 58.76523 & f &  0.17730289 & 0.05834199 &  0.9108506\\\\\n",
       "\t 4500, 0 & 56.44627 & f &  0.12605977 & 0.04148031 & -1.2694895\\\\\n",
       "\t 1012, 1 & 70.07255 & m &  0.72711805 & 0.24092672 &  0.5601946\\\\\n",
       "\t 1925, 1 & 54.74059 & f &  0.08836856 & 0.02907791 &  0.5578660\\\\\n",
       "\t 1504, 1 & 38.10541 & f & -0.27922667 & 0.09188029 &  0.7485750\\\\\n",
       "\t 2503, 1 & 66.25873 & f &  0.34289014 & 0.11282893 &  0.2182504\\\\\n",
       "\\end{tabular}\n"
      ],
      "text/markdown": [
       "\n",
       "A tibble: 6 × 6\n",
       "\n",
       "| Surv(time, status) &lt;Surv&gt; | age &lt;dbl&gt; | sex &lt;fct&gt; | .fitted &lt;dbl&gt; | .se.fit &lt;dbl&gt; | .resid &lt;dbl&gt; |\n",
       "|---|---|---|---|---|---|\n",
       "|  400, 1 | 58.76523 | f |  0.17730289 | 0.05834199 |  0.9108506 |\n",
       "| 4500, 0 | 56.44627 | f |  0.12605977 | 0.04148031 | -1.2694895 |\n",
       "| 1012, 1 | 70.07255 | m |  0.72711805 | 0.24092672 |  0.5601946 |\n",
       "| 1925, 1 | 54.74059 | f |  0.08836856 | 0.02907791 |  0.5578660 |\n",
       "| 1504, 1 | 38.10541 | f | -0.27922667 | 0.09188029 |  0.7485750 |\n",
       "| 2503, 1 | 66.25873 | f |  0.34289014 | 0.11282893 |  0.2182504 |\n",
       "\n"
      ],
      "text/plain": [
       "  Surv(time, status) age      sex .fitted     .se.fit    .resid    \n",
       "1  400, 1            58.76523 f    0.17730289 0.05834199  0.9108506\n",
       "2 4500, 0            56.44627 f    0.12605977 0.04148031 -1.2694895\n",
       "3 1012, 1            70.07255 m    0.72711805 0.24092672  0.5601946\n",
       "4 1925, 1            54.74059 f    0.08836856 0.02907791  0.5578660\n",
       "5 1504, 1            38.10541 f   -0.27922667 0.09188029  0.7485750\n",
       "6 2503, 1            66.25873 f    0.34289014 0.11282893  0.2182504"
      ]
     },
     "metadata": {},
     "output_type": "display_data"
    }
   ],
   "source": [
    "augment(my_cox) %>% head()"
   ]
  },
  {
   "cell_type": "code",
   "execution_count": null,
   "id": "a26d6e37",
   "metadata": {},
   "outputs": [],
   "source": []
  }
 ],
 "metadata": {
  "kernelspec": {
   "display_name": "R 4.3.2",
   "language": "R",
   "name": "ir432"
  },
  "language_info": {
   "codemirror_mode": "r",
   "file_extension": ".r",
   "mimetype": "text/x-r-source",
   "name": "R",
   "pygments_lexer": "r",
   "version": "4.3.2"
  }
 },
 "nbformat": 4,
 "nbformat_minor": 5
}
