{
 "cells": [
  {
   "cell_type": "markdown",
   "id": "df8091c6-2036-476c-b540-77db13c8369e",
   "metadata": {},
   "source": [
    "# 06 - Multivariate Cox regression - Continous and categorical variable"
   ]
  },
  {
   "cell_type": "markdown",
   "id": "8cf7dd5a-4d82-471f-8a41-39e05dbdde32",
   "metadata": {},
   "source": [
    "## Data"
   ]
  },
  {
   "cell_type": "markdown",
   "id": "f4874aaa-1498-44be-8371-053af86b4735",
   "metadata": {},
   "source": [
    "Source of data:  Mayo Clinic trial in PBC conducted between 1974 and 1984\n",
    "\n",
    "Data set pbc.csv"
   ]
  },
  {
   "cell_type": "code",
   "execution_count": 1,
   "id": "09e0948e-f67e-4798-8b78-888edfcf8a78",
   "metadata": {},
   "outputs": [
    {
     "data": {
      "text/html": [
       "<table class=\"dataframe\">\n",
       "<caption>A tibble: 6 × 20</caption>\n",
       "<thead>\n",
       "\t<tr><th scope=col>id</th><th scope=col>time</th><th scope=col>status</th><th scope=col>trt</th><th scope=col>age</th><th scope=col>sex</th><th scope=col>ascites</th><th scope=col>hepato</th><th scope=col>spiders</th><th scope=col>edema</th><th scope=col>bili</th><th scope=col>chol</th><th scope=col>albumin</th><th scope=col>copper</th><th scope=col>alk.phos</th><th scope=col>ast</th><th scope=col>trig</th><th scope=col>platelet</th><th scope=col>protime</th><th scope=col>stage</th></tr>\n",
       "\t<tr><th scope=col>&lt;dbl&gt;</th><th scope=col>&lt;dbl&gt;</th><th scope=col>&lt;dbl&gt;</th><th scope=col>&lt;chr&gt;</th><th scope=col>&lt;dbl&gt;</th><th scope=col>&lt;chr&gt;</th><th scope=col>&lt;chr&gt;</th><th scope=col>&lt;chr&gt;</th><th scope=col>&lt;chr&gt;</th><th scope=col>&lt;dbl&gt;</th><th scope=col>&lt;dbl&gt;</th><th scope=col>&lt;chr&gt;</th><th scope=col>&lt;dbl&gt;</th><th scope=col>&lt;chr&gt;</th><th scope=col>&lt;chr&gt;</th><th scope=col>&lt;chr&gt;</th><th scope=col>&lt;chr&gt;</th><th scope=col>&lt;chr&gt;</th><th scope=col>&lt;chr&gt;</th><th scope=col>&lt;chr&gt;</th></tr>\n",
       "</thead>\n",
       "<tbody>\n",
       "\t<tr><td>1</td><td> 400</td><td>2</td><td>1</td><td>58.76523</td><td>f</td><td>1</td><td>1</td><td>1</td><td>1.0</td><td>14.5</td><td>261</td><td>2.60</td><td>156</td><td>1718  </td><td>137.95</td><td>172</td><td>190</td><td>12.2</td><td>4</td></tr>\n",
       "\t<tr><td>2</td><td>4500</td><td>0</td><td>1</td><td>56.44627</td><td>f</td><td>0</td><td>1</td><td>1</td><td>0.0</td><td> 1.1</td><td>302</td><td>4.14</td><td>54 </td><td>7394.8</td><td>113.52</td><td>88 </td><td>221</td><td>10.6</td><td>3</td></tr>\n",
       "\t<tr><td>3</td><td>1012</td><td>2</td><td>1</td><td>70.07255</td><td>m</td><td>0</td><td>0</td><td>0</td><td>0.5</td><td> 1.4</td><td>176</td><td>3.48</td><td>210</td><td>516   </td><td>96.1  </td><td>55 </td><td>151</td><td>12  </td><td>4</td></tr>\n",
       "\t<tr><td>4</td><td>1925</td><td>2</td><td>1</td><td>54.74059</td><td>f</td><td>0</td><td>1</td><td>1</td><td>0.5</td><td> 1.8</td><td>244</td><td>2.54</td><td>64 </td><td>6121.8</td><td>60.63 </td><td>92 </td><td>183</td><td>10.3</td><td>4</td></tr>\n",
       "\t<tr><td>5</td><td>1504</td><td>1</td><td>2</td><td>38.10541</td><td>f</td><td>0</td><td>1</td><td>1</td><td>0.0</td><td> 3.4</td><td>279</td><td>3.53</td><td>143</td><td>671   </td><td>113.15</td><td>72 </td><td>136</td><td>10.9</td><td>3</td></tr>\n",
       "\t<tr><td>6</td><td>2503</td><td>2</td><td>2</td><td>66.25873</td><td>f</td><td>0</td><td>1</td><td>0</td><td>0.0</td><td> 0.8</td><td>248</td><td>3.98</td><td>50 </td><td>944   </td><td>93    </td><td>63 </td><td>.  </td><td>11  </td><td>3</td></tr>\n",
       "</tbody>\n",
       "</table>\n"
      ],
      "text/latex": [
       "A tibble: 6 × 20\n",
       "\\begin{tabular}{llllllllllllllllllll}\n",
       " id & time & status & trt & age & sex & ascites & hepato & spiders & edema & bili & chol & albumin & copper & alk.phos & ast & trig & platelet & protime & stage\\\\\n",
       " <dbl> & <dbl> & <dbl> & <chr> & <dbl> & <chr> & <chr> & <chr> & <chr> & <dbl> & <dbl> & <chr> & <dbl> & <chr> & <chr> & <chr> & <chr> & <chr> & <chr> & <chr>\\\\\n",
       "\\hline\n",
       "\t 1 &  400 & 2 & 1 & 58.76523 & f & 1 & 1 & 1 & 1.0 & 14.5 & 261 & 2.60 & 156 & 1718   & 137.95 & 172 & 190 & 12.2 & 4\\\\\n",
       "\t 2 & 4500 & 0 & 1 & 56.44627 & f & 0 & 1 & 1 & 0.0 &  1.1 & 302 & 4.14 & 54  & 7394.8 & 113.52 & 88  & 221 & 10.6 & 3\\\\\n",
       "\t 3 & 1012 & 2 & 1 & 70.07255 & m & 0 & 0 & 0 & 0.5 &  1.4 & 176 & 3.48 & 210 & 516    & 96.1   & 55  & 151 & 12   & 4\\\\\n",
       "\t 4 & 1925 & 2 & 1 & 54.74059 & f & 0 & 1 & 1 & 0.5 &  1.8 & 244 & 2.54 & 64  & 6121.8 & 60.63  & 92  & 183 & 10.3 & 4\\\\\n",
       "\t 5 & 1504 & 1 & 2 & 38.10541 & f & 0 & 1 & 1 & 0.0 &  3.4 & 279 & 3.53 & 143 & 671    & 113.15 & 72  & 136 & 10.9 & 3\\\\\n",
       "\t 6 & 2503 & 2 & 2 & 66.25873 & f & 0 & 1 & 0 & 0.0 &  0.8 & 248 & 3.98 & 50  & 944    & 93     & 63  & .   & 11   & 3\\\\\n",
       "\\end{tabular}\n"
      ],
      "text/markdown": [
       "\n",
       "A tibble: 6 × 20\n",
       "\n",
       "| id &lt;dbl&gt; | time &lt;dbl&gt; | status &lt;dbl&gt; | trt &lt;chr&gt; | age &lt;dbl&gt; | sex &lt;chr&gt; | ascites &lt;chr&gt; | hepato &lt;chr&gt; | spiders &lt;chr&gt; | edema &lt;dbl&gt; | bili &lt;dbl&gt; | chol &lt;chr&gt; | albumin &lt;dbl&gt; | copper &lt;chr&gt; | alk.phos &lt;chr&gt; | ast &lt;chr&gt; | trig &lt;chr&gt; | platelet &lt;chr&gt; | protime &lt;chr&gt; | stage &lt;chr&gt; |\n",
       "|---|---|---|---|---|---|---|---|---|---|---|---|---|---|---|---|---|---|---|---|\n",
       "| 1 |  400 | 2 | 1 | 58.76523 | f | 1 | 1 | 1 | 1.0 | 14.5 | 261 | 2.60 | 156 | 1718   | 137.95 | 172 | 190 | 12.2 | 4 |\n",
       "| 2 | 4500 | 0 | 1 | 56.44627 | f | 0 | 1 | 1 | 0.0 |  1.1 | 302 | 4.14 | 54  | 7394.8 | 113.52 | 88  | 221 | 10.6 | 3 |\n",
       "| 3 | 1012 | 2 | 1 | 70.07255 | m | 0 | 0 | 0 | 0.5 |  1.4 | 176 | 3.48 | 210 | 516    | 96.1   | 55  | 151 | 12   | 4 |\n",
       "| 4 | 1925 | 2 | 1 | 54.74059 | f | 0 | 1 | 1 | 0.5 |  1.8 | 244 | 2.54 | 64  | 6121.8 | 60.63  | 92  | 183 | 10.3 | 4 |\n",
       "| 5 | 1504 | 1 | 2 | 38.10541 | f | 0 | 1 | 1 | 0.0 |  3.4 | 279 | 3.53 | 143 | 671    | 113.15 | 72  | 136 | 10.9 | 3 |\n",
       "| 6 | 2503 | 2 | 2 | 66.25873 | f | 0 | 1 | 0 | 0.0 |  0.8 | 248 | 3.98 | 50  | 944    | 93     | 63  | .   | 11   | 3 |\n",
       "\n"
      ],
      "text/plain": [
       "  id time status trt age      sex ascites hepato spiders edema bili chol\n",
       "1 1   400 2      1   58.76523 f   1       1      1       1.0   14.5 261 \n",
       "2 2  4500 0      1   56.44627 f   0       1      1       0.0    1.1 302 \n",
       "3 3  1012 2      1   70.07255 m   0       0      0       0.5    1.4 176 \n",
       "4 4  1925 2      1   54.74059 f   0       1      1       0.5    1.8 244 \n",
       "5 5  1504 1      2   38.10541 f   0       1      1       0.0    3.4 279 \n",
       "6 6  2503 2      2   66.25873 f   0       1      0       0.0    0.8 248 \n",
       "  albumin copper alk.phos ast    trig platelet protime stage\n",
       "1 2.60    156    1718     137.95 172  190      12.2    4    \n",
       "2 4.14    54     7394.8   113.52 88   221      10.6    3    \n",
       "3 3.48    210    516      96.1   55   151      12      4    \n",
       "4 2.54    64     6121.8   60.63  92   183      10.3    4    \n",
       "5 3.53    143    671      113.15 72   136      10.9    3    \n",
       "6 3.98    50     944      93     63   .        11      3    "
      ]
     },
     "metadata": {},
     "output_type": "display_data"
    }
   ],
   "source": [
    "library(readr)\n",
    "pbc <- read_csv(\"data/pbc.csv\",\n",
    "                 show_col_types = FALSE)\n",
    "head(pbc)\n"
   ]
  },
  {
   "cell_type": "markdown",
   "id": "5e3e5853-4e74-43f7-b9fb-f9a42816fcad",
   "metadata": {},
   "source": [
    "## SAS program snippet"
   ]
  },
  {
   "cell_type": "markdown",
   "id": "72a25d47-c22e-4226-89b2-8e8625f61f8c",
   "metadata": {},
   "source": [
    "The following SAS code will be executed."
   ]
  },
  {
   "cell_type": "raw",
   "id": "b171d2d0-81ef-41e8-8987-5c68601be412",
   "metadata": {},
   "source": [
    "proc phreg data = pbc;\n",
    "  class sex;\n",
    "  model time*status(0) = age sex;\n",
    "run;\n"
   ]
  },
  {
   "cell_type": "markdown",
   "id": "5fcf9f00-3a07-4e34-805c-de0f95d4d76a",
   "metadata": {},
   "source": [
    "## Results"
   ]
  },
  {
   "cell_type": "markdown",
   "id": "3d365e27-c7c5-4936-90db-8392fae3a124",
   "metadata": {},
   "source": [
    "The output is divided into blocks to explain it and to reproduce it afterwards in the different languages."
   ]
  },
  {
   "cell_type": "markdown",
   "id": "40ce206b-826d-42c6-bc39-c588864d99b7",
   "metadata": {},
   "source": [
    "### Block 1\n",
    "![Block 1](img_screenshots_age_sex/block_1.png)"
   ]
  },
  {
   "cell_type": "markdown",
   "id": "dbd41ca5-46ca-47a1-b7b5-67493342748d",
   "metadata": {},
   "source": [
    "Row 1 refers to the dataset which was used in this procedure.\n",
    "\n",
    "Row 2 gives the response variable or dependent variable for the Cox regression.\n",
    "\n",
    "Row 3 gives the censoring variable.\n",
    "\n",
    "Row 4 gives the censoring values.\n",
    "\n",
    "Row 5 informs about the handling of ties. The default methods of the different statistical programs might differ.\n",
    "\n",
    "The number of observations used might be less than the number of observations read.\n",
    "SAS performs a listwise deletion (complete case analysis) if missing values are present."
   ]
  },
  {
   "cell_type": "markdown",
   "id": "09f48c70-5dd6-4e6a-984e-6ed29408f555",
   "metadata": {},
   "source": [
    "### Block 2\n",
    "![Block 2](img_screenshots_age_sex/block_2.png)"
   ]
  },
  {
   "cell_type": "markdown",
   "id": "53e6f513-f29c-47e5-be2a-a3bb11989551",
   "metadata": {},
   "source": [
    "Coding of categorical is listed here.\n",
    "\n",
    "This coding might differ from the coding in other statistic programming languages."
   ]
  },
  {
   "cell_type": "markdown",
   "id": "c600c9a5-619f-4495-80e6-85c89a18877d",
   "metadata": {},
   "source": [
    "### Block 3\n",
    "![Block 3](img_screenshots_age_sex/block_3.png)"
   ]
  },
  {
   "cell_type": "markdown",
   "id": "06b387b6-e95a-4f7f-bd33-359773588f5b",
   "metadata": {},
   "source": [
    "This block presents the number of events and of censored values and the proportion of censored values.\n",
    "\n",
    "The important information that the model converged can be found here."
   ]
  },
  {
   "cell_type": "markdown",
   "id": "e76ff54b-9339-4c00-bb4e-c5deea17de63",
   "metadata": {},
   "source": [
    "### Block 4\n",
    "![Block 4](img_screenshots_age_sex/block_4.png)"
   ]
  },
  {
   "cell_type": "markdown",
   "id": "cdad9669-7adb-44b7-b99f-0b81e17cbc1f",
   "metadata": {},
   "source": [
    "The model fit status is described by \n",
    "-  AIC (Akaike Information Criterion): Smaller is better.\n",
    "-  SBC (Schwarz Bayesian (Information) Criterion): Smaller is better.\n",
    "-  -2 Log L (negative two times the log-likelihood)\n"
   ]
  },
  {
   "cell_type": "markdown",
   "id": "8743a8b2-74c2-4ef6-b1ba-8446feafb902",
   "metadata": {},
   "source": [
    "### Block 5\n",
    "![Block 5](img_screenshots_age_sex/block_5.png)"
   ]
  },
  {
   "cell_type": "markdown",
   "id": "670547ca-a6ea-40b0-8e21-50d4417047c9",
   "metadata": {},
   "source": [
    "These global tests test the null hypothesis that all regression coefficents are zero.\n",
    "\n",
    "The tests are different chi-square tests."
   ]
  },
  {
   "cell_type": "markdown",
   "id": "2cea3490-b255-48f5-a479-2b340380c718",
   "metadata": {},
   "source": [
    "### Block 6\n",
    "![Block 6](img_screenshots_age_sex/block_6.png)"
   ]
  },
  {
   "cell_type": "markdown",
   "id": "084f2512-b5f0-41ed-a213-4c308bf44b2c",
   "metadata": {},
   "source": [
    "This block provides a global test for categorical variables and their influence.\n",
    "\n",
    "The global chi-square value is equal to the level chi-square value in the next block if the categorical variable is binary."
   ]
  },
  {
   "cell_type": "markdown",
   "id": "30db5cb8-1c58-498a-8602-07ad1e8ffd6c",
   "metadata": {},
   "source": [
    "### Block 7\n",
    "![Block 7](img_screenshots_age_sex/block_7.png)"
   ]
  },
  {
   "cell_type": "markdown",
   "id": "eccbf3b8-a342-4566-86ee-7a57fb8b7ee3",
   "metadata": {},
   "source": [
    "Column 1 \"Parameter\" lists the parameter in the model.\n",
    "\n",
    "Column 2 \"\" gives the level of the Parameter.\n",
    "\n",
    "Column 3 \"DF\" gives the degrees of freedom for every parameter.\n",
    "\n",
    "Column 4 \"Estimate\" lists the regression estimates for every parameter given that the other parameter are held constant.\n",
    "\n",
    "Column 5 \"Standard Error\" gives the standard errors of the individual regression coefficients.\n",
    "\n",
    "Column 6 \"Chi-Square\" tests the null hypothesis that the regression coefficient is zero given that the other predictors are in the model.\n",
    "\n",
    "Column 7 \"Pr > ChiSq\" gives the p-value for the Chi-Square statistic.\n",
    "\n",
    "Column 8 \"Hazard Ratio\" is the exponentiated coefficient as hazard ratio\n",
    "\n",
    "Column 9 \"Label\" is a concatenated parameter and level for categorical variables."
   ]
  },
  {
   "cell_type": "code",
   "execution_count": null,
   "id": "f34833b5-66f0-4a66-a52d-361def63fc05",
   "metadata": {},
   "outputs": [],
   "source": []
  }
 ],
 "metadata": {
  "kernelspec": {
   "display_name": "R 4.3.2",
   "language": "R",
   "name": "ir432"
  },
  "language_info": {
   "codemirror_mode": "r",
   "file_extension": ".r",
   "mimetype": "text/x-r-source",
   "name": "R",
   "pygments_lexer": "r",
   "version": "4.3.2"
  }
 },
 "nbformat": 4,
 "nbformat_minor": 5
}
