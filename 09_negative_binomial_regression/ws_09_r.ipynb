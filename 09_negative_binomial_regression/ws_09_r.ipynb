{
 "cells": [
  {
   "cell_type": "markdown",
   "id": "df8091c6-2036-476c-b540-77db13c8369e",
   "metadata": {},
   "source": [
    "# Working sheet\n",
    "## 09 - Negative binomial regression - Coding of categorical variables\n",
    "V09.01.00 - 2024-02-26"
   ]
  },
  {
   "cell_type": "markdown",
   "id": "8cf7dd5a-4d82-471f-8a41-39e05dbdde32",
   "metadata": {},
   "source": [
    "## Load data\n",
    "Change the path and the filename in the following box."
   ]
  },
  {
   "cell_type": "code",
   "execution_count": 52,
   "id": "09e0948e-f67e-4798-8b78-888edfcf8a78",
   "metadata": {},
   "outputs": [],
   "source": [
    "library(readr)\n",
    "df <- read_csv(\"data/debtrivedi.csv\",\n",
    "                 show_col_types = FALSE)\n",
    "df$poorhlth <- ifelse(df$health == \"poor\", 1, 0)\n",
    "df$exclhlth <- ifelse(df$health == \"excellent\", 1, 0)\n",
    "df$male <- ifelse(df$gender == \"male\", 1, 0)\n",
    "df$privins_n <- ifelse(df$privins == \"yes\", 1, 0)\n"
   ]
  },
  {
   "cell_type": "markdown",
   "id": "5e3e5853-4e74-43f7-b9fb-f9a42816fcad",
   "metadata": {},
   "source": [
    "Look at the structure and the head of the dataset."
   ]
  },
  {
   "cell_type": "code",
   "execution_count": 53,
   "id": "83ec1935",
   "metadata": {},
   "outputs": [
    {
     "name": "stdout",
     "output_type": "stream",
     "text": [
      "spc_tbl_ [4,406 × 23] (S3: spec_tbl_df/tbl_df/tbl/data.frame)\n",
      " $ ofp      : num [1:4406] 5 1 13 16 3 17 9 3 1 0 ...\n",
      " $ ofnp     : num [1:4406] 0 0 0 0 0 0 0 0 0 0 ...\n",
      " $ opp      : num [1:4406] 0 2 0 5 0 0 0 0 0 0 ...\n",
      " $ opnp     : num [1:4406] 0 0 0 0 0 0 0 0 0 0 ...\n",
      " $ emer     : num [1:4406] 0 2 3 1 0 0 0 0 0 0 ...\n",
      " $ hosp     : num [1:4406] 1 0 3 1 0 0 0 0 0 0 ...\n",
      " $ health   : chr [1:4406] \"average\" \"average\" \"poor\" \"poor\" ...\n",
      " $ numchron : num [1:4406] 2 2 4 2 2 5 0 0 0 0 ...\n",
      " $ adldiff  : chr [1:4406] \"no\" \"no\" \"yes\" \"yes\" ...\n",
      " $ region   : chr [1:4406] \"other\" \"other\" \"other\" \"other\" ...\n",
      " $ age      : num [1:4406] 6.9 7.4 6.6 7.6 7.9 6.6 7.5 8.7 7.3 7.8 ...\n",
      " $ black    : chr [1:4406] \"yes\" \"no\" \"yes\" \"no\" ...\n",
      " $ gender   : chr [1:4406] \"male\" \"female\" \"female\" \"male\" ...\n",
      " $ married  : chr [1:4406] \"yes\" \"yes\" \"no\" \"yes\" ...\n",
      " $ school   : num [1:4406] 6 10 10 3 6 7 8 8 8 8 ...\n",
      " $ faminc   : num [1:4406] 2.881 2.748 0.653 0.659 0.659 ...\n",
      " $ employed : chr [1:4406] \"yes\" \"no\" \"no\" \"no\" ...\n",
      " $ privins  : chr [1:4406] \"yes\" \"yes\" \"no\" \"yes\" ...\n",
      " $ medicaid : chr [1:4406] \"no\" \"no\" \"yes\" \"no\" ...\n",
      " $ poorhlth : num [1:4406] 0 0 1 1 0 1 0 0 0 0 ...\n",
      " $ exclhlth : num [1:4406] 0 0 0 0 0 0 0 0 0 0 ...\n",
      " $ male     : num [1:4406] 1 0 0 1 0 0 0 0 0 0 ...\n",
      " $ privins_n: num [1:4406] 1 1 0 1 1 0 1 1 1 1 ...\n",
      " - attr(*, \"spec\")=\n",
      "  .. cols(\n",
      "  ..   ofp = \u001b[32mcol_double()\u001b[39m,\n",
      "  ..   ofnp = \u001b[32mcol_double()\u001b[39m,\n",
      "  ..   opp = \u001b[32mcol_double()\u001b[39m,\n",
      "  ..   opnp = \u001b[32mcol_double()\u001b[39m,\n",
      "  ..   emer = \u001b[32mcol_double()\u001b[39m,\n",
      "  ..   hosp = \u001b[32mcol_double()\u001b[39m,\n",
      "  ..   health = \u001b[31mcol_character()\u001b[39m,\n",
      "  ..   numchron = \u001b[32mcol_double()\u001b[39m,\n",
      "  ..   adldiff = \u001b[31mcol_character()\u001b[39m,\n",
      "  ..   region = \u001b[31mcol_character()\u001b[39m,\n",
      "  ..   age = \u001b[32mcol_double()\u001b[39m,\n",
      "  ..   black = \u001b[31mcol_character()\u001b[39m,\n",
      "  ..   gender = \u001b[31mcol_character()\u001b[39m,\n",
      "  ..   married = \u001b[31mcol_character()\u001b[39m,\n",
      "  ..   school = \u001b[32mcol_double()\u001b[39m,\n",
      "  ..   faminc = \u001b[32mcol_double()\u001b[39m,\n",
      "  ..   employed = \u001b[31mcol_character()\u001b[39m,\n",
      "  ..   privins = \u001b[31mcol_character()\u001b[39m,\n",
      "  ..   medicaid = \u001b[31mcol_character()\u001b[39m\n",
      "  .. )\n",
      " - attr(*, \"problems\")=<externalptr> \n"
     ]
    }
   ],
   "source": [
    "str(df)"
   ]
  },
  {
   "cell_type": "code",
   "execution_count": 54,
   "id": "e9c118a2",
   "metadata": {},
   "outputs": [
    {
     "data": {
      "text/html": [
       "<table class=\"dataframe\">\n",
       "<caption>A tibble: 6 × 23</caption>\n",
       "<thead>\n",
       "\t<tr><th scope=col>ofp</th><th scope=col>ofnp</th><th scope=col>opp</th><th scope=col>opnp</th><th scope=col>emer</th><th scope=col>hosp</th><th scope=col>health</th><th scope=col>numchron</th><th scope=col>adldiff</th><th scope=col>region</th><th scope=col>⋯</th><th scope=col>married</th><th scope=col>school</th><th scope=col>faminc</th><th scope=col>employed</th><th scope=col>privins</th><th scope=col>medicaid</th><th scope=col>poorhlth</th><th scope=col>exclhlth</th><th scope=col>male</th><th scope=col>privins_n</th></tr>\n",
       "\t<tr><th scope=col>&lt;dbl&gt;</th><th scope=col>&lt;dbl&gt;</th><th scope=col>&lt;dbl&gt;</th><th scope=col>&lt;dbl&gt;</th><th scope=col>&lt;dbl&gt;</th><th scope=col>&lt;dbl&gt;</th><th scope=col>&lt;chr&gt;</th><th scope=col>&lt;dbl&gt;</th><th scope=col>&lt;chr&gt;</th><th scope=col>&lt;chr&gt;</th><th scope=col>⋯</th><th scope=col>&lt;chr&gt;</th><th scope=col>&lt;dbl&gt;</th><th scope=col>&lt;dbl&gt;</th><th scope=col>&lt;chr&gt;</th><th scope=col>&lt;chr&gt;</th><th scope=col>&lt;chr&gt;</th><th scope=col>&lt;dbl&gt;</th><th scope=col>&lt;dbl&gt;</th><th scope=col>&lt;dbl&gt;</th><th scope=col>&lt;dbl&gt;</th></tr>\n",
       "</thead>\n",
       "<tbody>\n",
       "\t<tr><td> 5</td><td>0</td><td>0</td><td>0</td><td>0</td><td>1</td><td>average</td><td>2</td><td>no </td><td>other</td><td>⋯</td><td>yes</td><td> 6</td><td>2.8810</td><td>yes</td><td>yes</td><td>no </td><td>0</td><td>0</td><td>1</td><td>1</td></tr>\n",
       "\t<tr><td> 1</td><td>0</td><td>2</td><td>0</td><td>2</td><td>0</td><td>average</td><td>2</td><td>no </td><td>other</td><td>⋯</td><td>yes</td><td>10</td><td>2.7478</td><td>no </td><td>yes</td><td>no </td><td>0</td><td>0</td><td>0</td><td>1</td></tr>\n",
       "\t<tr><td>13</td><td>0</td><td>0</td><td>0</td><td>3</td><td>3</td><td>poor   </td><td>4</td><td>yes</td><td>other</td><td>⋯</td><td>no </td><td>10</td><td>0.6532</td><td>no </td><td>no </td><td>yes</td><td>1</td><td>0</td><td>0</td><td>0</td></tr>\n",
       "\t<tr><td>16</td><td>0</td><td>5</td><td>0</td><td>1</td><td>1</td><td>poor   </td><td>2</td><td>yes</td><td>other</td><td>⋯</td><td>yes</td><td> 3</td><td>0.6588</td><td>no </td><td>yes</td><td>no </td><td>1</td><td>0</td><td>1</td><td>1</td></tr>\n",
       "\t<tr><td> 3</td><td>0</td><td>0</td><td>0</td><td>0</td><td>0</td><td>average</td><td>2</td><td>yes</td><td>other</td><td>⋯</td><td>yes</td><td> 6</td><td>0.6588</td><td>no </td><td>yes</td><td>no </td><td>0</td><td>0</td><td>0</td><td>1</td></tr>\n",
       "\t<tr><td>17</td><td>0</td><td>0</td><td>0</td><td>0</td><td>0</td><td>poor   </td><td>5</td><td>yes</td><td>other</td><td>⋯</td><td>no </td><td> 7</td><td>0.3301</td><td>no </td><td>no </td><td>yes</td><td>1</td><td>0</td><td>0</td><td>0</td></tr>\n",
       "</tbody>\n",
       "</table>\n"
      ],
      "text/latex": [
       "A tibble: 6 × 23\n",
       "\\begin{tabular}{lllllllllllllllllllll}\n",
       " ofp & ofnp & opp & opnp & emer & hosp & health & numchron & adldiff & region & ⋯ & married & school & faminc & employed & privins & medicaid & poorhlth & exclhlth & male & privins\\_n\\\\\n",
       " <dbl> & <dbl> & <dbl> & <dbl> & <dbl> & <dbl> & <chr> & <dbl> & <chr> & <chr> & ⋯ & <chr> & <dbl> & <dbl> & <chr> & <chr> & <chr> & <dbl> & <dbl> & <dbl> & <dbl>\\\\\n",
       "\\hline\n",
       "\t  5 & 0 & 0 & 0 & 0 & 1 & average & 2 & no  & other & ⋯ & yes &  6 & 2.8810 & yes & yes & no  & 0 & 0 & 1 & 1\\\\\n",
       "\t  1 & 0 & 2 & 0 & 2 & 0 & average & 2 & no  & other & ⋯ & yes & 10 & 2.7478 & no  & yes & no  & 0 & 0 & 0 & 1\\\\\n",
       "\t 13 & 0 & 0 & 0 & 3 & 3 & poor    & 4 & yes & other & ⋯ & no  & 10 & 0.6532 & no  & no  & yes & 1 & 0 & 0 & 0\\\\\n",
       "\t 16 & 0 & 5 & 0 & 1 & 1 & poor    & 2 & yes & other & ⋯ & yes &  3 & 0.6588 & no  & yes & no  & 1 & 0 & 1 & 1\\\\\n",
       "\t  3 & 0 & 0 & 0 & 0 & 0 & average & 2 & yes & other & ⋯ & yes &  6 & 0.6588 & no  & yes & no  & 0 & 0 & 0 & 1\\\\\n",
       "\t 17 & 0 & 0 & 0 & 0 & 0 & poor    & 5 & yes & other & ⋯ & no  &  7 & 0.3301 & no  & no  & yes & 1 & 0 & 0 & 0\\\\\n",
       "\\end{tabular}\n"
      ],
      "text/markdown": [
       "\n",
       "A tibble: 6 × 23\n",
       "\n",
       "| ofp &lt;dbl&gt; | ofnp &lt;dbl&gt; | opp &lt;dbl&gt; | opnp &lt;dbl&gt; | emer &lt;dbl&gt; | hosp &lt;dbl&gt; | health &lt;chr&gt; | numchron &lt;dbl&gt; | adldiff &lt;chr&gt; | region &lt;chr&gt; | ⋯ ⋯ | married &lt;chr&gt; | school &lt;dbl&gt; | faminc &lt;dbl&gt; | employed &lt;chr&gt; | privins &lt;chr&gt; | medicaid &lt;chr&gt; | poorhlth &lt;dbl&gt; | exclhlth &lt;dbl&gt; | male &lt;dbl&gt; | privins_n &lt;dbl&gt; |\n",
       "|---|---|---|---|---|---|---|---|---|---|---|---|---|---|---|---|---|---|---|---|---|\n",
       "|  5 | 0 | 0 | 0 | 0 | 1 | average | 2 | no  | other | ⋯ | yes |  6 | 2.8810 | yes | yes | no  | 0 | 0 | 1 | 1 |\n",
       "|  1 | 0 | 2 | 0 | 2 | 0 | average | 2 | no  | other | ⋯ | yes | 10 | 2.7478 | no  | yes | no  | 0 | 0 | 0 | 1 |\n",
       "| 13 | 0 | 0 | 0 | 3 | 3 | poor    | 4 | yes | other | ⋯ | no  | 10 | 0.6532 | no  | no  | yes | 1 | 0 | 0 | 0 |\n",
       "| 16 | 0 | 5 | 0 | 1 | 1 | poor    | 2 | yes | other | ⋯ | yes |  3 | 0.6588 | no  | yes | no  | 1 | 0 | 1 | 1 |\n",
       "|  3 | 0 | 0 | 0 | 0 | 0 | average | 2 | yes | other | ⋯ | yes |  6 | 0.6588 | no  | yes | no  | 0 | 0 | 0 | 1 |\n",
       "| 17 | 0 | 0 | 0 | 0 | 0 | poor    | 5 | yes | other | ⋯ | no  |  7 | 0.3301 | no  | no  | yes | 1 | 0 | 0 | 0 |\n",
       "\n"
      ],
      "text/plain": [
       "  ofp ofnp opp opnp emer hosp health  numchron adldiff region ⋯ married school\n",
       "1  5  0    0   0    0    1    average 2        no      other  ⋯ yes      6    \n",
       "2  1  0    2   0    2    0    average 2        no      other  ⋯ yes     10    \n",
       "3 13  0    0   0    3    3    poor    4        yes     other  ⋯ no      10    \n",
       "4 16  0    5   0    1    1    poor    2        yes     other  ⋯ yes      3    \n",
       "5  3  0    0   0    0    0    average 2        yes     other  ⋯ yes      6    \n",
       "6 17  0    0   0    0    0    poor    5        yes     other  ⋯ no       7    \n",
       "  faminc employed privins medicaid poorhlth exclhlth male privins_n\n",
       "1 2.8810 yes      yes     no       0        0        1    1        \n",
       "2 2.7478 no       yes     no       0        0        0    1        \n",
       "3 0.6532 no       no      yes      1        0        0    0        \n",
       "4 0.6588 no       yes     no       1        0        1    1        \n",
       "5 0.6588 no       yes     no       0        0        0    1        \n",
       "6 0.3301 no       no      yes      1        0        0    0        "
      ]
     },
     "metadata": {},
     "output_type": "display_data"
    }
   ],
   "source": [
    "head(df)"
   ]
  },
  {
   "cell_type": "raw",
   "id": "59877f7e",
   "metadata": {},
   "source": [
    "Look at frequencies and descriptive statistics.\n",
    "\n",
    "The summary() function is the first approach.\n",
    "\n",
    "describe() from the Hmisc package is an alternative."
   ]
  },
  {
   "cell_type": "code",
   "execution_count": 55,
   "id": "f4f40f98",
   "metadata": {},
   "outputs": [
    {
     "data": {
      "text/plain": [
       "      ofp              ofnp              opp                opnp         \n",
       " Min.   : 0.000   Min.   :  0.000   Min.   :  0.0000   Min.   :  0.0000  \n",
       " 1st Qu.: 1.000   1st Qu.:  0.000   1st Qu.:  0.0000   1st Qu.:  0.0000  \n",
       " Median : 4.000   Median :  0.000   Median :  0.0000   Median :  0.0000  \n",
       " Mean   : 5.774   Mean   :  1.618   Mean   :  0.7508   Mean   :  0.5361  \n",
       " 3rd Qu.: 8.000   3rd Qu.:  1.000   3rd Qu.:  0.0000   3rd Qu.:  0.0000  \n",
       " Max.   :89.000   Max.   :104.000   Max.   :141.0000   Max.   :155.0000  \n",
       "      emer              hosp          health             numchron    \n",
       " Min.   : 0.0000   Min.   :0.000   Length:4406        Min.   :0.000  \n",
       " 1st Qu.: 0.0000   1st Qu.:0.000   Class :character   1st Qu.:1.000  \n",
       " Median : 0.0000   Median :0.000   Mode  :character   Median :1.000  \n",
       " Mean   : 0.2635   Mean   :0.296                      Mean   :1.542  \n",
       " 3rd Qu.: 0.0000   3rd Qu.:0.000                      3rd Qu.:2.000  \n",
       " Max.   :12.0000   Max.   :8.000                      Max.   :8.000  \n",
       "   adldiff             region               age            black          \n",
       " Length:4406        Length:4406        Min.   : 6.600   Length:4406       \n",
       " Class :character   Class :character   1st Qu.: 6.900   Class :character  \n",
       " Mode  :character   Mode  :character   Median : 7.300   Mode  :character  \n",
       "                                       Mean   : 7.402                     \n",
       "                                       3rd Qu.: 7.800                     \n",
       "                                       Max.   :10.900                     \n",
       "    gender            married              school          faminc       \n",
       " Length:4406        Length:4406        Min.   : 0.00   Min.   :-1.0125  \n",
       " Class :character   Class :character   1st Qu.: 8.00   1st Qu.: 0.9122  \n",
       " Mode  :character   Mode  :character   Median :11.00   Median : 1.6982  \n",
       "                                       Mean   :10.29   Mean   : 2.5271  \n",
       "                                       3rd Qu.:12.00   3rd Qu.: 3.1728  \n",
       "                                       Max.   :18.00   Max.   :54.8351  \n",
       "   employed           privins            medicaid            poorhlth     \n",
       " Length:4406        Length:4406        Length:4406        Min.   :0.0000  \n",
       " Class :character   Class :character   Class :character   1st Qu.:0.0000  \n",
       " Mode  :character   Mode  :character   Mode  :character   Median :0.0000  \n",
       "                                                          Mean   :0.1257  \n",
       "                                                          3rd Qu.:0.0000  \n",
       "                                                          Max.   :1.0000  \n",
       "    exclhlth            male          privins_n     \n",
       " Min.   :0.00000   Min.   :0.0000   Min.   :0.0000  \n",
       " 1st Qu.:0.00000   1st Qu.:0.0000   1st Qu.:1.0000  \n",
       " Median :0.00000   Median :0.0000   Median :1.0000  \n",
       " Mean   :0.07785   Mean   :0.4035   Mean   :0.7764  \n",
       " 3rd Qu.:0.00000   3rd Qu.:1.0000   3rd Qu.:1.0000  \n",
       " Max.   :1.00000   Max.   :1.0000   Max.   :1.0000  "
      ]
     },
     "metadata": {},
     "output_type": "display_data"
    }
   ],
   "source": [
    "summary(df)"
   ]
  },
  {
   "cell_type": "code",
   "execution_count": 56,
   "id": "5ff360dd",
   "metadata": {},
   "outputs": [
    {
     "data": {
      "text/plain": [
       "df \n",
       "\n",
       " 23  Variables      4406  Observations\n",
       "--------------------------------------------------------------------------------\n",
       "ofp \n",
       "       n  missing distinct     Info     Mean      Gmd      .05      .10 \n",
       "    4406        0       60    0.992    5.774    6.227        0        0 \n",
       "     .25      .50      .75      .90      .95 \n",
       "       1        4        8       13       17 \n",
       "\n",
       "lowest :  0  1  2  3  4, highest: 63 65 66 68 89\n",
       "--------------------------------------------------------------------------------\n",
       "ofnp \n",
       "       n  missing distinct     Info     Mean      Gmd      .05      .10 \n",
       "    4406        0       51    0.681    1.618    2.829        0        0 \n",
       "     .25      .50      .75      .90      .95 \n",
       "       0        0        1        4        8 \n",
       "\n",
       "lowest :   0   1   2   3   4, highest:  66  71  77  78 104\n",
       "--------------------------------------------------------------------------------\n",
       "opp \n",
       "       n  missing distinct     Info     Mean      Gmd      .05      .10 \n",
       "    4406        0       37     0.54   0.7508    1.353        0        0 \n",
       "     .25      .50      .75      .90      .95 \n",
       "       0        0        0        2        3 \n",
       "\n",
       "lowest :   0   1   2   3   4, highest:  40  55  61  71 141\n",
       "--------------------------------------------------------------------------------\n",
       "opnp \n",
       "       n  missing distinct     Info     Mean      Gmd      .05      .10 \n",
       "    4406        0       35     0.41   0.5361    1.005        0        0 \n",
       "     .25      .50      .75      .90      .95 \n",
       "       0        0        0        1        2 \n",
       "\n",
       "lowest :   0   1   2   3   4, highest:  49  51  53 113 155\n",
       "--------------------------------------------------------------------------------\n",
       "emer \n",
       "       n  missing distinct     Info     Mean      Gmd      .05      .10 \n",
       "    4406        0       11    0.451   0.2635    0.455        0        0 \n",
       "     .25      .50      .75      .90      .95 \n",
       "       0        0        0        1        1 \n",
       "                                                                            \n",
       "Value          0     1     2     3     4     5     6     7     8    11    12\n",
       "Frequency   3602   588   137    54    11     7     2     1     2     1     1\n",
       "Proportion 0.818 0.133 0.031 0.012 0.002 0.002 0.000 0.000 0.000 0.000 0.000\n",
       "\n",
       "For the frequency table, variable is rounded to the nearest 0\n",
       "--------------------------------------------------------------------------------\n",
       "hosp \n",
       "       n  missing distinct     Info     Mean      Gmd \n",
       "    4406        0        9    0.478    0.296   0.5066 \n",
       "                                                                \n",
       "Value          0     1     2     3     4     5     6     7     8\n",
       "Frequency   3541   599   176    48    20    12     5     1     4\n",
       "Proportion 0.804 0.136 0.040 0.011 0.005 0.003 0.001 0.000 0.001\n",
       "\n",
       "For the frequency table, variable is rounded to the nearest 0\n",
       "--------------------------------------------------------------------------------\n",
       "health \n",
       "       n  missing distinct \n",
       "    4406        0        3 \n",
       "                                        \n",
       "Value        average excellent      poor\n",
       "Frequency       3509       343       554\n",
       "Proportion     0.796     0.078     0.126\n",
       "--------------------------------------------------------------------------------\n",
       "numchron \n",
       "       n  missing distinct     Info     Mean      Gmd \n",
       "    4406        0        9    0.936    1.542    1.436 \n",
       "                                                                \n",
       "Value          0     1     2     3     4     5     6     7     8\n",
       "Frequency   1025  1498   968   525   220   127    34     6     3\n",
       "Proportion 0.233 0.340 0.220 0.119 0.050 0.029 0.008 0.001 0.001\n",
       "\n",
       "For the frequency table, variable is rounded to the nearest 0\n",
       "--------------------------------------------------------------------------------\n",
       "adldiff \n",
       "       n  missing distinct \n",
       "    4406        0        2 \n",
       "                      \n",
       "Value         no   yes\n",
       "Frequency   3507   899\n",
       "Proportion 0.796 0.204\n",
       "--------------------------------------------------------------------------------\n",
       "region \n",
       "       n  missing distinct \n",
       "    4406        0        4 \n",
       "                                          \n",
       "Value      midwest noreast   other    west\n",
       "Frequency     1157     837    1614     798\n",
       "Proportion   0.263   0.190   0.366   0.181\n",
       "--------------------------------------------------------------------------------\n",
       "age \n",
       "       n  missing distinct     Info     Mean      Gmd      .05      .10 \n",
       "    4406        0       36    0.997    7.402   0.6995      6.6      6.7 \n",
       "     .25      .50      .75      .90      .95 \n",
       "     6.9      7.3      7.8      8.3      8.6 \n",
       "\n",
       "lowest : 6.6  6.7  6.8  6.9  7   , highest: 9.7  9.8  9.9  10.2 10.9\n",
       "--------------------------------------------------------------------------------\n",
       "black \n",
       "       n  missing distinct \n",
       "    4406        0        2 \n",
       "                      \n",
       "Value         no   yes\n",
       "Frequency   3890   516\n",
       "Proportion 0.883 0.117\n",
       "--------------------------------------------------------------------------------\n",
       "gender \n",
       "       n  missing distinct \n",
       "    4406        0        2 \n",
       "                        \n",
       "Value      female   male\n",
       "Frequency    2628   1778\n",
       "Proportion  0.596  0.404\n",
       "--------------------------------------------------------------------------------\n",
       "married \n",
       "       n  missing distinct \n",
       "    4406        0        2 \n",
       "                      \n",
       "Value         no   yes\n",
       "Frequency   2000  2406\n",
       "Proportion 0.454 0.546\n",
       "--------------------------------------------------------------------------------\n",
       "school \n",
       "       n  missing distinct     Info     Mean      Gmd      .05      .10 \n",
       "    4406        0       19    0.972    10.29    4.114        3        6 \n",
       "     .25      .50      .75      .90      .95 \n",
       "       8       11       12       15       16 \n",
       "                                                                            \n",
       "Value          0     1     2     3     4     5     6     7     8     9    10\n",
       "Frequency    103    13    38    71   100   103   173   221   684   234   289\n",
       "Proportion 0.023 0.003 0.009 0.016 0.023 0.023 0.039 0.050 0.155 0.053 0.066\n",
       "                                                          \n",
       "Value         11    12    13    14    15    16    17    18\n",
       "Frequency    227  1252   172   238    86   250    46   106\n",
       "Proportion 0.052 0.284 0.039 0.054 0.020 0.057 0.010 0.024\n",
       "\n",
       "For the frequency table, variable is rounded to the nearest 0\n",
       "--------------------------------------------------------------------------------\n",
       "faminc \n",
       "       n  missing distinct     Info     Mean      Gmd      .05      .10 \n",
       "    4406        0     3015        1    2.527    2.389   0.4320   0.5422 \n",
       "     .25      .50      .75      .90      .95 \n",
       "  0.9122   1.6982   3.1728   5.2851   7.0345 \n",
       "\n",
       "lowest : -1.0125 -0.818  0       0.0014  0.0072 \n",
       "highest: 23.0272 24.2161 36.0024 41.7596 54.8351\n",
       "--------------------------------------------------------------------------------\n",
       "employed \n",
       "       n  missing distinct \n",
       "    4406        0        2 \n",
       "                      \n",
       "Value         no   yes\n",
       "Frequency   3951   455\n",
       "Proportion 0.897 0.103\n",
       "--------------------------------------------------------------------------------\n",
       "privins \n",
       "       n  missing distinct \n",
       "    4406        0        2 \n",
       "                      \n",
       "Value         no   yes\n",
       "Frequency    985  3421\n",
       "Proportion 0.224 0.776\n",
       "--------------------------------------------------------------------------------\n",
       "medicaid \n",
       "       n  missing distinct \n",
       "    4406        0        2 \n",
       "                      \n",
       "Value         no   yes\n",
       "Frequency   4004   402\n",
       "Proportion 0.909 0.091\n",
       "--------------------------------------------------------------------------------\n",
       "poorhlth \n",
       "       n  missing distinct     Info      Sum     Mean      Gmd \n",
       "    4406        0        2     0.33      554   0.1257   0.2199 \n",
       "\n",
       "--------------------------------------------------------------------------------\n",
       "exclhlth \n",
       "       n  missing distinct     Info      Sum     Mean      Gmd \n",
       "    4406        0        2    0.215      343  0.07785   0.1436 \n",
       "\n",
       "--------------------------------------------------------------------------------\n",
       "male \n",
       "       n  missing distinct     Info      Sum     Mean      Gmd \n",
       "    4406        0        2    0.722     1778   0.4035   0.4815 \n",
       "\n",
       "--------------------------------------------------------------------------------\n",
       "privins_n \n",
       "       n  missing distinct     Info      Sum     Mean      Gmd \n",
       "    4406        0        2    0.521     3421   0.7764   0.3472 \n",
       "\n",
       "--------------------------------------------------------------------------------"
      ]
     },
     "metadata": {},
     "output_type": "display_data"
    }
   ],
   "source": [
    "library(Hmisc)\n",
    "describe(df)"
   ]
  },
  {
   "cell_type": "markdown",
   "id": "a127223f",
   "metadata": {},
   "source": [
    "Plot the variables of interest with a scatter plot matrix from package GGally.\n"
   ]
  },
  {
   "cell_type": "code",
   "execution_count": 57,
   "id": "943c4728",
   "metadata": {},
   "outputs": [
    {
     "data": {
      "image/png": "[encoded data removed]",
      "text/plain": [
       "plot without title"
      ]
     },
     "metadata": {
      "image/png": {
       "height": 420,
       "width": 420
      }
     },
     "output_type": "display_data"
    }
   ],
   "source": [
    "library(GGally)\n",
    "library(tidyverse)\n",
    "df1 <- df %>% dplyr::select(hosp, exclhlth, poorhlth, numchron, age, male, school, privins_n)\n",
    "ggpairs(df1)\n"
   ]
  },
  {
   "cell_type": "markdown",
   "id": "1aa6ac41",
   "metadata": {},
   "source": [
    "## Assumptions of negative binomial regression\n",
    "\n",
    "- Linearity in model parameters\n",
    "- Independence of individual observations\n",
    "- Multiplicative effects of independence variables\n",
    "- Conditional variance of the outcome variable might be greater than its conditional mean \n",
    "- Underdispersion is not handled by the model (conditional variance is smaller than the conditional mean).\n"
   ]
  },
  {
   "cell_type": "markdown",
   "id": "e93387a5",
   "metadata": {},
   "source": [
    "TODO: Check completeness of the assumptions and add example code for the checks."
   ]
  },
  {
   "cell_type": "markdown",
   "id": "639a19ea",
   "metadata": {},
   "source": [
    "## Coding of categorical variables\n",
    "\n",
    "- health\n",
    "- gender\n",
    "- privins\n",
    "\n",
    "If using character variables, the first level of the alphabetic sort order will be regardes as reference level.\n",
    "\n",
    "For some functions the character variable has to be converted to a factor, e.g., for the contrasts() fucntion\n"
   ]
  },
  {
   "cell_type": "code",
   "execution_count": 58,
   "id": "647093f9",
   "metadata": {},
   "outputs": [
    {
     "data": {
      "text/plain": [
       "\n",
       "  average excellent      poor \n",
       "     3509       343       554 "
      ]
     },
     "metadata": {},
     "output_type": "display_data"
    },
    {
     "data": {
      "text/plain": [
       "\n",
       "female   male \n",
       "  2628   1778 "
      ]
     },
     "metadata": {},
     "output_type": "display_data"
    },
    {
     "data": {
      "text/plain": [
       "\n",
       "  no  yes \n",
       " 985 3421 "
      ]
     },
     "metadata": {},
     "output_type": "display_data"
    }
   ],
   "source": [
    "table(df$health)\n",
    "table(df$gender)\n",
    "table(df$privins)"
   ]
  },
  {
   "cell_type": "code",
   "execution_count": 59,
   "id": "f71029e7",
   "metadata": {},
   "outputs": [
    {
     "data": {
      "text/html": [
       "<table class=\"dataframe\">\n",
       "<caption>A matrix: 3 × 2 of type dbl</caption>\n",
       "<thead>\n",
       "\t<tr><th></th><th scope=col>excellent</th><th scope=col>poor</th></tr>\n",
       "</thead>\n",
       "<tbody>\n",
       "\t<tr><th scope=row>average</th><td>0</td><td>0</td></tr>\n",
       "\t<tr><th scope=row>excellent</th><td>1</td><td>0</td></tr>\n",
       "\t<tr><th scope=row>poor</th><td>0</td><td>1</td></tr>\n",
       "</tbody>\n",
       "</table>\n"
      ],
      "text/latex": [
       "A matrix: 3 × 2 of type dbl\n",
       "\\begin{tabular}{r|ll}\n",
       "  & excellent & poor\\\\\n",
       "\\hline\n",
       "\taverage & 0 & 0\\\\\n",
       "\texcellent & 1 & 0\\\\\n",
       "\tpoor & 0 & 1\\\\\n",
       "\\end{tabular}\n"
      ],
      "text/markdown": [
       "\n",
       "A matrix: 3 × 2 of type dbl\n",
       "\n",
       "| <!--/--> | excellent | poor |\n",
       "|---|---|---|\n",
       "| average | 0 | 0 |\n",
       "| excellent | 1 | 0 |\n",
       "| poor | 0 | 1 |\n",
       "\n"
      ],
      "text/plain": [
       "          excellent poor\n",
       "average   0         0   \n",
       "excellent 1         0   \n",
       "poor      0         1   "
      ]
     },
     "metadata": {},
     "output_type": "display_data"
    },
    {
     "data": {
      "text/html": [
       "<table class=\"dataframe\">\n",
       "<caption>A matrix: 2 × 1 of type dbl</caption>\n",
       "<thead>\n",
       "\t<tr><th></th><th scope=col>male</th></tr>\n",
       "</thead>\n",
       "<tbody>\n",
       "\t<tr><th scope=row>female</th><td>0</td></tr>\n",
       "\t<tr><th scope=row>male</th><td>1</td></tr>\n",
       "</tbody>\n",
       "</table>\n"
      ],
      "text/latex": [
       "A matrix: 2 × 1 of type dbl\n",
       "\\begin{tabular}{r|l}\n",
       "  & male\\\\\n",
       "\\hline\n",
       "\tfemale & 0\\\\\n",
       "\tmale & 1\\\\\n",
       "\\end{tabular}\n"
      ],
      "text/markdown": [
       "\n",
       "A matrix: 2 × 1 of type dbl\n",
       "\n",
       "| <!--/--> | male |\n",
       "|---|---|\n",
       "| female | 0 |\n",
       "| male | 1 |\n",
       "\n"
      ],
      "text/plain": [
       "       male\n",
       "female 0   \n",
       "male   1   "
      ]
     },
     "metadata": {},
     "output_type": "display_data"
    },
    {
     "data": {
      "text/html": [
       "<table class=\"dataframe\">\n",
       "<caption>A matrix: 2 × 1 of type dbl</caption>\n",
       "<thead>\n",
       "\t<tr><th></th><th scope=col>yes</th></tr>\n",
       "</thead>\n",
       "<tbody>\n",
       "\t<tr><th scope=row>no</th><td>0</td></tr>\n",
       "\t<tr><th scope=row>yes</th><td>1</td></tr>\n",
       "</tbody>\n",
       "</table>\n"
      ],
      "text/latex": [
       "A matrix: 2 × 1 of type dbl\n",
       "\\begin{tabular}{r|l}\n",
       "  & yes\\\\\n",
       "\\hline\n",
       "\tno & 0\\\\\n",
       "\tyes & 1\\\\\n",
       "\\end{tabular}\n"
      ],
      "text/markdown": [
       "\n",
       "A matrix: 2 × 1 of type dbl\n",
       "\n",
       "| <!--/--> | yes |\n",
       "|---|---|\n",
       "| no | 0 |\n",
       "| yes | 1 |\n",
       "\n"
      ],
      "text/plain": [
       "    yes\n",
       "no  0  \n",
       "yes 1  "
      ]
     },
     "metadata": {},
     "output_type": "display_data"
    }
   ],
   "source": [
    "contrasts(as.factor(df$health))\n",
    "contrasts(as.factor(df$gender))\n",
    "contrasts(as.factor(df$privins))"
   ]
  },
  {
   "cell_type": "markdown",
   "id": "30121cef",
   "metadata": {},
   "source": [
    "Dummy coding is the default coding."
   ]
  },
  {
   "cell_type": "markdown",
   "id": "b985b434",
   "metadata": {},
   "source": [
    "## Fit the model\n"
   ]
  },
  {
   "cell_type": "code",
   "execution_count": 60,
   "id": "0ef7762f",
   "metadata": {},
   "outputs": [],
   "source": [
    "library(MASS)\n",
    "library(broom)\n",
    "my_glm <- glm.nb(hosp ~ health + numchron + age + gender + school + privins, data = df)"
   ]
  },
  {
   "cell_type": "markdown",
   "id": "5fcf9f00-3a07-4e34-805c-de0f95d4d76a",
   "metadata": {},
   "source": [
    "## Summary of the model"
   ]
  },
  {
   "cell_type": "code",
   "execution_count": 61,
   "id": "cd641ba3",
   "metadata": {},
   "outputs": [
    {
     "data": {
      "text/plain": [
       "\n",
       "Call:\n",
       "glm.nb(formula = hosp ~ health + numchron + age + gender + school + \n",
       "    privins, data = df, init.theta = 0.5660185253, link = log)\n",
       "\n",
       "Coefficients:\n",
       "                 Estimate Std. Error z value Pr(>|z|)    \n",
       "(Intercept)     -3.752640   0.441908  -8.492  < 2e-16 ***\n",
       "healthexcellent -0.697875   0.193151  -3.613 0.000303 ***\n",
       "healthpoor       0.613926   0.095217   6.448 1.14e-10 ***\n",
       "numchron         0.289418   0.025414  11.388  < 2e-16 ***\n",
       "age              0.238444   0.054835   4.348 1.37e-05 ***\n",
       "gendermale       0.153862   0.072648   2.118 0.034181 *  \n",
       "school          -0.002271   0.010192  -0.223 0.823643    \n",
       "privinsyes       0.093922   0.090425   1.039 0.298957    \n",
       "---\n",
       "Signif. codes:  0 '***' 0.001 '**' 0.01 '*' 0.05 '.' 0.1 ' ' 1\n",
       "\n",
       "(Dispersion parameter for Negative Binomial(0.566) family taken to be 1)\n",
       "\n",
       "    Null deviance: 2879.7  on 4405  degrees of freedom\n",
       "Residual deviance: 2547.9  on 4398  degrees of freedom\n",
       "AIC: 5731.1\n",
       "\n",
       "Number of Fisher Scoring iterations: 1\n",
       "\n",
       "\n",
       "              Theta:  0.5660 \n",
       "          Std. Err.:  0.0513 \n",
       "\n",
       " 2 x log-likelihood:  -5713.1250 "
      ]
     },
     "metadata": {},
     "output_type": "display_data"
    }
   ],
   "source": [
    "summary(my_glm)"
   ]
  },
  {
   "cell_type": "markdown",
   "id": "6c30fbba",
   "metadata": {},
   "source": [
    "## Estimates"
   ]
  },
  {
   "cell_type": "code",
   "execution_count": 62,
   "id": "9ca5cc47",
   "metadata": {},
   "outputs": [
    {
     "data": {
      "text/html": [
       "<table class=\"dataframe\">\n",
       "<caption>A tibble: 8 × 5</caption>\n",
       "<thead>\n",
       "\t<tr><th scope=col>term</th><th scope=col>estimate</th><th scope=col>std.error</th><th scope=col>statistic</th><th scope=col>p.value</th></tr>\n",
       "\t<tr><th scope=col>&lt;chr&gt;</th><th scope=col>&lt;dbl&gt;</th><th scope=col>&lt;dbl&gt;</th><th scope=col>&lt;dbl&gt;</th><th scope=col>&lt;dbl&gt;</th></tr>\n",
       "</thead>\n",
       "<tbody>\n",
       "\t<tr><td>(Intercept)    </td><td>-3.752639734</td><td>0.44190797</td><td>-8.4919032</td><td>2.032803e-17</td></tr>\n",
       "\t<tr><td>healthexcellent</td><td>-0.697874635</td><td>0.19315090</td><td>-3.6131058</td><td>3.025512e-04</td></tr>\n",
       "\t<tr><td>healthpoor     </td><td> 0.613926301</td><td>0.09521661</td><td> 6.4476805</td><td>1.135749e-10</td></tr>\n",
       "\t<tr><td>numchron       </td><td> 0.289418299</td><td>0.02541425</td><td>11.3880328</td><td>4.796974e-30</td></tr>\n",
       "\t<tr><td>age            </td><td> 0.238444463</td><td>0.05483476</td><td> 4.3484178</td><td>1.371232e-05</td></tr>\n",
       "\t<tr><td>gendermale     </td><td> 0.153862333</td><td>0.07264766</td><td> 2.1179256</td><td>3.418137e-02</td></tr>\n",
       "\t<tr><td>school         </td><td>-0.002271456</td><td>0.01019223</td><td>-0.2228615</td><td>8.236433e-01</td></tr>\n",
       "\t<tr><td>privinsyes     </td><td> 0.093922247</td><td>0.09042523</td><td> 1.0386730</td><td>2.989568e-01</td></tr>\n",
       "</tbody>\n",
       "</table>\n"
      ],
      "text/latex": [
       "A tibble: 8 × 5\n",
       "\\begin{tabular}{lllll}\n",
       " term & estimate & std.error & statistic & p.value\\\\\n",
       " <chr> & <dbl> & <dbl> & <dbl> & <dbl>\\\\\n",
       "\\hline\n",
       "\t (Intercept)     & -3.752639734 & 0.44190797 & -8.4919032 & 2.032803e-17\\\\\n",
       "\t healthexcellent & -0.697874635 & 0.19315090 & -3.6131058 & 3.025512e-04\\\\\n",
       "\t healthpoor      &  0.613926301 & 0.09521661 &  6.4476805 & 1.135749e-10\\\\\n",
       "\t numchron        &  0.289418299 & 0.02541425 & 11.3880328 & 4.796974e-30\\\\\n",
       "\t age             &  0.238444463 & 0.05483476 &  4.3484178 & 1.371232e-05\\\\\n",
       "\t gendermale      &  0.153862333 & 0.07264766 &  2.1179256 & 3.418137e-02\\\\\n",
       "\t school          & -0.002271456 & 0.01019223 & -0.2228615 & 8.236433e-01\\\\\n",
       "\t privinsyes      &  0.093922247 & 0.09042523 &  1.0386730 & 2.989568e-01\\\\\n",
       "\\end{tabular}\n"
      ],
      "text/markdown": [
       "\n",
       "A tibble: 8 × 5\n",
       "\n",
       "| term &lt;chr&gt; | estimate &lt;dbl&gt; | std.error &lt;dbl&gt; | statistic &lt;dbl&gt; | p.value &lt;dbl&gt; |\n",
       "|---|---|---|---|---|\n",
       "| (Intercept)     | -3.752639734 | 0.44190797 | -8.4919032 | 2.032803e-17 |\n",
       "| healthexcellent | -0.697874635 | 0.19315090 | -3.6131058 | 3.025512e-04 |\n",
       "| healthpoor      |  0.613926301 | 0.09521661 |  6.4476805 | 1.135749e-10 |\n",
       "| numchron        |  0.289418299 | 0.02541425 | 11.3880328 | 4.796974e-30 |\n",
       "| age             |  0.238444463 | 0.05483476 |  4.3484178 | 1.371232e-05 |\n",
       "| gendermale      |  0.153862333 | 0.07264766 |  2.1179256 | 3.418137e-02 |\n",
       "| school          | -0.002271456 | 0.01019223 | -0.2228615 | 8.236433e-01 |\n",
       "| privinsyes      |  0.093922247 | 0.09042523 |  1.0386730 | 2.989568e-01 |\n",
       "\n"
      ],
      "text/plain": [
       "  term            estimate     std.error  statistic  p.value     \n",
       "1 (Intercept)     -3.752639734 0.44190797 -8.4919032 2.032803e-17\n",
       "2 healthexcellent -0.697874635 0.19315090 -3.6131058 3.025512e-04\n",
       "3 healthpoor       0.613926301 0.09521661  6.4476805 1.135749e-10\n",
       "4 numchron         0.289418299 0.02541425 11.3880328 4.796974e-30\n",
       "5 age              0.238444463 0.05483476  4.3484178 1.371232e-05\n",
       "6 gendermale       0.153862333 0.07264766  2.1179256 3.418137e-02\n",
       "7 school          -0.002271456 0.01019223 -0.2228615 8.236433e-01\n",
       "8 privinsyes       0.093922247 0.09042523  1.0386730 2.989568e-01"
      ]
     },
     "metadata": {},
     "output_type": "display_data"
    }
   ],
   "source": [
    "tidy(my_glm)"
   ]
  },
  {
   "cell_type": "markdown",
   "id": "3175b5ff",
   "metadata": {},
   "source": [
    "## Model"
   ]
  },
  {
   "cell_type": "code",
   "execution_count": 63,
   "id": "a8b1d801",
   "metadata": {},
   "outputs": [
    {
     "data": {
      "text/html": [
       "<table class=\"dataframe\">\n",
       "<caption>A tibble: 1 × 8</caption>\n",
       "<thead>\n",
       "\t<tr><th scope=col>null.deviance</th><th scope=col>df.null</th><th scope=col>logLik</th><th scope=col>AIC</th><th scope=col>BIC</th><th scope=col>deviance</th><th scope=col>df.residual</th><th scope=col>nobs</th></tr>\n",
       "\t<tr><th scope=col>&lt;dbl&gt;</th><th scope=col>&lt;int&gt;</th><th scope=col>&lt;logLik&gt;</th><th scope=col>&lt;dbl&gt;</th><th scope=col>&lt;dbl&gt;</th><th scope=col>&lt;dbl&gt;</th><th scope=col>&lt;int&gt;</th><th scope=col>&lt;int&gt;</th></tr>\n",
       "</thead>\n",
       "<tbody>\n",
       "\t<tr><td>2879.693</td><td>4405</td><td>-2856.562</td><td>5731.125</td><td>5788.641</td><td>2547.901</td><td>4398</td><td>4406</td></tr>\n",
       "</tbody>\n",
       "</table>\n"
      ],
      "text/latex": [
       "A tibble: 1 × 8\n",
       "\\begin{tabular}{llllllll}\n",
       " null.deviance & df.null & logLik & AIC & BIC & deviance & df.residual & nobs\\\\\n",
       " <dbl> & <int> & <logLik> & <dbl> & <dbl> & <dbl> & <int> & <int>\\\\\n",
       "\\hline\n",
       "\t 2879.693 & 4405 & -2856.562 & 5731.125 & 5788.641 & 2547.901 & 4398 & 4406\\\\\n",
       "\\end{tabular}\n"
      ],
      "text/markdown": [
       "\n",
       "A tibble: 1 × 8\n",
       "\n",
       "| null.deviance &lt;dbl&gt; | df.null &lt;int&gt; | logLik &lt;logLik&gt; | AIC &lt;dbl&gt; | BIC &lt;dbl&gt; | deviance &lt;dbl&gt; | df.residual &lt;int&gt; | nobs &lt;int&gt; |\n",
       "|---|---|---|---|---|---|---|---|\n",
       "| 2879.693 | 4405 | -2856.562 | 5731.125 | 5788.641 | 2547.901 | 4398 | 4406 |\n",
       "\n"
      ],
      "text/plain": [
       "  null.deviance df.null logLik    AIC      BIC      deviance df.residual nobs\n",
       "1 2879.693      4405    -2856.562 5731.125 5788.641 2547.901 4398        4406"
      ]
     },
     "metadata": {},
     "output_type": "display_data"
    }
   ],
   "source": [
    "glance(my_glm)"
   ]
  },
  {
   "cell_type": "markdown",
   "id": "61759f7d",
   "metadata": {},
   "source": [
    "## Residuals\n",
    "\n",
    "Handle with care because the negative binomial regression is not yet handled by the augment() function."
   ]
  },
  {
   "cell_type": "code",
   "execution_count": 64,
   "id": "831bdeff",
   "metadata": {},
   "outputs": [
    {
     "data": {
      "text/html": [
       "<table class=\"dataframe\">\n",
       "<caption>A tibble: 6 × 13</caption>\n",
       "<thead>\n",
       "\t<tr><th scope=col>hosp</th><th scope=col>health</th><th scope=col>numchron</th><th scope=col>age</th><th scope=col>gender</th><th scope=col>school</th><th scope=col>privins</th><th scope=col>.fitted</th><th scope=col>.resid</th><th scope=col>.hat</th><th scope=col>.sigma</th><th scope=col>.cooksd</th><th scope=col>.std.resid</th></tr>\n",
       "\t<tr><th scope=col>&lt;dbl&gt;</th><th scope=col>&lt;chr&gt;</th><th scope=col>&lt;dbl&gt;</th><th scope=col>&lt;dbl&gt;</th><th scope=col>&lt;chr&gt;</th><th scope=col>&lt;dbl&gt;</th><th scope=col>&lt;chr&gt;</th><th scope=col>&lt;dbl&gt;</th><th scope=col>&lt;dbl&gt;</th><th scope=col>&lt;dbl&gt;</th><th scope=col>&lt;dbl&gt;</th><th scope=col>&lt;dbl&gt;</th><th scope=col>&lt;dbl&gt;</th></tr>\n",
       "</thead>\n",
       "<tbody>\n",
       "\t<tr><td>1</td><td>average</td><td>2</td><td>6.9</td><td>male  </td><td> 6</td><td>yes</td><td>-1.2943805</td><td> 0.7988543</td><td>0.0013302064</td><td>0.7611296</td><td>2.159866e-04</td><td> 0.7993861</td></tr>\n",
       "\t<tr><td>0</td><td>average</td><td>2</td><td>7.4</td><td>female</td><td>10</td><td>yes</td><td>-1.3381064</td><td>-0.6565853</td><td>0.0005691332</td><td>0.7611606</td><td>1.276725e-05</td><td>-0.6567722</td></tr>\n",
       "\t<tr><td>3</td><td>poor   </td><td>4</td><td>6.6</td><td>female</td><td>10</td><td>no </td><td>-0.4300213</td><td> 1.2253887</td><td>0.0044343560</td><td>0.7609997</td><td>2.208121e-03</td><td> 1.2281146</td></tr>\n",
       "\t<tr><td>1</td><td>poor   </td><td>2</td><td>7.6</td><td>male  </td><td> 3</td><td>yes</td><td>-0.5067287</td><td> 0.3103212</td><td>0.0040982203</td><td>0.7612106</td><td>6.563042e-05</td><td> 0.3109590</td></tr>\n",
       "\t<tr><td>0</td><td>average</td><td>2</td><td>7.9</td><td>female</td><td> 6</td><td>yes</td><td>-1.2097984</td><td>-0.6922080</td><td>0.0011475285</td><td>0.7611534</td><td>2.808279e-05</td><td>-0.6926056</td></tr>\n",
       "\t<tr><td>0</td><td>poor   </td><td>5</td><td>6.6</td><td>female</td><td> 7</td><td>no </td><td>-0.1337887</td><td>-1.0284394</td><td>0.0055505315</td><td>0.7610661</td><td>2.411040e-04</td><td>-1.0313055</td></tr>\n",
       "</tbody>\n",
       "</table>\n"
      ],
      "text/latex": [
       "A tibble: 6 × 13\n",
       "\\begin{tabular}{lllllllllllll}\n",
       " hosp & health & numchron & age & gender & school & privins & .fitted & .resid & .hat & .sigma & .cooksd & .std.resid\\\\\n",
       " <dbl> & <chr> & <dbl> & <dbl> & <chr> & <dbl> & <chr> & <dbl> & <dbl> & <dbl> & <dbl> & <dbl> & <dbl>\\\\\n",
       "\\hline\n",
       "\t 1 & average & 2 & 6.9 & male   &  6 & yes & -1.2943805 &  0.7988543 & 0.0013302064 & 0.7611296 & 2.159866e-04 &  0.7993861\\\\\n",
       "\t 0 & average & 2 & 7.4 & female & 10 & yes & -1.3381064 & -0.6565853 & 0.0005691332 & 0.7611606 & 1.276725e-05 & -0.6567722\\\\\n",
       "\t 3 & poor    & 4 & 6.6 & female & 10 & no  & -0.4300213 &  1.2253887 & 0.0044343560 & 0.7609997 & 2.208121e-03 &  1.2281146\\\\\n",
       "\t 1 & poor    & 2 & 7.6 & male   &  3 & yes & -0.5067287 &  0.3103212 & 0.0040982203 & 0.7612106 & 6.563042e-05 &  0.3109590\\\\\n",
       "\t 0 & average & 2 & 7.9 & female &  6 & yes & -1.2097984 & -0.6922080 & 0.0011475285 & 0.7611534 & 2.808279e-05 & -0.6926056\\\\\n",
       "\t 0 & poor    & 5 & 6.6 & female &  7 & no  & -0.1337887 & -1.0284394 & 0.0055505315 & 0.7610661 & 2.411040e-04 & -1.0313055\\\\\n",
       "\\end{tabular}\n"
      ],
      "text/markdown": [
       "\n",
       "A tibble: 6 × 13\n",
       "\n",
       "| hosp &lt;dbl&gt; | health &lt;chr&gt; | numchron &lt;dbl&gt; | age &lt;dbl&gt; | gender &lt;chr&gt; | school &lt;dbl&gt; | privins &lt;chr&gt; | .fitted &lt;dbl&gt; | .resid &lt;dbl&gt; | .hat &lt;dbl&gt; | .sigma &lt;dbl&gt; | .cooksd &lt;dbl&gt; | .std.resid &lt;dbl&gt; |\n",
       "|---|---|---|---|---|---|---|---|---|---|---|---|---|\n",
       "| 1 | average | 2 | 6.9 | male   |  6 | yes | -1.2943805 |  0.7988543 | 0.0013302064 | 0.7611296 | 2.159866e-04 |  0.7993861 |\n",
       "| 0 | average | 2 | 7.4 | female | 10 | yes | -1.3381064 | -0.6565853 | 0.0005691332 | 0.7611606 | 1.276725e-05 | -0.6567722 |\n",
       "| 3 | poor    | 4 | 6.6 | female | 10 | no  | -0.4300213 |  1.2253887 | 0.0044343560 | 0.7609997 | 2.208121e-03 |  1.2281146 |\n",
       "| 1 | poor    | 2 | 7.6 | male   |  3 | yes | -0.5067287 |  0.3103212 | 0.0040982203 | 0.7612106 | 6.563042e-05 |  0.3109590 |\n",
       "| 0 | average | 2 | 7.9 | female |  6 | yes | -1.2097984 | -0.6922080 | 0.0011475285 | 0.7611534 | 2.808279e-05 | -0.6926056 |\n",
       "| 0 | poor    | 5 | 6.6 | female |  7 | no  | -0.1337887 | -1.0284394 | 0.0055505315 | 0.7610661 | 2.411040e-04 | -1.0313055 |\n",
       "\n"
      ],
      "text/plain": [
       "  hosp health  numchron age gender school privins .fitted    .resid    \n",
       "1 1    average 2        6.9 male    6     yes     -1.2943805  0.7988543\n",
       "2 0    average 2        7.4 female 10     yes     -1.3381064 -0.6565853\n",
       "3 3    poor    4        6.6 female 10     no      -0.4300213  1.2253887\n",
       "4 1    poor    2        7.6 male    3     yes     -0.5067287  0.3103212\n",
       "5 0    average 2        7.9 female  6     yes     -1.2097984 -0.6922080\n",
       "6 0    poor    5        6.6 female  7     no      -0.1337887 -1.0284394\n",
       "  .hat         .sigma    .cooksd      .std.resid\n",
       "1 0.0013302064 0.7611296 2.159866e-04  0.7993861\n",
       "2 0.0005691332 0.7611606 1.276725e-05 -0.6567722\n",
       "3 0.0044343560 0.7609997 2.208121e-03  1.2281146\n",
       "4 0.0040982203 0.7612106 6.563042e-05  0.3109590\n",
       "5 0.0011475285 0.7611534 2.808279e-05 -0.6926056\n",
       "6 0.0055505315 0.7610661 2.411040e-04 -1.0313055"
      ]
     },
     "metadata": {},
     "output_type": "display_data"
    }
   ],
   "source": [
    "augment(my_glm) %>% head()"
   ]
  },
  {
   "cell_type": "markdown",
   "id": "c834eb68",
   "metadata": {},
   "source": [
    "Only the first rows are displayed."
   ]
  }
 ],
 "metadata": {
  "kernelspec": {
   "display_name": "R 4.3.2",
   "language": "R",
   "name": "ir432"
  },
  "language_info": {
   "codemirror_mode": "r",
   "file_extension": ".r",
   "mimetype": "text/x-r-source",
   "name": "R",
   "pygments_lexer": "r",
   "version": "4.3.2"
  }
 },
 "nbformat": 4,
 "nbformat_minor": 5
}
