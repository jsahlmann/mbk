{
 "cells": [
  {
   "cell_type": "markdown",
   "id": "df8091c6-2036-476c-b540-77db13c8369e",
   "metadata": {},
   "source": [
    "# 09 - Negative binomial regression - Manual coding of categorical variables"
   ]
  },
  {
   "cell_type": "markdown",
   "id": "8cf7dd5a-4d82-471f-8a41-39e05dbdde32",
   "metadata": {},
   "source": [
    "## Data"
   ]
  },
  {
   "cell_type": "markdown",
   "id": "f4874aaa-1498-44be-8371-053af86b4735",
   "metadata": {},
   "source": [
    "Source of data: DebTrivedi in R package \"MixAll\"\n",
    "\n",
    "Data set debtrivedi.csv"
   ]
  },
  {
   "cell_type": "code",
   "execution_count": 1,
   "id": "09e0948e-f67e-4798-8b78-888edfcf8a78",
   "metadata": {},
   "outputs": [
    {
     "data": {
      "text/html": [
       "<table class=\"dataframe\">\n",
       "<caption>A tibble: 6 × 23</caption>\n",
       "<thead>\n",
       "\t<tr><th scope=col>ofp</th><th scope=col>ofnp</th><th scope=col>opp</th><th scope=col>opnp</th><th scope=col>emer</th><th scope=col>hosp</th><th scope=col>health</th><th scope=col>numchron</th><th scope=col>adldiff</th><th scope=col>region</th><th scope=col>⋯</th><th scope=col>married</th><th scope=col>school</th><th scope=col>faminc</th><th scope=col>employed</th><th scope=col>privins</th><th scope=col>medicaid</th><th scope=col>poorhlth</th><th scope=col>exclhlth</th><th scope=col>male</th><th scope=col>privins_n</th></tr>\n",
       "\t<tr><th scope=col>&lt;dbl&gt;</th><th scope=col>&lt;dbl&gt;</th><th scope=col>&lt;dbl&gt;</th><th scope=col>&lt;dbl&gt;</th><th scope=col>&lt;dbl&gt;</th><th scope=col>&lt;dbl&gt;</th><th scope=col>&lt;chr&gt;</th><th scope=col>&lt;dbl&gt;</th><th scope=col>&lt;chr&gt;</th><th scope=col>&lt;chr&gt;</th><th scope=col>⋯</th><th scope=col>&lt;chr&gt;</th><th scope=col>&lt;dbl&gt;</th><th scope=col>&lt;dbl&gt;</th><th scope=col>&lt;chr&gt;</th><th scope=col>&lt;chr&gt;</th><th scope=col>&lt;chr&gt;</th><th scope=col>&lt;dbl&gt;</th><th scope=col>&lt;dbl&gt;</th><th scope=col>&lt;dbl&gt;</th><th scope=col>&lt;dbl&gt;</th></tr>\n",
       "</thead>\n",
       "<tbody>\n",
       "\t<tr><td> 5</td><td>0</td><td>0</td><td>0</td><td>0</td><td>1</td><td>average</td><td>2</td><td>no </td><td>other</td><td>⋯</td><td>yes</td><td> 6</td><td>2.8810</td><td>yes</td><td>yes</td><td>no </td><td>0</td><td>0</td><td>1</td><td>1</td></tr>\n",
       "\t<tr><td> 1</td><td>0</td><td>2</td><td>0</td><td>2</td><td>0</td><td>average</td><td>2</td><td>no </td><td>other</td><td>⋯</td><td>yes</td><td>10</td><td>2.7478</td><td>no </td><td>yes</td><td>no </td><td>0</td><td>0</td><td>0</td><td>1</td></tr>\n",
       "\t<tr><td>13</td><td>0</td><td>0</td><td>0</td><td>3</td><td>3</td><td>poor   </td><td>4</td><td>yes</td><td>other</td><td>⋯</td><td>no </td><td>10</td><td>0.6532</td><td>no </td><td>no </td><td>yes</td><td>1</td><td>0</td><td>0</td><td>0</td></tr>\n",
       "\t<tr><td>16</td><td>0</td><td>5</td><td>0</td><td>1</td><td>1</td><td>poor   </td><td>2</td><td>yes</td><td>other</td><td>⋯</td><td>yes</td><td> 3</td><td>0.6588</td><td>no </td><td>yes</td><td>no </td><td>1</td><td>0</td><td>1</td><td>1</td></tr>\n",
       "\t<tr><td> 3</td><td>0</td><td>0</td><td>0</td><td>0</td><td>0</td><td>average</td><td>2</td><td>yes</td><td>other</td><td>⋯</td><td>yes</td><td> 6</td><td>0.6588</td><td>no </td><td>yes</td><td>no </td><td>0</td><td>0</td><td>0</td><td>1</td></tr>\n",
       "\t<tr><td>17</td><td>0</td><td>0</td><td>0</td><td>0</td><td>0</td><td>poor   </td><td>5</td><td>yes</td><td>other</td><td>⋯</td><td>no </td><td> 7</td><td>0.3301</td><td>no </td><td>no </td><td>yes</td><td>1</td><td>0</td><td>0</td><td>0</td></tr>\n",
       "</tbody>\n",
       "</table>\n"
      ],
      "text/latex": [
       "A tibble: 6 × 23\n",
       "\\begin{tabular}{lllllllllllllllllllll}\n",
       " ofp & ofnp & opp & opnp & emer & hosp & health & numchron & adldiff & region & ⋯ & married & school & faminc & employed & privins & medicaid & poorhlth & exclhlth & male & privins\\_n\\\\\n",
       " <dbl> & <dbl> & <dbl> & <dbl> & <dbl> & <dbl> & <chr> & <dbl> & <chr> & <chr> & ⋯ & <chr> & <dbl> & <dbl> & <chr> & <chr> & <chr> & <dbl> & <dbl> & <dbl> & <dbl>\\\\\n",
       "\\hline\n",
       "\t  5 & 0 & 0 & 0 & 0 & 1 & average & 2 & no  & other & ⋯ & yes &  6 & 2.8810 & yes & yes & no  & 0 & 0 & 1 & 1\\\\\n",
       "\t  1 & 0 & 2 & 0 & 2 & 0 & average & 2 & no  & other & ⋯ & yes & 10 & 2.7478 & no  & yes & no  & 0 & 0 & 0 & 1\\\\\n",
       "\t 13 & 0 & 0 & 0 & 3 & 3 & poor    & 4 & yes & other & ⋯ & no  & 10 & 0.6532 & no  & no  & yes & 1 & 0 & 0 & 0\\\\\n",
       "\t 16 & 0 & 5 & 0 & 1 & 1 & poor    & 2 & yes & other & ⋯ & yes &  3 & 0.6588 & no  & yes & no  & 1 & 0 & 1 & 1\\\\\n",
       "\t  3 & 0 & 0 & 0 & 0 & 0 & average & 2 & yes & other & ⋯ & yes &  6 & 0.6588 & no  & yes & no  & 0 & 0 & 0 & 1\\\\\n",
       "\t 17 & 0 & 0 & 0 & 0 & 0 & poor    & 5 & yes & other & ⋯ & no  &  7 & 0.3301 & no  & no  & yes & 1 & 0 & 0 & 0\\\\\n",
       "\\end{tabular}\n"
      ],
      "text/markdown": [
       "\n",
       "A tibble: 6 × 23\n",
       "\n",
       "| ofp &lt;dbl&gt; | ofnp &lt;dbl&gt; | opp &lt;dbl&gt; | opnp &lt;dbl&gt; | emer &lt;dbl&gt; | hosp &lt;dbl&gt; | health &lt;chr&gt; | numchron &lt;dbl&gt; | adldiff &lt;chr&gt; | region &lt;chr&gt; | ⋯ ⋯ | married &lt;chr&gt; | school &lt;dbl&gt; | faminc &lt;dbl&gt; | employed &lt;chr&gt; | privins &lt;chr&gt; | medicaid &lt;chr&gt; | poorhlth &lt;dbl&gt; | exclhlth &lt;dbl&gt; | male &lt;dbl&gt; | privins_n &lt;dbl&gt; |\n",
       "|---|---|---|---|---|---|---|---|---|---|---|---|---|---|---|---|---|---|---|---|---|\n",
       "|  5 | 0 | 0 | 0 | 0 | 1 | average | 2 | no  | other | ⋯ | yes |  6 | 2.8810 | yes | yes | no  | 0 | 0 | 1 | 1 |\n",
       "|  1 | 0 | 2 | 0 | 2 | 0 | average | 2 | no  | other | ⋯ | yes | 10 | 2.7478 | no  | yes | no  | 0 | 0 | 0 | 1 |\n",
       "| 13 | 0 | 0 | 0 | 3 | 3 | poor    | 4 | yes | other | ⋯ | no  | 10 | 0.6532 | no  | no  | yes | 1 | 0 | 0 | 0 |\n",
       "| 16 | 0 | 5 | 0 | 1 | 1 | poor    | 2 | yes | other | ⋯ | yes |  3 | 0.6588 | no  | yes | no  | 1 | 0 | 1 | 1 |\n",
       "|  3 | 0 | 0 | 0 | 0 | 0 | average | 2 | yes | other | ⋯ | yes |  6 | 0.6588 | no  | yes | no  | 0 | 0 | 0 | 1 |\n",
       "| 17 | 0 | 0 | 0 | 0 | 0 | poor    | 5 | yes | other | ⋯ | no  |  7 | 0.3301 | no  | no  | yes | 1 | 0 | 0 | 0 |\n",
       "\n"
      ],
      "text/plain": [
       "  ofp ofnp opp opnp emer hosp health  numchron adldiff region ⋯ married school\n",
       "1  5  0    0   0    0    1    average 2        no      other  ⋯ yes      6    \n",
       "2  1  0    2   0    2    0    average 2        no      other  ⋯ yes     10    \n",
       "3 13  0    0   0    3    3    poor    4        yes     other  ⋯ no      10    \n",
       "4 16  0    5   0    1    1    poor    2        yes     other  ⋯ yes      3    \n",
       "5  3  0    0   0    0    0    average 2        yes     other  ⋯ yes      6    \n",
       "6 17  0    0   0    0    0    poor    5        yes     other  ⋯ no       7    \n",
       "  faminc employed privins medicaid poorhlth exclhlth male privins_n\n",
       "1 2.8810 yes      yes     no       0        0        1    1        \n",
       "2 2.7478 no       yes     no       0        0        0    1        \n",
       "3 0.6532 no       no      yes      1        0        0    0        \n",
       "4 0.6588 no       yes     no       1        0        1    1        \n",
       "5 0.6588 no       yes     no       0        0        0    1        \n",
       "6 0.3301 no       no      yes      1        0        0    0        "
      ]
     },
     "metadata": {},
     "output_type": "display_data"
    }
   ],
   "source": [
    "library(readr)\n",
    "debtrivedi <- read_csv(\"data/debtrivedi.csv\",\n",
    "                 show_col_types = FALSE)\n",
    "debtrivedi$poorhlth <- ifelse(debtrivedi$health == \"poor\", 1, 0)\n",
    "debtrivedi$exclhlth <- ifelse(debtrivedi$health == \"excellent\", 1, 0)\n",
    "debtrivedi$male <- ifelse(debtrivedi$gender == \"male\", 1, 0)\n",
    "debtrivedi$privins_n <- ifelse(debtrivedi$privins == \"yes\", 1, 0)\n",
    "\n",
    "head(debtrivedi)\n"
   ]
  },
  {
   "cell_type": "markdown",
   "id": "5e3e5853-4e74-43f7-b9fb-f9a42816fcad",
   "metadata": {},
   "source": [
    "## SAS program snippet"
   ]
  },
  {
   "cell_type": "markdown",
   "id": "05390c41",
   "metadata": {},
   "source": [
    "The categorical variables in this model are coded manually.\n",
    "\n"
   ]
  },
  {
   "cell_type": "raw",
   "id": "8b5cb463",
   "metadata": {},
   "source": [
    "data debtrivedi;\n",
    "  set debtrivedi;\n",
    "  poorhlth = 0;\n",
    "  if health = \"poor\" then poorhlth = 1;\n",
    "  exclhlth = 0;\n",
    "  if health = \"excellent\" then exclhlth = 1;\n",
    "  male = 0;\n",
    "  if gender = \"male\" then male = 1;\n",
    "  privins_n = 0;\n",
    "  if privins = \"yes\" then privins_n = 1;\n",
    "run;\n",
    "  "
   ]
  },
  {
   "cell_type": "markdown",
   "id": "72a25d47-c22e-4226-89b2-8e8625f61f8c",
   "metadata": {},
   "source": [
    "The following SAS code will be executed."
   ]
  },
  {
   "cell_type": "raw",
   "id": "b171d2d0-81ef-41e8-8987-5c68601be412",
   "metadata": {},
   "source": [
    "proc genmod data = debtrivedi;\n",
    "  model hosp = exclhlth poorhlth numchron age male school privins_n / type3 dist=negbin;\n",
    "run;\n"
   ]
  },
  {
   "cell_type": "markdown",
   "id": "befdd36a",
   "metadata": {},
   "source": [
    "Differences to the default encoding and the reference encoding can be found below."
   ]
  },
  {
   "cell_type": "markdown",
   "id": "5fcf9f00-3a07-4e34-805c-de0f95d4d76a",
   "metadata": {},
   "source": [
    "## Results"
   ]
  },
  {
   "cell_type": "markdown",
   "id": "3d365e27-c7c5-4936-90db-8392fae3a124",
   "metadata": {},
   "source": [
    "The output is divided into blocks to explain it and to reproduce it afterwards in the different languages."
   ]
  },
  {
   "cell_type": "markdown",
   "id": "40ce206b-826d-42c6-bc39-c588864d99b7",
   "metadata": {},
   "source": [
    "### Block 1\n",
    "![Block 1](img_screenshots/block_1.png)\n"
   ]
  },
  {
   "cell_type": "markdown",
   "id": "49e285c0",
   "metadata": {},
   "source": [
    "This block provides the name of the dataset, the response distribution, the link function and the reponse variable."
   ]
  },
  {
   "cell_type": "markdown",
   "id": "09f48c70-5dd6-4e6a-984e-6ed29408f555",
   "metadata": {},
   "source": [
    "### Block 2\n",
    "![Block 2](img_screenshots/block_2.png)"
   ]
  },
  {
   "cell_type": "markdown",
   "id": "5dbe6351",
   "metadata": {},
   "source": [
    "This block provides the number of observations read from the dateset and the number of observations used in the model."
   ]
  },
  {
   "cell_type": "markdown",
   "id": "c600c9a5-619f-4495-80e6-85c89a18877d",
   "metadata": {},
   "source": [
    "### Block 3\n",
    "![Block 3](img_screenshots/block_3.png)"
   ]
  },
  {
   "cell_type": "markdown",
   "id": "8e6e5ca4",
   "metadata": {},
   "source": [
    "This block displays some criteria for assessing the goodnes of fit."
   ]
  },
  {
   "cell_type": "markdown",
   "id": "e76ff54b-9339-4c00-bb4e-c5deea17de63",
   "metadata": {},
   "source": [
    "### Block 4\n",
    "![Block 4](img_screenshots/block_4.png)"
   ]
  },
  {
   "cell_type": "markdown",
   "id": "c1aeca4a",
   "metadata": {},
   "source": [
    "This block contains the results from fitting a generalized linear model to the data."
   ]
  },
  {
   "cell_type": "markdown",
   "id": "8743a8b2-74c2-4ef6-b1ba-8446feafb902",
   "metadata": {},
   "source": [
    "### Block 5\n",
    "\n",
    "![Block 5](img_screenshots/block_5.png)"
   ]
  },
  {
   "cell_type": "markdown",
   "id": "e8ee4e85",
   "metadata": {},
   "source": [
    "This block contains one row for each effect in the model with the name of the effect, the likelihood ratio statistic for testing the significance of the effect, the degrees of freedom for the effect, and the p-value computed from the chi-square distribution."
   ]
  },
  {
   "cell_type": "markdown",
   "id": "b4c553ca",
   "metadata": {},
   "source": [
    "\n",
    "==========================\n"
   ]
  },
  {
   "cell_type": "markdown",
   "id": "2cea3490-b255-48f5-a479-2b340380c718",
   "metadata": {},
   "source": [
    "### Block 6\n",
    "![Block 6](img_screenshots/block_6.png)"
   ]
  },
  {
   "cell_type": "markdown",
   "id": "ba2b6292",
   "metadata": {},
   "source": [
    "This block provides the class level information for the refence coding of the categorical parameters.\n",
    "See the following code block."
   ]
  },
  {
   "cell_type": "raw",
   "id": "848fa0fc",
   "metadata": {},
   "source": [
    "proc genmod data = debtrivedi;\n",
    "  class health (param = ref ref = \"average\") gender (param = ref ref = \"female\") privins (param = ref ref = \"no\");\n",
    "  model hosp = health numchron age gender school privins / type3 dist=negbin;\n",
    "run;"
   ]
  },
  {
   "cell_type": "markdown",
   "id": "30db5cb8-1c58-498a-8602-07ad1e8ffd6c",
   "metadata": {},
   "source": [
    "### Block 7\n",
    "![Block 7](img_screenshots/block_7.png)"
   ]
  },
  {
   "cell_type": "markdown",
   "id": "d9c30dc9",
   "metadata": {},
   "source": [
    "The block above gives the results for the estimates if the reference coding is used."
   ]
  },
  {
   "cell_type": "markdown",
   "id": "8b3fdc5b",
   "metadata": {},
   "source": [
    "=========================="
   ]
  },
  {
   "cell_type": "markdown",
   "id": "804b643f-8477-4a08-b97a-5a2da33bfbd0",
   "metadata": {},
   "source": [
    "### Block 8\n",
    "![Block 8](img_screenshots/block_8.png)"
   ]
  },
  {
   "cell_type": "markdown",
   "id": "4ea4dbe0",
   "metadata": {},
   "source": [
    "This block provides the class level information for the refence coding of the categorical parameters. See the following code block."
   ]
  },
  {
   "cell_type": "raw",
   "id": "1af7cf7a",
   "metadata": {},
   "source": [
    "proc genmod data = debtrivedi;\n",
    "  class health gender privins;\n",
    "  model hosp = health numchron age gender school privins / type3 dist=negbin;\n",
    "run;\n"
   ]
  },
  {
   "cell_type": "markdown",
   "id": "3840f423-705b-441e-a656-29a43fb2fadc",
   "metadata": {},
   "source": [
    "### Block 9\n",
    "![Block 9](img_screenshots/block_9.png)"
   ]
  },
  {
   "cell_type": "markdown",
   "id": "ebf5fb1b",
   "metadata": {},
   "source": [
    "The block above gives the results for the estimates if the reference coding is used."
   ]
  },
  {
   "cell_type": "code",
   "execution_count": null,
   "id": "f34833b5-66f0-4a66-a52d-361def63fc05",
   "metadata": {},
   "outputs": [],
   "source": []
  }
 ],
 "metadata": {
  "kernelspec": {
   "display_name": "R 4.3.2",
   "language": "R",
   "name": "ir432"
  },
  "language_info": {
   "codemirror_mode": "r",
   "file_extension": ".r",
   "mimetype": "text/x-r-source",
   "name": "R",
   "pygments_lexer": "r",
   "version": "4.3.2"
  }
 },
 "nbformat": 4,
 "nbformat_minor": 5
}
