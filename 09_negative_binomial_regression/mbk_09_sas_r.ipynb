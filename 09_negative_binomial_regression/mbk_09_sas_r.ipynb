{
 "cells": [
  {
   "cell_type": "markdown",
   "id": "df8091c6-2036-476c-b540-77db13c8369e",
   "metadata": {},
   "source": [
    "# 09 - Negative binomial regression - Coding of categorical variables"
   ]
  },
  {
   "cell_type": "markdown",
   "id": "8cf7dd5a-4d82-471f-8a41-39e05dbdde32",
   "metadata": {},
   "source": [
    "## Data"
   ]
  },
  {
   "cell_type": "markdown",
   "id": "f4874aaa-1498-44be-8371-053af86b4735",
   "metadata": {},
   "source": [
    "Source of data: DebTrivedi in R package \"MixAll\"\n",
    "\n",
    "Data set debtrivedi.csv"
   ]
  },
  {
   "cell_type": "code",
   "execution_count": 38,
   "id": "09e0948e-f67e-4798-8b78-888edfcf8a78",
   "metadata": {},
   "outputs": [
    {
     "data": {
      "text/html": [
       "<table class=\"dataframe\">\n",
       "<caption>A tibble: 6 × 23</caption>\n",
       "<thead>\n",
       "\t<tr><th scope=col>ofp</th><th scope=col>ofnp</th><th scope=col>opp</th><th scope=col>opnp</th><th scope=col>emer</th><th scope=col>hosp</th><th scope=col>health</th><th scope=col>numchron</th><th scope=col>adldiff</th><th scope=col>region</th><th scope=col>⋯</th><th scope=col>married</th><th scope=col>school</th><th scope=col>faminc</th><th scope=col>employed</th><th scope=col>privins</th><th scope=col>medicaid</th><th scope=col>poorhlth</th><th scope=col>exclhlth</th><th scope=col>male</th><th scope=col>privins_n</th></tr>\n",
       "\t<tr><th scope=col>&lt;dbl&gt;</th><th scope=col>&lt;dbl&gt;</th><th scope=col>&lt;dbl&gt;</th><th scope=col>&lt;dbl&gt;</th><th scope=col>&lt;dbl&gt;</th><th scope=col>&lt;dbl&gt;</th><th scope=col>&lt;chr&gt;</th><th scope=col>&lt;dbl&gt;</th><th scope=col>&lt;chr&gt;</th><th scope=col>&lt;chr&gt;</th><th scope=col>⋯</th><th scope=col>&lt;chr&gt;</th><th scope=col>&lt;dbl&gt;</th><th scope=col>&lt;dbl&gt;</th><th scope=col>&lt;chr&gt;</th><th scope=col>&lt;chr&gt;</th><th scope=col>&lt;chr&gt;</th><th scope=col>&lt;dbl&gt;</th><th scope=col>&lt;dbl&gt;</th><th scope=col>&lt;dbl&gt;</th><th scope=col>&lt;dbl&gt;</th></tr>\n",
       "</thead>\n",
       "<tbody>\n",
       "\t<tr><td> 5</td><td>0</td><td>0</td><td>0</td><td>0</td><td>1</td><td>average</td><td>2</td><td>no </td><td>other</td><td>⋯</td><td>yes</td><td> 6</td><td>2.8810</td><td>yes</td><td>yes</td><td>no </td><td>0</td><td>0</td><td>1</td><td>1</td></tr>\n",
       "\t<tr><td> 1</td><td>0</td><td>2</td><td>0</td><td>2</td><td>0</td><td>average</td><td>2</td><td>no </td><td>other</td><td>⋯</td><td>yes</td><td>10</td><td>2.7478</td><td>no </td><td>yes</td><td>no </td><td>0</td><td>0</td><td>0</td><td>1</td></tr>\n",
       "\t<tr><td>13</td><td>0</td><td>0</td><td>0</td><td>3</td><td>3</td><td>poor   </td><td>4</td><td>yes</td><td>other</td><td>⋯</td><td>no </td><td>10</td><td>0.6532</td><td>no </td><td>no </td><td>yes</td><td>1</td><td>0</td><td>0</td><td>0</td></tr>\n",
       "\t<tr><td>16</td><td>0</td><td>5</td><td>0</td><td>1</td><td>1</td><td>poor   </td><td>2</td><td>yes</td><td>other</td><td>⋯</td><td>yes</td><td> 3</td><td>0.6588</td><td>no </td><td>yes</td><td>no </td><td>1</td><td>0</td><td>1</td><td>1</td></tr>\n",
       "\t<tr><td> 3</td><td>0</td><td>0</td><td>0</td><td>0</td><td>0</td><td>average</td><td>2</td><td>yes</td><td>other</td><td>⋯</td><td>yes</td><td> 6</td><td>0.6588</td><td>no </td><td>yes</td><td>no </td><td>0</td><td>0</td><td>0</td><td>1</td></tr>\n",
       "\t<tr><td>17</td><td>0</td><td>0</td><td>0</td><td>0</td><td>0</td><td>poor   </td><td>5</td><td>yes</td><td>other</td><td>⋯</td><td>no </td><td> 7</td><td>0.3301</td><td>no </td><td>no </td><td>yes</td><td>1</td><td>0</td><td>0</td><td>0</td></tr>\n",
       "</tbody>\n",
       "</table>\n"
      ],
      "text/latex": [
       "A tibble: 6 × 23\n",
       "\\begin{tabular}{lllllllllllllllllllll}\n",
       " ofp & ofnp & opp & opnp & emer & hosp & health & numchron & adldiff & region & ⋯ & married & school & faminc & employed & privins & medicaid & poorhlth & exclhlth & male & privins\\_n\\\\\n",
       " <dbl> & <dbl> & <dbl> & <dbl> & <dbl> & <dbl> & <chr> & <dbl> & <chr> & <chr> & ⋯ & <chr> & <dbl> & <dbl> & <chr> & <chr> & <chr> & <dbl> & <dbl> & <dbl> & <dbl>\\\\\n",
       "\\hline\n",
       "\t  5 & 0 & 0 & 0 & 0 & 1 & average & 2 & no  & other & ⋯ & yes &  6 & 2.8810 & yes & yes & no  & 0 & 0 & 1 & 1\\\\\n",
       "\t  1 & 0 & 2 & 0 & 2 & 0 & average & 2 & no  & other & ⋯ & yes & 10 & 2.7478 & no  & yes & no  & 0 & 0 & 0 & 1\\\\\n",
       "\t 13 & 0 & 0 & 0 & 3 & 3 & poor    & 4 & yes & other & ⋯ & no  & 10 & 0.6532 & no  & no  & yes & 1 & 0 & 0 & 0\\\\\n",
       "\t 16 & 0 & 5 & 0 & 1 & 1 & poor    & 2 & yes & other & ⋯ & yes &  3 & 0.6588 & no  & yes & no  & 1 & 0 & 1 & 1\\\\\n",
       "\t  3 & 0 & 0 & 0 & 0 & 0 & average & 2 & yes & other & ⋯ & yes &  6 & 0.6588 & no  & yes & no  & 0 & 0 & 0 & 1\\\\\n",
       "\t 17 & 0 & 0 & 0 & 0 & 0 & poor    & 5 & yes & other & ⋯ & no  &  7 & 0.3301 & no  & no  & yes & 1 & 0 & 0 & 0\\\\\n",
       "\\end{tabular}\n"
      ],
      "text/markdown": [
       "\n",
       "A tibble: 6 × 23\n",
       "\n",
       "| ofp &lt;dbl&gt; | ofnp &lt;dbl&gt; | opp &lt;dbl&gt; | opnp &lt;dbl&gt; | emer &lt;dbl&gt; | hosp &lt;dbl&gt; | health &lt;chr&gt; | numchron &lt;dbl&gt; | adldiff &lt;chr&gt; | region &lt;chr&gt; | ⋯ ⋯ | married &lt;chr&gt; | school &lt;dbl&gt; | faminc &lt;dbl&gt; | employed &lt;chr&gt; | privins &lt;chr&gt; | medicaid &lt;chr&gt; | poorhlth &lt;dbl&gt; | exclhlth &lt;dbl&gt; | male &lt;dbl&gt; | privins_n &lt;dbl&gt; |\n",
       "|---|---|---|---|---|---|---|---|---|---|---|---|---|---|---|---|---|---|---|---|---|\n",
       "|  5 | 0 | 0 | 0 | 0 | 1 | average | 2 | no  | other | ⋯ | yes |  6 | 2.8810 | yes | yes | no  | 0 | 0 | 1 | 1 |\n",
       "|  1 | 0 | 2 | 0 | 2 | 0 | average | 2 | no  | other | ⋯ | yes | 10 | 2.7478 | no  | yes | no  | 0 | 0 | 0 | 1 |\n",
       "| 13 | 0 | 0 | 0 | 3 | 3 | poor    | 4 | yes | other | ⋯ | no  | 10 | 0.6532 | no  | no  | yes | 1 | 0 | 0 | 0 |\n",
       "| 16 | 0 | 5 | 0 | 1 | 1 | poor    | 2 | yes | other | ⋯ | yes |  3 | 0.6588 | no  | yes | no  | 1 | 0 | 1 | 1 |\n",
       "|  3 | 0 | 0 | 0 | 0 | 0 | average | 2 | yes | other | ⋯ | yes |  6 | 0.6588 | no  | yes | no  | 0 | 0 | 0 | 1 |\n",
       "| 17 | 0 | 0 | 0 | 0 | 0 | poor    | 5 | yes | other | ⋯ | no  |  7 | 0.3301 | no  | no  | yes | 1 | 0 | 0 | 0 |\n",
       "\n"
      ],
      "text/plain": [
       "  ofp ofnp opp opnp emer hosp health  numchron adldiff region ⋯ married school\n",
       "1  5  0    0   0    0    1    average 2        no      other  ⋯ yes      6    \n",
       "2  1  0    2   0    2    0    average 2        no      other  ⋯ yes     10    \n",
       "3 13  0    0   0    3    3    poor    4        yes     other  ⋯ no      10    \n",
       "4 16  0    5   0    1    1    poor    2        yes     other  ⋯ yes      3    \n",
       "5  3  0    0   0    0    0    average 2        yes     other  ⋯ yes      6    \n",
       "6 17  0    0   0    0    0    poor    5        yes     other  ⋯ no       7    \n",
       "  faminc employed privins medicaid poorhlth exclhlth male privins_n\n",
       "1 2.8810 yes      yes     no       0        0        1    1        \n",
       "2 2.7478 no       yes     no       0        0        0    1        \n",
       "3 0.6532 no       no      yes      1        0        0    0        \n",
       "4 0.6588 no       yes     no       1        0        1    1        \n",
       "5 0.6588 no       yes     no       0        0        0    1        \n",
       "6 0.3301 no       no      yes      1        0        0    0        "
      ]
     },
     "metadata": {},
     "output_type": "display_data"
    }
   ],
   "source": [
    "library(readr)\n",
    "debtrivedi <- read_csv(\"data/debtrivedi.csv\",\n",
    "                 show_col_types = FALSE)\n",
    "debtrivedi$poorhlth <- ifelse(debtrivedi$health == \"poor\", 1, 0)\n",
    "debtrivedi$exclhlth <- ifelse(debtrivedi$health == \"excellent\", 1, 0)\n",
    "debtrivedi$male <- ifelse(debtrivedi$gender == \"male\", 1, 0)\n",
    "debtrivedi$privins_n <- ifelse(debtrivedi$privins == \"yes\", 1, 0)\n",
    "\n",
    "head(debtrivedi)\n"
   ]
  },
  {
   "cell_type": "markdown",
   "id": "5e3e5853-4e74-43f7-b9fb-f9a42816fcad",
   "metadata": {},
   "source": [
    "## SAS program snippet"
   ]
  },
  {
   "cell_type": "markdown",
   "id": "3149d76b",
   "metadata": {},
   "source": [
    "The categorical variables in this model are coded manually.\n",
    "\n"
   ]
  },
  {
   "cell_type": "raw",
   "id": "59877f7e",
   "metadata": {},
   "source": [
    "data debtrivedi;\n",
    "  set debtrivedi;\n",
    "  poorhlth = 0;\n",
    "  if health = \"poor\" then poorhlth = 1;\n",
    "  exclhlth = 0;\n",
    "  if health = \"excellent\" then exclhlth = 1;\n",
    "  male = 0;\n",
    "  if gender = \"male\" then male = 1;\n",
    "  privins_n = 0;\n",
    "  if privins = \"yes\" then privins_n = 1;\n",
    "run;\n",
    "  "
   ]
  },
  {
   "cell_type": "markdown",
   "id": "72a25d47-c22e-4226-89b2-8e8625f61f8c",
   "metadata": {},
   "source": [
    "The following SAS code will be executed."
   ]
  },
  {
   "cell_type": "raw",
   "id": "b171d2d0-81ef-41e8-8987-5c68601be412",
   "metadata": {},
   "source": [
    "proc genmod data = debtrivedi;\n",
    "  model hosp = exclhlth poorhlth numchron age male school privins_n / type3 dist=negbin;\n",
    "run;\n"
   ]
  },
  {
   "cell_type": "markdown",
   "id": "1aa6ac41",
   "metadata": {},
   "source": [
    "Differences to the default encoding and the reference encoding can be found below."
   ]
  },
  {
   "cell_type": "markdown",
   "id": "b985b434",
   "metadata": {},
   "source": [
    "### R chunk\n",
    "Packages will be loaded in the chunk were they are first needed."
   ]
  },
  {
   "cell_type": "markdown",
   "id": "67f0b60f",
   "metadata": {},
   "source": [
    "A similar R program might look like this. It uses the glm.nb() function.\n",
    "\n",
    "The tidy() function from the broom-packages formats the output into a tibble for easier processing."
   ]
  },
  {
   "cell_type": "code",
   "execution_count": 39,
   "id": "0ef7762f",
   "metadata": {},
   "outputs": [
    {
     "data": {
      "text/html": [
       "<table class=\"dataframe\">\n",
       "<caption>A tibble: 8 × 5</caption>\n",
       "<thead>\n",
       "\t<tr><th scope=col>term</th><th scope=col>estimate</th><th scope=col>std.error</th><th scope=col>statistic</th><th scope=col>p.value</th></tr>\n",
       "\t<tr><th scope=col>&lt;chr&gt;</th><th scope=col>&lt;dbl&gt;</th><th scope=col>&lt;dbl&gt;</th><th scope=col>&lt;dbl&gt;</th><th scope=col>&lt;dbl&gt;</th></tr>\n",
       "</thead>\n",
       "<tbody>\n",
       "\t<tr><td>(Intercept)</td><td>-3.752639734</td><td>0.44190797</td><td>-8.4919032</td><td>2.032803e-17</td></tr>\n",
       "\t<tr><td>exclhlth   </td><td>-0.697874635</td><td>0.19315090</td><td>-3.6131058</td><td>3.025512e-04</td></tr>\n",
       "\t<tr><td>poorhlth   </td><td> 0.613926301</td><td>0.09521661</td><td> 6.4476805</td><td>1.135749e-10</td></tr>\n",
       "\t<tr><td>numchron   </td><td> 0.289418299</td><td>0.02541425</td><td>11.3880328</td><td>4.796974e-30</td></tr>\n",
       "\t<tr><td>age        </td><td> 0.238444463</td><td>0.05483476</td><td> 4.3484178</td><td>1.371232e-05</td></tr>\n",
       "\t<tr><td>male       </td><td> 0.153862333</td><td>0.07264766</td><td> 2.1179256</td><td>3.418137e-02</td></tr>\n",
       "\t<tr><td>school     </td><td>-0.002271456</td><td>0.01019223</td><td>-0.2228615</td><td>8.236433e-01</td></tr>\n",
       "\t<tr><td>privins_n  </td><td> 0.093922247</td><td>0.09042523</td><td> 1.0386730</td><td>2.989568e-01</td></tr>\n",
       "</tbody>\n",
       "</table>\n"
      ],
      "text/latex": [
       "A tibble: 8 × 5\n",
       "\\begin{tabular}{lllll}\n",
       " term & estimate & std.error & statistic & p.value\\\\\n",
       " <chr> & <dbl> & <dbl> & <dbl> & <dbl>\\\\\n",
       "\\hline\n",
       "\t (Intercept) & -3.752639734 & 0.44190797 & -8.4919032 & 2.032803e-17\\\\\n",
       "\t exclhlth    & -0.697874635 & 0.19315090 & -3.6131058 & 3.025512e-04\\\\\n",
       "\t poorhlth    &  0.613926301 & 0.09521661 &  6.4476805 & 1.135749e-10\\\\\n",
       "\t numchron    &  0.289418299 & 0.02541425 & 11.3880328 & 4.796974e-30\\\\\n",
       "\t age         &  0.238444463 & 0.05483476 &  4.3484178 & 1.371232e-05\\\\\n",
       "\t male        &  0.153862333 & 0.07264766 &  2.1179256 & 3.418137e-02\\\\\n",
       "\t school      & -0.002271456 & 0.01019223 & -0.2228615 & 8.236433e-01\\\\\n",
       "\t privins\\_n   &  0.093922247 & 0.09042523 &  1.0386730 & 2.989568e-01\\\\\n",
       "\\end{tabular}\n"
      ],
      "text/markdown": [
       "\n",
       "A tibble: 8 × 5\n",
       "\n",
       "| term &lt;chr&gt; | estimate &lt;dbl&gt; | std.error &lt;dbl&gt; | statistic &lt;dbl&gt; | p.value &lt;dbl&gt; |\n",
       "|---|---|---|---|---|\n",
       "| (Intercept) | -3.752639734 | 0.44190797 | -8.4919032 | 2.032803e-17 |\n",
       "| exclhlth    | -0.697874635 | 0.19315090 | -3.6131058 | 3.025512e-04 |\n",
       "| poorhlth    |  0.613926301 | 0.09521661 |  6.4476805 | 1.135749e-10 |\n",
       "| numchron    |  0.289418299 | 0.02541425 | 11.3880328 | 4.796974e-30 |\n",
       "| age         |  0.238444463 | 0.05483476 |  4.3484178 | 1.371232e-05 |\n",
       "| male        |  0.153862333 | 0.07264766 |  2.1179256 | 3.418137e-02 |\n",
       "| school      | -0.002271456 | 0.01019223 | -0.2228615 | 8.236433e-01 |\n",
       "| privins_n   |  0.093922247 | 0.09042523 |  1.0386730 | 2.989568e-01 |\n",
       "\n"
      ],
      "text/plain": [
       "  term        estimate     std.error  statistic  p.value     \n",
       "1 (Intercept) -3.752639734 0.44190797 -8.4919032 2.032803e-17\n",
       "2 exclhlth    -0.697874635 0.19315090 -3.6131058 3.025512e-04\n",
       "3 poorhlth     0.613926301 0.09521661  6.4476805 1.135749e-10\n",
       "4 numchron     0.289418299 0.02541425 11.3880328 4.796974e-30\n",
       "5 age          0.238444463 0.05483476  4.3484178 1.371232e-05\n",
       "6 male         0.153862333 0.07264766  2.1179256 3.418137e-02\n",
       "7 school      -0.002271456 0.01019223 -0.2228615 8.236433e-01\n",
       "8 privins_n    0.093922247 0.09042523  1.0386730 2.989568e-01"
      ]
     },
     "metadata": {},
     "output_type": "display_data"
    }
   ],
   "source": [
    "library(MASS)\n",
    "library(broom)\n",
    "my_glm <- glm.nb(hosp ~ exclhlth + poorhlth + numchron + age + male + school + privins_n, data = debtrivedi)\n",
    "tidy(my_glm)\n"
   ]
  },
  {
   "cell_type": "markdown",
   "id": "5fcf9f00-3a07-4e34-805c-de0f95d4d76a",
   "metadata": {},
   "source": [
    "## Results"
   ]
  },
  {
   "cell_type": "markdown",
   "id": "3d365e27-c7c5-4936-90db-8392fae3a124",
   "metadata": {},
   "source": [
    "The output is divided into blocks to explain it and to reproduce it afterwards in the different languages."
   ]
  },
  {
   "cell_type": "markdown",
   "id": "40ce206b-826d-42c6-bc39-c588864d99b7",
   "metadata": {},
   "source": [
    "### Block 1\n",
    "![Block 1](img_screenshots/block_1.png)\n"
   ]
  },
  {
   "cell_type": "markdown",
   "id": "8228a2da",
   "metadata": {},
   "source": [
    "This block provides the name of the dataset, the response distribution, the link function and the reponse variable."
   ]
  },
  {
   "cell_type": "markdown",
   "id": "ed614149",
   "metadata": {},
   "source": [
    "### R chunk for reproduction"
   ]
  },
  {
   "cell_type": "code",
   "execution_count": 40,
   "id": "a9e74eb9",
   "metadata": {},
   "outputs": [
    {
     "data": {
      "text/plain": [
       "\n",
       "Call:\n",
       "glm.nb(formula = hosp ~ exclhlth + poorhlth + numchron + age + \n",
       "    male + school + privins_n, data = debtrivedi, init.theta = 0.5660185253, \n",
       "    link = log)\n",
       "\n",
       "Coefficients:\n",
       "             Estimate Std. Error z value Pr(>|z|)    \n",
       "(Intercept) -3.752640   0.441908  -8.492  < 2e-16 ***\n",
       "exclhlth    -0.697875   0.193151  -3.613 0.000303 ***\n",
       "poorhlth     0.613926   0.095217   6.448 1.14e-10 ***\n",
       "numchron     0.289418   0.025414  11.388  < 2e-16 ***\n",
       "age          0.238444   0.054835   4.348 1.37e-05 ***\n",
       "male         0.153862   0.072648   2.118 0.034181 *  \n",
       "school      -0.002271   0.010192  -0.223 0.823643    \n",
       "privins_n    0.093922   0.090425   1.039 0.298957    \n",
       "---\n",
       "Signif. codes:  0 '***' 0.001 '**' 0.01 '*' 0.05 '.' 0.1 ' ' 1\n",
       "\n",
       "(Dispersion parameter for Negative Binomial(0.566) family taken to be 1)\n",
       "\n",
       "    Null deviance: 2879.7  on 4405  degrees of freedom\n",
       "Residual deviance: 2547.9  on 4398  degrees of freedom\n",
       "AIC: 5731.1\n",
       "\n",
       "Number of Fisher Scoring iterations: 1\n",
       "\n",
       "\n",
       "              Theta:  0.5660 \n",
       "          Std. Err.:  0.0513 \n",
       "\n",
       " 2 x log-likelihood:  -5713.1250 "
      ]
     },
     "metadata": {},
     "output_type": "display_data"
    }
   ],
   "source": [
    "summary(my_glm)"
   ]
  },
  {
   "cell_type": "markdown",
   "id": "09f48c70-5dd6-4e6a-984e-6ed29408f555",
   "metadata": {},
   "source": [
    "### Block 2\n",
    "![Block 2](img_screenshots/block_2.png)"
   ]
  },
  {
   "cell_type": "markdown",
   "id": "8cb51caf",
   "metadata": {},
   "source": [
    "This block provides the number of observations read from the dateset and the number of observations used in the model."
   ]
  },
  {
   "cell_type": "markdown",
   "id": "cc725cb2",
   "metadata": {},
   "source": [
    "### R chunk for reproduction"
   ]
  },
  {
   "cell_type": "code",
   "execution_count": 41,
   "id": "ebb43f10",
   "metadata": {},
   "outputs": [
    {
     "data": {
      "text/html": [
       "4406"
      ],
      "text/latex": [
       "4406"
      ],
      "text/markdown": [
       "4406"
      ],
      "text/plain": [
       "[1] 4406"
      ]
     },
     "metadata": {},
     "output_type": "display_data"
    },
    {
     "data": {
      "text/html": [
       "4406"
      ],
      "text/latex": [
       "4406"
      ],
      "text/markdown": [
       "4406"
      ],
      "text/plain": [
       "[1] 4406"
      ]
     },
     "metadata": {},
     "output_type": "display_data"
    }
   ],
   "source": [
    "nrow(debtrivedi)\n",
    "nobs(my_glm)"
   ]
  },
  {
   "cell_type": "markdown",
   "id": "c600c9a5-619f-4495-80e6-85c89a18877d",
   "metadata": {},
   "source": [
    "### Block 3\n",
    "![Block 3](img_screenshots/block_3.png)"
   ]
  },
  {
   "cell_type": "markdown",
   "id": "9edddc7a",
   "metadata": {},
   "source": [
    "This block displays some criteria for assessing the goodnes of fit."
   ]
  },
  {
   "cell_type": "markdown",
   "id": "93c3d619",
   "metadata": {},
   "source": [
    "### R chunk for reproduction"
   ]
  },
  {
   "cell_type": "code",
   "execution_count": 42,
   "id": "f51bfd74",
   "metadata": {},
   "outputs": [
    {
     "data": {
      "text/html": [
       "<table class=\"dataframe\">\n",
       "<caption>A tibble: 1 × 8</caption>\n",
       "<thead>\n",
       "\t<tr><th scope=col>null.deviance</th><th scope=col>df.null</th><th scope=col>logLik</th><th scope=col>AIC</th><th scope=col>BIC</th><th scope=col>deviance</th><th scope=col>df.residual</th><th scope=col>nobs</th></tr>\n",
       "\t<tr><th scope=col>&lt;dbl&gt;</th><th scope=col>&lt;int&gt;</th><th scope=col>&lt;logLik&gt;</th><th scope=col>&lt;dbl&gt;</th><th scope=col>&lt;dbl&gt;</th><th scope=col>&lt;dbl&gt;</th><th scope=col>&lt;int&gt;</th><th scope=col>&lt;int&gt;</th></tr>\n",
       "</thead>\n",
       "<tbody>\n",
       "\t<tr><td>2879.693</td><td>4405</td><td>-2856.562</td><td>5731.125</td><td>5788.641</td><td>2547.901</td><td>4398</td><td>4406</td></tr>\n",
       "</tbody>\n",
       "</table>\n"
      ],
      "text/latex": [
       "A tibble: 1 × 8\n",
       "\\begin{tabular}{llllllll}\n",
       " null.deviance & df.null & logLik & AIC & BIC & deviance & df.residual & nobs\\\\\n",
       " <dbl> & <int> & <logLik> & <dbl> & <dbl> & <dbl> & <int> & <int>\\\\\n",
       "\\hline\n",
       "\t 2879.693 & 4405 & -2856.562 & 5731.125 & 5788.641 & 2547.901 & 4398 & 4406\\\\\n",
       "\\end{tabular}\n"
      ],
      "text/markdown": [
       "\n",
       "A tibble: 1 × 8\n",
       "\n",
       "| null.deviance &lt;dbl&gt; | df.null &lt;int&gt; | logLik &lt;logLik&gt; | AIC &lt;dbl&gt; | BIC &lt;dbl&gt; | deviance &lt;dbl&gt; | df.residual &lt;int&gt; | nobs &lt;int&gt; |\n",
       "|---|---|---|---|---|---|---|---|\n",
       "| 2879.693 | 4405 | -2856.562 | 5731.125 | 5788.641 | 2547.901 | 4398 | 4406 |\n",
       "\n"
      ],
      "text/plain": [
       "  null.deviance df.null logLik    AIC      BIC      deviance df.residual nobs\n",
       "1 2879.693      4405    -2856.562 5731.125 5788.641 2547.901 4398        4406"
      ]
     },
     "metadata": {},
     "output_type": "display_data"
    }
   ],
   "source": [
    "glance(my_glm)"
   ]
  },
  {
   "cell_type": "code",
   "execution_count": 43,
   "id": "21aa4f68",
   "metadata": {},
   "outputs": [
    {
     "data": {
      "text/html": [
       "<table class=\"dataframe\">\n",
       "<caption>A tibble: 1 × 8</caption>\n",
       "<thead>\n",
       "\t<tr><th scope=col>null.deviance</th><th scope=col>df.null</th><th scope=col>logLik</th><th scope=col>AIC</th><th scope=col>BIC</th><th scope=col>deviance</th><th scope=col>df.residual</th><th scope=col>nobs</th></tr>\n",
       "\t<tr><th scope=col>&lt;dbl&gt;</th><th scope=col>&lt;int&gt;</th><th scope=col>&lt;logLik&gt;</th><th scope=col>&lt;dbl&gt;</th><th scope=col>&lt;dbl&gt;</th><th scope=col>&lt;dbl&gt;</th><th scope=col>&lt;int&gt;</th><th scope=col>&lt;int&gt;</th></tr>\n",
       "</thead>\n",
       "<tbody>\n",
       "\t<tr><td>2490.834</td><td>4405</td><td>-3009.625</td><td>6023.249</td><td>6036.031</td><td>2490.834</td><td>4405</td><td>4406</td></tr>\n",
       "</tbody>\n",
       "</table>\n"
      ],
      "text/latex": [
       "A tibble: 1 × 8\n",
       "\\begin{tabular}{llllllll}\n",
       " null.deviance & df.null & logLik & AIC & BIC & deviance & df.residual & nobs\\\\\n",
       " <dbl> & <int> & <logLik> & <dbl> & <dbl> & <dbl> & <int> & <int>\\\\\n",
       "\\hline\n",
       "\t 2490.834 & 4405 & -3009.625 & 6023.249 & 6036.031 & 2490.834 & 4405 & 4406\\\\\n",
       "\\end{tabular}\n"
      ],
      "text/markdown": [
       "\n",
       "A tibble: 1 × 8\n",
       "\n",
       "| null.deviance &lt;dbl&gt; | df.null &lt;int&gt; | logLik &lt;logLik&gt; | AIC &lt;dbl&gt; | BIC &lt;dbl&gt; | deviance &lt;dbl&gt; | df.residual &lt;int&gt; | nobs &lt;int&gt; |\n",
       "|---|---|---|---|---|---|---|---|\n",
       "| 2490.834 | 4405 | -3009.625 | 6023.249 | 6036.031 | 2490.834 | 4405 | 4406 |\n",
       "\n"
      ],
      "text/plain": [
       "  null.deviance df.null logLik    AIC      BIC      deviance df.residual nobs\n",
       "1 2490.834      4405    -3009.625 6023.249 6036.031 2490.834 4405        4406"
      ]
     },
     "metadata": {},
     "output_type": "display_data"
    }
   ],
   "source": [
    "my_glm_intercept <- glm.nb(hosp ~ 1, data = debtrivedi)\n",
    "glance(my_glm_intercept)\n"
   ]
  },
  {
   "cell_type": "markdown",
   "id": "e76ff54b-9339-4c00-bb4e-c5deea17de63",
   "metadata": {},
   "source": [
    "### Block 4\n",
    "![Block 4](img_screenshots/block_4.png)"
   ]
  },
  {
   "cell_type": "markdown",
   "id": "81416391",
   "metadata": {},
   "source": [
    "This block contains the results from fitting a generalized linear model to the data."
   ]
  },
  {
   "cell_type": "markdown",
   "id": "0aa23b68",
   "metadata": {},
   "source": [
    "### R chunk for reproduction"
   ]
  },
  {
   "cell_type": "code",
   "execution_count": 44,
   "id": "4b052ce6",
   "metadata": {},
   "outputs": [
    {
     "data": {
      "text/html": [
       "<table class=\"dataframe\">\n",
       "<caption>A tibble: 8 × 5</caption>\n",
       "<thead>\n",
       "\t<tr><th scope=col>term</th><th scope=col>estimate</th><th scope=col>std.error</th><th scope=col>statistic</th><th scope=col>p.value</th></tr>\n",
       "\t<tr><th scope=col>&lt;chr&gt;</th><th scope=col>&lt;dbl&gt;</th><th scope=col>&lt;dbl&gt;</th><th scope=col>&lt;dbl&gt;</th><th scope=col>&lt;dbl&gt;</th></tr>\n",
       "</thead>\n",
       "<tbody>\n",
       "\t<tr><td>(Intercept)</td><td>-3.752639734</td><td>0.44190797</td><td>-8.4919032</td><td>2.032803e-17</td></tr>\n",
       "\t<tr><td>exclhlth   </td><td>-0.697874635</td><td>0.19315090</td><td>-3.6131058</td><td>3.025512e-04</td></tr>\n",
       "\t<tr><td>poorhlth   </td><td> 0.613926301</td><td>0.09521661</td><td> 6.4476805</td><td>1.135749e-10</td></tr>\n",
       "\t<tr><td>numchron   </td><td> 0.289418299</td><td>0.02541425</td><td>11.3880328</td><td>4.796974e-30</td></tr>\n",
       "\t<tr><td>age        </td><td> 0.238444463</td><td>0.05483476</td><td> 4.3484178</td><td>1.371232e-05</td></tr>\n",
       "\t<tr><td>male       </td><td> 0.153862333</td><td>0.07264766</td><td> 2.1179256</td><td>3.418137e-02</td></tr>\n",
       "\t<tr><td>school     </td><td>-0.002271456</td><td>0.01019223</td><td>-0.2228615</td><td>8.236433e-01</td></tr>\n",
       "\t<tr><td>privins_n  </td><td> 0.093922247</td><td>0.09042523</td><td> 1.0386730</td><td>2.989568e-01</td></tr>\n",
       "</tbody>\n",
       "</table>\n"
      ],
      "text/latex": [
       "A tibble: 8 × 5\n",
       "\\begin{tabular}{lllll}\n",
       " term & estimate & std.error & statistic & p.value\\\\\n",
       " <chr> & <dbl> & <dbl> & <dbl> & <dbl>\\\\\n",
       "\\hline\n",
       "\t (Intercept) & -3.752639734 & 0.44190797 & -8.4919032 & 2.032803e-17\\\\\n",
       "\t exclhlth    & -0.697874635 & 0.19315090 & -3.6131058 & 3.025512e-04\\\\\n",
       "\t poorhlth    &  0.613926301 & 0.09521661 &  6.4476805 & 1.135749e-10\\\\\n",
       "\t numchron    &  0.289418299 & 0.02541425 & 11.3880328 & 4.796974e-30\\\\\n",
       "\t age         &  0.238444463 & 0.05483476 &  4.3484178 & 1.371232e-05\\\\\n",
       "\t male        &  0.153862333 & 0.07264766 &  2.1179256 & 3.418137e-02\\\\\n",
       "\t school      & -0.002271456 & 0.01019223 & -0.2228615 & 8.236433e-01\\\\\n",
       "\t privins\\_n   &  0.093922247 & 0.09042523 &  1.0386730 & 2.989568e-01\\\\\n",
       "\\end{tabular}\n"
      ],
      "text/markdown": [
       "\n",
       "A tibble: 8 × 5\n",
       "\n",
       "| term &lt;chr&gt; | estimate &lt;dbl&gt; | std.error &lt;dbl&gt; | statistic &lt;dbl&gt; | p.value &lt;dbl&gt; |\n",
       "|---|---|---|---|---|\n",
       "| (Intercept) | -3.752639734 | 0.44190797 | -8.4919032 | 2.032803e-17 |\n",
       "| exclhlth    | -0.697874635 | 0.19315090 | -3.6131058 | 3.025512e-04 |\n",
       "| poorhlth    |  0.613926301 | 0.09521661 |  6.4476805 | 1.135749e-10 |\n",
       "| numchron    |  0.289418299 | 0.02541425 | 11.3880328 | 4.796974e-30 |\n",
       "| age         |  0.238444463 | 0.05483476 |  4.3484178 | 1.371232e-05 |\n",
       "| male        |  0.153862333 | 0.07264766 |  2.1179256 | 3.418137e-02 |\n",
       "| school      | -0.002271456 | 0.01019223 | -0.2228615 | 8.236433e-01 |\n",
       "| privins_n   |  0.093922247 | 0.09042523 |  1.0386730 | 2.989568e-01 |\n",
       "\n"
      ],
      "text/plain": [
       "  term        estimate     std.error  statistic  p.value     \n",
       "1 (Intercept) -3.752639734 0.44190797 -8.4919032 2.032803e-17\n",
       "2 exclhlth    -0.697874635 0.19315090 -3.6131058 3.025512e-04\n",
       "3 poorhlth     0.613926301 0.09521661  6.4476805 1.135749e-10\n",
       "4 numchron     0.289418299 0.02541425 11.3880328 4.796974e-30\n",
       "5 age          0.238444463 0.05483476  4.3484178 1.371232e-05\n",
       "6 male         0.153862333 0.07264766  2.1179256 3.418137e-02\n",
       "7 school      -0.002271456 0.01019223 -0.2228615 8.236433e-01\n",
       "8 privins_n    0.093922247 0.09042523  1.0386730 2.989568e-01"
      ]
     },
     "metadata": {},
     "output_type": "display_data"
    }
   ],
   "source": [
    "tidy(my_glm)"
   ]
  },
  {
   "cell_type": "markdown",
   "id": "8743a8b2-74c2-4ef6-b1ba-8446feafb902",
   "metadata": {},
   "source": [
    "### Block 5\n",
    "\n",
    "![Block 5](img_screenshots/block_5.png)"
   ]
  },
  {
   "cell_type": "markdown",
   "id": "ad333296",
   "metadata": {},
   "source": [
    "This block contains one row for each effect in the model with the name of the effect, the likelihood ratio statistic for testing the significance of the effect, the degrees of freedom for the effect, and the p-value computed from the chi-square distribution."
   ]
  },
  {
   "cell_type": "markdown",
   "id": "f3298a78",
   "metadata": {},
   "source": [
    "### R chunk for reproduction\n",
    "\n",
    "TODO:"
   ]
  },
  {
   "cell_type": "code",
   "execution_count": 45,
   "id": "5bc6f222",
   "metadata": {},
   "outputs": [
    {
     "data": {
      "text/html": [
       "<table class=\"dataframe\">\n",
       "<caption>A anova: 8 × 3</caption>\n",
       "<thead>\n",
       "\t<tr><th></th><th scope=col>Df</th><th scope=col>Chisq</th><th scope=col>Pr(&gt;Chisq)</th></tr>\n",
       "\t<tr><th></th><th scope=col>&lt;dbl&gt;</th><th scope=col>&lt;dbl&gt;</th><th scope=col>&lt;dbl&gt;</th></tr>\n",
       "</thead>\n",
       "<tbody>\n",
       "\t<tr><th scope=row>(Intercept)</th><td>1</td><td> 72.11241965</td><td>2.032803e-17</td></tr>\n",
       "\t<tr><th scope=row>exclhlth</th><td>1</td><td> 13.05453345</td><td>3.025512e-04</td></tr>\n",
       "\t<tr><th scope=row>poorhlth</th><td>1</td><td> 41.57258349</td><td>1.135749e-10</td></tr>\n",
       "\t<tr><th scope=row>numchron</th><td>1</td><td>129.68729106</td><td>4.796974e-30</td></tr>\n",
       "\t<tr><th scope=row>age</th><td>1</td><td> 18.90873703</td><td>1.371232e-05</td></tr>\n",
       "\t<tr><th scope=row>male</th><td>1</td><td>  4.48560891</td><td>3.418137e-02</td></tr>\n",
       "\t<tr><th scope=row>school</th><td>1</td><td>  0.04966727</td><td>8.236433e-01</td></tr>\n",
       "\t<tr><th scope=row>privins_n</th><td>1</td><td>  1.07884162</td><td>2.989568e-01</td></tr>\n",
       "</tbody>\n",
       "</table>\n"
      ],
      "text/latex": [
       "A anova: 8 × 3\n",
       "\\begin{tabular}{r|lll}\n",
       "  & Df & Chisq & Pr(>Chisq)\\\\\n",
       "  & <dbl> & <dbl> & <dbl>\\\\\n",
       "\\hline\n",
       "\t(Intercept) & 1 &  72.11241965 & 2.032803e-17\\\\\n",
       "\texclhlth & 1 &  13.05453345 & 3.025512e-04\\\\\n",
       "\tpoorhlth & 1 &  41.57258349 & 1.135749e-10\\\\\n",
       "\tnumchron & 1 & 129.68729106 & 4.796974e-30\\\\\n",
       "\tage & 1 &  18.90873703 & 1.371232e-05\\\\\n",
       "\tmale & 1 &   4.48560891 & 3.418137e-02\\\\\n",
       "\tschool & 1 &   0.04966727 & 8.236433e-01\\\\\n",
       "\tprivins\\_n & 1 &   1.07884162 & 2.989568e-01\\\\\n",
       "\\end{tabular}\n"
      ],
      "text/markdown": [
       "\n",
       "A anova: 8 × 3\n",
       "\n",
       "| <!--/--> | Df &lt;dbl&gt; | Chisq &lt;dbl&gt; | Pr(&gt;Chisq) &lt;dbl&gt; |\n",
       "|---|---|---|---|\n",
       "| (Intercept) | 1 |  72.11241965 | 2.032803e-17 |\n",
       "| exclhlth | 1 |  13.05453345 | 3.025512e-04 |\n",
       "| poorhlth | 1 |  41.57258349 | 1.135749e-10 |\n",
       "| numchron | 1 | 129.68729106 | 4.796974e-30 |\n",
       "| age | 1 |  18.90873703 | 1.371232e-05 |\n",
       "| male | 1 |   4.48560891 | 3.418137e-02 |\n",
       "| school | 1 |   0.04966727 | 8.236433e-01 |\n",
       "| privins_n | 1 |   1.07884162 | 2.989568e-01 |\n",
       "\n"
      ],
      "text/plain": [
       "            Df Chisq        Pr(>Chisq)  \n",
       "(Intercept) 1   72.11241965 2.032803e-17\n",
       "exclhlth    1   13.05453345 3.025512e-04\n",
       "poorhlth    1   41.57258349 1.135749e-10\n",
       "numchron    1  129.68729106 4.796974e-30\n",
       "age         1   18.90873703 1.371232e-05\n",
       "male        1    4.48560891 3.418137e-02\n",
       "school      1    0.04966727 8.236433e-01\n",
       "privins_n   1    1.07884162 2.989568e-01"
      ]
     },
     "metadata": {},
     "output_type": "display_data"
    }
   ],
   "source": [
    "library(lmtest)\n",
    "library(car)\n",
    "#my_glm <- glm.nb(hosp ~ exclhlth + poorhlth + numchron + age + male + school + privins_n, data = debtrivedi)\n",
    "#my_glm_age <- glm.nb(hosp ~ exclhlth + poorhlth + numchron + male + school + privins_n, data = debtrivedi)\n",
    "#lrtest(my_glm_age, my_glm_intercept)\n",
    "car::Anova(my_glm, type = 3, test.statistic = \"Wald\")"
   ]
  },
  {
   "cell_type": "code",
   "execution_count": 46,
   "id": "7b54733d",
   "metadata": {},
   "outputs": [
    {
     "data": {
      "text/html": [
       "<table class=\"dataframe\">\n",
       "<caption>A anova: 7 × 3</caption>\n",
       "<thead>\n",
       "\t<tr><th></th><th scope=col>LR Chisq</th><th scope=col>Df</th><th scope=col>Pr(&gt;Chisq)</th></tr>\n",
       "\t<tr><th></th><th scope=col>&lt;dbl&gt;</th><th scope=col>&lt;dbl&gt;</th><th scope=col>&lt;dbl&gt;</th></tr>\n",
       "</thead>\n",
       "<tbody>\n",
       "\t<tr><th scope=row>exclhlth</th><td> 14.8593794</td><td>1</td><td>1.158306e-04</td></tr>\n",
       "\t<tr><th scope=row>poorhlth</th><td> 41.1621381</td><td>1</td><td>1.401105e-10</td></tr>\n",
       "\t<tr><th scope=row>numchron</th><td>124.1017411</td><td>1</td><td>8.003294e-29</td></tr>\n",
       "\t<tr><th scope=row>age</th><td> 18.5851057</td><td>1</td><td>1.624851e-05</td></tr>\n",
       "\t<tr><th scope=row>male</th><td>  4.4396288</td><td>1</td><td>3.511388e-02</td></tr>\n",
       "\t<tr><th scope=row>school</th><td>  0.0495539</td><td>1</td><td>8.238413e-01</td></tr>\n",
       "\t<tr><th scope=row>privins_n</th><td>  1.0817987</td><td>1</td><td>2.982955e-01</td></tr>\n",
       "</tbody>\n",
       "</table>\n"
      ],
      "text/latex": [
       "A anova: 7 × 3\n",
       "\\begin{tabular}{r|lll}\n",
       "  & LR Chisq & Df & Pr(>Chisq)\\\\\n",
       "  & <dbl> & <dbl> & <dbl>\\\\\n",
       "\\hline\n",
       "\texclhlth &  14.8593794 & 1 & 1.158306e-04\\\\\n",
       "\tpoorhlth &  41.1621381 & 1 & 1.401105e-10\\\\\n",
       "\tnumchron & 124.1017411 & 1 & 8.003294e-29\\\\\n",
       "\tage &  18.5851057 & 1 & 1.624851e-05\\\\\n",
       "\tmale &   4.4396288 & 1 & 3.511388e-02\\\\\n",
       "\tschool &   0.0495539 & 1 & 8.238413e-01\\\\\n",
       "\tprivins\\_n &   1.0817987 & 1 & 2.982955e-01\\\\\n",
       "\\end{tabular}\n"
      ],
      "text/markdown": [
       "\n",
       "A anova: 7 × 3\n",
       "\n",
       "| <!--/--> | LR Chisq &lt;dbl&gt; | Df &lt;dbl&gt; | Pr(&gt;Chisq) &lt;dbl&gt; |\n",
       "|---|---|---|---|\n",
       "| exclhlth |  14.8593794 | 1 | 1.158306e-04 |\n",
       "| poorhlth |  41.1621381 | 1 | 1.401105e-10 |\n",
       "| numchron | 124.1017411 | 1 | 8.003294e-29 |\n",
       "| age |  18.5851057 | 1 | 1.624851e-05 |\n",
       "| male |   4.4396288 | 1 | 3.511388e-02 |\n",
       "| school |   0.0495539 | 1 | 8.238413e-01 |\n",
       "| privins_n |   1.0817987 | 1 | 2.982955e-01 |\n",
       "\n"
      ],
      "text/plain": [
       "          LR Chisq    Df Pr(>Chisq)  \n",
       "exclhlth   14.8593794 1  1.158306e-04\n",
       "poorhlth   41.1621381 1  1.401105e-10\n",
       "numchron  124.1017411 1  8.003294e-29\n",
       "age        18.5851057 1  1.624851e-05\n",
       "male        4.4396288 1  3.511388e-02\n",
       "school      0.0495539 1  8.238413e-01\n",
       "privins_n   1.0817987 1  2.982955e-01"
      ]
     },
     "metadata": {},
     "output_type": "display_data"
    }
   ],
   "source": [
    "car::Anova(my_glm, type = 3, test.statistic = \"LR\")"
   ]
  },
  {
   "cell_type": "markdown",
   "id": "09eafa13",
   "metadata": {},
   "source": [
    "\n",
    "==========================\n"
   ]
  },
  {
   "cell_type": "markdown",
   "id": "2cea3490-b255-48f5-a479-2b340380c718",
   "metadata": {},
   "source": [
    "### Block 6\n",
    "![Block 6](img_screenshots/block_6.png)"
   ]
  },
  {
   "cell_type": "markdown",
   "id": "5fd427ae",
   "metadata": {},
   "source": [
    "This block provides the class level information for the refence coding of the categorical parameters.\n",
    "See the following code block."
   ]
  },
  {
   "cell_type": "raw",
   "id": "05aa03dd",
   "metadata": {},
   "source": [
    "proc genmod data = debtrivedi;\n",
    "  class health (param = ref ref = \"average\") gender (param = ref ref = \"female\") privins (param = ref ref = \"no\");\n",
    "  model hosp = health numchron age gender school privins / type3 dist=negbin;\n",
    "run;"
   ]
  },
  {
   "cell_type": "markdown",
   "id": "90a1db64",
   "metadata": {},
   "source": [
    "### R chunk for reproduction"
   ]
  },
  {
   "cell_type": "code",
   "execution_count": 47,
   "id": "ea68ffd2",
   "metadata": {},
   "outputs": [
    {
     "data": {
      "text/html": [
       "<table class=\"dataframe\">\n",
       "<caption>A tibble: 8 × 5</caption>\n",
       "<thead>\n",
       "\t<tr><th scope=col>term</th><th scope=col>estimate</th><th scope=col>std.error</th><th scope=col>statistic</th><th scope=col>p.value</th></tr>\n",
       "\t<tr><th scope=col>&lt;chr&gt;</th><th scope=col>&lt;dbl&gt;</th><th scope=col>&lt;dbl&gt;</th><th scope=col>&lt;dbl&gt;</th><th scope=col>&lt;dbl&gt;</th></tr>\n",
       "</thead>\n",
       "<tbody>\n",
       "\t<tr><td>(Intercept)    </td><td>-3.752639734</td><td>0.44190797</td><td>-8.4919032</td><td>2.032803e-17</td></tr>\n",
       "\t<tr><td>healthexcellent</td><td>-0.697874635</td><td>0.19315090</td><td>-3.6131058</td><td>3.025512e-04</td></tr>\n",
       "\t<tr><td>healthpoor     </td><td> 0.613926301</td><td>0.09521661</td><td> 6.4476805</td><td>1.135749e-10</td></tr>\n",
       "\t<tr><td>numchron       </td><td> 0.289418299</td><td>0.02541425</td><td>11.3880328</td><td>4.796974e-30</td></tr>\n",
       "\t<tr><td>age            </td><td> 0.238444463</td><td>0.05483476</td><td> 4.3484178</td><td>1.371232e-05</td></tr>\n",
       "\t<tr><td>gendermale     </td><td> 0.153862333</td><td>0.07264766</td><td> 2.1179256</td><td>3.418137e-02</td></tr>\n",
       "\t<tr><td>school         </td><td>-0.002271456</td><td>0.01019223</td><td>-0.2228615</td><td>8.236433e-01</td></tr>\n",
       "\t<tr><td>privins_n      </td><td> 0.093922247</td><td>0.09042523</td><td> 1.0386730</td><td>2.989568e-01</td></tr>\n",
       "</tbody>\n",
       "</table>\n"
      ],
      "text/latex": [
       "A tibble: 8 × 5\n",
       "\\begin{tabular}{lllll}\n",
       " term & estimate & std.error & statistic & p.value\\\\\n",
       " <chr> & <dbl> & <dbl> & <dbl> & <dbl>\\\\\n",
       "\\hline\n",
       "\t (Intercept)     & -3.752639734 & 0.44190797 & -8.4919032 & 2.032803e-17\\\\\n",
       "\t healthexcellent & -0.697874635 & 0.19315090 & -3.6131058 & 3.025512e-04\\\\\n",
       "\t healthpoor      &  0.613926301 & 0.09521661 &  6.4476805 & 1.135749e-10\\\\\n",
       "\t numchron        &  0.289418299 & 0.02541425 & 11.3880328 & 4.796974e-30\\\\\n",
       "\t age             &  0.238444463 & 0.05483476 &  4.3484178 & 1.371232e-05\\\\\n",
       "\t gendermale      &  0.153862333 & 0.07264766 &  2.1179256 & 3.418137e-02\\\\\n",
       "\t school          & -0.002271456 & 0.01019223 & -0.2228615 & 8.236433e-01\\\\\n",
       "\t privins\\_n       &  0.093922247 & 0.09042523 &  1.0386730 & 2.989568e-01\\\\\n",
       "\\end{tabular}\n"
      ],
      "text/markdown": [
       "\n",
       "A tibble: 8 × 5\n",
       "\n",
       "| term &lt;chr&gt; | estimate &lt;dbl&gt; | std.error &lt;dbl&gt; | statistic &lt;dbl&gt; | p.value &lt;dbl&gt; |\n",
       "|---|---|---|---|---|\n",
       "| (Intercept)     | -3.752639734 | 0.44190797 | -8.4919032 | 2.032803e-17 |\n",
       "| healthexcellent | -0.697874635 | 0.19315090 | -3.6131058 | 3.025512e-04 |\n",
       "| healthpoor      |  0.613926301 | 0.09521661 |  6.4476805 | 1.135749e-10 |\n",
       "| numchron        |  0.289418299 | 0.02541425 | 11.3880328 | 4.796974e-30 |\n",
       "| age             |  0.238444463 | 0.05483476 |  4.3484178 | 1.371232e-05 |\n",
       "| gendermale      |  0.153862333 | 0.07264766 |  2.1179256 | 3.418137e-02 |\n",
       "| school          | -0.002271456 | 0.01019223 | -0.2228615 | 8.236433e-01 |\n",
       "| privins_n       |  0.093922247 | 0.09042523 |  1.0386730 | 2.989568e-01 |\n",
       "\n"
      ],
      "text/plain": [
       "  term            estimate     std.error  statistic  p.value     \n",
       "1 (Intercept)     -3.752639734 0.44190797 -8.4919032 2.032803e-17\n",
       "2 healthexcellent -0.697874635 0.19315090 -3.6131058 3.025512e-04\n",
       "3 healthpoor       0.613926301 0.09521661  6.4476805 1.135749e-10\n",
       "4 numchron         0.289418299 0.02541425 11.3880328 4.796974e-30\n",
       "5 age              0.238444463 0.05483476  4.3484178 1.371232e-05\n",
       "6 gendermale       0.153862333 0.07264766  2.1179256 3.418137e-02\n",
       "7 school          -0.002271456 0.01019223 -0.2228615 8.236433e-01\n",
       "8 privins_n        0.093922247 0.09042523  1.0386730 2.989568e-01"
      ]
     },
     "metadata": {},
     "output_type": "display_data"
    }
   ],
   "source": [
    "my_glm <- glm.nb(hosp ~ health + numchron + age + gender + school + privins_n, data = debtrivedi)\n",
    "tidy(my_glm)"
   ]
  },
  {
   "cell_type": "markdown",
   "id": "30db5cb8-1c58-498a-8602-07ad1e8ffd6c",
   "metadata": {},
   "source": [
    "### Block 7\n",
    "![Block 7](img_screenshots/block_7.png)"
   ]
  },
  {
   "cell_type": "markdown",
   "id": "0c3ac6c6",
   "metadata": {},
   "source": [
    "The block above gives the results for the estimates if the reference coding is used.\n",
    "\n",
    "It is similar to the provided R code and its output."
   ]
  },
  {
   "cell_type": "markdown",
   "id": "f47e969c",
   "metadata": {},
   "source": [
    "=========================="
   ]
  },
  {
   "cell_type": "markdown",
   "id": "804b643f-8477-4a08-b97a-5a2da33bfbd0",
   "metadata": {},
   "source": [
    "### Block 8\n",
    "![Block 8](img_screenshots/block_8.png)"
   ]
  },
  {
   "cell_type": "markdown",
   "id": "e3bee837",
   "metadata": {},
   "source": [
    "This block provides the class level information for the GLM coding of the categorical parameters as default coding. See the following code block."
   ]
  },
  {
   "cell_type": "raw",
   "id": "9af9ef43",
   "metadata": {},
   "source": [
    "proc genmod data = debtrivedi;\n",
    "  class health gender privins;\n",
    "  model hosp = health numchron age gender school privins / type3 dist=negbin;\n",
    "run;\n"
   ]
  },
  {
   "cell_type": "markdown",
   "id": "68799f4d",
   "metadata": {},
   "source": [
    "### R chunk for reproduction\n",
    "\n",
    "GLM coding is the default value. It generates columns for each level of a categorical variable."
   ]
  },
  {
   "cell_type": "code",
   "execution_count": 48,
   "id": "7d49ee24",
   "metadata": {},
   "outputs": [
    {
     "data": {
      "text/html": [
       "<table class=\"dataframe\">\n",
       "<caption>A tibble: 8 × 5</caption>\n",
       "<thead>\n",
       "\t<tr><th scope=col>term</th><th scope=col>estimate</th><th scope=col>std.error</th><th scope=col>statistic</th><th scope=col>p.value</th></tr>\n",
       "\t<tr><th scope=col>&lt;chr&gt;</th><th scope=col>&lt;dbl&gt;</th><th scope=col>&lt;dbl&gt;</th><th scope=col>&lt;dbl&gt;</th><th scope=col>&lt;dbl&gt;</th></tr>\n",
       "</thead>\n",
       "<tbody>\n",
       "\t<tr><td>(Intercept)  </td><td>-2.890928852</td><td>0.44877953</td><td>-6.4417573</td><td>1.180980e-10</td></tr>\n",
       "\t<tr><td>averagehlth  </td><td>-0.613926301</td><td>0.09521661</td><td>-6.4476805</td><td>1.135749e-10</td></tr>\n",
       "\t<tr><td>excellenthlth</td><td>-1.311800936</td><td>0.21086082</td><td>-6.2211696</td><td>4.934625e-10</td></tr>\n",
       "\t<tr><td>numchron     </td><td> 0.289418299</td><td>0.02541425</td><td>11.3880328</td><td>4.796974e-30</td></tr>\n",
       "\t<tr><td>age          </td><td> 0.238444463</td><td>0.05483476</td><td> 4.3484178</td><td>1.371232e-05</td></tr>\n",
       "\t<tr><td>female       </td><td>-0.153862333</td><td>0.07264766</td><td>-2.1179256</td><td>3.418137e-02</td></tr>\n",
       "\t<tr><td>school       </td><td>-0.002271456</td><td>0.01019223</td><td>-0.2228615</td><td>8.236433e-01</td></tr>\n",
       "\t<tr><td>privins_n    </td><td>-0.093922247</td><td>0.09042523</td><td>-1.0386730</td><td>2.989568e-01</td></tr>\n",
       "</tbody>\n",
       "</table>\n"
      ],
      "text/latex": [
       "A tibble: 8 × 5\n",
       "\\begin{tabular}{lllll}\n",
       " term & estimate & std.error & statistic & p.value\\\\\n",
       " <chr> & <dbl> & <dbl> & <dbl> & <dbl>\\\\\n",
       "\\hline\n",
       "\t (Intercept)   & -2.890928852 & 0.44877953 & -6.4417573 & 1.180980e-10\\\\\n",
       "\t averagehlth   & -0.613926301 & 0.09521661 & -6.4476805 & 1.135749e-10\\\\\n",
       "\t excellenthlth & -1.311800936 & 0.21086082 & -6.2211696 & 4.934625e-10\\\\\n",
       "\t numchron      &  0.289418299 & 0.02541425 & 11.3880328 & 4.796974e-30\\\\\n",
       "\t age           &  0.238444463 & 0.05483476 &  4.3484178 & 1.371232e-05\\\\\n",
       "\t female        & -0.153862333 & 0.07264766 & -2.1179256 & 3.418137e-02\\\\\n",
       "\t school        & -0.002271456 & 0.01019223 & -0.2228615 & 8.236433e-01\\\\\n",
       "\t privins\\_n     & -0.093922247 & 0.09042523 & -1.0386730 & 2.989568e-01\\\\\n",
       "\\end{tabular}\n"
      ],
      "text/markdown": [
       "\n",
       "A tibble: 8 × 5\n",
       "\n",
       "| term &lt;chr&gt; | estimate &lt;dbl&gt; | std.error &lt;dbl&gt; | statistic &lt;dbl&gt; | p.value &lt;dbl&gt; |\n",
       "|---|---|---|---|---|\n",
       "| (Intercept)   | -2.890928852 | 0.44877953 | -6.4417573 | 1.180980e-10 |\n",
       "| averagehlth   | -0.613926301 | 0.09521661 | -6.4476805 | 1.135749e-10 |\n",
       "| excellenthlth | -1.311800936 | 0.21086082 | -6.2211696 | 4.934625e-10 |\n",
       "| numchron      |  0.289418299 | 0.02541425 | 11.3880328 | 4.796974e-30 |\n",
       "| age           |  0.238444463 | 0.05483476 |  4.3484178 | 1.371232e-05 |\n",
       "| female        | -0.153862333 | 0.07264766 | -2.1179256 | 3.418137e-02 |\n",
       "| school        | -0.002271456 | 0.01019223 | -0.2228615 | 8.236433e-01 |\n",
       "| privins_n     | -0.093922247 | 0.09042523 | -1.0386730 | 2.989568e-01 |\n",
       "\n"
      ],
      "text/plain": [
       "  term          estimate     std.error  statistic  p.value     \n",
       "1 (Intercept)   -2.890928852 0.44877953 -6.4417573 1.180980e-10\n",
       "2 averagehlth   -0.613926301 0.09521661 -6.4476805 1.135749e-10\n",
       "3 excellenthlth -1.311800936 0.21086082 -6.2211696 4.934625e-10\n",
       "4 numchron       0.289418299 0.02541425 11.3880328 4.796974e-30\n",
       "5 age            0.238444463 0.05483476  4.3484178 1.371232e-05\n",
       "6 female        -0.153862333 0.07264766 -2.1179256 3.418137e-02\n",
       "7 school        -0.002271456 0.01019223 -0.2228615 8.236433e-01\n",
       "8 privins_n     -0.093922247 0.09042523 -1.0386730 2.989568e-01"
      ]
     },
     "metadata": {},
     "output_type": "display_data"
    }
   ],
   "source": [
    "df1 <- debtrivedi\n",
    "df1$averagehlth <- (df1$health == \"average\") * 1 + (df1$health== \"excellent\") * 0 + (df1$health == \"poor\") * 0\n",
    "df1$excellenthlth <- (df1$health == \"average\") * 0 + (df1$health == \"excellent\") * 1 + (df1$health == \"poor\") * 0\n",
    "df1$poorhlth <- (df1$health == \"average\") * 0 + (df1$health == \"excellent\") * 0 + (df1$health == \"poor\") * 1\n",
    "\n",
    "df1$male <- ifelse(df1$gender == \"male\", 1, 0)\n",
    "df1$female <- ifelse(df1$gender == \"female\", 1, 0)\n",
    "\n",
    "df1$privins_n <- ifelse(df1$privins == \"no\", 1, 0)\n",
    "df1$privins_y <- ifelse(df1$privins == \"yes\", 1, 0)\n",
    "\n",
    "my_glm <- glm.nb(hosp ~ averagehlth + excellenthlth + poorhlth + numchron + age + female + male + school + privins_n + privins_y, \n",
    "                 data = df1)\n",
    "tidy(my_glm)"
   ]
  },
  {
   "cell_type": "markdown",
   "id": "3840f423-705b-441e-a656-29a43fb2fadc",
   "metadata": {},
   "source": [
    "### Block 9\n",
    "![Block 9](img_screenshots/block_9.png)"
   ]
  },
  {
   "cell_type": "markdown",
   "id": "178a00b5",
   "metadata": {},
   "source": [
    "The block above gives the results for the estimates if the reference coding is used. It is similar to the provided R code and its output."
   ]
  },
  {
   "cell_type": "code",
   "execution_count": null,
   "id": "764b387d",
   "metadata": {},
   "outputs": [],
   "source": []
  }
 ],
 "metadata": {
  "kernelspec": {
   "display_name": "R 4.3.2",
   "language": "R",
   "name": "ir432"
  },
  "language_info": {
   "codemirror_mode": "r",
   "file_extension": ".r",
   "mimetype": "text/x-r-source",
   "name": "R",
   "pygments_lexer": "r",
   "version": "4.3.2"
  }
 },
 "nbformat": 4,
 "nbformat_minor": 5
}
