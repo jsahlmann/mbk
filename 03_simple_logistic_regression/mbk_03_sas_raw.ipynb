{
 "cells": [
  {
   "cell_type": "markdown",
   "id": "df8091c6-2036-476c-b540-77db13c8369e",
   "metadata": {},
   "source": [
    "# 03 - Simple logistic regression"
   ]
  },
  {
   "cell_type": "markdown",
   "id": "8cf7dd5a-4d82-471f-8a41-39e05dbdde32",
   "metadata": {},
   "source": [
    "## Data"
   ]
  },
  {
   "cell_type": "markdown",
   "id": "f4874aaa-1498-44be-8371-053af86b4735",
   "metadata": {},
   "source": [
    "Source of data: mlbench (version 2.1-3.1)\n",
    "PimaIndiansDiabetes: Pima Indians Diabetes Databas\n",
    "\n",
    "https://cran.r-project.org/web/packages/mlbench/index.html\n",
    "e\n",
    "\n",
    "Data set PID2.csv"
   ]
  },
  {
   "cell_type": "code",
   "execution_count": 1,
   "id": "09e0948e-f67e-4798-8b78-888edfcf8a78",
   "metadata": {},
   "outputs": [
    {
     "data": {
      "text/html": [
       "<table class=\"dataframe\">\n",
       "<caption>A tibble: 6 × 9</caption>\n",
       "<thead>\n",
       "\t<tr><th scope=col>pregnant</th><th scope=col>glucose</th><th scope=col>pressure</th><th scope=col>triceps</th><th scope=col>insulin</th><th scope=col>mass</th><th scope=col>pedigree</th><th scope=col>age</th><th scope=col>diabetes</th></tr>\n",
       "\t<tr><th scope=col>&lt;dbl&gt;</th><th scope=col>&lt;dbl&gt;</th><th scope=col>&lt;dbl&gt;</th><th scope=col>&lt;dbl&gt;</th><th scope=col>&lt;dbl&gt;</th><th scope=col>&lt;dbl&gt;</th><th scope=col>&lt;dbl&gt;</th><th scope=col>&lt;dbl&gt;</th><th scope=col>&lt;chr&gt;</th></tr>\n",
       "</thead>\n",
       "<tbody>\n",
       "\t<tr><td>1</td><td> 89</td><td>66</td><td>23</td><td> 94</td><td>28.1</td><td>0.167</td><td>21</td><td>neg</td></tr>\n",
       "\t<tr><td>0</td><td>137</td><td>40</td><td>35</td><td>168</td><td>43.1</td><td>2.288</td><td>33</td><td>pos</td></tr>\n",
       "\t<tr><td>3</td><td> 78</td><td>50</td><td>32</td><td> 88</td><td>31.0</td><td>0.248</td><td>26</td><td>pos</td></tr>\n",
       "\t<tr><td>2</td><td>197</td><td>70</td><td>45</td><td>543</td><td>30.5</td><td>0.158</td><td>53</td><td>pos</td></tr>\n",
       "\t<tr><td>1</td><td>189</td><td>60</td><td>23</td><td>846</td><td>30.1</td><td>0.398</td><td>59</td><td>pos</td></tr>\n",
       "\t<tr><td>5</td><td>166</td><td>72</td><td>19</td><td>175</td><td>25.8</td><td>0.587</td><td>51</td><td>pos</td></tr>\n",
       "</tbody>\n",
       "</table>\n"
      ],
      "text/latex": [
       "A tibble: 6 × 9\n",
       "\\begin{tabular}{lllllllll}\n",
       " pregnant & glucose & pressure & triceps & insulin & mass & pedigree & age & diabetes\\\\\n",
       " <dbl> & <dbl> & <dbl> & <dbl> & <dbl> & <dbl> & <dbl> & <dbl> & <chr>\\\\\n",
       "\\hline\n",
       "\t 1 &  89 & 66 & 23 &  94 & 28.1 & 0.167 & 21 & neg\\\\\n",
       "\t 0 & 137 & 40 & 35 & 168 & 43.1 & 2.288 & 33 & pos\\\\\n",
       "\t 3 &  78 & 50 & 32 &  88 & 31.0 & 0.248 & 26 & pos\\\\\n",
       "\t 2 & 197 & 70 & 45 & 543 & 30.5 & 0.158 & 53 & pos\\\\\n",
       "\t 1 & 189 & 60 & 23 & 846 & 30.1 & 0.398 & 59 & pos\\\\\n",
       "\t 5 & 166 & 72 & 19 & 175 & 25.8 & 0.587 & 51 & pos\\\\\n",
       "\\end{tabular}\n"
      ],
      "text/markdown": [
       "\n",
       "A tibble: 6 × 9\n",
       "\n",
       "| pregnant &lt;dbl&gt; | glucose &lt;dbl&gt; | pressure &lt;dbl&gt; | triceps &lt;dbl&gt; | insulin &lt;dbl&gt; | mass &lt;dbl&gt; | pedigree &lt;dbl&gt; | age &lt;dbl&gt; | diabetes &lt;chr&gt; |\n",
       "|---|---|---|---|---|---|---|---|---|\n",
       "| 1 |  89 | 66 | 23 |  94 | 28.1 | 0.167 | 21 | neg |\n",
       "| 0 | 137 | 40 | 35 | 168 | 43.1 | 2.288 | 33 | pos |\n",
       "| 3 |  78 | 50 | 32 |  88 | 31.0 | 0.248 | 26 | pos |\n",
       "| 2 | 197 | 70 | 45 | 543 | 30.5 | 0.158 | 53 | pos |\n",
       "| 1 | 189 | 60 | 23 | 846 | 30.1 | 0.398 | 59 | pos |\n",
       "| 5 | 166 | 72 | 19 | 175 | 25.8 | 0.587 | 51 | pos |\n",
       "\n"
      ],
      "text/plain": [
       "  pregnant glucose pressure triceps insulin mass pedigree age diabetes\n",
       "1 1         89     66       23       94     28.1 0.167    21  neg     \n",
       "2 0        137     40       35      168     43.1 2.288    33  pos     \n",
       "3 3         78     50       32       88     31.0 0.248    26  pos     \n",
       "4 2        197     70       45      543     30.5 0.158    53  pos     \n",
       "5 1        189     60       23      846     30.1 0.398    59  pos     \n",
       "6 5        166     72       19      175     25.8 0.587    51  pos     "
      ]
     },
     "metadata": {},
     "output_type": "display_data"
    }
   ],
   "source": [
    "library(readr)\n",
    "PID2 <- read_csv(\"data/PID2.csv\",\n",
    "                 show_col_types = FALSE)\n",
    "head(PID2)\n"
   ]
  },
  {
   "cell_type": "markdown",
   "id": "10f39000",
   "metadata": {},
   "source": [
    "## Question\n",
    "\n",
    "Does the glucose level predict diabetes?\n",
    "\n",
    "Model: log[p(X) / (1-p(X))] = ß0 + ß1X\n",
    "\n",
    "\n",
    "\n",
    "H0: No significant relationship between glucose and diabetes, b1 = zero.\n",
    "\n",
    "H1: Significant relationship between glucose and diabetes, ß1 <> zero."
   ]
  },
  {
   "cell_type": "markdown",
   "id": "5e3e5853-4e74-43f7-b9fb-f9a42816fcad",
   "metadata": {},
   "source": [
    "## SAS program snippet"
   ]
  },
  {
   "cell_type": "markdown",
   "id": "72a25d47-c22e-4226-89b2-8e8625f61f8c",
   "metadata": {},
   "source": [
    "The following SAS code will be executed."
   ]
  },
  {
   "cell_type": "raw",
   "id": "b171d2d0-81ef-41e8-8987-5c68601be412",
   "metadata": {},
   "source": [
    "proc logistic data = pid2 descending;\n",
    "  class diabetes;\n",
    "  model diabetes = glucose;\n",
    "run;\n"
   ]
  },
  {
   "cell_type": "markdown",
   "id": "ac626fde",
   "metadata": {},
   "source": [
    "The option descending reverses the order of the levels in the dependent variable."
   ]
  },
  {
   "cell_type": "markdown",
   "id": "5fcf9f00-3a07-4e34-805c-de0f95d4d76a",
   "metadata": {},
   "source": [
    "## Results"
   ]
  },
  {
   "cell_type": "markdown",
   "id": "3d365e27-c7c5-4936-90db-8392fae3a124",
   "metadata": {},
   "source": [
    "The output is divided into blocks to explain it and to reproduce it afterwards in the different languages."
   ]
  },
  {
   "cell_type": "markdown",
   "id": "40ce206b-826d-42c6-bc39-c588864d99b7",
   "metadata": {},
   "source": [
    "### Block 1\n",
    "![Block 1](img_screenshots/block_1.png)"
   ]
  },
  {
   "cell_type": "markdown",
   "id": "ee980b2e",
   "metadata": {},
   "source": [
    "Row 1 refers to the dataset which was used in this procedure.\n",
    "\n",
    "Row 2 gives the response variable or dependent variable for the logistic regression.\n",
    "\n",
    "Row 3 gives the number of response levels equal to the available levels of the dependent variable in the dataset.\n",
    "\n",
    "Row 4 names the type of model. In this case it is a logistic regression or binary logit as stated here.\n",
    "\n",
    "Row 5 gives the name of the optimization technique which was used. Here is a source for differences between the statistical programs.\n",
    "In SAS, the default method is Fisher’s scoring method.\n",
    "In R, the glm documentation mentions iteratively reweighted least squares (IWLS) as the method.\n",
    "In Stata, it is the Newton-Raphson algorithm. \n",
    "These are the three main methods.\n",
    "\n",
    "You have to look into the small print in the description of the method."
   ]
  },
  {
   "cell_type": "markdown",
   "id": "09f48c70-5dd6-4e6a-984e-6ed29408f555",
   "metadata": {},
   "source": [
    "### Block 2\n",
    "![Block 2](img_screenshots/block_2.png)"
   ]
  },
  {
   "cell_type": "markdown",
   "id": "126458cc",
   "metadata": {},
   "source": [
    "The number of observations used might be less than the number of observations read.\n",
    "SAS performs a listwise deletion (complete case analysis) if missing values are present."
   ]
  },
  {
   "cell_type": "markdown",
   "id": "c600c9a5-619f-4495-80e6-85c89a18877d",
   "metadata": {},
   "source": [
    "### Block 3\n",
    "![Block 3](img_screenshots/block_3.png)"
   ]
  },
  {
   "cell_type": "markdown",
   "id": "59c9fda1",
   "metadata": {},
   "source": [
    "The levels and the frequencies for the dependent variable are provided here.\n",
    "\n",
    "It is also stated which probability is modeled here. The order was reversed here with the descending option in the proc logistic statement.\n",
    "\n",
    "By default SAS models the 0 while other statistical programs model the 1. \n",
    "Categorical levels would be sorted in alphabetical order and the first level would be modeled."
   ]
  },
  {
   "cell_type": "markdown",
   "id": "e76ff54b-9339-4c00-bb4e-c5deea17de63",
   "metadata": {},
   "source": [
    "### Block 4\n",
    "![Block 4](img_screenshots/block_4.png)"
   ]
  },
  {
   "cell_type": "markdown",
   "id": "b1a0136d",
   "metadata": {},
   "source": [
    "The important information that the model converged can be found here.\n",
    "\n",
    "The model fit status is described by \n",
    "-  AIC (Akaike Information Criterion): Smaller is better.\n",
    "-  SC (Schwarz Criterion): Smaller is better.\n",
    "-  -2 Log L (negative two times the log-likelihood)\n",
    "\n"
   ]
  },
  {
   "cell_type": "markdown",
   "id": "8743a8b2-74c2-4ef6-b1ba-8446feafb902",
   "metadata": {},
   "source": [
    "### Block 5\n",
    "![Block 5](img_screenshots/block_5.png)"
   ]
  },
  {
   "cell_type": "markdown",
   "id": "f2cc9057-c833-4de1-b522-2d010e4bce95",
   "metadata": {},
   "source": [
    "These global tests test the null hypothesis that all regression coefficents are zero.\n",
    "\n",
    "The tests are different chi-square tests.\n"
   ]
  },
  {
   "cell_type": "markdown",
   "id": "2cea3490-b255-48f5-a479-2b340380c718",
   "metadata": {},
   "source": [
    "### Block 6\n",
    "![Block 6](img_screenshots/block_6.png)"
   ]
  },
  {
   "cell_type": "markdown",
   "id": "ece52e54-d197-4d56-a3fe-41fdb8f681da",
   "metadata": {},
   "source": [
    "Column 1 \"Parameter\" lists the intercept and the parameter in the model.\n",
    "\n",
    "Column 2 \"DF\" gives the degrees of freedom for every parameter.\n",
    "\n",
    "Column 3 \"Estimate\" lists the logit regression estimates for every parameter given that the other parameter are held constant. \n",
    "\n",
    "$log(p / (1 - p)) = -6.10 + 0.04 * glucose$ with p as the probability for diabetes.\n",
    "\n",
    "Column 4 \"Standard Error\" gives the standard errors of the individual regression coefficients.\n",
    "\n",
    "Column 5 \"Wald Chi-Square\" tests the null hypothesis that the regression coefficient is zero given that the other predictors are in the model.\n",
    "\n",
    "Column 6 \"Pr > ChiSq\" gives the p-value for the Wald Chi-Square statistic."
   ]
  },
  {
   "cell_type": "markdown",
   "id": "30db5cb8-1c58-498a-8602-07ad1e8ffd6c",
   "metadata": {},
   "source": [
    "### Block 7\n",
    "![Block 7](img_screenshots/block_7.png)"
   ]
  },
  {
   "cell_type": "markdown",
   "id": "4ae9c59f",
   "metadata": {},
   "source": [
    "Column 1 \"Effect\" lists the variables which are interpreted by the point estimate.\n",
    "\n",
    "Column 2 \"Point Estimate\" is interpreted as an odds ratio. \n",
    "One unit change in the independent variable changes the probability for the modelled event by the estimated value.\n",
    "\n",
    "Column 3 and 4 give the confidence interval for the odds ratio."
   ]
  },
  {
   "cell_type": "markdown",
   "id": "804b643f-8477-4a08-b97a-5a2da33bfbd0",
   "metadata": {},
   "source": [
    "### Block 8\n",
    "![Block 8](img_screenshots/block_8.png)"
   ]
  },
  {
   "cell_type": "markdown",
   "id": "79d526b7",
   "metadata": {},
   "source": [
    "These parameter describe the association between the predicted probabilities and observed responses."
   ]
  },
  {
   "cell_type": "markdown",
   "id": "3840f423-705b-441e-a656-29a43fb2fadc",
   "metadata": {},
   "source": [
    "For details for calculation see https://documentation.sas.com/doc/en/pgmsascdc/9.4_3.4/statug/statug_logistic_details12.htm"
   ]
  },
  {
   "cell_type": "markdown",
   "id": "af5988ad",
   "metadata": {},
   "source": [
    "Concordant or discordant pairs are defined as follows: \n",
    "\n",
    "If we sort the x/y pairs by x in ascending order and look at a particular pair, \n",
    "then it is called a concordant pair if the y-value of this pair is greater than the y-value of the previous pair, \n",
    "and from a discordant pair if this is not the case."
   ]
  },
  {
   "cell_type": "code",
   "execution_count": null,
   "id": "f34833b5-66f0-4a66-a52d-361def63fc05",
   "metadata": {},
   "outputs": [],
   "source": []
  }
 ],
 "metadata": {
  "kernelspec": {
   "display_name": "R 4.3.2",
   "language": "R",
   "name": "ir432"
  },
  "language_info": {
   "codemirror_mode": "r",
   "file_extension": ".r",
   "mimetype": "text/x-r-source",
   "name": "R",
   "pygments_lexer": "r",
   "version": "4.3.2"
  }
 },
 "nbformat": 4,
 "nbformat_minor": 5
}
