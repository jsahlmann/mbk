{
 "cells": [
  {
   "cell_type": "markdown",
   "id": "df8091c6-2036-476c-b540-77db13c8369e",
   "metadata": {},
   "source": [
    "# 03 - Simple logistic regression"
   ]
  },
  {
   "cell_type": "markdown",
   "id": "8cf7dd5a-4d82-471f-8a41-39e05dbdde32",
   "metadata": {},
   "source": [
    "## Data"
   ]
  },
  {
   "cell_type": "markdown",
   "id": "f4874aaa-1498-44be-8371-053af86b4735",
   "metadata": {},
   "source": [
    "Source of data: mlbench (version 2.1-3.1)\n",
    "PimaIndiansDiabetes: Pima Indians Diabetes Databas\n",
    "\n",
    "https://cran.r-project.org/web/packages/mlbench/index.html\n",
    "e\n",
    "\n",
    "Data set PID2.csv"
   ]
  },
  {
   "cell_type": "code",
   "execution_count": 1,
   "id": "09e0948e-f67e-4798-8b78-888edfcf8a78",
   "metadata": {},
   "outputs": [
    {
     "data": {
      "text/html": [
       "<table class=\"dataframe\">\n",
       "<caption>A tibble: 6 × 10</caption>\n",
       "<thead>\n",
       "\t<tr><th scope=col>pregnant</th><th scope=col>glucose</th><th scope=col>pressure</th><th scope=col>triceps</th><th scope=col>insulin</th><th scope=col>mass</th><th scope=col>pedigree</th><th scope=col>age</th><th scope=col>diabetes</th><th scope=col>diabetes_n</th></tr>\n",
       "\t<tr><th scope=col>&lt;dbl&gt;</th><th scope=col>&lt;dbl&gt;</th><th scope=col>&lt;dbl&gt;</th><th scope=col>&lt;dbl&gt;</th><th scope=col>&lt;dbl&gt;</th><th scope=col>&lt;dbl&gt;</th><th scope=col>&lt;dbl&gt;</th><th scope=col>&lt;dbl&gt;</th><th scope=col>&lt;chr&gt;</th><th scope=col>&lt;dbl&gt;</th></tr>\n",
       "</thead>\n",
       "<tbody>\n",
       "\t<tr><td>1</td><td> 89</td><td>66</td><td>23</td><td> 94</td><td>28.1</td><td>0.167</td><td>21</td><td>neg</td><td>0</td></tr>\n",
       "\t<tr><td>0</td><td>137</td><td>40</td><td>35</td><td>168</td><td>43.1</td><td>2.288</td><td>33</td><td>pos</td><td>1</td></tr>\n",
       "\t<tr><td>3</td><td> 78</td><td>50</td><td>32</td><td> 88</td><td>31.0</td><td>0.248</td><td>26</td><td>pos</td><td>1</td></tr>\n",
       "\t<tr><td>2</td><td>197</td><td>70</td><td>45</td><td>543</td><td>30.5</td><td>0.158</td><td>53</td><td>pos</td><td>1</td></tr>\n",
       "\t<tr><td>1</td><td>189</td><td>60</td><td>23</td><td>846</td><td>30.1</td><td>0.398</td><td>59</td><td>pos</td><td>1</td></tr>\n",
       "\t<tr><td>5</td><td>166</td><td>72</td><td>19</td><td>175</td><td>25.8</td><td>0.587</td><td>51</td><td>pos</td><td>1</td></tr>\n",
       "</tbody>\n",
       "</table>\n"
      ],
      "text/latex": [
       "A tibble: 6 × 10\n",
       "\\begin{tabular}{llllllllll}\n",
       " pregnant & glucose & pressure & triceps & insulin & mass & pedigree & age & diabetes & diabetes\\_n\\\\\n",
       " <dbl> & <dbl> & <dbl> & <dbl> & <dbl> & <dbl> & <dbl> & <dbl> & <chr> & <dbl>\\\\\n",
       "\\hline\n",
       "\t 1 &  89 & 66 & 23 &  94 & 28.1 & 0.167 & 21 & neg & 0\\\\\n",
       "\t 0 & 137 & 40 & 35 & 168 & 43.1 & 2.288 & 33 & pos & 1\\\\\n",
       "\t 3 &  78 & 50 & 32 &  88 & 31.0 & 0.248 & 26 & pos & 1\\\\\n",
       "\t 2 & 197 & 70 & 45 & 543 & 30.5 & 0.158 & 53 & pos & 1\\\\\n",
       "\t 1 & 189 & 60 & 23 & 846 & 30.1 & 0.398 & 59 & pos & 1\\\\\n",
       "\t 5 & 166 & 72 & 19 & 175 & 25.8 & 0.587 & 51 & pos & 1\\\\\n",
       "\\end{tabular}\n"
      ],
      "text/markdown": [
       "\n",
       "A tibble: 6 × 10\n",
       "\n",
       "| pregnant &lt;dbl&gt; | glucose &lt;dbl&gt; | pressure &lt;dbl&gt; | triceps &lt;dbl&gt; | insulin &lt;dbl&gt; | mass &lt;dbl&gt; | pedigree &lt;dbl&gt; | age &lt;dbl&gt; | diabetes &lt;chr&gt; | diabetes_n &lt;dbl&gt; |\n",
       "|---|---|---|---|---|---|---|---|---|---|\n",
       "| 1 |  89 | 66 | 23 |  94 | 28.1 | 0.167 | 21 | neg | 0 |\n",
       "| 0 | 137 | 40 | 35 | 168 | 43.1 | 2.288 | 33 | pos | 1 |\n",
       "| 3 |  78 | 50 | 32 |  88 | 31.0 | 0.248 | 26 | pos | 1 |\n",
       "| 2 | 197 | 70 | 45 | 543 | 30.5 | 0.158 | 53 | pos | 1 |\n",
       "| 1 | 189 | 60 | 23 | 846 | 30.1 | 0.398 | 59 | pos | 1 |\n",
       "| 5 | 166 | 72 | 19 | 175 | 25.8 | 0.587 | 51 | pos | 1 |\n",
       "\n"
      ],
      "text/plain": [
       "  pregnant glucose pressure triceps insulin mass pedigree age diabetes\n",
       "1 1         89     66       23       94     28.1 0.167    21  neg     \n",
       "2 0        137     40       35      168     43.1 2.288    33  pos     \n",
       "3 3         78     50       32       88     31.0 0.248    26  pos     \n",
       "4 2        197     70       45      543     30.5 0.158    53  pos     \n",
       "5 1        189     60       23      846     30.1 0.398    59  pos     \n",
       "6 5        166     72       19      175     25.8 0.587    51  pos     \n",
       "  diabetes_n\n",
       "1 0         \n",
       "2 1         \n",
       "3 1         \n",
       "4 1         \n",
       "5 1         \n",
       "6 1         "
      ]
     },
     "metadata": {},
     "output_type": "display_data"
    }
   ],
   "source": [
    "library(readr)\n",
    "PID2 <- read_csv(\"data/PID2.csv\",\n",
    "                 show_col_types = FALSE)\n",
    "PID2$diabetes_n <- ifelse(PID2$diabetes == \"neg\", 0, 1)\n",
    "head(PID2)\n"
   ]
  },
  {
   "cell_type": "markdown",
   "id": "bddbbb5d",
   "metadata": {},
   "source": [
    "## Question\n",
    "\n",
    "Does the glucose level predict diabetes?\n",
    "\n",
    "Model: log[p(X) / (1-p(X))] = ß0 + ß1X\n",
    "\n",
    "\n",
    "\n",
    "H0: No significant relationship between glucose and diabetes, b1 = zero.\n",
    "\n",
    "H1: Significant relationship between glucose and diabetes, ß1 <> zero."
   ]
  },
  {
   "cell_type": "markdown",
   "id": "5e3e5853-4e74-43f7-b9fb-f9a42816fcad",
   "metadata": {},
   "source": [
    "## SAS program snippet"
   ]
  },
  {
   "cell_type": "markdown",
   "id": "72a25d47-c22e-4226-89b2-8e8625f61f8c",
   "metadata": {},
   "source": [
    "The following SAS code will be executed."
   ]
  },
  {
   "cell_type": "raw",
   "id": "b171d2d0-81ef-41e8-8987-5c68601be412",
   "metadata": {},
   "source": [
    "proc logistic data = pid2 descending;\n",
    "  class diabetes;\n",
    "  model diabetes = glucose;\n",
    "run;\n"
   ]
  },
  {
   "cell_type": "markdown",
   "id": "60280883",
   "metadata": {},
   "source": [
    "The option descending reverses the order of the levels in the dependent variable."
   ]
  },
  {
   "cell_type": "markdown",
   "id": "5fcf9f00-3a07-4e34-805c-de0f95d4d76a",
   "metadata": {},
   "source": [
    "## Results"
   ]
  },
  {
   "cell_type": "markdown",
   "id": "3d365e27-c7c5-4936-90db-8392fae3a124",
   "metadata": {},
   "source": [
    "The output is divided into blocks to explain it and to reproduce it afterwards in the different languages."
   ]
  },
  {
   "cell_type": "markdown",
   "id": "40ce206b-826d-42c6-bc39-c588864d99b7",
   "metadata": {},
   "source": [
    "### Block 1\n",
    "![Block 1](img_screenshots/block_1.png)"
   ]
  },
  {
   "cell_type": "markdown",
   "id": "c4a73619",
   "metadata": {},
   "source": [
    "Row 1 refers to the dataset which was used in this procedure.\n",
    "\n",
    "Row 2 gives the response variable or dependent variable for the logistic regression.\n",
    "\n",
    "Row 3 gives the number of response levels equal to the available levels of the dependent variable in the dataset.\n",
    "\n",
    "Row 4 names the type of model. In this case it is a logistic regression or binary logit as stated here.\n",
    "\n",
    "Row 5 gives the name of the optimization technique which was used. Here is a source for differences between the statistical programs.\n",
    "In SAS, the default method is Fisher’s scoring method.\n",
    "In R, the glm documentation mentions iteratively reweighted least squares (IWLS) as the method.\n",
    "In Stata, it is the Newton-Raphson algorithm. \n",
    "These are the three main methods.\n",
    "\n",
    "You have to look into the small print in the description of the method."
   ]
  },
  {
   "cell_type": "markdown",
   "id": "fba159fa",
   "metadata": {},
   "source": [
    "### R chunk for reproduction\n",
    "\n",
    "Data set will be part of the result of the summary() function.\n",
    "\n",
    "The response variable is given in the formula.\n",
    "\n",
    "The number of levels can be obtained with the table() function. SAS handles character values, R needs numeric values for the response variable.\n",
    "\n",
    "The summary() function also provides the information that Fisher Scoring was used.\n",
    "\n"
   ]
  },
  {
   "cell_type": "code",
   "execution_count": 2,
   "id": "1b0e1754",
   "metadata": {},
   "outputs": [
    {
     "data": {
      "text/plain": [
       "\n",
       "Call:\n",
       "glm(formula = diabetes_n ~ glucose, family = binomial, data = PID2)\n",
       "\n",
       "Coefficients:\n",
       "             Estimate Std. Error z value Pr(>|z|)    \n",
       "(Intercept) -6.095521   0.629787  -9.679   <2e-16 ***\n",
       "glucose      0.042421   0.004761   8.911   <2e-16 ***\n",
       "---\n",
       "Signif. codes:  0 '***' 0.001 '**' 0.01 '*' 0.05 '.' 0.1 ' ' 1\n",
       "\n",
       "(Dispersion parameter for binomial family taken to be 1)\n",
       "\n",
       "    Null deviance: 498.10  on 391  degrees of freedom\n",
       "Residual deviance: 386.67  on 390  degrees of freedom\n",
       "AIC: 390.67\n",
       "\n",
       "Number of Fisher Scoring iterations: 4\n"
      ]
     },
     "metadata": {},
     "output_type": "display_data"
    },
    {
     "data": {
      "text/plain": [
       "        diabetes_n\n",
       "diabetes   0   1\n",
       "     neg 262   0\n",
       "     pos   0 130"
      ]
     },
     "metadata": {},
     "output_type": "display_data"
    }
   ],
   "source": [
    "library(broom) \n",
    "my_logistic <- glm(diabetes_n ~ glucose, data = PID2, family = binomial)\n",
    "\n",
    "summary(my_logistic)\n",
    "\n",
    "# Number of response levels\n",
    "table(\"diabetes\" = PID2$diabetes, \"diabetes_n\" = PID2$diabetes_n)\n"
   ]
  },
  {
   "cell_type": "markdown",
   "id": "09f48c70-5dd6-4e6a-984e-6ed29408f555",
   "metadata": {},
   "source": [
    "### Block 2\n",
    "![Block 2](img_screenshots/block_2.png)"
   ]
  },
  {
   "cell_type": "markdown",
   "id": "e52412dd",
   "metadata": {},
   "source": [
    "The number of observations used might be less than the number of observations read.\n",
    "SAS performs a listwise deletion (complete case analysis) if missing values are present."
   ]
  },
  {
   "cell_type": "markdown",
   "id": "6fcf378d",
   "metadata": {},
   "source": [
    "### R chunk for reproduction"
   ]
  },
  {
   "cell_type": "code",
   "execution_count": 3,
   "id": "9665f392",
   "metadata": {},
   "outputs": [
    {
     "data": {
      "text/html": [
       "392"
      ],
      "text/latex": [
       "392"
      ],
      "text/markdown": [
       "392"
      ],
      "text/plain": [
       "[1] 392"
      ]
     },
     "metadata": {},
     "output_type": "display_data"
    },
    {
     "data": {
      "text/html": [
       "392"
      ],
      "text/latex": [
       "392"
      ],
      "text/markdown": [
       "392"
      ],
      "text/plain": [
       "[1] 392"
      ]
     },
     "metadata": {},
     "output_type": "display_data"
    }
   ],
   "source": [
    "## Number of observations read\n",
    "nrow(PID2)\n",
    "## Number of observations used\n",
    "nobs(my_logistic)"
   ]
  },
  {
   "cell_type": "markdown",
   "id": "c600c9a5-619f-4495-80e6-85c89a18877d",
   "metadata": {},
   "source": [
    "### Block 3\n",
    "![Block 3](img_screenshots/block_3.png)"
   ]
  },
  {
   "cell_type": "markdown",
   "id": "9271c686",
   "metadata": {},
   "source": [
    "The levels and the frequencies for the dependent variable are provided here.\n",
    "\n",
    "It is also stated which probability is modeled here. The order was reversed here with the descending option in the proc logistic statement.\n",
    "\n",
    "By default SAS models the 0 while other statistical programs model the 1. \n",
    "Categorical levels would be sorted in alphabetical order and the first level would be modeled."
   ]
  },
  {
   "cell_type": "markdown",
   "id": "c2490833",
   "metadata": {},
   "source": [
    "### R chunk for reproduction"
   ]
  },
  {
   "cell_type": "code",
   "execution_count": 4,
   "id": "33cd19f3",
   "metadata": {},
   "outputs": [
    {
     "data": {
      "text/html": [
       "<table class=\"dataframe\">\n",
       "<caption>A grouped_df: 2 × 3</caption>\n",
       "<thead>\n",
       "\t<tr><th scope=col>diabetes</th><th scope=col>diabetes_n</th><th scope=col>Total Frequency</th></tr>\n",
       "\t<tr><th scope=col>&lt;chr&gt;</th><th scope=col>&lt;dbl&gt;</th><th scope=col>&lt;int&gt;</th></tr>\n",
       "</thead>\n",
       "<tbody>\n",
       "\t<tr><td>neg</td><td>0</td><td>262</td></tr>\n",
       "\t<tr><td>pos</td><td>1</td><td>130</td></tr>\n",
       "</tbody>\n",
       "</table>\n"
      ],
      "text/latex": [
       "A grouped\\_df: 2 × 3\n",
       "\\begin{tabular}{lll}\n",
       " diabetes & diabetes\\_n & Total Frequency\\\\\n",
       " <chr> & <dbl> & <int>\\\\\n",
       "\\hline\n",
       "\t neg & 0 & 262\\\\\n",
       "\t pos & 1 & 130\\\\\n",
       "\\end{tabular}\n"
      ],
      "text/markdown": [
       "\n",
       "A grouped_df: 2 × 3\n",
       "\n",
       "| diabetes &lt;chr&gt; | diabetes_n &lt;dbl&gt; | Total Frequency &lt;int&gt; |\n",
       "|---|---|---|\n",
       "| neg | 0 | 262 |\n",
       "| pos | 1 | 130 |\n",
       "\n"
      ],
      "text/plain": [
       "  diabetes diabetes_n Total Frequency\n",
       "1 neg      0          262            \n",
       "2 pos      1          130            "
      ]
     },
     "metadata": {},
     "output_type": "display_data"
    }
   ],
   "source": [
    "suppressPackageStartupMessages(library(tidyverse))\n",
    "PID2 %>%\n",
    "group_by(diabetes, diabetes_n) %>%\n",
    "count(name = \"Total Frequency\")"
   ]
  },
  {
   "cell_type": "markdown",
   "id": "e76ff54b-9339-4c00-bb4e-c5deea17de63",
   "metadata": {},
   "source": [
    "### Block 4\n",
    "![Block 4](img_screenshots/block_4.png)"
   ]
  },
  {
   "cell_type": "markdown",
   "id": "04357895",
   "metadata": {},
   "source": [
    "The important information that the model converged can be found here.\n",
    "\n",
    "The model fit status is described by \n",
    "-  AIC (Akaike Information Criterion): Smaller is better.\n",
    "-  SC (Schwarz Criterion): Smaller is better.\n",
    "-  -2 Log L (negative two times the log-likelihood)\n",
    "\n"
   ]
  },
  {
   "cell_type": "markdown",
   "id": "68ab26b3",
   "metadata": {},
   "source": [
    "### R chunk for reproduction"
   ]
  },
  {
   "cell_type": "code",
   "execution_count": 5,
   "id": "2e47b4fa",
   "metadata": {},
   "outputs": [
    {
     "data": {
      "text/html": [
       "<table class=\"dataframe\">\n",
       "<caption>A tibble: 1 × 8</caption>\n",
       "<thead>\n",
       "\t<tr><th scope=col>null.deviance</th><th scope=col>df.null</th><th scope=col>logLik</th><th scope=col>AIC</th><th scope=col>BIC</th><th scope=col>deviance</th><th scope=col>df.residual</th><th scope=col>nobs</th></tr>\n",
       "\t<tr><th scope=col>&lt;dbl&gt;</th><th scope=col>&lt;int&gt;</th><th scope=col>&lt;dbl&gt;</th><th scope=col>&lt;dbl&gt;</th><th scope=col>&lt;dbl&gt;</th><th scope=col>&lt;dbl&gt;</th><th scope=col>&lt;int&gt;</th><th scope=col>&lt;int&gt;</th></tr>\n",
       "</thead>\n",
       "<tbody>\n",
       "\t<tr><td>498.0978</td><td>391</td><td>-193.333</td><td>390.666</td><td>398.6085</td><td>386.666</td><td>390</td><td>392</td></tr>\n",
       "</tbody>\n",
       "</table>\n"
      ],
      "text/latex": [
       "A tibble: 1 × 8\n",
       "\\begin{tabular}{llllllll}\n",
       " null.deviance & df.null & logLik & AIC & BIC & deviance & df.residual & nobs\\\\\n",
       " <dbl> & <int> & <dbl> & <dbl> & <dbl> & <dbl> & <int> & <int>\\\\\n",
       "\\hline\n",
       "\t 498.0978 & 391 & -193.333 & 390.666 & 398.6085 & 386.666 & 390 & 392\\\\\n",
       "\\end{tabular}\n"
      ],
      "text/markdown": [
       "\n",
       "A tibble: 1 × 8\n",
       "\n",
       "| null.deviance &lt;dbl&gt; | df.null &lt;int&gt; | logLik &lt;dbl&gt; | AIC &lt;dbl&gt; | BIC &lt;dbl&gt; | deviance &lt;dbl&gt; | df.residual &lt;int&gt; | nobs &lt;int&gt; |\n",
       "|---|---|---|---|---|---|---|---|\n",
       "| 498.0978 | 391 | -193.333 | 390.666 | 398.6085 | 386.666 | 390 | 392 |\n",
       "\n"
      ],
      "text/plain": [
       "  null.deviance df.null logLik   AIC     BIC      deviance df.residual nobs\n",
       "1 498.0978      391     -193.333 390.666 398.6085 386.666  390         392 "
      ]
     },
     "metadata": {},
     "output_type": "display_data"
    }
   ],
   "source": [
    "glance(my_logistic)"
   ]
  },
  {
   "cell_type": "markdown",
   "id": "2457e115",
   "metadata": {},
   "source": [
    "null.deviance and df.null refer to the intercept only model.\n",
    "\n",
    "BIC (Bayes information criterion) is also SC (Schwarz criterion).\n",
    "\n",
    "you can run an intercept model with the following code."
   ]
  },
  {
   "cell_type": "code",
   "execution_count": 6,
   "id": "3ab3afa6",
   "metadata": {},
   "outputs": [
    {
     "data": {
      "text/html": [
       "<table class=\"dataframe\">\n",
       "<caption>A tibble: 1 × 8</caption>\n",
       "<thead>\n",
       "\t<tr><th scope=col>null.deviance</th><th scope=col>df.null</th><th scope=col>logLik</th><th scope=col>AIC</th><th scope=col>BIC</th><th scope=col>deviance</th><th scope=col>df.residual</th><th scope=col>nobs</th></tr>\n",
       "\t<tr><th scope=col>&lt;dbl&gt;</th><th scope=col>&lt;int&gt;</th><th scope=col>&lt;dbl&gt;</th><th scope=col>&lt;dbl&gt;</th><th scope=col>&lt;dbl&gt;</th><th scope=col>&lt;dbl&gt;</th><th scope=col>&lt;int&gt;</th><th scope=col>&lt;int&gt;</th></tr>\n",
       "</thead>\n",
       "<tbody>\n",
       "\t<tr><td>498.0978</td><td>391</td><td>-249.0489</td><td>500.0978</td><td>504.0691</td><td>498.0978</td><td>391</td><td>392</td></tr>\n",
       "</tbody>\n",
       "</table>\n"
      ],
      "text/latex": [
       "A tibble: 1 × 8\n",
       "\\begin{tabular}{llllllll}\n",
       " null.deviance & df.null & logLik & AIC & BIC & deviance & df.residual & nobs\\\\\n",
       " <dbl> & <int> & <dbl> & <dbl> & <dbl> & <dbl> & <int> & <int>\\\\\n",
       "\\hline\n",
       "\t 498.0978 & 391 & -249.0489 & 500.0978 & 504.0691 & 498.0978 & 391 & 392\\\\\n",
       "\\end{tabular}\n"
      ],
      "text/markdown": [
       "\n",
       "A tibble: 1 × 8\n",
       "\n",
       "| null.deviance &lt;dbl&gt; | df.null &lt;int&gt; | logLik &lt;dbl&gt; | AIC &lt;dbl&gt; | BIC &lt;dbl&gt; | deviance &lt;dbl&gt; | df.residual &lt;int&gt; | nobs &lt;int&gt; |\n",
       "|---|---|---|---|---|---|---|---|\n",
       "| 498.0978 | 391 | -249.0489 | 500.0978 | 504.0691 | 498.0978 | 391 | 392 |\n",
       "\n"
      ],
      "text/plain": [
       "  null.deviance df.null logLik    AIC      BIC      deviance df.residual nobs\n",
       "1 498.0978      391     -249.0489 500.0978 504.0691 498.0978 391         392 "
      ]
     },
     "metadata": {},
     "output_type": "display_data"
    }
   ],
   "source": [
    "my_logistic_intercept <- glm(diabetes_n ~ 1, data = PID2, family = binomial)\n",
    "glance(my_logistic_intercept)"
   ]
  },
  {
   "cell_type": "markdown",
   "id": "e0ca3f2a",
   "metadata": {},
   "source": [
    "The values are similar to the SAS output."
   ]
  },
  {
   "cell_type": "markdown",
   "id": "8743a8b2-74c2-4ef6-b1ba-8446feafb902",
   "metadata": {},
   "source": [
    "### Block 5\n",
    "![Block 5](img_screenshots/block_5.png)"
   ]
  },
  {
   "cell_type": "markdown",
   "id": "f2cc9057-c833-4de1-b522-2d010e4bce95",
   "metadata": {},
   "source": [
    "These global tests test the null hypothesis that all regression coefficents are zero.\n",
    "\n",
    "The tests are different chi-square tests.\n"
   ]
  },
  {
   "cell_type": "markdown",
   "id": "5ef264b4",
   "metadata": {},
   "source": [
    "### R chunk for reproduction"
   ]
  },
  {
   "cell_type": "code",
   "execution_count": 7,
   "id": "9a31c9e9",
   "metadata": {},
   "outputs": [
    {
     "data": {
      "text/html": [
       "<strong>glucose:</strong> 79.4024484682919"
      ],
      "text/latex": [
       "\\textbf{glucose:} 79.4024484682919"
      ],
      "text/markdown": [
       "**glucose:** 79.4024484682919"
      ],
      "text/plain": [
       " glucose \n",
       "79.40245 "
      ]
     },
     "metadata": {},
     "output_type": "display_data"
    },
    {
     "data": {
      "text/plain": [
       "'log Lik.' 111.4318 (df=1)"
      ]
     },
     "metadata": {},
     "output_type": "display_data"
    }
   ],
   "source": [
    "# z-test\n",
    "# Wald’s chi-squared statistic for the hypothesis that the coefficient of glucose\n",
    "# is zero, or equivalently that the odds-ratio is one\n",
    "m0 <- glm(diabetes_n ~ 1, data = PID2, family = binomial)\n",
    "m1 <- glm(diabetes_n ~ glucose, data = PID2, family = binomial)\n",
    "\n",
    "b <- coef(m1)\n",
    "se <- sqrt(diag(vcov(m1)))\n",
    "(b[2]/se[2])^2\n",
    "\n",
    "# likeli ratio test\n",
    "#-2*(logLik(m0) - logLik(m1))\n",
    "-2*(logLik(m0) - logLik(m1))\n"
   ]
  },
  {
   "cell_type": "markdown",
   "id": "2cea3490-b255-48f5-a479-2b340380c718",
   "metadata": {},
   "source": [
    "### Block 6\n",
    "![Block 6](img_screenshots/block_6.png)"
   ]
  },
  {
   "cell_type": "markdown",
   "id": "ece52e54-d197-4d56-a3fe-41fdb8f681da",
   "metadata": {},
   "source": [
    "Column 1 \"Parameter\" lists the intercept and the parameter in the model.\n",
    "\n",
    "Column 2 \"DF\" gives the degrees of freedom for every parameter.\n",
    "\n",
    "Column 3 \"Estimate\" lists the logit regression estimates for every parameter given that the other parameter are held constant. \n",
    "\n",
    "$log(p / (1 - p)) = -6.10 + 0.04 * glucose$ with p as the probability for diabetes.\n",
    "\n",
    "Column 4 \"Standard Error\" gives the standard errors of the individual regression coefficients.\n",
    "\n",
    "Column 5 \"Wald Chi-Square\" tests the null hypothesis that the regression coefficient is zero given that the other predictors are in the model.\n",
    "\n",
    "Column 6 \"Pr > ChiSq\" gives the p-value for the Wald Chi-Square statistic."
   ]
  },
  {
   "cell_type": "markdown",
   "id": "f9ce220a",
   "metadata": {},
   "source": [
    "### R chunk for reproduction"
   ]
  },
  {
   "cell_type": "code",
   "execution_count": 8,
   "id": "d3e16e39",
   "metadata": {},
   "outputs": [
    {
     "data": {
      "text/html": [
       "<table class=\"dataframe\">\n",
       "<caption>A tibble: 2 × 5</caption>\n",
       "<thead>\n",
       "\t<tr><th scope=col>term</th><th scope=col>estimate</th><th scope=col>std.error</th><th scope=col>statistic</th><th scope=col>p.value</th></tr>\n",
       "\t<tr><th scope=col>&lt;chr&gt;</th><th scope=col>&lt;dbl&gt;</th><th scope=col>&lt;dbl&gt;</th><th scope=col>&lt;dbl&gt;</th><th scope=col>&lt;dbl&gt;</th></tr>\n",
       "</thead>\n",
       "<tbody>\n",
       "\t<tr><td>(Intercept)</td><td>-6.09552139</td><td>0.629787038</td><td>-9.678703</td><td>3.713993e-22</td></tr>\n",
       "\t<tr><td>glucose    </td><td> 0.04242099</td><td>0.004760623</td><td> 8.910805</td><td>5.066328e-19</td></tr>\n",
       "</tbody>\n",
       "</table>\n"
      ],
      "text/latex": [
       "A tibble: 2 × 5\n",
       "\\begin{tabular}{lllll}\n",
       " term & estimate & std.error & statistic & p.value\\\\\n",
       " <chr> & <dbl> & <dbl> & <dbl> & <dbl>\\\\\n",
       "\\hline\n",
       "\t (Intercept) & -6.09552139 & 0.629787038 & -9.678703 & 3.713993e-22\\\\\n",
       "\t glucose     &  0.04242099 & 0.004760623 &  8.910805 & 5.066328e-19\\\\\n",
       "\\end{tabular}\n"
      ],
      "text/markdown": [
       "\n",
       "A tibble: 2 × 5\n",
       "\n",
       "| term &lt;chr&gt; | estimate &lt;dbl&gt; | std.error &lt;dbl&gt; | statistic &lt;dbl&gt; | p.value &lt;dbl&gt; |\n",
       "|---|---|---|---|---|\n",
       "| (Intercept) | -6.09552139 | 0.629787038 | -9.678703 | 3.713993e-22 |\n",
       "| glucose     |  0.04242099 | 0.004760623 |  8.910805 | 5.066328e-19 |\n",
       "\n"
      ],
      "text/plain": [
       "  term        estimate    std.error   statistic p.value     \n",
       "1 (Intercept) -6.09552139 0.629787038 -9.678703 3.713993e-22\n",
       "2 glucose      0.04242099 0.004760623  8.910805 5.066328e-19"
      ]
     },
     "metadata": {},
     "output_type": "display_data"
    }
   ],
   "source": [
    "tidy(my_logistic)"
   ]
  },
  {
   "cell_type": "markdown",
   "id": "cb5cf5f6",
   "metadata": {},
   "source": [
    "*term* represents the *Parameter* in the SAS output.\n",
    "\n",
    "Degrees of freedom are missing.\n",
    "\n",
    "The estimate and standard error results are similar.\n",
    "\n",
    "The statistic is a z test in R and a Wald chi-square test in SAS.\n",
    "\n",
    "The p-value results from this test.\n"
   ]
  },
  {
   "cell_type": "code",
   "execution_count": 9,
   "id": "514606b2",
   "metadata": {},
   "outputs": [
    {
     "data": {
      "text/plain": [
       "\n",
       "Call:\n",
       "glm(formula = diabetes_n ~ glucose, family = binomial, data = PID2)\n",
       "\n",
       "Coefficients:\n",
       "             Estimate Std. Error z value Pr(>|z|)    \n",
       "(Intercept) -6.095521   0.629787  -9.679   <2e-16 ***\n",
       "glucose      0.042421   0.004761   8.911   <2e-16 ***\n",
       "---\n",
       "Signif. codes:  0 '***' 0.001 '**' 0.01 '*' 0.05 '.' 0.1 ' ' 1\n",
       "\n",
       "(Dispersion parameter for binomial family taken to be 1)\n",
       "\n",
       "    Null deviance: 498.10  on 391  degrees of freedom\n",
       "Residual deviance: 386.67  on 390  degrees of freedom\n",
       "AIC: 390.67\n",
       "\n",
       "Number of Fisher Scoring iterations: 4\n"
      ]
     },
     "metadata": {},
     "output_type": "display_data"
    }
   ],
   "source": [
    "summary(my_logistic)"
   ]
  },
  {
   "cell_type": "markdown",
   "id": "30db5cb8-1c58-498a-8602-07ad1e8ffd6c",
   "metadata": {},
   "source": [
    "### Block 7\n",
    "![Block 7](img_screenshots/block_7.png)"
   ]
  },
  {
   "cell_type": "markdown",
   "id": "f79d9710",
   "metadata": {},
   "source": [
    "Column 1 \"Effect\" lists the variables which are interpreted by the point estimate.\n",
    "\n",
    "Column 2 \"Point Estimate\" is interpreted as an odds ratio. \n",
    "One unit change in the independent variable changes the probability for the modelled event by the estimated value.\n",
    "\n",
    "Column 3 and 4 give the confidence interval for the odds ratio."
   ]
  },
  {
   "cell_type": "markdown",
   "id": "9fa79448",
   "metadata": {},
   "source": [
    "### R chunk for reproduction\n",
    "\n",
    "Odds ratio estimate are calculated by exponentiation of the estimates.\n",
    "\n",
    "Confidence intervals are returned by the confint() function."
   ]
  },
  {
   "cell_type": "code",
   "execution_count": 10,
   "id": "f54cf83d",
   "metadata": {},
   "outputs": [
    {
     "data": {
      "text/html": [
       "<style>\n",
       ".dl-inline {width: auto; margin:0; padding: 0}\n",
       ".dl-inline>dt, .dl-inline>dd {float: none; width: auto; display: inline-block}\n",
       ".dl-inline>dt::after {content: \":\\0020\"; padding-right: .5ex}\n",
       ".dl-inline>dt:not(:first-of-type) {padding-left: .5ex}\n",
       "</style><dl class=dl-inline><dt>(Intercept)</dt><dd>0.00225293517344414</dd><dt>glucose</dt><dd>1.04333361593451</dd></dl>\n"
      ],
      "text/latex": [
       "\\begin{description*}\n",
       "\\item[(Intercept)] 0.00225293517344414\n",
       "\\item[glucose] 1.04333361593451\n",
       "\\end{description*}\n"
      ],
      "text/markdown": [
       "(Intercept)\n",
       ":   0.00225293517344414glucose\n",
       ":   1.04333361593451\n",
       "\n"
      ],
      "text/plain": [
       "(Intercept)     glucose \n",
       "0.002252935 1.043333616 "
      ]
     },
     "metadata": {},
     "output_type": "display_data"
    },
    {
     "data": {
      "text/html": [
       "<table class=\"dataframe\">\n",
       "<caption>A matrix: 2 × 2 of type dbl</caption>\n",
       "<thead>\n",
       "\t<tr><th></th><th scope=col>2.5 %</th><th scope=col>97.5 %</th></tr>\n",
       "</thead>\n",
       "<tbody>\n",
       "\t<tr><th scope=row>(Intercept)</th><td>0.0006194309</td><td>0.007358113</td></tr>\n",
       "\t<tr><th scope=row>glucose</th><td>1.0340267589</td><td>1.053554337</td></tr>\n",
       "</tbody>\n",
       "</table>\n"
      ],
      "text/latex": [
       "A matrix: 2 × 2 of type dbl\n",
       "\\begin{tabular}{r|ll}\n",
       "  & 2.5 \\% & 97.5 \\%\\\\\n",
       "\\hline\n",
       "\t(Intercept) & 0.0006194309 & 0.007358113\\\\\n",
       "\tglucose & 1.0340267589 & 1.053554337\\\\\n",
       "\\end{tabular}\n"
      ],
      "text/markdown": [
       "\n",
       "A matrix: 2 × 2 of type dbl\n",
       "\n",
       "| <!--/--> | 2.5 % | 97.5 % |\n",
       "|---|---|---|\n",
       "| (Intercept) | 0.0006194309 | 0.007358113 |\n",
       "| glucose | 1.0340267589 | 1.053554337 |\n",
       "\n"
      ],
      "text/plain": [
       "            2.5 %        97.5 %     \n",
       "(Intercept) 0.0006194309 0.007358113\n",
       "glucose     1.0340267589 1.053554337"
      ]
     },
     "metadata": {},
     "output_type": "display_data"
    }
   ],
   "source": [
    "exp(my_logistic$coeff)\n",
    "suppressMessages(exp(confint(my_logistic)))"
   ]
  },
  {
   "cell_type": "markdown",
   "id": "804b643f-8477-4a08-b97a-5a2da33bfbd0",
   "metadata": {},
   "source": [
    "### Block 8\n",
    "![Block 8](img_screenshots/block_8.png)"
   ]
  },
  {
   "cell_type": "markdown",
   "id": "b499fe11",
   "metadata": {},
   "source": [
    "These parameter describe the association between the predicted probabilities and observed responses.\n",
    "\n",
    "For details for calculation see https://documentation.sas.com/doc/en/pgmsascdc/9.4_3.4/statug/statug_logistic_details12.htm"
   ]
  },
  {
   "cell_type": "markdown",
   "id": "661a604d",
   "metadata": {},
   "source": [
    "### R chunk for reproduction\n",
    "\n",
    "The information of block 8 are not directly provided in base R.\n",
    "\n"
   ]
  },
  {
   "cell_type": "code",
   "execution_count": 11,
   "id": "7d92ba1d",
   "metadata": {},
   "outputs": [
    {
     "data": {
      "text/plain": [
       "Call:\n",
       "concordance.lm(object = my_logistic)\n",
       "\n",
       "n= 392 \n",
       "Concordance= 0.8058 se= 0.02356\n",
       "concordant discordant     tied.x     tied.y    tied.xy \n",
       "     27332       6503        225      42049        527 "
      ]
     },
     "metadata": {},
     "output_type": "display_data"
    }
   ],
   "source": [
    "library(survival)\n",
    "concordance(my_logistic)"
   ]
  },
  {
   "cell_type": "code",
   "execution_count": 12,
   "id": "3245df31",
   "metadata": {},
   "outputs": [
    {
     "data": {
      "text/html": [
       "0.6116"
      ],
      "text/latex": [
       "0.6116"
      ],
      "text/markdown": [
       "0.6116"
      ],
      "text/plain": [
       "[1] 0.6116"
      ]
     },
     "metadata": {},
     "output_type": "display_data"
    },
    {
     "data": {
      "text/html": [
       "0.615605142603813"
      ],
      "text/latex": [
       "0.615605142603813"
      ],
      "text/markdown": [
       "0.615605142603813"
      ],
      "text/plain": [
       "[1] 0.6156051"
      ]
     },
     "metadata": {},
     "output_type": "display_data"
    },
    {
     "data": {
      "text/html": [
       "76636"
      ],
      "text/latex": [
       "76636"
      ],
      "text/markdown": [
       "76636"
      ],
      "text/plain": [
       "[1] 76636"
      ]
     },
     "metadata": {},
     "output_type": "display_data"
    },
    {
     "data": {
      "text/html": [
       "0.830288637194008"
      ],
      "text/latex": [
       "0.830288637194008"
      ],
      "text/markdown": [
       "0.830288637194008"
      ],
      "text/plain": [
       "[1] 0.8302886"
      ]
     },
     "metadata": {},
     "output_type": "display_data"
    },
    {
     "data": {
      "text/html": [
       "0.271791325225742"
      ],
      "text/latex": [
       "0.271791325225742"
      ],
      "text/markdown": [
       "0.271791325225742"
      ],
      "text/plain": [
       "[1] 0.2717913"
      ]
     },
     "metadata": {},
     "output_type": "display_data"
    },
    {
     "data": {
      "text/html": [
       "0.54219596001666"
      ],
      "text/latex": [
       "0.54219596001666"
      ],
      "text/markdown": [
       "0.54219596001666"
      ],
      "text/plain": [
       "[1] 0.542196"
      ]
     },
     "metadata": {},
     "output_type": "display_data"
    }
   ],
   "source": [
    "# Sommer's D is 2C-1\n",
    "2 * 0.8058 - 1\n",
    "# Goodman and Kruskal's Gamma (or simple Gamma)\n",
    "# (#concordant - #discordant) / (#concordant + #discordant)\n",
    "(27332 - 6503) / (27332 + 6503)\n",
    "# https://en.wikipedia.org/wiki/Kendall_rank_correlation_coefficient \n",
    "# Tau\n",
    "# 1 - 2*(number of discordant pairs) / (number of pairs)\n",
    "# 1 - 2 * 6503 / (n * (n - 1) / 2)\n",
    "392 * 391 / 2\n",
    "1 - 2 * 6503 / (392 * (392 - 1) / 2)\n",
    "# Tau a\n",
    "# (#concordant - # discordant) / n\n",
    "(27332 - 6503) / (392*391 / 2)\n",
    "# Tau c below, but what is c?\n",
    "# 2 * (nc - nd) / (n^2*(m-1)/m)\n",
    "2 * (27332 - 6503) / (392**2 * (2 - 1) / 2)"
   ]
  },
  {
   "cell_type": "markdown",
   "id": "2ffc9dc9",
   "metadata": {},
   "source": [
    "The others could be calculated by hand according to the formula mentioned in the previous block 8."
   ]
  },
  {
   "cell_type": "code",
   "execution_count": 13,
   "id": "693ccd48",
   "metadata": {},
   "outputs": [
    {
     "name": "stderr",
     "output_type": "stream",
     "text": [
      "\n",
      "Attache Paket: 'yardstick'\n",
      "\n",
      "\n",
      "Das folgende Objekt ist maskiert 'package:readr':\n",
      "\n",
      "    spec\n",
      "\n",
      "\n"
     ]
    },
    {
     "name": "stdout",
     "output_type": "stream",
     "text": [
      " int [1:392] 0 1 1 1 1 1 1 0 1 0 ...\n",
      " int [1:392] 0 0 0 1 1 1 0 0 0 0 ...\n"
     ]
    }
   ],
   "source": [
    "library(yardstick)\n",
    "obs <- as.integer(PID2$diabetes_n)\n",
    "pred <- as.integer(round(predict(my_logistic, type = \"response\")))\n",
    "str(obs)\n",
    "str(pred)\n",
    "df1 <- table(obs, pred)"
   ]
  },
  {
   "cell_type": "code",
   "execution_count": 14,
   "id": "9f184714",
   "metadata": {},
   "outputs": [
    {
     "data": {
      "text/html": [
       "<table class=\"dataframe\">\n",
       "<caption>A tibble: 13 × 3</caption>\n",
       "<thead>\n",
       "\t<tr><th scope=col>.metric</th><th scope=col>.estimator</th><th scope=col>.estimate</th></tr>\n",
       "\t<tr><th scope=col>&lt;chr&gt;</th><th scope=col>&lt;chr&gt;</th><th scope=col>&lt;dbl&gt;</th></tr>\n",
       "</thead>\n",
       "<tbody>\n",
       "\t<tr><td>accuracy            </td><td>binary</td><td>0.7678571</td></tr>\n",
       "\t<tr><td>kap                 </td><td>binary</td><td>0.4405621</td></tr>\n",
       "\t<tr><td>sens                </td><td>binary</td><td>0.7898305</td></tr>\n",
       "\t<tr><td>spec                </td><td>binary</td><td>0.7010309</td></tr>\n",
       "\t<tr><td>ppv                 </td><td>binary</td><td>0.8893130</td></tr>\n",
       "\t<tr><td>npv                 </td><td>binary</td><td>0.5230769</td></tr>\n",
       "\t<tr><td>mcc                 </td><td>binary</td><td>0.4499181</td></tr>\n",
       "\t<tr><td>j_index             </td><td>binary</td><td>0.4908614</td></tr>\n",
       "\t<tr><td>bal_accuracy        </td><td>binary</td><td>0.7454307</td></tr>\n",
       "\t<tr><td>detection_prevalence</td><td>binary</td><td>0.6683673</td></tr>\n",
       "\t<tr><td>precision           </td><td>binary</td><td>0.8893130</td></tr>\n",
       "\t<tr><td>recall              </td><td>binary</td><td>0.7898305</td></tr>\n",
       "\t<tr><td>f_meas              </td><td>binary</td><td>0.8366248</td></tr>\n",
       "</tbody>\n",
       "</table>\n"
      ],
      "text/latex": [
       "A tibble: 13 × 3\n",
       "\\begin{tabular}{lll}\n",
       " .metric & .estimator & .estimate\\\\\n",
       " <chr> & <chr> & <dbl>\\\\\n",
       "\\hline\n",
       "\t accuracy             & binary & 0.7678571\\\\\n",
       "\t kap                  & binary & 0.4405621\\\\\n",
       "\t sens                 & binary & 0.7898305\\\\\n",
       "\t spec                 & binary & 0.7010309\\\\\n",
       "\t ppv                  & binary & 0.8893130\\\\\n",
       "\t npv                  & binary & 0.5230769\\\\\n",
       "\t mcc                  & binary & 0.4499181\\\\\n",
       "\t j\\_index              & binary & 0.4908614\\\\\n",
       "\t bal\\_accuracy         & binary & 0.7454307\\\\\n",
       "\t detection\\_prevalence & binary & 0.6683673\\\\\n",
       "\t precision            & binary & 0.8893130\\\\\n",
       "\t recall               & binary & 0.7898305\\\\\n",
       "\t f\\_meas               & binary & 0.8366248\\\\\n",
       "\\end{tabular}\n"
      ],
      "text/markdown": [
       "\n",
       "A tibble: 13 × 3\n",
       "\n",
       "| .metric &lt;chr&gt; | .estimator &lt;chr&gt; | .estimate &lt;dbl&gt; |\n",
       "|---|---|---|\n",
       "| accuracy             | binary | 0.7678571 |\n",
       "| kap                  | binary | 0.4405621 |\n",
       "| sens                 | binary | 0.7898305 |\n",
       "| spec                 | binary | 0.7010309 |\n",
       "| ppv                  | binary | 0.8893130 |\n",
       "| npv                  | binary | 0.5230769 |\n",
       "| mcc                  | binary | 0.4499181 |\n",
       "| j_index              | binary | 0.4908614 |\n",
       "| bal_accuracy         | binary | 0.7454307 |\n",
       "| detection_prevalence | binary | 0.6683673 |\n",
       "| precision            | binary | 0.8893130 |\n",
       "| recall               | binary | 0.7898305 |\n",
       "| f_meas               | binary | 0.8366248 |\n",
       "\n"
      ],
      "text/plain": [
       "   .metric              .estimator .estimate\n",
       "1  accuracy             binary     0.7678571\n",
       "2  kap                  binary     0.4405621\n",
       "3  sens                 binary     0.7898305\n",
       "4  spec                 binary     0.7010309\n",
       "5  ppv                  binary     0.8893130\n",
       "6  npv                  binary     0.5230769\n",
       "7  mcc                  binary     0.4499181\n",
       "8  j_index              binary     0.4908614\n",
       "9  bal_accuracy         binary     0.7454307\n",
       "10 detection_prevalence binary     0.6683673\n",
       "11 precision            binary     0.8893130\n",
       "12 recall               binary     0.7898305\n",
       "13 f_meas               binary     0.8366248"
      ]
     },
     "metadata": {},
     "output_type": "display_data"
    }
   ],
   "source": [
    "cf <- conf_mat(df1, truth = obs, estimate = pred)\n",
    "summary(cf)"
   ]
  },
  {
   "cell_type": "code",
   "execution_count": null,
   "id": "998758d8",
   "metadata": {},
   "outputs": [],
   "source": []
  }
 ],
 "metadata": {
  "kernelspec": {
   "display_name": "R 4.3.2",
   "language": "R",
   "name": "ir432"
  },
  "language_info": {
   "codemirror_mode": "r",
   "file_extension": ".r",
   "mimetype": "text/x-r-source",
   "name": "R",
   "pygments_lexer": "r",
   "version": "4.3.2"
  }
 },
 "nbformat": 4,
 "nbformat_minor": 5
}
