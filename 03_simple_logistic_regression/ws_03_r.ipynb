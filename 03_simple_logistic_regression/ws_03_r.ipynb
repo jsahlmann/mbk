{
 "cells": [
  {
   "cell_type": "markdown",
   "id": "df8091c6-2036-476c-b540-77db13c8369e",
   "metadata": {},
   "source": [
    "# Working sheet\n",
    "## 03 - Simple logistic regression with R\n",
    "V03.01.00 - 2024-02-17"
   ]
  },
  {
   "cell_type": "markdown",
   "id": "8cf7dd5a-4d82-471f-8a41-39e05dbdde32",
   "metadata": {},
   "source": [
    "## Load data\n",
    "Change the path and the file name in the following box."
   ]
  },
  {
   "cell_type": "code",
   "execution_count": 21,
   "id": "09e0948e-f67e-4798-8b78-888edfcf8a78",
   "metadata": {},
   "outputs": [],
   "source": [
    "library(readr)\n",
    "df <- read_csv(\"data/PID2.csv\",\n",
    "                 show_col_types = FALSE)\n",
    "df$diabetes_n <- ifelse(PID2$diabetes == \"neg\", 0, 1)\n"
   ]
  },
  {
   "cell_type": "markdown",
   "id": "e3cd9491-fe5a-4599-9f8f-ed4685754a47",
   "metadata": {},
   "source": [
    "Look at the structure and the head of the dataset."
   ]
  },
  {
   "cell_type": "code",
   "execution_count": 22,
   "id": "9ea90e20-8f69-42a0-83d2-507d6244d9a0",
   "metadata": {},
   "outputs": [
    {
     "name": "stdout",
     "output_type": "stream",
     "text": [
      "spc_tbl_ [392 × 10] (S3: spec_tbl_df/tbl_df/tbl/data.frame)\n",
      " $ pregnant  : num [1:392] 1 0 3 2 1 5 0 1 1 3 ...\n",
      " $ glucose   : num [1:392] 89 137 78 197 189 166 118 103 115 126 ...\n",
      " $ pressure  : num [1:392] 66 40 50 70 60 72 84 30 70 88 ...\n",
      " $ triceps   : num [1:392] 23 35 32 45 23 19 47 38 30 41 ...\n",
      " $ insulin   : num [1:392] 94 168 88 543 846 175 230 83 96 235 ...\n",
      " $ mass      : num [1:392] 28.1 43.1 31 30.5 30.1 25.8 45.8 43.3 34.6 39.3 ...\n",
      " $ pedigree  : num [1:392] 0.167 2.288 0.248 0.158 0.398 ...\n",
      " $ age       : num [1:392] 21 33 26 53 59 51 31 33 32 27 ...\n",
      " $ diabetes  : chr [1:392] \"neg\" \"pos\" \"pos\" \"pos\" ...\n",
      " $ diabetes_n: num [1:392] 0 1 1 1 1 1 1 0 1 0 ...\n",
      " - attr(*, \"spec\")=\n",
      "  .. cols(\n",
      "  ..   pregnant = \u001b[32mcol_double()\u001b[39m,\n",
      "  ..   glucose = \u001b[32mcol_double()\u001b[39m,\n",
      "  ..   pressure = \u001b[32mcol_double()\u001b[39m,\n",
      "  ..   triceps = \u001b[32mcol_double()\u001b[39m,\n",
      "  ..   insulin = \u001b[32mcol_double()\u001b[39m,\n",
      "  ..   mass = \u001b[32mcol_double()\u001b[39m,\n",
      "  ..   pedigree = \u001b[32mcol_double()\u001b[39m,\n",
      "  ..   age = \u001b[32mcol_double()\u001b[39m,\n",
      "  ..   diabetes = \u001b[31mcol_character()\u001b[39m\n",
      "  .. )\n",
      " - attr(*, \"problems\")=<externalptr> \n"
     ]
    }
   ],
   "source": [
    "str(df)"
   ]
  },
  {
   "cell_type": "code",
   "execution_count": 23,
   "id": "7bb9f79a-eef9-420c-b024-86fe869e2893",
   "metadata": {},
   "outputs": [
    {
     "data": {
      "text/html": [
       "<table class=\"dataframe\">\n",
       "<caption>A tibble: 6 × 10</caption>\n",
       "<thead>\n",
       "\t<tr><th scope=col>pregnant</th><th scope=col>glucose</th><th scope=col>pressure</th><th scope=col>triceps</th><th scope=col>insulin</th><th scope=col>mass</th><th scope=col>pedigree</th><th scope=col>age</th><th scope=col>diabetes</th><th scope=col>diabetes_n</th></tr>\n",
       "\t<tr><th scope=col>&lt;dbl&gt;</th><th scope=col>&lt;dbl&gt;</th><th scope=col>&lt;dbl&gt;</th><th scope=col>&lt;dbl&gt;</th><th scope=col>&lt;dbl&gt;</th><th scope=col>&lt;dbl&gt;</th><th scope=col>&lt;dbl&gt;</th><th scope=col>&lt;dbl&gt;</th><th scope=col>&lt;chr&gt;</th><th scope=col>&lt;dbl&gt;</th></tr>\n",
       "</thead>\n",
       "<tbody>\n",
       "\t<tr><td>1</td><td> 89</td><td>66</td><td>23</td><td> 94</td><td>28.1</td><td>0.167</td><td>21</td><td>neg</td><td>0</td></tr>\n",
       "\t<tr><td>0</td><td>137</td><td>40</td><td>35</td><td>168</td><td>43.1</td><td>2.288</td><td>33</td><td>pos</td><td>1</td></tr>\n",
       "\t<tr><td>3</td><td> 78</td><td>50</td><td>32</td><td> 88</td><td>31.0</td><td>0.248</td><td>26</td><td>pos</td><td>1</td></tr>\n",
       "\t<tr><td>2</td><td>197</td><td>70</td><td>45</td><td>543</td><td>30.5</td><td>0.158</td><td>53</td><td>pos</td><td>1</td></tr>\n",
       "\t<tr><td>1</td><td>189</td><td>60</td><td>23</td><td>846</td><td>30.1</td><td>0.398</td><td>59</td><td>pos</td><td>1</td></tr>\n",
       "\t<tr><td>5</td><td>166</td><td>72</td><td>19</td><td>175</td><td>25.8</td><td>0.587</td><td>51</td><td>pos</td><td>1</td></tr>\n",
       "</tbody>\n",
       "</table>\n"
      ],
      "text/latex": [
       "A tibble: 6 × 10\n",
       "\\begin{tabular}{llllllllll}\n",
       " pregnant & glucose & pressure & triceps & insulin & mass & pedigree & age & diabetes & diabetes\\_n\\\\\n",
       " <dbl> & <dbl> & <dbl> & <dbl> & <dbl> & <dbl> & <dbl> & <dbl> & <chr> & <dbl>\\\\\n",
       "\\hline\n",
       "\t 1 &  89 & 66 & 23 &  94 & 28.1 & 0.167 & 21 & neg & 0\\\\\n",
       "\t 0 & 137 & 40 & 35 & 168 & 43.1 & 2.288 & 33 & pos & 1\\\\\n",
       "\t 3 &  78 & 50 & 32 &  88 & 31.0 & 0.248 & 26 & pos & 1\\\\\n",
       "\t 2 & 197 & 70 & 45 & 543 & 30.5 & 0.158 & 53 & pos & 1\\\\\n",
       "\t 1 & 189 & 60 & 23 & 846 & 30.1 & 0.398 & 59 & pos & 1\\\\\n",
       "\t 5 & 166 & 72 & 19 & 175 & 25.8 & 0.587 & 51 & pos & 1\\\\\n",
       "\\end{tabular}\n"
      ],
      "text/markdown": [
       "\n",
       "A tibble: 6 × 10\n",
       "\n",
       "| pregnant &lt;dbl&gt; | glucose &lt;dbl&gt; | pressure &lt;dbl&gt; | triceps &lt;dbl&gt; | insulin &lt;dbl&gt; | mass &lt;dbl&gt; | pedigree &lt;dbl&gt; | age &lt;dbl&gt; | diabetes &lt;chr&gt; | diabetes_n &lt;dbl&gt; |\n",
       "|---|---|---|---|---|---|---|---|---|---|\n",
       "| 1 |  89 | 66 | 23 |  94 | 28.1 | 0.167 | 21 | neg | 0 |\n",
       "| 0 | 137 | 40 | 35 | 168 | 43.1 | 2.288 | 33 | pos | 1 |\n",
       "| 3 |  78 | 50 | 32 |  88 | 31.0 | 0.248 | 26 | pos | 1 |\n",
       "| 2 | 197 | 70 | 45 | 543 | 30.5 | 0.158 | 53 | pos | 1 |\n",
       "| 1 | 189 | 60 | 23 | 846 | 30.1 | 0.398 | 59 | pos | 1 |\n",
       "| 5 | 166 | 72 | 19 | 175 | 25.8 | 0.587 | 51 | pos | 1 |\n",
       "\n"
      ],
      "text/plain": [
       "  pregnant glucose pressure triceps insulin mass pedigree age diabetes\n",
       "1 1         89     66       23       94     28.1 0.167    21  neg     \n",
       "2 0        137     40       35      168     43.1 2.288    33  pos     \n",
       "3 3         78     50       32       88     31.0 0.248    26  pos     \n",
       "4 2        197     70       45      543     30.5 0.158    53  pos     \n",
       "5 1        189     60       23      846     30.1 0.398    59  pos     \n",
       "6 5        166     72       19      175     25.8 0.587    51  pos     \n",
       "  diabetes_n\n",
       "1 0         \n",
       "2 1         \n",
       "3 1         \n",
       "4 1         \n",
       "5 1         \n",
       "6 1         "
      ]
     },
     "metadata": {},
     "output_type": "display_data"
    }
   ],
   "source": [
    "head(df)"
   ]
  },
  {
   "cell_type": "markdown",
   "id": "bddbbb5d",
   "metadata": {},
   "source": [
    "Look at frequencies and descriptive statistics.\r\n",
    "\r\n",
    "The summary() function is the first approach.\r\n",
    "\r\n",
    "describe() from the Hmisc package is an alternative."
   ]
  },
  {
   "cell_type": "code",
   "execution_count": 24,
   "id": "31fd0d97-8a98-489f-bd85-7ab8958a3c5e",
   "metadata": {},
   "outputs": [
    {
     "data": {
      "text/plain": [
       "    pregnant         glucose         pressure         triceps     \n",
       " Min.   : 0.000   Min.   : 56.0   Min.   : 24.00   Min.   : 7.00  \n",
       " 1st Qu.: 1.000   1st Qu.: 99.0   1st Qu.: 62.00   1st Qu.:21.00  \n",
       " Median : 2.000   Median :119.0   Median : 70.00   Median :29.00  \n",
       " Mean   : 3.301   Mean   :122.6   Mean   : 70.66   Mean   :29.15  \n",
       " 3rd Qu.: 5.000   3rd Qu.:143.0   3rd Qu.: 78.00   3rd Qu.:37.00  \n",
       " Max.   :17.000   Max.   :198.0   Max.   :110.00   Max.   :63.00  \n",
       "    insulin            mass          pedigree           age       \n",
       " Min.   : 14.00   Min.   :18.20   Min.   :0.0850   Min.   :21.00  \n",
       " 1st Qu.: 76.75   1st Qu.:28.40   1st Qu.:0.2697   1st Qu.:23.00  \n",
       " Median :125.50   Median :33.20   Median :0.4495   Median :27.00  \n",
       " Mean   :156.06   Mean   :33.09   Mean   :0.5230   Mean   :30.86  \n",
       " 3rd Qu.:190.00   3rd Qu.:37.10   3rd Qu.:0.6870   3rd Qu.:36.00  \n",
       " Max.   :846.00   Max.   :67.10   Max.   :2.4200   Max.   :81.00  \n",
       "   diabetes           diabetes_n    \n",
       " Length:392         Min.   :0.0000  \n",
       " Class :character   1st Qu.:0.0000  \n",
       " Mode  :character   Median :0.0000  \n",
       "                    Mean   :0.3316  \n",
       "                    3rd Qu.:1.0000  \n",
       "                    Max.   :1.0000  "
      ]
     },
     "metadata": {},
     "output_type": "display_data"
    }
   ],
   "source": [
    "summary(df)"
   ]
  },
  {
   "cell_type": "code",
   "execution_count": 25,
   "id": "815e44bf-47c6-473a-9c6b-b21ef5c5d0e2",
   "metadata": {},
   "outputs": [
    {
     "data": {
      "text/plain": [
       "df \n",
       "\n",
       " 10  Variables      392  Observations\n",
       "--------------------------------------------------------------------------------\n",
       "pregnant \n",
       "       n  missing distinct     Info     Mean      Gmd      .05      .10 \n",
       "     392        0       17    0.977    3.301    3.363        0        0 \n",
       "     .25      .50      .75      .90      .95 \n",
       "       1        2        5        8       10 \n",
       "                                                                            \n",
       "Value       0.00  0.85  1.87  2.89  3.91  4.93  5.95  6.97  7.99  8.84  9.86\n",
       "Frequency     56    93    64    45    27    21    19    20    14    11     6\n",
       "Proportion 0.143 0.237 0.163 0.115 0.069 0.054 0.048 0.051 0.036 0.028 0.015\n",
       "                                              \n",
       "Value      10.88 11.90 12.92 13.94 14.96 17.00\n",
       "Frequency      5     5     3     1     1     1\n",
       "Proportion 0.013 0.013 0.008 0.003 0.003 0.003\n",
       "\n",
       "For the frequency table, variable is rounded to the nearest 0.17\n",
       "--------------------------------------------------------------------------------\n",
       "glucose \n",
       "       n  missing distinct     Info     Mean      Gmd      .05      .10 \n",
       "     392        0      117        1    122.6    34.92     81.0     87.0 \n",
       "     .25      .50      .75      .90      .95 \n",
       "    99.0    119.0    143.0    170.9    181.0 \n",
       "\n",
       "lowest :  56  68  71  74  75, highest: 193 195 196 197 198\n",
       "--------------------------------------------------------------------------------\n",
       "pressure \n",
       "       n  missing distinct     Info     Mean      Gmd      .05      .10 \n",
       "     392        0       37    0.997    70.66    13.89       50       56 \n",
       "     .25      .50      .75      .90      .95 \n",
       "      62       70       78       86       90 \n",
       "\n",
       "lowest :  24  30  38  40  44, highest:  98 100 102 106 110\n",
       "--------------------------------------------------------------------------------\n",
       "triceps \n",
       "       n  missing distinct     Info     Mean      Gmd      .05      .10 \n",
       "     392        0       48    0.999    29.15    12.01    13.00    15.00 \n",
       "     .25      .50      .75      .90      .95 \n",
       "   21.00    29.00    37.00    43.00    46.45 \n",
       "\n",
       "lowest :  7  8 10 11 12, highest: 51 52 56 60 63\n",
       "--------------------------------------------------------------------------------\n",
       "insulin \n",
       "       n  missing distinct     Info     Mean      Gmd      .05      .10 \n",
       "     392        0      184        1    156.1    116.3    42.55    51.10 \n",
       "     .25      .50      .75      .90      .95 \n",
       "   76.75   125.50   190.00   292.80   396.50 \n",
       "\n",
       "lowest :  14  15  16  18  22, highest: 579 600 680 744 846\n",
       "--------------------------------------------------------------------------------\n",
       "mass \n",
       "       n  missing distinct     Info     Mean      Gmd      .05      .10 \n",
       "     392        0      194        1    33.09    7.768    22.26    24.42 \n",
       "     .25      .50      .75      .90      .95 \n",
       "   28.40    33.20    37.10    42.07    45.24 \n",
       "\n",
       "lowest : 18.2 19.3 19.4 19.5 19.6, highest: 53.2 55   57.3 59.4 67.1\n",
       "--------------------------------------------------------------------------------\n",
       "pedigree \n",
       "       n  missing distinct     Info     Mean      Gmd      .05      .10 \n",
       "     392        0      331        1    0.523   0.3521   0.1535   0.1834 \n",
       "     .25      .50      .75      .90      .95 \n",
       "  0.2698   0.4495   0.6870   0.9422   1.1603 \n",
       "\n",
       "lowest : 0.085 0.088 0.089 0.101 0.107, highest: 1.699 2.137 2.288 2.329 2.42 \n",
       "--------------------------------------------------------------------------------\n",
       "age \n",
       "       n  missing distinct     Info     Mean      Gmd      .05      .10 \n",
       "     392        0       43    0.996    30.86    10.62    21.00    22.00 \n",
       "     .25      .50      .75      .90      .95 \n",
       "   23.00    27.00    36.00    46.00    52.45 \n",
       "\n",
       "lowest : 21 22 23 24 25, highest: 59 60 61 63 81\n",
       "--------------------------------------------------------------------------------\n",
       "diabetes \n",
       "       n  missing distinct \n",
       "     392        0        2 \n",
       "                      \n",
       "Value        neg   pos\n",
       "Frequency    262   130\n",
       "Proportion 0.668 0.332\n",
       "--------------------------------------------------------------------------------\n",
       "diabetes_n \n",
       "       n  missing distinct     Info      Sum     Mean      Gmd \n",
       "     392        0        2    0.665      130   0.3316   0.4444 \n",
       "\n",
       "--------------------------------------------------------------------------------"
      ]
     },
     "metadata": {},
     "output_type": "display_data"
    }
   ],
   "source": [
    "library(Hmisc)\n",
    "describe(df)"
   ]
  },
  {
   "cell_type": "markdown",
   "id": "b8060fb8-1d1d-4d68-a4ad-1e8411970e7e",
   "metadata": {},
   "source": [
    "Plot the variables of interest with a scatter plot.\n",
    "\n",
    "Either as single plots as in the following plot."
   ]
  },
  {
   "cell_type": "code",
   "execution_count": 26,
   "id": "68b25354-bb24-48c5-b55e-3ad789753b1a",
   "metadata": {},
   "outputs": [
    {
     "data": {
      "image/png": "[encoded data removed]",
      "text/plain": [
       "plot without title"
      ]
     },
     "metadata": {
      "image/png": {
       "height": 420,
       "width": 420
      }
     },
     "output_type": "display_data"
    }
   ],
   "source": [
    "library(ggplot2)\n",
    "ggplot(df, aes(x = glucose, y = diabetes)) +\n",
    "  geom_point()"
   ]
  },
  {
   "cell_type": "code",
   "execution_count": 27,
   "id": "4c6aaf9e-f02e-4a7f-b087-2091476570a0",
   "metadata": {},
   "outputs": [
    {
     "data": {
      "image/png": "[encoded data removed]",
      "text/plain": [
       "plot without title"
      ]
     },
     "metadata": {
      "image/png": {
       "height": 420,
       "width": 420
      }
     },
     "output_type": "display_data"
    }
   ],
   "source": [
    "library(GGally)\n",
    "library(tidyverse)\n",
    "ggpairs(df %>% select(glucose, diabetes_n))"
   ]
  },
  {
   "cell_type": "code",
   "execution_count": 28,
   "id": "a930d340-8bba-4a4e-88de-e26681e5bb75",
   "metadata": {},
   "outputs": [
    {
     "data": {
      "image/png": "[encoded data removed]",
      "text/plain": [
       "plot without title"
      ]
     },
     "metadata": {
      "image/png": {
       "height": 420,
       "width": 420
      }
     },
     "output_type": "display_data"
    }
   ],
   "source": [
    "ggplot(df, aes(sample = glucose)) + \n",
    "  geom_qq() +\n",
    "  geom_qq_line()"
   ]
  },
  {
   "cell_type": "markdown",
   "id": "5e3e5853-4e74-43f7-b9fb-f9a42816fcad",
   "metadata": {},
   "source": [
    "## Assumptions for logistic regression\n",
    "\n",
    "- The dependent variable is nominally scaled with exactly two values (dichotomous).\n",
    "- The independent variable is either nominally scaled or at least interval scaled.\n",
    "- Independence of observations.\n",
    "- We need at least a certain number of cases per predictor. As with many other regressions, binomial logistic regression results improve as the sample size increases.\n",
    "- There should be no outliers in the data.\n",
    "- Linearity. There must be a linear relationship between the continuous independent variables and the logit transformation of the dependent variable.\n",
    "- No multicolinearity.\n"
   ]
  },
  {
   "cell_type": "markdown",
   "id": "72a25d47-c22e-4226-89b2-8e8625f61f8c",
   "metadata": {},
   "source": [
    "The dependent variable is nominally scaled with exactly two values (dichotomous)."
   ]
  },
  {
   "cell_type": "code",
   "execution_count": 29,
   "id": "7f15ddd1-71ff-4c58-85cc-e1891929e648",
   "metadata": {},
   "outputs": [
    {
     "data": {
      "text/plain": [
       "\n",
       "neg pos \n",
       "262 130 "
      ]
     },
     "metadata": {},
     "output_type": "display_data"
    },
    {
     "data": {
      "text/plain": [
       "\n",
       "  0   1 \n",
       "262 130 "
      ]
     },
     "metadata": {},
     "output_type": "display_data"
    }
   ],
   "source": [
    "table(df$diabetes)\n",
    "table(df$diabetes_n)"
   ]
  },
  {
   "cell_type": "code",
   "execution_count": 30,
   "id": "1b0e1754",
   "metadata": {},
   "outputs": [
    {
     "data": {
      "text/plain": [
       "\n",
       "Call:\n",
       "glm(formula = diabetes_n ~ glucose, family = binomial, data = PID2)\n",
       "\n",
       "Coefficients:\n",
       "             Estimate Std. Error z value Pr(>|z|)    \n",
       "(Intercept) -6.095521   0.629787  -9.679   <2e-16 ***\n",
       "glucose      0.042421   0.004761   8.911   <2e-16 ***\n",
       "---\n",
       "Signif. codes:  0 '***' 0.001 '**' 0.01 '*' 0.05 '.' 0.1 ' ' 1\n",
       "\n",
       "(Dispersion parameter for binomial family taken to be 1)\n",
       "\n",
       "    Null deviance: 498.10  on 391  degrees of freedom\n",
       "Residual deviance: 386.67  on 390  degrees of freedom\n",
       "AIC: 390.67\n",
       "\n",
       "Number of Fisher Scoring iterations: 4\n"
      ]
     },
     "metadata": {},
     "output_type": "display_data"
    }
   ],
   "source": [
    "library(broom) \n",
    "my_logistic <- glm(diabetes_n ~ glucose, data = PID2, family = binomial)\n",
    "\n",
    "summary(my_logistic)\n"
   ]
  },
  {
   "cell_type": "code",
   "execution_count": 31,
   "id": "2e47b4fa",
   "metadata": {},
   "outputs": [
    {
     "data": {
      "text/html": [
       "<table class=\"dataframe\">\n",
       "<caption>A tibble: 1 × 8</caption>\n",
       "<thead>\n",
       "\t<tr><th scope=col>null.deviance</th><th scope=col>df.null</th><th scope=col>logLik</th><th scope=col>AIC</th><th scope=col>BIC</th><th scope=col>deviance</th><th scope=col>df.residual</th><th scope=col>nobs</th></tr>\n",
       "\t<tr><th scope=col>&lt;dbl&gt;</th><th scope=col>&lt;int&gt;</th><th scope=col>&lt;dbl&gt;</th><th scope=col>&lt;dbl&gt;</th><th scope=col>&lt;dbl&gt;</th><th scope=col>&lt;dbl&gt;</th><th scope=col>&lt;int&gt;</th><th scope=col>&lt;int&gt;</th></tr>\n",
       "</thead>\n",
       "<tbody>\n",
       "\t<tr><td>498.0978</td><td>391</td><td>-193.333</td><td>390.666</td><td>398.6085</td><td>386.666</td><td>390</td><td>392</td></tr>\n",
       "</tbody>\n",
       "</table>\n"
      ],
      "text/latex": [
       "A tibble: 1 × 8\n",
       "\\begin{tabular}{llllllll}\n",
       " null.deviance & df.null & logLik & AIC & BIC & deviance & df.residual & nobs\\\\\n",
       " <dbl> & <int> & <dbl> & <dbl> & <dbl> & <dbl> & <int> & <int>\\\\\n",
       "\\hline\n",
       "\t 498.0978 & 391 & -193.333 & 390.666 & 398.6085 & 386.666 & 390 & 392\\\\\n",
       "\\end{tabular}\n"
      ],
      "text/markdown": [
       "\n",
       "A tibble: 1 × 8\n",
       "\n",
       "| null.deviance &lt;dbl&gt; | df.null &lt;int&gt; | logLik &lt;dbl&gt; | AIC &lt;dbl&gt; | BIC &lt;dbl&gt; | deviance &lt;dbl&gt; | df.residual &lt;int&gt; | nobs &lt;int&gt; |\n",
       "|---|---|---|---|---|---|---|---|\n",
       "| 498.0978 | 391 | -193.333 | 390.666 | 398.6085 | 386.666 | 390 | 392 |\n",
       "\n"
      ],
      "text/plain": [
       "  null.deviance df.null logLik   AIC     BIC      deviance df.residual nobs\n",
       "1 498.0978      391     -193.333 390.666 398.6085 386.666  390         392 "
      ]
     },
     "metadata": {},
     "output_type": "display_data"
    }
   ],
   "source": [
    "glance(my_logistic)"
   ]
  },
  {
   "cell_type": "code",
   "execution_count": 32,
   "id": "3ab3afa6",
   "metadata": {},
   "outputs": [
    {
     "data": {
      "text/html": [
       "<table class=\"dataframe\">\n",
       "<caption>A tibble: 1 × 8</caption>\n",
       "<thead>\n",
       "\t<tr><th scope=col>null.deviance</th><th scope=col>df.null</th><th scope=col>logLik</th><th scope=col>AIC</th><th scope=col>BIC</th><th scope=col>deviance</th><th scope=col>df.residual</th><th scope=col>nobs</th></tr>\n",
       "\t<tr><th scope=col>&lt;dbl&gt;</th><th scope=col>&lt;int&gt;</th><th scope=col>&lt;dbl&gt;</th><th scope=col>&lt;dbl&gt;</th><th scope=col>&lt;dbl&gt;</th><th scope=col>&lt;dbl&gt;</th><th scope=col>&lt;int&gt;</th><th scope=col>&lt;int&gt;</th></tr>\n",
       "</thead>\n",
       "<tbody>\n",
       "\t<tr><td>498.0978</td><td>391</td><td>-249.0489</td><td>500.0978</td><td>504.0691</td><td>498.0978</td><td>391</td><td>392</td></tr>\n",
       "</tbody>\n",
       "</table>\n"
      ],
      "text/latex": [
       "A tibble: 1 × 8\n",
       "\\begin{tabular}{llllllll}\n",
       " null.deviance & df.null & logLik & AIC & BIC & deviance & df.residual & nobs\\\\\n",
       " <dbl> & <int> & <dbl> & <dbl> & <dbl> & <dbl> & <int> & <int>\\\\\n",
       "\\hline\n",
       "\t 498.0978 & 391 & -249.0489 & 500.0978 & 504.0691 & 498.0978 & 391 & 392\\\\\n",
       "\\end{tabular}\n"
      ],
      "text/markdown": [
       "\n",
       "A tibble: 1 × 8\n",
       "\n",
       "| null.deviance &lt;dbl&gt; | df.null &lt;int&gt; | logLik &lt;dbl&gt; | AIC &lt;dbl&gt; | BIC &lt;dbl&gt; | deviance &lt;dbl&gt; | df.residual &lt;int&gt; | nobs &lt;int&gt; |\n",
       "|---|---|---|---|---|---|---|---|\n",
       "| 498.0978 | 391 | -249.0489 | 500.0978 | 504.0691 | 498.0978 | 391 | 392 |\n",
       "\n"
      ],
      "text/plain": [
       "  null.deviance df.null logLik    AIC      BIC      deviance df.residual nobs\n",
       "1 498.0978      391     -249.0489 500.0978 504.0691 498.0978 391         392 "
      ]
     },
     "metadata": {},
     "output_type": "display_data"
    }
   ],
   "source": [
    "my_logistic_intercept <- glm(diabetes_n ~ 1, data = PID2, family = binomial)\n",
    "glance(my_logistic_intercept)"
   ]
  },
  {
   "cell_type": "code",
   "execution_count": 33,
   "id": "9a31c9e9",
   "metadata": {},
   "outputs": [
    {
     "data": {
      "text/html": [
       "<strong>glucose:</strong> 79.4024484682919"
      ],
      "text/latex": [
       "\\textbf{glucose:} 79.4024484682919"
      ],
      "text/markdown": [
       "**glucose:** 79.4024484682919"
      ],
      "text/plain": [
       " glucose \n",
       "79.40245 "
      ]
     },
     "metadata": {},
     "output_type": "display_data"
    },
    {
     "data": {
      "text/plain": [
       "'log Lik.' 111.4318 (df=1)"
      ]
     },
     "metadata": {},
     "output_type": "display_data"
    }
   ],
   "source": [
    "# z-test\n",
    "# Wald’s chi-squared statistic for the hypothesis that the coefficient of glucose\n",
    "# is zero, or equivalently that the odds-ratio is one\n",
    "m0 <- glm(diabetes_n ~ 1, data = PID2, family = binomial)\n",
    "m1 <- glm(diabetes_n ~ glucose, data = PID2, family = binomial)\n",
    "\n",
    "b <- coef(m1)\n",
    "se <- sqrt(diag(vcov(m1)))\n",
    "(b[2]/se[2])^2\n",
    "\n",
    "# likeli ratio test\n",
    "#-2*(logLik(m0) - logLik(m1))\n",
    "-2*(logLik(m0) - logLik(m1))\n"
   ]
  },
  {
   "cell_type": "code",
   "execution_count": 34,
   "id": "d3e16e39",
   "metadata": {},
   "outputs": [
    {
     "data": {
      "text/html": [
       "<table class=\"dataframe\">\n",
       "<caption>A tibble: 2 × 5</caption>\n",
       "<thead>\n",
       "\t<tr><th scope=col>term</th><th scope=col>estimate</th><th scope=col>std.error</th><th scope=col>statistic</th><th scope=col>p.value</th></tr>\n",
       "\t<tr><th scope=col>&lt;chr&gt;</th><th scope=col>&lt;dbl&gt;</th><th scope=col>&lt;dbl&gt;</th><th scope=col>&lt;dbl&gt;</th><th scope=col>&lt;dbl&gt;</th></tr>\n",
       "</thead>\n",
       "<tbody>\n",
       "\t<tr><td>(Intercept)</td><td>-6.09552139</td><td>0.629787038</td><td>-9.678703</td><td>3.713993e-22</td></tr>\n",
       "\t<tr><td>glucose    </td><td> 0.04242099</td><td>0.004760623</td><td> 8.910805</td><td>5.066328e-19</td></tr>\n",
       "</tbody>\n",
       "</table>\n"
      ],
      "text/latex": [
       "A tibble: 2 × 5\n",
       "\\begin{tabular}{lllll}\n",
       " term & estimate & std.error & statistic & p.value\\\\\n",
       " <chr> & <dbl> & <dbl> & <dbl> & <dbl>\\\\\n",
       "\\hline\n",
       "\t (Intercept) & -6.09552139 & 0.629787038 & -9.678703 & 3.713993e-22\\\\\n",
       "\t glucose     &  0.04242099 & 0.004760623 &  8.910805 & 5.066328e-19\\\\\n",
       "\\end{tabular}\n"
      ],
      "text/markdown": [
       "\n",
       "A tibble: 2 × 5\n",
       "\n",
       "| term &lt;chr&gt; | estimate &lt;dbl&gt; | std.error &lt;dbl&gt; | statistic &lt;dbl&gt; | p.value &lt;dbl&gt; |\n",
       "|---|---|---|---|---|\n",
       "| (Intercept) | -6.09552139 | 0.629787038 | -9.678703 | 3.713993e-22 |\n",
       "| glucose     |  0.04242099 | 0.004760623 |  8.910805 | 5.066328e-19 |\n",
       "\n"
      ],
      "text/plain": [
       "  term        estimate    std.error   statistic p.value     \n",
       "1 (Intercept) -6.09552139 0.629787038 -9.678703 3.713993e-22\n",
       "2 glucose      0.04242099 0.004760623  8.910805 5.066328e-19"
      ]
     },
     "metadata": {},
     "output_type": "display_data"
    }
   ],
   "source": [
    "tidy(my_logistic)"
   ]
  },
  {
   "cell_type": "code",
   "execution_count": 35,
   "id": "514606b2",
   "metadata": {},
   "outputs": [
    {
     "data": {
      "text/plain": [
       "\n",
       "Call:\n",
       "glm(formula = diabetes_n ~ glucose, family = binomial, data = PID2)\n",
       "\n",
       "Coefficients:\n",
       "             Estimate Std. Error z value Pr(>|z|)    \n",
       "(Intercept) -6.095521   0.629787  -9.679   <2e-16 ***\n",
       "glucose      0.042421   0.004761   8.911   <2e-16 ***\n",
       "---\n",
       "Signif. codes:  0 '***' 0.001 '**' 0.01 '*' 0.05 '.' 0.1 ' ' 1\n",
       "\n",
       "(Dispersion parameter for binomial family taken to be 1)\n",
       "\n",
       "    Null deviance: 498.10  on 391  degrees of freedom\n",
       "Residual deviance: 386.67  on 390  degrees of freedom\n",
       "AIC: 390.67\n",
       "\n",
       "Number of Fisher Scoring iterations: 4\n"
      ]
     },
     "metadata": {},
     "output_type": "display_data"
    }
   ],
   "source": [
    "summary(my_logistic)"
   ]
  },
  {
   "cell_type": "code",
   "execution_count": 36,
   "id": "f54cf83d",
   "metadata": {},
   "outputs": [
    {
     "data": {
      "text/html": [
       "<style>\n",
       ".dl-inline {width: auto; margin:0; padding: 0}\n",
       ".dl-inline>dt, .dl-inline>dd {float: none; width: auto; display: inline-block}\n",
       ".dl-inline>dt::after {content: \":\\0020\"; padding-right: .5ex}\n",
       ".dl-inline>dt:not(:first-of-type) {padding-left: .5ex}\n",
       "</style><dl class=dl-inline><dt>(Intercept)</dt><dd>0.00225293517344414</dd><dt>glucose</dt><dd>1.04333361593451</dd></dl>\n"
      ],
      "text/latex": [
       "\\begin{description*}\n",
       "\\item[(Intercept)] 0.00225293517344414\n",
       "\\item[glucose] 1.04333361593451\n",
       "\\end{description*}\n"
      ],
      "text/markdown": [
       "(Intercept)\n",
       ":   0.00225293517344414glucose\n",
       ":   1.04333361593451\n",
       "\n"
      ],
      "text/plain": [
       "(Intercept)     glucose \n",
       "0.002252935 1.043333616 "
      ]
     },
     "metadata": {},
     "output_type": "display_data"
    },
    {
     "data": {
      "text/html": [
       "<table class=\"dataframe\">\n",
       "<caption>A matrix: 2 × 2 of type dbl</caption>\n",
       "<thead>\n",
       "\t<tr><th></th><th scope=col>2.5 %</th><th scope=col>97.5 %</th></tr>\n",
       "</thead>\n",
       "<tbody>\n",
       "\t<tr><th scope=row>(Intercept)</th><td>0.0006194309</td><td>0.007358113</td></tr>\n",
       "\t<tr><th scope=row>glucose</th><td>1.0340267589</td><td>1.053554337</td></tr>\n",
       "</tbody>\n",
       "</table>\n"
      ],
      "text/latex": [
       "A matrix: 2 × 2 of type dbl\n",
       "\\begin{tabular}{r|ll}\n",
       "  & 2.5 \\% & 97.5 \\%\\\\\n",
       "\\hline\n",
       "\t(Intercept) & 0.0006194309 & 0.007358113\\\\\n",
       "\tglucose & 1.0340267589 & 1.053554337\\\\\n",
       "\\end{tabular}\n"
      ],
      "text/markdown": [
       "\n",
       "A matrix: 2 × 2 of type dbl\n",
       "\n",
       "| <!--/--> | 2.5 % | 97.5 % |\n",
       "|---|---|---|\n",
       "| (Intercept) | 0.0006194309 | 0.007358113 |\n",
       "| glucose | 1.0340267589 | 1.053554337 |\n",
       "\n"
      ],
      "text/plain": [
       "            2.5 %        97.5 %     \n",
       "(Intercept) 0.0006194309 0.007358113\n",
       "glucose     1.0340267589 1.053554337"
      ]
     },
     "metadata": {},
     "output_type": "display_data"
    }
   ],
   "source": [
    "exp(my_logistic$coeff)\n",
    "suppressMessages(exp(confint(my_logistic)))"
   ]
  },
  {
   "cell_type": "code",
   "execution_count": 37,
   "id": "7d92ba1d",
   "metadata": {},
   "outputs": [
    {
     "data": {
      "text/plain": [
       "Call:\n",
       "concordance.lm(object = my_logistic)\n",
       "\n",
       "n= 392 \n",
       "Concordance= 0.8058 se= 0.02356\n",
       "concordant discordant     tied.x     tied.y    tied.xy \n",
       "     27332       6503        225      42049        527 "
      ]
     },
     "metadata": {},
     "output_type": "display_data"
    }
   ],
   "source": [
    "library(survival)\n",
    "concordance(my_logistic)"
   ]
  },
  {
   "cell_type": "code",
   "execution_count": 38,
   "id": "3245df31",
   "metadata": {},
   "outputs": [
    {
     "data": {
      "text/html": [
       "0.6116"
      ],
      "text/latex": [
       "0.6116"
      ],
      "text/markdown": [
       "0.6116"
      ],
      "text/plain": [
       "[1] 0.6116"
      ]
     },
     "metadata": {},
     "output_type": "display_data"
    },
    {
     "data": {
      "text/html": [
       "0.615605142603813"
      ],
      "text/latex": [
       "0.615605142603813"
      ],
      "text/markdown": [
       "0.615605142603813"
      ],
      "text/plain": [
       "[1] 0.6156051"
      ]
     },
     "metadata": {},
     "output_type": "display_data"
    },
    {
     "data": {
      "text/html": [
       "76636"
      ],
      "text/latex": [
       "76636"
      ],
      "text/markdown": [
       "76636"
      ],
      "text/plain": [
       "[1] 76636"
      ]
     },
     "metadata": {},
     "output_type": "display_data"
    },
    {
     "data": {
      "text/html": [
       "0.830288637194008"
      ],
      "text/latex": [
       "0.830288637194008"
      ],
      "text/markdown": [
       "0.830288637194008"
      ],
      "text/plain": [
       "[1] 0.8302886"
      ]
     },
     "metadata": {},
     "output_type": "display_data"
    },
    {
     "data": {
      "text/html": [
       "0.271791325225742"
      ],
      "text/latex": [
       "0.271791325225742"
      ],
      "text/markdown": [
       "0.271791325225742"
      ],
      "text/plain": [
       "[1] 0.2717913"
      ]
     },
     "metadata": {},
     "output_type": "display_data"
    },
    {
     "data": {
      "text/html": [
       "0.54219596001666"
      ],
      "text/latex": [
       "0.54219596001666"
      ],
      "text/markdown": [
       "0.54219596001666"
      ],
      "text/plain": [
       "[1] 0.542196"
      ]
     },
     "metadata": {},
     "output_type": "display_data"
    }
   ],
   "source": [
    "# Sommer's D is 2C-1\n",
    "2 * 0.8058 - 1\n",
    "# Goodman and Kruskal's Gamma (or simple Gamma)\n",
    "# (#concordant - #discordant) / (#concordant + #discordant)\n",
    "(27332 - 6503) / (27332 + 6503)\n",
    "# https://en.wikipedia.org/wiki/Kendall_rank_correlation_coefficient \n",
    "# Tau\n",
    "# 1 - 2*(number of discordant pairs) / (number of pairs)\n",
    "# 1 - 2 * 6503 / (n * (n - 1) / 2)\n",
    "392 * 391 / 2\n",
    "1 - 2 * 6503 / (392 * (392 - 1) / 2)\n",
    "# Tau a\n",
    "# (#concordant - # discordant) / n\n",
    "(27332 - 6503) / (392*391 / 2)\n",
    "# Tau c below, but what is c?\n",
    "# 2 * (nc - nd) / (n^2*(m-1)/m)\n",
    "2 * (27332 - 6503) / (392**2 * (2 - 1) / 2)"
   ]
  },
  {
   "cell_type": "markdown",
   "id": "2ffc9dc9",
   "metadata": {},
   "source": [
    "The others could be calculated by hand according to the formula mentioned in the previous block 8."
   ]
  },
  {
   "cell_type": "code",
   "execution_count": 39,
   "id": "693ccd48",
   "metadata": {},
   "outputs": [
    {
     "name": "stdout",
     "output_type": "stream",
     "text": [
      " int [1:392] 0 1 1 1 1 1 1 0 1 0 ...\n",
      " int [1:392] 0 0 0 1 1 1 0 0 0 0 ...\n"
     ]
    }
   ],
   "source": [
    "library(yardstick)\n",
    "obs <- as.integer(df$diabetes_n)\n",
    "pred <- as.integer(round(predict(my_logistic, type = \"response\")))\n",
    "str(obs)\n",
    "str(pred)\n",
    "df1 <- table(obs, pred)"
   ]
  },
  {
   "cell_type": "code",
   "execution_count": 40,
   "id": "9f184714",
   "metadata": {},
   "outputs": [
    {
     "data": {
      "text/html": [
       "<table class=\"dataframe\">\n",
       "<caption>A tibble: 13 × 3</caption>\n",
       "<thead>\n",
       "\t<tr><th scope=col>.metric</th><th scope=col>.estimator</th><th scope=col>.estimate</th></tr>\n",
       "\t<tr><th scope=col>&lt;chr&gt;</th><th scope=col>&lt;chr&gt;</th><th scope=col>&lt;dbl&gt;</th></tr>\n",
       "</thead>\n",
       "<tbody>\n",
       "\t<tr><td>accuracy            </td><td>binary</td><td>0.7678571</td></tr>\n",
       "\t<tr><td>kap                 </td><td>binary</td><td>0.4405621</td></tr>\n",
       "\t<tr><td>sens                </td><td>binary</td><td>0.7898305</td></tr>\n",
       "\t<tr><td>spec                </td><td>binary</td><td>0.7010309</td></tr>\n",
       "\t<tr><td>ppv                 </td><td>binary</td><td>0.8893130</td></tr>\n",
       "\t<tr><td>npv                 </td><td>binary</td><td>0.5230769</td></tr>\n",
       "\t<tr><td>mcc                 </td><td>binary</td><td>0.4499181</td></tr>\n",
       "\t<tr><td>j_index             </td><td>binary</td><td>0.4908614</td></tr>\n",
       "\t<tr><td>bal_accuracy        </td><td>binary</td><td>0.7454307</td></tr>\n",
       "\t<tr><td>detection_prevalence</td><td>binary</td><td>0.6683673</td></tr>\n",
       "\t<tr><td>precision           </td><td>binary</td><td>0.8893130</td></tr>\n",
       "\t<tr><td>recall              </td><td>binary</td><td>0.7898305</td></tr>\n",
       "\t<tr><td>f_meas              </td><td>binary</td><td>0.8366248</td></tr>\n",
       "</tbody>\n",
       "</table>\n"
      ],
      "text/latex": [
       "A tibble: 13 × 3\n",
       "\\begin{tabular}{lll}\n",
       " .metric & .estimator & .estimate\\\\\n",
       " <chr> & <chr> & <dbl>\\\\\n",
       "\\hline\n",
       "\t accuracy             & binary & 0.7678571\\\\\n",
       "\t kap                  & binary & 0.4405621\\\\\n",
       "\t sens                 & binary & 0.7898305\\\\\n",
       "\t spec                 & binary & 0.7010309\\\\\n",
       "\t ppv                  & binary & 0.8893130\\\\\n",
       "\t npv                  & binary & 0.5230769\\\\\n",
       "\t mcc                  & binary & 0.4499181\\\\\n",
       "\t j\\_index              & binary & 0.4908614\\\\\n",
       "\t bal\\_accuracy         & binary & 0.7454307\\\\\n",
       "\t detection\\_prevalence & binary & 0.6683673\\\\\n",
       "\t precision            & binary & 0.8893130\\\\\n",
       "\t recall               & binary & 0.7898305\\\\\n",
       "\t f\\_meas               & binary & 0.8366248\\\\\n",
       "\\end{tabular}\n"
      ],
      "text/markdown": [
       "\n",
       "A tibble: 13 × 3\n",
       "\n",
       "| .metric &lt;chr&gt; | .estimator &lt;chr&gt; | .estimate &lt;dbl&gt; |\n",
       "|---|---|---|\n",
       "| accuracy             | binary | 0.7678571 |\n",
       "| kap                  | binary | 0.4405621 |\n",
       "| sens                 | binary | 0.7898305 |\n",
       "| spec                 | binary | 0.7010309 |\n",
       "| ppv                  | binary | 0.8893130 |\n",
       "| npv                  | binary | 0.5230769 |\n",
       "| mcc                  | binary | 0.4499181 |\n",
       "| j_index              | binary | 0.4908614 |\n",
       "| bal_accuracy         | binary | 0.7454307 |\n",
       "| detection_prevalence | binary | 0.6683673 |\n",
       "| precision            | binary | 0.8893130 |\n",
       "| recall               | binary | 0.7898305 |\n",
       "| f_meas               | binary | 0.8366248 |\n",
       "\n"
      ],
      "text/plain": [
       "   .metric              .estimator .estimate\n",
       "1  accuracy             binary     0.7678571\n",
       "2  kap                  binary     0.4405621\n",
       "3  sens                 binary     0.7898305\n",
       "4  spec                 binary     0.7010309\n",
       "5  ppv                  binary     0.8893130\n",
       "6  npv                  binary     0.5230769\n",
       "7  mcc                  binary     0.4499181\n",
       "8  j_index              binary     0.4908614\n",
       "9  bal_accuracy         binary     0.7454307\n",
       "10 detection_prevalence binary     0.6683673\n",
       "11 precision            binary     0.8893130\n",
       "12 recall               binary     0.7898305\n",
       "13 f_meas               binary     0.8366248"
      ]
     },
     "metadata": {},
     "output_type": "display_data"
    }
   ],
   "source": [
    "cf <- conf_mat(df1, truth = obs, estimate = pred)\n",
    "summary(cf)"
   ]
  },
  {
   "cell_type": "code",
   "execution_count": null,
   "id": "998758d8",
   "metadata": {},
   "outputs": [],
   "source": []
  }
 ],
 "metadata": {
  "kernelspec": {
   "display_name": "R 4.3.2",
   "language": "R",
   "name": "ir432"
  },
  "language_info": {
   "codemirror_mode": "r",
   "file_extension": ".r",
   "mimetype": "text/x-r-source",
   "name": "R",
   "pygments_lexer": "r",
   "version": "4.3.2"
  }
 },
 "nbformat": 4,
 "nbformat_minor": 5
}
