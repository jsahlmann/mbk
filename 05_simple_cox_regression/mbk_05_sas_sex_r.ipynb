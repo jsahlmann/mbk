{
 "cells": [
  {
   "cell_type": "markdown",
   "id": "df8091c6-2036-476c-b540-77db13c8369e",
   "metadata": {},
   "source": [
    "# 05 - Simple Cox regression - Categorical variable"
   ]
  },
  {
   "cell_type": "markdown",
   "id": "8cf7dd5a-4d82-471f-8a41-39e05dbdde32",
   "metadata": {},
   "source": [
    "## Data"
   ]
  },
  {
   "cell_type": "markdown",
   "id": "f4874aaa-1498-44be-8371-053af86b4735",
   "metadata": {},
   "source": [
    "Source of data:  Mayo Clinic trial in PBC conducted between 1974 and 1984\n",
    "\n",
    "Data set pbc.csv"
   ]
  },
  {
   "cell_type": "code",
   "execution_count": 1,
   "id": "09e0948e-f67e-4798-8b78-888edfcf8a78",
   "metadata": {},
   "outputs": [
    {
     "data": {
      "text/html": [
       "<table class=\"dataframe\">\n",
       "<caption>A tibble: 6 × 20</caption>\n",
       "<thead>\n",
       "\t<tr><th scope=col>id</th><th scope=col>time</th><th scope=col>status</th><th scope=col>trt</th><th scope=col>age</th><th scope=col>sex</th><th scope=col>ascites</th><th scope=col>hepato</th><th scope=col>spiders</th><th scope=col>edema</th><th scope=col>bili</th><th scope=col>chol</th><th scope=col>albumin</th><th scope=col>copper</th><th scope=col>alk.phos</th><th scope=col>ast</th><th scope=col>trig</th><th scope=col>platelet</th><th scope=col>protime</th><th scope=col>stage</th></tr>\n",
       "\t<tr><th scope=col>&lt;dbl&gt;</th><th scope=col>&lt;dbl&gt;</th><th scope=col>&lt;dbl&gt;</th><th scope=col>&lt;chr&gt;</th><th scope=col>&lt;dbl&gt;</th><th scope=col>&lt;chr&gt;</th><th scope=col>&lt;chr&gt;</th><th scope=col>&lt;chr&gt;</th><th scope=col>&lt;chr&gt;</th><th scope=col>&lt;dbl&gt;</th><th scope=col>&lt;dbl&gt;</th><th scope=col>&lt;chr&gt;</th><th scope=col>&lt;dbl&gt;</th><th scope=col>&lt;chr&gt;</th><th scope=col>&lt;chr&gt;</th><th scope=col>&lt;chr&gt;</th><th scope=col>&lt;chr&gt;</th><th scope=col>&lt;chr&gt;</th><th scope=col>&lt;chr&gt;</th><th scope=col>&lt;chr&gt;</th></tr>\n",
       "</thead>\n",
       "<tbody>\n",
       "\t<tr><td>1</td><td> 400</td><td>2</td><td>1</td><td>58.76523</td><td>f</td><td>1</td><td>1</td><td>1</td><td>1.0</td><td>14.5</td><td>261</td><td>2.60</td><td>156</td><td>1718  </td><td>137.95</td><td>172</td><td>190</td><td>12.2</td><td>4</td></tr>\n",
       "\t<tr><td>2</td><td>4500</td><td>0</td><td>1</td><td>56.44627</td><td>f</td><td>0</td><td>1</td><td>1</td><td>0.0</td><td> 1.1</td><td>302</td><td>4.14</td><td>54 </td><td>7394.8</td><td>113.52</td><td>88 </td><td>221</td><td>10.6</td><td>3</td></tr>\n",
       "\t<tr><td>3</td><td>1012</td><td>2</td><td>1</td><td>70.07255</td><td>m</td><td>0</td><td>0</td><td>0</td><td>0.5</td><td> 1.4</td><td>176</td><td>3.48</td><td>210</td><td>516   </td><td>96.1  </td><td>55 </td><td>151</td><td>12  </td><td>4</td></tr>\n",
       "\t<tr><td>4</td><td>1925</td><td>2</td><td>1</td><td>54.74059</td><td>f</td><td>0</td><td>1</td><td>1</td><td>0.5</td><td> 1.8</td><td>244</td><td>2.54</td><td>64 </td><td>6121.8</td><td>60.63 </td><td>92 </td><td>183</td><td>10.3</td><td>4</td></tr>\n",
       "\t<tr><td>5</td><td>1504</td><td>1</td><td>2</td><td>38.10541</td><td>f</td><td>0</td><td>1</td><td>1</td><td>0.0</td><td> 3.4</td><td>279</td><td>3.53</td><td>143</td><td>671   </td><td>113.15</td><td>72 </td><td>136</td><td>10.9</td><td>3</td></tr>\n",
       "\t<tr><td>6</td><td>2503</td><td>2</td><td>2</td><td>66.25873</td><td>f</td><td>0</td><td>1</td><td>0</td><td>0.0</td><td> 0.8</td><td>248</td><td>3.98</td><td>50 </td><td>944   </td><td>93    </td><td>63 </td><td>.  </td><td>11  </td><td>3</td></tr>\n",
       "</tbody>\n",
       "</table>\n"
      ],
      "text/latex": [
       "A tibble: 6 × 20\n",
       "\\begin{tabular}{llllllllllllllllllll}\n",
       " id & time & status & trt & age & sex & ascites & hepato & spiders & edema & bili & chol & albumin & copper & alk.phos & ast & trig & platelet & protime & stage\\\\\n",
       " <dbl> & <dbl> & <dbl> & <chr> & <dbl> & <chr> & <chr> & <chr> & <chr> & <dbl> & <dbl> & <chr> & <dbl> & <chr> & <chr> & <chr> & <chr> & <chr> & <chr> & <chr>\\\\\n",
       "\\hline\n",
       "\t 1 &  400 & 2 & 1 & 58.76523 & f & 1 & 1 & 1 & 1.0 & 14.5 & 261 & 2.60 & 156 & 1718   & 137.95 & 172 & 190 & 12.2 & 4\\\\\n",
       "\t 2 & 4500 & 0 & 1 & 56.44627 & f & 0 & 1 & 1 & 0.0 &  1.1 & 302 & 4.14 & 54  & 7394.8 & 113.52 & 88  & 221 & 10.6 & 3\\\\\n",
       "\t 3 & 1012 & 2 & 1 & 70.07255 & m & 0 & 0 & 0 & 0.5 &  1.4 & 176 & 3.48 & 210 & 516    & 96.1   & 55  & 151 & 12   & 4\\\\\n",
       "\t 4 & 1925 & 2 & 1 & 54.74059 & f & 0 & 1 & 1 & 0.5 &  1.8 & 244 & 2.54 & 64  & 6121.8 & 60.63  & 92  & 183 & 10.3 & 4\\\\\n",
       "\t 5 & 1504 & 1 & 2 & 38.10541 & f & 0 & 1 & 1 & 0.0 &  3.4 & 279 & 3.53 & 143 & 671    & 113.15 & 72  & 136 & 10.9 & 3\\\\\n",
       "\t 6 & 2503 & 2 & 2 & 66.25873 & f & 0 & 1 & 0 & 0.0 &  0.8 & 248 & 3.98 & 50  & 944    & 93     & 63  & .   & 11   & 3\\\\\n",
       "\\end{tabular}\n"
      ],
      "text/markdown": [
       "\n",
       "A tibble: 6 × 20\n",
       "\n",
       "| id &lt;dbl&gt; | time &lt;dbl&gt; | status &lt;dbl&gt; | trt &lt;chr&gt; | age &lt;dbl&gt; | sex &lt;chr&gt; | ascites &lt;chr&gt; | hepato &lt;chr&gt; | spiders &lt;chr&gt; | edema &lt;dbl&gt; | bili &lt;dbl&gt; | chol &lt;chr&gt; | albumin &lt;dbl&gt; | copper &lt;chr&gt; | alk.phos &lt;chr&gt; | ast &lt;chr&gt; | trig &lt;chr&gt; | platelet &lt;chr&gt; | protime &lt;chr&gt; | stage &lt;chr&gt; |\n",
       "|---|---|---|---|---|---|---|---|---|---|---|---|---|---|---|---|---|---|---|---|\n",
       "| 1 |  400 | 2 | 1 | 58.76523 | f | 1 | 1 | 1 | 1.0 | 14.5 | 261 | 2.60 | 156 | 1718   | 137.95 | 172 | 190 | 12.2 | 4 |\n",
       "| 2 | 4500 | 0 | 1 | 56.44627 | f | 0 | 1 | 1 | 0.0 |  1.1 | 302 | 4.14 | 54  | 7394.8 | 113.52 | 88  | 221 | 10.6 | 3 |\n",
       "| 3 | 1012 | 2 | 1 | 70.07255 | m | 0 | 0 | 0 | 0.5 |  1.4 | 176 | 3.48 | 210 | 516    | 96.1   | 55  | 151 | 12   | 4 |\n",
       "| 4 | 1925 | 2 | 1 | 54.74059 | f | 0 | 1 | 1 | 0.5 |  1.8 | 244 | 2.54 | 64  | 6121.8 | 60.63  | 92  | 183 | 10.3 | 4 |\n",
       "| 5 | 1504 | 1 | 2 | 38.10541 | f | 0 | 1 | 1 | 0.0 |  3.4 | 279 | 3.53 | 143 | 671    | 113.15 | 72  | 136 | 10.9 | 3 |\n",
       "| 6 | 2503 | 2 | 2 | 66.25873 | f | 0 | 1 | 0 | 0.0 |  0.8 | 248 | 3.98 | 50  | 944    | 93     | 63  | .   | 11   | 3 |\n",
       "\n"
      ],
      "text/plain": [
       "  id time status trt age      sex ascites hepato spiders edema bili chol\n",
       "1 1   400 2      1   58.76523 f   1       1      1       1.0   14.5 261 \n",
       "2 2  4500 0      1   56.44627 f   0       1      1       0.0    1.1 302 \n",
       "3 3  1012 2      1   70.07255 m   0       0      0       0.5    1.4 176 \n",
       "4 4  1925 2      1   54.74059 f   0       1      1       0.5    1.8 244 \n",
       "5 5  1504 1      2   38.10541 f   0       1      1       0.0    3.4 279 \n",
       "6 6  2503 2      2   66.25873 f   0       1      0       0.0    0.8 248 \n",
       "  albumin copper alk.phos ast    trig platelet protime stage\n",
       "1 2.60    156    1718     137.95 172  190      12.2    4    \n",
       "2 4.14    54     7394.8   113.52 88   221      10.6    3    \n",
       "3 3.48    210    516      96.1   55   151      12      4    \n",
       "4 2.54    64     6121.8   60.63  92   183      10.3    4    \n",
       "5 3.53    143    671      113.15 72   136      10.9    3    \n",
       "6 3.98    50     944      93     63   .        11      3    "
      ]
     },
     "metadata": {},
     "output_type": "display_data"
    }
   ],
   "source": [
    "library(readr)\n",
    "pbc <- read_csv(\"data/pbc.csv\",\n",
    "                 show_col_types = FALSE)\n",
    "head(pbc)\n"
   ]
  },
  {
   "cell_type": "markdown",
   "id": "5e3e5853-4e74-43f7-b9fb-f9a42816fcad",
   "metadata": {},
   "source": [
    "## SAS program snippet"
   ]
  },
  {
   "cell_type": "markdown",
   "id": "72a25d47-c22e-4226-89b2-8e8625f61f8c",
   "metadata": {},
   "source": [
    "The following SAS code will be executed."
   ]
  },
  {
   "cell_type": "raw",
   "id": "b171d2d0-81ef-41e8-8987-5c68601be412",
   "metadata": {},
   "source": [
    "proc phreg data = pbc;\n",
    "  class sex;\n",
    "  model time*status(0) = sex;\n",
    "run;\n"
   ]
  },
  {
   "cell_type": "markdown",
   "id": "49a4e5bb",
   "metadata": {},
   "source": [
    "## R chunk\n",
    "\n",
    "Packages will be loaded in the chunk where they are first needed.\n",
    "\n",
    "A similar R program might look like this. It uses the lm() function.\n",
    "\n",
    "The tidy() function from the broom-packages formats the output into a tibble for easier processing."
   ]
  },
  {
   "cell_type": "code",
   "execution_count": 10,
   "id": "8b2f5e73",
   "metadata": {},
   "outputs": [
    {
     "data": {
      "text/html": [
       "<table class=\"dataframe\">\n",
       "<caption>A tibble: 1 × 5</caption>\n",
       "<thead>\n",
       "\t<tr><th scope=col>term</th><th scope=col>estimate</th><th scope=col>std.error</th><th scope=col>statistic</th><th scope=col>p.value</th></tr>\n",
       "\t<tr><th scope=col>&lt;chr&gt;</th><th scope=col>&lt;dbl&gt;</th><th scope=col>&lt;dbl&gt;</th><th scope=col>&lt;dbl&gt;</th><th scope=col>&lt;dbl&gt;</th></tr>\n",
       "</thead>\n",
       "<tbody>\n",
       "\t<tr><td>sexf</td><td>-0.361347</td><td>0.2088782</td><td>-1.729941</td><td>0.08364085</td></tr>\n",
       "</tbody>\n",
       "</table>\n"
      ],
      "text/latex": [
       "A tibble: 1 × 5\n",
       "\\begin{tabular}{lllll}\n",
       " term & estimate & std.error & statistic & p.value\\\\\n",
       " <chr> & <dbl> & <dbl> & <dbl> & <dbl>\\\\\n",
       "\\hline\n",
       "\t sexf & -0.361347 & 0.2088782 & -1.729941 & 0.08364085\\\\\n",
       "\\end{tabular}\n"
      ],
      "text/markdown": [
       "\n",
       "A tibble: 1 × 5\n",
       "\n",
       "| term &lt;chr&gt; | estimate &lt;dbl&gt; | std.error &lt;dbl&gt; | statistic &lt;dbl&gt; | p.value &lt;dbl&gt; |\n",
       "|---|---|---|---|---|\n",
       "| sexf | -0.361347 | 0.2088782 | -1.729941 | 0.08364085 |\n",
       "\n"
      ],
      "text/plain": [
       "  term estimate  std.error statistic p.value   \n",
       "1 sexf -0.361347 0.2088782 -1.729941 0.08364085"
      ]
     },
     "metadata": {},
     "output_type": "display_data"
    }
   ],
   "source": [
    "library(tidyverse)\n",
    "library(broom)\n",
    "library(survival)\n",
    "pbc1 <- pbc %>% select(time, status, sex) %>% na.omit()\n",
    "pbc1$status <- ifelse(pbc1$status == 0, 0, 1) # recode of status, all events equal 1, censored equal 0\n",
    "my_cox <- coxph(formula = Surv(time, status) ~ sex, data = pbc1)\n",
    "tidy(my_cox)"
   ]
  },
  {
   "cell_type": "markdown",
   "id": "5fcf9f00-3a07-4e34-805c-de0f95d4d76a",
   "metadata": {},
   "source": [
    "## Results"
   ]
  },
  {
   "cell_type": "markdown",
   "id": "3d365e27-c7c5-4936-90db-8392fae3a124",
   "metadata": {},
   "source": [
    "The output is divided into blocks to explain it and to reproduce it afterwards in the different languages."
   ]
  },
  {
   "cell_type": "markdown",
   "id": "40ce206b-826d-42c6-bc39-c588864d99b7",
   "metadata": {},
   "source": [
    "### Block 1\n",
    "![Block 1](img_screenshots_sex/block_1.png)"
   ]
  },
  {
   "cell_type": "markdown",
   "id": "2ccc81bb-5c79-4aa4-9d60-1bc937bdaa4a",
   "metadata": {},
   "source": [
    "Row 1 refers to the dataset which was used in this procedure.\n",
    "\n",
    "Row 2 gives the response variable or dependent variable for the Cox regression.\n",
    "\n",
    "Row 3 gives the censoring variable.\n",
    "\n",
    "Row 4 gives the censoring values.\n",
    "\n",
    "Row 5 informs about the handling of ties. The default methods of the different statistical programs might differ.\n",
    "\n",
    "The number of observations used might be less than the number of observations read.\n",
    "SAS performs a listwise deletion (complete case analysis) if missing values are present."
   ]
  },
  {
   "cell_type": "markdown",
   "id": "76a8cf44-9e71-4c5c-9007-267e0303e4f9",
   "metadata": {},
   "source": [
    "### R chunk for reproduction"
   ]
  },
  {
   "cell_type": "code",
   "execution_count": 11,
   "id": "4514e381-7401-4124-b61c-bd629fd9348e",
   "metadata": {},
   "outputs": [
    {
     "data": {
      "text/html": [
       "418"
      ],
      "text/latex": [
       "418"
      ],
      "text/markdown": [
       "418"
      ],
      "text/plain": [
       "[1] 418"
      ]
     },
     "metadata": {},
     "output_type": "display_data"
    },
    {
     "data": {
      "text/html": [
       "186"
      ],
      "text/latex": [
       "186"
      ],
      "text/markdown": [
       "186"
      ],
      "text/plain": [
       "[1] 186"
      ]
     },
     "metadata": {},
     "output_type": "display_data"
    }
   ],
   "source": [
    "nrow(pbc1)\n",
    "nobs(my_cox) # Number of events"
   ]
  },
  {
   "cell_type": "markdown",
   "id": "09f48c70-5dd6-4e6a-984e-6ed29408f555",
   "metadata": {},
   "source": [
    "### Block 2\n",
    "![Block 2](img_screenshots_sex/block_2.png)"
   ]
  },
  {
   "cell_type": "markdown",
   "id": "5082b1bf-4d3e-4ea1-93f1-e9e93aa327dd",
   "metadata": {},
   "source": [
    "Coding of categorical is listed here.\n",
    "\n",
    "This coding might differ from the coding in other statistic programming languages."
   ]
  },
  {
   "cell_type": "markdown",
   "id": "9d5727ed-e7fa-4e3e-a725-3bbafc4646d0",
   "metadata": {},
   "source": [
    "### R chunk for reproduction"
   ]
  },
  {
   "cell_type": "code",
   "execution_count": 16,
   "id": "f5de7fb8-4f28-44e8-84ba-169cf8449cd4",
   "metadata": {},
   "outputs": [
    {
     "data": {
      "text/plain": [
       "\n",
       "  m   f \n",
       " 44 374 "
      ]
     },
     "metadata": {},
     "output_type": "display_data"
    },
    {
     "data": {
      "text/html": [
       "<table class=\"dataframe\">\n",
       "<caption>A matrix: 2 × 1 of type dbl</caption>\n",
       "<thead>\n",
       "\t<tr><th></th><th scope=col>f</th></tr>\n",
       "</thead>\n",
       "<tbody>\n",
       "\t<tr><th scope=row>m</th><td>0</td></tr>\n",
       "\t<tr><th scope=row>f</th><td>1</td></tr>\n",
       "</tbody>\n",
       "</table>\n"
      ],
      "text/latex": [
       "A matrix: 2 × 1 of type dbl\n",
       "\\begin{tabular}{r|l}\n",
       "  & f\\\\\n",
       "\\hline\n",
       "\tm & 0\\\\\n",
       "\tf & 1\\\\\n",
       "\\end{tabular}\n"
      ],
      "text/markdown": [
       "\n",
       "A matrix: 2 × 1 of type dbl\n",
       "\n",
       "| <!--/--> | f |\n",
       "|---|---|\n",
       "| m | 0 |\n",
       "| f | 1 |\n",
       "\n"
      ],
      "text/plain": [
       "  f\n",
       "m 0\n",
       "f 1"
      ]
     },
     "metadata": {},
     "output_type": "display_data"
    }
   ],
   "source": [
    "table(pbc1$sex)\n",
    "contrasts(as.factor(pbc1$sex))"
   ]
  },
  {
   "cell_type": "markdown",
   "id": "0eea8159",
   "metadata": {},
   "source": [
    "See the difference between SAS and R.\n",
    "\n",
    "The consequence is the other direction of the effect of the gender."
   ]
  },
  {
   "cell_type": "markdown",
   "id": "c600c9a5-619f-4495-80e6-85c89a18877d",
   "metadata": {},
   "source": [
    "### Block 3\n",
    "![Block 3](img_screenshots_sex/block_3.png)"
   ]
  },
  {
   "cell_type": "markdown",
   "id": "06b387b6-e95a-4f7f-bd33-359773588f5b",
   "metadata": {},
   "source": [
    "This block presents the number of events and of censored values and the proportion of censored values.\n",
    "\n",
    "The important information that the model converged can be found here."
   ]
  },
  {
   "cell_type": "markdown",
   "id": "58f0e0c1-400e-4100-9ecd-636e22813168",
   "metadata": {},
   "source": [
    "### R chunk for reproduction"
   ]
  },
  {
   "cell_type": "code",
   "execution_count": null,
   "id": "524a84dd-a312-4857-8d79-a319247106a8",
   "metadata": {},
   "outputs": [],
   "source": [
    "#Todo"
   ]
  },
  {
   "cell_type": "markdown",
   "id": "e76ff54b-9339-4c00-bb4e-c5deea17de63",
   "metadata": {},
   "source": [
    "### Block 4\n",
    "![Block 4](img_screenshots_sex/block_4.png)"
   ]
  },
  {
   "cell_type": "markdown",
   "id": "cdad9669-7adb-44b7-b99f-0b81e17cbc1f",
   "metadata": {},
   "source": [
    "The model fit status is described by \n",
    "-  AIC (Akaike Information Criterion): Smaller is better.\n",
    "-  SBC (Schwarz Bayesian (Information) Criterion): Smaller is better.\n",
    "-  -2 Log L (negative two times the log-likelihood)\n"
   ]
  },
  {
   "cell_type": "markdown",
   "id": "6f5e1cd5-d8f8-4ba5-b830-9caca01c26b5",
   "metadata": {},
   "source": [
    "### R chunk for reproduction"
   ]
  },
  {
   "cell_type": "code",
   "execution_count": 17,
   "id": "bab67670-6351-4b95-bda7-c84c151dd2a0",
   "metadata": {},
   "outputs": [
    {
     "data": {
      "text/html": [
       "<table class=\"dataframe\">\n",
       "<caption>A tibble: 1 × 18</caption>\n",
       "<thead>\n",
       "\t<tr><th scope=col>n</th><th scope=col>nevent</th><th scope=col>statistic.log</th><th scope=col>p.value.log</th><th scope=col>statistic.sc</th><th scope=col>p.value.sc</th><th scope=col>statistic.wald</th><th scope=col>p.value.wald</th><th scope=col>statistic.robust</th><th scope=col>p.value.robust</th><th scope=col>r.squared</th><th scope=col>r.squared.max</th><th scope=col>concordance</th><th scope=col>std.error.concordance</th><th scope=col>logLik</th><th scope=col>AIC</th><th scope=col>BIC</th><th scope=col>nobs</th></tr>\n",
       "\t<tr><th scope=col>&lt;int&gt;</th><th scope=col>&lt;dbl&gt;</th><th scope=col>&lt;dbl&gt;</th><th scope=col>&lt;dbl&gt;</th><th scope=col>&lt;dbl&gt;</th><th scope=col>&lt;dbl&gt;</th><th scope=col>&lt;dbl&gt;</th><th scope=col>&lt;dbl&gt;</th><th scope=col>&lt;dbl&gt;</th><th scope=col>&lt;dbl&gt;</th><th scope=col>&lt;dbl&gt;</th><th scope=col>&lt;dbl&gt;</th><th scope=col>&lt;dbl&gt;</th><th scope=col>&lt;dbl&gt;</th><th scope=col>&lt;dbl&gt;</th><th scope=col>&lt;dbl&gt;</th><th scope=col>&lt;dbl&gt;</th><th scope=col>&lt;int&gt;</th></tr>\n",
       "</thead>\n",
       "<tbody>\n",
       "\t<tr><td>418</td><td>186</td><td>2.748578</td><td>0.09734096</td><td>3.024981</td><td>0.08199126</td><td>2.99</td><td>0.08364085</td><td>NA</td><td>NA</td><td>0.006553974</td><td>0.9919921</td><td>0.5182891</td><td>0.01261923</td><td>-1007.537</td><td>2017.075</td><td>2020.301</td><td>418</td></tr>\n",
       "</tbody>\n",
       "</table>\n"
      ],
      "text/latex": [
       "A tibble: 1 × 18\n",
       "\\begin{tabular}{llllllllllllllllll}\n",
       " n & nevent & statistic.log & p.value.log & statistic.sc & p.value.sc & statistic.wald & p.value.wald & statistic.robust & p.value.robust & r.squared & r.squared.max & concordance & std.error.concordance & logLik & AIC & BIC & nobs\\\\\n",
       " <int> & <dbl> & <dbl> & <dbl> & <dbl> & <dbl> & <dbl> & <dbl> & <dbl> & <dbl> & <dbl> & <dbl> & <dbl> & <dbl> & <dbl> & <dbl> & <dbl> & <int>\\\\\n",
       "\\hline\n",
       "\t 418 & 186 & 2.748578 & 0.09734096 & 3.024981 & 0.08199126 & 2.99 & 0.08364085 & NA & NA & 0.006553974 & 0.9919921 & 0.5182891 & 0.01261923 & -1007.537 & 2017.075 & 2020.301 & 418\\\\\n",
       "\\end{tabular}\n"
      ],
      "text/markdown": [
       "\n",
       "A tibble: 1 × 18\n",
       "\n",
       "| n &lt;int&gt; | nevent &lt;dbl&gt; | statistic.log &lt;dbl&gt; | p.value.log &lt;dbl&gt; | statistic.sc &lt;dbl&gt; | p.value.sc &lt;dbl&gt; | statistic.wald &lt;dbl&gt; | p.value.wald &lt;dbl&gt; | statistic.robust &lt;dbl&gt; | p.value.robust &lt;dbl&gt; | r.squared &lt;dbl&gt; | r.squared.max &lt;dbl&gt; | concordance &lt;dbl&gt; | std.error.concordance &lt;dbl&gt; | logLik &lt;dbl&gt; | AIC &lt;dbl&gt; | BIC &lt;dbl&gt; | nobs &lt;int&gt; |\n",
       "|---|---|---|---|---|---|---|---|---|---|---|---|---|---|---|---|---|---|\n",
       "| 418 | 186 | 2.748578 | 0.09734096 | 3.024981 | 0.08199126 | 2.99 | 0.08364085 | NA | NA | 0.006553974 | 0.9919921 | 0.5182891 | 0.01261923 | -1007.537 | 2017.075 | 2020.301 | 418 |\n",
       "\n"
      ],
      "text/plain": [
       "  n   nevent statistic.log p.value.log statistic.sc p.value.sc statistic.wald\n",
       "1 418 186    2.748578      0.09734096  3.024981     0.08199126 2.99          \n",
       "  p.value.wald statistic.robust p.value.robust r.squared   r.squared.max\n",
       "1 0.08364085   NA               NA             0.006553974 0.9919921    \n",
       "  concordance std.error.concordance logLik    AIC      BIC      nobs\n",
       "1 0.5182891   0.01261923            -1007.537 2017.075 2020.301 418 "
      ]
     },
     "metadata": {},
     "output_type": "display_data"
    }
   ],
   "source": [
    "glance(my_cox)"
   ]
  },
  {
   "cell_type": "markdown",
   "id": "8743a8b2-74c2-4ef6-b1ba-8446feafb902",
   "metadata": {},
   "source": [
    "### Block 5\n",
    "![Block 5](img_screenshots_sex/block_5.png)"
   ]
  },
  {
   "cell_type": "markdown",
   "id": "1bf03b16-5fb1-4ffb-adf8-ad0f88ada43d",
   "metadata": {},
   "source": [
    "These global tests test the null hypothesis that all regression coefficents are zero.\n",
    "\n",
    "The tests are different chi-square tests."
   ]
  },
  {
   "cell_type": "markdown",
   "id": "6a46f3f3-d6a0-4ef8-99e4-dba66ec6af88",
   "metadata": {},
   "source": [
    "### R chunk for reproduction"
   ]
  },
  {
   "cell_type": "code",
   "execution_count": null,
   "id": "9acefbec-732a-4135-a8d1-6499b4bfc2fb",
   "metadata": {},
   "outputs": [],
   "source": [
    "#Todo"
   ]
  },
  {
   "cell_type": "markdown",
   "id": "2cea3490-b255-48f5-a479-2b340380c718",
   "metadata": {},
   "source": [
    "### Block 6\n",
    "![Block 6](img_screenshots_sex/block_6.png)"
   ]
  },
  {
   "cell_type": "markdown",
   "id": "9b62c577-ec8c-4756-bc3d-262836a8ecbd",
   "metadata": {},
   "source": [
    "This block provides a global test for categorical variables and their influence.\n",
    "\n",
    "The global chi-square value is equal to the level chi-square value in the next block if the categorical variable is binary."
   ]
  },
  {
   "cell_type": "markdown",
   "id": "e9d44814-79f0-4ecd-88b5-671487761af1",
   "metadata": {},
   "source": [
    "### R chunk for reproduction"
   ]
  },
  {
   "cell_type": "code",
   "execution_count": 12,
   "id": "3ea59084-d045-4557-96e6-7b31c032bbcd",
   "metadata": {},
   "outputs": [
    {
     "data": {
      "text/html": [
       "<table class=\"dataframe\">\n",
       "<caption>A tibble: 1 × 5</caption>\n",
       "<thead>\n",
       "\t<tr><th scope=col>term</th><th scope=col>estimate</th><th scope=col>std.error</th><th scope=col>statistic</th><th scope=col>p.value</th></tr>\n",
       "\t<tr><th scope=col>&lt;chr&gt;</th><th scope=col>&lt;dbl&gt;</th><th scope=col>&lt;dbl&gt;</th><th scope=col>&lt;dbl&gt;</th><th scope=col>&lt;dbl&gt;</th></tr>\n",
       "</thead>\n",
       "<tbody>\n",
       "\t<tr><td>sexf</td><td>-0.361347</td><td>0.2088782</td><td>-1.729941</td><td>0.08364085</td></tr>\n",
       "</tbody>\n",
       "</table>\n"
      ],
      "text/latex": [
       "A tibble: 1 × 5\n",
       "\\begin{tabular}{lllll}\n",
       " term & estimate & std.error & statistic & p.value\\\\\n",
       " <chr> & <dbl> & <dbl> & <dbl> & <dbl>\\\\\n",
       "\\hline\n",
       "\t sexf & -0.361347 & 0.2088782 & -1.729941 & 0.08364085\\\\\n",
       "\\end{tabular}\n"
      ],
      "text/markdown": [
       "\n",
       "A tibble: 1 × 5\n",
       "\n",
       "| term &lt;chr&gt; | estimate &lt;dbl&gt; | std.error &lt;dbl&gt; | statistic &lt;dbl&gt; | p.value &lt;dbl&gt; |\n",
       "|---|---|---|---|---|\n",
       "| sexf | -0.361347 | 0.2088782 | -1.729941 | 0.08364085 |\n",
       "\n"
      ],
      "text/plain": [
       "  term estimate  std.error statistic p.value   \n",
       "1 sexf -0.361347 0.2088782 -1.729941 0.08364085"
      ]
     },
     "metadata": {},
     "output_type": "display_data"
    }
   ],
   "source": [
    "tidy(my_cox)"
   ]
  },
  {
   "cell_type": "markdown",
   "id": "30db5cb8-1c58-498a-8602-07ad1e8ffd6c",
   "metadata": {},
   "source": [
    "### Block 7\n",
    "![Block 7](img_screenshots_sex/block_7.png)"
   ]
  },
  {
   "cell_type": "markdown",
   "id": "05e17676-8e32-456b-a7bd-2fb0136357c8",
   "metadata": {},
   "source": [
    "Column 1 \"Parameter\" lists the parameter in the model.\n",
    "\n",
    "Column 2 \"\" gives the level of the Parameter.\n",
    "\n",
    "Column 3 \"DF\" gives the degrees of freedom for every parameter.\n",
    "\n",
    "Column 4 \"Estimate\" lists the regression estimates for every parameter given that the other parameter are held constant.\n",
    "\n",
    "Column 5 \"Standard Error\" gives the standard errors of the individual regression coefficients.\n",
    "\n",
    "Column 6 \"Chi-Square\" tests the null hypothesis that the regression coefficient is zero given that the other predictors are in the model.\n",
    "\n",
    "Column 7 \"Pr > ChiSq\" gives the p-value for the Chi-Square statistic.\n",
    "\n",
    "Column 8 \"Hazard Ratio\" is the exponentiated coefficient as hazard ratio"
   ]
  },
  {
   "cell_type": "code",
   "execution_count": 13,
   "id": "d66ed745-aa78-4f5e-b690-5bdcb03e89a1",
   "metadata": {},
   "outputs": [
    {
     "data": {
      "text/plain": [
       "Call:\n",
       "coxph(formula = Surv(time, status) ~ sex, data = pbc1)\n",
       "\n",
       "  n= 418, number of events= 186 \n",
       "\n",
       "        coef exp(coef) se(coef)     z Pr(>|z|)  \n",
       "sexf -0.3613    0.6967   0.2089 -1.73   0.0836 .\n",
       "---\n",
       "Signif. codes:  0 '***' 0.001 '**' 0.01 '*' 0.05 '.' 0.1 ' ' 1\n",
       "\n",
       "     exp(coef) exp(-coef) lower .95 upper .95\n",
       "sexf    0.6967      1.435    0.4627     1.049\n",
       "\n",
       "Concordance= 0.518  (se = 0.013 )\n",
       "Likelihood ratio test= 2.75  on 1 df,   p=0.1\n",
       "Wald test            = 2.99  on 1 df,   p=0.08\n",
       "Score (logrank) test = 3.02  on 1 df,   p=0.08\n"
      ]
     },
     "metadata": {},
     "output_type": "display_data"
    }
   ],
   "source": [
    "summary(my_cox)"
   ]
  },
  {
   "cell_type": "code",
   "execution_count": null,
   "id": "95140288",
   "metadata": {},
   "outputs": [],
   "source": []
  }
 ],
 "metadata": {
  "kernelspec": {
   "display_name": "R 4.3.2",
   "language": "R",
   "name": "ir432"
  },
  "language_info": {
   "codemirror_mode": "r",
   "file_extension": ".r",
   "mimetype": "text/x-r-source",
   "name": "R",
   "pygments_lexer": "r",
   "version": "4.3.2"
  }
 },
 "nbformat": 4,
 "nbformat_minor": 5
}
