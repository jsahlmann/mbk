{
 "cells": [
  {
   "cell_type": "markdown",
   "id": "df8091c6-2036-476c-b540-77db13c8369e",
   "metadata": {},
   "source": [
    "# Working sheet\n",
    "## 08 - Poisson regression\n",
    "V08.01.00 - 2024-02-26"
   ]
  },
  {
   "cell_type": "markdown",
   "id": "8cf7dd5a-4d82-471f-8a41-39e05dbdde32",
   "metadata": {},
   "source": [
    "## Load data\n",
    "Change the path and the filename in the following box."
   ]
  },
  {
   "cell_type": "code",
   "execution_count": 25,
   "id": "09e0948e-f67e-4798-8b78-888edfcf8a78",
   "metadata": {},
   "outputs": [],
   "source": [
    "library(readr)\n",
    "df <- read_csv(\"data/affairs_subset.csv\",\n",
    "                 show_col_types = FALSE)\n"
   ]
  },
  {
   "cell_type": "markdown",
   "id": "5e3e5853-4e74-43f7-b9fb-f9a42816fcad",
   "metadata": {},
   "source": [
    "Look at the structure and the head of the dataset."
   ]
  },
  {
   "cell_type": "code",
   "execution_count": 26,
   "id": "a098933a",
   "metadata": {},
   "outputs": [
    {
     "name": "stdout",
     "output_type": "stream",
     "text": [
      "spc_tbl_ [20 × 8] (S3: spec_tbl_df/tbl_df/tbl/data.frame)\n",
      " $ affairs      : num [1:20] 12 0 0 0 12 12 0 12 2 0 ...\n",
      " $ gender       : chr [1:20] \"female\" \"female\" \"male\" \"female\" ...\n",
      " $ age          : num [1:20] 42 32 32 32 37 42 27 17.5 37 27 ...\n",
      " $ yearsmarried : num [1:20] 15 15 10 15 15 15 0.417 0.75 15 1.5 ...\n",
      " $ children     : chr [1:20] \"yes\" \"yes\" \"yes\" \"yes\" ...\n",
      " $ religiousness: num [1:20] 5 2 3 4 5 4 4 2 4 2 ...\n",
      " $ education    : num [1:20] 9 14 20 18 17 12 20 12 18 16 ...\n",
      " $ rating       : num [1:20] 1 4 5 4 2 1 4 3 1 5 ...\n",
      " - attr(*, \"spec\")=\n",
      "  .. cols(\n",
      "  ..   affairs = \u001b[32mcol_double()\u001b[39m,\n",
      "  ..   gender = \u001b[31mcol_character()\u001b[39m,\n",
      "  ..   age = \u001b[32mcol_double()\u001b[39m,\n",
      "  ..   yearsmarried = \u001b[32mcol_double()\u001b[39m,\n",
      "  ..   children = \u001b[31mcol_character()\u001b[39m,\n",
      "  ..   religiousness = \u001b[32mcol_double()\u001b[39m,\n",
      "  ..   education = \u001b[32mcol_double()\u001b[39m,\n",
      "  ..   rating = \u001b[32mcol_double()\u001b[39m\n",
      "  .. )\n",
      " - attr(*, \"problems\")=<externalptr> \n"
     ]
    }
   ],
   "source": [
    "str(df)"
   ]
  },
  {
   "cell_type": "code",
   "execution_count": 27,
   "id": "13c66cc7",
   "metadata": {},
   "outputs": [
    {
     "data": {
      "text/html": [
       "<table class=\"dataframe\">\n",
       "<caption>A tibble: 6 × 8</caption>\n",
       "<thead>\n",
       "\t<tr><th scope=col>affairs</th><th scope=col>gender</th><th scope=col>age</th><th scope=col>yearsmarried</th><th scope=col>children</th><th scope=col>religiousness</th><th scope=col>education</th><th scope=col>rating</th></tr>\n",
       "\t<tr><th scope=col>&lt;dbl&gt;</th><th scope=col>&lt;chr&gt;</th><th scope=col>&lt;dbl&gt;</th><th scope=col>&lt;dbl&gt;</th><th scope=col>&lt;chr&gt;</th><th scope=col>&lt;dbl&gt;</th><th scope=col>&lt;dbl&gt;</th><th scope=col>&lt;dbl&gt;</th></tr>\n",
       "</thead>\n",
       "<tbody>\n",
       "\t<tr><td>12</td><td>female</td><td>42</td><td>15</td><td>yes</td><td>5</td><td> 9</td><td>1</td></tr>\n",
       "\t<tr><td> 0</td><td>female</td><td>32</td><td>15</td><td>yes</td><td>2</td><td>14</td><td>4</td></tr>\n",
       "\t<tr><td> 0</td><td>male  </td><td>32</td><td>10</td><td>yes</td><td>3</td><td>20</td><td>5</td></tr>\n",
       "\t<tr><td> 0</td><td>female</td><td>32</td><td>15</td><td>yes</td><td>4</td><td>18</td><td>4</td></tr>\n",
       "\t<tr><td>12</td><td>male  </td><td>37</td><td>15</td><td>yes</td><td>5</td><td>17</td><td>2</td></tr>\n",
       "\t<tr><td>12</td><td>female</td><td>42</td><td>15</td><td>yes</td><td>4</td><td>12</td><td>1</td></tr>\n",
       "</tbody>\n",
       "</table>\n"
      ],
      "text/latex": [
       "A tibble: 6 × 8\n",
       "\\begin{tabular}{llllllll}\n",
       " affairs & gender & age & yearsmarried & children & religiousness & education & rating\\\\\n",
       " <dbl> & <chr> & <dbl> & <dbl> & <chr> & <dbl> & <dbl> & <dbl>\\\\\n",
       "\\hline\n",
       "\t 12 & female & 42 & 15 & yes & 5 &  9 & 1\\\\\n",
       "\t  0 & female & 32 & 15 & yes & 2 & 14 & 4\\\\\n",
       "\t  0 & male   & 32 & 10 & yes & 3 & 20 & 5\\\\\n",
       "\t  0 & female & 32 & 15 & yes & 4 & 18 & 4\\\\\n",
       "\t 12 & male   & 37 & 15 & yes & 5 & 17 & 2\\\\\n",
       "\t 12 & female & 42 & 15 & yes & 4 & 12 & 1\\\\\n",
       "\\end{tabular}\n"
      ],
      "text/markdown": [
       "\n",
       "A tibble: 6 × 8\n",
       "\n",
       "| affairs &lt;dbl&gt; | gender &lt;chr&gt; | age &lt;dbl&gt; | yearsmarried &lt;dbl&gt; | children &lt;chr&gt; | religiousness &lt;dbl&gt; | education &lt;dbl&gt; | rating &lt;dbl&gt; |\n",
       "|---|---|---|---|---|---|---|---|\n",
       "| 12 | female | 42 | 15 | yes | 5 |  9 | 1 |\n",
       "|  0 | female | 32 | 15 | yes | 2 | 14 | 4 |\n",
       "|  0 | male   | 32 | 10 | yes | 3 | 20 | 5 |\n",
       "|  0 | female | 32 | 15 | yes | 4 | 18 | 4 |\n",
       "| 12 | male   | 37 | 15 | yes | 5 | 17 | 2 |\n",
       "| 12 | female | 42 | 15 | yes | 4 | 12 | 1 |\n",
       "\n"
      ],
      "text/plain": [
       "  affairs gender age yearsmarried children religiousness education rating\n",
       "1 12      female 42  15           yes      5              9        1     \n",
       "2  0      female 32  15           yes      2             14        4     \n",
       "3  0      male   32  10           yes      3             20        5     \n",
       "4  0      female 32  15           yes      4             18        4     \n",
       "5 12      male   37  15           yes      5             17        2     \n",
       "6 12      female 42  15           yes      4             12        1     "
      ]
     },
     "metadata": {},
     "output_type": "display_data"
    }
   ],
   "source": [
    "head(df)"
   ]
  },
  {
   "cell_type": "raw",
   "id": "59877f7e",
   "metadata": {},
   "source": [
    "Look at frequencies and descriptive statistics.\n",
    "\n",
    "The summary() function is the first approach.\n",
    "\n",
    "describe() from the Hmisc package is an alternative."
   ]
  },
  {
   "cell_type": "code",
   "execution_count": 28,
   "id": "02c0d416",
   "metadata": {},
   "outputs": [
    {
     "data": {
      "text/plain": [
       "    affairs         gender               age         yearsmarried   \n",
       " Min.   : 0.00   Length:20          Min.   :17.50   Min.   : 0.417  \n",
       " 1st Qu.: 0.00   Class :character   1st Qu.:27.00   1st Qu.: 4.000  \n",
       " Median : 0.00   Mode  :character   Median :32.00   Median :10.000  \n",
       " Mean   : 3.60                      Mean   :32.52   Mean   : 9.521  \n",
       " 3rd Qu.: 8.25                      3rd Qu.:37.00   3rd Qu.:15.000  \n",
       " Max.   :12.00                      Max.   :47.00   Max.   :15.000  \n",
       "   children         religiousness    education        rating    \n",
       " Length:20          Min.   :1.00   Min.   : 9.0   Min.   :1.00  \n",
       " Class :character   1st Qu.:2.00   1st Qu.:14.0   1st Qu.:2.00  \n",
       " Mode  :character   Median :4.00   Median :16.5   Median :4.00  \n",
       "                    Mean   :3.35   Mean   :15.8   Mean   :3.30  \n",
       "                    3rd Qu.:4.25   3rd Qu.:18.0   3rd Qu.:4.25  \n",
       "                    Max.   :5.00   Max.   :20.0   Max.   :5.00  "
      ]
     },
     "metadata": {},
     "output_type": "display_data"
    }
   ],
   "source": [
    "summary(df)"
   ]
  },
  {
   "cell_type": "code",
   "execution_count": 29,
   "id": "22413e44",
   "metadata": {},
   "outputs": [
    {
     "data": {
      "text/plain": [
       "df \n",
       "\n",
       " 8  Variables      20  Observations\n",
       "--------------------------------------------------------------------------------\n",
       "affairs \n",
       "       n  missing distinct     Info     Mean      Gmd \n",
       "      20        0        5     0.77      3.6    5.232 \n",
       "                                   \n",
       "Value         0    2    3    7   12\n",
       "Frequency    12    1    1    1    5\n",
       "Proportion 0.60 0.05 0.05 0.05 0.25\n",
       "\n",
       "For the frequency table, variable is rounded to the nearest 0\n",
       "--------------------------------------------------------------------------------\n",
       "gender \n",
       "       n  missing distinct \n",
       "      20        0        2 \n",
       "                        \n",
       "Value      female   male\n",
       "Frequency      11      9\n",
       "Proportion   0.55   0.45\n",
       "--------------------------------------------------------------------------------\n",
       "age \n",
       "       n  missing distinct     Info     Mean      Gmd \n",
       "      20        0        7    0.961    32.52    9.213 \n",
       "                                             \n",
       "Value      17.5 22.0 27.0 32.0 37.0 42.0 47.0\n",
       "Frequency     1    2    4    6    3    2    2\n",
       "Proportion 0.05 0.10 0.20 0.30 0.15 0.10 0.10\n",
       "\n",
       "For the frequency table, variable is rounded to the nearest 0\n",
       "--------------------------------------------------------------------------------\n",
       "yearsmarried \n",
       "       n  missing distinct     Info     Mean      Gmd \n",
       "      20        0        7    0.905    9.521    6.524 \n",
       "                                                           \n",
       "Value       0.417  0.750  1.500  4.000  7.000 10.000 15.000\n",
       "Frequency       1      2      1      2      2      3      9\n",
       "Proportion   0.05   0.10   0.05   0.10   0.10   0.15   0.45\n",
       "\n",
       "For the frequency table, variable is rounded to the nearest 0\n",
       "--------------------------------------------------------------------------------\n",
       "children \n",
       "       n  missing distinct \n",
       "      20        0        2 \n",
       "                  \n",
       "Value       no yes\n",
       "Frequency    2  18\n",
       "Proportion 0.1 0.9\n",
       "--------------------------------------------------------------------------------\n",
       "religiousness \n",
       "       n  missing distinct     Info     Mean      Gmd \n",
       "      20        0        5    0.917     3.35    1.521 \n",
       "                                   \n",
       "Value         1    2    3    4    5\n",
       "Frequency     1    7    1    6    5\n",
       "Proportion 0.05 0.35 0.05 0.30 0.25\n",
       "\n",
       "For the frequency table, variable is rounded to the nearest 0\n",
       "--------------------------------------------------------------------------------\n",
       "education \n",
       "       n  missing distinct     Info     Mean      Gmd \n",
       "      20        0        7    0.972     15.8    3.316 \n",
       "                                             \n",
       "Value         9   12   14   16   17   18   20\n",
       "Frequency     1    3    3    3    3    5    2\n",
       "Proportion 0.05 0.15 0.15 0.15 0.15 0.25 0.10\n",
       "\n",
       "For the frequency table, variable is rounded to the nearest 0\n",
       "--------------------------------------------------------------------------------\n",
       "rating \n",
       "       n  missing distinct     Info     Mean      Gmd \n",
       "      20        0        5    0.947      3.3    1.663 \n",
       "                                   \n",
       "Value         1    2    3    4    5\n",
       "Frequency     3    4    2    6    5\n",
       "Proportion 0.15 0.20 0.10 0.30 0.25\n",
       "\n",
       "For the frequency table, variable is rounded to the nearest 0\n",
       "--------------------------------------------------------------------------------"
      ]
     },
     "metadata": {},
     "output_type": "display_data"
    }
   ],
   "source": [
    "library(Hmisc)\n",
    "describe(df)"
   ]
  },
  {
   "cell_type": "markdown",
   "id": "7016ea4c",
   "metadata": {},
   "source": [
    "Plot the variables of interest with a scatter plot matrix from package GGally.\n"
   ]
  },
  {
   "cell_type": "code",
   "execution_count": 30,
   "id": "23508b63",
   "metadata": {},
   "outputs": [
    {
     "name": "stderr",
     "output_type": "stream",
     "text": [
      "\u001b[1m\u001b[22m`stat_bin()` using `bins = 30`. Pick better value with `binwidth`.\n",
      "\u001b[1m\u001b[22m`stat_bin()` using `bins = 30`. Pick better value with `binwidth`.\n",
      "\u001b[1m\u001b[22m`stat_bin()` using `bins = 30`. Pick better value with `binwidth`.\n",
      "\u001b[1m\u001b[22m`stat_bin()` using `bins = 30`. Pick better value with `binwidth`.\n",
      "\u001b[1m\u001b[22m`stat_bin()` using `bins = 30`. Pick better value with `binwidth`.\n",
      "\u001b[1m\u001b[22m`stat_bin()` using `bins = 30`. Pick better value with `binwidth`.\n"
     ]
    },
    {
     "data": {
      "image/png": "[encoded data removed]",
      "text/plain": [
       "plot without title"
      ]
     },
     "metadata": {
      "image/png": {
       "height": 420,
       "width": 420
      }
     },
     "output_type": "display_data"
    }
   ],
   "source": [
    "library(GGally)\n",
    "library(tidyverse)\n",
    "df1 <- df %>% dplyr::select(affairs, age, education, gender, rating, religiousness, yearsmarried)\n",
    "ggpairs(df1)\n"
   ]
  },
  {
   "cell_type": "markdown",
   "id": "1aa6ac41",
   "metadata": {},
   "source": [
    "## Assumptions of Poisson regression\n",
    "\n",
    "- Dependent variable contains count data\n",
    "- One or more independent variables on a continous, ordinal or nominal scale.\n",
    "- Independence of individual observations\n",
    "- Distribution of counts follows a Poisson distribution\n",
    "- Equidispersion, mean and variance of the model are identical\n"
   ]
  },
  {
   "cell_type": "markdown",
   "id": "5f3de46d",
   "metadata": {},
   "source": [
    "TODO: Check completeness of the assumptions and add example code for the checks."
   ]
  },
  {
   "cell_type": "markdown",
   "id": "5e0a329a",
   "metadata": {},
   "source": [
    "## Coding of categorical variables\n",
    "\n",
    "- gender\n",
    "- children\n",
    "\n",
    "If using character variables, the first level of the alphabetic sort order will be regardes as reference level.\n",
    "\n",
    "For some functions the character variable has to be converted to a factor, e.g., for the contrasts() function.\n"
   ]
  },
  {
   "cell_type": "code",
   "execution_count": 31,
   "id": "3a415988",
   "metadata": {},
   "outputs": [
    {
     "data": {
      "text/plain": [
       "\n",
       "female   male \n",
       "    11      9 "
      ]
     },
     "metadata": {},
     "output_type": "display_data"
    },
    {
     "data": {
      "text/plain": [
       "\n",
       " no yes \n",
       "  2  18 "
      ]
     },
     "metadata": {},
     "output_type": "display_data"
    }
   ],
   "source": [
    "table(df$gender)\n",
    "table(df$children)"
   ]
  },
  {
   "cell_type": "code",
   "execution_count": 32,
   "id": "e628532f",
   "metadata": {},
   "outputs": [
    {
     "data": {
      "text/html": [
       "<table class=\"dataframe\">\n",
       "<caption>A matrix: 2 × 1 of type dbl</caption>\n",
       "<thead>\n",
       "\t<tr><th></th><th scope=col>male</th></tr>\n",
       "</thead>\n",
       "<tbody>\n",
       "\t<tr><th scope=row>female</th><td>0</td></tr>\n",
       "\t<tr><th scope=row>male</th><td>1</td></tr>\n",
       "</tbody>\n",
       "</table>\n"
      ],
      "text/latex": [
       "A matrix: 2 × 1 of type dbl\n",
       "\\begin{tabular}{r|l}\n",
       "  & male\\\\\n",
       "\\hline\n",
       "\tfemale & 0\\\\\n",
       "\tmale & 1\\\\\n",
       "\\end{tabular}\n"
      ],
      "text/markdown": [
       "\n",
       "A matrix: 2 × 1 of type dbl\n",
       "\n",
       "| <!--/--> | male |\n",
       "|---|---|\n",
       "| female | 0 |\n",
       "| male | 1 |\n",
       "\n"
      ],
      "text/plain": [
       "       male\n",
       "female 0   \n",
       "male   1   "
      ]
     },
     "metadata": {},
     "output_type": "display_data"
    },
    {
     "data": {
      "text/html": [
       "<table class=\"dataframe\">\n",
       "<caption>A matrix: 2 × 1 of type dbl</caption>\n",
       "<thead>\n",
       "\t<tr><th></th><th scope=col>yes</th></tr>\n",
       "</thead>\n",
       "<tbody>\n",
       "\t<tr><th scope=row>no</th><td>0</td></tr>\n",
       "\t<tr><th scope=row>yes</th><td>1</td></tr>\n",
       "</tbody>\n",
       "</table>\n"
      ],
      "text/latex": [
       "A matrix: 2 × 1 of type dbl\n",
       "\\begin{tabular}{r|l}\n",
       "  & yes\\\\\n",
       "\\hline\n",
       "\tno & 0\\\\\n",
       "\tyes & 1\\\\\n",
       "\\end{tabular}\n"
      ],
      "text/markdown": [
       "\n",
       "A matrix: 2 × 1 of type dbl\n",
       "\n",
       "| <!--/--> | yes |\n",
       "|---|---|\n",
       "| no | 0 |\n",
       "| yes | 1 |\n",
       "\n"
      ],
      "text/plain": [
       "    yes\n",
       "no  0  \n",
       "yes 1  "
      ]
     },
     "metadata": {},
     "output_type": "display_data"
    }
   ],
   "source": [
    "contrasts(as.factor(df$gender))\n",
    "contrasts(as.factor(df$children))"
   ]
  },
  {
   "cell_type": "markdown",
   "id": "07f1c935",
   "metadata": {},
   "source": [
    "Dummy coding is the default coding."
   ]
  },
  {
   "cell_type": "markdown",
   "id": "b985b434",
   "metadata": {},
   "source": [
    "## Fit the model\n"
   ]
  },
  {
   "cell_type": "code",
   "execution_count": 33,
   "id": "0ef7762f",
   "metadata": {},
   "outputs": [],
   "source": [
    "library(MASS)\n",
    "library(broom)\n",
    "my_glm <- glm(affairs ~ age + education + gender + rating + religiousness + yearsmarried,\n",
    "                     family = 'poisson', data = affairs_subset)\n"
   ]
  },
  {
   "cell_type": "markdown",
   "id": "5fcf9f00-3a07-4e34-805c-de0f95d4d76a",
   "metadata": {},
   "source": [
    "## Summary of the model"
   ]
  },
  {
   "cell_type": "code",
   "execution_count": 34,
   "id": "8dce31b4",
   "metadata": {},
   "outputs": [
    {
     "data": {
      "text/plain": [
       "\n",
       "Call:\n",
       "glm(formula = affairs ~ age + education + gender + rating + religiousness + \n",
       "    yearsmarried, family = \"poisson\", data = affairs_subset)\n",
       "\n",
       "Coefficients:\n",
       "              Estimate Std. Error z value Pr(>|z|)    \n",
       "(Intercept)   14.13138    2.28381   6.188 6.11e-10 ***\n",
       "age           -0.17494    0.05743  -3.046  0.00232 ** \n",
       "education     -0.51178    0.12333  -4.150 3.33e-05 ***\n",
       "gendermale     2.97300    0.80466   3.695  0.00022 ***\n",
       "rating        -0.81165    0.17507  -4.636 3.55e-06 ***\n",
       "religiousness -0.07533    0.17922  -0.420  0.67425    \n",
       "yearsmarried   0.11765    0.08209   1.433  0.15179    \n",
       "---\n",
       "Signif. codes:  0 '***' 0.001 '**' 0.01 '*' 0.05 '.' 0.1 ' ' 1\n",
       "\n",
       "(Dispersion parameter for poisson family taken to be 1)\n",
       "\n",
       "    Null deviance: 150.341  on 19  degrees of freedom\n",
       "Residual deviance:  41.231  on 13  degrees of freedom\n",
       "AIC: 86.327\n",
       "\n",
       "Number of Fisher Scoring iterations: 6\n"
      ]
     },
     "metadata": {},
     "output_type": "display_data"
    }
   ],
   "source": [
    "summary(my_glm)"
   ]
  },
  {
   "cell_type": "markdown",
   "id": "9ff8564f",
   "metadata": {},
   "source": [
    "## Estimates"
   ]
  },
  {
   "cell_type": "code",
   "execution_count": 35,
   "id": "58d76c14",
   "metadata": {},
   "outputs": [
    {
     "data": {
      "text/html": [
       "<table class=\"dataframe\">\n",
       "<caption>A tibble: 7 × 5</caption>\n",
       "<thead>\n",
       "\t<tr><th scope=col>term</th><th scope=col>estimate</th><th scope=col>std.error</th><th scope=col>statistic</th><th scope=col>p.value</th></tr>\n",
       "\t<tr><th scope=col>&lt;chr&gt;</th><th scope=col>&lt;dbl&gt;</th><th scope=col>&lt;dbl&gt;</th><th scope=col>&lt;dbl&gt;</th><th scope=col>&lt;dbl&gt;</th></tr>\n",
       "</thead>\n",
       "<tbody>\n",
       "\t<tr><td>(Intercept)  </td><td>14.13137756</td><td>2.28380578</td><td> 6.1876442</td><td>6.106998e-10</td></tr>\n",
       "\t<tr><td>age          </td><td>-0.17493751</td><td>0.05743164</td><td>-3.0460131</td><td>2.318977e-03</td></tr>\n",
       "\t<tr><td>education    </td><td>-0.51178177</td><td>0.12333162</td><td>-4.1496398</td><td>3.329989e-05</td></tr>\n",
       "\t<tr><td>gendermale   </td><td> 2.97300483</td><td>0.80465782</td><td> 3.6947442</td><td>2.201083e-04</td></tr>\n",
       "\t<tr><td>rating       </td><td>-0.81165480</td><td>0.17507142</td><td>-4.6361354</td><td>3.549835e-06</td></tr>\n",
       "\t<tr><td>religiousness</td><td>-0.07532957</td><td>0.17921813</td><td>-0.4203234</td><td>6.742493e-01</td></tr>\n",
       "\t<tr><td>yearsmarried </td><td> 0.11764964</td><td>0.08208607</td><td> 1.4332473</td><td>1.517872e-01</td></tr>\n",
       "</tbody>\n",
       "</table>\n"
      ],
      "text/latex": [
       "A tibble: 7 × 5\n",
       "\\begin{tabular}{lllll}\n",
       " term & estimate & std.error & statistic & p.value\\\\\n",
       " <chr> & <dbl> & <dbl> & <dbl> & <dbl>\\\\\n",
       "\\hline\n",
       "\t (Intercept)   & 14.13137756 & 2.28380578 &  6.1876442 & 6.106998e-10\\\\\n",
       "\t age           & -0.17493751 & 0.05743164 & -3.0460131 & 2.318977e-03\\\\\n",
       "\t education     & -0.51178177 & 0.12333162 & -4.1496398 & 3.329989e-05\\\\\n",
       "\t gendermale    &  2.97300483 & 0.80465782 &  3.6947442 & 2.201083e-04\\\\\n",
       "\t rating        & -0.81165480 & 0.17507142 & -4.6361354 & 3.549835e-06\\\\\n",
       "\t religiousness & -0.07532957 & 0.17921813 & -0.4203234 & 6.742493e-01\\\\\n",
       "\t yearsmarried  &  0.11764964 & 0.08208607 &  1.4332473 & 1.517872e-01\\\\\n",
       "\\end{tabular}\n"
      ],
      "text/markdown": [
       "\n",
       "A tibble: 7 × 5\n",
       "\n",
       "| term &lt;chr&gt; | estimate &lt;dbl&gt; | std.error &lt;dbl&gt; | statistic &lt;dbl&gt; | p.value &lt;dbl&gt; |\n",
       "|---|---|---|---|---|\n",
       "| (Intercept)   | 14.13137756 | 2.28380578 |  6.1876442 | 6.106998e-10 |\n",
       "| age           | -0.17493751 | 0.05743164 | -3.0460131 | 2.318977e-03 |\n",
       "| education     | -0.51178177 | 0.12333162 | -4.1496398 | 3.329989e-05 |\n",
       "| gendermale    |  2.97300483 | 0.80465782 |  3.6947442 | 2.201083e-04 |\n",
       "| rating        | -0.81165480 | 0.17507142 | -4.6361354 | 3.549835e-06 |\n",
       "| religiousness | -0.07532957 | 0.17921813 | -0.4203234 | 6.742493e-01 |\n",
       "| yearsmarried  |  0.11764964 | 0.08208607 |  1.4332473 | 1.517872e-01 |\n",
       "\n"
      ],
      "text/plain": [
       "  term          estimate    std.error  statistic  p.value     \n",
       "1 (Intercept)   14.13137756 2.28380578  6.1876442 6.106998e-10\n",
       "2 age           -0.17493751 0.05743164 -3.0460131 2.318977e-03\n",
       "3 education     -0.51178177 0.12333162 -4.1496398 3.329989e-05\n",
       "4 gendermale     2.97300483 0.80465782  3.6947442 2.201083e-04\n",
       "5 rating        -0.81165480 0.17507142 -4.6361354 3.549835e-06\n",
       "6 religiousness -0.07532957 0.17921813 -0.4203234 6.742493e-01\n",
       "7 yearsmarried   0.11764964 0.08208607  1.4332473 1.517872e-01"
      ]
     },
     "metadata": {},
     "output_type": "display_data"
    }
   ],
   "source": [
    "tidy(my_glm)"
   ]
  },
  {
   "cell_type": "markdown",
   "id": "debca4ed",
   "metadata": {},
   "source": [
    "## Model"
   ]
  },
  {
   "cell_type": "code",
   "execution_count": 36,
   "id": "c2faed04",
   "metadata": {},
   "outputs": [
    {
     "data": {
      "text/html": [
       "<table class=\"dataframe\">\n",
       "<caption>A tibble: 1 × 8</caption>\n",
       "<thead>\n",
       "\t<tr><th scope=col>null.deviance</th><th scope=col>df.null</th><th scope=col>logLik</th><th scope=col>AIC</th><th scope=col>BIC</th><th scope=col>deviance</th><th scope=col>df.residual</th><th scope=col>nobs</th></tr>\n",
       "\t<tr><th scope=col>&lt;dbl&gt;</th><th scope=col>&lt;int&gt;</th><th scope=col>&lt;dbl&gt;</th><th scope=col>&lt;dbl&gt;</th><th scope=col>&lt;dbl&gt;</th><th scope=col>&lt;dbl&gt;</th><th scope=col>&lt;int&gt;</th><th scope=col>&lt;int&gt;</th></tr>\n",
       "</thead>\n",
       "<tbody>\n",
       "\t<tr><td>150.3413</td><td>19</td><td>-36.16375</td><td>86.3275</td><td>93.29762</td><td>41.23102</td><td>13</td><td>20</td></tr>\n",
       "</tbody>\n",
       "</table>\n"
      ],
      "text/latex": [
       "A tibble: 1 × 8\n",
       "\\begin{tabular}{llllllll}\n",
       " null.deviance & df.null & logLik & AIC & BIC & deviance & df.residual & nobs\\\\\n",
       " <dbl> & <int> & <dbl> & <dbl> & <dbl> & <dbl> & <int> & <int>\\\\\n",
       "\\hline\n",
       "\t 150.3413 & 19 & -36.16375 & 86.3275 & 93.29762 & 41.23102 & 13 & 20\\\\\n",
       "\\end{tabular}\n"
      ],
      "text/markdown": [
       "\n",
       "A tibble: 1 × 8\n",
       "\n",
       "| null.deviance &lt;dbl&gt; | df.null &lt;int&gt; | logLik &lt;dbl&gt; | AIC &lt;dbl&gt; | BIC &lt;dbl&gt; | deviance &lt;dbl&gt; | df.residual &lt;int&gt; | nobs &lt;int&gt; |\n",
       "|---|---|---|---|---|---|---|---|\n",
       "| 150.3413 | 19 | -36.16375 | 86.3275 | 93.29762 | 41.23102 | 13 | 20 |\n",
       "\n"
      ],
      "text/plain": [
       "  null.deviance df.null logLik    AIC     BIC      deviance df.residual nobs\n",
       "1 150.3413      19      -36.16375 86.3275 93.29762 41.23102 13          20  "
      ]
     },
     "metadata": {},
     "output_type": "display_data"
    }
   ],
   "source": [
    "glance(my_glm)"
   ]
  },
  {
   "cell_type": "markdown",
   "id": "bcf22ad6",
   "metadata": {},
   "source": [
    "## Residuals\n"
   ]
  },
  {
   "cell_type": "code",
   "execution_count": 37,
   "id": "3f23a3fa",
   "metadata": {},
   "outputs": [
    {
     "data": {
      "text/html": [
       "<table class=\"dataframe\">\n",
       "<caption>A tibble: 6 × 13</caption>\n",
       "<thead>\n",
       "\t<tr><th scope=col>affairs</th><th scope=col>age</th><th scope=col>education</th><th scope=col>gender</th><th scope=col>rating</th><th scope=col>religiousness</th><th scope=col>yearsmarried</th><th scope=col>.fitted</th><th scope=col>.resid</th><th scope=col>.hat</th><th scope=col>.sigma</th><th scope=col>.cooksd</th><th scope=col>.std.resid</th></tr>\n",
       "\t<tr><th scope=col>&lt;dbl&gt;</th><th scope=col>&lt;dbl&gt;</th><th scope=col>&lt;dbl&gt;</th><th scope=col>&lt;chr&gt;</th><th scope=col>&lt;dbl&gt;</th><th scope=col>&lt;dbl&gt;</th><th scope=col>&lt;dbl&gt;</th><th scope=col>&lt;dbl&gt;</th><th scope=col>&lt;dbl&gt;</th><th scope=col>&lt;dbl&gt;</th><th scope=col>&lt;dbl&gt;</th><th scope=col>&lt;dbl&gt;</th><th scope=col>&lt;dbl&gt;</th></tr>\n",
       "</thead>\n",
       "<tbody>\n",
       "\t<tr><td>12</td><td>42</td><td> 9</td><td>female</td><td>1</td><td>5</td><td>15</td><td> 2.7544080</td><td>-0.9774667</td><td>0.89313444</td><td>1.640387</td><td>9.7965566967</td><td>-2.9900821</td></tr>\n",
       "\t<tr><td> 0</td><td>32</td><td>14</td><td>female</td><td>4</td><td>2</td><td>15</td><td>-0.2641014</td><td>-1.2392705</td><td>0.35754882</td><td>1.799085</td><td>0.0950296746</td><td>-1.5461301</td></tr>\n",
       "\t<tr><td> 0</td><td>32</td><td>20</td><td>male  </td><td>5</td><td>3</td><td>10</td><td>-1.8370198</td><td>-0.5644315</td><td>0.06041688</td><td>1.845986</td><td>0.0015573357</td><td>-0.5822957</td></tr>\n",
       "\t<tr><td> 0</td><td>32</td><td>18</td><td>female</td><td>4</td><td>4</td><td>15</td><td>-2.4618877</td><td>-0.4129742</td><td>0.06684414</td><td>1.849510</td><td>0.0009351316</td><td>-0.4275095</td></tr>\n",
       "\t<tr><td>12</td><td>37</td><td>17</td><td>male  </td><td>2</td><td>5</td><td>15</td><td> 1.6961914</td><td> 2.4156663</td><td>0.52456403</td><td>1.553414</td><td>2.6057698931</td><td> 3.5034097</td></tr>\n",
       "\t<tr><td>12</td><td>42</td><td>12</td><td>female</td><td>1</td><td>4</td><td>15</td><td> 1.2943922</td><td> 3.4452723</td><td>0.39044262</td><td>1.346540</td><td>2.8693442345</td><td> 4.4128204</td></tr>\n",
       "</tbody>\n",
       "</table>\n"
      ],
      "text/latex": [
       "A tibble: 6 × 13\n",
       "\\begin{tabular}{lllllllllllll}\n",
       " affairs & age & education & gender & rating & religiousness & yearsmarried & .fitted & .resid & .hat & .sigma & .cooksd & .std.resid\\\\\n",
       " <dbl> & <dbl> & <dbl> & <chr> & <dbl> & <dbl> & <dbl> & <dbl> & <dbl> & <dbl> & <dbl> & <dbl> & <dbl>\\\\\n",
       "\\hline\n",
       "\t 12 & 42 &  9 & female & 1 & 5 & 15 &  2.7544080 & -0.9774667 & 0.89313444 & 1.640387 & 9.7965566967 & -2.9900821\\\\\n",
       "\t  0 & 32 & 14 & female & 4 & 2 & 15 & -0.2641014 & -1.2392705 & 0.35754882 & 1.799085 & 0.0950296746 & -1.5461301\\\\\n",
       "\t  0 & 32 & 20 & male   & 5 & 3 & 10 & -1.8370198 & -0.5644315 & 0.06041688 & 1.845986 & 0.0015573357 & -0.5822957\\\\\n",
       "\t  0 & 32 & 18 & female & 4 & 4 & 15 & -2.4618877 & -0.4129742 & 0.06684414 & 1.849510 & 0.0009351316 & -0.4275095\\\\\n",
       "\t 12 & 37 & 17 & male   & 2 & 5 & 15 &  1.6961914 &  2.4156663 & 0.52456403 & 1.553414 & 2.6057698931 &  3.5034097\\\\\n",
       "\t 12 & 42 & 12 & female & 1 & 4 & 15 &  1.2943922 &  3.4452723 & 0.39044262 & 1.346540 & 2.8693442345 &  4.4128204\\\\\n",
       "\\end{tabular}\n"
      ],
      "text/markdown": [
       "\n",
       "A tibble: 6 × 13\n",
       "\n",
       "| affairs &lt;dbl&gt; | age &lt;dbl&gt; | education &lt;dbl&gt; | gender &lt;chr&gt; | rating &lt;dbl&gt; | religiousness &lt;dbl&gt; | yearsmarried &lt;dbl&gt; | .fitted &lt;dbl&gt; | .resid &lt;dbl&gt; | .hat &lt;dbl&gt; | .sigma &lt;dbl&gt; | .cooksd &lt;dbl&gt; | .std.resid &lt;dbl&gt; |\n",
       "|---|---|---|---|---|---|---|---|---|---|---|---|---|\n",
       "| 12 | 42 |  9 | female | 1 | 5 | 15 |  2.7544080 | -0.9774667 | 0.89313444 | 1.640387 | 9.7965566967 | -2.9900821 |\n",
       "|  0 | 32 | 14 | female | 4 | 2 | 15 | -0.2641014 | -1.2392705 | 0.35754882 | 1.799085 | 0.0950296746 | -1.5461301 |\n",
       "|  0 | 32 | 20 | male   | 5 | 3 | 10 | -1.8370198 | -0.5644315 | 0.06041688 | 1.845986 | 0.0015573357 | -0.5822957 |\n",
       "|  0 | 32 | 18 | female | 4 | 4 | 15 | -2.4618877 | -0.4129742 | 0.06684414 | 1.849510 | 0.0009351316 | -0.4275095 |\n",
       "| 12 | 37 | 17 | male   | 2 | 5 | 15 |  1.6961914 |  2.4156663 | 0.52456403 | 1.553414 | 2.6057698931 |  3.5034097 |\n",
       "| 12 | 42 | 12 | female | 1 | 4 | 15 |  1.2943922 |  3.4452723 | 0.39044262 | 1.346540 | 2.8693442345 |  4.4128204 |\n",
       "\n"
      ],
      "text/plain": [
       "  affairs age education gender rating religiousness yearsmarried .fitted   \n",
       "1 12      42   9        female 1      5             15            2.7544080\n",
       "2  0      32  14        female 4      2             15           -0.2641014\n",
       "3  0      32  20        male   5      3             10           -1.8370198\n",
       "4  0      32  18        female 4      4             15           -2.4618877\n",
       "5 12      37  17        male   2      5             15            1.6961914\n",
       "6 12      42  12        female 1      4             15            1.2943922\n",
       "  .resid     .hat       .sigma   .cooksd      .std.resid\n",
       "1 -0.9774667 0.89313444 1.640387 9.7965566967 -2.9900821\n",
       "2 -1.2392705 0.35754882 1.799085 0.0950296746 -1.5461301\n",
       "3 -0.5644315 0.06041688 1.845986 0.0015573357 -0.5822957\n",
       "4 -0.4129742 0.06684414 1.849510 0.0009351316 -0.4275095\n",
       "5  2.4156663 0.52456403 1.553414 2.6057698931  3.5034097\n",
       "6  3.4452723 0.39044262 1.346540 2.8693442345  4.4128204"
      ]
     },
     "metadata": {},
     "output_type": "display_data"
    }
   ],
   "source": [
    "augment(my_glm) %>% head()"
   ]
  },
  {
   "cell_type": "markdown",
   "id": "8513fbf1",
   "metadata": {},
   "source": [
    "Only the first rows are displayed."
   ]
  }
 ],
 "metadata": {
  "kernelspec": {
   "display_name": "R 4.3.2",
   "language": "R",
   "name": "ir432"
  },
  "language_info": {
   "codemirror_mode": "r",
   "file_extension": ".r",
   "mimetype": "text/x-r-source",
   "name": "R",
   "pygments_lexer": "r",
   "version": "4.3.2"
  }
 },
 "nbformat": 4,
 "nbformat_minor": 5
}
