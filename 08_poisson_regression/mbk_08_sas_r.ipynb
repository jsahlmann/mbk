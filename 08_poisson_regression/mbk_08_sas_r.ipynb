{
 "cells": [
  {
   "cell_type": "markdown",
   "id": "df8091c6-2036-476c-b540-77db13c8369e",
   "metadata": {},
   "source": [
    "# 08 - Poisson regression"
   ]
  },
  {
   "cell_type": "markdown",
   "id": "8cf7dd5a-4d82-471f-8a41-39e05dbdde32",
   "metadata": {},
   "source": [
    "## Data"
   ]
  },
  {
   "cell_type": "markdown",
   "id": "f4874aaa-1498-44be-8371-053af86b4735",
   "metadata": {},
   "source": [
    "Source of data: R-Package \"AER\", data Affairs\n",
    "\n",
    "Data was filtered with 20 rows remaining.\n",
    "\n",
    "Dataset affairs_subsetxx.csv"
   ]
  },
  {
   "cell_type": "code",
   "execution_count": 2,
   "id": "09e0948e-f67e-4798-8b78-888edfcf8a78",
   "metadata": {},
   "outputs": [
    {
     "data": {
      "text/html": [
       "<table class=\"dataframe\">\n",
       "<caption>A tibble: 6 × 8</caption>\n",
       "<thead>\n",
       "\t<tr><th scope=col>affairs</th><th scope=col>gender</th><th scope=col>age</th><th scope=col>yearsmarried</th><th scope=col>children</th><th scope=col>religiousness</th><th scope=col>education</th><th scope=col>rating</th></tr>\n",
       "\t<tr><th scope=col>&lt;dbl&gt;</th><th scope=col>&lt;chr&gt;</th><th scope=col>&lt;dbl&gt;</th><th scope=col>&lt;dbl&gt;</th><th scope=col>&lt;chr&gt;</th><th scope=col>&lt;dbl&gt;</th><th scope=col>&lt;dbl&gt;</th><th scope=col>&lt;dbl&gt;</th></tr>\n",
       "</thead>\n",
       "<tbody>\n",
       "\t<tr><td>12</td><td>female</td><td>42</td><td>15</td><td>yes</td><td>5</td><td> 9</td><td>1</td></tr>\n",
       "\t<tr><td> 0</td><td>female</td><td>32</td><td>15</td><td>yes</td><td>2</td><td>14</td><td>4</td></tr>\n",
       "\t<tr><td> 0</td><td>male  </td><td>32</td><td>10</td><td>yes</td><td>3</td><td>20</td><td>5</td></tr>\n",
       "\t<tr><td> 0</td><td>female</td><td>32</td><td>15</td><td>yes</td><td>4</td><td>18</td><td>4</td></tr>\n",
       "\t<tr><td>12</td><td>male  </td><td>37</td><td>15</td><td>yes</td><td>5</td><td>17</td><td>2</td></tr>\n",
       "\t<tr><td>12</td><td>female</td><td>42</td><td>15</td><td>yes</td><td>4</td><td>12</td><td>1</td></tr>\n",
       "</tbody>\n",
       "</table>\n"
      ],
      "text/latex": [
       "A tibble: 6 × 8\n",
       "\\begin{tabular}{llllllll}\n",
       " affairs & gender & age & yearsmarried & children & religiousness & education & rating\\\\\n",
       " <dbl> & <chr> & <dbl> & <dbl> & <chr> & <dbl> & <dbl> & <dbl>\\\\\n",
       "\\hline\n",
       "\t 12 & female & 42 & 15 & yes & 5 &  9 & 1\\\\\n",
       "\t  0 & female & 32 & 15 & yes & 2 & 14 & 4\\\\\n",
       "\t  0 & male   & 32 & 10 & yes & 3 & 20 & 5\\\\\n",
       "\t  0 & female & 32 & 15 & yes & 4 & 18 & 4\\\\\n",
       "\t 12 & male   & 37 & 15 & yes & 5 & 17 & 2\\\\\n",
       "\t 12 & female & 42 & 15 & yes & 4 & 12 & 1\\\\\n",
       "\\end{tabular}\n"
      ],
      "text/markdown": [
       "\n",
       "A tibble: 6 × 8\n",
       "\n",
       "| affairs &lt;dbl&gt; | gender &lt;chr&gt; | age &lt;dbl&gt; | yearsmarried &lt;dbl&gt; | children &lt;chr&gt; | religiousness &lt;dbl&gt; | education &lt;dbl&gt; | rating &lt;dbl&gt; |\n",
       "|---|---|---|---|---|---|---|---|\n",
       "| 12 | female | 42 | 15 | yes | 5 |  9 | 1 |\n",
       "|  0 | female | 32 | 15 | yes | 2 | 14 | 4 |\n",
       "|  0 | male   | 32 | 10 | yes | 3 | 20 | 5 |\n",
       "|  0 | female | 32 | 15 | yes | 4 | 18 | 4 |\n",
       "| 12 | male   | 37 | 15 | yes | 5 | 17 | 2 |\n",
       "| 12 | female | 42 | 15 | yes | 4 | 12 | 1 |\n",
       "\n"
      ],
      "text/plain": [
       "  affairs gender age yearsmarried children religiousness education rating\n",
       "1 12      female 42  15           yes      5              9        1     \n",
       "2  0      female 32  15           yes      2             14        4     \n",
       "3  0      male   32  10           yes      3             20        5     \n",
       "4  0      female 32  15           yes      4             18        4     \n",
       "5 12      male   37  15           yes      5             17        2     \n",
       "6 12      female 42  15           yes      4             12        1     "
      ]
     },
     "metadata": {},
     "output_type": "display_data"
    }
   ],
   "source": [
    "library(readr)\n",
    "affairs_subset <- read_csv(\"data/affairs_subset.csv\",\n",
    "                 show_col_types = FALSE)\n",
    "head(affairs_subset)\n"
   ]
  },
  {
   "cell_type": "markdown",
   "id": "5e3e5853-4e74-43f7-b9fb-f9a42816fcad",
   "metadata": {},
   "source": [
    "## SAS program snippet"
   ]
  },
  {
   "cell_type": "markdown",
   "id": "72a25d47-c22e-4226-89b2-8e8625f61f8c",
   "metadata": {},
   "source": [
    "The following SAS code will be executed."
   ]
  },
  {
   "cell_type": "raw",
   "id": "b171d2d0-81ef-41e8-8987-5c68601be412",
   "metadata": {},
   "source": [
    "proc genmod data = affairs_subset;\n",
    "  class children(ref = 'no') gender(ref = 'female') / param=glm;\n",
    "  model affairs=age education gender rating religiousness yearsmarried / type3 dist=poisson;\n",
    "run;\n"
   ]
  },
  {
   "cell_type": "markdown",
   "id": "5fcf9f00-3a07-4e34-805c-de0f95d4d76a",
   "metadata": {},
   "source": [
    "## Results"
   ]
  },
  {
   "cell_type": "markdown",
   "id": "3d365e27-c7c5-4936-90db-8392fae3a124",
   "metadata": {},
   "source": [
    "The output is divided into blocks to explain it and to reproduce it afterwards in the different languages."
   ]
  },
  {
   "cell_type": "markdown",
   "id": "40ce206b-826d-42c6-bc39-c588864d99b7",
   "metadata": {},
   "source": [
    "### Block 1\n",
    "![Block 1](img_screenshots/block_1.png)"
   ]
  },
  {
   "cell_type": "markdown",
   "id": "25f6b2c1-36bf-4ad3-ae6a-05a4821dbbc4",
   "metadata": {},
   "source": [
    "This block lists the dataset, the distribution, which PROC GENMOD used, the link function and the dependent variable."
   ]
  },
  {
   "cell_type": "markdown",
   "id": "3b4500fc-5835-4e7a-b2c9-071186cd4115",
   "metadata": {},
   "source": [
    "### R chunk for reproduction"
   ]
  },
  {
   "cell_type": "code",
   "execution_count": 5,
   "id": "18b9b52b-4cff-4c47-aa73-b62e45f79c44",
   "metadata": {},
   "outputs": [
    {
     "data": {
      "text/html": [
       "<table class=\"dataframe\">\n",
       "<caption>A tibble: 1 × 8</caption>\n",
       "<thead>\n",
       "\t<tr><th scope=col>null.deviance</th><th scope=col>df.null</th><th scope=col>logLik</th><th scope=col>AIC</th><th scope=col>BIC</th><th scope=col>deviance</th><th scope=col>df.residual</th><th scope=col>nobs</th></tr>\n",
       "\t<tr><th scope=col>&lt;dbl&gt;</th><th scope=col>&lt;int&gt;</th><th scope=col>&lt;dbl&gt;</th><th scope=col>&lt;dbl&gt;</th><th scope=col>&lt;dbl&gt;</th><th scope=col>&lt;dbl&gt;</th><th scope=col>&lt;int&gt;</th><th scope=col>&lt;int&gt;</th></tr>\n",
       "</thead>\n",
       "<tbody>\n",
       "\t<tr><td>150.3413</td><td>19</td><td>-36.16375</td><td>86.3275</td><td>93.29762</td><td>41.23102</td><td>13</td><td>20</td></tr>\n",
       "</tbody>\n",
       "</table>\n"
      ],
      "text/latex": [
       "A tibble: 1 × 8\n",
       "\\begin{tabular}{llllllll}\n",
       " null.deviance & df.null & logLik & AIC & BIC & deviance & df.residual & nobs\\\\\n",
       " <dbl> & <int> & <dbl> & <dbl> & <dbl> & <dbl> & <int> & <int>\\\\\n",
       "\\hline\n",
       "\t 150.3413 & 19 & -36.16375 & 86.3275 & 93.29762 & 41.23102 & 13 & 20\\\\\n",
       "\\end{tabular}\n"
      ],
      "text/markdown": [
       "\n",
       "A tibble: 1 × 8\n",
       "\n",
       "| null.deviance &lt;dbl&gt; | df.null &lt;int&gt; | logLik &lt;dbl&gt; | AIC &lt;dbl&gt; | BIC &lt;dbl&gt; | deviance &lt;dbl&gt; | df.residual &lt;int&gt; | nobs &lt;int&gt; |\n",
       "|---|---|---|---|---|---|---|---|\n",
       "| 150.3413 | 19 | -36.16375 | 86.3275 | 93.29762 | 41.23102 | 13 | 20 |\n",
       "\n"
      ],
      "text/plain": [
       "  null.deviance df.null logLik    AIC     BIC      deviance df.residual nobs\n",
       "1 150.3413      19      -36.16375 86.3275 93.29762 41.23102 13          20  "
      ]
     },
     "metadata": {},
     "output_type": "display_data"
    }
   ],
   "source": [
    "library(broom)\n",
    "my_glm <- glm(affairs ~ age + education + gender + rating + religiousness + yearsmarried,\n",
    "                     family = 'poisson', data = affairs_subset)\n",
    "glance(my_glm)"
   ]
  },
  {
   "cell_type": "markdown",
   "id": "93d33998-1faf-4c9f-bed3-a916d953ba84",
   "metadata": {},
   "source": [
    "The number of used observations can be gained from the glance() function.\n",
    "\n",
    "The distribution is part of the function call.\n",
    "\n",
    "The number of observations in the dataset can be retrieved from the nrow() function."
   ]
  },
  {
   "cell_type": "code",
   "execution_count": 7,
   "id": "3b9e3838-5da8-4fde-a977-48350b36324b",
   "metadata": {},
   "outputs": [
    {
     "data": {
      "text/html": [
       "20"
      ],
      "text/latex": [
       "20"
      ],
      "text/markdown": [
       "20"
      ],
      "text/plain": [
       "[1] 20"
      ]
     },
     "metadata": {},
     "output_type": "display_data"
    },
    {
     "data": {
      "text/plain": [
       "\n",
       "Call:  glm(formula = affairs ~ age + education + gender + rating + religiousness + \n",
       "    yearsmarried, family = \"poisson\", data = affairs_subset)\n",
       "\n",
       "Coefficients:\n",
       "  (Intercept)            age      education     gendermale         rating  \n",
       "     14.13138       -0.17494       -0.51178        2.97300       -0.81165  \n",
       "religiousness   yearsmarried  \n",
       "     -0.07533        0.11765  \n",
       "\n",
       "Degrees of Freedom: 19 Total (i.e. Null);  13 Residual\n",
       "Null Deviance:\t    150.3 \n",
       "Residual Deviance: 41.23 \tAIC: 86.33"
      ]
     },
     "metadata": {},
     "output_type": "display_data"
    }
   ],
   "source": [
    "nrow(affairs_subset)\n",
    "\n",
    "my_glm"
   ]
  },
  {
   "cell_type": "markdown",
   "id": "09f48c70-5dd6-4e6a-984e-6ed29408f555",
   "metadata": {},
   "source": [
    "### Block 2\n",
    "![Block 2](img_screenshots/block_2.png)"
   ]
  },
  {
   "cell_type": "markdown",
   "id": "dbf8fe3a-e756-4905-8770-3ada6d78d3c6",
   "metadata": {},
   "source": [
    "This block gives the number of observations in the dataset and the numbers of observations which were used to fit the model."
   ]
  },
  {
   "cell_type": "markdown",
   "id": "1572d4a9-c271-4827-9740-a0b552591587",
   "metadata": {},
   "source": [
    "### R chunk for reproduction"
   ]
  },
  {
   "cell_type": "code",
   "execution_count": 8,
   "id": "3feb1aa8-a169-4f30-a37f-5537da5a4cc0",
   "metadata": {},
   "outputs": [
    {
     "data": {
      "text/html": [
       "<table class=\"dataframe\">\n",
       "<caption>A tibble: 1 × 8</caption>\n",
       "<thead>\n",
       "\t<tr><th scope=col>null.deviance</th><th scope=col>df.null</th><th scope=col>logLik</th><th scope=col>AIC</th><th scope=col>BIC</th><th scope=col>deviance</th><th scope=col>df.residual</th><th scope=col>nobs</th></tr>\n",
       "\t<tr><th scope=col>&lt;dbl&gt;</th><th scope=col>&lt;int&gt;</th><th scope=col>&lt;dbl&gt;</th><th scope=col>&lt;dbl&gt;</th><th scope=col>&lt;dbl&gt;</th><th scope=col>&lt;dbl&gt;</th><th scope=col>&lt;int&gt;</th><th scope=col>&lt;int&gt;</th></tr>\n",
       "</thead>\n",
       "<tbody>\n",
       "\t<tr><td>150.3413</td><td>19</td><td>-36.16375</td><td>86.3275</td><td>93.29762</td><td>41.23102</td><td>13</td><td>20</td></tr>\n",
       "</tbody>\n",
       "</table>\n"
      ],
      "text/latex": [
       "A tibble: 1 × 8\n",
       "\\begin{tabular}{llllllll}\n",
       " null.deviance & df.null & logLik & AIC & BIC & deviance & df.residual & nobs\\\\\n",
       " <dbl> & <int> & <dbl> & <dbl> & <dbl> & <dbl> & <int> & <int>\\\\\n",
       "\\hline\n",
       "\t 150.3413 & 19 & -36.16375 & 86.3275 & 93.29762 & 41.23102 & 13 & 20\\\\\n",
       "\\end{tabular}\n"
      ],
      "text/markdown": [
       "\n",
       "A tibble: 1 × 8\n",
       "\n",
       "| null.deviance &lt;dbl&gt; | df.null &lt;int&gt; | logLik &lt;dbl&gt; | AIC &lt;dbl&gt; | BIC &lt;dbl&gt; | deviance &lt;dbl&gt; | df.residual &lt;int&gt; | nobs &lt;int&gt; |\n",
       "|---|---|---|---|---|---|---|---|\n",
       "| 150.3413 | 19 | -36.16375 | 86.3275 | 93.29762 | 41.23102 | 13 | 20 |\n",
       "\n"
      ],
      "text/plain": [
       "  null.deviance df.null logLik    AIC     BIC      deviance df.residual nobs\n",
       "1 150.3413      19      -36.16375 86.3275 93.29762 41.23102 13          20  "
      ]
     },
     "metadata": {},
     "output_type": "display_data"
    },
    {
     "data": {
      "text/html": [
       "20"
      ],
      "text/latex": [
       "20"
      ],
      "text/markdown": [
       "20"
      ],
      "text/plain": [
       "[1] 20"
      ]
     },
     "metadata": {},
     "output_type": "display_data"
    }
   ],
   "source": [
    "glance(my_glm)\n",
    "nrow(affairs_subset)\n"
   ]
  },
  {
   "cell_type": "markdown",
   "id": "a6bbd8e1-5c63-4c6b-8672-e40052553fd4",
   "metadata": {},
   "source": [
    "The number of used observations can be gained from the glance() function.\n",
    "\n",
    "The number of observations in the dataset can be retrieved from the nrow() function."
   ]
  },
  {
   "cell_type": "markdown",
   "id": "c600c9a5-619f-4495-80e6-85c89a18877d",
   "metadata": {},
   "source": [
    "### Block 3\n",
    "![Block 3](img_screenshots/block_3.png)"
   ]
  },
  {
   "cell_type": "markdown",
   "id": "1eaddd1d-deda-4bde-802e-8f49df22a24f",
   "metadata": {},
   "source": [
    "For the class variables the levels are given."
   ]
  },
  {
   "cell_type": "markdown",
   "id": "d0084f14-0c31-430e-ae40-1ae765b746df",
   "metadata": {},
   "source": [
    "### R chunk for reproduction"
   ]
  },
  {
   "cell_type": "code",
   "execution_count": 9,
   "id": "c0abd9e5-2413-46da-8915-f7a09a024ed4",
   "metadata": {},
   "outputs": [
    {
     "data": {
      "text/plain": [
       "\n",
       " no yes \n",
       "  2  18 "
      ]
     },
     "metadata": {},
     "output_type": "display_data"
    },
    {
     "data": {
      "text/plain": [
       "\n",
       "female   male \n",
       "    11      9 "
      ]
     },
     "metadata": {},
     "output_type": "display_data"
    }
   ],
   "source": [
    "table(affairs_subset$children)\n",
    "\n",
    "table(affairs_subset$gender)"
   ]
  },
  {
   "cell_type": "code",
   "execution_count": 9,
   "id": "1bd35883-1beb-4c2d-991e-94e600fd4db3",
   "metadata": {},
   "outputs": [
    {
     "data": {
      "text/html": [
       "<table class=\"dataframe\">\n",
       "<caption>A tibble: 1 × 8</caption>\n",
       "<thead>\n",
       "\t<tr><th scope=col>null.deviance</th><th scope=col>df.null</th><th scope=col>logLik</th><th scope=col>AIC</th><th scope=col>BIC</th><th scope=col>deviance</th><th scope=col>df.residual</th><th scope=col>nobs</th></tr>\n",
       "\t<tr><th scope=col>&lt;dbl&gt;</th><th scope=col>&lt;int&gt;</th><th scope=col>&lt;dbl&gt;</th><th scope=col>&lt;dbl&gt;</th><th scope=col>&lt;dbl&gt;</th><th scope=col>&lt;dbl&gt;</th><th scope=col>&lt;int&gt;</th><th scope=col>&lt;int&gt;</th></tr>\n",
       "</thead>\n",
       "<tbody>\n",
       "\t<tr><td>150.3413</td><td>19</td><td>-36.16375</td><td>86.3275</td><td>93.29762</td><td>41.23102</td><td>13</td><td>20</td></tr>\n",
       "</tbody>\n",
       "</table>\n"
      ],
      "text/latex": [
       "A tibble: 1 × 8\n",
       "\\begin{tabular}{llllllll}\n",
       " null.deviance & df.null & logLik & AIC & BIC & deviance & df.residual & nobs\\\\\n",
       " <dbl> & <int> & <dbl> & <dbl> & <dbl> & <dbl> & <int> & <int>\\\\\n",
       "\\hline\n",
       "\t 150.3413 & 19 & -36.16375 & 86.3275 & 93.29762 & 41.23102 & 13 & 20\\\\\n",
       "\\end{tabular}\n"
      ],
      "text/markdown": [
       "\n",
       "A tibble: 1 × 8\n",
       "\n",
       "| null.deviance &lt;dbl&gt; | df.null &lt;int&gt; | logLik &lt;dbl&gt; | AIC &lt;dbl&gt; | BIC &lt;dbl&gt; | deviance &lt;dbl&gt; | df.residual &lt;int&gt; | nobs &lt;int&gt; |\n",
       "|---|---|---|---|---|---|---|---|\n",
       "| 150.3413 | 19 | -36.16375 | 86.3275 | 93.29762 | 41.23102 | 13 | 20 |\n",
       "\n"
      ],
      "text/plain": [
       "  null.deviance df.null logLik    AIC     BIC      deviance df.residual nobs\n",
       "1 150.3413      19      -36.16375 86.3275 93.29762 41.23102 13          20  "
      ]
     },
     "metadata": {},
     "output_type": "display_data"
    }
   ],
   "source": []
  },
  {
   "cell_type": "markdown",
   "id": "e76ff54b-9339-4c00-bb4e-c5deea17de63",
   "metadata": {},
   "source": [
    "### Block 4\n",
    "![Block 4](img_screenshots/block_4.png)"
   ]
  },
  {
   "cell_type": "markdown",
   "id": "8353593b-9a67-43cb-8cf7-e14169294f51",
   "metadata": {},
   "source": [
    "A lot of criteria for assessing the goodness of fit are given.\n"
   ]
  },
  {
   "cell_type": "markdown",
   "id": "b5bcbf42-22f1-46ab-bc06-3187e200cb2e",
   "metadata": {},
   "source": [
    "### R chunk for reproduction"
   ]
  },
  {
   "cell_type": "code",
   "execution_count": 11,
   "id": "3fbd36cd-206c-4879-bea2-dec8c6936cd9",
   "metadata": {},
   "outputs": [
    {
     "data": {
      "text/html": [
       "<table class=\"dataframe\">\n",
       "<caption>A tibble: 1 × 8</caption>\n",
       "<thead>\n",
       "\t<tr><th scope=col>null.deviance</th><th scope=col>df.null</th><th scope=col>logLik</th><th scope=col>AIC</th><th scope=col>BIC</th><th scope=col>deviance</th><th scope=col>df.residual</th><th scope=col>nobs</th></tr>\n",
       "\t<tr><th scope=col>&lt;dbl&gt;</th><th scope=col>&lt;int&gt;</th><th scope=col>&lt;dbl&gt;</th><th scope=col>&lt;dbl&gt;</th><th scope=col>&lt;dbl&gt;</th><th scope=col>&lt;dbl&gt;</th><th scope=col>&lt;int&gt;</th><th scope=col>&lt;int&gt;</th></tr>\n",
       "</thead>\n",
       "<tbody>\n",
       "\t<tr><td>150.3413</td><td>19</td><td>-36.16375</td><td>86.3275</td><td>93.29762</td><td>41.23102</td><td>13</td><td>20</td></tr>\n",
       "</tbody>\n",
       "</table>\n"
      ],
      "text/latex": [
       "A tibble: 1 × 8\n",
       "\\begin{tabular}{llllllll}\n",
       " null.deviance & df.null & logLik & AIC & BIC & deviance & df.residual & nobs\\\\\n",
       " <dbl> & <int> & <dbl> & <dbl> & <dbl> & <dbl> & <int> & <int>\\\\\n",
       "\\hline\n",
       "\t 150.3413 & 19 & -36.16375 & 86.3275 & 93.29762 & 41.23102 & 13 & 20\\\\\n",
       "\\end{tabular}\n"
      ],
      "text/markdown": [
       "\n",
       "A tibble: 1 × 8\n",
       "\n",
       "| null.deviance &lt;dbl&gt; | df.null &lt;int&gt; | logLik &lt;dbl&gt; | AIC &lt;dbl&gt; | BIC &lt;dbl&gt; | deviance &lt;dbl&gt; | df.residual &lt;int&gt; | nobs &lt;int&gt; |\n",
       "|---|---|---|---|---|---|---|---|\n",
       "| 150.3413 | 19 | -36.16375 | 86.3275 | 93.29762 | 41.23102 | 13 | 20 |\n",
       "\n"
      ],
      "text/plain": [
       "  null.deviance df.null logLik    AIC     BIC      deviance df.residual nobs\n",
       "1 150.3413      19      -36.16375 86.3275 93.29762 41.23102 13          20  "
      ]
     },
     "metadata": {},
     "output_type": "display_data"
    }
   ],
   "source": [
    "glance(my_glm)"
   ]
  },
  {
   "cell_type": "markdown",
   "id": "293bdddd-3fb0-4352-be48-36b01ca9f199",
   "metadata": {},
   "source": [
    "Nearly all of the criteria can be provided by the glance() function.\n",
    "\n",
    "Log Likelihood is calculated differently or has a different term (TODO)\n",
    "\n",
    "Missing criteria\n",
    "\n",
    "- Scaled daviance\n",
    "- Pearson Chi-Square\n",
    "- Scaled Pearson Chi-Square\n",
    "- Full Log likelihood or log likelihood"
   ]
  },
  {
   "cell_type": "markdown",
   "id": "8743a8b2-74c2-4ef6-b1ba-8446feafb902",
   "metadata": {},
   "source": [
    "### Block 5\n",
    "![Block 5](img_screenshots/block_5.png)"
   ]
  },
  {
   "cell_type": "markdown",
   "id": "9aa7a6ed-75a2-404e-b7ef-b3165b479740",
   "metadata": {},
   "source": [
    "This block provides parameter estimates with standard error, confidence interval, test statistic and probability."
   ]
  },
  {
   "cell_type": "markdown",
   "id": "eb3952ad-7be4-49d5-aa23-a5d2830e081e",
   "metadata": {},
   "source": [
    "### R chunk for reproduction"
   ]
  },
  {
   "cell_type": "code",
   "execution_count": 10,
   "id": "504b0589-2361-4796-b162-e0105a8991a2",
   "metadata": {},
   "outputs": [
    {
     "data": {
      "text/html": [
       "<table class=\"dataframe\">\n",
       "<caption>A tibble: 7 × 5</caption>\n",
       "<thead>\n",
       "\t<tr><th scope=col>term</th><th scope=col>estimate</th><th scope=col>std.error</th><th scope=col>statistic</th><th scope=col>p.value</th></tr>\n",
       "\t<tr><th scope=col>&lt;chr&gt;</th><th scope=col>&lt;dbl&gt;</th><th scope=col>&lt;dbl&gt;</th><th scope=col>&lt;dbl&gt;</th><th scope=col>&lt;dbl&gt;</th></tr>\n",
       "</thead>\n",
       "<tbody>\n",
       "\t<tr><td>(Intercept)  </td><td>14.13137756</td><td>2.28380578</td><td> 6.1876442</td><td>6.106998e-10</td></tr>\n",
       "\t<tr><td>age          </td><td>-0.17493751</td><td>0.05743164</td><td>-3.0460131</td><td>2.318977e-03</td></tr>\n",
       "\t<tr><td>education    </td><td>-0.51178177</td><td>0.12333162</td><td>-4.1496398</td><td>3.329989e-05</td></tr>\n",
       "\t<tr><td>gendermale   </td><td> 2.97300483</td><td>0.80465782</td><td> 3.6947442</td><td>2.201083e-04</td></tr>\n",
       "\t<tr><td>rating       </td><td>-0.81165480</td><td>0.17507142</td><td>-4.6361354</td><td>3.549835e-06</td></tr>\n",
       "\t<tr><td>religiousness</td><td>-0.07532957</td><td>0.17921813</td><td>-0.4203234</td><td>6.742493e-01</td></tr>\n",
       "\t<tr><td>yearsmarried </td><td> 0.11764964</td><td>0.08208607</td><td> 1.4332473</td><td>1.517872e-01</td></tr>\n",
       "</tbody>\n",
       "</table>\n"
      ],
      "text/latex": [
       "A tibble: 7 × 5\n",
       "\\begin{tabular}{lllll}\n",
       " term & estimate & std.error & statistic & p.value\\\\\n",
       " <chr> & <dbl> & <dbl> & <dbl> & <dbl>\\\\\n",
       "\\hline\n",
       "\t (Intercept)   & 14.13137756 & 2.28380578 &  6.1876442 & 6.106998e-10\\\\\n",
       "\t age           & -0.17493751 & 0.05743164 & -3.0460131 & 2.318977e-03\\\\\n",
       "\t education     & -0.51178177 & 0.12333162 & -4.1496398 & 3.329989e-05\\\\\n",
       "\t gendermale    &  2.97300483 & 0.80465782 &  3.6947442 & 2.201083e-04\\\\\n",
       "\t rating        & -0.81165480 & 0.17507142 & -4.6361354 & 3.549835e-06\\\\\n",
       "\t religiousness & -0.07532957 & 0.17921813 & -0.4203234 & 6.742493e-01\\\\\n",
       "\t yearsmarried  &  0.11764964 & 0.08208607 &  1.4332473 & 1.517872e-01\\\\\n",
       "\\end{tabular}\n"
      ],
      "text/markdown": [
       "\n",
       "A tibble: 7 × 5\n",
       "\n",
       "| term &lt;chr&gt; | estimate &lt;dbl&gt; | std.error &lt;dbl&gt; | statistic &lt;dbl&gt; | p.value &lt;dbl&gt; |\n",
       "|---|---|---|---|---|\n",
       "| (Intercept)   | 14.13137756 | 2.28380578 |  6.1876442 | 6.106998e-10 |\n",
       "| age           | -0.17493751 | 0.05743164 | -3.0460131 | 2.318977e-03 |\n",
       "| education     | -0.51178177 | 0.12333162 | -4.1496398 | 3.329989e-05 |\n",
       "| gendermale    |  2.97300483 | 0.80465782 |  3.6947442 | 2.201083e-04 |\n",
       "| rating        | -0.81165480 | 0.17507142 | -4.6361354 | 3.549835e-06 |\n",
       "| religiousness | -0.07532957 | 0.17921813 | -0.4203234 | 6.742493e-01 |\n",
       "| yearsmarried  |  0.11764964 | 0.08208607 |  1.4332473 | 1.517872e-01 |\n",
       "\n"
      ],
      "text/plain": [
       "  term          estimate    std.error  statistic  p.value     \n",
       "1 (Intercept)   14.13137756 2.28380578  6.1876442 6.106998e-10\n",
       "2 age           -0.17493751 0.05743164 -3.0460131 2.318977e-03\n",
       "3 education     -0.51178177 0.12333162 -4.1496398 3.329989e-05\n",
       "4 gendermale     2.97300483 0.80465782  3.6947442 2.201083e-04\n",
       "5 rating        -0.81165480 0.17507142 -4.6361354 3.549835e-06\n",
       "6 religiousness -0.07532957 0.17921813 -0.4203234 6.742493e-01\n",
       "7 yearsmarried   0.11764964 0.08208607  1.4332473 1.517872e-01"
      ]
     },
     "metadata": {},
     "output_type": "display_data"
    }
   ],
   "source": [
    "my_model <- glm(affairs ~ age + education + gender + rating + religiousness + yearsmarried,\n",
    "                     family = 'poisson', data = affairs_subset)\n",
    "tidy(my_model)"
   ]
  },
  {
   "cell_type": "markdown",
   "id": "2cea3490-b255-48f5-a479-2b340380c718",
   "metadata": {},
   "source": [
    "### Block 6\n",
    "![Block 6](img_screenshots/block_6.png)"
   ]
  },
  {
   "cell_type": "markdown",
   "id": "5b0b9fe3-3a08-4368-9f5f-ef3c89d9bcc0",
   "metadata": {},
   "source": [
    "This block provides the likely ratio statistic for testing the significance of the effect. "
   ]
  },
  {
   "cell_type": "markdown",
   "id": "30db5cb8-1c58-498a-8602-07ad1e8ffd6c",
   "metadata": {},
   "source": [
    "### R chunk for reproduction"
   ]
  },
  {
   "cell_type": "code",
   "execution_count": null,
   "id": "2cb4c4c6-13da-4d9e-a554-535d484dd276",
   "metadata": {},
   "outputs": [],
   "source": []
  },
  {
   "cell_type": "code",
   "execution_count": 6,
   "id": "6ca2d729-3490-48a5-bfa0-760be2bdc0fb",
   "metadata": {},
   "outputs": [
    {
     "data": {
      "text/plain": [
       "\n",
       "Call:\n",
       "glm(formula = affairs ~ age + education + gender + rating + religiousness + \n",
       "    yearsmarried, family = \"poisson\", data = affairs_subset)\n",
       "\n",
       "Coefficients:\n",
       "              Estimate Std. Error z value Pr(>|z|)    \n",
       "(Intercept)   14.13138    2.28381   6.188 6.11e-10 ***\n",
       "age           -0.17494    0.05743  -3.046  0.00232 ** \n",
       "education     -0.51178    0.12333  -4.150 3.33e-05 ***\n",
       "gendermale     2.97300    0.80466   3.695  0.00022 ***\n",
       "rating        -0.81165    0.17507  -4.636 3.55e-06 ***\n",
       "religiousness -0.07533    0.17922  -0.420  0.67425    \n",
       "yearsmarried   0.11765    0.08209   1.433  0.15179    \n",
       "---\n",
       "Signif. codes:  0 '***' 0.001 '**' 0.01 '*' 0.05 '.' 0.1 ' ' 1\n",
       "\n",
       "(Dispersion parameter for poisson family taken to be 1)\n",
       "\n",
       "    Null deviance: 150.341  on 19  degrees of freedom\n",
       "Residual deviance:  41.231  on 13  degrees of freedom\n",
       "AIC: 86.327\n",
       "\n",
       "Number of Fisher Scoring iterations: 6\n"
      ]
     },
     "metadata": {},
     "output_type": "display_data"
    }
   ],
   "source": [
    "my_model <- glm(affairs ~ age + education + gender + rating + religiousness + yearsmarried,\n",
    "                     family = 'poisson', data = affairs_subset)\n",
    "summary(my_model)\n"
   ]
  },
  {
   "cell_type": "code",
   "execution_count": null,
   "id": "f34833b5-66f0-4a66-a52d-361def63fc05",
   "metadata": {},
   "outputs": [],
   "source": []
  }
 ],
 "metadata": {
  "kernelspec": {
   "display_name": "R 4.3.2",
   "language": "R",
   "name": "ir432"
  },
  "language_info": {
   "codemirror_mode": "r",
   "file_extension": ".r",
   "mimetype": "text/x-r-source",
   "name": "R",
   "pygments_lexer": "r",
   "version": "4.3.2"
  }
 },
 "nbformat": 4,
 "nbformat_minor": 5
}
