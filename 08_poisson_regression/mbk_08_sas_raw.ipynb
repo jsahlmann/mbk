{
 "cells": [
  {
   "cell_type": "markdown",
   "id": "df8091c6-2036-476c-b540-77db13c8369e",
   "metadata": {},
   "source": [
    "# 08 - Poisson regression"
   ]
  },
  {
   "cell_type": "markdown",
   "id": "8cf7dd5a-4d82-471f-8a41-39e05dbdde32",
   "metadata": {},
   "source": [
    "## Data"
   ]
  },
  {
   "cell_type": "markdown",
   "id": "f4874aaa-1498-44be-8371-053af86b4735",
   "metadata": {},
   "source": [
    "Source of data: R-Package \"AER\", data Affairs\n",
    "\n",
    "Data was filtered with 20 rows remaining.\n",
    "\n",
    "Dataset affairs_subsetxx.csv"
   ]
  },
  {
   "cell_type": "code",
   "execution_count": 5,
   "id": "09e0948e-f67e-4798-8b78-888edfcf8a78",
   "metadata": {},
   "outputs": [
    {
     "data": {
      "text/html": [
       "<table class=\"dataframe\">\n",
       "<caption>A tibble: 6 × 8</caption>\n",
       "<thead>\n",
       "\t<tr><th scope=col>affairs</th><th scope=col>gender</th><th scope=col>age</th><th scope=col>yearsmarried</th><th scope=col>children</th><th scope=col>religiousness</th><th scope=col>education</th><th scope=col>rating</th></tr>\n",
       "\t<tr><th scope=col>&lt;dbl&gt;</th><th scope=col>&lt;chr&gt;</th><th scope=col>&lt;dbl&gt;</th><th scope=col>&lt;dbl&gt;</th><th scope=col>&lt;chr&gt;</th><th scope=col>&lt;dbl&gt;</th><th scope=col>&lt;dbl&gt;</th><th scope=col>&lt;dbl&gt;</th></tr>\n",
       "</thead>\n",
       "<tbody>\n",
       "\t<tr><td>12</td><td>female</td><td>42</td><td>15</td><td>yes</td><td>5</td><td> 9</td><td>1</td></tr>\n",
       "\t<tr><td> 0</td><td>female</td><td>32</td><td>15</td><td>yes</td><td>2</td><td>14</td><td>4</td></tr>\n",
       "\t<tr><td> 0</td><td>male  </td><td>32</td><td>10</td><td>yes</td><td>3</td><td>20</td><td>5</td></tr>\n",
       "\t<tr><td> 0</td><td>female</td><td>32</td><td>15</td><td>yes</td><td>4</td><td>18</td><td>4</td></tr>\n",
       "\t<tr><td>12</td><td>male  </td><td>37</td><td>15</td><td>yes</td><td>5</td><td>17</td><td>2</td></tr>\n",
       "\t<tr><td>12</td><td>female</td><td>42</td><td>15</td><td>yes</td><td>4</td><td>12</td><td>1</td></tr>\n",
       "</tbody>\n",
       "</table>\n"
      ],
      "text/latex": [
       "A tibble: 6 × 8\n",
       "\\begin{tabular}{llllllll}\n",
       " affairs & gender & age & yearsmarried & children & religiousness & education & rating\\\\\n",
       " <dbl> & <chr> & <dbl> & <dbl> & <chr> & <dbl> & <dbl> & <dbl>\\\\\n",
       "\\hline\n",
       "\t 12 & female & 42 & 15 & yes & 5 &  9 & 1\\\\\n",
       "\t  0 & female & 32 & 15 & yes & 2 & 14 & 4\\\\\n",
       "\t  0 & male   & 32 & 10 & yes & 3 & 20 & 5\\\\\n",
       "\t  0 & female & 32 & 15 & yes & 4 & 18 & 4\\\\\n",
       "\t 12 & male   & 37 & 15 & yes & 5 & 17 & 2\\\\\n",
       "\t 12 & female & 42 & 15 & yes & 4 & 12 & 1\\\\\n",
       "\\end{tabular}\n"
      ],
      "text/markdown": [
       "\n",
       "A tibble: 6 × 8\n",
       "\n",
       "| affairs &lt;dbl&gt; | gender &lt;chr&gt; | age &lt;dbl&gt; | yearsmarried &lt;dbl&gt; | children &lt;chr&gt; | religiousness &lt;dbl&gt; | education &lt;dbl&gt; | rating &lt;dbl&gt; |\n",
       "|---|---|---|---|---|---|---|---|\n",
       "| 12 | female | 42 | 15 | yes | 5 |  9 | 1 |\n",
       "|  0 | female | 32 | 15 | yes | 2 | 14 | 4 |\n",
       "|  0 | male   | 32 | 10 | yes | 3 | 20 | 5 |\n",
       "|  0 | female | 32 | 15 | yes | 4 | 18 | 4 |\n",
       "| 12 | male   | 37 | 15 | yes | 5 | 17 | 2 |\n",
       "| 12 | female | 42 | 15 | yes | 4 | 12 | 1 |\n",
       "\n"
      ],
      "text/plain": [
       "  affairs gender age yearsmarried children religiousness education rating\n",
       "1 12      female 42  15           yes      5              9        1     \n",
       "2  0      female 32  15           yes      2             14        4     \n",
       "3  0      male   32  10           yes      3             20        5     \n",
       "4  0      female 32  15           yes      4             18        4     \n",
       "5 12      male   37  15           yes      5             17        2     \n",
       "6 12      female 42  15           yes      4             12        1     "
      ]
     },
     "metadata": {},
     "output_type": "display_data"
    }
   ],
   "source": [
    "library(readr)\n",
    "affairs_subset <- read_csv(\"data/affairs_subset.csv\",\n",
    "                 show_col_types = FALSE)\n",
    "head(affairs_subset)\n"
   ]
  },
  {
   "cell_type": "markdown",
   "id": "5e3e5853-4e74-43f7-b9fb-f9a42816fcad",
   "metadata": {},
   "source": [
    "## SAS program snippet"
   ]
  },
  {
   "cell_type": "markdown",
   "id": "72a25d47-c22e-4226-89b2-8e8625f61f8c",
   "metadata": {},
   "source": [
    "The following SAS code will be executed."
   ]
  },
  {
   "cell_type": "raw",
   "id": "b171d2d0-81ef-41e8-8987-5c68601be412",
   "metadata": {},
   "source": [
    "proc genmod data = affairs_subset;\n",
    "  class children(ref = 'no') gender(ref = 'female') / param=glm;\n",
    "  model affairs=age education gender rating religiousness yearsmarried / type3 dist=poisson;\n",
    "run;\n"
   ]
  },
  {
   "cell_type": "markdown",
   "id": "5fcf9f00-3a07-4e34-805c-de0f95d4d76a",
   "metadata": {},
   "source": [
    "## Results"
   ]
  },
  {
   "cell_type": "markdown",
   "id": "3d365e27-c7c5-4936-90db-8392fae3a124",
   "metadata": {},
   "source": [
    "The output is divided into blocks to explain it and to reproduce it afterwards in the different languages."
   ]
  },
  {
   "cell_type": "markdown",
   "id": "40ce206b-826d-42c6-bc39-c588864d99b7",
   "metadata": {},
   "source": [
    "### Block 1\n",
    "![Block 1](img_screenshots/block_1.png)"
   ]
  },
  {
   "cell_type": "markdown",
   "id": "25f6b2c1-36bf-4ad3-ae6a-05a4821dbbc4",
   "metadata": {},
   "source": [
    "This block lists the dataset, the distribution, which PROC GENMOD used, the link function and the dependent variable."
   ]
  },
  {
   "cell_type": "markdown",
   "id": "09f48c70-5dd6-4e6a-984e-6ed29408f555",
   "metadata": {},
   "source": [
    "### Block 2\n",
    "![Block 2](img_screenshots/block_2.png)"
   ]
  },
  {
   "cell_type": "markdown",
   "id": "dbf8fe3a-e756-4905-8770-3ada6d78d3c6",
   "metadata": {},
   "source": [
    "This block gives the number of observations in the dataset and the numbers of observations which were used to fit the model."
   ]
  },
  {
   "cell_type": "markdown",
   "id": "c600c9a5-619f-4495-80e6-85c89a18877d",
   "metadata": {},
   "source": [
    "### Block 3\n",
    "![Block 3](img_screenshots/block_3.png)"
   ]
  },
  {
   "cell_type": "markdown",
   "id": "1eaddd1d-deda-4bde-802e-8f49df22a24f",
   "metadata": {},
   "source": [
    "For the class variables the levels are given."
   ]
  },
  {
   "cell_type": "markdown",
   "id": "e76ff54b-9339-4c00-bb4e-c5deea17de63",
   "metadata": {},
   "source": [
    "### Block 4\n",
    "![Block 4](img_screenshots/block_4.png)"
   ]
  },
  {
   "cell_type": "markdown",
   "id": "8353593b-9a67-43cb-8cf7-e14169294f51",
   "metadata": {},
   "source": [
    "A lot of criteria for assessing the goodness of fit are given.\n"
   ]
  },
  {
   "cell_type": "markdown",
   "id": "8743a8b2-74c2-4ef6-b1ba-8446feafb902",
   "metadata": {},
   "source": [
    "### Block 5\n",
    "![Block 5](img_screenshots/block_5.png)"
   ]
  },
  {
   "cell_type": "markdown",
   "id": "9aa7a6ed-75a2-404e-b7ef-b3165b479740",
   "metadata": {},
   "source": [
    "This block provides parameter estimates with standard error, confidence interval, test statistic and probability."
   ]
  },
  {
   "cell_type": "markdown",
   "id": "2cea3490-b255-48f5-a479-2b340380c718",
   "metadata": {},
   "source": [
    "### Block 6\n",
    "![Block 6](img_screenshots/block_6.png)"
   ]
  },
  {
   "cell_type": "markdown",
   "id": "5b0b9fe3-3a08-4368-9f5f-ef3c89d9bcc0",
   "metadata": {},
   "source": [
    "This block provides the likely ratio statistic for testing the significance of the effect. "
   ]
  },
  {
   "cell_type": "code",
   "execution_count": null,
   "id": "f34833b5-66f0-4a66-a52d-361def63fc05",
   "metadata": {},
   "outputs": [],
   "source": []
  }
 ],
 "metadata": {
  "kernelspec": {
   "display_name": "R 4.3.2",
   "language": "R",
   "name": "ir432"
  },
  "language_info": {
   "codemirror_mode": "r",
   "file_extension": ".r",
   "mimetype": "text/x-r-source",
   "name": "R",
   "pygments_lexer": "r",
   "version": "4.3.2"
  }
 },
 "nbformat": 4,
 "nbformat_minor": 5
}
