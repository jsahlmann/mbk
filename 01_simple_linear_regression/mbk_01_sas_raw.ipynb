{
 "cells": [
  {
   "cell_type": "markdown",
   "id": "df8091c6-2036-476c-b540-77db13c8369e",
   "metadata": {},
   "source": [
    "# 01 - Simple linear regression"
   ]
  },
  {
   "cell_type": "markdown",
   "id": "8cf7dd5a-4d82-471f-8a41-39e05dbdde32",
   "metadata": {},
   "source": [
    "## Data"
   ]
  },
  {
   "cell_type": "markdown",
   "id": "f4874aaa-1498-44be-8371-053af86b4735",
   "metadata": {},
   "source": [
    "Source of data: SAS Help\n",
    "\n",
    "Data set class.csv"
   ]
  },
  {
   "cell_type": "code",
   "execution_count": 2,
   "id": "09e0948e-f67e-4798-8b78-888edfcf8a78",
   "metadata": {},
   "outputs": [
    {
     "data": {
      "text/html": [
       "<table class=\"dataframe\">\n",
       "<caption>A tibble: 6 × 5</caption>\n",
       "<thead>\n",
       "\t<tr><th scope=col>Name</th><th scope=col>Sex</th><th scope=col>Age</th><th scope=col>Height</th><th scope=col>Weight</th></tr>\n",
       "\t<tr><th scope=col>&lt;chr&gt;</th><th scope=col>&lt;chr&gt;</th><th scope=col>&lt;dbl&gt;</th><th scope=col>&lt;dbl&gt;</th><th scope=col>&lt;dbl&gt;</th></tr>\n",
       "</thead>\n",
       "<tbody>\n",
       "\t<tr><td>Alfred </td><td>M</td><td>14</td><td>69.0</td><td>112.5</td></tr>\n",
       "\t<tr><td>Alice  </td><td>F</td><td>13</td><td>56.5</td><td> 84.0</td></tr>\n",
       "\t<tr><td>Barbara</td><td>F</td><td>13</td><td>65.3</td><td> 98.0</td></tr>\n",
       "\t<tr><td>Carol  </td><td>F</td><td>14</td><td>62.8</td><td>102.5</td></tr>\n",
       "\t<tr><td>Henry  </td><td>M</td><td>14</td><td>63.5</td><td>102.5</td></tr>\n",
       "\t<tr><td>James  </td><td>M</td><td>12</td><td>57.3</td><td> 83.0</td></tr>\n",
       "</tbody>\n",
       "</table>\n"
      ],
      "text/latex": [
       "A tibble: 6 × 5\n",
       "\\begin{tabular}{lllll}\n",
       " Name & Sex & Age & Height & Weight\\\\\n",
       " <chr> & <chr> & <dbl> & <dbl> & <dbl>\\\\\n",
       "\\hline\n",
       "\t Alfred  & M & 14 & 69.0 & 112.5\\\\\n",
       "\t Alice   & F & 13 & 56.5 &  84.0\\\\\n",
       "\t Barbara & F & 13 & 65.3 &  98.0\\\\\n",
       "\t Carol   & F & 14 & 62.8 & 102.5\\\\\n",
       "\t Henry   & M & 14 & 63.5 & 102.5\\\\\n",
       "\t James   & M & 12 & 57.3 &  83.0\\\\\n",
       "\\end{tabular}\n"
      ],
      "text/markdown": [
       "\n",
       "A tibble: 6 × 5\n",
       "\n",
       "| Name &lt;chr&gt; | Sex &lt;chr&gt; | Age &lt;dbl&gt; | Height &lt;dbl&gt; | Weight &lt;dbl&gt; |\n",
       "|---|---|---|---|---|\n",
       "| Alfred  | M | 14 | 69.0 | 112.5 |\n",
       "| Alice   | F | 13 | 56.5 |  84.0 |\n",
       "| Barbara | F | 13 | 65.3 |  98.0 |\n",
       "| Carol   | F | 14 | 62.8 | 102.5 |\n",
       "| Henry   | M | 14 | 63.5 | 102.5 |\n",
       "| James   | M | 12 | 57.3 |  83.0 |\n",
       "\n"
      ],
      "text/plain": [
       "  Name    Sex Age Height Weight\n",
       "1 Alfred  M   14  69.0   112.5 \n",
       "2 Alice   F   13  56.5    84.0 \n",
       "3 Barbara F   13  65.3    98.0 \n",
       "4 Carol   F   14  62.8   102.5 \n",
       "5 Henry   M   14  63.5   102.5 \n",
       "6 James   M   12  57.3    83.0 "
      ]
     },
     "metadata": {},
     "output_type": "display_data"
    }
   ],
   "source": [
    "library(readr)\n",
    "class <- read_csv(\"data/class.csv\",\n",
    "                 show_col_types = FALSE)\n",
    "head(class)\n"
   ]
  },
  {
   "cell_type": "markdown",
   "id": "5e3e5853-4e74-43f7-b9fb-f9a42816fcad",
   "metadata": {},
   "source": [
    "## SAS program snippet"
   ]
  },
  {
   "cell_type": "markdown",
   "id": "72a25d47-c22e-4226-89b2-8e8625f61f8c",
   "metadata": {},
   "source": [
    "The following SAS code will be executed."
   ]
  },
  {
   "cell_type": "raw",
   "id": "b171d2d0-81ef-41e8-8987-5c68601be412",
   "metadata": {},
   "source": [
    "proc reg data=sashelp.class;\n",
    "   model Weight = Height;\n",
    "run;\n"
   ]
  },
  {
   "cell_type": "markdown",
   "id": "5fcf9f00-3a07-4e34-805c-de0f95d4d76a",
   "metadata": {},
   "source": [
    "## Results"
   ]
  },
  {
   "cell_type": "markdown",
   "id": "3d365e27-c7c5-4936-90db-8392fae3a124",
   "metadata": {},
   "source": [
    "The output is divided into blocks to explain it and to reproduce it afterwards in the different languages."
   ]
  },
  {
   "cell_type": "markdown",
   "id": "40ce206b-826d-42c6-bc39-c588864d99b7",
   "metadata": {},
   "source": [
    "### Block 1\n",
    "![Block 1](img_screenshots/block_1.png)"
   ]
  },
  {
   "cell_type": "markdown",
   "id": "1b3d8b8a-b025-4482-8d09-639f9614bc79",
   "metadata": {},
   "source": [
    "Number of observations read is the number of observations in the dataset.\n",
    "\n",
    "Number of observation used is the number of complete cases regarding the variables used for the SAS program snippet."
   ]
  },
  {
   "cell_type": "markdown",
   "id": "09f48c70-5dd6-4e6a-984e-6ed29408f555",
   "metadata": {},
   "source": [
    "### Block 2\n",
    "![Block 2](img_screenshots/block_2.png)"
   ]
  },
  {
   "cell_type": "markdown",
   "id": "49effba1-d7b9-44bd-9e51-8ae12c6bd8d0",
   "metadata": {},
   "source": [
    "An analysis of variance was performed for the data.\n",
    "\n",
    "#### Source\n",
    "The column source in this table presents the sources of variance. They are divided into\n",
    "\n",
    "-  Model,\n",
    "-  Residual, and\n",
    "-  Total.\n",
    "\n",
    "Model stands for the variance which is explained by the independent variables.\n",
    "\n",
    "Total stands for the total variance which can be divided into the variance explained from the model and the variance not explained from the model called residual or error.\n",
    "\n",
    "Sum of squares of model plus sum of squares of error is equal to the total sum of squares.\n",
    "\n",
    "#### DF\n",
    "\n",
    "The degrees of freedom are calculated as follows:\n",
    "\n",
    "The df for total is the number of used observations minus one.\n",
    "\n",
    "The df for the total is the number of variables in the model minus one. The intercept is counting as one variable if not explicitely omitted.\n",
    "\n",
    "The for for the error is the difference of $df_{total} - df_{model}$.\n",
    "\n",
    "#### Sum of squares\n",
    "\n",
    "Calculation of sum squares might be added here later.\n",
    "\n",
    "It can be found in several other tutorials.\n",
    "\n",
    "#### Mean square\n",
    "\n",
    "The mean square is the sum of squares divided by the degrees of freedom.\n",
    "\n",
    "#### F-Value\n",
    "\n",
    "The F-value is the mean square model divided by the mean square error. The degrees of freedom are $df_{model}$ and $df_{error}$.\n",
    "\n",
    "#### Pr > F\n",
    "\n",
    "The null hypothesis tested is that there is no linear relationship between the independent and the dependent variables.\n",
    "\n",
    "The alternative hypothesis states that there is a linear relationship.\n"
   ]
  },
  {
   "cell_type": "markdown",
   "id": "c600c9a5-619f-4495-80e6-85c89a18877d",
   "metadata": {},
   "source": [
    "### Block 3\n",
    "![Block 3](img_screenshots/block_3.png)"
   ]
  },
  {
   "cell_type": "markdown",
   "id": "8db617ba-815b-4d44-9383-8c36320a9d04",
   "metadata": {},
   "source": [
    "### Root MSE\n",
    "\n",
    "Root MSE is the standard deviation of the error term.\n",
    "\n",
    "It is the square root of the mean square error (or residual).\n",
    "\n",
    "### Dependent mean\n",
    "\n",
    "The dependent mean is the mean of the dependent variable of those observations which were used and not omitted.\n",
    "\n",
    "### Coeff Var\n",
    "\n",
    "The coefficient of variation is the root MSE divided by the dependent mean. It is a measure of variation in the data.\n",
    "\n",
    "### R-square\n",
    "\n",
    "R-square is the proportion of the explained variance based on the total variance. Sum of square model divided by sum of square total.\n",
    "\n",
    "### Adj R-Sq\n",
    "\n",
    "Adjusted R-square adjusts for the relation between the number of variables (k) in the model and the number of observations (N) in the dataset.\n",
    "\n",
    "$R_{adj} = 1 – ((1 – Rsq)((N – 1) / (N – k – 1))$\n",
    "\n"
   ]
  },
  {
   "cell_type": "markdown",
   "id": "e76ff54b-9339-4c00-bb4e-c5deea17de63",
   "metadata": {},
   "source": [
    "### Block 4\n",
    "![Block 4](img_screenshots/block_4.png)"
   ]
  },
  {
   "cell_type": "markdown",
   "id": "7ab28463-dbe3-4148-911b-47780ee08a57",
   "metadata": {},
   "source": [
    "#### Variable\n",
    "\n",
    "This column refers to the name of the variable in the model.\n",
    "\n",
    "#### DF\n",
    "\n",
    "The degrees of freedom are one for continous and binary variable. For categorial variables they are equal to the number of levels minus.\n",
    "\n",
    "#### Parameter estimate\n",
    "\n",
    "This columns containts the values which are the $b_i$ in the model.\n",
    "\n",
    "$\\hat{y} = b_0 + b_1 * x_1 + b_2 * x_2 + ... + b_n * x_n$\n",
    "\n",
    "$Weight = -143.03 + 3.89 * Height$\n",
    "\n",
    "#### Standard error\n",
    "\n",
    "The standard errors are provided for each variable.\n",
    "\n",
    "They can be used for calculating the t-value: Parameter estimate divided by standard error.   \n",
    "\n",
    "#### t value\n",
    "\n",
    "The null hypothesis tested is that the coefficient is zero.\n",
    "\n",
    "The alternative hypothesis is that the coefficient is unequal to zero.\n",
    "\n",
    "#### Pr > |t|\n",
    "\n",
    "p is provided for a two-sided test. It can be divided by two for a one-sided test.\n"
   ]
  },
  {
   "cell_type": "code",
   "execution_count": null,
   "id": "f34833b5-66f0-4a66-a52d-361def63fc05",
   "metadata": {},
   "outputs": [],
   "source": []
  }
 ],
 "metadata": {
  "kernelspec": {
   "display_name": "R 4.3.2",
   "language": "R",
   "name": "ir432"
  },
  "language_info": {
   "codemirror_mode": "r",
   "file_extension": ".r",
   "mimetype": "text/x-r-source",
   "name": "R",
   "pygments_lexer": "r",
   "version": "4.3.2"
  }
 },
 "nbformat": 4,
 "nbformat_minor": 5
}
