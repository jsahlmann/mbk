{
 "cells": [
  {
   "cell_type": "markdown",
   "id": "7a2e8866",
   "metadata": {},
   "source": [
    "# Working sheet \n",
    "## 01 - Simple linear regression with R\n",
    "V01.01.00 - 2024-02-17"
   ]
  },
  {
   "cell_type": "markdown",
   "id": "1a4bf8e0",
   "metadata": {},
   "source": [
    "## Load data\n",
    "\n",
    "Change the path and the file name in the following box."
   ]
  },
  {
   "cell_type": "code",
   "execution_count": 1,
   "id": "2f6de889",
   "metadata": {},
   "outputs": [
    {
     "name": "stderr",
     "output_type": "stream",
     "text": [
      "\u001b[1mRows: \u001b[22m\u001b[34m19\u001b[39m \u001b[1mColumns: \u001b[22m\u001b[34m5\u001b[39m\n",
      "\u001b[36m──\u001b[39m \u001b[1mColumn specification\u001b[22m \u001b[36m────────────────────────────────────────────────────────────────────────────────────────────────\u001b[39m\n",
      "\u001b[1mDelimiter:\u001b[22m \",\"\n",
      "\u001b[31mchr\u001b[39m (2): Name, Sex\n",
      "\u001b[32mdbl\u001b[39m (3): Age, Height, Weight\n",
      "\n",
      "\u001b[36mℹ\u001b[39m Use `spec()` to retrieve the full column specification for this data.\n",
      "\u001b[36mℹ\u001b[39m Specify the column types or set `show_col_types = FALSE` to quiet this message.\n"
     ]
    }
   ],
   "source": [
    "library(readr)\n",
    "df <- read_csv(\"data/class.csv\")\n"
   ]
  },
  {
   "cell_type": "markdown",
   "id": "601c16ce",
   "metadata": {},
   "source": [
    "Look at the structure and the head of the dataset."
   ]
  },
  {
   "cell_type": "code",
   "execution_count": 2,
   "id": "981c5c9c",
   "metadata": {},
   "outputs": [
    {
     "name": "stdout",
     "output_type": "stream",
     "text": [
      "spc_tbl_ [19 × 5] (S3: spec_tbl_df/tbl_df/tbl/data.frame)\n",
      " $ Name  : chr [1:19] \"Alfred\" \"Alice\" \"Barbara\" \"Carol\" ...\n",
      " $ Sex   : chr [1:19] \"M\" \"F\" \"F\" \"F\" ...\n",
      " $ Age   : num [1:19] 14 13 13 14 14 12 12 15 13 12 ...\n",
      " $ Height: num [1:19] 69 56.5 65.3 62.8 63.5 57.3 59.8 62.5 62.5 59 ...\n",
      " $ Weight: num [1:19] 112 84 98 102 102 ...\n",
      " - attr(*, \"spec\")=\n",
      "  .. cols(\n",
      "  ..   Name = \u001b[31mcol_character()\u001b[39m,\n",
      "  ..   Sex = \u001b[31mcol_character()\u001b[39m,\n",
      "  ..   Age = \u001b[32mcol_double()\u001b[39m,\n",
      "  ..   Height = \u001b[32mcol_double()\u001b[39m,\n",
      "  ..   Weight = \u001b[32mcol_double()\u001b[39m\n",
      "  .. )\n",
      " - attr(*, \"problems\")=<externalptr> \n"
     ]
    }
   ],
   "source": [
    "str(df)"
   ]
  },
  {
   "cell_type": "code",
   "execution_count": 3,
   "id": "350a7ee3",
   "metadata": {},
   "outputs": [
    {
     "data": {
      "text/html": [
       "<table class=\"dataframe\">\n",
       "<caption>A tibble: 6 × 5</caption>\n",
       "<thead>\n",
       "\t<tr><th scope=col>Name</th><th scope=col>Sex</th><th scope=col>Age</th><th scope=col>Height</th><th scope=col>Weight</th></tr>\n",
       "\t<tr><th scope=col>&lt;chr&gt;</th><th scope=col>&lt;chr&gt;</th><th scope=col>&lt;dbl&gt;</th><th scope=col>&lt;dbl&gt;</th><th scope=col>&lt;dbl&gt;</th></tr>\n",
       "</thead>\n",
       "<tbody>\n",
       "\t<tr><td>Alfred </td><td>M</td><td>14</td><td>69.0</td><td>112.5</td></tr>\n",
       "\t<tr><td>Alice  </td><td>F</td><td>13</td><td>56.5</td><td> 84.0</td></tr>\n",
       "\t<tr><td>Barbara</td><td>F</td><td>13</td><td>65.3</td><td> 98.0</td></tr>\n",
       "\t<tr><td>Carol  </td><td>F</td><td>14</td><td>62.8</td><td>102.5</td></tr>\n",
       "\t<tr><td>Henry  </td><td>M</td><td>14</td><td>63.5</td><td>102.5</td></tr>\n",
       "\t<tr><td>James  </td><td>M</td><td>12</td><td>57.3</td><td> 83.0</td></tr>\n",
       "</tbody>\n",
       "</table>\n"
      ],
      "text/latex": [
       "A tibble: 6 × 5\n",
       "\\begin{tabular}{lllll}\n",
       " Name & Sex & Age & Height & Weight\\\\\n",
       " <chr> & <chr> & <dbl> & <dbl> & <dbl>\\\\\n",
       "\\hline\n",
       "\t Alfred  & M & 14 & 69.0 & 112.5\\\\\n",
       "\t Alice   & F & 13 & 56.5 &  84.0\\\\\n",
       "\t Barbara & F & 13 & 65.3 &  98.0\\\\\n",
       "\t Carol   & F & 14 & 62.8 & 102.5\\\\\n",
       "\t Henry   & M & 14 & 63.5 & 102.5\\\\\n",
       "\t James   & M & 12 & 57.3 &  83.0\\\\\n",
       "\\end{tabular}\n"
      ],
      "text/markdown": [
       "\n",
       "A tibble: 6 × 5\n",
       "\n",
       "| Name &lt;chr&gt; | Sex &lt;chr&gt; | Age &lt;dbl&gt; | Height &lt;dbl&gt; | Weight &lt;dbl&gt; |\n",
       "|---|---|---|---|---|\n",
       "| Alfred  | M | 14 | 69.0 | 112.5 |\n",
       "| Alice   | F | 13 | 56.5 |  84.0 |\n",
       "| Barbara | F | 13 | 65.3 |  98.0 |\n",
       "| Carol   | F | 14 | 62.8 | 102.5 |\n",
       "| Henry   | M | 14 | 63.5 | 102.5 |\n",
       "| James   | M | 12 | 57.3 |  83.0 |\n",
       "\n"
      ],
      "text/plain": [
       "  Name    Sex Age Height Weight\n",
       "1 Alfred  M   14  69.0   112.5 \n",
       "2 Alice   F   13  56.5    84.0 \n",
       "3 Barbara F   13  65.3    98.0 \n",
       "4 Carol   F   14  62.8   102.5 \n",
       "5 Henry   M   14  63.5   102.5 \n",
       "6 James   M   12  57.3    83.0 "
      ]
     },
     "metadata": {},
     "output_type": "display_data"
    }
   ],
   "source": [
    "head(df)"
   ]
  },
  {
   "cell_type": "markdown",
   "id": "6d08b0ce-8261-4625-b597-67094b12fd83",
   "metadata": {},
   "source": [
    "Look at frequencies and descriptive statistics.\n",
    "\n",
    "The summary() function is the first approach.\n",
    "\n",
    "describe() from the Hmisc package is an alternative."
   ]
  },
  {
   "cell_type": "code",
   "execution_count": 4,
   "id": "6fc6c2c7",
   "metadata": {},
   "outputs": [
    {
     "data": {
      "text/plain": [
       "     Name               Sex                 Age            Height     \n",
       " Length:19          Length:19          Min.   :11.00   Min.   :51.30  \n",
       " Class :character   Class :character   1st Qu.:12.00   1st Qu.:58.25  \n",
       " Mode  :character   Mode  :character   Median :13.00   Median :62.80  \n",
       "                                       Mean   :13.32   Mean   :62.34  \n",
       "                                       3rd Qu.:14.50   3rd Qu.:65.90  \n",
       "                                       Max.   :16.00   Max.   :72.00  \n",
       "     Weight      \n",
       " Min.   : 50.50  \n",
       " 1st Qu.: 84.25  \n",
       " Median : 99.50  \n",
       " Mean   :100.03  \n",
       " 3rd Qu.:112.25  \n",
       " Max.   :150.00  "
      ]
     },
     "metadata": {},
     "output_type": "display_data"
    }
   ],
   "source": [
    "summary(df)"
   ]
  },
  {
   "cell_type": "code",
   "execution_count": 5,
   "id": "84cfcf5a",
   "metadata": {},
   "outputs": [
    {
     "name": "stderr",
     "output_type": "stream",
     "text": [
      "\n",
      "Attache Paket: 'Hmisc'\n",
      "\n",
      "\n",
      "Die folgenden Objekte sind maskiert von 'package:base':\n",
      "\n",
      "    format.pval, units\n",
      "\n",
      "\n"
     ]
    },
    {
     "data": {
      "text/plain": [
       "df \n",
       "\n",
       " 5  Variables      19  Observations\n",
       "--------------------------------------------------------------------------------\n",
       "Name \n",
       "       n  missing distinct \n",
       "      19        0       19 \n",
       "\n",
       "Alfred (1, 0.053), Alice (1, 0.053), Barbara (1, 0.053), Carol (1, 0.053),\n",
       "Henry (1, 0.053), James (1, 0.053), Jane (1, 0.053), Janet (1, 0.053), Jeffrey\n",
       "(1, 0.053), John (1, 0.053), Joyce (1, 0.053), Judy (1, 0.053), Louise (1,\n",
       "0.053), Mary (1, 0.053), Philip (1, 0.053), Robert (1, 0.053), Ronald (1,\n",
       "0.053), Thomas (1, 0.053), William (1, 0.053)\n",
       "--------------------------------------------------------------------------------\n",
       "Sex \n",
       "       n  missing distinct \n",
       "      19        0        2 \n",
       "                      \n",
       "Value          F     M\n",
       "Frequency      9    10\n",
       "Proportion 0.474 0.526\n",
       "--------------------------------------------------------------------------------\n",
       "Age \n",
       "       n  missing distinct     Info     Mean      Gmd \n",
       "      19        0        6    0.961    13.32    1.731 \n",
       "                                              \n",
       "Value         11    12    13    14    15    16\n",
       "Frequency      2     5     3     4     4     1\n",
       "Proportion 0.105 0.263 0.158 0.211 0.211 0.053\n",
       "\n",
       "For the frequency table, variable is rounded to the nearest 0.05\n",
       "--------------------------------------------------------------------------------\n",
       "Height \n",
       "       n  missing distinct     Info     Mean      Gmd      .05      .10 \n",
       "      19        0       17    0.998    62.34    5.923    55.80    56.46 \n",
       "     .25      .50      .75      .90      .95 \n",
       "   58.25    62.80    65.90    67.40    69.30 \n",
       "                                                                         \n",
       "Value      51.300 56.268 56.475 57.096 57.303 58.959 59.787 62.478 62.685\n",
       "Frequency       1      1      1      1      1      1      1      2      1\n",
       "Proportion  0.053  0.053  0.053  0.053  0.053  0.053  0.053  0.105  0.053\n",
       "                                                                  \n",
       "Value      63.306 64.134 64.755 65.169 66.411 66.825 68.895 72.000\n",
       "Frequency       1      1      1      1      2      1      1      1\n",
       "Proportion  0.053  0.053  0.053  0.053  0.105  0.053  0.053  0.053\n",
       "\n",
       "For the frequency table, variable is rounded to the nearest 0.207\n",
       "--------------------------------------------------------------------------------\n",
       "Weight \n",
       "       n  missing distinct     Info     Mean      Gmd      .05      .10 \n",
       "      19        0       15    0.996      100    25.64    74.35    81.80 \n",
       "     .25      .50      .75      .90      .95 \n",
       "   84.25    99.50   112.25   129.00   134.70 \n",
       "                                                                          \n",
       "Value       50.500  76.370  82.340  83.335  84.330  89.305  97.265  99.255\n",
       "Frequency        1       1       1       2       2       1       1       1\n",
       "Proportion   0.053   0.053   0.053   0.105   0.105   0.053   0.053   0.053\n",
       "                                                          \n",
       "Value      102.240 111.195 112.190 127.115 132.090 150.000\n",
       "Frequency        2       2       2       1       1       1\n",
       "Proportion   0.105   0.105   0.105   0.053   0.053   0.053\n",
       "\n",
       "For the frequency table, variable is rounded to the nearest 0.995\n",
       "--------------------------------------------------------------------------------"
      ]
     },
     "metadata": {},
     "output_type": "display_data"
    }
   ],
   "source": [
    "library(Hmisc)\n",
    "describe(df)"
   ]
  },
  {
   "cell_type": "markdown",
   "id": "91375007",
   "metadata": {},
   "source": [
    "Plot the variables of interest with a scatter plot."
   ]
  },
  {
   "cell_type": "code",
   "execution_count": 6,
   "id": "fbb725c5",
   "metadata": {},
   "outputs": [
    {
     "data": {
      "image/png": "[encoded data removed]",
      "text/plain": [
       "plot without title"
      ]
     },
     "metadata": {
      "image/png": {
       "height": 420,
       "width": 420
      }
     },
     "output_type": "display_data"
    }
   ],
   "source": [
    "library(ggplot2)\n",
    "ggplot(df, aes(x = Height, y = Weight)) +\n",
    "  geom_point()\n"
   ]
  },
  {
   "cell_type": "markdown",
   "id": "71803bc8",
   "metadata": {},
   "source": [
    "Look at the distribution with a QQ-plot."
   ]
  },
  {
   "cell_type": "code",
   "execution_count": 7,
   "id": "08c1c999",
   "metadata": {},
   "outputs": [
    {
     "data": {
      "image/png": "[encoded data removed]",
      "text/plain": [
       "plot without title"
      ]
     },
     "metadata": {
      "image/png": {
       "height": 420,
       "width": 420
      }
     },
     "output_type": "display_data"
    }
   ],
   "source": [
    "ggplot(df, aes(sample = Weight)) + \n",
    "  geom_qq() +\n",
    "  geom_qq_line()"
   ]
  },
  {
   "cell_type": "code",
   "execution_count": 8,
   "id": "3114f4dc",
   "metadata": {},
   "outputs": [
    {
     "data": {
      "image/png": "[encoded data removed]",
      "text/plain": [
       "plot without title"
      ]
     },
     "metadata": {
      "image/png": {
       "height": 420,
       "width": 420
      }
     },
     "output_type": "display_data"
    }
   ],
   "source": [
    "ggplot(df, aes(sample = Height)) + \n",
    "  geom_qq() +\n",
    "  geom_qq_line()"
   ]
  },
  {
   "cell_type": "markdown",
   "id": "d68cbb2a-c330-4ac9-9acf-06cf2f93956b",
   "metadata": {},
   "source": [
    "## Assumptions of linear regression\n",
    "\n",
    "- Linearity: There must be a linear relationship between the dependent and independent variables.\n",
    "- Homoscedasticity: The residuals must have a constant variance.\n",
    "- Normality: Normally distributed error.\n",
    "- No auto correlation: The error component should have no auto correlation.\n",
    "- No multicollinearity: No high correlation between the independent variables (for multiple linear regression).\n",
    "- Independence of the observations: Result of the data generating mechanism\n"
   ]
  },
  {
   "cell_type": "markdown",
   "id": "faa1f4cd-8f49-4f8d-bf74-8bbd353ceb95",
   "metadata": {},
   "source": [
    "The linearity can be assessed by inspection of the scatter plot above.\n",
    "\n",
    "For the next assumption the model has to be fitted to calculate the residuals. The residuals are the differences between the observed and the fitted values."
   ]
  },
  {
   "cell_type": "code",
   "execution_count": 9,
   "id": "588c47a1-28bf-4cc6-a97f-a401fe54ca39",
   "metadata": {},
   "outputs": [
    {
     "data": {
      "text/html": [
       "<table class=\"dataframe\">\n",
       "<caption>A tibble: 6 × 8</caption>\n",
       "<thead>\n",
       "\t<tr><th scope=col>Weight</th><th scope=col>Height</th><th scope=col>.fitted</th><th scope=col>.resid</th><th scope=col>.hat</th><th scope=col>.sigma</th><th scope=col>.cooksd</th><th scope=col>.std.resid</th></tr>\n",
       "\t<tr><th scope=col>&lt;dbl&gt;</th><th scope=col>&lt;dbl&gt;</th><th scope=col>&lt;dbl&gt;</th><th scope=col>&lt;dbl&gt;</th><th scope=col>&lt;dbl&gt;</th><th scope=col>&lt;dbl&gt;</th><th scope=col>&lt;dbl&gt;</th><th scope=col>&lt;dbl&gt;</th></tr>\n",
       "</thead>\n",
       "<tbody>\n",
       "\t<tr><td>112.5</td><td>69.0</td><td>126.00617</td><td>-13.5061701</td><td>0.14646301</td><td>10.97944</td><td>0.1454950639</td><td>-1.30222590</td></tr>\n",
       "\t<tr><td> 84.0</td><td>56.5</td><td> 77.26829</td><td>  6.7317083</td><td>0.12463349</td><td>11.43110</td><td>0.0292419306</td><td> 0.64090788</td></tr>\n",
       "\t<tr><td> 98.0</td><td>65.3</td><td>111.57976</td><td>-13.5797581</td><td>0.07118815</td><td>11.02254</td><td>0.0603721796</td><td>-1.25514370</td></tr>\n",
       "\t<tr><td>102.5</td><td>62.8</td><td>101.83218</td><td>  0.6678176</td><td>0.05308494</td><td>11.57048</td><td>0.0001047528</td><td> 0.06113186</td></tr>\n",
       "\t<tr><td>102.5</td><td>63.5</td><td>104.56150</td><td> -2.0615036</td><td>0.05549092</td><td>11.55960</td><td>0.0010487655</td><td>-0.18894975</td></tr>\n",
       "\t<tr><td> 83.0</td><td>57.3</td><td> 80.38752</td><td>  2.6124840</td><td>0.10624886</td><td>11.55111</td><td>0.0036016287</td><td> 0.24615612</td></tr>\n",
       "</tbody>\n",
       "</table>\n"
      ],
      "text/latex": [
       "A tibble: 6 × 8\n",
       "\\begin{tabular}{llllllll}\n",
       " Weight & Height & .fitted & .resid & .hat & .sigma & .cooksd & .std.resid\\\\\n",
       " <dbl> & <dbl> & <dbl> & <dbl> & <dbl> & <dbl> & <dbl> & <dbl>\\\\\n",
       "\\hline\n",
       "\t 112.5 & 69.0 & 126.00617 & -13.5061701 & 0.14646301 & 10.97944 & 0.1454950639 & -1.30222590\\\\\n",
       "\t  84.0 & 56.5 &  77.26829 &   6.7317083 & 0.12463349 & 11.43110 & 0.0292419306 &  0.64090788\\\\\n",
       "\t  98.0 & 65.3 & 111.57976 & -13.5797581 & 0.07118815 & 11.02254 & 0.0603721796 & -1.25514370\\\\\n",
       "\t 102.5 & 62.8 & 101.83218 &   0.6678176 & 0.05308494 & 11.57048 & 0.0001047528 &  0.06113186\\\\\n",
       "\t 102.5 & 63.5 & 104.56150 &  -2.0615036 & 0.05549092 & 11.55960 & 0.0010487655 & -0.18894975\\\\\n",
       "\t  83.0 & 57.3 &  80.38752 &   2.6124840 & 0.10624886 & 11.55111 & 0.0036016287 &  0.24615612\\\\\n",
       "\\end{tabular}\n"
      ],
      "text/markdown": [
       "\n",
       "A tibble: 6 × 8\n",
       "\n",
       "| Weight &lt;dbl&gt; | Height &lt;dbl&gt; | .fitted &lt;dbl&gt; | .resid &lt;dbl&gt; | .hat &lt;dbl&gt; | .sigma &lt;dbl&gt; | .cooksd &lt;dbl&gt; | .std.resid &lt;dbl&gt; |\n",
       "|---|---|---|---|---|---|---|---|\n",
       "| 112.5 | 69.0 | 126.00617 | -13.5061701 | 0.14646301 | 10.97944 | 0.1454950639 | -1.30222590 |\n",
       "|  84.0 | 56.5 |  77.26829 |   6.7317083 | 0.12463349 | 11.43110 | 0.0292419306 |  0.64090788 |\n",
       "|  98.0 | 65.3 | 111.57976 | -13.5797581 | 0.07118815 | 11.02254 | 0.0603721796 | -1.25514370 |\n",
       "| 102.5 | 62.8 | 101.83218 |   0.6678176 | 0.05308494 | 11.57048 | 0.0001047528 |  0.06113186 |\n",
       "| 102.5 | 63.5 | 104.56150 |  -2.0615036 | 0.05549092 | 11.55960 | 0.0010487655 | -0.18894975 |\n",
       "|  83.0 | 57.3 |  80.38752 |   2.6124840 | 0.10624886 | 11.55111 | 0.0036016287 |  0.24615612 |\n",
       "\n"
      ],
      "text/plain": [
       "  Weight Height .fitted   .resid      .hat       .sigma   .cooksd     \n",
       "1 112.5  69.0   126.00617 -13.5061701 0.14646301 10.97944 0.1454950639\n",
       "2  84.0  56.5    77.26829   6.7317083 0.12463349 11.43110 0.0292419306\n",
       "3  98.0  65.3   111.57976 -13.5797581 0.07118815 11.02254 0.0603721796\n",
       "4 102.5  62.8   101.83218   0.6678176 0.05308494 11.57048 0.0001047528\n",
       "5 102.5  63.5   104.56150  -2.0615036 0.05549092 11.55960 0.0010487655\n",
       "6  83.0  57.3    80.38752   2.6124840 0.10624886 11.55111 0.0036016287\n",
       "  .std.resid \n",
       "1 -1.30222590\n",
       "2  0.64090788\n",
       "3 -1.25514370\n",
       "4  0.06113186\n",
       "5 -0.18894975\n",
       "6  0.24615612"
      ]
     },
     "metadata": {},
     "output_type": "display_data"
    }
   ],
   "source": [
    "library(broom)\n",
    "my_lm <- lm(Weight ~ Height, data = df)\n",
    "df <- augment(my_lm)\n",
    "head(df)\n"
   ]
  },
  {
   "cell_type": "markdown",
   "id": "fa5d86de-7696-4813-ae1a-7fa6b823e293",
   "metadata": {},
   "source": [
    "Plot the residuals on the y-axis against the dependent variable on the x-axis to look for homoscedasticity."
   ]
  },
  {
   "cell_type": "code",
   "execution_count": 10,
   "id": "b9f97ea4-e748-4288-85f3-cbe992e94918",
   "metadata": {},
   "outputs": [
    {
     "data": {
      "image/png": "[encoded data removed]",
      "text/plain": [
       "plot without title"
      ]
     },
     "metadata": {
      "image/png": {
       "height": 420,
       "width": 420
      }
     },
     "output_type": "display_data"
    }
   ],
   "source": [
    "# Homoscedasticity\n",
    "ggplot(df, aes(x = Weight, y = .resid)) +\n",
    "  geom_point()"
   ]
  },
  {
   "cell_type": "markdown",
   "id": "5413ae74-0002-4a92-8ddb-cbd639de9e7f",
   "metadata": {},
   "source": [
    "Look for the normal distribution of the residuals with a QQ-plot."
   ]
  },
  {
   "cell_type": "code",
   "execution_count": 11,
   "id": "2aadcb11-91c3-4c32-be5d-f12d046e6f29",
   "metadata": {},
   "outputs": [
    {
     "data": {
      "image/png": "[encoded data removed]",
      "text/plain": [
       "plot without title"
      ]
     },
     "metadata": {
      "image/png": {
       "height": 420,
       "width": 420
      }
     },
     "output_type": "display_data"
    }
   ],
   "source": [
    "# Normal distribution of the error\n",
    "ggplot(df, aes(sample = .resid)) +\n",
    "  geom_qq() + \n",
    "  geom_qq_line()"
   ]
  },
  {
   "cell_type": "markdown",
   "id": "8dde463b-d970-4e65-96d2-b4922a935c0f",
   "metadata": {},
   "source": [
    "Durbin-Watson-Test for auto correlation"
   ]
  },
  {
   "cell_type": "code",
   "execution_count": 12,
   "id": "9bea98fc-abea-4852-aa42-2e3580b2f7d8",
   "metadata": {},
   "outputs": [
    {
     "name": "stderr",
     "output_type": "stream",
     "text": [
      "Lade nötiges Paket: carData\n",
      "\n"
     ]
    },
    {
     "data": {
      "text/plain": [
       " lag Autocorrelation D-W Statistic p-value\n",
       "   1     -0.08248143      2.071356    0.83\n",
       "   2      0.27009200      1.338201    0.21\n",
       " Alternative hypothesis: rho[lag] != 0"
      ]
     },
     "metadata": {},
     "output_type": "display_data"
    }
   ],
   "source": [
    "# Autocorrelation\n",
    "library(car)\n",
    "durbinWatsonTest(my_lm, max.lag = 2)"
   ]
  },
  {
   "cell_type": "markdown",
   "id": "6905b543-53e0-404f-8782-9354e60c8ea4",
   "metadata": {},
   "source": [
    "## Summary of model"
   ]
  },
  {
   "cell_type": "code",
   "execution_count": 13,
   "id": "93a4ef42-ad15-46a7-a428-aca1b9b2d640",
   "metadata": {},
   "outputs": [
    {
     "data": {
      "text/plain": [
       "\n",
       "Call:\n",
       "lm(formula = Weight ~ Height, data = df)\n",
       "\n",
       "Residuals:\n",
       "     Min       1Q   Median       3Q      Max \n",
       "-17.6807  -6.0642   0.5115   9.2846  18.3698 \n",
       "\n",
       "Coefficients:\n",
       "             Estimate Std. Error t value Pr(>|t|)    \n",
       "(Intercept) -143.0269    32.2746  -4.432 0.000366 ***\n",
       "Height         3.8990     0.5161   7.555 7.89e-07 ***\n",
       "---\n",
       "Signif. codes:  0 '***' 0.001 '**' 0.01 '*' 0.05 '.' 0.1 ' ' 1\n",
       "\n",
       "Residual standard error: 11.23 on 17 degrees of freedom\n",
       "Multiple R-squared:  0.7705,\tAdjusted R-squared:  0.757 \n",
       "F-statistic: 57.08 on 1 and 17 DF,  p-value: 7.887e-07\n"
      ]
     },
     "metadata": {},
     "output_type": "display_data"
    }
   ],
   "source": [
    "summary(my_lm)"
   ]
  },
  {
   "cell_type": "code",
   "execution_count": 14,
   "id": "3cd88ea2-86eb-4cb2-af1a-0f9f053dfa0c",
   "metadata": {},
   "outputs": [
    {
     "data": {
      "text/html": [
       "<table class=\"dataframe\">\n",
       "<caption>A tibble: 1 × 12</caption>\n",
       "<thead>\n",
       "\t<tr><th scope=col>r.squared</th><th scope=col>adj.r.squared</th><th scope=col>sigma</th><th scope=col>statistic</th><th scope=col>p.value</th><th scope=col>df</th><th scope=col>logLik</th><th scope=col>AIC</th><th scope=col>BIC</th><th scope=col>deviance</th><th scope=col>df.residual</th><th scope=col>nobs</th></tr>\n",
       "\t<tr><th scope=col>&lt;dbl&gt;</th><th scope=col>&lt;dbl&gt;</th><th scope=col>&lt;dbl&gt;</th><th scope=col>&lt;dbl&gt;</th><th scope=col>&lt;dbl&gt;</th><th scope=col>&lt;dbl&gt;</th><th scope=col>&lt;dbl&gt;</th><th scope=col>&lt;dbl&gt;</th><th scope=col>&lt;dbl&gt;</th><th scope=col>&lt;dbl&gt;</th><th scope=col>&lt;int&gt;</th><th scope=col>&lt;int&gt;</th></tr>\n",
       "</thead>\n",
       "<tbody>\n",
       "\t<tr><td>0.7705068</td><td>0.7570072</td><td>11.22625</td><td>57.07628</td><td>7.886816e-07</td><td>1</td><td>-71.85003</td><td>149.7001</td><td>152.5334</td><td>2142.488</td><td>17</td><td>19</td></tr>\n",
       "</tbody>\n",
       "</table>\n"
      ],
      "text/latex": [
       "A tibble: 1 × 12\n",
       "\\begin{tabular}{llllllllllll}\n",
       " r.squared & adj.r.squared & sigma & statistic & p.value & df & logLik & AIC & BIC & deviance & df.residual & nobs\\\\\n",
       " <dbl> & <dbl> & <dbl> & <dbl> & <dbl> & <dbl> & <dbl> & <dbl> & <dbl> & <dbl> & <int> & <int>\\\\\n",
       "\\hline\n",
       "\t 0.7705068 & 0.7570072 & 11.22625 & 57.07628 & 7.886816e-07 & 1 & -71.85003 & 149.7001 & 152.5334 & 2142.488 & 17 & 19\\\\\n",
       "\\end{tabular}\n"
      ],
      "text/markdown": [
       "\n",
       "A tibble: 1 × 12\n",
       "\n",
       "| r.squared &lt;dbl&gt; | adj.r.squared &lt;dbl&gt; | sigma &lt;dbl&gt; | statistic &lt;dbl&gt; | p.value &lt;dbl&gt; | df &lt;dbl&gt; | logLik &lt;dbl&gt; | AIC &lt;dbl&gt; | BIC &lt;dbl&gt; | deviance &lt;dbl&gt; | df.residual &lt;int&gt; | nobs &lt;int&gt; |\n",
       "|---|---|---|---|---|---|---|---|---|---|---|---|\n",
       "| 0.7705068 | 0.7570072 | 11.22625 | 57.07628 | 7.886816e-07 | 1 | -71.85003 | 149.7001 | 152.5334 | 2142.488 | 17 | 19 |\n",
       "\n"
      ],
      "text/plain": [
       "  r.squared adj.r.squared sigma    statistic p.value      df logLik    AIC     \n",
       "1 0.7705068 0.7570072     11.22625 57.07628  7.886816e-07 1  -71.85003 149.7001\n",
       "  BIC      deviance df.residual nobs\n",
       "1 152.5334 2142.488 17          19  "
      ]
     },
     "metadata": {},
     "output_type": "display_data"
    }
   ],
   "source": [
    "glance(my_lm)"
   ]
  },
  {
   "cell_type": "code",
   "execution_count": 15,
   "id": "234e3bb6-c174-414a-89b5-b2a793b29c07",
   "metadata": {},
   "outputs": [
    {
     "data": {
      "text/html": [
       "<table class=\"dataframe\">\n",
       "<caption>A tibble: 2 × 5</caption>\n",
       "<thead>\n",
       "\t<tr><th scope=col>term</th><th scope=col>estimate</th><th scope=col>std.error</th><th scope=col>statistic</th><th scope=col>p.value</th></tr>\n",
       "\t<tr><th scope=col>&lt;chr&gt;</th><th scope=col>&lt;dbl&gt;</th><th scope=col>&lt;dbl&gt;</th><th scope=col>&lt;dbl&gt;</th><th scope=col>&lt;dbl&gt;</th></tr>\n",
       "</thead>\n",
       "<tbody>\n",
       "\t<tr><td>(Intercept)</td><td>-143.02692</td><td>32.2745913</td><td>-4.431564</td><td>3.655789e-04</td></tr>\n",
       "\t<tr><td>Height     </td><td>   3.89903</td><td> 0.5160939</td><td> 7.554885</td><td>7.886816e-07</td></tr>\n",
       "</tbody>\n",
       "</table>\n"
      ],
      "text/latex": [
       "A tibble: 2 × 5\n",
       "\\begin{tabular}{lllll}\n",
       " term & estimate & std.error & statistic & p.value\\\\\n",
       " <chr> & <dbl> & <dbl> & <dbl> & <dbl>\\\\\n",
       "\\hline\n",
       "\t (Intercept) & -143.02692 & 32.2745913 & -4.431564 & 3.655789e-04\\\\\n",
       "\t Height      &    3.89903 &  0.5160939 &  7.554885 & 7.886816e-07\\\\\n",
       "\\end{tabular}\n"
      ],
      "text/markdown": [
       "\n",
       "A tibble: 2 × 5\n",
       "\n",
       "| term &lt;chr&gt; | estimate &lt;dbl&gt; | std.error &lt;dbl&gt; | statistic &lt;dbl&gt; | p.value &lt;dbl&gt; |\n",
       "|---|---|---|---|---|\n",
       "| (Intercept) | -143.02692 | 32.2745913 | -4.431564 | 3.655789e-04 |\n",
       "| Height      |    3.89903 |  0.5160939 |  7.554885 | 7.886816e-07 |\n",
       "\n"
      ],
      "text/plain": [
       "  term        estimate   std.error  statistic p.value     \n",
       "1 (Intercept) -143.02692 32.2745913 -4.431564 3.655789e-04\n",
       "2 Height         3.89903  0.5160939  7.554885 7.886816e-07"
      ]
     },
     "metadata": {},
     "output_type": "display_data"
    }
   ],
   "source": [
    "tidy(my_lm)"
   ]
  },
  {
   "cell_type": "code",
   "execution_count": null,
   "id": "d7093604-6b2b-47b6-b966-6e3755c87e51",
   "metadata": {},
   "outputs": [],
   "source": []
  }
 ],
 "metadata": {
  "kernelspec": {
   "display_name": "R 4.3.2",
   "language": "R",
   "name": "ir432"
  },
  "language_info": {
   "codemirror_mode": "r",
   "file_extension": ".r",
   "mimetype": "text/x-r-source",
   "name": "R",
   "pygments_lexer": "r",
   "version": "4.3.2"
  }
 },
 "nbformat": 4,
 "nbformat_minor": 5
}
