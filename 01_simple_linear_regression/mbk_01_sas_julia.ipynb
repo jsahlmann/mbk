{
 "cells": [
  {
   "cell_type": "markdown",
   "id": "df8091c6-2036-476c-b540-77db13c8369e",
   "metadata": {},
   "source": [
    "# 01 - Simple linear regression"
   ]
  },
  {
   "cell_type": "markdown",
   "id": "8cf7dd5a-4d82-471f-8a41-39e05dbdde32",
   "metadata": {},
   "source": [
    "## Data"
   ]
  },
  {
   "cell_type": "markdown",
   "id": "f4874aaa-1498-44be-8371-053af86b4735",
   "metadata": {},
   "source": [
    "Source of data: SAS Help\n",
    "\n",
    "Data set class.csv"
   ]
  },
  {
   "cell_type": "code",
   "execution_count": 26,
   "id": "09e0948e-f67e-4798-8b78-888edfcf8a78",
   "metadata": {},
   "outputs": [
    {
     "name": "stdout",
     "output_type": "stream",
     "text": [
      "\u001b[1m5×5 DataFrame\u001b[0m\n",
      "\u001b[1m Row \u001b[0m│\u001b[1m Name    \u001b[0m\u001b[1m Sex     \u001b[0m\u001b[1m Age   \u001b[0m\u001b[1m Height  \u001b[0m\u001b[1m Weight  \u001b[0m\n",
      "     │\u001b[90m String7 \u001b[0m\u001b[90m String1 \u001b[0m\u001b[90m Int64 \u001b[0m\u001b[90m Float64 \u001b[0m\u001b[90m Float64 \u001b[0m\n",
      "─────┼───────────────────────────────────────────\n",
      "   1 │ Alfred   M           14     69.0    112.5\n",
      "   2 │ Alice    F           13     56.5     84.0\n",
      "   3 │ Barbara  F           13     65.3     98.0\n",
      "   4 │ Carol    F           14     62.8    102.5\n",
      "   5 │ Henry    M           14     63.5    102.5"
     ]
    }
   ],
   "source": [
    "# import packages for handling csv files and dataframes\n",
    "using CSV\n",
    "using DataFrames\n",
    "\n",
    "df_class = CSV.read(\"data/class.csv\", DataFrame)\n",
    "\n",
    "print(first(df_class, 5))\n"
   ]
  },
  {
   "cell_type": "markdown",
   "id": "5e3e5853-4e74-43f7-b9fb-f9a42816fcad",
   "metadata": {},
   "source": [
    "## SAS program snippet"
   ]
  },
  {
   "cell_type": "markdown",
   "id": "72a25d47-c22e-4226-89b2-8e8625f61f8c",
   "metadata": {},
   "source": [
    "The following SAS code will be executed."
   ]
  },
  {
   "cell_type": "raw",
   "id": "b171d2d0-81ef-41e8-8987-5c68601be412",
   "metadata": {},
   "source": [
    "proc reg data=sashelp.class;\n",
    "   model Weight = Height;\n",
    "run;\n"
   ]
  },
  {
   "cell_type": "markdown",
   "id": "3ea3f0b4-b8e4-479b-b6c2-82ed27c2234e",
   "metadata": {},
   "source": [
    "## Julia chunk\n",
    "\n",
    "Packages will be loaded in the chunk where they are first needed."
   ]
  },
  {
   "cell_type": "markdown",
   "id": "9ffdb8a1-f438-4884-b0b5-ad88a8d40b10",
   "metadata": {},
   "source": [
    "A similar Julia program might look like this. It uses the lm() function."
   ]
  },
  {
   "cell_type": "code",
   "execution_count": 27,
   "id": "56dbc679-3d64-4b65-9bb7-4a59c4f6fda9",
   "metadata": {},
   "outputs": [
    {
     "name": "stdout",
     "output_type": "stream",
     "text": [
      "StatsModels.TableRegressionModel{LinearModel{GLM.LmResp{Vector{Float64}}, GLM.DensePredChol{Float64, LinearAlgebra.CholeskyPivoted{Float64, Matrix{Float64}, Vector{Int64}}}}, Matrix{Float64}}\n",
      "\n",
      "Weight ~ 1 + Height\n",
      "\n",
      "Coefficients:\n",
      "───────────────────────────────────────────────────────────────────────────\n",
      "                  Coef.  Std. Error      t  Pr(>|t|)   Lower 95%  Upper 95%\n",
      "───────────────────────────────────────────────────────────────────────────\n",
      "(Intercept)  -143.027     32.2746    -4.43    0.0004  -211.12     -74.9335\n",
      "Height          3.89903    0.516094   7.55    <1e-06     2.81017    4.98789\n",
      "───────────────────────────────────────────────────────────────────────────"
     ]
    }
   ],
   "source": [
    "using GLM, StatsBase\n",
    "\n",
    "# Linear regression using lm()\n",
    "ols = lm(@formula(Weight ~ Height), df_class)\n",
    "print(ols)\n"
   ]
  },
  {
   "cell_type": "markdown",
   "id": "5fcf9f00-3a07-4e34-805c-de0f95d4d76a",
   "metadata": {},
   "source": [
    "## Results"
   ]
  },
  {
   "cell_type": "markdown",
   "id": "3d365e27-c7c5-4936-90db-8392fae3a124",
   "metadata": {},
   "source": [
    "The output is divided into blocks to explain it and to reproduce it afterwards in the different languages."
   ]
  },
  {
   "cell_type": "markdown",
   "id": "40ce206b-826d-42c6-bc39-c588864d99b7",
   "metadata": {},
   "source": [
    "### Block 1\n",
    "![Block 1](img_screenshots/block_1.png)"
   ]
  },
  {
   "cell_type": "markdown",
   "id": "1b3d8b8a-b025-4482-8d09-639f9614bc79",
   "metadata": {},
   "source": [
    "Number of observations read is the number of observations in the dataset.\n",
    "\n",
    "Number of observation used is the number of complete cases regarding the variables used for the SAS program snippet."
   ]
  },
  {
   "cell_type": "markdown",
   "id": "eb8c1430-350a-4d55-be6d-40aa1e03f17a",
   "metadata": {},
   "source": [
    "### Julia chunk for reproduction"
   ]
  },
  {
   "cell_type": "code",
   "execution_count": 28,
   "id": "99c46f41-18ae-4e8b-bd65-2ca8e3e2da55",
   "metadata": {},
   "outputs": [
    {
     "name": "stdout",
     "output_type": "stream",
     "text": [
      "19\n",
      "19\n",
      "19\n"
     ]
    }
   ],
   "source": [
    "# Number of rows in dataframe\n",
    "print(nrow(df_class))\n",
    "print(\"\\r\\n\")\n",
    "# or\n",
    "print(size(df_class, 1))\n",
    "print(\"\\r\\n\")\n",
    "# remove missings\n",
    "df_complete = dropmissing(df_class, [:\"Height\", :\"Weight\"])\n",
    "print(nrow(df_complete))\n",
    "print(\"\\r\\n\")\n"
   ]
  },
  {
   "cell_type": "markdown",
   "id": "3843f175-7b59-4bde-94b0-09c2af18d56f",
   "metadata": {},
   "source": [
    "The number of observations is the number of rows in the dataset.\n",
    "\n",
    "The number of observations used is either the number of complete cases regarding the variables in the model or the number returned from the nobs() function.\n"
   ]
  },
  {
   "cell_type": "markdown",
   "id": "09f48c70-5dd6-4e6a-984e-6ed29408f555",
   "metadata": {},
   "source": [
    "### Block 2\n",
    "![Block 2](img_screenshots/block_2.png)"
   ]
  },
  {
   "cell_type": "markdown",
   "id": "49effba1-d7b9-44bd-9e51-8ae12c6bd8d0",
   "metadata": {},
   "source": [
    "An analysis of variance was performed for the data.\n",
    "\n",
    "#### Source\n",
    "The column source in this table presents the sources of variance. They are divided into\n",
    "\n",
    "-  Model,\n",
    "-  Residual, and\n",
    "-  Total.\n",
    "\n",
    "Model stands for the variance which is explained by the independent variables.\n",
    "\n",
    "Total stands for the total variance which can be divided into the variance explained from the model and the variance not explained from the model called residual or error.\n",
    "\n",
    "Sum of squares of model plus sum of squares of error is equal to the total sum of squares.\n",
    "\n",
    "#### DF\n",
    "\n",
    "The degrees of freedom are calculated as follows:\n",
    "\n",
    "The df for total is the number of used observations minus one.\n",
    "\n",
    "The df for the total is the number of variables in the model minus one. The intercept is counting as one variable if not explicitely omitted.\n",
    "\n",
    "The for for the error is the difference of $df_{total} - df_{model}$.\n",
    "\n",
    "#### Sum of squares\n",
    "\n",
    "Calculation of sum squares might be added here later.\n",
    "\n",
    "It can be found in several other tutorials.\n",
    "\n",
    "#### Mean square\n",
    "\n",
    "The mean square is the sum of squares divided by the degrees of freedom.\n",
    "\n",
    "#### F-Value\n",
    "\n",
    "The F-value is the mean square model divided by the mean square error. The degrees of freedom are $df_{model}$ and $df_{error}$.\n",
    "\n",
    "#### Pr > F\n",
    "\n",
    "The null hypothesis tested is that there is no linear relationship between the independent and the dependent variables.\n",
    "\n",
    "The alternative hypothesis states that there is a linear relationship.\n"
   ]
  },
  {
   "cell_type": "markdown",
   "id": "694a8aed-30c6-47c8-a56f-5d5356a229c2",
   "metadata": {},
   "source": [
    "## Julia chunk for reproduction"
   ]
  },
  {
   "cell_type": "code",
   "execution_count": 29,
   "id": "48482943-13b7-445b-9194-5c668240f63b",
   "metadata": {},
   "outputs": [
    {
     "ename": "LoadError",
     "evalue": "UndefVarError: `Anova` not defined",
     "output_type": "error",
     "traceback": [
      "UndefVarError: `Anova` not defined",
      "",
      "Stacktrace:",
      " [1] top-level scope",
      "   @ In[29]:5"
     ]
    }
   ],
   "source": [
    "using ANOVA\n",
    "model = fit(LinearModel,\n",
    "            @formula(Weight ~ Height), \n",
    "            df_class)\n",
    "Anova(model)\n"
   ]
  },
  {
   "cell_type": "markdown",
   "id": "7527b5cb-47dc-4a6a-8db5-d5d3f35a8087",
   "metadata": {},
   "source": [
    "Package ANOVA.jl does not work in the way in which it is described in the manual"
   ]
  },
  {
   "cell_type": "markdown",
   "id": "c600c9a5-619f-4495-80e6-85c89a18877d",
   "metadata": {},
   "source": [
    "### Block 3\n",
    "![Block 3](img_screenshots/block_3.png)"
   ]
  },
  {
   "cell_type": "markdown",
   "id": "8db617ba-815b-4d44-9383-8c36320a9d04",
   "metadata": {},
   "source": [
    "### Root MSE\n",
    "\n",
    "Root MSE is the standard deviation of the error term.\n",
    "\n",
    "It is the square root of the mean square error (or residual).\n",
    "\n",
    "### Dependent mean\n",
    "\n",
    "The dependent mean is the mean of the dependent variable of those observations which were used and not omitted.\n",
    "\n",
    "### Coeff Var\n",
    "\n",
    "The coefficient of variation is the root MSE divided by the dependent mean. It is a measure of variation in the data.\n",
    "\n",
    "### R-square\n",
    "\n",
    "R-square is the proportion of the explained variance based on the total variance. Sum of square model divided by sum of square total.\n",
    "\n",
    "### Adj R-Sq\n",
    "\n",
    "Adjusted R-square adjusts for the relation between the number of variables (k) in the model and the number of observations (N) in the dataset.\n",
    "\n",
    "$R_{adj} = 1 – ((1 – Rsq)((N – 1) / (N – k – 1))$\n",
    "\n"
   ]
  },
  {
   "cell_type": "markdown",
   "id": "d07e7b4d-6230-4696-862c-25f05b043d7d",
   "metadata": {},
   "source": [
    "## Julia chunk for reproduction\n"
   ]
  },
  {
   "cell_type": "raw",
   "id": "3afdf21b-bf1f-40cd-98bf-229ea8cd86a8",
   "metadata": {},
   "source": [
    "# todo"
   ]
  },
  {
   "cell_type": "markdown",
   "id": "e76ff54b-9339-4c00-bb4e-c5deea17de63",
   "metadata": {},
   "source": [
    "### Block 4\n",
    "![Block 4](img_screenshots/block_4.png)"
   ]
  },
  {
   "cell_type": "markdown",
   "id": "7ab28463-dbe3-4148-911b-47780ee08a57",
   "metadata": {},
   "source": [
    "#### Variable\n",
    "\n",
    "This column refers to the name of the variable in the model.\n",
    "\n",
    "#### DF\n",
    "\n",
    "The degrees of freedom are one for continous and binary variable. For categorial variables they are equal to the number of levels minus.\n",
    "\n",
    "#### Parameter estimate\n",
    "\n",
    "This columns containts the values which are the $b_i$ in the model.\n",
    "\n",
    "$\\hat{y} = b_0 + b_1 * x_1 + b_2 * x_2 + ... + b_n * x_n$\n",
    "\n",
    "$Weight = -143.03 + 3.89 * Height$\n",
    "\n",
    "#### Standard error\n",
    "\n",
    "The standard errors are provided for each variable.\n",
    "\n",
    "They can be used for calculating the t-value: Parameter estimate divided by standard error.   \n",
    "\n",
    "#### t value\n",
    "\n",
    "The null hypothesis tested is that the coefficient is zero.\n",
    "\n",
    "The alternative hypothesis is that the coefficient is unequal to zero.\n",
    "\n",
    "#### Pr > |t|\n",
    "\n",
    "p is provided for a two-sided test. It can be divided by two for a one-sided test.\n"
   ]
  },
  {
   "cell_type": "markdown",
   "id": "6113b9c5-9483-4cac-a260-81d701dc6098",
   "metadata": {},
   "source": [
    "## Julia chunk for reproduction\n",
    "\n"
   ]
  },
  {
   "cell_type": "code",
   "execution_count": 30,
   "id": "f0d87f85-a483-46e3-b391-5b59c990b9f2",
   "metadata": {},
   "outputs": [
    {
     "data": {
      "text/plain": [
       "StatsModels.TableRegressionModel{LinearModel{GLM.LmResp{Vector{Float64}}, GLM.DensePredChol{Float64, LinearAlgebra.CholeskyPivoted{Float64, Matrix{Float64}, Vector{Int64}}}}, Matrix{Float64}}\n",
       "\n",
       "Weight ~ 1 + Height\n",
       "\n",
       "Coefficients:\n",
       "───────────────────────────────────────────────────────────────────────────\n",
       "                  Coef.  Std. Error      t  Pr(>|t|)   Lower 95%  Upper 95%\n",
       "───────────────────────────────────────────────────────────────────────────\n",
       "(Intercept)  -143.027     32.2746    -4.43    0.0004  -211.12     -74.9335\n",
       "Height          3.89903    0.516094   7.55    <1e-06     2.81017    4.98789\n",
       "───────────────────────────────────────────────────────────────────────────"
      ]
     },
     "execution_count": 30,
     "metadata": {},
     "output_type": "execute_result"
    }
   ],
   "source": [
    "model = fit(LinearModel,\n",
    "            @formula(Weight ~ Height), \n",
    "            df_class)\n",
    "model"
   ]
  },
  {
   "cell_type": "markdown",
   "id": "65a2a7af-4dc8-4df7-819c-44a0e426141a",
   "metadata": {},
   "source": [
    "Degrees of freedom are missing, but the other columns give the same results."
   ]
  }
 ],
 "metadata": {
  "kernelspec": {
   "display_name": "Julia 1.9.3",
   "language": "julia",
   "name": "julia-1.9"
  },
  "language_info": {
   "file_extension": ".jl",
   "mimetype": "application/julia",
   "name": "julia",
   "version": "1.9.3"
  }
 },
 "nbformat": 4,
 "nbformat_minor": 5
}
