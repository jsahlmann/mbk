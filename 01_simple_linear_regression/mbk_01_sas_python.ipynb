{
 "cells": [
  {
   "cell_type": "markdown",
   "id": "df8091c6-2036-476c-b540-77db13c8369e",
   "metadata": {},
   "source": [
    "# 01 - Simple linear regression"
   ]
  },
  {
   "cell_type": "markdown",
   "id": "8cf7dd5a-4d82-471f-8a41-39e05dbdde32",
   "metadata": {},
   "source": [
    "## Data"
   ]
  },
  {
   "cell_type": "markdown",
   "id": "f4874aaa-1498-44be-8371-053af86b4735",
   "metadata": {},
   "source": [
    "Source of data: SAS Help\n",
    "\n",
    "Data set class.csv"
   ]
  },
  {
   "cell_type": "code",
   "execution_count": 8,
   "id": "b14291b2-22b9-43d2-99c0-90ecc30f3702",
   "metadata": {},
   "outputs": [
    {
     "name": "stdout",
     "output_type": "stream",
     "text": [
      "        Sex  Age  Height  Weight\n",
      "Name                            \n",
      "Alfred    M   14    69.0   112.5\n",
      "Alice     F   13    56.5    84.0\n",
      "Barbara   F   13    65.3    98.0\n",
      "Carol     F   14    62.8   102.5\n",
      "Henry     M   14    63.5   102.5\n",
      "James     M   12    57.3    83.0\n",
      "Jane      F   12    59.8    84.5\n",
      "Janet     F   15    62.5   112.5\n",
      "Jeffrey   M   13    62.5    84.0\n",
      "John      M   12    59.0    99.5\n"
     ]
    }
   ],
   "source": [
    "# Load pandas\n",
    "import pandas as pd\n",
    "\n",
    "# Read CSV file into DataFrame df\n",
    "df_class = pd.read_csv('data/class.csv', index_col=0)\n",
    "\n",
    "# Show dataframe\n",
    "print(df_class.head(n = 10))\n",
    "\n",
    "# class could not be used as a dataframe name because it is a reserved word."
   ]
  },
  {
   "cell_type": "markdown",
   "id": "5e3e5853-4e74-43f7-b9fb-f9a42816fcad",
   "metadata": {},
   "source": [
    "## SAS program snippet"
   ]
  },
  {
   "cell_type": "markdown",
   "id": "72a25d47-c22e-4226-89b2-8e8625f61f8c",
   "metadata": {},
   "source": [
    "The following SAS code will be executed."
   ]
  },
  {
   "cell_type": "raw",
   "id": "b171d2d0-81ef-41e8-8987-5c68601be412",
   "metadata": {},
   "source": [
    "proc reg data=sashelp.class;\n",
    "   model Weight = Height;\n",
    "run;\n"
   ]
  },
  {
   "cell_type": "markdown",
   "id": "3ea3f0b4-b8e4-479b-b6c2-82ed27c2234e",
   "metadata": {},
   "source": [
    "## Python chunk\n",
    "\n",
    "Modules will be loaded in the chunk where they are first needed."
   ]
  },
  {
   "cell_type": "markdown",
   "id": "9ffdb8a1-f438-4884-b0b5-ad88a8d40b10",
   "metadata": {},
   "source": [
    "A similar python program might look like this. It uses the lm() function.\n",
    "\n",
    "The tidy() function from the broom-packages formats the output into a tibble for easier processing."
   ]
  },
  {
   "cell_type": "code",
   "execution_count": 9,
   "id": "56dbc679-3d64-4b65-9bb7-4a59c4f6fda9",
   "metadata": {},
   "outputs": [
    {
     "name": "stdout",
     "output_type": "stream",
     "text": [
      "                            OLS Regression Results                            \n",
      "==============================================================================\n",
      "Dep. Variable:                      y   R-squared:                       0.771\n",
      "Model:                            OLS   Adj. R-squared:                  0.757\n",
      "Method:                 Least Squares   F-statistic:                     57.08\n",
      "Date:                Sat, 17 Feb 2024   Prob (F-statistic):           7.89e-07\n",
      "Time:                        16:25:22   Log-Likelihood:                -71.850\n",
      "No. Observations:                  19   AIC:                             147.7\n",
      "Df Residuals:                      17   BIC:                             149.6\n",
      "Df Model:                           1                                         \n",
      "Covariance Type:            nonrobust                                         \n",
      "==============================================================================\n",
      "                 coef    std err          t      P>|t|      [0.025      0.975]\n",
      "------------------------------------------------------------------------------\n",
      "const       -143.0269     32.275     -4.432      0.000    -211.120     -74.933\n",
      "x1             3.8990      0.516      7.555      0.000       2.810       4.988\n",
      "==============================================================================\n",
      "Omnibus:                        1.303   Durbin-Watson:                   2.071\n",
      "Prob(Omnibus):                  0.521   Jarque-Bera (JB):                0.838\n",
      "Skew:                          -0.020   Prob(JB):                        0.658\n",
      "Kurtosis:                       1.972   Cond. No.                         784.\n",
      "==============================================================================\n",
      "\n",
      "Notes:\n",
      "[1] Standard Errors assume that the covariance matrix of the errors is correctly specified.\n"
     ]
    },
    {
     "name": "stderr",
     "output_type": "stream",
     "text": [
      "C:\\Users\\user\\AppData\\Roaming\\Python\\Python312\\site-packages\\scipy\\stats\\_stats_py.py:1806: UserWarning: kurtosistest only valid for n>=20 ... continuing anyway, n=19\n",
      "  warnings.warn(\"kurtosistest only valid for n>=20 ... continuing \"\n"
     ]
    }
   ],
   "source": [
    "import numpy as np\n",
    "import statsmodels.api as sm\n",
    "\n",
    "x = np.array(df_class[\"Height\"]).reshape((-1, 1))\n",
    "y = np.array(df_class[\"Weight\"])\n",
    "\n",
    "x = sm.add_constant(x)\n",
    "\n",
    "model = sm.OLS(y, x)\n",
    "results = model.fit()\n",
    "print(results.summary())\n"
   ]
  },
  {
   "cell_type": "markdown",
   "id": "5fcf9f00-3a07-4e34-805c-de0f95d4d76a",
   "metadata": {},
   "source": [
    "## Results"
   ]
  },
  {
   "cell_type": "markdown",
   "id": "3d365e27-c7c5-4936-90db-8392fae3a124",
   "metadata": {},
   "source": [
    "The output is divided into blocks to explain it and to reproduce it afterwards in the different languages."
   ]
  },
  {
   "cell_type": "markdown",
   "id": "40ce206b-826d-42c6-bc39-c588864d99b7",
   "metadata": {},
   "source": [
    "### Block 1\n",
    "![Block 1](img_screenshots/block_1.png)"
   ]
  },
  {
   "cell_type": "markdown",
   "id": "1b3d8b8a-b025-4482-8d09-639f9614bc79",
   "metadata": {},
   "source": [
    "Number of observations read is the number of observations in the dataset.\n",
    "\n",
    "Number of observation used is the number of complete cases regarding the variables used for the SAS program snippet."
   ]
  },
  {
   "cell_type": "markdown",
   "id": "eb8c1430-350a-4d55-be6d-40aa1e03f17a",
   "metadata": {},
   "source": [
    "### Python chunk for reproduction"
   ]
  },
  {
   "cell_type": "code",
   "execution_count": 10,
   "id": "c19273dc-09cf-40d0-8562-db1349ccc7ed",
   "metadata": {},
   "outputs": [
    {
     "name": "stdout",
     "output_type": "stream",
     "text": [
      "(19, 4)\n",
      "19.0\n"
     ]
    }
   ],
   "source": [
    "# Number of observations in dataframe\n",
    "# (rows, columns)\n",
    "print(df_class.shape)\n",
    "# Number of observations used\n",
    "print(results.nobs)"
   ]
  },
  {
   "cell_type": "markdown",
   "id": "3843f175-7b59-4bde-94b0-09c2af18d56f",
   "metadata": {},
   "source": [
    "The number of observations is the number of rows in the dataset.\n",
    "\n",
    "The number of observations used is the number returned from the nobs property.\n"
   ]
  },
  {
   "cell_type": "markdown",
   "id": "09f48c70-5dd6-4e6a-984e-6ed29408f555",
   "metadata": {},
   "source": [
    "### Block 2\n",
    "![Block 2](img_screenshots/block_2.png)"
   ]
  },
  {
   "cell_type": "markdown",
   "id": "49effba1-d7b9-44bd-9e51-8ae12c6bd8d0",
   "metadata": {},
   "source": [
    "An analysis of variance was performed for the data.\n",
    "\n",
    "#### Source\n",
    "The column source in this table presents the sources of variance. They are divided into\n",
    "\n",
    "-  Model,\n",
    "-  Residual, and\n",
    "-  Total.\n",
    "\n",
    "Model stands for the variance which is explained by the independent variables.\n",
    "\n",
    "Total stands for the total variance which can be divided into the variance explained from the model and the variance not explained from the model called residual or error.\n",
    "\n",
    "Sum of squares of model plus sum of squares of error is equal to the total sum of squares.\n",
    "\n",
    "#### DF\n",
    "\n",
    "The degrees of freedom are calculated as follows:\n",
    "\n",
    "The df for total is the number of used observations minus one.\n",
    "\n",
    "The df for the total is the number of variables in the model minus one. The intercept is counting as one variable if not explicitely omitted.\n",
    "\n",
    "The for for the error is the difference of $df_{total} - df_{model}$.\n",
    "\n",
    "#### Sum of squares\n",
    "\n",
    "Calculation of sum squares might be added here later.\n",
    "\n",
    "It can be found in several other tutorials.\n",
    "\n",
    "#### Mean square\n",
    "\n",
    "The mean square is the sum of squares divided by the degrees of freedom.\n",
    "\n",
    "#### F-Value\n",
    "\n",
    "The F-value is the mean square model divided by the mean square error. The degrees of freedom are $df_{model}$ and $df_{error}$.\n",
    "\n",
    "#### Pr > F\n",
    "\n",
    "The null hypothesis tested is that there is no linear relationship between the independent and the dependent variables.\n",
    "\n",
    "The alternative hypothesis states that there is a linear relationship.\n"
   ]
  },
  {
   "cell_type": "markdown",
   "id": "694a8aed-30c6-47c8-a56f-5d5356a229c2",
   "metadata": {},
   "source": [
    "## Python chunk for reproduction"
   ]
  },
  {
   "cell_type": "code",
   "execution_count": 11,
   "id": "d12cbf74-bc6f-41f8-af9f-0f264a1bb362",
   "metadata": {},
   "outputs": [
    {
     "name": "stdout",
     "output_type": "stream",
     "text": [
      "               sum_sq    df          F        PR(>F)\n",
      "Height    7193.249119   1.0  57.076283  7.886816e-07\n",
      "Residual  2142.487723  17.0        NaN           NaN\n"
     ]
    }
   ],
   "source": [
    "import statsmodels.api as sm\n",
    "from statsmodels.formula.api import ols\n",
    "\n",
    "mod = ols('Weight ~ Height',\n",
    "                data=df_class).fit()\n",
    "                \n",
    "aov_table = sm.stats.anova_lm(mod, typ=2)\n",
    "print(aov_table)"
   ]
  },
  {
   "cell_type": "markdown",
   "id": "fd5098d7-cab0-4785-8fae-7a21b969bbe6",
   "metadata": {},
   "source": [
    "Error here is called residuals.\n",
    "\n",
    "The column with the mean square is missing. It can be calculated as the difference between the sum of squares and the degrees of freedom.\n",
    "\n",
    "The row with the total is missing. It could be appended easily as the sum of the df column and as the sum of the sum of squares column.\n",
    "\n",
    "The columns and their contents are similar."
   ]
  },
  {
   "cell_type": "markdown",
   "id": "c600c9a5-619f-4495-80e6-85c89a18877d",
   "metadata": {},
   "source": [
    "### Block 3\n",
    "![Block 3](img_screenshots/block_3.png)"
   ]
  },
  {
   "cell_type": "markdown",
   "id": "8db617ba-815b-4d44-9383-8c36320a9d04",
   "metadata": {},
   "source": [
    "### Root MSE\n",
    "\n",
    "Root MSE is the standard deviation of the error term.\n",
    "\n",
    "It is the square root of the mean square error (or residual).\n",
    "\n",
    "### Dependent mean\n",
    "\n",
    "The dependent mean is the mean of the dependent variable of those observations which were used and not omitted.\n",
    "\n",
    "### Coeff Var\n",
    "\n",
    "The coefficient of variation is the root MSE divided by the dependent mean. It is a measure of variation in the data.\n",
    "\n",
    "### R-square\n",
    "\n",
    "R-square is the proportion of the explained variance based on the total variance. Sum of square model divided by sum of square total.\n",
    "\n",
    "### Adj R-Sq\n",
    "\n",
    "Adjusted R-square adjusts for the relation between the number of variables (k) in the model and the number of observations (N) in the dataset.\n",
    "\n",
    "$R_{adj} = 1 – ((1 – Rsq)((N – 1) / (N – k – 1))$\n",
    "\n"
   ]
  },
  {
   "cell_type": "markdown",
   "id": "d07e7b4d-6230-4696-862c-25f05b043d7d",
   "metadata": {},
   "source": [
    "## Python chunk for reproduction\n"
   ]
  },
  {
   "cell_type": "code",
   "execution_count": 12,
   "id": "6c487dfe-5105-4778-9ae3-627c0ad33055",
   "metadata": {},
   "outputs": [
    {
     "name": "stdout",
     "output_type": "stream",
     "text": [
      "                            OLS Regression Results                            \n",
      "==============================================================================\n",
      "Dep. Variable:                      y   R-squared:                       0.771\n",
      "Model:                            OLS   Adj. R-squared:                  0.757\n",
      "Method:                 Least Squares   F-statistic:                     57.08\n",
      "Date:                Sat, 17 Feb 2024   Prob (F-statistic):           7.89e-07\n",
      "Time:                        16:25:22   Log-Likelihood:                -71.850\n",
      "No. Observations:                  19   AIC:                             147.7\n",
      "Df Residuals:                      17   BIC:                             149.6\n",
      "Df Model:                           1                                         \n",
      "Covariance Type:            nonrobust                                         \n",
      "==============================================================================\n",
      "                 coef    std err          t      P>|t|      [0.025      0.975]\n",
      "------------------------------------------------------------------------------\n",
      "const       -143.0269     32.275     -4.432      0.000    -211.120     -74.933\n",
      "x1             3.8990      0.516      7.555      0.000       2.810       4.988\n",
      "==============================================================================\n",
      "Omnibus:                        1.303   Durbin-Watson:                   2.071\n",
      "Prob(Omnibus):                  0.521   Jarque-Bera (JB):                0.838\n",
      "Skew:                          -0.020   Prob(JB):                        0.658\n",
      "Kurtosis:                       1.972   Cond. No.                         784.\n",
      "==============================================================================\n",
      "\n",
      "Notes:\n",
      "[1] Standard Errors assume that the covariance matrix of the errors is correctly specified.\n"
     ]
    },
    {
     "name": "stderr",
     "output_type": "stream",
     "text": [
      "C:\\Users\\user\\AppData\\Roaming\\Python\\Python312\\site-packages\\scipy\\stats\\_stats_py.py:1806: UserWarning: kurtosistest only valid for n>=20 ... continuing anyway, n=19\n",
      "  warnings.warn(\"kurtosistest only valid for n>=20 ... continuing \"\n"
     ]
    }
   ],
   "source": [
    "model = sm.OLS(y, x)\n",
    "results = model.fit()\n",
    "print(results.summary())"
   ]
  },
  {
   "cell_type": "markdown",
   "id": "f763c20f-4769-458b-8aea-5841a30c22ac",
   "metadata": {},
   "source": [
    "The summary() function provides \n",
    "\n",
    "-  R-square: r.squared\n",
    "-  Adjusted R-Square: adj.r.squared\n",
    "\n",
    "Root mean square error (RMSE), dependent mean and Coeff Var can be calculated."
   ]
  },
  {
   "cell_type": "code",
   "execution_count": 13,
   "id": "dc8b318d-9063-4ae1-91e5-d51f9c81a892",
   "metadata": {},
   "outputs": [
    {
     "name": "stdout",
     "output_type": "stream",
     "text": [
      "Dependent Mean:  100.02631578947368\n",
      "(2, 4)\n",
      "<class 'pandas.core.frame.DataFrame'>\n",
      "RMSE:  11.226250024640356\n",
      "CoeffVar:  11.223296525554684\n"
     ]
    }
   ],
   "source": [
    "import math\n",
    "df_complete = df_class.dropna() \n",
    "DependentMean = df_complete.mean(numeric_only = True, axis = 0)[\"Weight\"]\n",
    "print(\"Dependent Mean: \", DependentMean)\n",
    "print(aov_table.shape)\n",
    "print(type(aov_table))\n",
    "# root of sum of squares divided by df\n",
    "RMSE = math.sqrt(aov_table.iloc[1, 0] / aov_table.iloc[1, 1])\n",
    "print(\"RMSE: \", RMSE)\n",
    "CoeffVar = RMSE / DependentMean * 100\n",
    "print(\"CoeffVar: \" , CoeffVar)\n"
   ]
  },
  {
   "cell_type": "markdown",
   "id": "e76ff54b-9339-4c00-bb4e-c5deea17de63",
   "metadata": {},
   "source": [
    "### Block 4\n",
    "![Block 4](img_screenshots/block_4.png)"
   ]
  },
  {
   "cell_type": "markdown",
   "id": "7ab28463-dbe3-4148-911b-47780ee08a57",
   "metadata": {},
   "source": [
    "#### Variable\n",
    "\n",
    "This column refers to the name of the variable in the model.\n",
    "\n",
    "#### DF\n",
    "\n",
    "The degrees of freedom are one for continous and binary variable. For categorial variables they are equal to the number of levels minus.\n",
    "\n",
    "#### Parameter estimate\n",
    "\n",
    "This columns containts the values which are the $b_i$ in the model.\n",
    "\n",
    "$\\hat{y} = b_0 + b_1 * x_1 + b_2 * x_2 + ... + b_n * x_n$\n",
    "\n",
    "$Weight = -143.03 + 3.89 * Height$\n",
    "\n",
    "#### Standard error\n",
    "\n",
    "The standard errors are provided for each variable.\n",
    "\n",
    "They can be used for calculating the t-value: Parameter estimate divided by standard error.   \n",
    "\n",
    "#### t value\n",
    "\n",
    "The null hypothesis tested is that the coefficient is zero.\n",
    "\n",
    "The alternative hypothesis is that the coefficient is unequal to zero.\n",
    "\n",
    "#### Pr > |t|\n",
    "\n",
    "p is provided for a two-sided test. It can be divided by two for a one-sided test.\n"
   ]
  },
  {
   "cell_type": "markdown",
   "id": "6113b9c5-9483-4cac-a260-81d701dc6098",
   "metadata": {},
   "source": [
    "## Python chunk for reproduction\n",
    "\n"
   ]
  },
  {
   "cell_type": "code",
   "execution_count": 14,
   "id": "2b6c2754-a7a7-4f5f-8f93-4927fab92467",
   "metadata": {},
   "outputs": [
    {
     "name": "stdout",
     "output_type": "stream",
     "text": [
      "                            OLS Regression Results                            \n",
      "==============================================================================\n",
      "Dep. Variable:                      y   R-squared:                       0.771\n",
      "Model:                            OLS   Adj. R-squared:                  0.757\n",
      "Method:                 Least Squares   F-statistic:                     57.08\n",
      "Date:                Sat, 17 Feb 2024   Prob (F-statistic):           7.89e-07\n",
      "Time:                        16:25:22   Log-Likelihood:                -71.850\n",
      "No. Observations:                  19   AIC:                             147.7\n",
      "Df Residuals:                      17   BIC:                             149.6\n",
      "Df Model:                           1                                         \n",
      "Covariance Type:            nonrobust                                         \n",
      "==============================================================================\n",
      "                 coef    std err          t      P>|t|      [0.025      0.975]\n",
      "------------------------------------------------------------------------------\n",
      "const       -143.0269     32.275     -4.432      0.000    -211.120     -74.933\n",
      "x1             3.8990      0.516      7.555      0.000       2.810       4.988\n",
      "==============================================================================\n",
      "Omnibus:                        1.303   Durbin-Watson:                   2.071\n",
      "Prob(Omnibus):                  0.521   Jarque-Bera (JB):                0.838\n",
      "Skew:                          -0.020   Prob(JB):                        0.658\n",
      "Kurtosis:                       1.972   Cond. No.                         784.\n",
      "==============================================================================\n",
      "\n",
      "Notes:\n",
      "[1] Standard Errors assume that the covariance matrix of the errors is correctly specified.\n"
     ]
    },
    {
     "name": "stderr",
     "output_type": "stream",
     "text": [
      "C:\\Users\\user\\AppData\\Roaming\\Python\\Python312\\site-packages\\scipy\\stats\\_stats_py.py:1806: UserWarning: kurtosistest only valid for n>=20 ... continuing anyway, n=19\n",
      "  warnings.warn(\"kurtosistest only valid for n>=20 ... continuing \"\n"
     ]
    }
   ],
   "source": [
    "model = sm.OLS(y, x)\n",
    "results = model.fit()\n",
    "print(results.summary())"
   ]
  },
  {
   "cell_type": "markdown",
   "id": "83701da5-79ac-499a-b629-6fd1eee17a17",
   "metadata": {},
   "source": [
    "The column with the degrees of freedom is missing.\n",
    "\n",
    "The other columns are similar.\n",
    "\n"
   ]
  },
  {
   "cell_type": "code",
   "execution_count": null,
   "id": "f34833b5-66f0-4a66-a52d-361def63fc05",
   "metadata": {},
   "outputs": [],
   "source": []
  }
 ],
 "metadata": {
  "kernelspec": {
   "display_name": "Python 3 (ipykernel)",
   "language": "python",
   "name": "python3"
  },
  "language_info": {
   "codemirror_mode": {
    "name": "ipython",
    "version": 3
   },
   "file_extension": ".py",
   "mimetype": "text/x-python",
   "name": "python",
   "nbconvert_exporter": "python",
   "pygments_lexer": "ipython3",
   "version": "3.12.1"
  }
 },
 "nbformat": 4,
 "nbformat_minor": 5
}
